{
  "cells": [
    {
      "cell_type": "markdown",
      "metadata": {
        "id": "view-in-github",
        "colab_type": "text"
      },
      "source": [
        "<a href=\"https://colab.research.google.com/github/AirNicco8/NLP_Assignments/blob/main/Assignment_2/Assignment_2_avg_bow.ipynb\" target=\"_parent\"><img src=\"https://colab.research.google.com/assets/colab-badge.svg\" alt=\"Open In Colab\"/></a>"
      ]
    },
    {
      "cell_type": "markdown",
      "metadata": {
        "id": "O1__yyNNQn6N"
      },
      "source": [
        "This model in particular uses:\n",
        "\n",
        "1. **Sentence Embedding** ->  Compute the sentence embedding as the mean of its token embeddings (bag of vectors).\n",
        "2.  **Input Merging** -> Mean: define the classification input as the mean of evidence and claim sentence embeddings\n",
        "\n"
      ]
    },
    {
      "cell_type": "markdown",
      "metadata": {
        "id": "SKbNqIih5VdB"
      },
      "source": [
        "# Imports"
      ]
    },
    {
      "cell_type": "code",
      "execution_count": 1,
      "metadata": {
        "id": "Nmb31h_K4TWl"
      },
      "outputs": [],
      "source": [
        "%load_ext tensorboard"
      ]
    },
    {
      "cell_type": "code",
      "execution_count": 2,
      "metadata": {
        "id": "BP0S6fNH4fTx",
        "colab": {
          "base_uri": "https://localhost:8080/"
        },
        "outputId": "7ad5381b-bd7f-4657-a43f-f8d240453b52"
      },
      "outputs": [
        {
          "output_type": "stream",
          "name": "stdout",
          "text": [
            "Collecting tensorflow-addons\n",
            "  Downloading tensorflow_addons-0.15.0-cp37-cp37m-manylinux_2_12_x86_64.manylinux2010_x86_64.whl (1.1 MB)\n",
            "\u001b[K     |████████████████████████████████| 1.1 MB 9.7 MB/s \n",
            "\u001b[?25hRequirement already satisfied: typeguard>=2.7 in /usr/local/lib/python3.7/dist-packages (from tensorflow-addons) (2.7.1)\n",
            "Installing collected packages: tensorflow-addons\n",
            "Successfully installed tensorflow-addons-0.15.0\n"
          ]
        }
      ],
      "source": [
        "!rm -rf ./logs/\n",
        "!pip install tensorflow-addons"
      ]
    },
    {
      "cell_type": "code",
      "execution_count": 3,
      "metadata": {
        "id": "NAkiMWm3nufu"
      },
      "outputs": [],
      "source": [
        "import os\n",
        "import datetime\n",
        "import requests\n",
        "import zipfile\n",
        "\n",
        "import pandas as pd\n",
        "import re\n",
        "import numpy as np\n",
        "\n",
        "import tensorflow as tf\n",
        "import tensorflow_addons as tfa\n",
        "from tensorflow import keras\n",
        "from tensorflow.keras import layers\n",
        "from keras.preprocessing.text import Tokenizer\n",
        "from keras.preprocessing.sequence import pad_sequences\n",
        "\n",
        "from keras.layers import LSTM, Bidirectional, TimeDistributed, Dense, InputLayer, Embedding, Activation\n",
        "from tensorflow.keras.optimizers import Adam, SGD\n",
        "from tensorflow.keras.metrics import BinaryAccuracy, Recall, Precision\n",
        "\n",
        "from sklearn.metrics import confusion_matrix\n",
        "from sklearn.metrics import classification_report"
      ]
    },
    {
      "cell_type": "code",
      "execution_count": 4,
      "metadata": {
        "id": "XbD-X1zZFvxl"
      },
      "outputs": [],
      "source": [
        "log_dir = \"logs/fit/\" + datetime.datetime.now().strftime(\"%Y%m%d-%H%M%S\")\n",
        "tensorboard_callback = tf.keras.callbacks.TensorBoard(log_dir=log_dir, histogram_freq=1)"
      ]
    },
    {
      "cell_type": "markdown",
      "metadata": {
        "id": "OWFUj3pN5j_n"
      },
      "source": [
        "# Dataset download & Splitting"
      ]
    },
    {
      "cell_type": "code",
      "execution_count": 5,
      "metadata": {
        "colab": {
          "base_uri": "https://localhost:8080/"
        },
        "id": "BspxZcRjW0NG",
        "outputId": "26044f96-8e29-420c-bee4-df9f5b6b7db9"
      },
      "outputs": [
        {
          "output_type": "stream",
          "name": "stdout",
          "text": [
            "Downloading FEVER data splits...\n",
            "Download completed!\n",
            "Extracting dataset...\n",
            "Extraction completed!\n"
          ]
        }
      ],
      "source": [
        "def save_response_content(response, destination):\n",
        "    CHUNK_SIZE = 32768\n",
        "\n",
        "    with open(destination, \"wb\") as f:\n",
        "        for chunk in response.iter_content(CHUNK_SIZE):\n",
        "            if chunk: # filter out keep-alive new chunks\n",
        "                f.write(chunk)\n",
        "\n",
        "def download_data(data_path):\n",
        "    toy_data_path = os.path.join(data_path, 'fever_data.zip')\n",
        "    toy_data_url_id = \"1wArZhF9_SHW17WKNGeLmX-QTYw9Zscl1\"\n",
        "    toy_url = \"https://docs.google.com/uc?export=download\"\n",
        "\n",
        "    if not os.path.exists(data_path):\n",
        "        os.makedirs(data_path)\n",
        "\n",
        "    if not os.path.exists(toy_data_path):\n",
        "        print(\"Downloading FEVER data splits...\")\n",
        "        with requests.Session() as current_session:\n",
        "            response = current_session.get(toy_url,\n",
        "                                   params={'id': toy_data_url_id},\n",
        "                                   stream=True)\n",
        "        save_response_content(response, toy_data_path)\n",
        "        print(\"Download completed!\")\n",
        "\n",
        "        print(\"Extracting dataset...\")\n",
        "        with zipfile.ZipFile(toy_data_path) as loaded_zip:\n",
        "            loaded_zip.extractall(data_path)\n",
        "        print(\"Extraction completed!\")\n",
        "\n",
        "download_data('dataset')"
      ]
    },
    {
      "cell_type": "code",
      "execution_count": 6,
      "metadata": {
        "id": "BS9sP7_fMHXu"
      },
      "outputs": [],
      "source": [
        "test_name = \"test_pairs.csv\"\n",
        "train_name = \"train_pairs.csv\"\n",
        "val_name = \"val_pairs.csv\"\n",
        "\n",
        "\n",
        "test_path = os.path.join(os.getcwd(), \"dataset\", test_name)\n",
        "train_path = os.path.join(os.getcwd(), \"dataset\", train_name)\n",
        "val_path = os.path.join(os.getcwd(), \"dataset\", val_name)\n",
        "\n",
        "test_pairs = pd.read_csv(test_path);\n",
        "train_pairs = pd.read_csv(train_path);\n",
        "val_pairs = pd.read_csv(val_path);"
      ]
    },
    {
      "cell_type": "code",
      "execution_count": 7,
      "metadata": {
        "colab": {
          "base_uri": "https://localhost:8080/",
          "height": 206
        },
        "id": "i2FJ9JDLOABf",
        "outputId": "7c06d403-5fed-4532-e508-e9110b4bf404"
      },
      "outputs": [
        {
          "output_type": "execute_result",
          "data": {
            "text/html": [
              "\n",
              "  <div id=\"df-48c84a3e-b090-46cd-9eb4-87fa2022363c\">\n",
              "    <div class=\"colab-df-container\">\n",
              "      <div>\n",
              "<style scoped>\n",
              "    .dataframe tbody tr th:only-of-type {\n",
              "        vertical-align: middle;\n",
              "    }\n",
              "\n",
              "    .dataframe tbody tr th {\n",
              "        vertical-align: top;\n",
              "    }\n",
              "\n",
              "    .dataframe thead th {\n",
              "        text-align: right;\n",
              "    }\n",
              "</style>\n",
              "<table border=\"1\" class=\"dataframe\">\n",
              "  <thead>\n",
              "    <tr style=\"text-align: right;\">\n",
              "      <th></th>\n",
              "      <th>Unnamed: 0</th>\n",
              "      <th>Claim</th>\n",
              "      <th>Evidence</th>\n",
              "      <th>ID</th>\n",
              "      <th>Label</th>\n",
              "    </tr>\n",
              "  </thead>\n",
              "  <tbody>\n",
              "    <tr>\n",
              "      <th>0</th>\n",
              "      <td>0</td>\n",
              "      <td>Chris Hemsworth appeared in A Perfect Getaway.</td>\n",
              "      <td>2\\tHemsworth has also appeared in the science ...</td>\n",
              "      <td>3</td>\n",
              "      <td>SUPPORTS</td>\n",
              "    </tr>\n",
              "    <tr>\n",
              "      <th>1</th>\n",
              "      <td>1</td>\n",
              "      <td>Roald Dahl is a writer.</td>\n",
              "      <td>0\\tRoald Dahl -LRB- -LSB- langpronˈroʊ.əld _ ˈ...</td>\n",
              "      <td>7</td>\n",
              "      <td>SUPPORTS</td>\n",
              "    </tr>\n",
              "    <tr>\n",
              "      <th>2</th>\n",
              "      <td>2</td>\n",
              "      <td>Roald Dahl is a governor.</td>\n",
              "      <td>0\\tRoald Dahl -LRB- -LSB- langpronˈroʊ.əld _ ˈ...</td>\n",
              "      <td>8</td>\n",
              "      <td>REFUTES</td>\n",
              "    </tr>\n",
              "    <tr>\n",
              "      <th>3</th>\n",
              "      <td>3</td>\n",
              "      <td>Ireland has relatively low-lying mountains.</td>\n",
              "      <td>10\\tThe island 's geography comprises relative...</td>\n",
              "      <td>9</td>\n",
              "      <td>SUPPORTS</td>\n",
              "    </tr>\n",
              "    <tr>\n",
              "      <th>4</th>\n",
              "      <td>4</td>\n",
              "      <td>Ireland does not have relatively low-lying mou...</td>\n",
              "      <td>10\\tThe island 's geography comprises relative...</td>\n",
              "      <td>10</td>\n",
              "      <td>REFUTES</td>\n",
              "    </tr>\n",
              "  </tbody>\n",
              "</table>\n",
              "</div>\n",
              "      <button class=\"colab-df-convert\" onclick=\"convertToInteractive('df-48c84a3e-b090-46cd-9eb4-87fa2022363c')\"\n",
              "              title=\"Convert this dataframe to an interactive table.\"\n",
              "              style=\"display:none;\">\n",
              "        \n",
              "  <svg xmlns=\"http://www.w3.org/2000/svg\" height=\"24px\"viewBox=\"0 0 24 24\"\n",
              "       width=\"24px\">\n",
              "    <path d=\"M0 0h24v24H0V0z\" fill=\"none\"/>\n",
              "    <path d=\"M18.56 5.44l.94 2.06.94-2.06 2.06-.94-2.06-.94-.94-2.06-.94 2.06-2.06.94zm-11 1L8.5 8.5l.94-2.06 2.06-.94-2.06-.94L8.5 2.5l-.94 2.06-2.06.94zm10 10l.94 2.06.94-2.06 2.06-.94-2.06-.94-.94-2.06-.94 2.06-2.06.94z\"/><path d=\"M17.41 7.96l-1.37-1.37c-.4-.4-.92-.59-1.43-.59-.52 0-1.04.2-1.43.59L10.3 9.45l-7.72 7.72c-.78.78-.78 2.05 0 2.83L4 21.41c.39.39.9.59 1.41.59.51 0 1.02-.2 1.41-.59l7.78-7.78 2.81-2.81c.8-.78.8-2.07 0-2.86zM5.41 20L4 18.59l7.72-7.72 1.47 1.35L5.41 20z\"/>\n",
              "  </svg>\n",
              "      </button>\n",
              "      \n",
              "  <style>\n",
              "    .colab-df-container {\n",
              "      display:flex;\n",
              "      flex-wrap:wrap;\n",
              "      gap: 12px;\n",
              "    }\n",
              "\n",
              "    .colab-df-convert {\n",
              "      background-color: #E8F0FE;\n",
              "      border: none;\n",
              "      border-radius: 50%;\n",
              "      cursor: pointer;\n",
              "      display: none;\n",
              "      fill: #1967D2;\n",
              "      height: 32px;\n",
              "      padding: 0 0 0 0;\n",
              "      width: 32px;\n",
              "    }\n",
              "\n",
              "    .colab-df-convert:hover {\n",
              "      background-color: #E2EBFA;\n",
              "      box-shadow: 0px 1px 2px rgba(60, 64, 67, 0.3), 0px 1px 3px 1px rgba(60, 64, 67, 0.15);\n",
              "      fill: #174EA6;\n",
              "    }\n",
              "\n",
              "    [theme=dark] .colab-df-convert {\n",
              "      background-color: #3B4455;\n",
              "      fill: #D2E3FC;\n",
              "    }\n",
              "\n",
              "    [theme=dark] .colab-df-convert:hover {\n",
              "      background-color: #434B5C;\n",
              "      box-shadow: 0px 1px 3px 1px rgba(0, 0, 0, 0.15);\n",
              "      filter: drop-shadow(0px 1px 2px rgba(0, 0, 0, 0.3));\n",
              "      fill: #FFFFFF;\n",
              "    }\n",
              "  </style>\n",
              "\n",
              "      <script>\n",
              "        const buttonEl =\n",
              "          document.querySelector('#df-48c84a3e-b090-46cd-9eb4-87fa2022363c button.colab-df-convert');\n",
              "        buttonEl.style.display =\n",
              "          google.colab.kernel.accessAllowed ? 'block' : 'none';\n",
              "\n",
              "        async function convertToInteractive(key) {\n",
              "          const element = document.querySelector('#df-48c84a3e-b090-46cd-9eb4-87fa2022363c');\n",
              "          const dataTable =\n",
              "            await google.colab.kernel.invokeFunction('convertToInteractive',\n",
              "                                                     [key], {});\n",
              "          if (!dataTable) return;\n",
              "\n",
              "          const docLinkHtml = 'Like what you see? Visit the ' +\n",
              "            '<a target=\"_blank\" href=https://colab.research.google.com/notebooks/data_table.ipynb>data table notebook</a>'\n",
              "            + ' to learn more about interactive tables.';\n",
              "          element.innerHTML = '';\n",
              "          dataTable['output_type'] = 'display_data';\n",
              "          await google.colab.output.renderOutput(dataTable, element);\n",
              "          const docLink = document.createElement('div');\n",
              "          docLink.innerHTML = docLinkHtml;\n",
              "          element.appendChild(docLink);\n",
              "        }\n",
              "      </script>\n",
              "    </div>\n",
              "  </div>\n",
              "  "
            ],
            "text/plain": [
              "   Unnamed: 0                                              Claim  ...  ID     Label\n",
              "0           0     Chris Hemsworth appeared in A Perfect Getaway.  ...   3  SUPPORTS\n",
              "1           1                            Roald Dahl is a writer.  ...   7  SUPPORTS\n",
              "2           2                          Roald Dahl is a governor.  ...   8   REFUTES\n",
              "3           3        Ireland has relatively low-lying mountains.  ...   9  SUPPORTS\n",
              "4           4  Ireland does not have relatively low-lying mou...  ...  10   REFUTES\n",
              "\n",
              "[5 rows x 5 columns]"
            ]
          },
          "metadata": {},
          "execution_count": 7
        }
      ],
      "source": [
        "train_pairs.head()"
      ]
    },
    {
      "cell_type": "code",
      "execution_count": 8,
      "metadata": {
        "colab": {
          "base_uri": "https://localhost:8080/",
          "height": 206
        },
        "id": "kzrgFOGXgkeV",
        "outputId": "523196de-638c-4135-8528-b28d0231008e"
      },
      "outputs": [
        {
          "output_type": "execute_result",
          "data": {
            "text/html": [
              "\n",
              "  <div id=\"df-c9796f46-c470-4756-a642-fe1dcf55bc0b\">\n",
              "    <div class=\"colab-df-container\">\n",
              "      <div>\n",
              "<style scoped>\n",
              "    .dataframe tbody tr th:only-of-type {\n",
              "        vertical-align: middle;\n",
              "    }\n",
              "\n",
              "    .dataframe tbody tr th {\n",
              "        vertical-align: top;\n",
              "    }\n",
              "\n",
              "    .dataframe thead th {\n",
              "        text-align: right;\n",
              "    }\n",
              "</style>\n",
              "<table border=\"1\" class=\"dataframe\">\n",
              "  <thead>\n",
              "    <tr style=\"text-align: right;\">\n",
              "      <th></th>\n",
              "      <th>Claim</th>\n",
              "      <th>Evidence</th>\n",
              "      <th>Label</th>\n",
              "    </tr>\n",
              "  </thead>\n",
              "  <tbody>\n",
              "    <tr>\n",
              "      <th>0</th>\n",
              "      <td>Chris Hemsworth appeared in A Perfect Getaway.</td>\n",
              "      <td>2\\tHemsworth has also appeared in the science ...</td>\n",
              "      <td>SUPPORTS</td>\n",
              "    </tr>\n",
              "    <tr>\n",
              "      <th>1</th>\n",
              "      <td>Roald Dahl is a writer.</td>\n",
              "      <td>0\\tRoald Dahl -LRB- -LSB- langpronˈroʊ.əld _ ˈ...</td>\n",
              "      <td>SUPPORTS</td>\n",
              "    </tr>\n",
              "    <tr>\n",
              "      <th>2</th>\n",
              "      <td>Roald Dahl is a governor.</td>\n",
              "      <td>0\\tRoald Dahl -LRB- -LSB- langpronˈroʊ.əld _ ˈ...</td>\n",
              "      <td>REFUTES</td>\n",
              "    </tr>\n",
              "    <tr>\n",
              "      <th>3</th>\n",
              "      <td>Ireland has relatively low-lying mountains.</td>\n",
              "      <td>10\\tThe island 's geography comprises relative...</td>\n",
              "      <td>SUPPORTS</td>\n",
              "    </tr>\n",
              "    <tr>\n",
              "      <th>4</th>\n",
              "      <td>Ireland does not have relatively low-lying mou...</td>\n",
              "      <td>10\\tThe island 's geography comprises relative...</td>\n",
              "      <td>REFUTES</td>\n",
              "    </tr>\n",
              "  </tbody>\n",
              "</table>\n",
              "</div>\n",
              "      <button class=\"colab-df-convert\" onclick=\"convertToInteractive('df-c9796f46-c470-4756-a642-fe1dcf55bc0b')\"\n",
              "              title=\"Convert this dataframe to an interactive table.\"\n",
              "              style=\"display:none;\">\n",
              "        \n",
              "  <svg xmlns=\"http://www.w3.org/2000/svg\" height=\"24px\"viewBox=\"0 0 24 24\"\n",
              "       width=\"24px\">\n",
              "    <path d=\"M0 0h24v24H0V0z\" fill=\"none\"/>\n",
              "    <path d=\"M18.56 5.44l.94 2.06.94-2.06 2.06-.94-2.06-.94-.94-2.06-.94 2.06-2.06.94zm-11 1L8.5 8.5l.94-2.06 2.06-.94-2.06-.94L8.5 2.5l-.94 2.06-2.06.94zm10 10l.94 2.06.94-2.06 2.06-.94-2.06-.94-.94-2.06-.94 2.06-2.06.94z\"/><path d=\"M17.41 7.96l-1.37-1.37c-.4-.4-.92-.59-1.43-.59-.52 0-1.04.2-1.43.59L10.3 9.45l-7.72 7.72c-.78.78-.78 2.05 0 2.83L4 21.41c.39.39.9.59 1.41.59.51 0 1.02-.2 1.41-.59l7.78-7.78 2.81-2.81c.8-.78.8-2.07 0-2.86zM5.41 20L4 18.59l7.72-7.72 1.47 1.35L5.41 20z\"/>\n",
              "  </svg>\n",
              "      </button>\n",
              "      \n",
              "  <style>\n",
              "    .colab-df-container {\n",
              "      display:flex;\n",
              "      flex-wrap:wrap;\n",
              "      gap: 12px;\n",
              "    }\n",
              "\n",
              "    .colab-df-convert {\n",
              "      background-color: #E8F0FE;\n",
              "      border: none;\n",
              "      border-radius: 50%;\n",
              "      cursor: pointer;\n",
              "      display: none;\n",
              "      fill: #1967D2;\n",
              "      height: 32px;\n",
              "      padding: 0 0 0 0;\n",
              "      width: 32px;\n",
              "    }\n",
              "\n",
              "    .colab-df-convert:hover {\n",
              "      background-color: #E2EBFA;\n",
              "      box-shadow: 0px 1px 2px rgba(60, 64, 67, 0.3), 0px 1px 3px 1px rgba(60, 64, 67, 0.15);\n",
              "      fill: #174EA6;\n",
              "    }\n",
              "\n",
              "    [theme=dark] .colab-df-convert {\n",
              "      background-color: #3B4455;\n",
              "      fill: #D2E3FC;\n",
              "    }\n",
              "\n",
              "    [theme=dark] .colab-df-convert:hover {\n",
              "      background-color: #434B5C;\n",
              "      box-shadow: 0px 1px 3px 1px rgba(0, 0, 0, 0.15);\n",
              "      filter: drop-shadow(0px 1px 2px rgba(0, 0, 0, 0.3));\n",
              "      fill: #FFFFFF;\n",
              "    }\n",
              "  </style>\n",
              "\n",
              "      <script>\n",
              "        const buttonEl =\n",
              "          document.querySelector('#df-c9796f46-c470-4756-a642-fe1dcf55bc0b button.colab-df-convert');\n",
              "        buttonEl.style.display =\n",
              "          google.colab.kernel.accessAllowed ? 'block' : 'none';\n",
              "\n",
              "        async function convertToInteractive(key) {\n",
              "          const element = document.querySelector('#df-c9796f46-c470-4756-a642-fe1dcf55bc0b');\n",
              "          const dataTable =\n",
              "            await google.colab.kernel.invokeFunction('convertToInteractive',\n",
              "                                                     [key], {});\n",
              "          if (!dataTable) return;\n",
              "\n",
              "          const docLinkHtml = 'Like what you see? Visit the ' +\n",
              "            '<a target=\"_blank\" href=https://colab.research.google.com/notebooks/data_table.ipynb>data table notebook</a>'\n",
              "            + ' to learn more about interactive tables.';\n",
              "          element.innerHTML = '';\n",
              "          dataTable['output_type'] = 'display_data';\n",
              "          await google.colab.output.renderOutput(dataTable, element);\n",
              "          const docLink = document.createElement('div');\n",
              "          docLink.innerHTML = docLinkHtml;\n",
              "          element.appendChild(docLink);\n",
              "        }\n",
              "      </script>\n",
              "    </div>\n",
              "  </div>\n",
              "  "
            ],
            "text/plain": [
              "                                               Claim  ...     Label\n",
              "0     Chris Hemsworth appeared in A Perfect Getaway.  ...  SUPPORTS\n",
              "1                            Roald Dahl is a writer.  ...  SUPPORTS\n",
              "2                          Roald Dahl is a governor.  ...   REFUTES\n",
              "3        Ireland has relatively low-lying mountains.  ...  SUPPORTS\n",
              "4  Ireland does not have relatively low-lying mou...  ...   REFUTES\n",
              "\n",
              "[5 rows x 3 columns]"
            ]
          },
          "metadata": {},
          "execution_count": 8
        }
      ],
      "source": [
        "train_set = train_pairs.drop(['Unnamed: 0', 'ID'], axis=1)\n",
        "train_set.head()"
      ]
    },
    {
      "cell_type": "code",
      "execution_count": 9,
      "metadata": {
        "colab": {
          "base_uri": "https://localhost:8080/",
          "height": 206
        },
        "id": "Yn7KFLNX_GxO",
        "outputId": "2a76cb21-8428-4637-bf80-2e26be390246"
      },
      "outputs": [
        {
          "output_type": "execute_result",
          "data": {
            "text/html": [
              "\n",
              "  <div id=\"df-ee476d45-9e91-44c5-884a-e79d184425e1\">\n",
              "    <div class=\"colab-df-container\">\n",
              "      <div>\n",
              "<style scoped>\n",
              "    .dataframe tbody tr th:only-of-type {\n",
              "        vertical-align: middle;\n",
              "    }\n",
              "\n",
              "    .dataframe tbody tr th {\n",
              "        vertical-align: top;\n",
              "    }\n",
              "\n",
              "    .dataframe thead th {\n",
              "        text-align: right;\n",
              "    }\n",
              "</style>\n",
              "<table border=\"1\" class=\"dataframe\">\n",
              "  <thead>\n",
              "    <tr style=\"text-align: right;\">\n",
              "      <th></th>\n",
              "      <th>Claim</th>\n",
              "      <th>Evidence</th>\n",
              "      <th>Label</th>\n",
              "    </tr>\n",
              "  </thead>\n",
              "  <tbody>\n",
              "    <tr>\n",
              "      <th>0</th>\n",
              "      <td>The Indian Army comprises part of the country'...</td>\n",
              "      <td>16\\tIt is an all-volunteer force and comprises...</td>\n",
              "      <td>SUPPORTS</td>\n",
              "    </tr>\n",
              "    <tr>\n",
              "      <th>1</th>\n",
              "      <td>Recovery features Rihanna.</td>\n",
              "      <td>6\\tEminem also collaborated with artists such ...</td>\n",
              "      <td>SUPPORTS</td>\n",
              "    </tr>\n",
              "    <tr>\n",
              "      <th>2</th>\n",
              "      <td>Rihanna is on Recovery.</td>\n",
              "      <td>6\\tEminem also collaborated with artists such ...</td>\n",
              "      <td>SUPPORTS</td>\n",
              "    </tr>\n",
              "    <tr>\n",
              "      <th>3</th>\n",
              "      <td>Philomena was nominated.</td>\n",
              "      <td>8\\tThe film was nominated in four categories a...</td>\n",
              "      <td>SUPPORTS</td>\n",
              "    </tr>\n",
              "    <tr>\n",
              "      <th>4</th>\n",
              "      <td>Vietnam is a mascot.</td>\n",
              "      <td>0\\tVietnam -LRB- ˌ ; -LSB- vîət nāːm -RSB- -RR...</td>\n",
              "      <td>REFUTES</td>\n",
              "    </tr>\n",
              "  </tbody>\n",
              "</table>\n",
              "</div>\n",
              "      <button class=\"colab-df-convert\" onclick=\"convertToInteractive('df-ee476d45-9e91-44c5-884a-e79d184425e1')\"\n",
              "              title=\"Convert this dataframe to an interactive table.\"\n",
              "              style=\"display:none;\">\n",
              "        \n",
              "  <svg xmlns=\"http://www.w3.org/2000/svg\" height=\"24px\"viewBox=\"0 0 24 24\"\n",
              "       width=\"24px\">\n",
              "    <path d=\"M0 0h24v24H0V0z\" fill=\"none\"/>\n",
              "    <path d=\"M18.56 5.44l.94 2.06.94-2.06 2.06-.94-2.06-.94-.94-2.06-.94 2.06-2.06.94zm-11 1L8.5 8.5l.94-2.06 2.06-.94-2.06-.94L8.5 2.5l-.94 2.06-2.06.94zm10 10l.94 2.06.94-2.06 2.06-.94-2.06-.94-.94-2.06-.94 2.06-2.06.94z\"/><path d=\"M17.41 7.96l-1.37-1.37c-.4-.4-.92-.59-1.43-.59-.52 0-1.04.2-1.43.59L10.3 9.45l-7.72 7.72c-.78.78-.78 2.05 0 2.83L4 21.41c.39.39.9.59 1.41.59.51 0 1.02-.2 1.41-.59l7.78-7.78 2.81-2.81c.8-.78.8-2.07 0-2.86zM5.41 20L4 18.59l7.72-7.72 1.47 1.35L5.41 20z\"/>\n",
              "  </svg>\n",
              "      </button>\n",
              "      \n",
              "  <style>\n",
              "    .colab-df-container {\n",
              "      display:flex;\n",
              "      flex-wrap:wrap;\n",
              "      gap: 12px;\n",
              "    }\n",
              "\n",
              "    .colab-df-convert {\n",
              "      background-color: #E8F0FE;\n",
              "      border: none;\n",
              "      border-radius: 50%;\n",
              "      cursor: pointer;\n",
              "      display: none;\n",
              "      fill: #1967D2;\n",
              "      height: 32px;\n",
              "      padding: 0 0 0 0;\n",
              "      width: 32px;\n",
              "    }\n",
              "\n",
              "    .colab-df-convert:hover {\n",
              "      background-color: #E2EBFA;\n",
              "      box-shadow: 0px 1px 2px rgba(60, 64, 67, 0.3), 0px 1px 3px 1px rgba(60, 64, 67, 0.15);\n",
              "      fill: #174EA6;\n",
              "    }\n",
              "\n",
              "    [theme=dark] .colab-df-convert {\n",
              "      background-color: #3B4455;\n",
              "      fill: #D2E3FC;\n",
              "    }\n",
              "\n",
              "    [theme=dark] .colab-df-convert:hover {\n",
              "      background-color: #434B5C;\n",
              "      box-shadow: 0px 1px 3px 1px rgba(0, 0, 0, 0.15);\n",
              "      filter: drop-shadow(0px 1px 2px rgba(0, 0, 0, 0.3));\n",
              "      fill: #FFFFFF;\n",
              "    }\n",
              "  </style>\n",
              "\n",
              "      <script>\n",
              "        const buttonEl =\n",
              "          document.querySelector('#df-ee476d45-9e91-44c5-884a-e79d184425e1 button.colab-df-convert');\n",
              "        buttonEl.style.display =\n",
              "          google.colab.kernel.accessAllowed ? 'block' : 'none';\n",
              "\n",
              "        async function convertToInteractive(key) {\n",
              "          const element = document.querySelector('#df-ee476d45-9e91-44c5-884a-e79d184425e1');\n",
              "          const dataTable =\n",
              "            await google.colab.kernel.invokeFunction('convertToInteractive',\n",
              "                                                     [key], {});\n",
              "          if (!dataTable) return;\n",
              "\n",
              "          const docLinkHtml = 'Like what you see? Visit the ' +\n",
              "            '<a target=\"_blank\" href=https://colab.research.google.com/notebooks/data_table.ipynb>data table notebook</a>'\n",
              "            + ' to learn more about interactive tables.';\n",
              "          element.innerHTML = '';\n",
              "          dataTable['output_type'] = 'display_data';\n",
              "          await google.colab.output.renderOutput(dataTable, element);\n",
              "          const docLink = document.createElement('div');\n",
              "          docLink.innerHTML = docLinkHtml;\n",
              "          element.appendChild(docLink);\n",
              "        }\n",
              "      </script>\n",
              "    </div>\n",
              "  </div>\n",
              "  "
            ],
            "text/plain": [
              "                                               Claim  ...     Label\n",
              "0  The Indian Army comprises part of the country'...  ...  SUPPORTS\n",
              "1                         Recovery features Rihanna.  ...  SUPPORTS\n",
              "2                            Rihanna is on Recovery.  ...  SUPPORTS\n",
              "3                           Philomena was nominated.  ...  SUPPORTS\n",
              "4                               Vietnam is a mascot.  ...   REFUTES\n",
              "\n",
              "[5 rows x 3 columns]"
            ]
          },
          "metadata": {},
          "execution_count": 9
        }
      ],
      "source": [
        "val_set = val_pairs.drop(['Unnamed: 0', 'ID'], axis=1)\n",
        "val_set.head()"
      ]
    },
    {
      "cell_type": "code",
      "execution_count": 10,
      "metadata": {
        "colab": {
          "base_uri": "https://localhost:8080/",
          "height": 206
        },
        "id": "h_gv0fTF_LdT",
        "outputId": "ba1a08f1-f393-4057-9a81-93ff401b5042"
      },
      "outputs": [
        {
          "output_type": "execute_result",
          "data": {
            "text/html": [
              "\n",
              "  <div id=\"df-ab7ba999-5bb7-4c87-9b5d-06184ee2712b\">\n",
              "    <div class=\"colab-df-container\">\n",
              "      <div>\n",
              "<style scoped>\n",
              "    .dataframe tbody tr th:only-of-type {\n",
              "        vertical-align: middle;\n",
              "    }\n",
              "\n",
              "    .dataframe tbody tr th {\n",
              "        vertical-align: top;\n",
              "    }\n",
              "\n",
              "    .dataframe thead th {\n",
              "        text-align: right;\n",
              "    }\n",
              "</style>\n",
              "<table border=\"1\" class=\"dataframe\">\n",
              "  <thead>\n",
              "    <tr style=\"text-align: right;\">\n",
              "      <th></th>\n",
              "      <th>Claim</th>\n",
              "      <th>Evidence</th>\n",
              "      <th>Label</th>\n",
              "    </tr>\n",
              "  </thead>\n",
              "  <tbody>\n",
              "    <tr>\n",
              "      <th>0</th>\n",
              "      <td>Anxiety has been linked with physical symptoms.</td>\n",
              "      <td>13\\tFurthermore , anxiety has been linked with...</td>\n",
              "      <td>SUPPORTS</td>\n",
              "    </tr>\n",
              "    <tr>\n",
              "      <th>1</th>\n",
              "      <td>Firefox is an application.</td>\n",
              "      <td>0\\tMozilla Firefox -LRB- or simply Firefox -RR...</td>\n",
              "      <td>SUPPORTS</td>\n",
              "    </tr>\n",
              "    <tr>\n",
              "      <th>2</th>\n",
              "      <td>Keegan-Michael Key played President Barack Oba...</td>\n",
              "      <td>6\\tIn 2015 , Key appeared at the White House C...</td>\n",
              "      <td>SUPPORTS</td>\n",
              "    </tr>\n",
              "    <tr>\n",
              "      <th>3</th>\n",
              "      <td>Google Search can find stock quotes.</td>\n",
              "      <td>13\\tThese include synonyms , weather forecasts...</td>\n",
              "      <td>SUPPORTS</td>\n",
              "    </tr>\n",
              "    <tr>\n",
              "      <th>4</th>\n",
              "      <td>A Good Day to Die Hard was directed solely by ...</td>\n",
              "      <td>1\\tThe film was directed by John Moore and wri...</td>\n",
              "      <td>REFUTES</td>\n",
              "    </tr>\n",
              "  </tbody>\n",
              "</table>\n",
              "</div>\n",
              "      <button class=\"colab-df-convert\" onclick=\"convertToInteractive('df-ab7ba999-5bb7-4c87-9b5d-06184ee2712b')\"\n",
              "              title=\"Convert this dataframe to an interactive table.\"\n",
              "              style=\"display:none;\">\n",
              "        \n",
              "  <svg xmlns=\"http://www.w3.org/2000/svg\" height=\"24px\"viewBox=\"0 0 24 24\"\n",
              "       width=\"24px\">\n",
              "    <path d=\"M0 0h24v24H0V0z\" fill=\"none\"/>\n",
              "    <path d=\"M18.56 5.44l.94 2.06.94-2.06 2.06-.94-2.06-.94-.94-2.06-.94 2.06-2.06.94zm-11 1L8.5 8.5l.94-2.06 2.06-.94-2.06-.94L8.5 2.5l-.94 2.06-2.06.94zm10 10l.94 2.06.94-2.06 2.06-.94-2.06-.94-.94-2.06-.94 2.06-2.06.94z\"/><path d=\"M17.41 7.96l-1.37-1.37c-.4-.4-.92-.59-1.43-.59-.52 0-1.04.2-1.43.59L10.3 9.45l-7.72 7.72c-.78.78-.78 2.05 0 2.83L4 21.41c.39.39.9.59 1.41.59.51 0 1.02-.2 1.41-.59l7.78-7.78 2.81-2.81c.8-.78.8-2.07 0-2.86zM5.41 20L4 18.59l7.72-7.72 1.47 1.35L5.41 20z\"/>\n",
              "  </svg>\n",
              "      </button>\n",
              "      \n",
              "  <style>\n",
              "    .colab-df-container {\n",
              "      display:flex;\n",
              "      flex-wrap:wrap;\n",
              "      gap: 12px;\n",
              "    }\n",
              "\n",
              "    .colab-df-convert {\n",
              "      background-color: #E8F0FE;\n",
              "      border: none;\n",
              "      border-radius: 50%;\n",
              "      cursor: pointer;\n",
              "      display: none;\n",
              "      fill: #1967D2;\n",
              "      height: 32px;\n",
              "      padding: 0 0 0 0;\n",
              "      width: 32px;\n",
              "    }\n",
              "\n",
              "    .colab-df-convert:hover {\n",
              "      background-color: #E2EBFA;\n",
              "      box-shadow: 0px 1px 2px rgba(60, 64, 67, 0.3), 0px 1px 3px 1px rgba(60, 64, 67, 0.15);\n",
              "      fill: #174EA6;\n",
              "    }\n",
              "\n",
              "    [theme=dark] .colab-df-convert {\n",
              "      background-color: #3B4455;\n",
              "      fill: #D2E3FC;\n",
              "    }\n",
              "\n",
              "    [theme=dark] .colab-df-convert:hover {\n",
              "      background-color: #434B5C;\n",
              "      box-shadow: 0px 1px 3px 1px rgba(0, 0, 0, 0.15);\n",
              "      filter: drop-shadow(0px 1px 2px rgba(0, 0, 0, 0.3));\n",
              "      fill: #FFFFFF;\n",
              "    }\n",
              "  </style>\n",
              "\n",
              "      <script>\n",
              "        const buttonEl =\n",
              "          document.querySelector('#df-ab7ba999-5bb7-4c87-9b5d-06184ee2712b button.colab-df-convert');\n",
              "        buttonEl.style.display =\n",
              "          google.colab.kernel.accessAllowed ? 'block' : 'none';\n",
              "\n",
              "        async function convertToInteractive(key) {\n",
              "          const element = document.querySelector('#df-ab7ba999-5bb7-4c87-9b5d-06184ee2712b');\n",
              "          const dataTable =\n",
              "            await google.colab.kernel.invokeFunction('convertToInteractive',\n",
              "                                                     [key], {});\n",
              "          if (!dataTable) return;\n",
              "\n",
              "          const docLinkHtml = 'Like what you see? Visit the ' +\n",
              "            '<a target=\"_blank\" href=https://colab.research.google.com/notebooks/data_table.ipynb>data table notebook</a>'\n",
              "            + ' to learn more about interactive tables.';\n",
              "          element.innerHTML = '';\n",
              "          dataTable['output_type'] = 'display_data';\n",
              "          await google.colab.output.renderOutput(dataTable, element);\n",
              "          const docLink = document.createElement('div');\n",
              "          docLink.innerHTML = docLinkHtml;\n",
              "          element.appendChild(docLink);\n",
              "        }\n",
              "      </script>\n",
              "    </div>\n",
              "  </div>\n",
              "  "
            ],
            "text/plain": [
              "                                               Claim  ...     Label\n",
              "0    Anxiety has been linked with physical symptoms.  ...  SUPPORTS\n",
              "1                         Firefox is an application.  ...  SUPPORTS\n",
              "2  Keegan-Michael Key played President Barack Oba...  ...  SUPPORTS\n",
              "3               Google Search can find stock quotes.  ...  SUPPORTS\n",
              "4  A Good Day to Die Hard was directed solely by ...  ...   REFUTES\n",
              "\n",
              "[5 rows x 3 columns]"
            ]
          },
          "metadata": {},
          "execution_count": 10
        }
      ],
      "source": [
        "test_set = test_pairs.drop(['Unnamed: 0', 'ID'], axis=1)\n",
        "test_set.head()"
      ]
    },
    {
      "cell_type": "markdown",
      "metadata": {
        "id": "Dm4IB81X5shY"
      },
      "source": [
        "# Pre Processing"
      ]
    },
    {
      "cell_type": "code",
      "execution_count": 11,
      "metadata": {
        "id": "XlqGAd5ZDTkQ"
      },
      "outputs": [],
      "source": [
        "train_labels = train_set.Label\n",
        "val_labels = val_set.Label\n",
        "test_labels = test_set.Label"
      ]
    },
    {
      "cell_type": "code",
      "execution_count": 12,
      "metadata": {
        "id": "IqqkyvcQDF6n"
      },
      "outputs": [],
      "source": [
        "s_train_claims = train_set.Claim\n",
        "s_val_claims = val_set.Claim\n",
        "s_test_claims = test_set.Claim"
      ]
    },
    {
      "cell_type": "code",
      "execution_count": 13,
      "metadata": {
        "id": "TF4HC8dOFQLi"
      },
      "outputs": [],
      "source": [
        "# convert claims in lists for tokenization\n",
        "train_claims = []\n",
        "val_claims = []\n",
        "test_claims = []\n",
        "\n",
        "for i in s_train_claims:\n",
        "  train_claims.append(i)\n",
        "\n",
        "for i in s_val_claims:\n",
        "  val_claims.append(i)\n",
        "\n",
        "for i in s_test_claims:\n",
        "  test_claims.append(i)"
      ]
    },
    {
      "cell_type": "code",
      "execution_count": 14,
      "metadata": {
        "id": "qdsDNbWNiqJg"
      },
      "outputs": [],
      "source": [
        "train_df = pd.DataFrame(columns=['Claim', 'Evidence', 'Label'])\n",
        "\n",
        "train_evidences = train_set.Evidence\n",
        "val_evidences = val_set.Evidence\n",
        "test_evidences = test_set.Evidence"
      ]
    },
    {
      "cell_type": "code",
      "execution_count": 15,
      "metadata": {
        "colab": {
          "base_uri": "https://localhost:8080/",
          "height": 105
        },
        "id": "3MdOdu4go6ch",
        "outputId": "080afbbb-2a0b-45ae-c1a5-296426d5be60"
      },
      "outputs": [
        {
          "output_type": "execute_result",
          "data": {
            "application/vnd.google.colaboratory.intrinsic+json": {
              "type": "string"
            },
            "text/plain": [
              "'2\\tHemsworth has also appeared in the science fiction action film Star Trek -LRB- 2009 -RRB- , the thriller adventure A Perfect Getaway -LRB- 2009 -RRB- , the horror comedy The Cabin in the Woods -LRB- 2012 -RRB- , the dark-fantasy action film Snow White and the Huntsman -LRB- 2012 -RRB- , the war film Red Dawn -LRB- 2012 -RRB- , and the biographical sports drama film Rush -LRB- 2013 -RRB- .\\tStar Trek\\tStar Trek (film)\\tA Perfect Getaway\\tA Perfect Getaway\\tThe Cabin in the Woods\\tThe Cabin in the Woods\\tSnow White and the Huntsman\\tSnow White and the Huntsman\\tRed Dawn\\tRed Dawn (2012 film)\\tRush\\tRush (2013 film)'"
            ]
          },
          "metadata": {},
          "execution_count": 15
        }
      ],
      "source": [
        "train_evidences[0]"
      ]
    },
    {
      "cell_type": "code",
      "execution_count": 16,
      "metadata": {
        "id": "Rbjnkqu14PG_"
      },
      "outputs": [],
      "source": [
        "# compile regex to avoid multiple computations\n",
        "splitter = re.compile(r' \\.')\n",
        "beginline = re.compile(r'\\d+\\t')\n",
        "parenthesis = re.compile(r'\\-[A-Z]{3}\\-')\n",
        "phonetics = re.compile(r'[^a-zA-Z\\d\\s:\\u00C0-\\u00FF!\\\"#$%&\\'()*+,-./:;<=>?@[\\]^_`{|}~]*')"
      ]
    },
    {
      "cell_type": "code",
      "execution_count": 17,
      "metadata": {
        "colab": {
          "base_uri": "https://localhost:8080/"
        },
        "id": "Hvgpv0Ysc7La",
        "outputId": "747e80ce-fd6e-4ef7-ff22-90da76e48d32"
      },
      "outputs": [
        {
          "output_type": "stream",
          "name": "stdout",
          "text": [
            "Greece -LRB- Ελλάδα , -LSB- eˈlaða -RSB- -RRB- , officially the Hellenic Republic -LRB- Greek : Ελληνική Δημοκρατία , -LSB- eliniˈci ðimokraˈti.a -RSB- -RRB- , historically also known as Hellas -LRB- Ἑλλάς , -LSB- heˈlas -RSB- , modern pronunciation Ellás -RRB- , is a country in southeastern Europe , with a population of approximately 11 million as of 2015\n"
          ]
        }
      ],
      "source": [
        "#evidences text cleaning\n",
        "k=0\n",
        "clean_train_evidences = []\n",
        "clean_val_evidences = []\n",
        "clean_test_evidences = []\n",
        "\n",
        "for i in train_evidences:\n",
        "  tmp = re.split(splitter,i)[0]\n",
        "  tmp = re.sub(beginline, '', tmp)\n",
        "  if k == 12:\n",
        "     print(tmp)\n",
        "  tmp = re.sub(parenthesis, '', tmp)\n",
        "  tmp = re.sub(phonetics, '', tmp)\n",
        "  clean_train_evidences.append(tmp)\n",
        "  k += 1\n",
        "\n",
        "for i in val_evidences:\n",
        "  tmp = re.split(splitter,i)[0]\n",
        "  tmp = re.sub(beginline, '', tmp)\n",
        "  tmp = re.sub(parenthesis, '', tmp)\n",
        "  tmp = re.sub(phonetics, '', tmp)\n",
        "  clean_val_evidences.append(tmp)\n",
        "\n",
        "for i in test_evidences:\n",
        "  tmp = re.split(splitter,i)[0]\n",
        "  tmp = re.sub(beginline, '', tmp)\n",
        "  tmp = re.sub(parenthesis, '', tmp)\n",
        "  tmp = re.sub(phonetics, '', tmp)\n",
        "  clean_test_evidences.append(tmp)"
      ]
    },
    {
      "cell_type": "code",
      "execution_count": 18,
      "metadata": {
        "colab": {
          "base_uri": "https://localhost:8080/",
          "height": 70
        },
        "id": "CT9i2fLXsZIZ",
        "outputId": "90bbdbf5-2c2a-4fd9-e9fb-962fad68afdc"
      },
      "outputs": [
        {
          "output_type": "execute_result",
          "data": {
            "application/vnd.google.colaboratory.intrinsic+json": {
              "type": "string"
            },
            "text/plain": [
              "'6\\tHitchcock became a highly visible public figure through interviews , movie trailers , cameo appearances in his own films , and the ten years in which he hosted the television programme Alfred Hitchcock Presents -LRB- 1955 -- 1965 -RRB- .\\tcameo appearances\\tList of Alfred Hitchcock cameo appearances\\tAlfred Hitchcock Presents\\tAlfred Hitchcock Presents'"
            ]
          },
          "metadata": {},
          "execution_count": 18
        }
      ],
      "source": [
        "val_evidences[62]\n",
        "# maybe needs more cleaning? i assume from now on we have clean data"
      ]
    },
    {
      "cell_type": "code",
      "execution_count": 19,
      "metadata": {
        "colab": {
          "base_uri": "https://localhost:8080/",
          "height": 53
        },
        "id": "iwSRC0VDW4-Q",
        "outputId": "0d9f287c-37ee-45a0-c0d5-01bcf887392d"
      },
      "outputs": [
        {
          "output_type": "execute_result",
          "data": {
            "application/vnd.google.colaboratory.intrinsic+json": {
              "type": "string"
            },
            "text/plain": [
              "'Hitchcock became a highly visible public figure through interviews , movie trailers , cameo appearances in his own films , and the ten years in which he hosted the television programme Alfred Hitchcock Presents  1955 -- 1965 '"
            ]
          },
          "metadata": {},
          "execution_count": 19
        }
      ],
      "source": [
        "clean_val_evidences[62]"
      ]
    },
    {
      "cell_type": "markdown",
      "metadata": {
        "id": "W8nJS0oKd5Sg"
      },
      "source": [
        "# Tokenization\n",
        "- padding"
      ]
    },
    {
      "cell_type": "code",
      "execution_count": 20,
      "metadata": {
        "id": "xc4MzQO5C6Lq"
      },
      "outputs": [],
      "source": [
        "# concatenate splits lists for tokenizer input\n",
        "claim_to_vocab = train_claims + val_claims + test_claims\n",
        "evidences_to_vocab = clean_train_evidences + clean_val_evidences + clean_test_evidences"
      ]
    },
    {
      "cell_type": "code",
      "execution_count": 21,
      "metadata": {
        "id": "sWVFV60UEo-y"
      },
      "outputs": [],
      "source": [
        "claim_tokenizer = Tokenizer(lower=False)                     # instantiate tokeniser\n",
        "claim_tokenizer.fit_on_texts(claim_to_vocab)                    # fit tokeniser on data"
      ]
    },
    {
      "cell_type": "code",
      "execution_count": 22,
      "metadata": {
        "id": "sY_R_QR8HWFF"
      },
      "outputs": [],
      "source": [
        "evidence_tokenizer = Tokenizer(lower=False)                     \n",
        "evidence_tokenizer.fit_on_texts(evidences_to_vocab)"
      ]
    },
    {
      "cell_type": "markdown",
      "metadata": {
        "id": "nt1jMDILJql6"
      },
      "source": [
        "###Glove"
      ]
    },
    {
      "cell_type": "code",
      "execution_count": 23,
      "metadata": {
        "colab": {
          "base_uri": "https://localhost:8080/"
        },
        "id": "0_NXjUc4JTbH",
        "outputId": "416041f5-615f-4af8-f3b7-2c06e7f6d704"
      },
      "outputs": [
        {
          "output_type": "stream",
          "name": "stdout",
          "text": [
            "--2021-12-22 14:53:46--  http://nlp.stanford.edu/data/glove.6B.zip\n",
            "Resolving nlp.stanford.edu (nlp.stanford.edu)... 171.64.67.140\n",
            "Connecting to nlp.stanford.edu (nlp.stanford.edu)|171.64.67.140|:80... connected.\n",
            "HTTP request sent, awaiting response... 302 Found\n",
            "Location: https://nlp.stanford.edu/data/glove.6B.zip [following]\n",
            "--2021-12-22 14:53:47--  https://nlp.stanford.edu/data/glove.6B.zip\n",
            "Connecting to nlp.stanford.edu (nlp.stanford.edu)|171.64.67.140|:443... connected.\n",
            "HTTP request sent, awaiting response... 301 Moved Permanently\n",
            "Location: http://downloads.cs.stanford.edu/nlp/data/glove.6B.zip [following]\n",
            "--2021-12-22 14:53:47--  http://downloads.cs.stanford.edu/nlp/data/glove.6B.zip\n",
            "Resolving downloads.cs.stanford.edu (downloads.cs.stanford.edu)... 171.64.64.22\n",
            "Connecting to downloads.cs.stanford.edu (downloads.cs.stanford.edu)|171.64.64.22|:80... connected.\n",
            "HTTP request sent, awaiting response... 200 OK\n",
            "Length: 862182613 (822M) [application/zip]\n",
            "Saving to: ‘glove.6B.zip’\n",
            "\n",
            "glove.6B.zip        100%[===================>] 822.24M  5.06MB/s    in 2m 42s  \n",
            "\n",
            "2021-12-22 14:56:29 (5.08 MB/s) - ‘glove.6B.zip’ saved [862182613/862182613]\n",
            "\n"
          ]
        }
      ],
      "source": [
        "!wget http://nlp.stanford.edu/data/glove.6B.zip\n",
        "!unzip -q glove.6B.zip"
      ]
    },
    {
      "cell_type": "code",
      "execution_count": 24,
      "metadata": {
        "colab": {
          "base_uri": "https://localhost:8080/"
        },
        "id": "6I7Dngy8JXSN",
        "outputId": "b1385bb7-eec6-450c-bca9-0e96a4096f8f"
      },
      "outputs": [
        {
          "output_type": "stream",
          "name": "stdout",
          "text": [
            "Found 400000 word vectors.\n"
          ]
        }
      ],
      "source": [
        "path_to_glove_file = os.path.join(os.getcwd(), \"glove.6B.100d.txt\")\n",
        "\n",
        "embeddings_index = {}\n",
        "with open(path_to_glove_file) as f:\n",
        "    for line in f:\n",
        "        word, coefs = line.split(maxsplit=1)\n",
        "        coefs = np.fromstring(coefs, \"f\", sep=\" \")\n",
        "        embeddings_index[word] = coefs\n",
        "\n",
        "print(\"Found %s word vectors.\" % len(embeddings_index))"
      ]
    },
    {
      "cell_type": "markdown",
      "metadata": {
        "id": "QQ0dRwcmJv52"
      },
      "source": [
        "Embedding matrix for claims"
      ]
    },
    {
      "cell_type": "code",
      "execution_count": 25,
      "metadata": {
        "colab": {
          "base_uri": "https://localhost:8080/"
        },
        "id": "ylMG2NlUJfRy",
        "outputId": "a16dbb59-4965-45ef-ebcf-edef7d7553e8"
      },
      "outputs": [
        {
          "output_type": "stream",
          "name": "stdout",
          "text": [
            "Converted 10970 words (13832 misses)\n"
          ]
        }
      ],
      "source": [
        "num_tokens = len(claim_tokenizer.index_word) + 1\n",
        "embedding_dim = 100\n",
        "hits = 0\n",
        "misses = 0\n",
        "\n",
        "\n",
        "# Prepare embedding matrix\n",
        "embedding_matrix_c = np.zeros((num_tokens, embedding_dim))\n",
        "for word, i in claim_tokenizer.word_index.items():\n",
        "    embedding_vector = embeddings_index.get(word)\n",
        "    if embedding_vector is not None:\n",
        "        # Words not found in embedding index will be all-zeros.\n",
        "        # This includes the representation for \"padding\" and \"OOV\"\n",
        "        embedding_matrix_c[i] = embedding_vector\n",
        "        hits += 1\n",
        "    else:\n",
        "        embedding_matrix_c += np.random.uniform(low=-0.05, high=0.05, size=embedding_dim)\n",
        "        misses += 1\n",
        "print(\"Converted %d words (%d misses)\" % (hits, misses))"
      ]
    },
    {
      "cell_type": "markdown",
      "metadata": {
        "id": "62QyRF-GJ6wW"
      },
      "source": [
        "Embedding matrix for Evidence"
      ]
    },
    {
      "cell_type": "code",
      "execution_count": 26,
      "metadata": {
        "colab": {
          "base_uri": "https://localhost:8080/"
        },
        "id": "Okl6jgimJgmH",
        "outputId": "b6f4e1ee-8bda-454c-cfba-8508f890a0c2"
      },
      "outputs": [
        {
          "output_type": "stream",
          "name": "stdout",
          "text": [
            "Converted 15376 words (22592 misses)\n"
          ]
        }
      ],
      "source": [
        "num_tokens = len(evidence_tokenizer.index_word) + 1\n",
        "embedding_dim = 100\n",
        "hits = 0\n",
        "misses = 0\n",
        "\n",
        "\n",
        "# Prepare embedding matrix\n",
        "embedding_matrix_e = np.zeros((num_tokens, embedding_dim))\n",
        "for word, i in evidence_tokenizer.word_index.items():\n",
        "    embedding_vector = embeddings_index.get(word)\n",
        "    if embedding_vector is not None:\n",
        "        # Words not found in embedding index will be all-zeros.\n",
        "        # This includes the representation for \"padding\" and \"OOV\"\n",
        "        embedding_matrix_e[i] = embedding_vector\n",
        "        hits += 1\n",
        "    else:\n",
        "        embedding_matrix_e += np.random.uniform(low=-0.05, high=0.05, size=embedding_dim)\n",
        "        misses += 1\n",
        "print(\"Converted %d words (%d misses)\" % (hits, misses))"
      ]
    },
    {
      "cell_type": "code",
      "execution_count": 66,
      "metadata": {
        "id": "6qYzhXuDeo7k"
      },
      "outputs": [],
      "source": [
        "def tobin(x): # map binary labels (target) to 0 or 1\n",
        "  if x == 'SUPPORTS':\n",
        "    return 0\n",
        "  return 1 # REFUTES\n",
        "\n",
        "def to_cat(y, tokenizer):\n",
        "  tokenizer.fit_on_texts(y)\n",
        "  y = tokenizer.texts_to_sequences(y)\n",
        "  y = tf.keras.utils.to_categorical(y, num_classes=None, dtype='int')\n",
        "  return y\n",
        "\n",
        "tokenizer_y = Tokenizer()\n",
        "tokenizer_y.fit_on_texts(train_labels)\n",
        "\n",
        "train_labels_y =  to_cat(train_labels, tokenizer_y)\n",
        "val_labels_y = to_cat(val_labels, tokenizer_y)\n",
        "test_labels_y = to_cat(test_labels, tokenizer_y)\n",
        "\n",
        "# train_labels_y = train_labels.apply(tobin).to_numpy()\n",
        "#val_labels_y = val_labels.apply(tobin).to_numpy()\n",
        "#test_labels_y = test_labels.apply(tobin).to_numpy()"
      ]
    },
    {
      "cell_type": "code",
      "source": [
        "# try to use 2 neurons instead of 3\n",
        "train_labels_y = train_labels_y[:,1:3]\n",
        "val_labels_y = val_labels_y[:,1:3]\n",
        "test_labels_y = test_labels_y[:,1:3]"
      ],
      "metadata": {
        "id": "-fu6456holze"
      },
      "execution_count": 67,
      "outputs": []
    },
    {
      "cell_type": "code",
      "source": [
        "train_labels_y"
      ],
      "metadata": {
        "colab": {
          "base_uri": "https://localhost:8080/"
        },
        "id": "3ZBSiuknr4X-",
        "outputId": "91978341-ba4f-4aa9-b6e7-dda8fc6b494d"
      },
      "execution_count": 68,
      "outputs": [
        {
          "output_type": "execute_result",
          "data": {
            "text/plain": [
              "array([[1, 0],\n",
              "       [1, 0],\n",
              "       [0, 1],\n",
              "       ...,\n",
              "       [0, 1],\n",
              "       [1, 0],\n",
              "       [0, 1]])"
            ]
          },
          "metadata": {},
          "execution_count": 68
        }
      ]
    },
    {
      "cell_type": "code",
      "execution_count": 28,
      "metadata": {
        "id": "ryX-w3nshtVa"
      },
      "outputs": [],
      "source": [
        "# from text to integers\n",
        "train_claims_X = claim_tokenizer.texts_to_sequences(train_claims)\n",
        "val_claims_X = claim_tokenizer.texts_to_sequences(val_claims)\n",
        "test_claims_X = claim_tokenizer.texts_to_sequences(test_claims)\n",
        "\n",
        "train_evidences_X = evidence_tokenizer.texts_to_sequences(clean_train_evidences)\n",
        "val_evidences_X = evidence_tokenizer.texts_to_sequences(clean_val_evidences)\n",
        "test_evidences_X = evidence_tokenizer.texts_to_sequences(clean_test_evidences)"
      ]
    },
    {
      "cell_type": "markdown",
      "metadata": {
        "id": "VTGqD9oKdSTn"
      },
      "source": [
        "###Padding"
      ]
    },
    {
      "cell_type": "code",
      "execution_count": 29,
      "metadata": {
        "colab": {
          "base_uri": "https://localhost:8080/"
        },
        "id": "DGpIpGUVmB2H",
        "outputId": "3d2aa008-ee7a-4c07-d51e-ce568427a078"
      },
      "outputs": [
        {
          "output_type": "execute_result",
          "data": {
            "text/plain": [
              "65"
            ]
          },
          "metadata": {},
          "execution_count": 29
        }
      ],
      "source": [
        "MAX_CLAIM_LENGTH = max(len(max(train_claims_X, key=len)), len(max(val_claims_X, key=len)), len(max(test_claims_X, key=len)))\n",
        "MAX_CLAIM_LENGTH"
      ]
    },
    {
      "cell_type": "code",
      "execution_count": 30,
      "metadata": {
        "colab": {
          "base_uri": "https://localhost:8080/"
        },
        "id": "h8Ljdd2UmJXE",
        "outputId": "9c20b633-285a-4506-f60f-d4f924e18317"
      },
      "outputs": [
        {
          "output_type": "execute_result",
          "data": {
            "text/plain": [
              "209"
            ]
          },
          "metadata": {},
          "execution_count": 30
        }
      ],
      "source": [
        "MAX_EVIDENCE_LENGTH = max(len(max(train_evidences_X, key=len)), len(max(val_evidences_X, key=len)), len(max(test_evidences_X, key=len)))\n",
        "MAX_EVIDENCE_LENGTH"
      ]
    },
    {
      "cell_type": "code",
      "execution_count": 31,
      "metadata": {
        "id": "ojJhCIKqnG7n"
      },
      "outputs": [],
      "source": [
        "def pad(set, max): # padding function\n",
        "  return pad_sequences(set, maxlen=max, padding='post')"
      ]
    },
    {
      "cell_type": "code",
      "execution_count": 32,
      "metadata": {
        "id": "caPgRJPpmYMj"
      },
      "outputs": [],
      "source": [
        "train_claims_X = pad(train_claims_X, MAX_CLAIM_LENGTH)\n",
        "val_claims_X = pad(val_claims_X, MAX_CLAIM_LENGTH)\n",
        "test_claims_X = pad(test_claims_X, MAX_CLAIM_LENGTH)\n",
        "\n",
        "train_evidences_X = pad(train_evidences_X, MAX_EVIDENCE_LENGTH)\n",
        "val_evidences_X = pad(val_evidences_X, MAX_EVIDENCE_LENGTH)\n",
        "test_evidences_X = pad(test_evidences_X, MAX_EVIDENCE_LENGTH)"
      ]
    },
    {
      "cell_type": "markdown",
      "metadata": {
        "id": "0eQDRB1-oEuA"
      },
      "source": [
        "# Model Implementation"
      ]
    },
    {
      "cell_type": "markdown",
      "metadata": {
        "id": "jZ4kki1fTQ3S"
      },
      "source": [
        "##1. Encode token sequences via a RNN and take the last state as the sentence embedding."
      ]
    },
    {
      "cell_type": "code",
      "execution_count": 57,
      "metadata": {
        "colab": {
          "base_uri": "https://localhost:8080/"
        },
        "id": "xr9St4AjTHHt",
        "outputId": "e63c58d4-22b9-444a-ca31-f24fe523de31"
      },
      "outputs": [
        {
          "output_type": "stream",
          "name": "stdout",
          "text": [
            "Model: \"RNN_last\"\n",
            "__________________________________________________________________________________________________\n",
            " Layer (type)                   Output Shape         Param #     Connected to                     \n",
            "==================================================================================================\n",
            " input_10 (InputLayer)          [(None, 65)]         0           []                               \n",
            "                                                                                                  \n",
            " input_9 (InputLayer)           [(None, 209)]        0           []                               \n",
            "                                                                                                  \n",
            " embedding_8 (Embedding)        (None, 65, 100)      2480300     ['input_10[0][0]']               \n",
            "                                                                                                  \n",
            " embedding_9 (Embedding)        (None, 209, 100)     3796900     ['input_9[0][0]']                \n",
            "                                                                                                  \n",
            " bidirectional_2 (Bidirectional  (None, 50)          25200       ['embedding_8[0][0]']            \n",
            " )                                                                                                \n",
            "                                                                                                  \n",
            " bidirectional_3 (Bidirectional  (None, 50)          25200       ['embedding_9[0][0]']            \n",
            " )                                                                                                \n",
            "                                                                                                  \n",
            " average_4 (Average)            (None, 50)           0           ['bidirectional_2[0][0]',        \n",
            "                                                                  'bidirectional_3[0][0]']        \n",
            "                                                                                                  \n",
            " dropout_1 (Dropout)            (None, 50)           0           ['average_4[0][0]']              \n",
            "                                                                                                  \n",
            " dense_8 (Dense)                (None, 2)            102         ['dropout_1[0][0]']              \n",
            "                                                                                                  \n",
            "==================================================================================================\n",
            "Total params: 6,327,702\n",
            "Trainable params: 6,327,702\n",
            "Non-trainable params: 0\n",
            "__________________________________________________________________________________________________\n"
          ]
        }
      ],
      "source": [
        "embedded_dimension = 100\n",
        "\n",
        "# input layers\n",
        "evidence_input_layer = keras.Input(shape=(MAX_EVIDENCE_LENGTH, ))\n",
        "claim_input_layer = keras.Input(shape=(MAX_CLAIM_LENGTH, ))\n",
        "\n",
        "claim_input = claim_input_layer\n",
        "evidence_input = evidence_input_layer\n",
        "\n",
        "# Embeddings\n",
        "claims_embedding_layer = tf.keras.layers.Embedding(\n",
        "    len(claim_tokenizer.word_index)+1,\n",
        "    embedded_dimension,\n",
        "    embeddings_initializer=keras.initializers.Constant(embedding_matrix_c),\n",
        "    trainable = True,\n",
        "    embeddings_regularizer=None,\n",
        "    activity_regularizer=None,\n",
        "    embeddings_constraint=None,\n",
        "    mask_zero=False,\n",
        "    input_length=MAX_CLAIM_LENGTH\n",
        ")\n",
        "\n",
        "evidences_embedding_layer = tf.keras.layers.Embedding(\n",
        "    len(evidence_tokenizer.word_index)+1,\n",
        "    embedded_dimension,\n",
        "    embeddings_initializer=keras.initializers.Constant(embedding_matrix_e),\n",
        "    trainable = True,\n",
        "    embeddings_regularizer=None,\n",
        "    activity_regularizer=None,\n",
        "    embeddings_constraint=None,\n",
        "    mask_zero=False,\n",
        "    input_length=MAX_EVIDENCE_LENGTH\n",
        ")\n",
        "\n",
        "x1 = claims_embedding_layer(claim_input)\n",
        "x2 = evidences_embedding_layer(evidence_input)\n",
        "\n",
        "x1 = Bidirectional(LSTM(units=int(embedded_dimension/4),\n",
        "                          return_sequences=False))(x1) \n",
        "\n",
        "x2 = Bidirectional(LSTM(units=int(embedded_dimension/4), \n",
        "                          return_sequences=False))(x2) \n",
        "\n",
        "# Merge layer\n",
        "mean_x = tf.keras.layers.Average()([x1,x2])\n",
        "\n",
        "# dropout\n",
        "dropout = tf.keras.layers.Dropout(0.25)(mean_x)\n",
        "\n",
        "# classification final layer\n",
        "outputs = layers.Dense(2, activation='sigmoid')(dropout)\n",
        "\n",
        "model_RNN_last = keras.Model(inputs=[claim_input, evidence_input], outputs=outputs, name=\"RNN_last\")\n",
        "model_RNN_last.summary()"
      ]
    },
    {
      "cell_type": "code",
      "execution_count": 34,
      "metadata": {
        "colab": {
          "base_uri": "https://localhost:8080/",
          "height": 564
        },
        "id": "oYwwbGpyVsEr",
        "outputId": "1bd3978c-0417-43be-c5e1-9ae46d54eb34"
      },
      "outputs": [
        {
          "output_type": "execute_result",
          "data": {
            "image/png": "[encoded data removed]",
            "text/plain": [
              "<IPython.core.display.Image object>"
            ]
          },
          "metadata": {},
          "execution_count": 34
        }
      ],
      "source": [
        "keras.utils.plot_model(model_RNN_last, \"RNN_last.png\")"
      ]
    },
    {
      "cell_type": "markdown",
      "metadata": {
        "id": "oLeA5t3tYayh"
      },
      "source": [
        "## 2. Encode token sequences via a RNN and average all the output states."
      ]
    },
    {
      "cell_type": "code",
      "execution_count": 59,
      "metadata": {
        "colab": {
          "base_uri": "https://localhost:8080/"
        },
        "id": "cBK_mFh3Yd8D",
        "outputId": "66aa2b33-700a-4185-aee6-035cccd567e3"
      },
      "outputs": [
        {
          "output_type": "stream",
          "name": "stdout",
          "text": [
            "Model: \"RNN_mean\"\n",
            "__________________________________________________________________________________________________\n",
            " Layer (type)                   Output Shape         Param #     Connected to                     \n",
            "==================================================================================================\n",
            " input_12 (InputLayer)          [(None, 65)]         0           []                               \n",
            "                                                                                                  \n",
            " input_11 (InputLayer)          [(None, 209)]        0           []                               \n",
            "                                                                                                  \n",
            " embedding_10 (Embedding)       (None, 65, 100)      2480300     ['input_12[0][0]']               \n",
            "                                                                                                  \n",
            " embedding_11 (Embedding)       (None, 209, 100)     3796900     ['input_11[0][0]']               \n",
            "                                                                                                  \n",
            " lstm_6 (LSTM)                  (None, 65, 25)       12600       ['embedding_10[0][0]']           \n",
            "                                                                                                  \n",
            " lstm_7 (LSTM)                  (None, 209, 25)      12600       ['embedding_11[0][0]']           \n",
            "                                                                                                  \n",
            " tf.math.reduce_mean_4 (TFOpLam  (None, 25)          0           ['lstm_6[0][0]']                 \n",
            " bda)                                                                                             \n",
            "                                                                                                  \n",
            " tf.math.reduce_mean_5 (TFOpLam  (None, 25)          0           ['lstm_7[0][0]']                 \n",
            " bda)                                                                                             \n",
            "                                                                                                  \n",
            " average_5 (Average)            (None, 25)           0           ['tf.math.reduce_mean_4[0][0]',  \n",
            "                                                                  'tf.math.reduce_mean_5[0][0]']  \n",
            "                                                                                                  \n",
            " dense_9 (Dense)                (None, 2)            52          ['average_5[0][0]']              \n",
            "                                                                                                  \n",
            "==================================================================================================\n",
            "Total params: 6,302,452\n",
            "Trainable params: 6,302,452\n",
            "Non-trainable params: 0\n",
            "__________________________________________________________________________________________________\n"
          ]
        }
      ],
      "source": [
        "embedded_dimension = 100\n",
        "\n",
        "# input layers\n",
        "evidence_input_layer = keras.Input(shape=(MAX_EVIDENCE_LENGTH, ))\n",
        "claim_input_layer = keras.Input(shape=(MAX_CLAIM_LENGTH, ))\n",
        "\n",
        "claim_input = claim_input_layer\n",
        "evidence_input = evidence_input_layer\n",
        "\n",
        "# Embeddings\n",
        "claims_embedding_layer = tf.keras.layers.Embedding(\n",
        "    len(claim_tokenizer.word_index)+1,\n",
        "    embedded_dimension,\n",
        "    embeddings_initializer=keras.initializers.Constant(embedding_matrix_c),\n",
        "    trainable = True,\n",
        "    embeddings_regularizer=None,\n",
        "    activity_regularizer=None,\n",
        "    embeddings_constraint=None,\n",
        "    mask_zero=False,\n",
        "    input_length=MAX_CLAIM_LENGTH\n",
        ")\n",
        "\n",
        "evidences_embedding_layer = tf.keras.layers.Embedding(\n",
        "    len(evidence_tokenizer.word_index)+1,\n",
        "    embedded_dimension,\n",
        "    embeddings_initializer=keras.initializers.Constant(embedding_matrix_e),\n",
        "    trainable = True,\n",
        "    embeddings_regularizer=None,\n",
        "    activity_regularizer=None,\n",
        "    embeddings_constraint=None,\n",
        "    mask_zero=False,\n",
        "    input_length=MAX_EVIDENCE_LENGTH\n",
        ")\n",
        "\n",
        "x1 = claims_embedding_layer(claim_input)\n",
        "x2 = evidences_embedding_layer(evidence_input)\n",
        "\n",
        "x1 = LSTM(units=int(embedded_dimension/4),\n",
        "                          return_sequences=True)(x1) \n",
        "\n",
        "x2 = LSTM(units=int(embedded_dimension/4),\n",
        "                          return_sequences=True)(x2) \n",
        "\n",
        "x1 = tf.reduce_mean(x1, 1)\n",
        "x2 = tf.reduce_mean(x2, 1)\n",
        "\n",
        "# Merge layer\n",
        "mean_x = tf.keras.layers.Average()([x1,x2])\n",
        "\n",
        "# classification final layer\n",
        "\n",
        "outputs = layers.Dense(2, activation='sigmoid')(mean_x)\n",
        "\n",
        "model_RNN_mean = keras.Model(inputs=[claim_input, evidence_input], outputs=outputs, name=\"RNN_mean\")\n",
        "model_RNN_mean.summary()"
      ]
    },
    {
      "cell_type": "code",
      "execution_count": 36,
      "metadata": {
        "colab": {
          "base_uri": "https://localhost:8080/",
          "height": 564
        },
        "id": "Xj7ZxC_tYsfp",
        "outputId": "4987b583-d690-452e-f053-a79fec3a51fe"
      },
      "outputs": [
        {
          "output_type": "execute_result",
          "data": {
            "image/png": "[encoded data removed]",
            "text/plain": [
              "<IPython.core.display.Image object>"
            ]
          },
          "metadata": {},
          "execution_count": 36
        }
      ],
      "source": [
        "keras.utils.plot_model(model_RNN_mean, \"RNN_mean.png\")"
      ]
    },
    {
      "cell_type": "markdown",
      "metadata": {
        "id": "jix3-wr0aiFM"
      },
      "source": [
        "## 3. Encode token sequences via a simple MLP layer. "
      ]
    },
    {
      "cell_type": "code",
      "execution_count": 60,
      "metadata": {
        "colab": {
          "base_uri": "https://localhost:8080/"
        },
        "id": "YyJRNDFwahh3",
        "outputId": "0959ca44-cc8c-4565-a33f-87428278baa8"
      },
      "outputs": [
        {
          "output_type": "stream",
          "name": "stdout",
          "text": [
            "Model: \"MLP\"\n",
            "__________________________________________________________________________________________________\n",
            " Layer (type)                   Output Shape         Param #     Connected to                     \n",
            "==================================================================================================\n",
            " input_14 (InputLayer)          [(None, 65)]         0           []                               \n",
            "                                                                                                  \n",
            " input_13 (InputLayer)          [(None, 209)]        0           []                               \n",
            "                                                                                                  \n",
            " embedding_12 (Embedding)       (None, 65, 100)      2480300     ['input_14[0][0]']               \n",
            "                                                                                                  \n",
            " embedding_13 (Embedding)       (None, 209, 100)     3796900     ['input_13[0][0]']               \n",
            "                                                                                                  \n",
            " tf.reshape_2 (TFOpLambda)      (None, 6500)         0           ['embedding_12[0][0]']           \n",
            "                                                                                                  \n",
            " tf.reshape_3 (TFOpLambda)      (None, 20900)        0           ['embedding_13[0][0]']           \n",
            "                                                                                                  \n",
            " dense_10 (Dense)               (None, 100)          650100      ['tf.reshape_2[0][0]']           \n",
            "                                                                                                  \n",
            " dense_11 (Dense)               (None, 100)          2090100     ['tf.reshape_3[0][0]']           \n",
            "                                                                                                  \n",
            " average_6 (Average)            (None, 100)          0           ['dense_10[0][0]',               \n",
            "                                                                  'dense_11[0][0]']               \n",
            "                                                                                                  \n",
            " dense_12 (Dense)               (None, 2)            202         ['average_6[0][0]']              \n",
            "                                                                                                  \n",
            "==================================================================================================\n",
            "Total params: 9,017,602\n",
            "Trainable params: 9,017,602\n",
            "Non-trainable params: 0\n",
            "__________________________________________________________________________________________________\n"
          ]
        }
      ],
      "source": [
        "embedded_dimension = 100\n",
        "\n",
        "# input layers\n",
        "evidence_input_layer = keras.Input(shape=(MAX_EVIDENCE_LENGTH, ))\n",
        "claim_input_layer = keras.Input(shape=(MAX_CLAIM_LENGTH, ))\n",
        "\n",
        "claim_input = claim_input_layer\n",
        "evidence_input = evidence_input_layer\n",
        "\n",
        "# Embeddings\n",
        "claims_embedding_layer = tf.keras.layers.Embedding(\n",
        "    len(claim_tokenizer.word_index)+1,\n",
        "    embedded_dimension,\n",
        "    embeddings_initializer=keras.initializers.Constant(embedding_matrix_c),\n",
        "    trainable = True,\n",
        "    embeddings_regularizer=None,\n",
        "    activity_regularizer=None,\n",
        "    embeddings_constraint=None,\n",
        "    mask_zero=False,\n",
        "    input_length=MAX_CLAIM_LENGTH\n",
        ")\n",
        "\n",
        "evidences_embedding_layer = tf.keras.layers.Embedding(\n",
        "    len(evidence_tokenizer.word_index)+1,\n",
        "    embedded_dimension,\n",
        "    embeddings_initializer=keras.initializers.Constant(embedding_matrix_e),\n",
        "    trainable = True,\n",
        "    embeddings_regularizer=None,\n",
        "    activity_regularizer=None,\n",
        "    embeddings_constraint=None,\n",
        "    mask_zero=False,\n",
        "    input_length=MAX_EVIDENCE_LENGTH\n",
        ")\n",
        "\n",
        "x1 = claims_embedding_layer(claim_input)\n",
        "x2 = evidences_embedding_layer(evidence_input)\n",
        "\n",
        "x1 = tf.reshape(x1, [-1, MAX_CLAIM_LENGTH*embedded_dimension]) \n",
        "x2 = tf.reshape(x2, [-1, MAX_EVIDENCE_LENGTH*embedded_dimension]) \n",
        "  \n",
        "  \n",
        "x1 = Dense(embedded_dimension,activation='relu')(x1)  \n",
        "x2 = Dense(embedded_dimension,activation='relu')(x2)  \n",
        "\n",
        "\n",
        "# Merge layer\n",
        "mean_x = tf.keras.layers.Average()([x1,x2])\n",
        "\n",
        "# classification final layer\n",
        "\n",
        "outputs = layers.Dense(2, activation='sigmoid')(mean_x)\n",
        "\n",
        "model_MLP = keras.Model(inputs=[claim_input, evidence_input], outputs=outputs, name=\"MLP\")\n",
        "model_MLP.summary()"
      ]
    },
    {
      "cell_type": "markdown",
      "metadata": {
        "id": "_6ZA4eeYIAAU"
      },
      "source": [
        "## 4. Compute the sentence embedding as the mean of its token embeddings (bag of vectors)"
      ]
    },
    {
      "cell_type": "code",
      "execution_count": 61,
      "metadata": {
        "colab": {
          "base_uri": "https://localhost:8080/"
        },
        "id": "gzVi4Fa64tF-",
        "outputId": "83287234-7fb5-4fe8-96c4-cf02b2c52a4e"
      },
      "outputs": [
        {
          "output_type": "stream",
          "name": "stdout",
          "text": [
            "Model: \"bag_of_words\"\n",
            "__________________________________________________________________________________________________\n",
            " Layer (type)                   Output Shape         Param #     Connected to                     \n",
            "==================================================================================================\n",
            " input_16 (InputLayer)          [(None, 65)]         0           []                               \n",
            "                                                                                                  \n",
            " input_15 (InputLayer)          [(None, 209)]        0           []                               \n",
            "                                                                                                  \n",
            " embedding_14 (Embedding)       (None, 65, 100)      2480300     ['input_16[0][0]']               \n",
            "                                                                                                  \n",
            " embedding_15 (Embedding)       (None, 209, 100)     3796900     ['input_15[0][0]']               \n",
            "                                                                                                  \n",
            " tf.math.reduce_mean_6 (TFOpLam  (None, 65)          0           ['embedding_14[0][0]']           \n",
            " bda)                                                                                             \n",
            "                                                                                                  \n",
            " tf.math.reduce_mean_7 (TFOpLam  (None, 209)         0           ['embedding_15[0][0]']           \n",
            " bda)                                                                                             \n",
            "                                                                                                  \n",
            " dense_13 (Dense)               (None, 100)          6600        ['tf.math.reduce_mean_6[0][0]']  \n",
            "                                                                                                  \n",
            " dense_14 (Dense)               (None, 100)          21000       ['tf.math.reduce_mean_7[0][0]']  \n",
            "                                                                                                  \n",
            " average_7 (Average)            (None, 100)          0           ['dense_13[0][0]',               \n",
            "                                                                  'dense_14[0][0]']               \n",
            "                                                                                                  \n",
            " dense_15 (Dense)               (None, 2)            202         ['average_7[0][0]']              \n",
            "                                                                                                  \n",
            "==================================================================================================\n",
            "Total params: 6,305,002\n",
            "Trainable params: 6,305,002\n",
            "Non-trainable params: 0\n",
            "__________________________________________________________________________________________________\n"
          ]
        }
      ],
      "source": [
        "embedded_dimension = 100\n",
        "\n",
        "# input layers\n",
        "evidence_input_layer = keras.Input(shape=(MAX_EVIDENCE_LENGTH, ))\n",
        "claim_input_layer = keras.Input(shape=(MAX_CLAIM_LENGTH, ))\n",
        "\n",
        "claim_input = claim_input_layer\n",
        "evidence_input = evidence_input_layer\n",
        "\n",
        "# Embeddings\n",
        "claims_embedding_layer = tf.keras.layers.Embedding(\n",
        "    len(claim_tokenizer.word_index)+1,\n",
        "    100,\n",
        "    embeddings_initializer=keras.initializers.Constant(embedding_matrix_c),\n",
        "    trainable = True,\n",
        "    embeddings_regularizer=None,\n",
        "    activity_regularizer=None,\n",
        "    embeddings_constraint=None,\n",
        "    mask_zero=False,\n",
        "    input_length=MAX_CLAIM_LENGTH\n",
        ")\n",
        "\n",
        "evidences_embedding_layer = tf.keras.layers.Embedding(\n",
        "    len(evidence_tokenizer.word_index)+1,\n",
        "    100,\n",
        "    embeddings_initializer=keras.initializers.Constant(embedding_matrix_e),\n",
        "    trainable = True,\n",
        "    embeddings_regularizer=None,\n",
        "    activity_regularizer=None,\n",
        "    embeddings_constraint=None,\n",
        "    mask_zero=False,\n",
        "    input_length=MAX_EVIDENCE_LENGTH\n",
        ")\n",
        "\n",
        "x1 = claims_embedding_layer(claim_input)\n",
        "x2 = evidences_embedding_layer(evidence_input)\n",
        "\n",
        "# Mean\n",
        "x_claim = tf.math.reduce_mean(x1, axis=-1, keepdims=False)\n",
        "x_evidence = tf.math.reduce_mean(x2, axis=-1, keepdims=False)\n",
        "\n",
        "# Dense\n",
        "claim_dense = layers.Dense(embedded_dimension, activation='relu')(x_claim)\n",
        "evidence_dense = layers.Dense(embedded_dimension, activation='relu')(x_evidence)\n",
        "\n",
        "# Merge layer\n",
        "mean_x = tf.keras.layers.Average()([claim_dense,evidence_dense])\n",
        "\n",
        "# classification final layer\n",
        "classification_layer = layers.Dense(2, activation='sigmoid')\n",
        "\n",
        "outputs = classification_layer(mean_x)\n",
        "\n",
        "model_bag_of_words = keras.Model(inputs=[claim_input, evidence_input], outputs=outputs, name=\"bag_of_words\")\n",
        "model_bag_of_words.summary()"
      ]
    },
    {
      "cell_type": "code",
      "execution_count": 39,
      "metadata": {
        "colab": {
          "base_uri": "https://localhost:8080/",
          "height": 564
        },
        "id": "e6BsxeOuKos7",
        "outputId": "06de6933-314d-41b2-b876-6c1b2cabb68b"
      },
      "outputs": [
        {
          "output_type": "execute_result",
          "data": {
            "image/png": "[encoded data removed]",
            "text/plain": [
              "<IPython.core.display.Image object>"
            ]
          },
          "metadata": {},
          "execution_count": 39
        }
      ],
      "source": [
        "keras.utils.plot_model(model_bag_of_words, \"bag_of_words.png\")"
      ]
    },
    {
      "cell_type": "markdown",
      "metadata": {
        "id": "R5Qo3ZO6NzQf"
      },
      "source": [
        "# Training"
      ]
    },
    {
      "cell_type": "markdown",
      "metadata": {
        "id": "wjyVXzc-SQl6"
      },
      "source": [
        "##Metrics and model parameters"
      ]
    },
    {
      "cell_type": "code",
      "execution_count": 73,
      "metadata": {
        "id": "dJhJ_QpGQZPM"
      },
      "outputs": [],
      "source": [
        "metrics = [keras.metrics.TruePositives(name='tp'),\n",
        "           keras.metrics.FalsePositives(name='fp'),\n",
        "           keras.metrics.TrueNegatives(name='tn'),\n",
        "           keras.metrics.FalseNegatives(name='fn'),\n",
        "           keras.metrics.BinaryAccuracy(name='accuracy'),\n",
        "           keras.metrics.AUC(name='auc')]\n",
        "           #tfa.metrics.F1Score(num_classes=2, threshold=0.5),\n",
        "           #tfa.metrics.CohenKappa(num_classes=2, sparse_labels=True)]\n",
        "\n",
        "es_callback = tf.keras.callbacks.EarlyStopping(monitor='val_loss', patience=5)"
      ]
    },
    {
      "cell_type": "markdown",
      "metadata": {
        "id": "vIb1DZ8uTS_R"
      },
      "source": [
        "##1st model training"
      ]
    },
    {
      "cell_type": "code",
      "execution_count": null,
      "metadata": {
        "colab": {
          "base_uri": "https://localhost:8080/"
        },
        "id": "vVMCw7zYTEhR",
        "outputId": "6ec89bce-823d-461b-9a28-8072915d364d"
      },
      "outputs": [
        {
          "output_type": "stream",
          "name": "stdout",
          "text": [
            "Epoch 1/10\n",
            " 24/119 [=====>........................] - ETA: 4:31 - loss: 0.4840 - tp: 20033.0000 - fp: 4543.0000 - tn: 20033.0000 - fn: 4543.0000 - accuracy: 0.8151 - auc: 0.8227"
          ]
        }
      ],
      "source": [
        "sgdopt = tf.keras.optimizers.SGD(learning_rate=0.1)\n",
        "adamopt = keras.optimizers.Adam(0.001)\n",
        "model_RNN_last.compile(\n",
        "    loss=keras.losses.BinaryCrossentropy(),\n",
        "    optimizer= adamopt,\n",
        "    metrics=metrics\n",
        ")\n",
        "\n",
        "RNN_last_history = model_RNN_last.fit([train_claims_X, train_evidences_X], train_labels_y, batch_size=1024, shuffle=False, epochs=10, validation_data=([val_claims_X, val_evidences_X], val_labels_y))"
      ]
    },
    {
      "cell_type": "markdown",
      "metadata": {
        "id": "GByFQN-eSWuY"
      },
      "source": [
        "##2nd model training"
      ]
    },
    {
      "cell_type": "code",
      "execution_count": null,
      "metadata": {
        "id": "7NgRKuwgG4tz"
      },
      "outputs": [],
      "source": [
        "model_RNN_mean.compile(\n",
        "    loss=keras.losses.BinaryCrossentropy(),\n",
        "    optimizer=keras.optimizers.Adam(),\n",
        "    metrics=metrics\n",
        ")\n",
        "\n",
        "RNN_mean_history = model_RNN_mean.fit([train_claims_X, train_evidences_X], train_labels_y, batch_size=1024, shuffle=True, epochs=10, validation_data=([val_claims_X, val_evidences_X], val_labels_y))"
      ]
    },
    {
      "cell_type": "markdown",
      "metadata": {
        "id": "hKdH9x5yerJW"
      },
      "source": [
        "##3rd model training"
      ]
    },
    {
      "cell_type": "code",
      "execution_count": null,
      "metadata": {
        "id": "JayR8ze5eu0n"
      },
      "outputs": [],
      "source": [
        "model_MLP.compile(\n",
        "    loss=keras.losses.BinaryCrossentropy(),\n",
        "    optimizer=keras.optimizers.Adam(),\n",
        "    metrics=metrics\n",
        ")\n",
        "\n",
        "MLP_history = model_MLP.fit([train_claims_X, train_evidences_X], train_labels_y, batch_size=512, shuffle=True, epochs=15, validation_data=([val_claims_X, val_evidences_X], val_labels_y))"
      ]
    },
    {
      "cell_type": "markdown",
      "metadata": {
        "id": "HZhOfAgDTXAT"
      },
      "source": [
        "##4th model training"
      ]
    },
    {
      "cell_type": "code",
      "execution_count": null,
      "metadata": {
        "id": "YXFEvJxDTcS5"
      },
      "outputs": [],
      "source": [
        "model_bag_of_words.compile(\n",
        "    loss=keras.losses.BinaryCrossentropy(),\n",
        "    optimizer=keras.optimizers.Adam(),\n",
        "    metrics=metrics\n",
        ")\n",
        "\n",
        "bag_of_words_history = model_bag_of_words.fit([train_claims_X, train_evidences_X], train_labels_y, batch_size=128, shuffle=True, epochs=15, validation_data=([val_claims_X, val_evidences_X], val_labels_y))"
      ]
    },
    {
      "cell_type": "markdown",
      "metadata": {
        "id": "visESLwlk8Om"
      },
      "source": [
        "#Model Evaluation"
      ]
    },
    {
      "cell_type": "markdown",
      "metadata": {
        "id": "SxzYoUxiAbdR"
      },
      "source": [
        ""
      ]
    },
    {
      "cell_type": "code",
      "execution_count": null,
      "metadata": {
        "id": "VwnjeyyB9Vfi"
      },
      "outputs": [],
      "source": [
        "target_names = ['SUPPORT', 'REFUTES'] "
      ]
    },
    {
      "cell_type": "markdown",
      "metadata": {
        "id": "RWfVYyGwlQc8"
      },
      "source": [
        "###RNN last state\n"
      ]
    },
    {
      "cell_type": "code",
      "execution_count": null,
      "metadata": {
        "id": "t5O5ZLwYlNPS"
      },
      "outputs": [],
      "source": [
        "ev = model_RNN_mean.evaluate((test_claims_X, test_evidences_X), test_labels_y, verbose=1)"
      ]
    },
    {
      "cell_type": "markdown",
      "metadata": {
        "id": "_95YJ-95la7D"
      },
      "source": [
        "###RNN mean state"
      ]
    },
    {
      "cell_type": "code",
      "execution_count": null,
      "metadata": {
        "id": "5V6r4LvOlPLF"
      },
      "outputs": [],
      "source": [
        "ev = model_RNN_mean.evaluate((test_claims_X, test_evidences_X), test_labels_y, verbose=1)"
      ]
    },
    {
      "cell_type": "markdown",
      "metadata": {
        "id": "XOysgawBleEv"
      },
      "source": [
        "###MLP"
      ]
    },
    {
      "cell_type": "code",
      "execution_count": null,
      "metadata": {
        "id": "5nNmHZLxlP2g"
      },
      "outputs": [],
      "source": [
        "ev_MLP = model_MLP.predict((test_claims_X, test_evidences_X))                                                                                                                                                                         \n",
        "pred = np.around(ev_MLP)"
      ]
    },
    {
      "cell_type": "markdown",
      "metadata": {
        "id": "cww06bOtFyS9"
      },
      "source": [
        "Multi-input classification evaluation"
      ]
    },
    {
      "cell_type": "code",
      "execution_count": null,
      "metadata": {
        "id": "RC9EMUKz9AYG"
      },
      "outputs": [],
      "source": [
        "print(classification_report(test_labels_y, pred, target_names=target_names))"
      ]
    },
    {
      "cell_type": "markdown",
      "metadata": {
        "id": "cySPf7GsFte7"
      },
      "source": [
        "Claim verification evaluation"
      ]
    },
    {
      "cell_type": "code",
      "execution_count": null,
      "metadata": {
        "id": "gRMgE99nF1lB"
      },
      "outputs": [],
      "source": [
        ""
      ]
    },
    {
      "cell_type": "markdown",
      "metadata": {
        "id": "Pg8p4TgVlgXT"
      },
      "source": [
        "###Bag of words"
      ]
    },
    {
      "cell_type": "code",
      "execution_count": null,
      "metadata": {
        "id": "NQdYvq6Ak_bl"
      },
      "outputs": [],
      "source": [
        "ev_bag_of_words = model_bag_of_words.predict((test_claims_X, test_evidences_X))                                                                                                                                                                           \n",
        "pred_bag = np.around(ev_bag_of_words)"
      ]
    },
    {
      "cell_type": "code",
      "execution_count": null,
      "metadata": {
        "id": "mozz_2MO9aFr"
      },
      "outputs": [],
      "source": [
        "print(classification_report(test_labels_y, pred_bag, target_names=target_names))"
      ]
    }
  ],
  "metadata": {
    "colab": {
      "collapsed_sections": [
        "jZ4kki1fTQ3S",
        "oLeA5t3tYayh",
        "jix3-wr0aiFM",
        "_6ZA4eeYIAAU",
        "visESLwlk8Om"
      ],
      "name": "local_Assignment_2.ipynb",
      "provenance": [],
      "include_colab_link": true
    },
    "kernelspec": {
      "display_name": "Python 3",
      "name": "python3"
    }
  },
  "nbformat": 4,
  "nbformat_minor": 0
}