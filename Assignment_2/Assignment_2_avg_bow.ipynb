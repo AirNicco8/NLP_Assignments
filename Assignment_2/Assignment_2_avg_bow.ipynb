{
  "nbformat": 4,
  "nbformat_minor": 0,
  "metadata": {
    "colab": {
      "name": "Assignment_2_avg_bow.ipynb",
      "provenance": [],
      "collapsed_sections": [
        "SKbNqIih5VdB",
        "OWFUj3pN5j_n",
        "Dm4IB81X5shY"
      ]
    },
    "kernelspec": {
      "name": "python3",
      "display_name": "Python 3"
    }
  },
  "cells": [
    {
      "cell_type": "markdown",
      "metadata": {
        "id": "view-in-github"
      },
      "source": [
        "<a href=\"https://colab.research.google.com/github/AirNicco8/NLP_Assignments/blob/main/Assignment_2/Assignment_2_avg_bow.ipynb\" target=\"_parent\"><img src=\"https://colab.research.google.com/assets/colab-badge.svg\" alt=\"Open In Colab\"/></a>"
      ]
    },
    {
      "cell_type": "markdown",
      "source": [
        "This model in particular uses:\n",
        "\n",
        "1. **Sentence Embedding** ->  Compute the sentence embedding as the mean of its token embeddings (bag of vectors).\n",
        "2.  **Input Merging** -> Mean: define the classification input as the mean of evidence and claim sentence embeddings\n",
        "\n"
      ],
      "metadata": {
        "id": "O1__yyNNQn6N"
      }
    },
    {
      "cell_type": "markdown",
      "source": [
        "# Imports"
      ],
      "metadata": {
        "id": "SKbNqIih5VdB"
      }
    },
    {
      "cell_type": "code",
      "source": [
        "%load_ext tensorboard"
      ],
      "metadata": {
        "id": "Nmb31h_K4TWl"
      },
      "execution_count": 1,
      "outputs": []
    },
    {
      "cell_type": "code",
      "source": [
        "!rm -rf ./logs/"
      ],
      "metadata": {
        "id": "BP0S6fNH4fTx"
      },
      "execution_count": 2,
      "outputs": []
    },
    {
      "cell_type": "code",
      "source": [
        "import os\n",
        "import datetime\n",
        "import requests\n",
        "import zipfile\n",
        "\n",
        "import pandas as pd\n",
        "import re\n",
        "import numpy as np\n",
        "\n",
        "import tensorflow as tf\n",
        "from tensorflow import keras\n",
        "from tensorflow.keras import layers\n",
        "from keras.preprocessing.text import Tokenizer\n",
        "from keras.preprocessing.sequence import pad_sequences\n",
        "\n",
        "from keras.layers import LSTM, Bidirectional, TimeDistributed, Dense, InputLayer, Embedding, Activation\n",
        "from tensorflow.keras.optimizers import Adam\n",
        "from tensorflow.keras.metrics import BinaryAccuracy, Recall, Precision\n",
        "\n",
        "from sklearn.metrics import confusion_matrix\n",
        "from sklearn.metrics import classification_report"
      ],
      "metadata": {
        "id": "NAkiMWm3nufu"
      },
      "execution_count": 95,
      "outputs": []
    },
    {
      "cell_type": "code",
      "source": [
        "log_dir = \"logs/fit/\" + datetime.datetime.now().strftime(\"%Y%m%d-%H%M%S\")\n",
        "tensorboard_callback = tf.keras.callbacks.TensorBoard(log_dir=log_dir, histogram_freq=1)"
      ],
      "metadata": {
        "id": "XbD-X1zZFvxl"
      },
      "execution_count": 4,
      "outputs": []
    },
    {
      "cell_type": "markdown",
      "source": [
        "# Dataset download & Splitting"
      ],
      "metadata": {
        "id": "OWFUj3pN5j_n"
      }
    },
    {
      "cell_type": "code",
      "metadata": {
        "id": "BspxZcRjW0NG",
        "colab": {
          "base_uri": "https://localhost:8080/"
        },
        "outputId": "28c8cbda-f766-4656-88f2-54a0bd702ca2"
      },
      "source": [
        "def save_response_content(response, destination):\n",
        "    CHUNK_SIZE = 32768\n",
        "\n",
        "    with open(destination, \"wb\") as f:\n",
        "        for chunk in response.iter_content(CHUNK_SIZE):\n",
        "            if chunk: # filter out keep-alive new chunks\n",
        "                f.write(chunk)\n",
        "\n",
        "def download_data(data_path):\n",
        "    toy_data_path = os.path.join(data_path, 'fever_data.zip')\n",
        "    toy_data_url_id = \"1wArZhF9_SHW17WKNGeLmX-QTYw9Zscl1\"\n",
        "    toy_url = \"https://docs.google.com/uc?export=download\"\n",
        "\n",
        "    if not os.path.exists(data_path):\n",
        "        os.makedirs(data_path)\n",
        "\n",
        "    if not os.path.exists(toy_data_path):\n",
        "        print(\"Downloading FEVER data splits...\")\n",
        "        with requests.Session() as current_session:\n",
        "            response = current_session.get(toy_url,\n",
        "                                   params={'id': toy_data_url_id},\n",
        "                                   stream=True)\n",
        "        save_response_content(response, toy_data_path)\n",
        "        print(\"Download completed!\")\n",
        "\n",
        "        print(\"Extracting dataset...\")\n",
        "        with zipfile.ZipFile(toy_data_path) as loaded_zip:\n",
        "            loaded_zip.extractall(data_path)\n",
        "        print(\"Extraction completed!\")\n",
        "\n",
        "download_data('dataset')"
      ],
      "execution_count": 5,
      "outputs": [
        {
          "output_type": "stream",
          "name": "stdout",
          "text": [
            "Downloading FEVER data splits...\n",
            "Download completed!\n",
            "Extracting dataset...\n",
            "Extraction completed!\n"
          ]
        }
      ]
    },
    {
      "cell_type": "code",
      "source": [
        "test_name = \"test_pairs.csv\"\n",
        "train_name = \"train_pairs.csv\"\n",
        "val_name = \"val_pairs.csv\"\n",
        "\n",
        "\n",
        "test_path = os.path.join(os.getcwd(), \"dataset\", test_name)\n",
        "train_path = os.path.join(os.getcwd(), \"dataset\", train_name)\n",
        "val_path = os.path.join(os.getcwd(), \"dataset\", val_name)\n",
        "\n",
        "test_pairs = pd.read_csv(test_path);\n",
        "train_pairs = pd.read_csv(train_path);\n",
        "val_pairs = pd.read_csv(val_path);"
      ],
      "metadata": {
        "id": "BS9sP7_fMHXu"
      },
      "execution_count": 6,
      "outputs": []
    },
    {
      "cell_type": "code",
      "source": [
        "train_pairs.head()"
      ],
      "metadata": {
        "colab": {
          "base_uri": "https://localhost:8080/",
          "height": 0
        },
        "id": "i2FJ9JDLOABf",
        "outputId": "79a51987-69a8-4435-85f5-34dce776ced1"
      },
      "execution_count": 7,
      "outputs": [
        {
          "output_type": "execute_result",
          "data": {
            "text/html": [
              "\n",
              "  <div id=\"df-3aae4217-e2c7-459e-93d9-f521a0a7741d\">\n",
              "    <div class=\"colab-df-container\">\n",
              "      <div>\n",
              "<style scoped>\n",
              "    .dataframe tbody tr th:only-of-type {\n",
              "        vertical-align: middle;\n",
              "    }\n",
              "\n",
              "    .dataframe tbody tr th {\n",
              "        vertical-align: top;\n",
              "    }\n",
              "\n",
              "    .dataframe thead th {\n",
              "        text-align: right;\n",
              "    }\n",
              "</style>\n",
              "<table border=\"1\" class=\"dataframe\">\n",
              "  <thead>\n",
              "    <tr style=\"text-align: right;\">\n",
              "      <th></th>\n",
              "      <th>Unnamed: 0</th>\n",
              "      <th>Claim</th>\n",
              "      <th>Evidence</th>\n",
              "      <th>ID</th>\n",
              "      <th>Label</th>\n",
              "    </tr>\n",
              "  </thead>\n",
              "  <tbody>\n",
              "    <tr>\n",
              "      <th>0</th>\n",
              "      <td>0</td>\n",
              "      <td>Chris Hemsworth appeared in A Perfect Getaway.</td>\n",
              "      <td>2\\tHemsworth has also appeared in the science ...</td>\n",
              "      <td>3</td>\n",
              "      <td>SUPPORTS</td>\n",
              "    </tr>\n",
              "    <tr>\n",
              "      <th>1</th>\n",
              "      <td>1</td>\n",
              "      <td>Roald Dahl is a writer.</td>\n",
              "      <td>0\\tRoald Dahl -LRB- -LSB- langpronˈroʊ.əld _ ˈ...</td>\n",
              "      <td>7</td>\n",
              "      <td>SUPPORTS</td>\n",
              "    </tr>\n",
              "    <tr>\n",
              "      <th>2</th>\n",
              "      <td>2</td>\n",
              "      <td>Roald Dahl is a governor.</td>\n",
              "      <td>0\\tRoald Dahl -LRB- -LSB- langpronˈroʊ.əld _ ˈ...</td>\n",
              "      <td>8</td>\n",
              "      <td>REFUTES</td>\n",
              "    </tr>\n",
              "    <tr>\n",
              "      <th>3</th>\n",
              "      <td>3</td>\n",
              "      <td>Ireland has relatively low-lying mountains.</td>\n",
              "      <td>10\\tThe island 's geography comprises relative...</td>\n",
              "      <td>9</td>\n",
              "      <td>SUPPORTS</td>\n",
              "    </tr>\n",
              "    <tr>\n",
              "      <th>4</th>\n",
              "      <td>4</td>\n",
              "      <td>Ireland does not have relatively low-lying mou...</td>\n",
              "      <td>10\\tThe island 's geography comprises relative...</td>\n",
              "      <td>10</td>\n",
              "      <td>REFUTES</td>\n",
              "    </tr>\n",
              "  </tbody>\n",
              "</table>\n",
              "</div>\n",
              "      <button class=\"colab-df-convert\" onclick=\"convertToInteractive('df-3aae4217-e2c7-459e-93d9-f521a0a7741d')\"\n",
              "              title=\"Convert this dataframe to an interactive table.\"\n",
              "              style=\"display:none;\">\n",
              "        \n",
              "  <svg xmlns=\"http://www.w3.org/2000/svg\" height=\"24px\"viewBox=\"0 0 24 24\"\n",
              "       width=\"24px\">\n",
              "    <path d=\"M0 0h24v24H0V0z\" fill=\"none\"/>\n",
              "    <path d=\"M18.56 5.44l.94 2.06.94-2.06 2.06-.94-2.06-.94-.94-2.06-.94 2.06-2.06.94zm-11 1L8.5 8.5l.94-2.06 2.06-.94-2.06-.94L8.5 2.5l-.94 2.06-2.06.94zm10 10l.94 2.06.94-2.06 2.06-.94-2.06-.94-.94-2.06-.94 2.06-2.06.94z\"/><path d=\"M17.41 7.96l-1.37-1.37c-.4-.4-.92-.59-1.43-.59-.52 0-1.04.2-1.43.59L10.3 9.45l-7.72 7.72c-.78.78-.78 2.05 0 2.83L4 21.41c.39.39.9.59 1.41.59.51 0 1.02-.2 1.41-.59l7.78-7.78 2.81-2.81c.8-.78.8-2.07 0-2.86zM5.41 20L4 18.59l7.72-7.72 1.47 1.35L5.41 20z\"/>\n",
              "  </svg>\n",
              "      </button>\n",
              "      \n",
              "  <style>\n",
              "    .colab-df-container {\n",
              "      display:flex;\n",
              "      flex-wrap:wrap;\n",
              "      gap: 12px;\n",
              "    }\n",
              "\n",
              "    .colab-df-convert {\n",
              "      background-color: #E8F0FE;\n",
              "      border: none;\n",
              "      border-radius: 50%;\n",
              "      cursor: pointer;\n",
              "      display: none;\n",
              "      fill: #1967D2;\n",
              "      height: 32px;\n",
              "      padding: 0 0 0 0;\n",
              "      width: 32px;\n",
              "    }\n",
              "\n",
              "    .colab-df-convert:hover {\n",
              "      background-color: #E2EBFA;\n",
              "      box-shadow: 0px 1px 2px rgba(60, 64, 67, 0.3), 0px 1px 3px 1px rgba(60, 64, 67, 0.15);\n",
              "      fill: #174EA6;\n",
              "    }\n",
              "\n",
              "    [theme=dark] .colab-df-convert {\n",
              "      background-color: #3B4455;\n",
              "      fill: #D2E3FC;\n",
              "    }\n",
              "\n",
              "    [theme=dark] .colab-df-convert:hover {\n",
              "      background-color: #434B5C;\n",
              "      box-shadow: 0px 1px 3px 1px rgba(0, 0, 0, 0.15);\n",
              "      filter: drop-shadow(0px 1px 2px rgba(0, 0, 0, 0.3));\n",
              "      fill: #FFFFFF;\n",
              "    }\n",
              "  </style>\n",
              "\n",
              "      <script>\n",
              "        const buttonEl =\n",
              "          document.querySelector('#df-3aae4217-e2c7-459e-93d9-f521a0a7741d button.colab-df-convert');\n",
              "        buttonEl.style.display =\n",
              "          google.colab.kernel.accessAllowed ? 'block' : 'none';\n",
              "\n",
              "        async function convertToInteractive(key) {\n",
              "          const element = document.querySelector('#df-3aae4217-e2c7-459e-93d9-f521a0a7741d');\n",
              "          const dataTable =\n",
              "            await google.colab.kernel.invokeFunction('convertToInteractive',\n",
              "                                                     [key], {});\n",
              "          if (!dataTable) return;\n",
              "\n",
              "          const docLinkHtml = 'Like what you see? Visit the ' +\n",
              "            '<a target=\"_blank\" href=https://colab.research.google.com/notebooks/data_table.ipynb>data table notebook</a>'\n",
              "            + ' to learn more about interactive tables.';\n",
              "          element.innerHTML = '';\n",
              "          dataTable['output_type'] = 'display_data';\n",
              "          await google.colab.output.renderOutput(dataTable, element);\n",
              "          const docLink = document.createElement('div');\n",
              "          docLink.innerHTML = docLinkHtml;\n",
              "          element.appendChild(docLink);\n",
              "        }\n",
              "      </script>\n",
              "    </div>\n",
              "  </div>\n",
              "  "
            ],
            "text/plain": [
              "   Unnamed: 0                                              Claim  ...  ID     Label\n",
              "0           0     Chris Hemsworth appeared in A Perfect Getaway.  ...   3  SUPPORTS\n",
              "1           1                            Roald Dahl is a writer.  ...   7  SUPPORTS\n",
              "2           2                          Roald Dahl is a governor.  ...   8   REFUTES\n",
              "3           3        Ireland has relatively low-lying mountains.  ...   9  SUPPORTS\n",
              "4           4  Ireland does not have relatively low-lying mou...  ...  10   REFUTES\n",
              "\n",
              "[5 rows x 5 columns]"
            ]
          },
          "metadata": {},
          "execution_count": 7
        }
      ]
    },
    {
      "cell_type": "code",
      "source": [
        "train_set = train_pairs.drop(['Unnamed: 0', 'ID'], axis=1)\n",
        "train_set.head()"
      ],
      "metadata": {
        "colab": {
          "base_uri": "https://localhost:8080/",
          "height": 0
        },
        "id": "kzrgFOGXgkeV",
        "outputId": "03ac76d8-52b4-4970-ef9f-120c3ce2e4f9"
      },
      "execution_count": 8,
      "outputs": [
        {
          "output_type": "execute_result",
          "data": {
            "text/html": [
              "\n",
              "  <div id=\"df-f1afdd08-bdbd-4b45-be03-aa153eb0a56b\">\n",
              "    <div class=\"colab-df-container\">\n",
              "      <div>\n",
              "<style scoped>\n",
              "    .dataframe tbody tr th:only-of-type {\n",
              "        vertical-align: middle;\n",
              "    }\n",
              "\n",
              "    .dataframe tbody tr th {\n",
              "        vertical-align: top;\n",
              "    }\n",
              "\n",
              "    .dataframe thead th {\n",
              "        text-align: right;\n",
              "    }\n",
              "</style>\n",
              "<table border=\"1\" class=\"dataframe\">\n",
              "  <thead>\n",
              "    <tr style=\"text-align: right;\">\n",
              "      <th></th>\n",
              "      <th>Claim</th>\n",
              "      <th>Evidence</th>\n",
              "      <th>Label</th>\n",
              "    </tr>\n",
              "  </thead>\n",
              "  <tbody>\n",
              "    <tr>\n",
              "      <th>0</th>\n",
              "      <td>Chris Hemsworth appeared in A Perfect Getaway.</td>\n",
              "      <td>2\\tHemsworth has also appeared in the science ...</td>\n",
              "      <td>SUPPORTS</td>\n",
              "    </tr>\n",
              "    <tr>\n",
              "      <th>1</th>\n",
              "      <td>Roald Dahl is a writer.</td>\n",
              "      <td>0\\tRoald Dahl -LRB- -LSB- langpronˈroʊ.əld _ ˈ...</td>\n",
              "      <td>SUPPORTS</td>\n",
              "    </tr>\n",
              "    <tr>\n",
              "      <th>2</th>\n",
              "      <td>Roald Dahl is a governor.</td>\n",
              "      <td>0\\tRoald Dahl -LRB- -LSB- langpronˈroʊ.əld _ ˈ...</td>\n",
              "      <td>REFUTES</td>\n",
              "    </tr>\n",
              "    <tr>\n",
              "      <th>3</th>\n",
              "      <td>Ireland has relatively low-lying mountains.</td>\n",
              "      <td>10\\tThe island 's geography comprises relative...</td>\n",
              "      <td>SUPPORTS</td>\n",
              "    </tr>\n",
              "    <tr>\n",
              "      <th>4</th>\n",
              "      <td>Ireland does not have relatively low-lying mou...</td>\n",
              "      <td>10\\tThe island 's geography comprises relative...</td>\n",
              "      <td>REFUTES</td>\n",
              "    </tr>\n",
              "  </tbody>\n",
              "</table>\n",
              "</div>\n",
              "      <button class=\"colab-df-convert\" onclick=\"convertToInteractive('df-f1afdd08-bdbd-4b45-be03-aa153eb0a56b')\"\n",
              "              title=\"Convert this dataframe to an interactive table.\"\n",
              "              style=\"display:none;\">\n",
              "        \n",
              "  <svg xmlns=\"http://www.w3.org/2000/svg\" height=\"24px\"viewBox=\"0 0 24 24\"\n",
              "       width=\"24px\">\n",
              "    <path d=\"M0 0h24v24H0V0z\" fill=\"none\"/>\n",
              "    <path d=\"M18.56 5.44l.94 2.06.94-2.06 2.06-.94-2.06-.94-.94-2.06-.94 2.06-2.06.94zm-11 1L8.5 8.5l.94-2.06 2.06-.94-2.06-.94L8.5 2.5l-.94 2.06-2.06.94zm10 10l.94 2.06.94-2.06 2.06-.94-2.06-.94-.94-2.06-.94 2.06-2.06.94z\"/><path d=\"M17.41 7.96l-1.37-1.37c-.4-.4-.92-.59-1.43-.59-.52 0-1.04.2-1.43.59L10.3 9.45l-7.72 7.72c-.78.78-.78 2.05 0 2.83L4 21.41c.39.39.9.59 1.41.59.51 0 1.02-.2 1.41-.59l7.78-7.78 2.81-2.81c.8-.78.8-2.07 0-2.86zM5.41 20L4 18.59l7.72-7.72 1.47 1.35L5.41 20z\"/>\n",
              "  </svg>\n",
              "      </button>\n",
              "      \n",
              "  <style>\n",
              "    .colab-df-container {\n",
              "      display:flex;\n",
              "      flex-wrap:wrap;\n",
              "      gap: 12px;\n",
              "    }\n",
              "\n",
              "    .colab-df-convert {\n",
              "      background-color: #E8F0FE;\n",
              "      border: none;\n",
              "      border-radius: 50%;\n",
              "      cursor: pointer;\n",
              "      display: none;\n",
              "      fill: #1967D2;\n",
              "      height: 32px;\n",
              "      padding: 0 0 0 0;\n",
              "      width: 32px;\n",
              "    }\n",
              "\n",
              "    .colab-df-convert:hover {\n",
              "      background-color: #E2EBFA;\n",
              "      box-shadow: 0px 1px 2px rgba(60, 64, 67, 0.3), 0px 1px 3px 1px rgba(60, 64, 67, 0.15);\n",
              "      fill: #174EA6;\n",
              "    }\n",
              "\n",
              "    [theme=dark] .colab-df-convert {\n",
              "      background-color: #3B4455;\n",
              "      fill: #D2E3FC;\n",
              "    }\n",
              "\n",
              "    [theme=dark] .colab-df-convert:hover {\n",
              "      background-color: #434B5C;\n",
              "      box-shadow: 0px 1px 3px 1px rgba(0, 0, 0, 0.15);\n",
              "      filter: drop-shadow(0px 1px 2px rgba(0, 0, 0, 0.3));\n",
              "      fill: #FFFFFF;\n",
              "    }\n",
              "  </style>\n",
              "\n",
              "      <script>\n",
              "        const buttonEl =\n",
              "          document.querySelector('#df-f1afdd08-bdbd-4b45-be03-aa153eb0a56b button.colab-df-convert');\n",
              "        buttonEl.style.display =\n",
              "          google.colab.kernel.accessAllowed ? 'block' : 'none';\n",
              "\n",
              "        async function convertToInteractive(key) {\n",
              "          const element = document.querySelector('#df-f1afdd08-bdbd-4b45-be03-aa153eb0a56b');\n",
              "          const dataTable =\n",
              "            await google.colab.kernel.invokeFunction('convertToInteractive',\n",
              "                                                     [key], {});\n",
              "          if (!dataTable) return;\n",
              "\n",
              "          const docLinkHtml = 'Like what you see? Visit the ' +\n",
              "            '<a target=\"_blank\" href=https://colab.research.google.com/notebooks/data_table.ipynb>data table notebook</a>'\n",
              "            + ' to learn more about interactive tables.';\n",
              "          element.innerHTML = '';\n",
              "          dataTable['output_type'] = 'display_data';\n",
              "          await google.colab.output.renderOutput(dataTable, element);\n",
              "          const docLink = document.createElement('div');\n",
              "          docLink.innerHTML = docLinkHtml;\n",
              "          element.appendChild(docLink);\n",
              "        }\n",
              "      </script>\n",
              "    </div>\n",
              "  </div>\n",
              "  "
            ],
            "text/plain": [
              "                                               Claim  ...     Label\n",
              "0     Chris Hemsworth appeared in A Perfect Getaway.  ...  SUPPORTS\n",
              "1                            Roald Dahl is a writer.  ...  SUPPORTS\n",
              "2                          Roald Dahl is a governor.  ...   REFUTES\n",
              "3        Ireland has relatively low-lying mountains.  ...  SUPPORTS\n",
              "4  Ireland does not have relatively low-lying mou...  ...   REFUTES\n",
              "\n",
              "[5 rows x 3 columns]"
            ]
          },
          "metadata": {},
          "execution_count": 8
        }
      ]
    },
    {
      "cell_type": "code",
      "source": [
        "val_set = val_pairs.drop(['Unnamed: 0', 'ID'], axis=1)\n",
        "val_set.head()"
      ],
      "metadata": {
        "colab": {
          "base_uri": "https://localhost:8080/",
          "height": 0
        },
        "id": "Yn7KFLNX_GxO",
        "outputId": "0914e4cf-985b-4a4e-c77c-f395a0b889d8"
      },
      "execution_count": 9,
      "outputs": [
        {
          "output_type": "execute_result",
          "data": {
            "text/html": [
              "\n",
              "  <div id=\"df-ce574d15-a298-4001-99b5-4b58ae9907ee\">\n",
              "    <div class=\"colab-df-container\">\n",
              "      <div>\n",
              "<style scoped>\n",
              "    .dataframe tbody tr th:only-of-type {\n",
              "        vertical-align: middle;\n",
              "    }\n",
              "\n",
              "    .dataframe tbody tr th {\n",
              "        vertical-align: top;\n",
              "    }\n",
              "\n",
              "    .dataframe thead th {\n",
              "        text-align: right;\n",
              "    }\n",
              "</style>\n",
              "<table border=\"1\" class=\"dataframe\">\n",
              "  <thead>\n",
              "    <tr style=\"text-align: right;\">\n",
              "      <th></th>\n",
              "      <th>Claim</th>\n",
              "      <th>Evidence</th>\n",
              "      <th>Label</th>\n",
              "    </tr>\n",
              "  </thead>\n",
              "  <tbody>\n",
              "    <tr>\n",
              "      <th>0</th>\n",
              "      <td>The Indian Army comprises part of the country'...</td>\n",
              "      <td>16\\tIt is an all-volunteer force and comprises...</td>\n",
              "      <td>SUPPORTS</td>\n",
              "    </tr>\n",
              "    <tr>\n",
              "      <th>1</th>\n",
              "      <td>Recovery features Rihanna.</td>\n",
              "      <td>6\\tEminem also collaborated with artists such ...</td>\n",
              "      <td>SUPPORTS</td>\n",
              "    </tr>\n",
              "    <tr>\n",
              "      <th>2</th>\n",
              "      <td>Rihanna is on Recovery.</td>\n",
              "      <td>6\\tEminem also collaborated with artists such ...</td>\n",
              "      <td>SUPPORTS</td>\n",
              "    </tr>\n",
              "    <tr>\n",
              "      <th>3</th>\n",
              "      <td>Philomena was nominated.</td>\n",
              "      <td>8\\tThe film was nominated in four categories a...</td>\n",
              "      <td>SUPPORTS</td>\n",
              "    </tr>\n",
              "    <tr>\n",
              "      <th>4</th>\n",
              "      <td>Vietnam is a mascot.</td>\n",
              "      <td>0\\tVietnam -LRB- ˌ ; -LSB- vîət nāːm -RSB- -RR...</td>\n",
              "      <td>REFUTES</td>\n",
              "    </tr>\n",
              "  </tbody>\n",
              "</table>\n",
              "</div>\n",
              "      <button class=\"colab-df-convert\" onclick=\"convertToInteractive('df-ce574d15-a298-4001-99b5-4b58ae9907ee')\"\n",
              "              title=\"Convert this dataframe to an interactive table.\"\n",
              "              style=\"display:none;\">\n",
              "        \n",
              "  <svg xmlns=\"http://www.w3.org/2000/svg\" height=\"24px\"viewBox=\"0 0 24 24\"\n",
              "       width=\"24px\">\n",
              "    <path d=\"M0 0h24v24H0V0z\" fill=\"none\"/>\n",
              "    <path d=\"M18.56 5.44l.94 2.06.94-2.06 2.06-.94-2.06-.94-.94-2.06-.94 2.06-2.06.94zm-11 1L8.5 8.5l.94-2.06 2.06-.94-2.06-.94L8.5 2.5l-.94 2.06-2.06.94zm10 10l.94 2.06.94-2.06 2.06-.94-2.06-.94-.94-2.06-.94 2.06-2.06.94z\"/><path d=\"M17.41 7.96l-1.37-1.37c-.4-.4-.92-.59-1.43-.59-.52 0-1.04.2-1.43.59L10.3 9.45l-7.72 7.72c-.78.78-.78 2.05 0 2.83L4 21.41c.39.39.9.59 1.41.59.51 0 1.02-.2 1.41-.59l7.78-7.78 2.81-2.81c.8-.78.8-2.07 0-2.86zM5.41 20L4 18.59l7.72-7.72 1.47 1.35L5.41 20z\"/>\n",
              "  </svg>\n",
              "      </button>\n",
              "      \n",
              "  <style>\n",
              "    .colab-df-container {\n",
              "      display:flex;\n",
              "      flex-wrap:wrap;\n",
              "      gap: 12px;\n",
              "    }\n",
              "\n",
              "    .colab-df-convert {\n",
              "      background-color: #E8F0FE;\n",
              "      border: none;\n",
              "      border-radius: 50%;\n",
              "      cursor: pointer;\n",
              "      display: none;\n",
              "      fill: #1967D2;\n",
              "      height: 32px;\n",
              "      padding: 0 0 0 0;\n",
              "      width: 32px;\n",
              "    }\n",
              "\n",
              "    .colab-df-convert:hover {\n",
              "      background-color: #E2EBFA;\n",
              "      box-shadow: 0px 1px 2px rgba(60, 64, 67, 0.3), 0px 1px 3px 1px rgba(60, 64, 67, 0.15);\n",
              "      fill: #174EA6;\n",
              "    }\n",
              "\n",
              "    [theme=dark] .colab-df-convert {\n",
              "      background-color: #3B4455;\n",
              "      fill: #D2E3FC;\n",
              "    }\n",
              "\n",
              "    [theme=dark] .colab-df-convert:hover {\n",
              "      background-color: #434B5C;\n",
              "      box-shadow: 0px 1px 3px 1px rgba(0, 0, 0, 0.15);\n",
              "      filter: drop-shadow(0px 1px 2px rgba(0, 0, 0, 0.3));\n",
              "      fill: #FFFFFF;\n",
              "    }\n",
              "  </style>\n",
              "\n",
              "      <script>\n",
              "        const buttonEl =\n",
              "          document.querySelector('#df-ce574d15-a298-4001-99b5-4b58ae9907ee button.colab-df-convert');\n",
              "        buttonEl.style.display =\n",
              "          google.colab.kernel.accessAllowed ? 'block' : 'none';\n",
              "\n",
              "        async function convertToInteractive(key) {\n",
              "          const element = document.querySelector('#df-ce574d15-a298-4001-99b5-4b58ae9907ee');\n",
              "          const dataTable =\n",
              "            await google.colab.kernel.invokeFunction('convertToInteractive',\n",
              "                                                     [key], {});\n",
              "          if (!dataTable) return;\n",
              "\n",
              "          const docLinkHtml = 'Like what you see? Visit the ' +\n",
              "            '<a target=\"_blank\" href=https://colab.research.google.com/notebooks/data_table.ipynb>data table notebook</a>'\n",
              "            + ' to learn more about interactive tables.';\n",
              "          element.innerHTML = '';\n",
              "          dataTable['output_type'] = 'display_data';\n",
              "          await google.colab.output.renderOutput(dataTable, element);\n",
              "          const docLink = document.createElement('div');\n",
              "          docLink.innerHTML = docLinkHtml;\n",
              "          element.appendChild(docLink);\n",
              "        }\n",
              "      </script>\n",
              "    </div>\n",
              "  </div>\n",
              "  "
            ],
            "text/plain": [
              "                                               Claim  ...     Label\n",
              "0  The Indian Army comprises part of the country'...  ...  SUPPORTS\n",
              "1                         Recovery features Rihanna.  ...  SUPPORTS\n",
              "2                            Rihanna is on Recovery.  ...  SUPPORTS\n",
              "3                           Philomena was nominated.  ...  SUPPORTS\n",
              "4                               Vietnam is a mascot.  ...   REFUTES\n",
              "\n",
              "[5 rows x 3 columns]"
            ]
          },
          "metadata": {},
          "execution_count": 9
        }
      ]
    },
    {
      "cell_type": "code",
      "source": [
        "test_set = test_pairs.drop(['Unnamed: 0', 'ID'], axis=1)\n",
        "test_set.head()"
      ],
      "metadata": {
        "colab": {
          "base_uri": "https://localhost:8080/",
          "height": 0
        },
        "id": "h_gv0fTF_LdT",
        "outputId": "879f88c2-e511-4f4c-bb7b-131ee32f63f0"
      },
      "execution_count": 10,
      "outputs": [
        {
          "output_type": "execute_result",
          "data": {
            "text/html": [
              "\n",
              "  <div id=\"df-25fa0ddb-a87e-4a30-8f07-ce610739d289\">\n",
              "    <div class=\"colab-df-container\">\n",
              "      <div>\n",
              "<style scoped>\n",
              "    .dataframe tbody tr th:only-of-type {\n",
              "        vertical-align: middle;\n",
              "    }\n",
              "\n",
              "    .dataframe tbody tr th {\n",
              "        vertical-align: top;\n",
              "    }\n",
              "\n",
              "    .dataframe thead th {\n",
              "        text-align: right;\n",
              "    }\n",
              "</style>\n",
              "<table border=\"1\" class=\"dataframe\">\n",
              "  <thead>\n",
              "    <tr style=\"text-align: right;\">\n",
              "      <th></th>\n",
              "      <th>Claim</th>\n",
              "      <th>Evidence</th>\n",
              "      <th>Label</th>\n",
              "    </tr>\n",
              "  </thead>\n",
              "  <tbody>\n",
              "    <tr>\n",
              "      <th>0</th>\n",
              "      <td>Anxiety has been linked with physical symptoms.</td>\n",
              "      <td>13\\tFurthermore , anxiety has been linked with...</td>\n",
              "      <td>SUPPORTS</td>\n",
              "    </tr>\n",
              "    <tr>\n",
              "      <th>1</th>\n",
              "      <td>Firefox is an application.</td>\n",
              "      <td>0\\tMozilla Firefox -LRB- or simply Firefox -RR...</td>\n",
              "      <td>SUPPORTS</td>\n",
              "    </tr>\n",
              "    <tr>\n",
              "      <th>2</th>\n",
              "      <td>Keegan-Michael Key played President Barack Oba...</td>\n",
              "      <td>6\\tIn 2015 , Key appeared at the White House C...</td>\n",
              "      <td>SUPPORTS</td>\n",
              "    </tr>\n",
              "    <tr>\n",
              "      <th>3</th>\n",
              "      <td>Google Search can find stock quotes.</td>\n",
              "      <td>13\\tThese include synonyms , weather forecasts...</td>\n",
              "      <td>SUPPORTS</td>\n",
              "    </tr>\n",
              "    <tr>\n",
              "      <th>4</th>\n",
              "      <td>A Good Day to Die Hard was directed solely by ...</td>\n",
              "      <td>1\\tThe film was directed by John Moore and wri...</td>\n",
              "      <td>REFUTES</td>\n",
              "    </tr>\n",
              "  </tbody>\n",
              "</table>\n",
              "</div>\n",
              "      <button class=\"colab-df-convert\" onclick=\"convertToInteractive('df-25fa0ddb-a87e-4a30-8f07-ce610739d289')\"\n",
              "              title=\"Convert this dataframe to an interactive table.\"\n",
              "              style=\"display:none;\">\n",
              "        \n",
              "  <svg xmlns=\"http://www.w3.org/2000/svg\" height=\"24px\"viewBox=\"0 0 24 24\"\n",
              "       width=\"24px\">\n",
              "    <path d=\"M0 0h24v24H0V0z\" fill=\"none\"/>\n",
              "    <path d=\"M18.56 5.44l.94 2.06.94-2.06 2.06-.94-2.06-.94-.94-2.06-.94 2.06-2.06.94zm-11 1L8.5 8.5l.94-2.06 2.06-.94-2.06-.94L8.5 2.5l-.94 2.06-2.06.94zm10 10l.94 2.06.94-2.06 2.06-.94-2.06-.94-.94-2.06-.94 2.06-2.06.94z\"/><path d=\"M17.41 7.96l-1.37-1.37c-.4-.4-.92-.59-1.43-.59-.52 0-1.04.2-1.43.59L10.3 9.45l-7.72 7.72c-.78.78-.78 2.05 0 2.83L4 21.41c.39.39.9.59 1.41.59.51 0 1.02-.2 1.41-.59l7.78-7.78 2.81-2.81c.8-.78.8-2.07 0-2.86zM5.41 20L4 18.59l7.72-7.72 1.47 1.35L5.41 20z\"/>\n",
              "  </svg>\n",
              "      </button>\n",
              "      \n",
              "  <style>\n",
              "    .colab-df-container {\n",
              "      display:flex;\n",
              "      flex-wrap:wrap;\n",
              "      gap: 12px;\n",
              "    }\n",
              "\n",
              "    .colab-df-convert {\n",
              "      background-color: #E8F0FE;\n",
              "      border: none;\n",
              "      border-radius: 50%;\n",
              "      cursor: pointer;\n",
              "      display: none;\n",
              "      fill: #1967D2;\n",
              "      height: 32px;\n",
              "      padding: 0 0 0 0;\n",
              "      width: 32px;\n",
              "    }\n",
              "\n",
              "    .colab-df-convert:hover {\n",
              "      background-color: #E2EBFA;\n",
              "      box-shadow: 0px 1px 2px rgba(60, 64, 67, 0.3), 0px 1px 3px 1px rgba(60, 64, 67, 0.15);\n",
              "      fill: #174EA6;\n",
              "    }\n",
              "\n",
              "    [theme=dark] .colab-df-convert {\n",
              "      background-color: #3B4455;\n",
              "      fill: #D2E3FC;\n",
              "    }\n",
              "\n",
              "    [theme=dark] .colab-df-convert:hover {\n",
              "      background-color: #434B5C;\n",
              "      box-shadow: 0px 1px 3px 1px rgba(0, 0, 0, 0.15);\n",
              "      filter: drop-shadow(0px 1px 2px rgba(0, 0, 0, 0.3));\n",
              "      fill: #FFFFFF;\n",
              "    }\n",
              "  </style>\n",
              "\n",
              "      <script>\n",
              "        const buttonEl =\n",
              "          document.querySelector('#df-25fa0ddb-a87e-4a30-8f07-ce610739d289 button.colab-df-convert');\n",
              "        buttonEl.style.display =\n",
              "          google.colab.kernel.accessAllowed ? 'block' : 'none';\n",
              "\n",
              "        async function convertToInteractive(key) {\n",
              "          const element = document.querySelector('#df-25fa0ddb-a87e-4a30-8f07-ce610739d289');\n",
              "          const dataTable =\n",
              "            await google.colab.kernel.invokeFunction('convertToInteractive',\n",
              "                                                     [key], {});\n",
              "          if (!dataTable) return;\n",
              "\n",
              "          const docLinkHtml = 'Like what you see? Visit the ' +\n",
              "            '<a target=\"_blank\" href=https://colab.research.google.com/notebooks/data_table.ipynb>data table notebook</a>'\n",
              "            + ' to learn more about interactive tables.';\n",
              "          element.innerHTML = '';\n",
              "          dataTable['output_type'] = 'display_data';\n",
              "          await google.colab.output.renderOutput(dataTable, element);\n",
              "          const docLink = document.createElement('div');\n",
              "          docLink.innerHTML = docLinkHtml;\n",
              "          element.appendChild(docLink);\n",
              "        }\n",
              "      </script>\n",
              "    </div>\n",
              "  </div>\n",
              "  "
            ],
            "text/plain": [
              "                                               Claim  ...     Label\n",
              "0    Anxiety has been linked with physical symptoms.  ...  SUPPORTS\n",
              "1                         Firefox is an application.  ...  SUPPORTS\n",
              "2  Keegan-Michael Key played President Barack Oba...  ...  SUPPORTS\n",
              "3               Google Search can find stock quotes.  ...  SUPPORTS\n",
              "4  A Good Day to Die Hard was directed solely by ...  ...   REFUTES\n",
              "\n",
              "[5 rows x 3 columns]"
            ]
          },
          "metadata": {},
          "execution_count": 10
        }
      ]
    },
    {
      "cell_type": "markdown",
      "source": [
        "# Pre Processing"
      ],
      "metadata": {
        "id": "Dm4IB81X5shY"
      }
    },
    {
      "cell_type": "code",
      "source": [
        "train_labels = train_set.Label\n",
        "val_labels = val_set.Label\n",
        "test_labels = test_set.Label"
      ],
      "metadata": {
        "id": "XlqGAd5ZDTkQ"
      },
      "execution_count": 11,
      "outputs": []
    },
    {
      "cell_type": "code",
      "source": [
        "s_train_claims = train_set.Claim\n",
        "s_val_claims = val_set.Claim\n",
        "s_test_claims = test_set.Claim"
      ],
      "metadata": {
        "id": "IqqkyvcQDF6n"
      },
      "execution_count": 12,
      "outputs": []
    },
    {
      "cell_type": "code",
      "source": [
        "# convert claims in lists for tokenization\n",
        "train_claims = []\n",
        "val_claims = []\n",
        "test_claims = []\n",
        "\n",
        "for i in s_train_claims:\n",
        "  train_claims.append(i)\n",
        "\n",
        "for i in s_val_claims:\n",
        "  val_claims.append(i)\n",
        "\n",
        "for i in s_test_claims:\n",
        "  test_claims.append(i)"
      ],
      "metadata": {
        "id": "TF4HC8dOFQLi"
      },
      "execution_count": 13,
      "outputs": []
    },
    {
      "cell_type": "code",
      "source": [
        "train_df = pd.DataFrame(columns=['Claim', 'Evidence', 'Label'])\n",
        "\n",
        "train_evidences = train_set.Evidence\n",
        "val_evidences = val_set.Evidence\n",
        "test_evidences = test_set.Evidence"
      ],
      "metadata": {
        "id": "qdsDNbWNiqJg"
      },
      "execution_count": 14,
      "outputs": []
    },
    {
      "cell_type": "code",
      "source": [
        "train_evidences[0]"
      ],
      "metadata": {
        "colab": {
          "base_uri": "https://localhost:8080/",
          "height": 0
        },
        "id": "3MdOdu4go6ch",
        "outputId": "60794a55-e23e-44e2-e948-5083ac82b307"
      },
      "execution_count": 15,
      "outputs": [
        {
          "output_type": "execute_result",
          "data": {
            "application/vnd.google.colaboratory.intrinsic+json": {
              "type": "string"
            },
            "text/plain": [
              "'2\\tHemsworth has also appeared in the science fiction action film Star Trek -LRB- 2009 -RRB- , the thriller adventure A Perfect Getaway -LRB- 2009 -RRB- , the horror comedy The Cabin in the Woods -LRB- 2012 -RRB- , the dark-fantasy action film Snow White and the Huntsman -LRB- 2012 -RRB- , the war film Red Dawn -LRB- 2012 -RRB- , and the biographical sports drama film Rush -LRB- 2013 -RRB- .\\tStar Trek\\tStar Trek (film)\\tA Perfect Getaway\\tA Perfect Getaway\\tThe Cabin in the Woods\\tThe Cabin in the Woods\\tSnow White and the Huntsman\\tSnow White and the Huntsman\\tRed Dawn\\tRed Dawn (2012 film)\\tRush\\tRush (2013 film)'"
            ]
          },
          "metadata": {},
          "execution_count": 15
        }
      ]
    },
    {
      "cell_type": "code",
      "source": [
        "# compile regex to avoid multiple computations\n",
        "splitter = re.compile(r' \\.')\n",
        "beginline = re.compile(r'\\d+\\t')\n",
        "parenthesis = re.compile(r'\\-[A-Z]{3}\\-')\n",
        "phonetics = re.compile(r'[^a-zA-Z\\d\\s:\\u00C0-\\u00FF!\\\"#$%&\\'()*+,-./:;<=>?@[\\]^_`{|}~]*')"
      ],
      "metadata": {
        "id": "Rbjnkqu14PG_"
      },
      "execution_count": 16,
      "outputs": []
    },
    {
      "cell_type": "code",
      "source": [
        "#evidences text cleaning\n",
        "k=0\n",
        "clean_train_evidences = []\n",
        "clean_val_evidences = []\n",
        "clean_test_evidences = []\n",
        "\n",
        "for i in train_evidences:\n",
        "  tmp = re.split(splitter,i)[0]\n",
        "  tmp = re.sub(beginline, '', tmp)\n",
        "  if k == 12:\n",
        "     print(tmp)\n",
        "  tmp = re.sub(parenthesis, '', tmp)\n",
        "  tmp = re.sub(phonetics, '', tmp)\n",
        "  clean_train_evidences.append(tmp)\n",
        "  k += 1\n",
        "\n",
        "for i in val_evidences:\n",
        "  tmp = re.split(splitter,i)[0]\n",
        "  tmp = re.sub(beginline, '', tmp)\n",
        "  tmp = re.sub(parenthesis, '', tmp)\n",
        "  tmp = re.sub(phonetics, '', tmp)\n",
        "  clean_val_evidences.append(tmp)\n",
        "\n",
        "for i in test_evidences:\n",
        "  tmp = re.split(splitter,i)[0]\n",
        "  tmp = re.sub(beginline, '', tmp)\n",
        "  tmp = re.sub(parenthesis, '', tmp)\n",
        "  tmp = re.sub(phonetics, '', tmp)\n",
        "  clean_test_evidences.append(tmp)"
      ],
      "metadata": {
        "colab": {
          "base_uri": "https://localhost:8080/"
        },
        "id": "Hvgpv0Ysc7La",
        "outputId": "4950577d-8aa6-497c-d0a7-4ad165adeb48"
      },
      "execution_count": 17,
      "outputs": [
        {
          "output_type": "stream",
          "name": "stdout",
          "text": [
            "Greece -LRB- Ελλάδα , -LSB- eˈlaða -RSB- -RRB- , officially the Hellenic Republic -LRB- Greek : Ελληνική Δημοκρατία , -LSB- eliniˈci ðimokraˈti.a -RSB- -RRB- , historically also known as Hellas -LRB- Ἑλλάς , -LSB- heˈlas -RSB- , modern pronunciation Ellás -RRB- , is a country in southeastern Europe , with a population of approximately 11 million as of 2015\n"
          ]
        }
      ]
    },
    {
      "cell_type": "code",
      "source": [
        "val_evidences[62]\n",
        "# maybe needs more cleaning? i assume from now on we have clean data"
      ],
      "metadata": {
        "colab": {
          "base_uri": "https://localhost:8080/",
          "height": 0
        },
        "id": "CT9i2fLXsZIZ",
        "outputId": "7cd82634-279b-418d-db46-044ba3fce4f9"
      },
      "execution_count": 18,
      "outputs": [
        {
          "output_type": "execute_result",
          "data": {
            "application/vnd.google.colaboratory.intrinsic+json": {
              "type": "string"
            },
            "text/plain": [
              "'6\\tHitchcock became a highly visible public figure through interviews , movie trailers , cameo appearances in his own films , and the ten years in which he hosted the television programme Alfred Hitchcock Presents -LRB- 1955 -- 1965 -RRB- .\\tcameo appearances\\tList of Alfred Hitchcock cameo appearances\\tAlfred Hitchcock Presents\\tAlfred Hitchcock Presents'"
            ]
          },
          "metadata": {},
          "execution_count": 18
        }
      ]
    },
    {
      "cell_type": "code",
      "source": [
        "clean_val_evidences[62]"
      ],
      "metadata": {
        "colab": {
          "base_uri": "https://localhost:8080/",
          "height": 0
        },
        "id": "iwSRC0VDW4-Q",
        "outputId": "fc152f51-1398-4829-8fa4-41dc3957d7a6"
      },
      "execution_count": 19,
      "outputs": [
        {
          "output_type": "execute_result",
          "data": {
            "application/vnd.google.colaboratory.intrinsic+json": {
              "type": "string"
            },
            "text/plain": [
              "'Hitchcock became a highly visible public figure through interviews , movie trailers , cameo appearances in his own films , and the ten years in which he hosted the television programme Alfred Hitchcock Presents  1955 -- 1965 '"
            ]
          },
          "metadata": {},
          "execution_count": 19
        }
      ]
    },
    {
      "cell_type": "markdown",
      "source": [
        "# Tokenization\n",
        "- padding"
      ],
      "metadata": {
        "id": "W8nJS0oKd5Sg"
      }
    },
    {
      "cell_type": "code",
      "source": [
        "# concatenate splits lists for tokenizer input\n",
        "claim_to_vocab = train_claims + val_claims + test_claims\n",
        "evidences_to_vocab = clean_train_evidences + clean_val_evidences + clean_test_evidences"
      ],
      "metadata": {
        "id": "xc4MzQO5C6Lq"
      },
      "execution_count": 20,
      "outputs": []
    },
    {
      "cell_type": "code",
      "source": [
        "claim_tokenizer = Tokenizer(lower=False)                     # instantiate tokeniser\n",
        "claim_tokenizer.fit_on_texts(claim_to_vocab)                    # fit tokeniser on data"
      ],
      "metadata": {
        "id": "sWVFV60UEo-y"
      },
      "execution_count": 21,
      "outputs": []
    },
    {
      "cell_type": "code",
      "source": [
        "evidence_tokenizer = Tokenizer(lower=False)                     \n",
        "evidence_tokenizer.fit_on_texts(evidences_to_vocab)"
      ],
      "metadata": {
        "id": "sY_R_QR8HWFF"
      },
      "execution_count": 22,
      "outputs": []
    },
    {
      "cell_type": "markdown",
      "source": [
        "###Glove"
      ],
      "metadata": {
        "id": "nt1jMDILJql6"
      }
    },
    {
      "cell_type": "code",
      "source": [
        "!wget http://nlp.stanford.edu/data/glove.6B.zip\n",
        "!unzip -q glove.6B.zip"
      ],
      "metadata": {
        "colab": {
          "base_uri": "https://localhost:8080/"
        },
        "id": "0_NXjUc4JTbH",
        "outputId": "0c0bc79f-93d8-4263-e575-1cbc70efa57e"
      },
      "execution_count": 23,
      "outputs": [
        {
          "output_type": "stream",
          "name": "stdout",
          "text": [
            "--2021-12-20 15:22:15--  http://nlp.stanford.edu/data/glove.6B.zip\n",
            "Resolving nlp.stanford.edu (nlp.stanford.edu)... 171.64.67.140\n",
            "Connecting to nlp.stanford.edu (nlp.stanford.edu)|171.64.67.140|:80... connected.\n",
            "HTTP request sent, awaiting response... 302 Found\n",
            "Location: https://nlp.stanford.edu/data/glove.6B.zip [following]\n",
            "--2021-12-20 15:22:16--  https://nlp.stanford.edu/data/glove.6B.zip\n",
            "Connecting to nlp.stanford.edu (nlp.stanford.edu)|171.64.67.140|:443... connected.\n",
            "HTTP request sent, awaiting response... 301 Moved Permanently\n",
            "Location: http://downloads.cs.stanford.edu/nlp/data/glove.6B.zip [following]\n",
            "--2021-12-20 15:22:16--  http://downloads.cs.stanford.edu/nlp/data/glove.6B.zip\n",
            "Resolving downloads.cs.stanford.edu (downloads.cs.stanford.edu)... 171.64.64.22\n",
            "Connecting to downloads.cs.stanford.edu (downloads.cs.stanford.edu)|171.64.64.22|:80... connected.\n",
            "HTTP request sent, awaiting response... 200 OK\n",
            "Length: 862182613 (822M) [application/zip]\n",
            "Saving to: ‘glove.6B.zip’\n",
            "\n",
            "glove.6B.zip        100%[===================>] 822.24M  5.01MB/s    in 2m 42s  \n",
            "\n",
            "2021-12-20 15:24:58 (5.08 MB/s) - ‘glove.6B.zip’ saved [862182613/862182613]\n",
            "\n"
          ]
        }
      ]
    },
    {
      "cell_type": "code",
      "source": [
        "path_to_glove_file = os.path.join(os.getcwd(), \"glove.6B.100d.txt\")\n",
        "\n",
        "embeddings_index = {}\n",
        "with open(path_to_glove_file) as f:\n",
        "    for line in f:\n",
        "        word, coefs = line.split(maxsplit=1)\n",
        "        coefs = np.fromstring(coefs, \"f\", sep=\" \")\n",
        "        embeddings_index[word] = coefs\n",
        "\n",
        "print(\"Found %s word vectors.\" % len(embeddings_index))"
      ],
      "metadata": {
        "colab": {
          "base_uri": "https://localhost:8080/"
        },
        "id": "6I7Dngy8JXSN",
        "outputId": "0ed3bf86-4b65-4dff-a442-703767822609"
      },
      "execution_count": 24,
      "outputs": [
        {
          "output_type": "stream",
          "name": "stdout",
          "text": [
            "Found 400000 word vectors.\n"
          ]
        }
      ]
    },
    {
      "cell_type": "markdown",
      "source": [
        "Embedding matrix for claims"
      ],
      "metadata": {
        "id": "QQ0dRwcmJv52"
      }
    },
    {
      "cell_type": "code",
      "source": [
        "num_tokens = len(claim_tokenizer.index_word) + 1\n",
        "embedding_dim = 100\n",
        "hits = 0\n",
        "misses = 0\n",
        "\n",
        "\n",
        "# Prepare embedding matrix\n",
        "embedding_matrix_c = np.zeros((num_tokens, embedding_dim))\n",
        "for word, i in claim_tokenizer.word_index.items():\n",
        "    embedding_vector = embeddings_index.get(word)\n",
        "    if embedding_vector is not None:\n",
        "        # Words not found in embedding index will be all-zeros.\n",
        "        # This includes the representation for \"padding\" and \"OOV\"\n",
        "        embedding_matrix_c[i] = embedding_vector\n",
        "        hits += 1\n",
        "    else:\n",
        "        embedding_matrix_c += np.random.uniform(low=-0.05, high=0.05, size=embedding_dim)\n",
        "        misses += 1\n",
        "print(\"Converted %d words (%d misses)\" % (hits, misses))"
      ],
      "metadata": {
        "colab": {
          "base_uri": "https://localhost:8080/"
        },
        "id": "ylMG2NlUJfRy",
        "outputId": "e8eb4768-a3e1-4d93-8072-a7cc8ed2eeb9"
      },
      "execution_count": 26,
      "outputs": [
        {
          "output_type": "stream",
          "name": "stdout",
          "text": [
            "Converted 10970 words (13832 misses)\n"
          ]
        }
      ]
    },
    {
      "cell_type": "markdown",
      "source": [
        "Embedding matrix for Evidence"
      ],
      "metadata": {
        "id": "62QyRF-GJ6wW"
      }
    },
    {
      "cell_type": "code",
      "source": [
        "num_tokens = len(evidence_tokenizer.index_word) + 1\n",
        "embedding_dim = 100\n",
        "hits = 0\n",
        "misses = 0\n",
        "\n",
        "\n",
        "# Prepare embedding matrix\n",
        "embedding_matrix_e = np.zeros((num_tokens, embedding_dim))\n",
        "for word, i in evidence_tokenizer.word_index.items():\n",
        "    embedding_vector = embeddings_index.get(word)\n",
        "    if embedding_vector is not None:\n",
        "        # Words not found in embedding index will be all-zeros.\n",
        "        # This includes the representation for \"padding\" and \"OOV\"\n",
        "        embedding_matrix_e[i] = embedding_vector\n",
        "        hits += 1\n",
        "    else:\n",
        "        embedding_matrix_e += np.random.uniform(low=-0.05, high=0.05, size=embedding_dim)\n",
        "        misses += 1\n",
        "print(\"Converted %d words (%d misses)\" % (hits, misses))"
      ],
      "metadata": {
        "colab": {
          "base_uri": "https://localhost:8080/"
        },
        "id": "Okl6jgimJgmH",
        "outputId": "11ea8757-f325-4e23-ff53-aea56e503f64"
      },
      "execution_count": 27,
      "outputs": [
        {
          "output_type": "stream",
          "name": "stdout",
          "text": [
            "Converted 15376 words (22592 misses)\n"
          ]
        }
      ]
    },
    {
      "cell_type": "code",
      "source": [
        "def tobin(x): # map binary labels (target) to 0 or 1\n",
        "  if x == 'SUPPORTS':\n",
        "    return 0\n",
        "  return 1 # REFUTES\n",
        "\n",
        "train_labels_y = train_labels.apply(tobin)\n",
        "val_labels_y = val_labels.apply(tobin)\n",
        "test_labels_y = test_labels.apply(tobin)"
      ],
      "metadata": {
        "id": "6qYzhXuDeo7k"
      },
      "execution_count": 28,
      "outputs": []
    },
    {
      "cell_type": "code",
      "source": [
        "# from text to integers\n",
        "train_claims_X = claim_tokenizer.texts_to_sequences(train_claims)\n",
        "val_claims_X = claim_tokenizer.texts_to_sequences(val_claims)\n",
        "test_claims_X = claim_tokenizer.texts_to_sequences(test_claims)\n",
        "\n",
        "train_evidences_X = evidence_tokenizer.texts_to_sequences(clean_train_evidences)\n",
        "val_evidences_X = evidence_tokenizer.texts_to_sequences(clean_val_evidences)\n",
        "test_evidences_X = evidence_tokenizer.texts_to_sequences(clean_test_evidences)"
      ],
      "metadata": {
        "id": "ryX-w3nshtVa"
      },
      "execution_count": 29,
      "outputs": []
    },
    {
      "cell_type": "markdown",
      "source": [
        "###Padding"
      ],
      "metadata": {
        "id": "VTGqD9oKdSTn"
      }
    },
    {
      "cell_type": "code",
      "source": [
        "MAX_CLAIM_LENGTH = max(len(max(train_claims_X, key=len)), len(max(val_claims_X, key=len)), len(max(test_claims_X, key=len)))\n",
        "MAX_CLAIM_LENGTH"
      ],
      "metadata": {
        "colab": {
          "base_uri": "https://localhost:8080/"
        },
        "id": "DGpIpGUVmB2H",
        "outputId": "b665594c-7ab5-4ada-b043-0c88aaae1b16"
      },
      "execution_count": 30,
      "outputs": [
        {
          "output_type": "execute_result",
          "data": {
            "text/plain": [
              "65"
            ]
          },
          "metadata": {},
          "execution_count": 30
        }
      ]
    },
    {
      "cell_type": "code",
      "source": [
        "MAX_EVIDENCE_LENGTH = max(len(max(train_evidences_X, key=len)), len(max(val_evidences_X, key=len)), len(max(test_evidences_X, key=len)))\n",
        "MAX_EVIDENCE_LENGTH"
      ],
      "metadata": {
        "colab": {
          "base_uri": "https://localhost:8080/"
        },
        "id": "h8Ljdd2UmJXE",
        "outputId": "b37b3132-2689-4ab2-a3aa-5fc5995596a1"
      },
      "execution_count": 31,
      "outputs": [
        {
          "output_type": "execute_result",
          "data": {
            "text/plain": [
              "209"
            ]
          },
          "metadata": {},
          "execution_count": 31
        }
      ]
    },
    {
      "cell_type": "code",
      "source": [
        "def pad(set, max): # padding function\n",
        "  return pad_sequences(set, maxlen=max, padding='post')"
      ],
      "metadata": {
        "id": "ojJhCIKqnG7n"
      },
      "execution_count": 32,
      "outputs": []
    },
    {
      "cell_type": "code",
      "source": [
        "train_claims_X = pad(train_claims_X, MAX_CLAIM_LENGTH)\n",
        "val_claims_X = pad(val_claims_X, MAX_CLAIM_LENGTH)\n",
        "test_claims_X = pad(test_claims_X, MAX_CLAIM_LENGTH)\n",
        "\n",
        "train_evidences_X = pad(train_evidences_X, MAX_EVIDENCE_LENGTH)\n",
        "val_evidences_X = pad(val_evidences_X, MAX_EVIDENCE_LENGTH)\n",
        "test_evidences_X = pad(test_evidences_X, MAX_EVIDENCE_LENGTH)"
      ],
      "metadata": {
        "id": "caPgRJPpmYMj"
      },
      "execution_count": 33,
      "outputs": []
    },
    {
      "cell_type": "markdown",
      "source": [
        "# Model Implementation"
      ],
      "metadata": {
        "id": "0eQDRB1-oEuA"
      }
    },
    {
      "cell_type": "markdown",
      "source": [
        "##1. Encode token sequences via a RNN and take the last state as the sentence embedding."
      ],
      "metadata": {
        "id": "jZ4kki1fTQ3S"
      }
    },
    {
      "cell_type": "code",
      "source": [
        "embedded_dimension = 100\n",
        "\n",
        "# input layers\n",
        "evidence_input_layer = keras.Input(shape=(MAX_EVIDENCE_LENGTH, ))\n",
        "claim_input_layer = keras.Input(shape=(MAX_CLAIM_LENGTH, ))\n",
        "\n",
        "claim_input = claim_input_layer\n",
        "evidence_input = evidence_input_layer\n",
        "\n",
        "# Embeddings\n",
        "claims_embedding_layer = tf.keras.layers.Embedding(\n",
        "    len(claim_tokenizer.word_index)+1,\n",
        "    embedded_dimension,\n",
        "    embeddings_initializer=keras.initializers.Constant(embedding_matrix_c),\n",
        "    trainable = True,\n",
        "    embeddings_regularizer=None,\n",
        "    activity_regularizer=None,\n",
        "    embeddings_constraint=None,\n",
        "    mask_zero=False,\n",
        "    input_length=MAX_CLAIM_LENGTH\n",
        ")\n",
        "\n",
        "evidences_embedding_layer = tf.keras.layers.Embedding(\n",
        "    len(evidence_tokenizer.word_index)+1,\n",
        "    embedded_dimension,\n",
        "    embeddings_initializer=keras.initializers.Constant(embedding_matrix_e),\n",
        "    trainable = True,\n",
        "    embeddings_regularizer=None,\n",
        "    activity_regularizer=None,\n",
        "    embeddings_constraint=None,\n",
        "    mask_zero=False,\n",
        "    input_length=MAX_EVIDENCE_LENGTH\n",
        ")\n",
        "\n",
        "x1 = claims_embedding_layer(claim_input)\n",
        "x2 = evidences_embedding_layer(evidence_input)\n",
        "\n",
        "x1 = LSTM(units=int(embedded_dimension),\n",
        "                          return_sequences=False)(x1) \n",
        "\n",
        "x2 = LSTM(units=int(embedded_dimension), \n",
        "                          return_sequences=False )(x2) \n",
        "\n",
        "# Merge layer\n",
        "mean_x = tf.keras.layers.Average()([x1,x2])\n",
        "\n",
        "# classification final layer\n",
        "\n",
        "outputs = layers.Dense(1, activation='sigmoid')(mean_x)\n",
        "\n",
        "model_RNN_last = keras.Model(inputs=[claim_input, evidence_input], outputs=outputs, name=\"RNN_last\")\n",
        "model_RNN_last.summary()"
      ],
      "metadata": {
        "colab": {
          "base_uri": "https://localhost:8080/"
        },
        "id": "xr9St4AjTHHt",
        "outputId": "14c26c3c-fc0f-4825-d8c3-e77ced139b3d"
      },
      "execution_count": 35,
      "outputs": [
        {
          "output_type": "stream",
          "name": "stdout",
          "text": [
            "Model: \"RNN_last\"\n",
            "__________________________________________________________________________________________________\n",
            " Layer (type)                   Output Shape         Param #     Connected to                     \n",
            "==================================================================================================\n",
            " input_4 (InputLayer)           [(None, 65)]         0           []                               \n",
            "                                                                                                  \n",
            " input_3 (InputLayer)           [(None, 209)]        0           []                               \n",
            "                                                                                                  \n",
            " embedding_2 (Embedding)        (None, 65, 100)      2480300     ['input_4[0][0]']                \n",
            "                                                                                                  \n",
            " embedding_3 (Embedding)        (None, 209, 100)     3796900     ['input_3[0][0]']                \n",
            "                                                                                                  \n",
            " lstm (LSTM)                    (None, 100)          80400       ['embedding_2[0][0]']            \n",
            "                                                                                                  \n",
            " lstm_1 (LSTM)                  (None, 100)          80400       ['embedding_3[0][0]']            \n",
            "                                                                                                  \n",
            " average (Average)              (None, 100)          0           ['lstm[0][0]',                   \n",
            "                                                                  'lstm_1[0][0]']                 \n",
            "                                                                                                  \n",
            " dense (Dense)                  (None, 1)            101         ['average[0][0]']                \n",
            "                                                                                                  \n",
            "==================================================================================================\n",
            "Total params: 6,438,101\n",
            "Trainable params: 160,901\n",
            "Non-trainable params: 6,277,200\n",
            "__________________________________________________________________________________________________\n"
          ]
        }
      ]
    },
    {
      "cell_type": "code",
      "source": [
        "keras.utils.plot_model(model_RNN_last, \"RNN_last.png\")"
      ],
      "metadata": {
        "colab": {
          "base_uri": "https://localhost:8080/",
          "height": 466
        },
        "id": "oYwwbGpyVsEr",
        "outputId": "1098b834-791a-4ecc-fe7b-eb920c5cf4dc"
      },
      "execution_count": 36,
      "outputs": [
        {
          "output_type": "execute_result",
          "data": {
            "image/png": "[encoded data removed]",
            "text/plain": [
              "<IPython.core.display.Image object>"
            ]
          },
          "metadata": {},
          "execution_count": 36
        }
      ]
    },
    {
      "cell_type": "markdown",
      "source": [
        "## 2. Encode token sequences via a RNN and average all the output states."
      ],
      "metadata": {
        "id": "oLeA5t3tYayh"
      }
    },
    {
      "cell_type": "code",
      "source": [
        "embedded_dimension = 100\n",
        "\n",
        "# input layers\n",
        "evidence_input_layer = keras.Input(shape=(MAX_EVIDENCE_LENGTH, ))\n",
        "claim_input_layer = keras.Input(shape=(MAX_CLAIM_LENGTH, ))\n",
        "\n",
        "claim_input = claim_input_layer\n",
        "evidence_input = evidence_input_layer\n",
        "\n",
        "# Embeddings\n",
        "claims_embedding_layer = tf.keras.layers.Embedding(\n",
        "    len(claim_tokenizer.word_index)+1,\n",
        "    embedded_dimension,\n",
        "    embeddings_initializer=keras.initializers.Constant(embedding_matrix_c),\n",
        "    trainable = True,\n",
        "    embeddings_regularizer=None,\n",
        "    activity_regularizer=None,\n",
        "    embeddings_constraint=None,\n",
        "    mask_zero=False,\n",
        "    input_length=MAX_CLAIM_LENGTH\n",
        ")\n",
        "\n",
        "evidences_embedding_layer = tf.keras.layers.Embedding(\n",
        "    len(evidence_tokenizer.word_index)+1,\n",
        "    embedded_dimension,\n",
        "    embeddings_initializer=keras.initializers.Constant(embedding_matrix_e),\n",
        "    trainable = True,\n",
        "    embeddings_regularizer=None,\n",
        "    activity_regularizer=None,\n",
        "    embeddings_constraint=None,\n",
        "    mask_zero=False,\n",
        "    input_length=MAX_EVIDENCE_LENGTH\n",
        ")\n",
        "\n",
        "x1 = claims_embedding_layer(claim_input)\n",
        "x2 = evidences_embedding_layer(evidence_input)\n",
        "\n",
        "x1 = LSTM(units=int(embedded_dimension),\n",
        "                          return_sequences=True)(x1) \n",
        "\n",
        "x2 = LSTM(units=int(embedded_dimension),\n",
        "                          return_sequences=True)(x2) \n",
        "\n",
        "x1 = tf.reduce_mean(x1, 1)\n",
        "x2 = tf.reduce_mean(x2, 1)\n",
        "\n",
        "# Merge layer\n",
        "mean_x = tf.keras.layers.Average()([x1,x2])\n",
        "\n",
        "# classification final layer\n",
        "\n",
        "outputs = layers.Dense(1, activation='sigmoid')(mean_x)\n",
        "\n",
        "model_RNN_mean = keras.Model(inputs=[claim_input, evidence_input], outputs=outputs, name=\"RNN_mean\")\n",
        "model_RNN_mean.summary()"
      ],
      "metadata": {
        "colab": {
          "base_uri": "https://localhost:8080/"
        },
        "id": "cBK_mFh3Yd8D",
        "outputId": "b4a53f39-56fb-47c0-b246-7b375a233b39"
      },
      "execution_count": 59,
      "outputs": [
        {
          "output_type": "stream",
          "name": "stdout",
          "text": [
            "Model: \"RNN_mean\"\n",
            "__________________________________________________________________________________________________\n",
            " Layer (type)                   Output Shape         Param #     Connected to                     \n",
            "==================================================================================================\n",
            " input_32 (InputLayer)          [(None, 65)]         0           []                               \n",
            "                                                                                                  \n",
            " input_31 (InputLayer)          [(None, 209)]        0           []                               \n",
            "                                                                                                  \n",
            " embedding_30 (Embedding)       (None, 65, 100)      2480300     ['input_32[0][0]']               \n",
            "                                                                                                  \n",
            " embedding_31 (Embedding)       (None, 209, 100)     3796900     ['input_31[0][0]']               \n",
            "                                                                                                  \n",
            " lstm_14 (LSTM)                 (None, 65, 100)      80400       ['embedding_30[0][0]']           \n",
            "                                                                                                  \n",
            " lstm_15 (LSTM)                 (None, 209, 100)     80400       ['embedding_31[0][0]']           \n",
            "                                                                                                  \n",
            " tf.math.reduce_mean_16 (TFOpLa  (None, 100)         0           ['lstm_14[0][0]']                \n",
            " mbda)                                                                                            \n",
            "                                                                                                  \n",
            " tf.math.reduce_mean_17 (TFOpLa  (None, 100)         0           ['lstm_15[0][0]']                \n",
            " mbda)                                                                                            \n",
            "                                                                                                  \n",
            " average_12 (Average)           (None, 100)          0           ['tf.math.reduce_mean_16[0][0]', \n",
            "                                                                  'tf.math.reduce_mean_17[0][0]'] \n",
            "                                                                                                  \n",
            " dense_22 (Dense)               (None, 1)            101         ['average_12[0][0]']             \n",
            "                                                                                                  \n",
            "==================================================================================================\n",
            "Total params: 6,438,101\n",
            "Trainable params: 160,901\n",
            "Non-trainable params: 6,277,200\n",
            "__________________________________________________________________________________________________\n"
          ]
        }
      ]
    },
    {
      "cell_type": "code",
      "source": [
        "keras.utils.plot_model(model_RNN_mean, \"RNN_mean.png\")"
      ],
      "metadata": {
        "colab": {
          "base_uri": "https://localhost:8080/",
          "height": 564
        },
        "id": "Xj7ZxC_tYsfp",
        "outputId": "6c094c43-6233-42e8-a0ce-64b1c0adfab5"
      },
      "execution_count": 38,
      "outputs": [
        {
          "output_type": "execute_result",
          "data": {
            "image/png": "[encoded data removed]",
            "text/plain": [
              "<IPython.core.display.Image object>"
            ]
          },
          "metadata": {},
          "execution_count": 38
        }
      ]
    },
    {
      "cell_type": "markdown",
      "source": [
        "## 3. Encode token sequences via a simple MLP layer. "
      ],
      "metadata": {
        "id": "jix3-wr0aiFM"
      }
    },
    {
      "cell_type": "code",
      "source": [
        "embedded_dimension = 100\n",
        "\n",
        "# input layers\n",
        "evidence_input_layer = keras.Input(shape=(MAX_EVIDENCE_LENGTH, ))\n",
        "claim_input_layer = keras.Input(shape=(MAX_CLAIM_LENGTH, ))\n",
        "\n",
        "claim_input = claim_input_layer\n",
        "evidence_input = evidence_input_layer\n",
        "\n",
        "# Embeddings\n",
        "claims_embedding_layer = tf.keras.layers.Embedding(\n",
        "    len(claim_tokenizer.word_index)+1,\n",
        "    embedded_dimension,\n",
        "    embeddings_initializer=keras.initializers.Constant(embedding_matrix_c),\n",
        "    trainable = True,\n",
        "    embeddings_regularizer=None,\n",
        "    activity_regularizer=None,\n",
        "    embeddings_constraint=None,\n",
        "    mask_zero=False,\n",
        "    input_length=MAX_CLAIM_LENGTH\n",
        ")\n",
        "\n",
        "evidences_embedding_layer = tf.keras.layers.Embedding(\n",
        "    len(evidence_tokenizer.word_index)+1,\n",
        "    embedded_dimension,\n",
        "    embeddings_initializer=keras.initializers.Constant(embedding_matrix_e),\n",
        "    trainable = True,\n",
        "    embeddings_regularizer=None,\n",
        "    activity_regularizer=None,\n",
        "    embeddings_constraint=None,\n",
        "    mask_zero=False,\n",
        "    input_length=MAX_EVIDENCE_LENGTH\n",
        ")\n",
        "\n",
        "x1 = claims_embedding_layer(claim_input)\n",
        "x2 = evidences_embedding_layer(evidence_input)\n",
        "\n",
        "x1 = tf.reshape(x1, [-1, MAX_CLAIM_LENGTH*embedded_dimension]) \n",
        "x2 = tf.reshape(x2, [-1, MAX_EVIDENCE_LENGTH*embedded_dimension]) \n",
        "  \n",
        "  \n",
        "x1 = Dense(embedded_dimension,activation='relu')(x1)  \n",
        "x2 = Dense(embedded_dimension,activation='relu')(x2)  \n",
        "\n",
        "\n",
        "# Merge layer\n",
        "mean_x = tf.keras.layers.Average()([x1,x2])\n",
        "\n",
        "# classification final layer\n",
        "\n",
        "outputs = layers.Dense(1, activation='sigmoid')(mean_x)\n",
        "\n",
        "model_MLP = keras.Model(inputs=[claim_input, evidence_input], outputs=outputs, name=\"MLP\")\n",
        "model_MLP.summary()"
      ],
      "metadata": {
        "id": "YyJRNDFwahh3",
        "colab": {
          "base_uri": "https://localhost:8080/"
        },
        "outputId": "62b4a699-0a3e-49b1-ab98-e6bf1dd7c289"
      },
      "execution_count": 81,
      "outputs": [
        {
          "output_type": "stream",
          "name": "stdout",
          "text": [
            "Model: \"MLP\"\n",
            "__________________________________________________________________________________________________\n",
            " Layer (type)                   Output Shape         Param #     Connected to                     \n",
            "==================================================================================================\n",
            " input_42 (InputLayer)          [(None, 65)]         0           []                               \n",
            "                                                                                                  \n",
            " input_41 (InputLayer)          [(None, 209)]        0           []                               \n",
            "                                                                                                  \n",
            " embedding_40 (Embedding)       (None, 65, 100)      2480300     ['input_42[0][0]']               \n",
            "                                                                                                  \n",
            " embedding_41 (Embedding)       (None, 209, 100)     3796900     ['input_41[0][0]']               \n",
            "                                                                                                  \n",
            " tf.reshape_14 (TFOpLambda)     (None, 6500)         0           ['embedding_40[0][0]']           \n",
            "                                                                                                  \n",
            " tf.reshape_15 (TFOpLambda)     (None, 20900)        0           ['embedding_41[0][0]']           \n",
            "                                                                                                  \n",
            " dense_31 (Dense)               (None, 100)          650100      ['tf.reshape_14[0][0]']          \n",
            "                                                                                                  \n",
            " dense_32 (Dense)               (None, 100)          2090100     ['tf.reshape_15[0][0]']          \n",
            "                                                                                                  \n",
            " average_13 (Average)           (None, 100)          0           ['dense_31[0][0]',               \n",
            "                                                                  'dense_32[0][0]']               \n",
            "                                                                                                  \n",
            " dense_33 (Dense)               (None, 1)            101         ['average_13[0][0]']             \n",
            "                                                                                                  \n",
            "==================================================================================================\n",
            "Total params: 9,017,501\n",
            "Trainable params: 9,017,501\n",
            "Non-trainable params: 0\n",
            "__________________________________________________________________________________________________\n"
          ]
        }
      ]
    },
    {
      "cell_type": "markdown",
      "source": [
        "## 4. Compute the sentence embedding as the mean of its token embeddings (bag of vectors)"
      ],
      "metadata": {
        "id": "_6ZA4eeYIAAU"
      }
    },
    {
      "cell_type": "code",
      "source": [
        "embedded_dimension = 100\n",
        "\n",
        "# input layers\n",
        "evidence_input_layer = keras.Input(shape=(MAX_EVIDENCE_LENGTH, ))\n",
        "claim_input_layer = keras.Input(shape=(MAX_CLAIM_LENGTH, ))\n",
        "\n",
        "claim_input = claim_input_layer\n",
        "evidence_input = evidence_input_layer\n",
        "\n",
        "# Embeddings\n",
        "claims_embedding_layer = tf.keras.layers.Embedding(\n",
        "    len(claim_tokenizer.word_index)+1,\n",
        "    100,\n",
        "    embeddings_initializer=keras.initializers.Constant(embedding_matrix_c),\n",
        "    trainable = True,\n",
        "    embeddings_regularizer=None,\n",
        "    activity_regularizer=None,\n",
        "    embeddings_constraint=None,\n",
        "    mask_zero=False,\n",
        "    input_length=MAX_CLAIM_LENGTH\n",
        ")\n",
        "\n",
        "evidences_embedding_layer = tf.keras.layers.Embedding(\n",
        "    len(evidence_tokenizer.word_index)+1,\n",
        "    100,\n",
        "    embeddings_initializer=keras.initializers.Constant(embedding_matrix_e),\n",
        "    trainable = True,\n",
        "    embeddings_regularizer=None,\n",
        "    activity_regularizer=None,\n",
        "    embeddings_constraint=None,\n",
        "    mask_zero=False,\n",
        "    input_length=MAX_EVIDENCE_LENGTH\n",
        ")\n",
        "\n",
        "x1 = claims_embedding_layer(claim_input)\n",
        "x2 = evidences_embedding_layer(evidence_input)\n",
        "\n",
        "# Mean\n",
        "x_claim = tf.math.reduce_mean(x1, axis=-1, keepdims=False)\n",
        "x_evidence = tf.math.reduce_mean(x2, axis=-1, keepdims=False)\n",
        "\n",
        "# Dense\n",
        "claim_dense = layers.Dense(embedded_dimension, activation='relu')(x_claim)\n",
        "evidence_dense = layers.Dense(embedded_dimension, activation='relu')(x_evidence)\n",
        "\n",
        "# Merge layer\n",
        "mean_x = tf.keras.layers.Average()([claim_dense,evidence_dense])\n",
        "\n",
        "# classification final layer\n",
        "classification_layer = layers.Dense(1, activation='sigmoid')\n",
        "\n",
        "outputs = classification_layer(mean_x)\n",
        "\n",
        "model_bag_of_words = keras.Model(inputs=[claim_input, evidence_input], outputs=outputs, name=\"bag_of_words\")\n",
        "model_bag_of_words.summary()"
      ],
      "metadata": {
        "id": "gzVi4Fa64tF-",
        "colab": {
          "base_uri": "https://localhost:8080/"
        },
        "outputId": "e499fe99-5ceb-43f1-e9e5-00dfb95f58ca"
      },
      "execution_count": 46,
      "outputs": [
        {
          "output_type": "stream",
          "name": "stdout",
          "text": [
            "Model: \"bag_of_words\"\n",
            "__________________________________________________________________________________________________\n",
            " Layer (type)                   Output Shape         Param #     Connected to                     \n",
            "==================================================================================================\n",
            " input_16 (InputLayer)          [(None, 65)]         0           []                               \n",
            "                                                                                                  \n",
            " input_15 (InputLayer)          [(None, 209)]        0           []                               \n",
            "                                                                                                  \n",
            " embedding_14 (Embedding)       (None, 65, 100)      2480300     ['input_16[0][0]']               \n",
            "                                                                                                  \n",
            " embedding_15 (Embedding)       (None, 209, 100)     3796900     ['input_15[0][0]']               \n",
            "                                                                                                  \n",
            " tf.math.reduce_mean_4 (TFOpLam  (None, 65)          0           ['embedding_14[0][0]']           \n",
            " bda)                                                                                             \n",
            "                                                                                                  \n",
            " tf.math.reduce_mean_5 (TFOpLam  (None, 209)         0           ['embedding_15[0][0]']           \n",
            " bda)                                                                                             \n",
            "                                                                                                  \n",
            " dense_14 (Dense)               (None, 100)          6600        ['tf.math.reduce_mean_4[0][0]']  \n",
            "                                                                                                  \n",
            " dense_15 (Dense)               (None, 100)          21000       ['tf.math.reduce_mean_5[0][0]']  \n",
            "                                                                                                  \n",
            " average_6 (Average)            (None, 100)          0           ['dense_14[0][0]',               \n",
            "                                                                  'dense_15[0][0]']               \n",
            "                                                                                                  \n",
            " dense_16 (Dense)               (None, 1)            101         ['average_6[0][0]']              \n",
            "                                                                                                  \n",
            "==================================================================================================\n",
            "Total params: 6,304,901\n",
            "Trainable params: 27,701\n",
            "Non-trainable params: 6,277,200\n",
            "__________________________________________________________________________________________________\n"
          ]
        }
      ]
    },
    {
      "cell_type": "code",
      "source": [
        "keras.utils.plot_model(model_bag_of_words, \"bag_of_words.png\")"
      ],
      "metadata": {
        "colab": {
          "base_uri": "https://localhost:8080/",
          "height": 564
        },
        "id": "e6BsxeOuKos7",
        "outputId": "92906963-3656-4c80-cdd9-7460e79aa34c"
      },
      "execution_count": 47,
      "outputs": [
        {
          "output_type": "execute_result",
          "data": {
            "image/png": "[encoded data removed]",
            "text/plain": [
              "<IPython.core.display.Image object>"
            ]
          },
          "metadata": {},
          "execution_count": 47
        }
      ]
    },
    {
      "cell_type": "markdown",
      "source": [
        "# Training"
      ],
      "metadata": {
        "id": "R5Qo3ZO6NzQf"
      }
    },
    {
      "cell_type": "markdown",
      "source": [
        "##Metrics and model parameters"
      ],
      "metadata": {
        "id": "wjyVXzc-SQl6"
      }
    },
    {
      "cell_type": "code",
      "source": [
        "metrics = [keras.metrics.TruePositives(name='tp'),\n",
        "           keras.metrics.FalsePositives(name='fp'),\n",
        "           keras.metrics.TrueNegatives(name='tn'),\n",
        "           keras.metrics.FalseNegatives(name='fn'),\n",
        "           keras.metrics.BinaryAccuracy(name='accuracy'),\n",
        "           keras.metrics.Precision(name='precision'),\n",
        "           keras.metrics.Recall(name='recall'),\n",
        "           keras.metrics.AUC(name='auc')]\n",
        "\n",
        "es_callback = tf.keras.callbacks.EarlyStopping(monitor='val_loss', patience=5)"
      ],
      "metadata": {
        "id": "dJhJ_QpGQZPM"
      },
      "execution_count": 48,
      "outputs": []
    },
    {
      "cell_type": "markdown",
      "source": [
        "##1st model training"
      ],
      "metadata": {
        "id": "vIb1DZ8uTS_R"
      }
    },
    {
      "cell_type": "code",
      "source": [
        "model_RNN_last.compile(\n",
        "    loss=keras.losses.BinaryCrossentropy(),\n",
        "    optimizer=keras.optimizers.Adam(),\n",
        "    metrics=metrics\n",
        ")\n",
        "\n",
        "RNN_last_history = model_RNN_last.fit([train_claims_X, train_evidences_X], train_labels_y, batch_size=1024, shuffle=True, epochs=10, validation_data=([val_claims_X, val_evidences_X], val_labels_y))"
      ],
      "metadata": {
        "colab": {
          "base_uri": "https://localhost:8080/",
          "height": 470
        },
        "id": "vVMCw7zYTEhR",
        "outputId": "35fb2e02-4c54-49f2-e48a-4fa88990cd45"
      },
      "execution_count": 91,
      "outputs": [
        {
          "output_type": "stream",
          "name": "stdout",
          "text": [
            "Epoch 1/15\n",
            "119/119 [==============================] - 452s 4s/step - loss: 0.5800 - tp: 1833.0000 - fp: 358.0000 - tn: 92637.0000 - fn: 34101.0000 - accuracy: 0.7327 - precision: 0.8366 - recall: 0.0510 - auc: 0.5283 - val_loss: 0.8102 - val_tp: 0.0000e+00 - val_fp: 0.0000e+00 - val_tn: 3611.0000 - val_fn: 3554.0000 - val_accuracy: 0.5040 - val_precision: 0.0000e+00 - val_recall: 0.0000e+00 - val_auc: 0.5000\n",
            "Epoch 2/15\n",
            "119/119 [==============================] - 487s 4s/step - loss: 0.5795 - tp: 0.0000e+00 - fp: 0.0000e+00 - tn: 89389.0000 - fn: 32351.0000 - accuracy: 0.7343 - precision: 0.0000e+00 - recall: 0.0000e+00 - auc: 0.5026 - val_loss: 0.7893 - val_tp: 0.0000e+00 - val_fp: 0.0000e+00 - val_tn: 3611.0000 - val_fn: 3554.0000 - val_accuracy: 0.5040 - val_precision: 0.0000e+00 - val_recall: 0.0000e+00 - val_auc: 0.5000\n",
            "Epoch 3/15\n",
            "102/119 [========================>.....] - ETA: 1:08 - loss: 0.5788 - tp: 0.0000e+00 - fp: 0.0000e+00 - tn: 76744.0000 - fn: 27704.0000 - accuracy: 0.7348 - precision: 0.0000e+00 - recall: 0.0000e+00 - auc: 0.5003"
          ]
        },
        {
          "output_type": "error",
          "ename": "KeyboardInterrupt",
          "evalue": "ignored",
          "traceback": [
            "\u001b[0;31m---------------------------------------------------------------------------\u001b[0m",
            "\u001b[0;31mKeyboardInterrupt\u001b[0m                         Traceback (most recent call last)",
            "\u001b[0;32m<ipython-input-91-3d9c731c514d>\u001b[0m in \u001b[0;36m<module>\u001b[0;34m()\u001b[0m\n\u001b[1;32m      5\u001b[0m )\n\u001b[1;32m      6\u001b[0m \u001b[0;34m\u001b[0m\u001b[0m\n\u001b[0;32m----> 7\u001b[0;31m \u001b[0mRNN_last_history\u001b[0m \u001b[0;34m=\u001b[0m \u001b[0mmodel_RNN_last\u001b[0m\u001b[0;34m.\u001b[0m\u001b[0mfit\u001b[0m\u001b[0;34m(\u001b[0m\u001b[0;34m[\u001b[0m\u001b[0mtrain_claims_X\u001b[0m\u001b[0;34m,\u001b[0m \u001b[0mtrain_evidences_X\u001b[0m\u001b[0;34m]\u001b[0m\u001b[0;34m,\u001b[0m \u001b[0mtrain_labels_y\u001b[0m\u001b[0;34m,\u001b[0m \u001b[0mbatch_size\u001b[0m\u001b[0;34m=\u001b[0m\u001b[0;36m1024\u001b[0m\u001b[0;34m,\u001b[0m \u001b[0mshuffle\u001b[0m\u001b[0;34m=\u001b[0m\u001b[0;32mTrue\u001b[0m\u001b[0;34m,\u001b[0m \u001b[0mepochs\u001b[0m\u001b[0;34m=\u001b[0m\u001b[0;36m15\u001b[0m\u001b[0;34m,\u001b[0m \u001b[0mvalidation_data\u001b[0m\u001b[0;34m=\u001b[0m\u001b[0;34m(\u001b[0m\u001b[0;34m[\u001b[0m\u001b[0mval_claims_X\u001b[0m\u001b[0;34m,\u001b[0m \u001b[0mval_evidences_X\u001b[0m\u001b[0;34m]\u001b[0m\u001b[0;34m,\u001b[0m \u001b[0mval_labels_y\u001b[0m\u001b[0;34m)\u001b[0m\u001b[0;34m)\u001b[0m\u001b[0;34m\u001b[0m\u001b[0;34m\u001b[0m\u001b[0m\n\u001b[0m",
            "\u001b[0;32m/usr/local/lib/python3.7/dist-packages/keras/utils/traceback_utils.py\u001b[0m in \u001b[0;36merror_handler\u001b[0;34m(*args, **kwargs)\u001b[0m\n\u001b[1;32m     62\u001b[0m     \u001b[0mfiltered_tb\u001b[0m \u001b[0;34m=\u001b[0m \u001b[0;32mNone\u001b[0m\u001b[0;34m\u001b[0m\u001b[0;34m\u001b[0m\u001b[0m\n\u001b[1;32m     63\u001b[0m     \u001b[0;32mtry\u001b[0m\u001b[0;34m:\u001b[0m\u001b[0;34m\u001b[0m\u001b[0;34m\u001b[0m\u001b[0m\n\u001b[0;32m---> 64\u001b[0;31m       \u001b[0;32mreturn\u001b[0m \u001b[0mfn\u001b[0m\u001b[0;34m(\u001b[0m\u001b[0;34m*\u001b[0m\u001b[0margs\u001b[0m\u001b[0;34m,\u001b[0m \u001b[0;34m**\u001b[0m\u001b[0mkwargs\u001b[0m\u001b[0;34m)\u001b[0m\u001b[0;34m\u001b[0m\u001b[0;34m\u001b[0m\u001b[0m\n\u001b[0m\u001b[1;32m     65\u001b[0m     \u001b[0;32mexcept\u001b[0m \u001b[0mException\u001b[0m \u001b[0;32mas\u001b[0m \u001b[0me\u001b[0m\u001b[0;34m:\u001b[0m  \u001b[0;31m# pylint: disable=broad-except\u001b[0m\u001b[0;34m\u001b[0m\u001b[0;34m\u001b[0m\u001b[0m\n\u001b[1;32m     66\u001b[0m       \u001b[0mfiltered_tb\u001b[0m \u001b[0;34m=\u001b[0m \u001b[0m_process_traceback_frames\u001b[0m\u001b[0;34m(\u001b[0m\u001b[0me\u001b[0m\u001b[0;34m.\u001b[0m\u001b[0m__traceback__\u001b[0m\u001b[0;34m)\u001b[0m\u001b[0;34m\u001b[0m\u001b[0;34m\u001b[0m\u001b[0m\n",
            "\u001b[0;32m/usr/local/lib/python3.7/dist-packages/keras/engine/training.py\u001b[0m in \u001b[0;36mfit\u001b[0;34m(self, x, y, batch_size, epochs, verbose, callbacks, validation_split, validation_data, shuffle, class_weight, sample_weight, initial_epoch, steps_per_epoch, validation_steps, validation_batch_size, validation_freq, max_queue_size, workers, use_multiprocessing)\u001b[0m\n\u001b[1;32m   1214\u001b[0m                 _r=1):\n\u001b[1;32m   1215\u001b[0m               \u001b[0mcallbacks\u001b[0m\u001b[0;34m.\u001b[0m\u001b[0mon_train_batch_begin\u001b[0m\u001b[0;34m(\u001b[0m\u001b[0mstep\u001b[0m\u001b[0;34m)\u001b[0m\u001b[0;34m\u001b[0m\u001b[0;34m\u001b[0m\u001b[0m\n\u001b[0;32m-> 1216\u001b[0;31m               \u001b[0mtmp_logs\u001b[0m \u001b[0;34m=\u001b[0m \u001b[0mself\u001b[0m\u001b[0;34m.\u001b[0m\u001b[0mtrain_function\u001b[0m\u001b[0;34m(\u001b[0m\u001b[0miterator\u001b[0m\u001b[0;34m)\u001b[0m\u001b[0;34m\u001b[0m\u001b[0;34m\u001b[0m\u001b[0m\n\u001b[0m\u001b[1;32m   1217\u001b[0m               \u001b[0;32mif\u001b[0m \u001b[0mdata_handler\u001b[0m\u001b[0;34m.\u001b[0m\u001b[0mshould_sync\u001b[0m\u001b[0;34m:\u001b[0m\u001b[0;34m\u001b[0m\u001b[0;34m\u001b[0m\u001b[0m\n\u001b[1;32m   1218\u001b[0m                 \u001b[0mcontext\u001b[0m\u001b[0;34m.\u001b[0m\u001b[0masync_wait\u001b[0m\u001b[0;34m(\u001b[0m\u001b[0;34m)\u001b[0m\u001b[0;34m\u001b[0m\u001b[0;34m\u001b[0m\u001b[0m\n",
            "\u001b[0;32m/usr/local/lib/python3.7/dist-packages/tensorflow/python/util/traceback_utils.py\u001b[0m in \u001b[0;36merror_handler\u001b[0;34m(*args, **kwargs)\u001b[0m\n\u001b[1;32m    148\u001b[0m     \u001b[0mfiltered_tb\u001b[0m \u001b[0;34m=\u001b[0m \u001b[0;32mNone\u001b[0m\u001b[0;34m\u001b[0m\u001b[0;34m\u001b[0m\u001b[0m\n\u001b[1;32m    149\u001b[0m     \u001b[0;32mtry\u001b[0m\u001b[0;34m:\u001b[0m\u001b[0;34m\u001b[0m\u001b[0;34m\u001b[0m\u001b[0m\n\u001b[0;32m--> 150\u001b[0;31m       \u001b[0;32mreturn\u001b[0m \u001b[0mfn\u001b[0m\u001b[0;34m(\u001b[0m\u001b[0;34m*\u001b[0m\u001b[0margs\u001b[0m\u001b[0;34m,\u001b[0m \u001b[0;34m**\u001b[0m\u001b[0mkwargs\u001b[0m\u001b[0;34m)\u001b[0m\u001b[0;34m\u001b[0m\u001b[0;34m\u001b[0m\u001b[0m\n\u001b[0m\u001b[1;32m    151\u001b[0m     \u001b[0;32mexcept\u001b[0m \u001b[0mException\u001b[0m \u001b[0;32mas\u001b[0m \u001b[0me\u001b[0m\u001b[0;34m:\u001b[0m\u001b[0;34m\u001b[0m\u001b[0;34m\u001b[0m\u001b[0m\n\u001b[1;32m    152\u001b[0m       \u001b[0mfiltered_tb\u001b[0m \u001b[0;34m=\u001b[0m \u001b[0m_process_traceback_frames\u001b[0m\u001b[0;34m(\u001b[0m\u001b[0me\u001b[0m\u001b[0;34m.\u001b[0m\u001b[0m__traceback__\u001b[0m\u001b[0;34m)\u001b[0m\u001b[0;34m\u001b[0m\u001b[0;34m\u001b[0m\u001b[0m\n",
            "\u001b[0;32m/usr/local/lib/python3.7/dist-packages/tensorflow/python/eager/def_function.py\u001b[0m in \u001b[0;36m__call__\u001b[0;34m(self, *args, **kwds)\u001b[0m\n\u001b[1;32m    908\u001b[0m \u001b[0;34m\u001b[0m\u001b[0m\n\u001b[1;32m    909\u001b[0m       \u001b[0;32mwith\u001b[0m \u001b[0mOptionalXlaContext\u001b[0m\u001b[0;34m(\u001b[0m\u001b[0mself\u001b[0m\u001b[0;34m.\u001b[0m\u001b[0m_jit_compile\u001b[0m\u001b[0;34m)\u001b[0m\u001b[0;34m:\u001b[0m\u001b[0;34m\u001b[0m\u001b[0;34m\u001b[0m\u001b[0m\n\u001b[0;32m--> 910\u001b[0;31m         \u001b[0mresult\u001b[0m \u001b[0;34m=\u001b[0m \u001b[0mself\u001b[0m\u001b[0;34m.\u001b[0m\u001b[0m_call\u001b[0m\u001b[0;34m(\u001b[0m\u001b[0;34m*\u001b[0m\u001b[0margs\u001b[0m\u001b[0;34m,\u001b[0m \u001b[0;34m**\u001b[0m\u001b[0mkwds\u001b[0m\u001b[0;34m)\u001b[0m\u001b[0;34m\u001b[0m\u001b[0;34m\u001b[0m\u001b[0m\n\u001b[0m\u001b[1;32m    911\u001b[0m \u001b[0;34m\u001b[0m\u001b[0m\n\u001b[1;32m    912\u001b[0m       \u001b[0mnew_tracing_count\u001b[0m \u001b[0;34m=\u001b[0m \u001b[0mself\u001b[0m\u001b[0;34m.\u001b[0m\u001b[0mexperimental_get_tracing_count\u001b[0m\u001b[0;34m(\u001b[0m\u001b[0;34m)\u001b[0m\u001b[0;34m\u001b[0m\u001b[0;34m\u001b[0m\u001b[0m\n",
            "\u001b[0;32m/usr/local/lib/python3.7/dist-packages/tensorflow/python/eager/def_function.py\u001b[0m in \u001b[0;36m_call\u001b[0;34m(self, *args, **kwds)\u001b[0m\n\u001b[1;32m    940\u001b[0m       \u001b[0;31m# In this case we have created variables on the first call, so we run the\u001b[0m\u001b[0;34m\u001b[0m\u001b[0;34m\u001b[0m\u001b[0;34m\u001b[0m\u001b[0m\n\u001b[1;32m    941\u001b[0m       \u001b[0;31m# defunned version which is guaranteed to never create variables.\u001b[0m\u001b[0;34m\u001b[0m\u001b[0;34m\u001b[0m\u001b[0;34m\u001b[0m\u001b[0m\n\u001b[0;32m--> 942\u001b[0;31m       \u001b[0;32mreturn\u001b[0m \u001b[0mself\u001b[0m\u001b[0;34m.\u001b[0m\u001b[0m_stateless_fn\u001b[0m\u001b[0;34m(\u001b[0m\u001b[0;34m*\u001b[0m\u001b[0margs\u001b[0m\u001b[0;34m,\u001b[0m \u001b[0;34m**\u001b[0m\u001b[0mkwds\u001b[0m\u001b[0;34m)\u001b[0m  \u001b[0;31m# pylint: disable=not-callable\u001b[0m\u001b[0;34m\u001b[0m\u001b[0;34m\u001b[0m\u001b[0m\n\u001b[0m\u001b[1;32m    943\u001b[0m     \u001b[0;32melif\u001b[0m \u001b[0mself\u001b[0m\u001b[0;34m.\u001b[0m\u001b[0m_stateful_fn\u001b[0m \u001b[0;32mis\u001b[0m \u001b[0;32mnot\u001b[0m \u001b[0;32mNone\u001b[0m\u001b[0;34m:\u001b[0m\u001b[0;34m\u001b[0m\u001b[0;34m\u001b[0m\u001b[0m\n\u001b[1;32m    944\u001b[0m       \u001b[0;31m# Release the lock early so that multiple threads can perform the call\u001b[0m\u001b[0;34m\u001b[0m\u001b[0;34m\u001b[0m\u001b[0;34m\u001b[0m\u001b[0m\n",
            "\u001b[0;32m/usr/local/lib/python3.7/dist-packages/tensorflow/python/eager/function.py\u001b[0m in \u001b[0;36m__call__\u001b[0;34m(self, *args, **kwargs)\u001b[0m\n\u001b[1;32m   3129\u001b[0m        filtered_flat_args) = self._maybe_define_function(args, kwargs)\n\u001b[1;32m   3130\u001b[0m     return graph_function._call_flat(\n\u001b[0;32m-> 3131\u001b[0;31m         filtered_flat_args, captured_inputs=graph_function.captured_inputs)  # pylint: disable=protected-access\n\u001b[0m\u001b[1;32m   3132\u001b[0m \u001b[0;34m\u001b[0m\u001b[0m\n\u001b[1;32m   3133\u001b[0m   \u001b[0;34m@\u001b[0m\u001b[0mproperty\u001b[0m\u001b[0;34m\u001b[0m\u001b[0;34m\u001b[0m\u001b[0m\n",
            "\u001b[0;32m/usr/local/lib/python3.7/dist-packages/tensorflow/python/eager/function.py\u001b[0m in \u001b[0;36m_call_flat\u001b[0;34m(self, args, captured_inputs, cancellation_manager)\u001b[0m\n\u001b[1;32m   1958\u001b[0m       \u001b[0;31m# No tape is watching; skip to running the function.\u001b[0m\u001b[0;34m\u001b[0m\u001b[0;34m\u001b[0m\u001b[0;34m\u001b[0m\u001b[0m\n\u001b[1;32m   1959\u001b[0m       return self._build_call_outputs(self._inference_function.call(\n\u001b[0;32m-> 1960\u001b[0;31m           ctx, args, cancellation_manager=cancellation_manager))\n\u001b[0m\u001b[1;32m   1961\u001b[0m     forward_backward = self._select_forward_and_backward_functions(\n\u001b[1;32m   1962\u001b[0m         \u001b[0margs\u001b[0m\u001b[0;34m,\u001b[0m\u001b[0;34m\u001b[0m\u001b[0;34m\u001b[0m\u001b[0m\n",
            "\u001b[0;32m/usr/local/lib/python3.7/dist-packages/tensorflow/python/eager/function.py\u001b[0m in \u001b[0;36mcall\u001b[0;34m(self, ctx, args, cancellation_manager)\u001b[0m\n\u001b[1;32m    601\u001b[0m               \u001b[0minputs\u001b[0m\u001b[0;34m=\u001b[0m\u001b[0margs\u001b[0m\u001b[0;34m,\u001b[0m\u001b[0;34m\u001b[0m\u001b[0;34m\u001b[0m\u001b[0m\n\u001b[1;32m    602\u001b[0m               \u001b[0mattrs\u001b[0m\u001b[0;34m=\u001b[0m\u001b[0mattrs\u001b[0m\u001b[0;34m,\u001b[0m\u001b[0;34m\u001b[0m\u001b[0;34m\u001b[0m\u001b[0m\n\u001b[0;32m--> 603\u001b[0;31m               ctx=ctx)\n\u001b[0m\u001b[1;32m    604\u001b[0m         \u001b[0;32melse\u001b[0m\u001b[0;34m:\u001b[0m\u001b[0;34m\u001b[0m\u001b[0;34m\u001b[0m\u001b[0m\n\u001b[1;32m    605\u001b[0m           outputs = execute.execute_with_cancellation(\n",
            "\u001b[0;32m/usr/local/lib/python3.7/dist-packages/tensorflow/python/eager/execute.py\u001b[0m in \u001b[0;36mquick_execute\u001b[0;34m(op_name, num_outputs, inputs, attrs, ctx, name)\u001b[0m\n\u001b[1;32m     57\u001b[0m     \u001b[0mctx\u001b[0m\u001b[0;34m.\u001b[0m\u001b[0mensure_initialized\u001b[0m\u001b[0;34m(\u001b[0m\u001b[0;34m)\u001b[0m\u001b[0;34m\u001b[0m\u001b[0;34m\u001b[0m\u001b[0m\n\u001b[1;32m     58\u001b[0m     tensors = pywrap_tfe.TFE_Py_Execute(ctx._handle, device_name, op_name,\n\u001b[0;32m---> 59\u001b[0;31m                                         inputs, attrs, num_outputs)\n\u001b[0m\u001b[1;32m     60\u001b[0m   \u001b[0;32mexcept\u001b[0m \u001b[0mcore\u001b[0m\u001b[0;34m.\u001b[0m\u001b[0m_NotOkStatusException\u001b[0m \u001b[0;32mas\u001b[0m \u001b[0me\u001b[0m\u001b[0;34m:\u001b[0m\u001b[0;34m\u001b[0m\u001b[0;34m\u001b[0m\u001b[0m\n\u001b[1;32m     61\u001b[0m     \u001b[0;32mif\u001b[0m \u001b[0mname\u001b[0m \u001b[0;32mis\u001b[0m \u001b[0;32mnot\u001b[0m \u001b[0;32mNone\u001b[0m\u001b[0;34m:\u001b[0m\u001b[0;34m\u001b[0m\u001b[0;34m\u001b[0m\u001b[0m\n",
            "\u001b[0;31mKeyboardInterrupt\u001b[0m: "
          ]
        }
      ]
    },
    {
      "cell_type": "markdown",
      "source": [
        "##2nd model training"
      ],
      "metadata": {
        "id": "GByFQN-eSWuY"
      }
    },
    {
      "cell_type": "code",
      "source": [
        "model_RNN_mean.compile(\n",
        "    loss=keras.losses.BinaryCrossentropy(),\n",
        "    optimizer=keras.optimizers.Adam(),\n",
        "    metrics=metrics\n",
        ")\n",
        "\n",
        "RNN_mean_history = model_RNN_mean.fit([train_claims_X, train_evidences_X], train_labels_y, batch_size=1024, shuffle=True, epochs=10, validation_data=([val_claims_X, val_evidences_X], val_labels_y))"
      ],
      "metadata": {
        "id": "7NgRKuwgG4tz",
        "colab": {
          "base_uri": "https://localhost:8080/",
          "height": 363
        },
        "outputId": "bbefc06b-2640-4b71-bc91-e9283d062ad0"
      },
      "execution_count": 63,
      "outputs": [
        {
          "output_type": "stream",
          "name": "stdout",
          "text": [
            "Epoch 1/15\n"
          ]
        },
        {
          "output_type": "error",
          "ename": "KeyboardInterrupt",
          "evalue": "ignored",
          "traceback": [
            "\u001b[0;31m---------------------------------------------------------------------------\u001b[0m",
            "\u001b[0;31mKeyboardInterrupt\u001b[0m                         Traceback (most recent call last)",
            "\u001b[0;32m<ipython-input-63-a8450540618d>\u001b[0m in \u001b[0;36m<module>\u001b[0;34m()\u001b[0m\n\u001b[1;32m      5\u001b[0m )\n\u001b[1;32m      6\u001b[0m \u001b[0;34m\u001b[0m\u001b[0m\n\u001b[0;32m----> 7\u001b[0;31m \u001b[0mRNN_mean_history\u001b[0m \u001b[0;34m=\u001b[0m \u001b[0mmodel_RNN_mean\u001b[0m\u001b[0;34m.\u001b[0m\u001b[0mfit\u001b[0m\u001b[0;34m(\u001b[0m\u001b[0;34m[\u001b[0m\u001b[0mtrain_claims_X\u001b[0m\u001b[0;34m,\u001b[0m \u001b[0mtrain_evidences_X\u001b[0m\u001b[0;34m]\u001b[0m\u001b[0;34m,\u001b[0m \u001b[0mtrain_labels_y\u001b[0m\u001b[0;34m,\u001b[0m \u001b[0mbatch_size\u001b[0m\u001b[0;34m=\u001b[0m\u001b[0;36m128\u001b[0m\u001b[0;34m,\u001b[0m \u001b[0mshuffle\u001b[0m\u001b[0;34m=\u001b[0m\u001b[0;32mTrue\u001b[0m\u001b[0;34m,\u001b[0m \u001b[0mepochs\u001b[0m\u001b[0;34m=\u001b[0m\u001b[0;36m15\u001b[0m\u001b[0;34m,\u001b[0m \u001b[0mvalidation_data\u001b[0m\u001b[0;34m=\u001b[0m\u001b[0;34m(\u001b[0m\u001b[0;34m[\u001b[0m\u001b[0mval_claims_X\u001b[0m\u001b[0;34m,\u001b[0m \u001b[0mval_evidences_X\u001b[0m\u001b[0;34m]\u001b[0m\u001b[0;34m,\u001b[0m \u001b[0mval_labels_y\u001b[0m\u001b[0;34m)\u001b[0m\u001b[0;34m)\u001b[0m\u001b[0;34m\u001b[0m\u001b[0;34m\u001b[0m\u001b[0m\n\u001b[0m",
            "\u001b[0;32m/usr/local/lib/python3.7/dist-packages/keras/utils/traceback_utils.py\u001b[0m in \u001b[0;36merror_handler\u001b[0;34m(*args, **kwargs)\u001b[0m\n\u001b[1;32m     62\u001b[0m     \u001b[0mfiltered_tb\u001b[0m \u001b[0;34m=\u001b[0m \u001b[0;32mNone\u001b[0m\u001b[0;34m\u001b[0m\u001b[0;34m\u001b[0m\u001b[0m\n\u001b[1;32m     63\u001b[0m     \u001b[0;32mtry\u001b[0m\u001b[0;34m:\u001b[0m\u001b[0;34m\u001b[0m\u001b[0;34m\u001b[0m\u001b[0m\n\u001b[0;32m---> 64\u001b[0;31m       \u001b[0;32mreturn\u001b[0m \u001b[0mfn\u001b[0m\u001b[0;34m(\u001b[0m\u001b[0;34m*\u001b[0m\u001b[0margs\u001b[0m\u001b[0;34m,\u001b[0m \u001b[0;34m**\u001b[0m\u001b[0mkwargs\u001b[0m\u001b[0;34m)\u001b[0m\u001b[0;34m\u001b[0m\u001b[0;34m\u001b[0m\u001b[0m\n\u001b[0m\u001b[1;32m     65\u001b[0m     \u001b[0;32mexcept\u001b[0m \u001b[0mException\u001b[0m \u001b[0;32mas\u001b[0m \u001b[0me\u001b[0m\u001b[0;34m:\u001b[0m  \u001b[0;31m# pylint: disable=broad-except\u001b[0m\u001b[0;34m\u001b[0m\u001b[0;34m\u001b[0m\u001b[0m\n\u001b[1;32m     66\u001b[0m       \u001b[0mfiltered_tb\u001b[0m \u001b[0;34m=\u001b[0m \u001b[0m_process_traceback_frames\u001b[0m\u001b[0;34m(\u001b[0m\u001b[0me\u001b[0m\u001b[0;34m.\u001b[0m\u001b[0m__traceback__\u001b[0m\u001b[0;34m)\u001b[0m\u001b[0;34m\u001b[0m\u001b[0;34m\u001b[0m\u001b[0m\n",
            "\u001b[0;32m/usr/local/lib/python3.7/dist-packages/keras/engine/training.py\u001b[0m in \u001b[0;36mfit\u001b[0;34m(self, x, y, batch_size, epochs, verbose, callbacks, validation_split, validation_data, shuffle, class_weight, sample_weight, initial_epoch, steps_per_epoch, validation_steps, validation_batch_size, validation_freq, max_queue_size, workers, use_multiprocessing)\u001b[0m\n\u001b[1;32m   1214\u001b[0m                 _r=1):\n\u001b[1;32m   1215\u001b[0m               \u001b[0mcallbacks\u001b[0m\u001b[0;34m.\u001b[0m\u001b[0mon_train_batch_begin\u001b[0m\u001b[0;34m(\u001b[0m\u001b[0mstep\u001b[0m\u001b[0;34m)\u001b[0m\u001b[0;34m\u001b[0m\u001b[0;34m\u001b[0m\u001b[0m\n\u001b[0;32m-> 1216\u001b[0;31m               \u001b[0mtmp_logs\u001b[0m \u001b[0;34m=\u001b[0m \u001b[0mself\u001b[0m\u001b[0;34m.\u001b[0m\u001b[0mtrain_function\u001b[0m\u001b[0;34m(\u001b[0m\u001b[0miterator\u001b[0m\u001b[0;34m)\u001b[0m\u001b[0;34m\u001b[0m\u001b[0;34m\u001b[0m\u001b[0m\n\u001b[0m\u001b[1;32m   1217\u001b[0m               \u001b[0;32mif\u001b[0m \u001b[0mdata_handler\u001b[0m\u001b[0;34m.\u001b[0m\u001b[0mshould_sync\u001b[0m\u001b[0;34m:\u001b[0m\u001b[0;34m\u001b[0m\u001b[0;34m\u001b[0m\u001b[0m\n\u001b[1;32m   1218\u001b[0m                 \u001b[0mcontext\u001b[0m\u001b[0;34m.\u001b[0m\u001b[0masync_wait\u001b[0m\u001b[0;34m(\u001b[0m\u001b[0;34m)\u001b[0m\u001b[0;34m\u001b[0m\u001b[0;34m\u001b[0m\u001b[0m\n",
            "\u001b[0;32m/usr/local/lib/python3.7/dist-packages/tensorflow/python/util/traceback_utils.py\u001b[0m in \u001b[0;36merror_handler\u001b[0;34m(*args, **kwargs)\u001b[0m\n\u001b[1;32m    148\u001b[0m     \u001b[0mfiltered_tb\u001b[0m \u001b[0;34m=\u001b[0m \u001b[0;32mNone\u001b[0m\u001b[0;34m\u001b[0m\u001b[0;34m\u001b[0m\u001b[0m\n\u001b[1;32m    149\u001b[0m     \u001b[0;32mtry\u001b[0m\u001b[0;34m:\u001b[0m\u001b[0;34m\u001b[0m\u001b[0;34m\u001b[0m\u001b[0m\n\u001b[0;32m--> 150\u001b[0;31m       \u001b[0;32mreturn\u001b[0m \u001b[0mfn\u001b[0m\u001b[0;34m(\u001b[0m\u001b[0;34m*\u001b[0m\u001b[0margs\u001b[0m\u001b[0;34m,\u001b[0m \u001b[0;34m**\u001b[0m\u001b[0mkwargs\u001b[0m\u001b[0;34m)\u001b[0m\u001b[0;34m\u001b[0m\u001b[0;34m\u001b[0m\u001b[0m\n\u001b[0m\u001b[1;32m    151\u001b[0m     \u001b[0;32mexcept\u001b[0m \u001b[0mException\u001b[0m \u001b[0;32mas\u001b[0m \u001b[0me\u001b[0m\u001b[0;34m:\u001b[0m\u001b[0;34m\u001b[0m\u001b[0;34m\u001b[0m\u001b[0m\n\u001b[1;32m    152\u001b[0m       \u001b[0mfiltered_tb\u001b[0m \u001b[0;34m=\u001b[0m \u001b[0m_process_traceback_frames\u001b[0m\u001b[0;34m(\u001b[0m\u001b[0me\u001b[0m\u001b[0;34m.\u001b[0m\u001b[0m__traceback__\u001b[0m\u001b[0;34m)\u001b[0m\u001b[0;34m\u001b[0m\u001b[0;34m\u001b[0m\u001b[0m\n",
            "\u001b[0;32m/usr/local/lib/python3.7/dist-packages/tensorflow/python/eager/def_function.py\u001b[0m in \u001b[0;36m__call__\u001b[0;34m(self, *args, **kwds)\u001b[0m\n\u001b[1;32m    908\u001b[0m \u001b[0;34m\u001b[0m\u001b[0m\n\u001b[1;32m    909\u001b[0m       \u001b[0;32mwith\u001b[0m \u001b[0mOptionalXlaContext\u001b[0m\u001b[0;34m(\u001b[0m\u001b[0mself\u001b[0m\u001b[0;34m.\u001b[0m\u001b[0m_jit_compile\u001b[0m\u001b[0;34m)\u001b[0m\u001b[0;34m:\u001b[0m\u001b[0;34m\u001b[0m\u001b[0;34m\u001b[0m\u001b[0m\n\u001b[0;32m--> 910\u001b[0;31m         \u001b[0mresult\u001b[0m \u001b[0;34m=\u001b[0m \u001b[0mself\u001b[0m\u001b[0;34m.\u001b[0m\u001b[0m_call\u001b[0m\u001b[0;34m(\u001b[0m\u001b[0;34m*\u001b[0m\u001b[0margs\u001b[0m\u001b[0;34m,\u001b[0m \u001b[0;34m**\u001b[0m\u001b[0mkwds\u001b[0m\u001b[0;34m)\u001b[0m\u001b[0;34m\u001b[0m\u001b[0;34m\u001b[0m\u001b[0m\n\u001b[0m\u001b[1;32m    911\u001b[0m \u001b[0;34m\u001b[0m\u001b[0m\n\u001b[1;32m    912\u001b[0m       \u001b[0mnew_tracing_count\u001b[0m \u001b[0;34m=\u001b[0m \u001b[0mself\u001b[0m\u001b[0;34m.\u001b[0m\u001b[0mexperimental_get_tracing_count\u001b[0m\u001b[0;34m(\u001b[0m\u001b[0;34m)\u001b[0m\u001b[0;34m\u001b[0m\u001b[0;34m\u001b[0m\u001b[0m\n",
            "\u001b[0;32m/usr/local/lib/python3.7/dist-packages/tensorflow/python/eager/def_function.py\u001b[0m in \u001b[0;36m_call\u001b[0;34m(self, *args, **kwds)\u001b[0m\n\u001b[1;32m    956\u001b[0m       \u001b[0;31m# This is the first call of __call__, so we have to initialize.\u001b[0m\u001b[0;34m\u001b[0m\u001b[0;34m\u001b[0m\u001b[0;34m\u001b[0m\u001b[0m\n\u001b[1;32m    957\u001b[0m       \u001b[0minitializers\u001b[0m \u001b[0;34m=\u001b[0m \u001b[0;34m[\u001b[0m\u001b[0;34m]\u001b[0m\u001b[0;34m\u001b[0m\u001b[0;34m\u001b[0m\u001b[0m\n\u001b[0;32m--> 958\u001b[0;31m       \u001b[0mself\u001b[0m\u001b[0;34m.\u001b[0m\u001b[0m_initialize\u001b[0m\u001b[0;34m(\u001b[0m\u001b[0margs\u001b[0m\u001b[0;34m,\u001b[0m \u001b[0mkwds\u001b[0m\u001b[0;34m,\u001b[0m \u001b[0madd_initializers_to\u001b[0m\u001b[0;34m=\u001b[0m\u001b[0minitializers\u001b[0m\u001b[0;34m)\u001b[0m\u001b[0;34m\u001b[0m\u001b[0;34m\u001b[0m\u001b[0m\n\u001b[0m\u001b[1;32m    959\u001b[0m     \u001b[0;32mfinally\u001b[0m\u001b[0;34m:\u001b[0m\u001b[0;34m\u001b[0m\u001b[0;34m\u001b[0m\u001b[0m\n\u001b[1;32m    960\u001b[0m       \u001b[0;31m# At this point we know that the initialization is complete (or less\u001b[0m\u001b[0;34m\u001b[0m\u001b[0;34m\u001b[0m\u001b[0;34m\u001b[0m\u001b[0m\n",
            "\u001b[0;32m/usr/local/lib/python3.7/dist-packages/tensorflow/python/eager/def_function.py\u001b[0m in \u001b[0;36m_initialize\u001b[0;34m(self, args, kwds, add_initializers_to)\u001b[0m\n\u001b[1;32m    779\u001b[0m     self._concrete_stateful_fn = (\n\u001b[1;32m    780\u001b[0m         self._stateful_fn._get_concrete_function_internal_garbage_collected(  # pylint: disable=protected-access\n\u001b[0;32m--> 781\u001b[0;31m             *args, **kwds))\n\u001b[0m\u001b[1;32m    782\u001b[0m \u001b[0;34m\u001b[0m\u001b[0m\n\u001b[1;32m    783\u001b[0m     \u001b[0;32mdef\u001b[0m \u001b[0minvalid_creator_scope\u001b[0m\u001b[0;34m(\u001b[0m\u001b[0;34m*\u001b[0m\u001b[0munused_args\u001b[0m\u001b[0;34m,\u001b[0m \u001b[0;34m**\u001b[0m\u001b[0munused_kwds\u001b[0m\u001b[0;34m)\u001b[0m\u001b[0;34m:\u001b[0m\u001b[0;34m\u001b[0m\u001b[0;34m\u001b[0m\u001b[0m\n",
            "\u001b[0;32m/usr/local/lib/python3.7/dist-packages/tensorflow/python/eager/function.py\u001b[0m in \u001b[0;36m_get_concrete_function_internal_garbage_collected\u001b[0;34m(self, *args, **kwargs)\u001b[0m\n\u001b[1;32m   3155\u001b[0m       \u001b[0margs\u001b[0m\u001b[0;34m,\u001b[0m \u001b[0mkwargs\u001b[0m \u001b[0;34m=\u001b[0m \u001b[0;32mNone\u001b[0m\u001b[0;34m,\u001b[0m \u001b[0;32mNone\u001b[0m\u001b[0;34m\u001b[0m\u001b[0;34m\u001b[0m\u001b[0m\n\u001b[1;32m   3156\u001b[0m     \u001b[0;32mwith\u001b[0m \u001b[0mself\u001b[0m\u001b[0;34m.\u001b[0m\u001b[0m_lock\u001b[0m\u001b[0;34m:\u001b[0m\u001b[0;34m\u001b[0m\u001b[0;34m\u001b[0m\u001b[0m\n\u001b[0;32m-> 3157\u001b[0;31m       \u001b[0mgraph_function\u001b[0m\u001b[0;34m,\u001b[0m \u001b[0m_\u001b[0m \u001b[0;34m=\u001b[0m \u001b[0mself\u001b[0m\u001b[0;34m.\u001b[0m\u001b[0m_maybe_define_function\u001b[0m\u001b[0;34m(\u001b[0m\u001b[0margs\u001b[0m\u001b[0;34m,\u001b[0m \u001b[0mkwargs\u001b[0m\u001b[0;34m)\u001b[0m\u001b[0;34m\u001b[0m\u001b[0;34m\u001b[0m\u001b[0m\n\u001b[0m\u001b[1;32m   3158\u001b[0m     \u001b[0;32mreturn\u001b[0m \u001b[0mgraph_function\u001b[0m\u001b[0;34m\u001b[0m\u001b[0;34m\u001b[0m\u001b[0m\n\u001b[1;32m   3159\u001b[0m \u001b[0;34m\u001b[0m\u001b[0m\n",
            "\u001b[0;32m/usr/local/lib/python3.7/dist-packages/tensorflow/python/eager/function.py\u001b[0m in \u001b[0;36m_maybe_define_function\u001b[0;34m(self, args, kwargs)\u001b[0m\n\u001b[1;32m   3555\u001b[0m \u001b[0;34m\u001b[0m\u001b[0m\n\u001b[1;32m   3556\u001b[0m           \u001b[0mself\u001b[0m\u001b[0;34m.\u001b[0m\u001b[0m_function_cache\u001b[0m\u001b[0;34m.\u001b[0m\u001b[0mmissed\u001b[0m\u001b[0;34m.\u001b[0m\u001b[0madd\u001b[0m\u001b[0;34m(\u001b[0m\u001b[0mcall_context_key\u001b[0m\u001b[0;34m)\u001b[0m\u001b[0;34m\u001b[0m\u001b[0;34m\u001b[0m\u001b[0m\n\u001b[0;32m-> 3557\u001b[0;31m           \u001b[0mgraph_function\u001b[0m \u001b[0;34m=\u001b[0m \u001b[0mself\u001b[0m\u001b[0;34m.\u001b[0m\u001b[0m_create_graph_function\u001b[0m\u001b[0;34m(\u001b[0m\u001b[0margs\u001b[0m\u001b[0;34m,\u001b[0m \u001b[0mkwargs\u001b[0m\u001b[0;34m)\u001b[0m\u001b[0;34m\u001b[0m\u001b[0;34m\u001b[0m\u001b[0m\n\u001b[0m\u001b[1;32m   3558\u001b[0m           \u001b[0mself\u001b[0m\u001b[0;34m.\u001b[0m\u001b[0m_function_cache\u001b[0m\u001b[0;34m.\u001b[0m\u001b[0mprimary\u001b[0m\u001b[0;34m[\u001b[0m\u001b[0mcache_key\u001b[0m\u001b[0;34m]\u001b[0m \u001b[0;34m=\u001b[0m \u001b[0mgraph_function\u001b[0m\u001b[0;34m\u001b[0m\u001b[0;34m\u001b[0m\u001b[0m\n\u001b[1;32m   3559\u001b[0m \u001b[0;34m\u001b[0m\u001b[0m\n",
            "\u001b[0;32m/usr/local/lib/python3.7/dist-packages/tensorflow/python/eager/function.py\u001b[0m in \u001b[0;36m_create_graph_function\u001b[0;34m(self, args, kwargs, override_flat_arg_shapes)\u001b[0m\n\u001b[1;32m   3400\u001b[0m             \u001b[0marg_names\u001b[0m\u001b[0;34m=\u001b[0m\u001b[0marg_names\u001b[0m\u001b[0;34m,\u001b[0m\u001b[0;34m\u001b[0m\u001b[0;34m\u001b[0m\u001b[0m\n\u001b[1;32m   3401\u001b[0m             \u001b[0moverride_flat_arg_shapes\u001b[0m\u001b[0;34m=\u001b[0m\u001b[0moverride_flat_arg_shapes\u001b[0m\u001b[0;34m,\u001b[0m\u001b[0;34m\u001b[0m\u001b[0;34m\u001b[0m\u001b[0m\n\u001b[0;32m-> 3402\u001b[0;31m             capture_by_value=self._capture_by_value),\n\u001b[0m\u001b[1;32m   3403\u001b[0m         \u001b[0mself\u001b[0m\u001b[0;34m.\u001b[0m\u001b[0m_function_attributes\u001b[0m\u001b[0;34m,\u001b[0m\u001b[0;34m\u001b[0m\u001b[0;34m\u001b[0m\u001b[0m\n\u001b[1;32m   3404\u001b[0m         \u001b[0mfunction_spec\u001b[0m\u001b[0;34m=\u001b[0m\u001b[0mself\u001b[0m\u001b[0;34m.\u001b[0m\u001b[0mfunction_spec\u001b[0m\u001b[0;34m,\u001b[0m\u001b[0;34m\u001b[0m\u001b[0;34m\u001b[0m\u001b[0m\n",
            "\u001b[0;32m/usr/local/lib/python3.7/dist-packages/tensorflow/python/framework/func_graph.py\u001b[0m in \u001b[0;36mfunc_graph_from_py_func\u001b[0;34m(name, python_func, args, kwargs, signature, func_graph, autograph, autograph_options, add_control_dependencies, arg_names, op_return_value, collections, capture_by_value, override_flat_arg_shapes, acd_record_initial_resource_uses)\u001b[0m\n\u001b[1;32m   1141\u001b[0m         \u001b[0m_\u001b[0m\u001b[0;34m,\u001b[0m \u001b[0moriginal_func\u001b[0m \u001b[0;34m=\u001b[0m \u001b[0mtf_decorator\u001b[0m\u001b[0;34m.\u001b[0m\u001b[0munwrap\u001b[0m\u001b[0;34m(\u001b[0m\u001b[0mpython_func\u001b[0m\u001b[0;34m)\u001b[0m\u001b[0;34m\u001b[0m\u001b[0;34m\u001b[0m\u001b[0m\n\u001b[1;32m   1142\u001b[0m \u001b[0;34m\u001b[0m\u001b[0m\n\u001b[0;32m-> 1143\u001b[0;31m       \u001b[0mfunc_outputs\u001b[0m \u001b[0;34m=\u001b[0m \u001b[0mpython_func\u001b[0m\u001b[0;34m(\u001b[0m\u001b[0;34m*\u001b[0m\u001b[0mfunc_args\u001b[0m\u001b[0;34m,\u001b[0m \u001b[0;34m**\u001b[0m\u001b[0mfunc_kwargs\u001b[0m\u001b[0;34m)\u001b[0m\u001b[0;34m\u001b[0m\u001b[0;34m\u001b[0m\u001b[0m\n\u001b[0m\u001b[1;32m   1144\u001b[0m \u001b[0;34m\u001b[0m\u001b[0m\n\u001b[1;32m   1145\u001b[0m       \u001b[0;31m# invariant: `func_outputs` contains only Tensors, CompositeTensors,\u001b[0m\u001b[0;34m\u001b[0m\u001b[0;34m\u001b[0m\u001b[0;34m\u001b[0m\u001b[0m\n",
            "\u001b[0;32m/usr/local/lib/python3.7/dist-packages/tensorflow/python/eager/def_function.py\u001b[0m in \u001b[0;36mwrapped_fn\u001b[0;34m(*args, **kwds)\u001b[0m\n\u001b[1;32m    670\u001b[0m         \u001b[0;31m# the function a weak reference to itself to avoid a reference cycle.\u001b[0m\u001b[0;34m\u001b[0m\u001b[0;34m\u001b[0m\u001b[0;34m\u001b[0m\u001b[0m\n\u001b[1;32m    671\u001b[0m         \u001b[0;32mwith\u001b[0m \u001b[0mOptionalXlaContext\u001b[0m\u001b[0;34m(\u001b[0m\u001b[0mcompile_with_xla\u001b[0m\u001b[0;34m)\u001b[0m\u001b[0;34m:\u001b[0m\u001b[0;34m\u001b[0m\u001b[0;34m\u001b[0m\u001b[0m\n\u001b[0;32m--> 672\u001b[0;31m           \u001b[0mout\u001b[0m \u001b[0;34m=\u001b[0m \u001b[0mweak_wrapped_fn\u001b[0m\u001b[0;34m(\u001b[0m\u001b[0;34m)\u001b[0m\u001b[0;34m.\u001b[0m\u001b[0m__wrapped__\u001b[0m\u001b[0;34m(\u001b[0m\u001b[0;34m*\u001b[0m\u001b[0margs\u001b[0m\u001b[0;34m,\u001b[0m \u001b[0;34m**\u001b[0m\u001b[0mkwds\u001b[0m\u001b[0;34m)\u001b[0m\u001b[0;34m\u001b[0m\u001b[0;34m\u001b[0m\u001b[0m\n\u001b[0m\u001b[1;32m    673\u001b[0m         \u001b[0;32mreturn\u001b[0m \u001b[0mout\u001b[0m\u001b[0;34m\u001b[0m\u001b[0;34m\u001b[0m\u001b[0m\n\u001b[1;32m    674\u001b[0m \u001b[0;34m\u001b[0m\u001b[0m\n",
            "\u001b[0;32m/usr/local/lib/python3.7/dist-packages/tensorflow/python/framework/func_graph.py\u001b[0m in \u001b[0;36mautograph_handler\u001b[0;34m(*args, **kwargs)\u001b[0m\n\u001b[1;32m   1123\u001b[0m                     \u001b[0mrecursive\u001b[0m\u001b[0;34m=\u001b[0m\u001b[0;32mTrue\u001b[0m\u001b[0;34m,\u001b[0m\u001b[0;34m\u001b[0m\u001b[0;34m\u001b[0m\u001b[0m\n\u001b[1;32m   1124\u001b[0m                     \u001b[0moptional_features\u001b[0m\u001b[0;34m=\u001b[0m\u001b[0mautograph_options\u001b[0m\u001b[0;34m,\u001b[0m\u001b[0;34m\u001b[0m\u001b[0;34m\u001b[0m\u001b[0m\n\u001b[0;32m-> 1125\u001b[0;31m                     \u001b[0muser_requested\u001b[0m\u001b[0;34m=\u001b[0m\u001b[0;32mTrue\u001b[0m\u001b[0;34m,\u001b[0m\u001b[0;34m\u001b[0m\u001b[0;34m\u001b[0m\u001b[0m\n\u001b[0m\u001b[1;32m   1126\u001b[0m                 ))\n\u001b[1;32m   1127\u001b[0m           \u001b[0;32mexcept\u001b[0m \u001b[0mException\u001b[0m \u001b[0;32mas\u001b[0m \u001b[0me\u001b[0m\u001b[0;34m:\u001b[0m  \u001b[0;31m# pylint:disable=broad-except\u001b[0m\u001b[0;34m\u001b[0m\u001b[0;34m\u001b[0m\u001b[0m\n",
            "\u001b[0;32m/usr/local/lib/python3.7/dist-packages/tensorflow/python/autograph/impl/api.py\u001b[0m in \u001b[0;36mconverted_call\u001b[0;34m(f, args, kwargs, caller_fn_scope, options)\u001b[0m\n\u001b[1;32m    443\u001b[0m     \u001b[0;32mtry\u001b[0m\u001b[0;34m:\u001b[0m\u001b[0;34m\u001b[0m\u001b[0;34m\u001b[0m\u001b[0m\n\u001b[1;32m    444\u001b[0m       \u001b[0;32mif\u001b[0m \u001b[0mkwargs\u001b[0m \u001b[0;32mis\u001b[0m \u001b[0;32mnot\u001b[0m \u001b[0;32mNone\u001b[0m\u001b[0;34m:\u001b[0m\u001b[0;34m\u001b[0m\u001b[0;34m\u001b[0m\u001b[0m\n\u001b[0;32m--> 445\u001b[0;31m         \u001b[0mresult\u001b[0m \u001b[0;34m=\u001b[0m \u001b[0mconverted_f\u001b[0m\u001b[0;34m(\u001b[0m\u001b[0;34m*\u001b[0m\u001b[0meffective_args\u001b[0m\u001b[0;34m,\u001b[0m \u001b[0;34m**\u001b[0m\u001b[0mkwargs\u001b[0m\u001b[0;34m)\u001b[0m\u001b[0;34m\u001b[0m\u001b[0;34m\u001b[0m\u001b[0m\n\u001b[0m\u001b[1;32m    446\u001b[0m       \u001b[0;32melse\u001b[0m\u001b[0;34m:\u001b[0m\u001b[0;34m\u001b[0m\u001b[0;34m\u001b[0m\u001b[0m\n\u001b[1;32m    447\u001b[0m         \u001b[0mresult\u001b[0m \u001b[0;34m=\u001b[0m \u001b[0mconverted_f\u001b[0m\u001b[0;34m(\u001b[0m\u001b[0;34m*\u001b[0m\u001b[0meffective_args\u001b[0m\u001b[0;34m)\u001b[0m\u001b[0;34m\u001b[0m\u001b[0;34m\u001b[0m\u001b[0m\n",
            "\u001b[0;32m/usr/local/lib/python3.7/dist-packages/keras/engine/training.py\u001b[0m in \u001b[0;36mtf__train_function\u001b[0;34m(iterator)\u001b[0m\n\u001b[1;32m     13\u001b[0m                 \u001b[0;32mtry\u001b[0m\u001b[0;34m:\u001b[0m\u001b[0;34m\u001b[0m\u001b[0;34m\u001b[0m\u001b[0m\n\u001b[1;32m     14\u001b[0m                     \u001b[0mdo_return\u001b[0m \u001b[0;34m=\u001b[0m \u001b[0;32mTrue\u001b[0m\u001b[0;34m\u001b[0m\u001b[0;34m\u001b[0m\u001b[0m\n\u001b[0;32m---> 15\u001b[0;31m                     \u001b[0mretval_\u001b[0m \u001b[0;34m=\u001b[0m \u001b[0mag__\u001b[0m\u001b[0;34m.\u001b[0m\u001b[0mconverted_call\u001b[0m\u001b[0;34m(\u001b[0m\u001b[0mag__\u001b[0m\u001b[0;34m.\u001b[0m\u001b[0mld\u001b[0m\u001b[0;34m(\u001b[0m\u001b[0mstep_function\u001b[0m\u001b[0;34m)\u001b[0m\u001b[0;34m,\u001b[0m \u001b[0;34m(\u001b[0m\u001b[0mag__\u001b[0m\u001b[0;34m.\u001b[0m\u001b[0mld\u001b[0m\u001b[0;34m(\u001b[0m\u001b[0mself\u001b[0m\u001b[0;34m)\u001b[0m\u001b[0;34m,\u001b[0m \u001b[0mag__\u001b[0m\u001b[0;34m.\u001b[0m\u001b[0mld\u001b[0m\u001b[0;34m(\u001b[0m\u001b[0miterator\u001b[0m\u001b[0;34m)\u001b[0m\u001b[0;34m)\u001b[0m\u001b[0;34m,\u001b[0m \u001b[0;32mNone\u001b[0m\u001b[0;34m,\u001b[0m \u001b[0mfscope\u001b[0m\u001b[0;34m)\u001b[0m\u001b[0;34m\u001b[0m\u001b[0;34m\u001b[0m\u001b[0m\n\u001b[0m\u001b[1;32m     16\u001b[0m                 \u001b[0;32mexcept\u001b[0m\u001b[0;34m:\u001b[0m\u001b[0;34m\u001b[0m\u001b[0;34m\u001b[0m\u001b[0m\n\u001b[1;32m     17\u001b[0m                     \u001b[0mdo_return\u001b[0m \u001b[0;34m=\u001b[0m \u001b[0;32mFalse\u001b[0m\u001b[0;34m\u001b[0m\u001b[0;34m\u001b[0m\u001b[0m\n",
            "\u001b[0;32m/usr/local/lib/python3.7/dist-packages/tensorflow/python/autograph/impl/api.py\u001b[0m in \u001b[0;36mconverted_call\u001b[0;34m(f, args, kwargs, caller_fn_scope, options)\u001b[0m\n\u001b[1;32m    381\u001b[0m \u001b[0;34m\u001b[0m\u001b[0m\n\u001b[1;32m    382\u001b[0m   \u001b[0;32mif\u001b[0m \u001b[0;32mnot\u001b[0m \u001b[0moptions\u001b[0m\u001b[0;34m.\u001b[0m\u001b[0muser_requested\u001b[0m \u001b[0;32mand\u001b[0m \u001b[0mconversion\u001b[0m\u001b[0;34m.\u001b[0m\u001b[0mis_allowlisted\u001b[0m\u001b[0;34m(\u001b[0m\u001b[0mf\u001b[0m\u001b[0;34m)\u001b[0m\u001b[0;34m:\u001b[0m\u001b[0;34m\u001b[0m\u001b[0;34m\u001b[0m\u001b[0m\n\u001b[0;32m--> 383\u001b[0;31m     \u001b[0;32mreturn\u001b[0m \u001b[0m_call_unconverted\u001b[0m\u001b[0;34m(\u001b[0m\u001b[0mf\u001b[0m\u001b[0;34m,\u001b[0m \u001b[0margs\u001b[0m\u001b[0;34m,\u001b[0m \u001b[0mkwargs\u001b[0m\u001b[0;34m,\u001b[0m \u001b[0moptions\u001b[0m\u001b[0;34m)\u001b[0m\u001b[0;34m\u001b[0m\u001b[0;34m\u001b[0m\u001b[0m\n\u001b[0m\u001b[1;32m    384\u001b[0m \u001b[0;34m\u001b[0m\u001b[0m\n\u001b[1;32m    385\u001b[0m   \u001b[0;31m# internal_convert_user_code is for example turned off when issuing a dynamic\u001b[0m\u001b[0;34m\u001b[0m\u001b[0;34m\u001b[0m\u001b[0;34m\u001b[0m\u001b[0m\n",
            "\u001b[0;32m/usr/local/lib/python3.7/dist-packages/tensorflow/python/autograph/impl/api.py\u001b[0m in \u001b[0;36m_call_unconverted\u001b[0;34m(f, args, kwargs, options, update_cache)\u001b[0m\n\u001b[1;32m    463\u001b[0m   \u001b[0;32mif\u001b[0m \u001b[0mkwargs\u001b[0m \u001b[0;32mis\u001b[0m \u001b[0;32mnot\u001b[0m \u001b[0;32mNone\u001b[0m\u001b[0;34m:\u001b[0m\u001b[0;34m\u001b[0m\u001b[0;34m\u001b[0m\u001b[0m\n\u001b[1;32m    464\u001b[0m     \u001b[0;32mreturn\u001b[0m \u001b[0mf\u001b[0m\u001b[0;34m(\u001b[0m\u001b[0;34m*\u001b[0m\u001b[0margs\u001b[0m\u001b[0;34m,\u001b[0m \u001b[0;34m**\u001b[0m\u001b[0mkwargs\u001b[0m\u001b[0;34m)\u001b[0m\u001b[0;34m\u001b[0m\u001b[0;34m\u001b[0m\u001b[0m\n\u001b[0;32m--> 465\u001b[0;31m   \u001b[0;32mreturn\u001b[0m \u001b[0mf\u001b[0m\u001b[0;34m(\u001b[0m\u001b[0;34m*\u001b[0m\u001b[0margs\u001b[0m\u001b[0;34m)\u001b[0m\u001b[0;34m\u001b[0m\u001b[0;34m\u001b[0m\u001b[0m\n\u001b[0m\u001b[1;32m    466\u001b[0m \u001b[0;34m\u001b[0m\u001b[0m\n\u001b[1;32m    467\u001b[0m \u001b[0;34m\u001b[0m\u001b[0m\n",
            "\u001b[0;32m/usr/local/lib/python3.7/dist-packages/keras/engine/training.py\u001b[0m in \u001b[0;36mstep_function\u001b[0;34m(model, iterator)\u001b[0m\n\u001b[1;32m    865\u001b[0m \u001b[0;34m\u001b[0m\u001b[0m\n\u001b[1;32m    866\u001b[0m       \u001b[0mdata\u001b[0m \u001b[0;34m=\u001b[0m \u001b[0mnext\u001b[0m\u001b[0;34m(\u001b[0m\u001b[0miterator\u001b[0m\u001b[0;34m)\u001b[0m\u001b[0;34m\u001b[0m\u001b[0;34m\u001b[0m\u001b[0m\n\u001b[0;32m--> 867\u001b[0;31m       \u001b[0moutputs\u001b[0m \u001b[0;34m=\u001b[0m \u001b[0mmodel\u001b[0m\u001b[0;34m.\u001b[0m\u001b[0mdistribute_strategy\u001b[0m\u001b[0;34m.\u001b[0m\u001b[0mrun\u001b[0m\u001b[0;34m(\u001b[0m\u001b[0mrun_step\u001b[0m\u001b[0;34m,\u001b[0m \u001b[0margs\u001b[0m\u001b[0;34m=\u001b[0m\u001b[0;34m(\u001b[0m\u001b[0mdata\u001b[0m\u001b[0;34m,\u001b[0m\u001b[0;34m)\u001b[0m\u001b[0;34m)\u001b[0m\u001b[0;34m\u001b[0m\u001b[0;34m\u001b[0m\u001b[0m\n\u001b[0m\u001b[1;32m    868\u001b[0m       outputs = reduce_per_replica(\n\u001b[1;32m    869\u001b[0m           outputs, self.distribute_strategy, reduction='first')\n",
            "\u001b[0;32m/usr/local/lib/python3.7/dist-packages/tensorflow/python/distribute/distribute_lib.py\u001b[0m in \u001b[0;36mrun\u001b[0;34m(***failed resolving arguments***)\u001b[0m\n\u001b[1;32m   1314\u001b[0m       fn = autograph.tf_convert(\n\u001b[1;32m   1315\u001b[0m           fn, autograph_ctx.control_status_ctx(), convert_by_default=False)\n\u001b[0;32m-> 1316\u001b[0;31m       \u001b[0;32mreturn\u001b[0m \u001b[0mself\u001b[0m\u001b[0;34m.\u001b[0m\u001b[0m_extended\u001b[0m\u001b[0;34m.\u001b[0m\u001b[0mcall_for_each_replica\u001b[0m\u001b[0;34m(\u001b[0m\u001b[0mfn\u001b[0m\u001b[0;34m,\u001b[0m \u001b[0margs\u001b[0m\u001b[0;34m=\u001b[0m\u001b[0margs\u001b[0m\u001b[0;34m,\u001b[0m \u001b[0mkwargs\u001b[0m\u001b[0;34m=\u001b[0m\u001b[0mkwargs\u001b[0m\u001b[0;34m)\u001b[0m\u001b[0;34m\u001b[0m\u001b[0;34m\u001b[0m\u001b[0m\n\u001b[0m\u001b[1;32m   1317\u001b[0m \u001b[0;34m\u001b[0m\u001b[0m\n\u001b[1;32m   1318\u001b[0m   \u001b[0;32mdef\u001b[0m \u001b[0mreduce\u001b[0m\u001b[0;34m(\u001b[0m\u001b[0mself\u001b[0m\u001b[0;34m,\u001b[0m \u001b[0mreduce_op\u001b[0m\u001b[0;34m,\u001b[0m \u001b[0mvalue\u001b[0m\u001b[0;34m,\u001b[0m \u001b[0maxis\u001b[0m\u001b[0;34m)\u001b[0m\u001b[0;34m:\u001b[0m\u001b[0;34m\u001b[0m\u001b[0;34m\u001b[0m\u001b[0m\n",
            "\u001b[0;32m/usr/local/lib/python3.7/dist-packages/tensorflow/python/distribute/distribute_lib.py\u001b[0m in \u001b[0;36mcall_for_each_replica\u001b[0;34m(self, fn, args, kwargs)\u001b[0m\n\u001b[1;32m   2890\u001b[0m       \u001b[0mkwargs\u001b[0m \u001b[0;34m=\u001b[0m \u001b[0;34m{\u001b[0m\u001b[0;34m}\u001b[0m\u001b[0;34m\u001b[0m\u001b[0;34m\u001b[0m\u001b[0m\n\u001b[1;32m   2891\u001b[0m     \u001b[0;32mwith\u001b[0m \u001b[0mself\u001b[0m\u001b[0;34m.\u001b[0m\u001b[0m_container_strategy\u001b[0m\u001b[0;34m(\u001b[0m\u001b[0;34m)\u001b[0m\u001b[0;34m.\u001b[0m\u001b[0mscope\u001b[0m\u001b[0;34m(\u001b[0m\u001b[0;34m)\u001b[0m\u001b[0;34m:\u001b[0m\u001b[0;34m\u001b[0m\u001b[0;34m\u001b[0m\u001b[0m\n\u001b[0;32m-> 2892\u001b[0;31m       \u001b[0;32mreturn\u001b[0m \u001b[0mself\u001b[0m\u001b[0;34m.\u001b[0m\u001b[0m_call_for_each_replica\u001b[0m\u001b[0;34m(\u001b[0m\u001b[0mfn\u001b[0m\u001b[0;34m,\u001b[0m \u001b[0margs\u001b[0m\u001b[0;34m,\u001b[0m \u001b[0mkwargs\u001b[0m\u001b[0;34m)\u001b[0m\u001b[0;34m\u001b[0m\u001b[0;34m\u001b[0m\u001b[0m\n\u001b[0m\u001b[1;32m   2893\u001b[0m \u001b[0;34m\u001b[0m\u001b[0m\n\u001b[1;32m   2894\u001b[0m   \u001b[0;32mdef\u001b[0m \u001b[0m_call_for_each_replica\u001b[0m\u001b[0;34m(\u001b[0m\u001b[0mself\u001b[0m\u001b[0;34m,\u001b[0m \u001b[0mfn\u001b[0m\u001b[0;34m,\u001b[0m \u001b[0margs\u001b[0m\u001b[0;34m,\u001b[0m \u001b[0mkwargs\u001b[0m\u001b[0;34m)\u001b[0m\u001b[0;34m:\u001b[0m\u001b[0;34m\u001b[0m\u001b[0;34m\u001b[0m\u001b[0m\n",
            "\u001b[0;32m/usr/local/lib/python3.7/dist-packages/tensorflow/python/distribute/distribute_lib.py\u001b[0m in \u001b[0;36m_call_for_each_replica\u001b[0;34m(self, fn, args, kwargs)\u001b[0m\n\u001b[1;32m   3693\u001b[0m   \u001b[0;32mdef\u001b[0m \u001b[0m_call_for_each_replica\u001b[0m\u001b[0;34m(\u001b[0m\u001b[0mself\u001b[0m\u001b[0;34m,\u001b[0m \u001b[0mfn\u001b[0m\u001b[0;34m,\u001b[0m \u001b[0margs\u001b[0m\u001b[0;34m,\u001b[0m \u001b[0mkwargs\u001b[0m\u001b[0;34m)\u001b[0m\u001b[0;34m:\u001b[0m\u001b[0;34m\u001b[0m\u001b[0;34m\u001b[0m\u001b[0m\n\u001b[1;32m   3694\u001b[0m     \u001b[0;32mwith\u001b[0m \u001b[0mReplicaContext\u001b[0m\u001b[0;34m(\u001b[0m\u001b[0mself\u001b[0m\u001b[0;34m.\u001b[0m\u001b[0m_container_strategy\u001b[0m\u001b[0;34m(\u001b[0m\u001b[0;34m)\u001b[0m\u001b[0;34m,\u001b[0m \u001b[0mreplica_id_in_sync_group\u001b[0m\u001b[0;34m=\u001b[0m\u001b[0;36m0\u001b[0m\u001b[0;34m)\u001b[0m\u001b[0;34m:\u001b[0m\u001b[0;34m\u001b[0m\u001b[0;34m\u001b[0m\u001b[0m\n\u001b[0;32m-> 3695\u001b[0;31m       \u001b[0;32mreturn\u001b[0m \u001b[0mfn\u001b[0m\u001b[0;34m(\u001b[0m\u001b[0;34m*\u001b[0m\u001b[0margs\u001b[0m\u001b[0;34m,\u001b[0m \u001b[0;34m**\u001b[0m\u001b[0mkwargs\u001b[0m\u001b[0;34m)\u001b[0m\u001b[0;34m\u001b[0m\u001b[0;34m\u001b[0m\u001b[0m\n\u001b[0m\u001b[1;32m   3696\u001b[0m \u001b[0;34m\u001b[0m\u001b[0m\n\u001b[1;32m   3697\u001b[0m   \u001b[0;32mdef\u001b[0m \u001b[0m_reduce_to\u001b[0m\u001b[0;34m(\u001b[0m\u001b[0mself\u001b[0m\u001b[0;34m,\u001b[0m \u001b[0mreduce_op\u001b[0m\u001b[0;34m,\u001b[0m \u001b[0mvalue\u001b[0m\u001b[0;34m,\u001b[0m \u001b[0mdestinations\u001b[0m\u001b[0;34m,\u001b[0m \u001b[0moptions\u001b[0m\u001b[0;34m)\u001b[0m\u001b[0;34m:\u001b[0m\u001b[0;34m\u001b[0m\u001b[0;34m\u001b[0m\u001b[0m\n",
            "\u001b[0;32m/usr/local/lib/python3.7/dist-packages/tensorflow/python/autograph/impl/api.py\u001b[0m in \u001b[0;36mwrapper\u001b[0;34m(*args, **kwargs)\u001b[0m\n\u001b[1;32m    694\u001b[0m       \u001b[0;32mtry\u001b[0m\u001b[0;34m:\u001b[0m\u001b[0;34m\u001b[0m\u001b[0;34m\u001b[0m\u001b[0m\n\u001b[1;32m    695\u001b[0m         \u001b[0;32mwith\u001b[0m \u001b[0mconversion_ctx\u001b[0m\u001b[0;34m:\u001b[0m\u001b[0;34m\u001b[0m\u001b[0;34m\u001b[0m\u001b[0m\n\u001b[0;32m--> 696\u001b[0;31m           \u001b[0;32mreturn\u001b[0m \u001b[0mconverted_call\u001b[0m\u001b[0;34m(\u001b[0m\u001b[0mf\u001b[0m\u001b[0;34m,\u001b[0m \u001b[0margs\u001b[0m\u001b[0;34m,\u001b[0m \u001b[0mkwargs\u001b[0m\u001b[0;34m,\u001b[0m \u001b[0moptions\u001b[0m\u001b[0;34m=\u001b[0m\u001b[0moptions\u001b[0m\u001b[0;34m)\u001b[0m\u001b[0;34m\u001b[0m\u001b[0;34m\u001b[0m\u001b[0m\n\u001b[0m\u001b[1;32m    697\u001b[0m       \u001b[0;32mexcept\u001b[0m \u001b[0mException\u001b[0m \u001b[0;32mas\u001b[0m \u001b[0me\u001b[0m\u001b[0;34m:\u001b[0m  \u001b[0;31m# pylint:disable=broad-except\u001b[0m\u001b[0;34m\u001b[0m\u001b[0;34m\u001b[0m\u001b[0m\n\u001b[1;32m    698\u001b[0m         \u001b[0;32mif\u001b[0m \u001b[0mhasattr\u001b[0m\u001b[0;34m(\u001b[0m\u001b[0me\u001b[0m\u001b[0;34m,\u001b[0m \u001b[0;34m'ag_error_metadata'\u001b[0m\u001b[0;34m)\u001b[0m\u001b[0;34m:\u001b[0m\u001b[0;34m\u001b[0m\u001b[0;34m\u001b[0m\u001b[0m\n",
            "\u001b[0;32m/usr/local/lib/python3.7/dist-packages/tensorflow/python/autograph/impl/api.py\u001b[0m in \u001b[0;36mconverted_call\u001b[0;34m(f, args, kwargs, caller_fn_scope, options)\u001b[0m\n\u001b[1;32m    381\u001b[0m \u001b[0;34m\u001b[0m\u001b[0m\n\u001b[1;32m    382\u001b[0m   \u001b[0;32mif\u001b[0m \u001b[0;32mnot\u001b[0m \u001b[0moptions\u001b[0m\u001b[0;34m.\u001b[0m\u001b[0muser_requested\u001b[0m \u001b[0;32mand\u001b[0m \u001b[0mconversion\u001b[0m\u001b[0;34m.\u001b[0m\u001b[0mis_allowlisted\u001b[0m\u001b[0;34m(\u001b[0m\u001b[0mf\u001b[0m\u001b[0;34m)\u001b[0m\u001b[0;34m:\u001b[0m\u001b[0;34m\u001b[0m\u001b[0;34m\u001b[0m\u001b[0m\n\u001b[0;32m--> 383\u001b[0;31m     \u001b[0;32mreturn\u001b[0m \u001b[0m_call_unconverted\u001b[0m\u001b[0;34m(\u001b[0m\u001b[0mf\u001b[0m\u001b[0;34m,\u001b[0m \u001b[0margs\u001b[0m\u001b[0;34m,\u001b[0m \u001b[0mkwargs\u001b[0m\u001b[0;34m,\u001b[0m \u001b[0moptions\u001b[0m\u001b[0;34m)\u001b[0m\u001b[0;34m\u001b[0m\u001b[0;34m\u001b[0m\u001b[0m\n\u001b[0m\u001b[1;32m    384\u001b[0m \u001b[0;34m\u001b[0m\u001b[0m\n\u001b[1;32m    385\u001b[0m   \u001b[0;31m# internal_convert_user_code is for example turned off when issuing a dynamic\u001b[0m\u001b[0;34m\u001b[0m\u001b[0;34m\u001b[0m\u001b[0;34m\u001b[0m\u001b[0m\n",
            "\u001b[0;32m/usr/local/lib/python3.7/dist-packages/tensorflow/python/autograph/impl/api.py\u001b[0m in \u001b[0;36m_call_unconverted\u001b[0;34m(f, args, kwargs, options, update_cache)\u001b[0m\n\u001b[1;32m    462\u001b[0m \u001b[0;34m\u001b[0m\u001b[0m\n\u001b[1;32m    463\u001b[0m   \u001b[0;32mif\u001b[0m \u001b[0mkwargs\u001b[0m \u001b[0;32mis\u001b[0m \u001b[0;32mnot\u001b[0m \u001b[0;32mNone\u001b[0m\u001b[0;34m:\u001b[0m\u001b[0;34m\u001b[0m\u001b[0;34m\u001b[0m\u001b[0m\n\u001b[0;32m--> 464\u001b[0;31m     \u001b[0;32mreturn\u001b[0m \u001b[0mf\u001b[0m\u001b[0;34m(\u001b[0m\u001b[0;34m*\u001b[0m\u001b[0margs\u001b[0m\u001b[0;34m,\u001b[0m \u001b[0;34m**\u001b[0m\u001b[0mkwargs\u001b[0m\u001b[0;34m)\u001b[0m\u001b[0;34m\u001b[0m\u001b[0;34m\u001b[0m\u001b[0m\n\u001b[0m\u001b[1;32m    465\u001b[0m   \u001b[0;32mreturn\u001b[0m \u001b[0mf\u001b[0m\u001b[0;34m(\u001b[0m\u001b[0;34m*\u001b[0m\u001b[0margs\u001b[0m\u001b[0;34m)\u001b[0m\u001b[0;34m\u001b[0m\u001b[0;34m\u001b[0m\u001b[0m\n\u001b[1;32m    466\u001b[0m \u001b[0;34m\u001b[0m\u001b[0m\n",
            "\u001b[0;32m/usr/local/lib/python3.7/dist-packages/keras/engine/training.py\u001b[0m in \u001b[0;36mrun_step\u001b[0;34m(data)\u001b[0m\n\u001b[1;32m    858\u001b[0m \u001b[0;34m\u001b[0m\u001b[0m\n\u001b[1;32m    859\u001b[0m       \u001b[0;32mdef\u001b[0m \u001b[0mrun_step\u001b[0m\u001b[0;34m(\u001b[0m\u001b[0mdata\u001b[0m\u001b[0;34m)\u001b[0m\u001b[0;34m:\u001b[0m\u001b[0;34m\u001b[0m\u001b[0;34m\u001b[0m\u001b[0m\n\u001b[0;32m--> 860\u001b[0;31m         \u001b[0moutputs\u001b[0m \u001b[0;34m=\u001b[0m \u001b[0mmodel\u001b[0m\u001b[0;34m.\u001b[0m\u001b[0mtrain_step\u001b[0m\u001b[0;34m(\u001b[0m\u001b[0mdata\u001b[0m\u001b[0;34m)\u001b[0m\u001b[0;34m\u001b[0m\u001b[0;34m\u001b[0m\u001b[0m\n\u001b[0m\u001b[1;32m    861\u001b[0m         \u001b[0;31m# Ensure counter is updated only if `train_step` succeeds.\u001b[0m\u001b[0;34m\u001b[0m\u001b[0;34m\u001b[0m\u001b[0;34m\u001b[0m\u001b[0m\n\u001b[1;32m    862\u001b[0m         \u001b[0;32mwith\u001b[0m \u001b[0mtf\u001b[0m\u001b[0;34m.\u001b[0m\u001b[0mcontrol_dependencies\u001b[0m\u001b[0;34m(\u001b[0m\u001b[0m_minimum_control_deps\u001b[0m\u001b[0;34m(\u001b[0m\u001b[0moutputs\u001b[0m\u001b[0;34m)\u001b[0m\u001b[0;34m)\u001b[0m\u001b[0;34m:\u001b[0m\u001b[0;34m\u001b[0m\u001b[0;34m\u001b[0m\u001b[0m\n",
            "\u001b[0;32m/usr/local/lib/python3.7/dist-packages/keras/engine/training.py\u001b[0m in \u001b[0;36mtrain_step\u001b[0;34m(self, data)\u001b[0m\n\u001b[1;32m    819\u001b[0m     \u001b[0mreturn_metrics\u001b[0m \u001b[0;34m=\u001b[0m \u001b[0;34m{\u001b[0m\u001b[0;34m}\u001b[0m\u001b[0;34m\u001b[0m\u001b[0;34m\u001b[0m\u001b[0m\n\u001b[1;32m    820\u001b[0m     \u001b[0;32mfor\u001b[0m \u001b[0mmetric\u001b[0m \u001b[0;32min\u001b[0m \u001b[0mself\u001b[0m\u001b[0;34m.\u001b[0m\u001b[0mmetrics\u001b[0m\u001b[0;34m:\u001b[0m\u001b[0;34m\u001b[0m\u001b[0;34m\u001b[0m\u001b[0m\n\u001b[0;32m--> 821\u001b[0;31m       \u001b[0mresult\u001b[0m \u001b[0;34m=\u001b[0m \u001b[0mmetric\u001b[0m\u001b[0;34m.\u001b[0m\u001b[0mresult\u001b[0m\u001b[0;34m(\u001b[0m\u001b[0;34m)\u001b[0m\u001b[0;34m\u001b[0m\u001b[0;34m\u001b[0m\u001b[0m\n\u001b[0m\u001b[1;32m    822\u001b[0m       \u001b[0;32mif\u001b[0m \u001b[0misinstance\u001b[0m\u001b[0;34m(\u001b[0m\u001b[0mresult\u001b[0m\u001b[0;34m,\u001b[0m \u001b[0mdict\u001b[0m\u001b[0;34m)\u001b[0m\u001b[0;34m:\u001b[0m\u001b[0;34m\u001b[0m\u001b[0;34m\u001b[0m\u001b[0m\n\u001b[1;32m    823\u001b[0m         \u001b[0mreturn_metrics\u001b[0m\u001b[0;34m.\u001b[0m\u001b[0mupdate\u001b[0m\u001b[0;34m(\u001b[0m\u001b[0mresult\u001b[0m\u001b[0;34m)\u001b[0m\u001b[0;34m\u001b[0m\u001b[0;34m\u001b[0m\u001b[0m\n",
            "\u001b[0;32m/usr/local/lib/python3.7/dist-packages/keras/utils/metrics_utils.py\u001b[0m in \u001b[0;36mdecorated\u001b[0;34m(metric_obj, *args)\u001b[0m\n\u001b[1;32m    130\u001b[0m         ).extended._use_merge_call()):\n\u001b[1;32m    131\u001b[0m       \u001b[0;32mwith\u001b[0m \u001b[0mtf\u001b[0m\u001b[0;34m.\u001b[0m\u001b[0m__internal__\u001b[0m\u001b[0;34m.\u001b[0m\u001b[0mdistribute\u001b[0m\u001b[0;34m.\u001b[0m\u001b[0mvariable_sync_on_read_context\u001b[0m\u001b[0;34m(\u001b[0m\u001b[0;34m)\u001b[0m\u001b[0;34m:\u001b[0m\u001b[0;34m\u001b[0m\u001b[0;34m\u001b[0m\u001b[0m\n\u001b[0;32m--> 132\u001b[0;31m         \u001b[0mraw_result\u001b[0m \u001b[0;34m=\u001b[0m \u001b[0mresult_fn\u001b[0m\u001b[0;34m(\u001b[0m\u001b[0;34m*\u001b[0m\u001b[0margs\u001b[0m\u001b[0;34m)\u001b[0m\u001b[0;34m\u001b[0m\u001b[0;34m\u001b[0m\u001b[0m\n\u001b[0m\u001b[1;32m    133\u001b[0m         \u001b[0;31m# Results need to be wrapped in a `tf.identity` op to ensure\u001b[0m\u001b[0;34m\u001b[0m\u001b[0;34m\u001b[0m\u001b[0;34m\u001b[0m\u001b[0m\n\u001b[1;32m    134\u001b[0m         \u001b[0;31m# correct execution order.\u001b[0m\u001b[0;34m\u001b[0m\u001b[0;34m\u001b[0m\u001b[0;34m\u001b[0m\u001b[0m\n",
            "\u001b[0;32m/usr/local/lib/python3.7/dist-packages/keras/metrics.py\u001b[0m in \u001b[0;36mresult_fn\u001b[0;34m(*args, **kwargs)\u001b[0m\n\u001b[1;32m    190\u001b[0m       \u001b[0mcontrol_status\u001b[0m \u001b[0;34m=\u001b[0m \u001b[0mtf\u001b[0m\u001b[0;34m.\u001b[0m\u001b[0m__internal__\u001b[0m\u001b[0;34m.\u001b[0m\u001b[0mautograph\u001b[0m\u001b[0;34m.\u001b[0m\u001b[0mcontrol_status_ctx\u001b[0m\u001b[0;34m(\u001b[0m\u001b[0;34m)\u001b[0m\u001b[0;34m\u001b[0m\u001b[0;34m\u001b[0m\u001b[0m\n\u001b[1;32m    191\u001b[0m       \u001b[0mag_result\u001b[0m \u001b[0;34m=\u001b[0m \u001b[0mtf\u001b[0m\u001b[0;34m.\u001b[0m\u001b[0m__internal__\u001b[0m\u001b[0;34m.\u001b[0m\u001b[0mautograph\u001b[0m\u001b[0;34m.\u001b[0m\u001b[0mtf_convert\u001b[0m\u001b[0;34m(\u001b[0m\u001b[0mobj_result\u001b[0m\u001b[0;34m,\u001b[0m \u001b[0mcontrol_status\u001b[0m\u001b[0;34m)\u001b[0m\u001b[0;34m\u001b[0m\u001b[0;34m\u001b[0m\u001b[0m\n\u001b[0;32m--> 192\u001b[0;31m       \u001b[0;32mreturn\u001b[0m \u001b[0mag_result\u001b[0m\u001b[0;34m(\u001b[0m\u001b[0;34m*\u001b[0m\u001b[0margs\u001b[0m\u001b[0;34m,\u001b[0m \u001b[0;34m**\u001b[0m\u001b[0mkwargs\u001b[0m\u001b[0;34m)\u001b[0m\u001b[0;34m\u001b[0m\u001b[0;34m\u001b[0m\u001b[0m\n\u001b[0m\u001b[1;32m    193\u001b[0m \u001b[0;34m\u001b[0m\u001b[0m\n\u001b[1;32m    194\u001b[0m     \u001b[0mobj\u001b[0m\u001b[0;34m.\u001b[0m\u001b[0mresult\u001b[0m \u001b[0;34m=\u001b[0m \u001b[0mtypes\u001b[0m\u001b[0;34m.\u001b[0m\u001b[0mMethodType\u001b[0m\u001b[0;34m(\u001b[0m\u001b[0mmetrics_utils\u001b[0m\u001b[0;34m.\u001b[0m\u001b[0mresult_wrapper\u001b[0m\u001b[0;34m(\u001b[0m\u001b[0mresult_fn\u001b[0m\u001b[0;34m)\u001b[0m\u001b[0;34m,\u001b[0m \u001b[0mobj\u001b[0m\u001b[0;34m)\u001b[0m\u001b[0;34m\u001b[0m\u001b[0;34m\u001b[0m\u001b[0m\n",
            "\u001b[0;32m/usr/local/lib/python3.7/dist-packages/tensorflow/python/autograph/impl/api.py\u001b[0m in \u001b[0;36mwrapper\u001b[0;34m(*args, **kwargs)\u001b[0m\n\u001b[1;32m    694\u001b[0m       \u001b[0;32mtry\u001b[0m\u001b[0;34m:\u001b[0m\u001b[0;34m\u001b[0m\u001b[0;34m\u001b[0m\u001b[0m\n\u001b[1;32m    695\u001b[0m         \u001b[0;32mwith\u001b[0m \u001b[0mconversion_ctx\u001b[0m\u001b[0;34m:\u001b[0m\u001b[0;34m\u001b[0m\u001b[0;34m\u001b[0m\u001b[0m\n\u001b[0;32m--> 696\u001b[0;31m           \u001b[0;32mreturn\u001b[0m \u001b[0mconverted_call\u001b[0m\u001b[0;34m(\u001b[0m\u001b[0mf\u001b[0m\u001b[0;34m,\u001b[0m \u001b[0margs\u001b[0m\u001b[0;34m,\u001b[0m \u001b[0mkwargs\u001b[0m\u001b[0;34m,\u001b[0m \u001b[0moptions\u001b[0m\u001b[0;34m=\u001b[0m\u001b[0moptions\u001b[0m\u001b[0;34m)\u001b[0m\u001b[0;34m\u001b[0m\u001b[0;34m\u001b[0m\u001b[0m\n\u001b[0m\u001b[1;32m    697\u001b[0m       \u001b[0;32mexcept\u001b[0m \u001b[0mException\u001b[0m \u001b[0;32mas\u001b[0m \u001b[0me\u001b[0m\u001b[0;34m:\u001b[0m  \u001b[0;31m# pylint:disable=broad-except\u001b[0m\u001b[0;34m\u001b[0m\u001b[0;34m\u001b[0m\u001b[0m\n\u001b[1;32m    698\u001b[0m         \u001b[0;32mif\u001b[0m \u001b[0mhasattr\u001b[0m\u001b[0;34m(\u001b[0m\u001b[0me\u001b[0m\u001b[0;34m,\u001b[0m \u001b[0;34m'ag_error_metadata'\u001b[0m\u001b[0;34m)\u001b[0m\u001b[0;34m:\u001b[0m\u001b[0;34m\u001b[0m\u001b[0;34m\u001b[0m\u001b[0m\n",
            "\u001b[0;32m/usr/local/lib/python3.7/dist-packages/tensorflow/python/autograph/impl/api.py\u001b[0m in \u001b[0;36mconverted_call\u001b[0;34m(f, args, kwargs, caller_fn_scope, options)\u001b[0m\n\u001b[1;32m    335\u001b[0m   \u001b[0;32mif\u001b[0m \u001b[0mconversion\u001b[0m\u001b[0;34m.\u001b[0m\u001b[0mis_in_allowlist_cache\u001b[0m\u001b[0;34m(\u001b[0m\u001b[0mf\u001b[0m\u001b[0;34m,\u001b[0m \u001b[0moptions\u001b[0m\u001b[0;34m)\u001b[0m\u001b[0;34m:\u001b[0m\u001b[0;34m\u001b[0m\u001b[0;34m\u001b[0m\u001b[0m\n\u001b[1;32m    336\u001b[0m     \u001b[0mlogging\u001b[0m\u001b[0;34m.\u001b[0m\u001b[0mlog\u001b[0m\u001b[0;34m(\u001b[0m\u001b[0;36m2\u001b[0m\u001b[0;34m,\u001b[0m \u001b[0;34m'Allowlisted %s: from cache'\u001b[0m\u001b[0;34m,\u001b[0m \u001b[0mf\u001b[0m\u001b[0;34m)\u001b[0m\u001b[0;34m\u001b[0m\u001b[0;34m\u001b[0m\u001b[0m\n\u001b[0;32m--> 337\u001b[0;31m     \u001b[0;32mreturn\u001b[0m \u001b[0m_call_unconverted\u001b[0m\u001b[0;34m(\u001b[0m\u001b[0mf\u001b[0m\u001b[0;34m,\u001b[0m \u001b[0margs\u001b[0m\u001b[0;34m,\u001b[0m \u001b[0mkwargs\u001b[0m\u001b[0;34m,\u001b[0m \u001b[0moptions\u001b[0m\u001b[0;34m,\u001b[0m \u001b[0;32mFalse\u001b[0m\u001b[0;34m)\u001b[0m\u001b[0;34m\u001b[0m\u001b[0;34m\u001b[0m\u001b[0m\n\u001b[0m\u001b[1;32m    338\u001b[0m \u001b[0;34m\u001b[0m\u001b[0m\n\u001b[1;32m    339\u001b[0m   \u001b[0;32mif\u001b[0m \u001b[0mag_ctx\u001b[0m\u001b[0;34m.\u001b[0m\u001b[0mcontrol_status_ctx\u001b[0m\u001b[0;34m(\u001b[0m\u001b[0;34m)\u001b[0m\u001b[0;34m.\u001b[0m\u001b[0mstatus\u001b[0m \u001b[0;34m==\u001b[0m \u001b[0mag_ctx\u001b[0m\u001b[0;34m.\u001b[0m\u001b[0mStatus\u001b[0m\u001b[0;34m.\u001b[0m\u001b[0mDISABLED\u001b[0m\u001b[0;34m:\u001b[0m\u001b[0;34m\u001b[0m\u001b[0;34m\u001b[0m\u001b[0m\n",
            "\u001b[0;32m/usr/local/lib/python3.7/dist-packages/tensorflow/python/autograph/impl/api.py\u001b[0m in \u001b[0;36m_call_unconverted\u001b[0;34m(f, args, kwargs, options, update_cache)\u001b[0m\n\u001b[1;32m    462\u001b[0m \u001b[0;34m\u001b[0m\u001b[0m\n\u001b[1;32m    463\u001b[0m   \u001b[0;32mif\u001b[0m \u001b[0mkwargs\u001b[0m \u001b[0;32mis\u001b[0m \u001b[0;32mnot\u001b[0m \u001b[0;32mNone\u001b[0m\u001b[0;34m:\u001b[0m\u001b[0;34m\u001b[0m\u001b[0;34m\u001b[0m\u001b[0m\n\u001b[0;32m--> 464\u001b[0;31m     \u001b[0;32mreturn\u001b[0m \u001b[0mf\u001b[0m\u001b[0;34m(\u001b[0m\u001b[0;34m*\u001b[0m\u001b[0margs\u001b[0m\u001b[0;34m,\u001b[0m \u001b[0;34m**\u001b[0m\u001b[0mkwargs\u001b[0m\u001b[0;34m)\u001b[0m\u001b[0;34m\u001b[0m\u001b[0;34m\u001b[0m\u001b[0m\n\u001b[0m\u001b[1;32m    465\u001b[0m   \u001b[0;32mreturn\u001b[0m \u001b[0mf\u001b[0m\u001b[0;34m(\u001b[0m\u001b[0;34m*\u001b[0m\u001b[0margs\u001b[0m\u001b[0;34m)\u001b[0m\u001b[0;34m\u001b[0m\u001b[0;34m\u001b[0m\u001b[0m\n\u001b[1;32m    466\u001b[0m \u001b[0;34m\u001b[0m\u001b[0m\n",
            "\u001b[0;32m/usr/local/lib/python3.7/dist-packages/keras/metrics.py\u001b[0m in \u001b[0;36mresult\u001b[0;34m(self)\u001b[0m\n\u001b[1;32m   2493\u001b[0m     \u001b[0;32melse\u001b[0m\u001b[0;34m:\u001b[0m\u001b[0;34m\u001b[0m\u001b[0;34m\u001b[0m\u001b[0m\n\u001b[1;32m   2494\u001b[0m       return tf.reduce_sum(\n\u001b[0;32m-> 2495\u001b[0;31m           \u001b[0mtf\u001b[0m\u001b[0;34m.\u001b[0m\u001b[0mmultiply\u001b[0m\u001b[0;34m(\u001b[0m\u001b[0mx\u001b[0m\u001b[0;34m[\u001b[0m\u001b[0;34m:\u001b[0m\u001b[0mself\u001b[0m\u001b[0;34m.\u001b[0m\u001b[0mnum_thresholds\u001b[0m \u001b[0;34m-\u001b[0m \u001b[0;36m1\u001b[0m\u001b[0;34m]\u001b[0m \u001b[0;34m-\u001b[0m \u001b[0mx\u001b[0m\u001b[0;34m[\u001b[0m\u001b[0;36m1\u001b[0m\u001b[0;34m:\u001b[0m\u001b[0;34m]\u001b[0m\u001b[0;34m,\u001b[0m \u001b[0mheights\u001b[0m\u001b[0;34m)\u001b[0m\u001b[0;34m,\u001b[0m\u001b[0;34m\u001b[0m\u001b[0;34m\u001b[0m\u001b[0m\n\u001b[0m\u001b[1;32m   2496\u001b[0m           name=self.name)\n\u001b[1;32m   2497\u001b[0m \u001b[0;34m\u001b[0m\u001b[0m\n",
            "\u001b[0;32m/usr/local/lib/python3.7/dist-packages/tensorflow/python/util/traceback_utils.py\u001b[0m in \u001b[0;36merror_handler\u001b[0;34m(*args, **kwargs)\u001b[0m\n\u001b[1;32m    148\u001b[0m     \u001b[0mfiltered_tb\u001b[0m \u001b[0;34m=\u001b[0m \u001b[0;32mNone\u001b[0m\u001b[0;34m\u001b[0m\u001b[0;34m\u001b[0m\u001b[0m\n\u001b[1;32m    149\u001b[0m     \u001b[0;32mtry\u001b[0m\u001b[0;34m:\u001b[0m\u001b[0;34m\u001b[0m\u001b[0;34m\u001b[0m\u001b[0m\n\u001b[0;32m--> 150\u001b[0;31m       \u001b[0;32mreturn\u001b[0m \u001b[0mfn\u001b[0m\u001b[0;34m(\u001b[0m\u001b[0;34m*\u001b[0m\u001b[0margs\u001b[0m\u001b[0;34m,\u001b[0m \u001b[0;34m**\u001b[0m\u001b[0mkwargs\u001b[0m\u001b[0;34m)\u001b[0m\u001b[0;34m\u001b[0m\u001b[0;34m\u001b[0m\u001b[0m\n\u001b[0m\u001b[1;32m    151\u001b[0m     \u001b[0;32mexcept\u001b[0m \u001b[0mException\u001b[0m \u001b[0;32mas\u001b[0m \u001b[0me\u001b[0m\u001b[0;34m:\u001b[0m\u001b[0;34m\u001b[0m\u001b[0;34m\u001b[0m\u001b[0m\n\u001b[1;32m    152\u001b[0m       \u001b[0mfiltered_tb\u001b[0m \u001b[0;34m=\u001b[0m \u001b[0m_process_traceback_frames\u001b[0m\u001b[0;34m(\u001b[0m\u001b[0me\u001b[0m\u001b[0;34m.\u001b[0m\u001b[0m__traceback__\u001b[0m\u001b[0;34m)\u001b[0m\u001b[0;34m\u001b[0m\u001b[0;34m\u001b[0m\u001b[0m\n",
            "\u001b[0;32m/usr/local/lib/python3.7/dist-packages/tensorflow/python/util/dispatch.py\u001b[0m in \u001b[0;36mop_dispatch_handler\u001b[0;34m(*args, **kwargs)\u001b[0m\n\u001b[1;32m   1094\u001b[0m       \u001b[0;31m# Fallback dispatch system (dispatch v1):\u001b[0m\u001b[0;34m\u001b[0m\u001b[0;34m\u001b[0m\u001b[0;34m\u001b[0m\u001b[0m\n\u001b[1;32m   1095\u001b[0m       \u001b[0;32mtry\u001b[0m\u001b[0;34m:\u001b[0m\u001b[0;34m\u001b[0m\u001b[0;34m\u001b[0m\u001b[0m\n\u001b[0;32m-> 1096\u001b[0;31m         \u001b[0;32mreturn\u001b[0m \u001b[0mdispatch_target\u001b[0m\u001b[0;34m(\u001b[0m\u001b[0;34m*\u001b[0m\u001b[0margs\u001b[0m\u001b[0;34m,\u001b[0m \u001b[0;34m**\u001b[0m\u001b[0mkwargs\u001b[0m\u001b[0;34m)\u001b[0m\u001b[0;34m\u001b[0m\u001b[0;34m\u001b[0m\u001b[0m\n\u001b[0m\u001b[1;32m   1097\u001b[0m       \u001b[0;32mexcept\u001b[0m \u001b[0;34m(\u001b[0m\u001b[0mTypeError\u001b[0m\u001b[0;34m,\u001b[0m \u001b[0mValueError\u001b[0m\u001b[0;34m)\u001b[0m\u001b[0;34m:\u001b[0m\u001b[0;34m\u001b[0m\u001b[0;34m\u001b[0m\u001b[0m\n\u001b[1;32m   1098\u001b[0m         \u001b[0;31m# Note: convert_to_eager_tensor currently raises a ValueError, not a\u001b[0m\u001b[0;34m\u001b[0m\u001b[0;34m\u001b[0m\u001b[0;34m\u001b[0m\u001b[0m\n",
            "\u001b[0;32m/usr/local/lib/python3.7/dist-packages/tensorflow/python/ops/math_ops.py\u001b[0m in \u001b[0;36mmultiply\u001b[0;34m(x, y, name)\u001b[0m\n\u001b[1;32m    532\u001b[0m   \"\"\"\n\u001b[1;32m    533\u001b[0m \u001b[0;34m\u001b[0m\u001b[0m\n\u001b[0;32m--> 534\u001b[0;31m   \u001b[0;32mreturn\u001b[0m \u001b[0mgen_math_ops\u001b[0m\u001b[0;34m.\u001b[0m\u001b[0mmul\u001b[0m\u001b[0;34m(\u001b[0m\u001b[0mx\u001b[0m\u001b[0;34m,\u001b[0m \u001b[0my\u001b[0m\u001b[0;34m,\u001b[0m \u001b[0mname\u001b[0m\u001b[0;34m)\u001b[0m\u001b[0;34m\u001b[0m\u001b[0;34m\u001b[0m\u001b[0m\n\u001b[0m\u001b[1;32m    535\u001b[0m \u001b[0;34m\u001b[0m\u001b[0m\n\u001b[1;32m    536\u001b[0m \u001b[0;34m\u001b[0m\u001b[0m\n",
            "\u001b[0;32m/usr/local/lib/python3.7/dist-packages/tensorflow/python/ops/gen_math_ops.py\u001b[0m in \u001b[0;36mmul\u001b[0;34m(x, y, name)\u001b[0m\n\u001b[1;32m   6588\u001b[0m   \u001b[0;31m# Add nodes to the TensorFlow graph.\u001b[0m\u001b[0;34m\u001b[0m\u001b[0;34m\u001b[0m\u001b[0;34m\u001b[0m\u001b[0m\n\u001b[1;32m   6589\u001b[0m   _, _, _op, _outputs = _op_def_library._apply_op_helper(\n\u001b[0;32m-> 6590\u001b[0;31m         \"Mul\", x=x, y=y, name=name)\n\u001b[0m\u001b[1;32m   6591\u001b[0m   \u001b[0m_result\u001b[0m \u001b[0;34m=\u001b[0m \u001b[0m_outputs\u001b[0m\u001b[0;34m[\u001b[0m\u001b[0;34m:\u001b[0m\u001b[0;34m]\u001b[0m\u001b[0;34m\u001b[0m\u001b[0;34m\u001b[0m\u001b[0m\n\u001b[1;32m   6592\u001b[0m   \u001b[0;32mif\u001b[0m \u001b[0m_execute\u001b[0m\u001b[0;34m.\u001b[0m\u001b[0mmust_record_gradient\u001b[0m\u001b[0;34m(\u001b[0m\u001b[0;34m)\u001b[0m\u001b[0;34m:\u001b[0m\u001b[0;34m\u001b[0m\u001b[0;34m\u001b[0m\u001b[0m\n",
            "\u001b[0;32m/usr/local/lib/python3.7/dist-packages/tensorflow/python/framework/op_def_library.py\u001b[0m in \u001b[0;36m_apply_op_helper\u001b[0;34m(op_type_name, name, **keywords)\u001b[0m\n\u001b[1;32m    325\u001b[0m     \u001b[0;31m# Need to flatten all the arguments into a list.\u001b[0m\u001b[0;34m\u001b[0m\u001b[0;34m\u001b[0m\u001b[0;34m\u001b[0m\u001b[0m\n\u001b[1;32m    326\u001b[0m     \u001b[0;31m# pylint: disable=protected-access\u001b[0m\u001b[0;34m\u001b[0m\u001b[0;34m\u001b[0m\u001b[0;34m\u001b[0m\u001b[0m\n\u001b[0;32m--> 327\u001b[0;31m     \u001b[0mg\u001b[0m \u001b[0;34m=\u001b[0m \u001b[0mops\u001b[0m\u001b[0;34m.\u001b[0m\u001b[0m_get_graph_from_inputs\u001b[0m\u001b[0;34m(\u001b[0m\u001b[0m_Flatten\u001b[0m\u001b[0;34m(\u001b[0m\u001b[0mkeywords\u001b[0m\u001b[0;34m.\u001b[0m\u001b[0mvalues\u001b[0m\u001b[0;34m(\u001b[0m\u001b[0;34m)\u001b[0m\u001b[0;34m)\u001b[0m\u001b[0;34m)\u001b[0m\u001b[0;34m\u001b[0m\u001b[0;34m\u001b[0m\u001b[0m\n\u001b[0m\u001b[1;32m    328\u001b[0m     \u001b[0;31m# pylint: enable=protected-access\u001b[0m\u001b[0;34m\u001b[0m\u001b[0;34m\u001b[0m\u001b[0;34m\u001b[0m\u001b[0m\n\u001b[1;32m    329\u001b[0m   \u001b[0;32mexcept\u001b[0m \u001b[0mAssertionError\u001b[0m \u001b[0;32mas\u001b[0m \u001b[0me\u001b[0m\u001b[0;34m:\u001b[0m\u001b[0;34m\u001b[0m\u001b[0;34m\u001b[0m\u001b[0m\n",
            "\u001b[0;32m/usr/local/lib/python3.7/dist-packages/tensorflow/python/framework/op_def_library.py\u001b[0m in \u001b[0;36m_Flatten\u001b[0;34m(l)\u001b[0m\n\u001b[1;32m    108\u001b[0m   \u001b[0;34m\"\"\"Converts [1, 2, [3, 4], [5]] to [1, 2, 3, 4, 5].\"\"\"\u001b[0m\u001b[0;34m\u001b[0m\u001b[0;34m\u001b[0m\u001b[0m\n\u001b[1;32m    109\u001b[0m   \u001b[0;31m# [1, 2, [3, 4], [5]] -> [[1], [2], [3, 4], [5]]\u001b[0m\u001b[0;34m\u001b[0m\u001b[0;34m\u001b[0m\u001b[0;34m\u001b[0m\u001b[0m\n\u001b[0;32m--> 110\u001b[0;31m   \u001b[0ml_of_l\u001b[0m \u001b[0;34m=\u001b[0m \u001b[0;34m[\u001b[0m\u001b[0mx\u001b[0m \u001b[0;32mif\u001b[0m \u001b[0m_IsListValue\u001b[0m\u001b[0;34m(\u001b[0m\u001b[0mx\u001b[0m\u001b[0;34m)\u001b[0m \u001b[0;32melse\u001b[0m \u001b[0;34m[\u001b[0m\u001b[0mx\u001b[0m\u001b[0;34m]\u001b[0m \u001b[0;32mfor\u001b[0m \u001b[0mx\u001b[0m \u001b[0;32min\u001b[0m \u001b[0ml\u001b[0m\u001b[0;34m]\u001b[0m\u001b[0;34m\u001b[0m\u001b[0;34m\u001b[0m\u001b[0m\n\u001b[0m\u001b[1;32m    111\u001b[0m   \u001b[0;31m# [[1], [2], [3, 4], [5]] -> [1, 2, 3, 4, 5]\u001b[0m\u001b[0;34m\u001b[0m\u001b[0;34m\u001b[0m\u001b[0;34m\u001b[0m\u001b[0m\n\u001b[1;32m    112\u001b[0m   \u001b[0;32mreturn\u001b[0m \u001b[0;34m[\u001b[0m\u001b[0mitem\u001b[0m \u001b[0;32mfor\u001b[0m \u001b[0msublist\u001b[0m \u001b[0;32min\u001b[0m \u001b[0ml_of_l\u001b[0m \u001b[0;32mfor\u001b[0m \u001b[0mitem\u001b[0m \u001b[0;32min\u001b[0m \u001b[0msublist\u001b[0m\u001b[0;34m]\u001b[0m\u001b[0;34m\u001b[0m\u001b[0;34m\u001b[0m\u001b[0m\n",
            "\u001b[0;31mKeyboardInterrupt\u001b[0m: "
          ]
        }
      ]
    },
    {
      "cell_type": "markdown",
      "source": [
        "##3rd model training"
      ],
      "metadata": {
        "id": "hKdH9x5yerJW"
      }
    },
    {
      "cell_type": "code",
      "source": [
        "model_MLP.compile(\n",
        "    loss=keras.losses.BinaryCrossentropy(),\n",
        "    optimizer=keras.optimizers.Adam(),\n",
        "    metrics=metrics\n",
        ")\n",
        "\n",
        "MLP_history = model_MLP.fit([train_claims_X, train_evidences_X], train_labels_y, batch_size=512, shuffle=True, epochs=15, validation_data=([val_claims_X, val_evidences_X], val_labels_y))"
      ],
      "metadata": {
        "colab": {
          "base_uri": "https://localhost:8080/"
        },
        "id": "JayR8ze5eu0n",
        "outputId": "9f9d484d-bf10-4674-cf28-8e01d6a5724f"
      },
      "execution_count": 82,
      "outputs": [
        {
          "output_type": "stream",
          "name": "stdout",
          "text": [
            "Epoch 1/15\n",
            "238/238 [==============================] - 72s 286ms/step - loss: 1.7525 - tp: 3292.0000 - fp: 5554.0000 - tn: 101575.0000 - fn: 35383.0000 - accuracy: 0.7192 - precision: 0.3721 - recall: 0.0851 - auc: 0.5513 - val_loss: 0.8006 - val_tp: 0.0000e+00 - val_fp: 0.0000e+00 - val_tn: 3611.0000 - val_fn: 3554.0000 - val_accuracy: 0.5040 - val_precision: 0.0000e+00 - val_recall: 0.0000e+00 - val_auc: 0.6054\n",
            "Epoch 2/15\n",
            "238/238 [==============================] - 67s 281ms/step - loss: 0.5698 - tp: 0.0000e+00 - fp: 0.0000e+00 - tn: 89389.0000 - fn: 32351.0000 - accuracy: 0.7343 - precision: 0.0000e+00 - recall: 0.0000e+00 - auc: 0.6148 - val_loss: 0.7881 - val_tp: 0.0000e+00 - val_fp: 0.0000e+00 - val_tn: 3611.0000 - val_fn: 3554.0000 - val_accuracy: 0.5040 - val_precision: 0.0000e+00 - val_recall: 0.0000e+00 - val_auc: 0.6628\n",
            "Epoch 3/15\n",
            "238/238 [==============================] - 66s 278ms/step - loss: 0.5404 - tp: 624.0000 - fp: 97.0000 - tn: 89292.0000 - fn: 31727.0000 - accuracy: 0.7386 - precision: 0.8655 - recall: 0.0193 - auc: 0.7173 - val_loss: 0.7047 - val_tp: 350.0000 - val_fp: 36.0000 - val_tn: 3575.0000 - val_fn: 3204.0000 - val_accuracy: 0.5478 - val_precision: 0.9067 - val_recall: 0.0985 - val_auc: 0.7139\n",
            "Epoch 4/15\n",
            "238/238 [==============================] - 66s 278ms/step - loss: 0.4830 - tp: 7141.0000 - fp: 1268.0000 - tn: 88121.0000 - fn: 25210.0000 - accuracy: 0.7825 - precision: 0.8492 - recall: 0.2207 - auc: 0.7768 - val_loss: 0.6217 - val_tp: 1202.0000 - val_fp: 195.0000 - val_tn: 3416.0000 - val_fn: 2352.0000 - val_accuracy: 0.6445 - val_precision: 0.8604 - val_recall: 0.3382 - val_auc: 0.7557\n",
            "Epoch 5/15\n",
            "238/238 [==============================] - 67s 280ms/step - loss: 0.4296 - tp: 12249.0000 - fp: 2522.0000 - tn: 86867.0000 - fn: 20102.0000 - accuracy: 0.8142 - precision: 0.8293 - recall: 0.3786 - auc: 0.8248 - val_loss: 0.7059 - val_tp: 1025.0000 - val_fp: 63.0000 - val_tn: 3548.0000 - val_fn: 2529.0000 - val_accuracy: 0.6382 - val_precision: 0.9421 - val_recall: 0.2884 - val_auc: 0.7854\n",
            "Epoch 6/15\n",
            "238/238 [==============================] - 67s 280ms/step - loss: 0.3915 - tp: 14852.0000 - fp: 2859.0000 - tn: 86530.0000 - fn: 17499.0000 - accuracy: 0.8328 - precision: 0.8386 - recall: 0.4591 - auc: 0.8589 - val_loss: 0.6225 - val_tp: 1373.0000 - val_fp: 138.0000 - val_tn: 3473.0000 - val_fn: 2181.0000 - val_accuracy: 0.6763 - val_precision: 0.9087 - val_recall: 0.3863 - val_auc: 0.8023\n",
            "Epoch 7/15\n",
            "238/238 [==============================] - 66s 279ms/step - loss: 0.3655 - tp: 16500.0000 - fp: 2990.0000 - tn: 86399.0000 - fn: 15851.0000 - accuracy: 0.8452 - precision: 0.8466 - recall: 0.5100 - auc: 0.8804 - val_loss: 0.6505 - val_tp: 1373.0000 - val_fp: 117.0000 - val_tn: 3494.0000 - val_fn: 2181.0000 - val_accuracy: 0.6793 - val_precision: 0.9215 - val_recall: 0.3863 - val_auc: 0.8113\n",
            "Epoch 8/15\n",
            "238/238 [==============================] - 72s 301ms/step - loss: 0.3527 - tp: 17619.0000 - fp: 3552.0000 - tn: 85837.0000 - fn: 14732.0000 - accuracy: 0.8498 - precision: 0.8322 - recall: 0.5446 - auc: 0.8888 - val_loss: 0.5799 - val_tp: 1637.0000 - val_fp: 226.0000 - val_tn: 3385.0000 - val_fn: 1917.0000 - val_accuracy: 0.7009 - val_precision: 0.8787 - val_recall: 0.4606 - val_auc: 0.8162\n",
            "Epoch 9/15\n",
            "238/238 [==============================] - 66s 279ms/step - loss: 0.3375 - tp: 18504.0000 - fp: 3548.0000 - tn: 85841.0000 - fn: 13847.0000 - accuracy: 0.8571 - precision: 0.8391 - recall: 0.5720 - auc: 0.9004 - val_loss: 0.6135 - val_tp: 1595.0000 - val_fp: 186.0000 - val_tn: 3425.0000 - val_fn: 1959.0000 - val_accuracy: 0.7006 - val_precision: 0.8956 - val_recall: 0.4488 - val_auc: 0.8187\n",
            "Epoch 10/15\n",
            "238/238 [==============================] - 67s 280ms/step - loss: 0.3266 - tp: 19325.0000 - fp: 3781.0000 - tn: 85608.0000 - fn: 13026.0000 - accuracy: 0.8619 - precision: 0.8364 - recall: 0.5974 - auc: 0.9068 - val_loss: 0.7126 - val_tp: 1424.0000 - val_fp: 117.0000 - val_tn: 3494.0000 - val_fn: 2130.0000 - val_accuracy: 0.6864 - val_precision: 0.9241 - val_recall: 0.4007 - val_auc: 0.8195\n",
            "Epoch 11/15\n",
            "238/238 [==============================] - 67s 280ms/step - loss: 0.3175 - tp: 20006.0000 - fp: 3867.0000 - tn: 85522.0000 - fn: 12345.0000 - accuracy: 0.8668 - precision: 0.8380 - recall: 0.6184 - auc: 0.9126 - val_loss: 0.6999 - val_tp: 1497.0000 - val_fp: 139.0000 - val_tn: 3472.0000 - val_fn: 2057.0000 - val_accuracy: 0.6935 - val_precision: 0.9150 - val_recall: 0.4212 - val_auc: 0.8203\n",
            "Epoch 12/15\n",
            "238/238 [==============================] - 67s 282ms/step - loss: 0.3121 - tp: 20486.0000 - fp: 3944.0000 - tn: 85445.0000 - fn: 11865.0000 - accuracy: 0.8701 - precision: 0.8386 - recall: 0.6332 - auc: 0.9157 - val_loss: 0.6358 - val_tp: 1698.0000 - val_fp: 214.0000 - val_tn: 3397.0000 - val_fn: 1856.0000 - val_accuracy: 0.7111 - val_precision: 0.8881 - val_recall: 0.4778 - val_auc: 0.8204\n",
            "Epoch 13/15\n",
            "238/238 [==============================] - 67s 281ms/step - loss: 0.2984 - tp: 21029.0000 - fp: 3795.0000 - tn: 85594.0000 - fn: 11322.0000 - accuracy: 0.8758 - precision: 0.8471 - recall: 0.6500 - auc: 0.9240 - val_loss: 0.6757 - val_tp: 1650.0000 - val_fp: 187.0000 - val_tn: 3424.0000 - val_fn: 1904.0000 - val_accuracy: 0.7082 - val_precision: 0.8982 - val_recall: 0.4643 - val_auc: 0.8195\n",
            "Epoch 14/15\n",
            "238/238 [==============================] - 67s 280ms/step - loss: 0.2905 - tp: 21467.0000 - fp: 3789.0000 - tn: 85600.0000 - fn: 10884.0000 - accuracy: 0.8795 - precision: 0.8500 - recall: 0.6636 - auc: 0.9282 - val_loss: 0.6744 - val_tp: 1699.0000 - val_fp: 212.0000 - val_tn: 3399.0000 - val_fn: 1855.0000 - val_accuracy: 0.7115 - val_precision: 0.8891 - val_recall: 0.4781 - val_auc: 0.8194\n",
            "Epoch 15/15\n",
            "238/238 [==============================] - 67s 281ms/step - loss: 0.2822 - tp: 21946.0000 - fp: 3786.0000 - tn: 85603.0000 - fn: 10405.0000 - accuracy: 0.8834 - precision: 0.8529 - recall: 0.6784 - auc: 0.9326 - val_loss: 0.6420 - val_tp: 1823.0000 - val_fp: 273.0000 - val_tn: 3338.0000 - val_fn: 1731.0000 - val_accuracy: 0.7203 - val_precision: 0.8698 - val_recall: 0.5129 - val_auc: 0.8188\n"
          ]
        }
      ]
    },
    {
      "cell_type": "markdown",
      "source": [
        "##4th model training"
      ],
      "metadata": {
        "id": "HZhOfAgDTXAT"
      }
    },
    {
      "cell_type": "code",
      "source": [
        "model_bag_of_words.compile(\n",
        "    loss=keras.losses.BinaryCrossentropy(),\n",
        "    optimizer=keras.optimizers.Adam(),\n",
        "    metrics=metrics\n",
        ")\n",
        "\n",
        "bag_of_words_history = model_bag_of_words.fit([train_claims_X, train_evidences_X], train_labels_y, batch_size=128, shuffle=True, epochs=15, validation_data=([val_claims_X, val_evidences_X], val_labels_y))"
      ],
      "metadata": {
        "colab": {
          "base_uri": "https://localhost:8080/"
        },
        "id": "YXFEvJxDTcS5",
        "outputId": "63097dcb-e4c0-427e-99c3-1afad8637034"
      },
      "execution_count": 87,
      "outputs": [
        {
          "output_type": "stream",
          "name": "stdout",
          "text": [
            "Epoch 1/30\n",
            "952/952 [==============================] - 61s 63ms/step - loss: 0.5571 - tp: 4692.0000 - fp: 1725.0000 - tn: 91270.0000 - fn: 31242.0000 - accuracy: 0.7443 - precision: 0.7312 - recall: 0.1306 - auc: 0.6221 - val_loss: 0.7982 - val_tp: 196.0000 - val_fp: 67.0000 - val_tn: 3544.0000 - val_fn: 3358.0000 - val_accuracy: 0.5220 - val_precision: 0.7452 - val_recall: 0.0551 - val_auc: 0.5667\n",
            "Epoch 2/30\n",
            "952/952 [==============================] - 9s 10ms/step - loss: 0.5568 - tp: 2893.0000 - fp: 1371.0000 - tn: 88018.0000 - fn: 29458.0000 - accuracy: 0.7468 - precision: 0.6785 - recall: 0.0894 - auc: 0.6089 - val_loss: 0.7870 - val_tp: 223.0000 - val_fp: 77.0000 - val_tn: 3534.0000 - val_fn: 3331.0000 - val_accuracy: 0.5244 - val_precision: 0.7433 - val_recall: 0.0627 - val_auc: 0.5670\n",
            "Epoch 3/30\n",
            "952/952 [==============================] - 8s 8ms/step - loss: 0.5567 - tp: 2904.0000 - fp: 1376.0000 - tn: 88013.0000 - fn: 29447.0000 - accuracy: 0.7468 - precision: 0.6785 - recall: 0.0898 - auc: 0.6085 - val_loss: 0.8176 - val_tp: 152.0000 - val_fp: 56.0000 - val_tn: 3555.0000 - val_fn: 3402.0000 - val_accuracy: 0.5174 - val_precision: 0.7308 - val_recall: 0.0428 - val_auc: 0.5671\n",
            "Epoch 4/30\n",
            "952/952 [==============================] - 8s 8ms/step - loss: 0.5566 - tp: 2892.0000 - fp: 1386.0000 - tn: 88003.0000 - fn: 29459.0000 - accuracy: 0.7466 - precision: 0.6760 - recall: 0.0894 - auc: 0.6090 - val_loss: 0.8035 - val_tp: 195.0000 - val_fp: 66.0000 - val_tn: 3545.0000 - val_fn: 3359.0000 - val_accuracy: 0.5220 - val_precision: 0.7471 - val_recall: 0.0549 - val_auc: 0.5656\n",
            "Epoch 5/30\n",
            "952/952 [==============================] - 8s 8ms/step - loss: 0.5565 - tp: 2937.0000 - fp: 1438.0000 - tn: 87951.0000 - fn: 29414.0000 - accuracy: 0.7466 - precision: 0.6713 - recall: 0.0908 - auc: 0.6100 - val_loss: 0.8201 - val_tp: 179.0000 - val_fp: 61.0000 - val_tn: 3550.0000 - val_fn: 3375.0000 - val_accuracy: 0.5204 - val_precision: 0.7458 - val_recall: 0.0504 - val_auc: 0.5653\n",
            "Epoch 6/30\n",
            "952/952 [==============================] - 8s 8ms/step - loss: 0.5566 - tp: 2915.0000 - fp: 1391.0000 - tn: 87998.0000 - fn: 29436.0000 - accuracy: 0.7468 - precision: 0.6770 - recall: 0.0901 - auc: 0.6086 - val_loss: 0.7988 - val_tp: 223.0000 - val_fp: 80.0000 - val_tn: 3531.0000 - val_fn: 3331.0000 - val_accuracy: 0.5239 - val_precision: 0.7360 - val_recall: 0.0627 - val_auc: 0.5668\n",
            "Epoch 7/30\n",
            "952/952 [==============================] - 8s 8ms/step - loss: 0.5564 - tp: 2897.0000 - fp: 1404.0000 - tn: 87985.0000 - fn: 29454.0000 - accuracy: 0.7465 - precision: 0.6736 - recall: 0.0895 - auc: 0.6100 - val_loss: 0.8196 - val_tp: 127.0000 - val_fp: 47.0000 - val_tn: 3564.0000 - val_fn: 3427.0000 - val_accuracy: 0.5151 - val_precision: 0.7299 - val_recall: 0.0357 - val_auc: 0.5672\n",
            "Epoch 8/30\n",
            "952/952 [==============================] - 8s 8ms/step - loss: 0.5563 - tp: 2944.0000 - fp: 1410.0000 - tn: 87979.0000 - fn: 29407.0000 - accuracy: 0.7469 - precision: 0.6762 - recall: 0.0910 - auc: 0.6105 - val_loss: 0.7934 - val_tp: 203.0000 - val_fp: 68.0000 - val_tn: 3543.0000 - val_fn: 3351.0000 - val_accuracy: 0.5228 - val_precision: 0.7491 - val_recall: 0.0571 - val_auc: 0.5673\n",
            "Epoch 9/30\n",
            "952/952 [==============================] - 8s 8ms/step - loss: 0.5561 - tp: 2951.0000 - fp: 1398.0000 - tn: 87991.0000 - fn: 29400.0000 - accuracy: 0.7470 - precision: 0.6785 - recall: 0.0912 - auc: 0.6116 - val_loss: 0.8041 - val_tp: 199.0000 - val_fp: 67.0000 - val_tn: 3544.0000 - val_fn: 3355.0000 - val_accuracy: 0.5224 - val_precision: 0.7481 - val_recall: 0.0560 - val_auc: 0.5666\n",
            "Epoch 10/30\n",
            "952/952 [==============================] - 8s 8ms/step - loss: 0.5560 - tp: 2948.0000 - fp: 1404.0000 - tn: 87985.0000 - fn: 29403.0000 - accuracy: 0.7469 - precision: 0.6774 - recall: 0.0911 - auc: 0.6111 - val_loss: 0.8280 - val_tp: 151.0000 - val_fp: 50.0000 - val_tn: 3561.0000 - val_fn: 3403.0000 - val_accuracy: 0.5181 - val_precision: 0.7512 - val_recall: 0.0425 - val_auc: 0.5671\n",
            "Epoch 11/30\n",
            "952/952 [==============================] - 8s 8ms/step - loss: 0.5560 - tp: 2997.0000 - fp: 1402.0000 - tn: 87987.0000 - fn: 29354.0000 - accuracy: 0.7474 - precision: 0.6813 - recall: 0.0926 - auc: 0.6112 - val_loss: 0.8013 - val_tp: 195.0000 - val_fp: 65.0000 - val_tn: 3546.0000 - val_fn: 3359.0000 - val_accuracy: 0.5221 - val_precision: 0.7500 - val_recall: 0.0549 - val_auc: 0.5670\n",
            "Epoch 12/30\n",
            "952/952 [==============================] - 8s 8ms/step - loss: 0.5559 - tp: 2984.0000 - fp: 1435.0000 - tn: 87954.0000 - fn: 29367.0000 - accuracy: 0.7470 - precision: 0.6753 - recall: 0.0922 - auc: 0.6117 - val_loss: 0.7879 - val_tp: 226.0000 - val_fp: 78.0000 - val_tn: 3533.0000 - val_fn: 3328.0000 - val_accuracy: 0.5246 - val_precision: 0.7434 - val_recall: 0.0636 - val_auc: 0.5651\n",
            "Epoch 13/30\n",
            "952/952 [==============================] - 8s 8ms/step - loss: 0.5556 - tp: 2976.0000 - fp: 1377.0000 - tn: 88012.0000 - fn: 29375.0000 - accuracy: 0.7474 - precision: 0.6837 - recall: 0.0920 - auc: 0.6127 - val_loss: 0.8110 - val_tp: 188.0000 - val_fp: 62.0000 - val_tn: 3549.0000 - val_fn: 3366.0000 - val_accuracy: 0.5216 - val_precision: 0.7520 - val_recall: 0.0529 - val_auc: 0.5657\n",
            "Epoch 14/30\n",
            "952/952 [==============================] - 8s 8ms/step - loss: 0.5558 - tp: 2985.0000 - fp: 1426.0000 - tn: 87963.0000 - fn: 29366.0000 - accuracy: 0.7471 - precision: 0.6767 - recall: 0.0923 - auc: 0.6120 - val_loss: 0.8019 - val_tp: 171.0000 - val_fp: 58.0000 - val_tn: 3553.0000 - val_fn: 3383.0000 - val_accuracy: 0.5197 - val_precision: 0.7467 - val_recall: 0.0481 - val_auc: 0.5669\n",
            "Epoch 15/30\n",
            "952/952 [==============================] - 8s 8ms/step - loss: 0.5556 - tp: 3003.0000 - fp: 1412.0000 - tn: 87977.0000 - fn: 29348.0000 - accuracy: 0.7473 - precision: 0.6802 - recall: 0.0928 - auc: 0.6128 - val_loss: 0.8017 - val_tp: 207.0000 - val_fp: 67.0000 - val_tn: 3544.0000 - val_fn: 3347.0000 - val_accuracy: 0.5235 - val_precision: 0.7555 - val_recall: 0.0582 - val_auc: 0.5659\n",
            "Epoch 16/30\n",
            "952/952 [==============================] - 8s 8ms/step - loss: 0.5557 - tp: 3045.0000 - fp: 1423.0000 - tn: 87966.0000 - fn: 29306.0000 - accuracy: 0.7476 - precision: 0.6815 - recall: 0.0941 - auc: 0.6122 - val_loss: 0.8086 - val_tp: 171.0000 - val_fp: 55.0000 - val_tn: 3556.0000 - val_fn: 3383.0000 - val_accuracy: 0.5202 - val_precision: 0.7566 - val_recall: 0.0481 - val_auc: 0.5667\n",
            "Epoch 17/30\n",
            "952/952 [==============================] - 8s 8ms/step - loss: 0.5556 - tp: 2982.0000 - fp: 1412.0000 - tn: 87977.0000 - fn: 29369.0000 - accuracy: 0.7472 - precision: 0.6787 - recall: 0.0922 - auc: 0.6130 - val_loss: 0.8023 - val_tp: 192.0000 - val_fp: 63.0000 - val_tn: 3548.0000 - val_fn: 3362.0000 - val_accuracy: 0.5220 - val_precision: 0.7529 - val_recall: 0.0540 - val_auc: 0.5692\n",
            "Epoch 18/30\n",
            "952/952 [==============================] - 8s 8ms/step - loss: 0.5552 - tp: 3041.0000 - fp: 1446.0000 - tn: 87943.0000 - fn: 29310.0000 - accuracy: 0.7474 - precision: 0.6777 - recall: 0.0940 - auc: 0.6140 - val_loss: 0.7682 - val_tp: 314.0000 - val_fp: 114.0000 - val_tn: 3497.0000 - val_fn: 3240.0000 - val_accuracy: 0.5319 - val_precision: 0.7336 - val_recall: 0.0884 - val_auc: 0.5667\n",
            "Epoch 19/30\n",
            "952/952 [==============================] - 8s 8ms/step - loss: 0.5556 - tp: 3058.0000 - fp: 1461.0000 - tn: 87928.0000 - fn: 29293.0000 - accuracy: 0.7474 - precision: 0.6767 - recall: 0.0945 - auc: 0.6130 - val_loss: 0.7743 - val_tp: 303.0000 - val_fp: 116.0000 - val_tn: 3495.0000 - val_fn: 3251.0000 - val_accuracy: 0.5301 - val_precision: 0.7232 - val_recall: 0.0853 - val_auc: 0.5659\n",
            "Epoch 20/30\n",
            "952/952 [==============================] - 8s 8ms/step - loss: 0.5552 - tp: 3039.0000 - fp: 1462.0000 - tn: 87927.0000 - fn: 29312.0000 - accuracy: 0.7472 - precision: 0.6752 - recall: 0.0939 - auc: 0.6141 - val_loss: 0.8378 - val_tp: 146.0000 - val_fp: 47.0000 - val_tn: 3564.0000 - val_fn: 3408.0000 - val_accuracy: 0.5178 - val_precision: 0.7565 - val_recall: 0.0411 - val_auc: 0.5637\n",
            "Epoch 21/30\n",
            "952/952 [==============================] - 8s 8ms/step - loss: 0.5553 - tp: 2990.0000 - fp: 1418.0000 - tn: 87971.0000 - fn: 29361.0000 - accuracy: 0.7472 - precision: 0.6783 - recall: 0.0924 - auc: 0.6131 - val_loss: 0.7984 - val_tp: 206.0000 - val_fp: 68.0000 - val_tn: 3543.0000 - val_fn: 3348.0000 - val_accuracy: 0.5232 - val_precision: 0.7518 - val_recall: 0.0580 - val_auc: 0.5690\n",
            "Epoch 22/30\n",
            "952/952 [==============================] - 8s 8ms/step - loss: 0.5550 - tp: 3079.0000 - fp: 1456.0000 - tn: 87933.0000 - fn: 29272.0000 - accuracy: 0.7476 - precision: 0.6789 - recall: 0.0952 - auc: 0.6141 - val_loss: 0.8062 - val_tp: 209.0000 - val_fp: 70.0000 - val_tn: 3541.0000 - val_fn: 3345.0000 - val_accuracy: 0.5234 - val_precision: 0.7491 - val_recall: 0.0588 - val_auc: 0.5691\n",
            "Epoch 23/30\n",
            "952/952 [==============================] - 8s 8ms/step - loss: 0.5550 - tp: 3073.0000 - fp: 1459.0000 - tn: 87930.0000 - fn: 29278.0000 - accuracy: 0.7475 - precision: 0.6781 - recall: 0.0950 - auc: 0.6150 - val_loss: 0.8084 - val_tp: 195.0000 - val_fp: 68.0000 - val_tn: 3543.0000 - val_fn: 3359.0000 - val_accuracy: 0.5217 - val_precision: 0.7414 - val_recall: 0.0549 - val_auc: 0.5684\n",
            "Epoch 24/30\n",
            "952/952 [==============================] - 8s 8ms/step - loss: 0.5549 - tp: 3083.0000 - fp: 1429.0000 - tn: 87960.0000 - fn: 29268.0000 - accuracy: 0.7478 - precision: 0.6833 - recall: 0.0953 - auc: 0.6148 - val_loss: 0.7664 - val_tp: 269.0000 - val_fp: 105.0000 - val_tn: 3506.0000 - val_fn: 3285.0000 - val_accuracy: 0.5269 - val_precision: 0.7193 - val_recall: 0.0757 - val_auc: 0.5663\n",
            "Epoch 25/30\n",
            "952/952 [==============================] - 8s 8ms/step - loss: 0.5550 - tp: 3043.0000 - fp: 1446.0000 - tn: 87943.0000 - fn: 29308.0000 - accuracy: 0.7474 - precision: 0.6779 - recall: 0.0941 - auc: 0.6148 - val_loss: 0.8065 - val_tp: 195.0000 - val_fp: 65.0000 - val_tn: 3546.0000 - val_fn: 3359.0000 - val_accuracy: 0.5221 - val_precision: 0.7500 - val_recall: 0.0549 - val_auc: 0.5701\n",
            "Epoch 26/30\n",
            "952/952 [==============================] - 8s 8ms/step - loss: 0.5547 - tp: 3039.0000 - fp: 1427.0000 - tn: 87962.0000 - fn: 29312.0000 - accuracy: 0.7475 - precision: 0.6805 - recall: 0.0939 - auc: 0.6159 - val_loss: 0.8032 - val_tp: 212.0000 - val_fp: 75.0000 - val_tn: 3536.0000 - val_fn: 3342.0000 - val_accuracy: 0.5231 - val_precision: 0.7387 - val_recall: 0.0597 - val_auc: 0.5682\n",
            "Epoch 27/30\n",
            "952/952 [==============================] - 8s 8ms/step - loss: 0.5548 - tp: 3078.0000 - fp: 1478.0000 - tn: 87911.0000 - fn: 29273.0000 - accuracy: 0.7474 - precision: 0.6756 - recall: 0.0951 - auc: 0.6157 - val_loss: 0.7893 - val_tp: 207.0000 - val_fp: 73.0000 - val_tn: 3538.0000 - val_fn: 3347.0000 - val_accuracy: 0.5227 - val_precision: 0.7393 - val_recall: 0.0582 - val_auc: 0.5666\n",
            "Epoch 28/30\n",
            "952/952 [==============================] - 8s 8ms/step - loss: 0.5548 - tp: 3063.0000 - fp: 1454.0000 - tn: 87935.0000 - fn: 29288.0000 - accuracy: 0.7475 - precision: 0.6781 - recall: 0.0947 - auc: 0.6154 - val_loss: 0.8410 - val_tp: 138.0000 - val_fp: 47.0000 - val_tn: 3564.0000 - val_fn: 3416.0000 - val_accuracy: 0.5167 - val_precision: 0.7459 - val_recall: 0.0388 - val_auc: 0.5690\n",
            "Epoch 29/30\n",
            "952/952 [==============================] - 8s 8ms/step - loss: 0.5543 - tp: 3091.0000 - fp: 1478.0000 - tn: 87911.0000 - fn: 29260.0000 - accuracy: 0.7475 - precision: 0.6765 - recall: 0.0955 - auc: 0.6175 - val_loss: 0.8122 - val_tp: 150.0000 - val_fp: 51.0000 - val_tn: 3560.0000 - val_fn: 3404.0000 - val_accuracy: 0.5178 - val_precision: 0.7463 - val_recall: 0.0422 - val_auc: 0.5685\n",
            "Epoch 30/30\n",
            "952/952 [==============================] - 8s 8ms/step - loss: 0.5544 - tp: 3086.0000 - fp: 1481.0000 - tn: 87908.0000 - fn: 29265.0000 - accuracy: 0.7474 - precision: 0.6757 - recall: 0.0954 - auc: 0.6169 - val_loss: 0.8024 - val_tp: 200.0000 - val_fp: 71.0000 - val_tn: 3540.0000 - val_fn: 3354.0000 - val_accuracy: 0.5220 - val_precision: 0.7380 - val_recall: 0.0563 - val_auc: 0.5706\n"
          ]
        }
      ]
    },
    {
      "cell_type": "markdown",
      "source": [
        "#Model Evaluation"
      ],
      "metadata": {
        "id": "visESLwlk8Om"
      }
    },
    {
      "cell_type": "code",
      "source": [
        ""
      ],
      "metadata": {
        "id": "idZQ0hnXF2-x"
      },
      "execution_count": null,
      "outputs": []
    },
    {
      "cell_type": "markdown",
      "source": [
        ""
      ],
      "metadata": {
        "id": "SxzYoUxiAbdR"
      }
    },
    {
      "cell_type": "code",
      "source": [
        "target_names = ['SUPPORT', 'REFUTES'] "
      ],
      "metadata": {
        "id": "VwnjeyyB9Vfi"
      },
      "execution_count": 108,
      "outputs": []
    },
    {
      "cell_type": "markdown",
      "source": [
        "###RNN last state\n"
      ],
      "metadata": {
        "id": "RWfVYyGwlQc8"
      }
    },
    {
      "cell_type": "code",
      "source": [
        "ev = model_RNN_mean.evaluate((test_claims_X, test_evidences_X), test_labels_y, verbose=1)"
      ],
      "metadata": {
        "id": "t5O5ZLwYlNPS"
      },
      "execution_count": null,
      "outputs": []
    },
    {
      "cell_type": "markdown",
      "source": [
        "###RNN mean state"
      ],
      "metadata": {
        "id": "_95YJ-95la7D"
      }
    },
    {
      "cell_type": "code",
      "source": [
        "ev = model_RNN_mean.evaluate((test_claims_X, test_evidences_X), test_labels_y, verbose=1)"
      ],
      "metadata": {
        "id": "5V6r4LvOlPLF"
      },
      "execution_count": null,
      "outputs": []
    },
    {
      "cell_type": "markdown",
      "source": [
        "###MLP"
      ],
      "metadata": {
        "id": "XOysgawBleEv"
      }
    },
    {
      "cell_type": "code",
      "source": [
        "ev_MLP = model_MLP.predict((test_claims_X, test_evidences_X))                                                                                                                                                                         \n",
        "pred = np.around(ev_MLP)"
      ],
      "metadata": {
        "id": "5nNmHZLxlP2g"
      },
      "execution_count": 113,
      "outputs": []
    },
    {
      "cell_type": "markdown",
      "source": [
        "Multi-input classification evaluation"
      ],
      "metadata": {
        "id": "cww06bOtFyS9"
      }
    },
    {
      "cell_type": "code",
      "source": [
        "print(classification_report(test_labels_y, pred, target_names=target_names))"
      ],
      "metadata": {
        "colab": {
          "base_uri": "https://localhost:8080/"
        },
        "id": "RC9EMUKz9AYG",
        "outputId": "e0b23776-bbd2-4ab3-d301-a7eb5c34f5a9"
      },
      "execution_count": 114,
      "outputs": [
        {
          "output_type": "stream",
          "name": "stdout",
          "text": [
            "              precision    recall  f1-score   support\n",
            "\n",
            "     SUPPORT       0.65      0.90      0.75      3606\n",
            "     REFUTES       0.84      0.51      0.63      3583\n",
            "\n",
            "    accuracy                           0.71      7189\n",
            "   macro avg       0.74      0.71      0.69      7189\n",
            "weighted avg       0.74      0.71      0.70      7189\n",
            "\n"
          ]
        }
      ]
    },
    {
      "cell_type": "markdown",
      "source": [
        "Claim verification evaluation"
      ],
      "metadata": {
        "id": "cySPf7GsFte7"
      }
    },
    {
      "cell_type": "code",
      "source": [
        ""
      ],
      "metadata": {
        "id": "gRMgE99nF1lB"
      },
      "execution_count": null,
      "outputs": []
    },
    {
      "cell_type": "markdown",
      "source": [
        "###Bag of words"
      ],
      "metadata": {
        "id": "Pg8p4TgVlgXT"
      }
    },
    {
      "cell_type": "code",
      "source": [
        "ev_bag_of_words = model_bag_of_words.predict((test_claims_X, test_evidences_X))                                                                                                                                                                           \n",
        "pred_bag = np.around(ev_bag_of_words)"
      ],
      "metadata": {
        "id": "NQdYvq6Ak_bl"
      },
      "execution_count": 111,
      "outputs": []
    },
    {
      "cell_type": "code",
      "source": [
        "print(classification_report(test_labels_y, pred_bag, target_names=target_names))"
      ],
      "metadata": {
        "colab": {
          "base_uri": "https://localhost:8080/"
        },
        "id": "mozz_2MO9aFr",
        "outputId": "f3069726-b900-46d2-a895-7c0ed8251fe8"
      },
      "execution_count": 112,
      "outputs": [
        {
          "output_type": "stream",
          "name": "stdout",
          "text": [
            "              precision    recall  f1-score   support\n",
            "\n",
            "     SUPPORT       0.51      0.97      0.67      3606\n",
            "     REFUTES       0.72      0.07      0.13      3583\n",
            "\n",
            "    accuracy                           0.52      7189\n",
            "   macro avg       0.62      0.52      0.40      7189\n",
            "weighted avg       0.62      0.52      0.40      7189\n",
            "\n"
          ]
        }
      ]
    }
  ]
}