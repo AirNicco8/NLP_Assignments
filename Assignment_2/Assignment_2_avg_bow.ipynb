{
  "cells": [
    {
      "cell_type": "markdown",
      "metadata": {
        "id": "view-in-github",
        "colab_type": "text"
      },
      "source": [
        "<a href=\"https://colab.research.google.com/github/AirNicco8/NLP_Assignments/blob/main/Assignment_2/Assignment_2_avg_bow.ipynb\" target=\"_parent\"><img src=\"https://colab.research.google.com/assets/colab-badge.svg\" alt=\"Open In Colab\"/></a>"
      ]
    },
    {
      "cell_type": "markdown",
      "metadata": {
        "id": "O1__yyNNQn6N"
      },
      "source": [
        "This model in particular uses:\n",
        "\n",
        "1. **Sentence Embedding** ->  Compute the sentence embedding as the mean of its token embeddings (bag of vectors).\n",
        "2.  **Input Merging** -> Mean: define the classification input as the mean of evidence and claim sentence embeddings\n",
        "\n"
      ]
    },
    {
      "cell_type": "markdown",
      "metadata": {
        "id": "SKbNqIih5VdB"
      },
      "source": [
        "# Imports"
      ]
    },
    {
      "cell_type": "code",
      "execution_count": 2,
      "metadata": {
        "id": "BP0S6fNH4fTx",
        "colab": {
          "base_uri": "https://localhost:8080/"
        },
        "outputId": "856405f4-c619-44f7-e136-bc9e45514774"
      },
      "outputs": [
        {
          "output_type": "stream",
          "name": "stdout",
          "text": [
            "Collecting tensorflow-addons\n",
            "  Downloading tensorflow_addons-0.15.0-cp37-cp37m-manylinux_2_12_x86_64.manylinux2010_x86_64.whl (1.1 MB)\n",
            "\u001b[?25l\r\u001b[K     |▎                               | 10 kB 14.9 MB/s eta 0:00:01\r\u001b[K     |▋                               | 20 kB 18.4 MB/s eta 0:00:01\r\u001b[K     |▉                               | 30 kB 21.5 MB/s eta 0:00:01\r\u001b[K     |█▏                              | 40 kB 23.3 MB/s eta 0:00:01\r\u001b[K     |█▌                              | 51 kB 24.6 MB/s eta 0:00:01\r\u001b[K     |█▊                              | 61 kB 25.6 MB/s eta 0:00:01\r\u001b[K     |██                              | 71 kB 26.4 MB/s eta 0:00:01\r\u001b[K     |██▍                             | 81 kB 28.0 MB/s eta 0:00:01\r\u001b[K     |██▋                             | 92 kB 29.2 MB/s eta 0:00:01\r\u001b[K     |███                             | 102 kB 22.5 MB/s eta 0:00:01\r\u001b[K     |███▎                            | 112 kB 22.5 MB/s eta 0:00:01\r\u001b[K     |███▌                            | 122 kB 22.5 MB/s eta 0:00:01\r\u001b[K     |███▉                            | 133 kB 22.5 MB/s eta 0:00:01\r\u001b[K     |████▏                           | 143 kB 22.5 MB/s eta 0:00:01\r\u001b[K     |████▍                           | 153 kB 22.5 MB/s eta 0:00:01\r\u001b[K     |████▊                           | 163 kB 22.5 MB/s eta 0:00:01\r\u001b[K     |█████                           | 174 kB 22.5 MB/s eta 0:00:01\r\u001b[K     |█████▎                          | 184 kB 22.5 MB/s eta 0:00:01\r\u001b[K     |█████▋                          | 194 kB 22.5 MB/s eta 0:00:01\r\u001b[K     |█████▉                          | 204 kB 22.5 MB/s eta 0:00:01\r\u001b[K     |██████▏                         | 215 kB 22.5 MB/s eta 0:00:01\r\u001b[K     |██████▌                         | 225 kB 22.5 MB/s eta 0:00:01\r\u001b[K     |██████▊                         | 235 kB 22.5 MB/s eta 0:00:01\r\u001b[K     |███████                         | 245 kB 22.5 MB/s eta 0:00:01\r\u001b[K     |███████▍                        | 256 kB 22.5 MB/s eta 0:00:01\r\u001b[K     |███████▋                        | 266 kB 22.5 MB/s eta 0:00:01\r\u001b[K     |████████                        | 276 kB 22.5 MB/s eta 0:00:01\r\u001b[K     |████████▎                       | 286 kB 22.5 MB/s eta 0:00:01\r\u001b[K     |████████▌                       | 296 kB 22.5 MB/s eta 0:00:01\r\u001b[K     |████████▉                       | 307 kB 22.5 MB/s eta 0:00:01\r\u001b[K     |█████████                       | 317 kB 22.5 MB/s eta 0:00:01\r\u001b[K     |█████████▍                      | 327 kB 22.5 MB/s eta 0:00:01\r\u001b[K     |█████████▊                      | 337 kB 22.5 MB/s eta 0:00:01\r\u001b[K     |██████████                      | 348 kB 22.5 MB/s eta 0:00:01\r\u001b[K     |██████████▎                     | 358 kB 22.5 MB/s eta 0:00:01\r\u001b[K     |██████████▋                     | 368 kB 22.5 MB/s eta 0:00:01\r\u001b[K     |██████████▉                     | 378 kB 22.5 MB/s eta 0:00:01\r\u001b[K     |███████████▏                    | 389 kB 22.5 MB/s eta 0:00:01\r\u001b[K     |███████████▌                    | 399 kB 22.5 MB/s eta 0:00:01\r\u001b[K     |███████████▊                    | 409 kB 22.5 MB/s eta 0:00:01\r\u001b[K     |████████████                    | 419 kB 22.5 MB/s eta 0:00:01\r\u001b[K     |████████████▍                   | 430 kB 22.5 MB/s eta 0:00:01\r\u001b[K     |████████████▋                   | 440 kB 22.5 MB/s eta 0:00:01\r\u001b[K     |█████████████                   | 450 kB 22.5 MB/s eta 0:00:01\r\u001b[K     |█████████████▎                  | 460 kB 22.5 MB/s eta 0:00:01\r\u001b[K     |█████████████▌                  | 471 kB 22.5 MB/s eta 0:00:01\r\u001b[K     |█████████████▉                  | 481 kB 22.5 MB/s eta 0:00:01\r\u001b[K     |██████████████                  | 491 kB 22.5 MB/s eta 0:00:01\r\u001b[K     |██████████████▍                 | 501 kB 22.5 MB/s eta 0:00:01\r\u001b[K     |██████████████▊                 | 512 kB 22.5 MB/s eta 0:00:01\r\u001b[K     |███████████████                 | 522 kB 22.5 MB/s eta 0:00:01\r\u001b[K     |███████████████▎                | 532 kB 22.5 MB/s eta 0:00:01\r\u001b[K     |███████████████▋                | 542 kB 22.5 MB/s eta 0:00:01\r\u001b[K     |███████████████▉                | 552 kB 22.5 MB/s eta 0:00:01\r\u001b[K     |████████████████▏               | 563 kB 22.5 MB/s eta 0:00:01\r\u001b[K     |████████████████▌               | 573 kB 22.5 MB/s eta 0:00:01\r\u001b[K     |████████████████▊               | 583 kB 22.5 MB/s eta 0:00:01\r\u001b[K     |█████████████████               | 593 kB 22.5 MB/s eta 0:00:01\r\u001b[K     |█████████████████▍              | 604 kB 22.5 MB/s eta 0:00:01\r\u001b[K     |█████████████████▋              | 614 kB 22.5 MB/s eta 0:00:01\r\u001b[K     |██████████████████              | 624 kB 22.5 MB/s eta 0:00:01\r\u001b[K     |██████████████████▏             | 634 kB 22.5 MB/s eta 0:00:01\r\u001b[K     |██████████████████▌             | 645 kB 22.5 MB/s eta 0:00:01\r\u001b[K     |██████████████████▉             | 655 kB 22.5 MB/s eta 0:00:01\r\u001b[K     |███████████████████             | 665 kB 22.5 MB/s eta 0:00:01\r\u001b[K     |███████████████████▍            | 675 kB 22.5 MB/s eta 0:00:01\r\u001b[K     |███████████████████▊            | 686 kB 22.5 MB/s eta 0:00:01\r\u001b[K     |████████████████████            | 696 kB 22.5 MB/s eta 0:00:01\r\u001b[K     |████████████████████▎           | 706 kB 22.5 MB/s eta 0:00:01\r\u001b[K     |████████████████████▋           | 716 kB 22.5 MB/s eta 0:00:01\r\u001b[K     |████████████████████▉           | 727 kB 22.5 MB/s eta 0:00:01\r\u001b[K     |█████████████████████▏          | 737 kB 22.5 MB/s eta 0:00:01\r\u001b[K     |█████████████████████▌          | 747 kB 22.5 MB/s eta 0:00:01\r\u001b[K     |█████████████████████▊          | 757 kB 22.5 MB/s eta 0:00:01\r\u001b[K     |██████████████████████          | 768 kB 22.5 MB/s eta 0:00:01\r\u001b[K     |██████████████████████▎         | 778 kB 22.5 MB/s eta 0:00:01\r\u001b[K     |██████████████████████▋         | 788 kB 22.5 MB/s eta 0:00:01\r\u001b[K     |███████████████████████         | 798 kB 22.5 MB/s eta 0:00:01\r\u001b[K     |███████████████████████▏        | 808 kB 22.5 MB/s eta 0:00:01\r\u001b[K     |███████████████████████▌        | 819 kB 22.5 MB/s eta 0:00:01\r\u001b[K     |███████████████████████▉        | 829 kB 22.5 MB/s eta 0:00:01\r\u001b[K     |████████████████████████        | 839 kB 22.5 MB/s eta 0:00:01\r\u001b[K     |████████████████████████▍       | 849 kB 22.5 MB/s eta 0:00:01\r\u001b[K     |████████████████████████▊       | 860 kB 22.5 MB/s eta 0:00:01\r\u001b[K     |█████████████████████████       | 870 kB 22.5 MB/s eta 0:00:01\r\u001b[K     |█████████████████████████▎      | 880 kB 22.5 MB/s eta 0:00:01\r\u001b[K     |█████████████████████████▋      | 890 kB 22.5 MB/s eta 0:00:01\r\u001b[K     |█████████████████████████▉      | 901 kB 22.5 MB/s eta 0:00:01\r\u001b[K     |██████████████████████████▏     | 911 kB 22.5 MB/s eta 0:00:01\r\u001b[K     |██████████████████████████▌     | 921 kB 22.5 MB/s eta 0:00:01\r\u001b[K     |██████████████████████████▊     | 931 kB 22.5 MB/s eta 0:00:01\r\u001b[K     |███████████████████████████     | 942 kB 22.5 MB/s eta 0:00:01\r\u001b[K     |███████████████████████████▎    | 952 kB 22.5 MB/s eta 0:00:01\r\u001b[K     |███████████████████████████▋    | 962 kB 22.5 MB/s eta 0:00:01\r\u001b[K     |████████████████████████████    | 972 kB 22.5 MB/s eta 0:00:01\r\u001b[K     |████████████████████████████▏   | 983 kB 22.5 MB/s eta 0:00:01\r\u001b[K     |████████████████████████████▌   | 993 kB 22.5 MB/s eta 0:00:01\r\u001b[K     |████████████████████████████▉   | 1.0 MB 22.5 MB/s eta 0:00:01\r\u001b[K     |█████████████████████████████   | 1.0 MB 22.5 MB/s eta 0:00:01\r\u001b[K     |█████████████████████████████▍  | 1.0 MB 22.5 MB/s eta 0:00:01\r\u001b[K     |█████████████████████████████▊  | 1.0 MB 22.5 MB/s eta 0:00:01\r\u001b[K     |██████████████████████████████  | 1.0 MB 22.5 MB/s eta 0:00:01\r\u001b[K     |██████████████████████████████▎ | 1.1 MB 22.5 MB/s eta 0:00:01\r\u001b[K     |██████████████████████████████▋ | 1.1 MB 22.5 MB/s eta 0:00:01\r\u001b[K     |██████████████████████████████▉ | 1.1 MB 22.5 MB/s eta 0:00:01\r\u001b[K     |███████████████████████████████▏| 1.1 MB 22.5 MB/s eta 0:00:01\r\u001b[K     |███████████████████████████████▍| 1.1 MB 22.5 MB/s eta 0:00:01\r\u001b[K     |███████████████████████████████▊| 1.1 MB 22.5 MB/s eta 0:00:01\r\u001b[K     |████████████████████████████████| 1.1 MB 22.5 MB/s \n",
            "\u001b[?25hRequirement already satisfied: typeguard>=2.7 in /usr/local/lib/python3.7/dist-packages (from tensorflow-addons) (2.7.1)\n",
            "Installing collected packages: tensorflow-addons\n",
            "Successfully installed tensorflow-addons-0.15.0\n"
          ]
        }
      ],
      "source": [
        "!pip install tensorflow-addons"
      ]
    },
    {
      "cell_type": "code",
      "execution_count": 194,
      "metadata": {
        "id": "NAkiMWm3nufu"
      },
      "outputs": [],
      "source": [
        "import os\n",
        "import datetime\n",
        "import requests\n",
        "import zipfile\n",
        "\n",
        "import pandas as pd\n",
        "import re\n",
        "import numpy as np\n",
        "\n",
        "import tensorflow as tf\n",
        "import tensorflow_addons as tfa\n",
        "from tensorflow import keras\n",
        "from keras import backend as K\n",
        "from tensorflow.keras import layers\n",
        "from keras.preprocessing.text import Tokenizer\n",
        "from keras.preprocessing.sequence import pad_sequences\n",
        "\n",
        "from keras.layers import LSTM, Bidirectional, TimeDistributed, Dense, InputLayer, Embedding, Activation\n",
        "from tensorflow.keras.optimizers import Adam, SGD\n",
        "from tensorflow.keras.metrics import BinaryAccuracy, Recall, Precision\n",
        "\n",
        "from sklearn.metrics import confusion_matrix\n",
        "from sklearn.metrics import classification_report"
      ]
    },
    {
      "cell_type": "code",
      "execution_count": 4,
      "metadata": {
        "id": "XbD-X1zZFvxl"
      },
      "outputs": [],
      "source": [
        "log_dir = \"logs/fit/\" + datetime.datetime.now().strftime(\"%Y%m%d-%H%M%S\")\n",
        "tensorboard_callback = tf.keras.callbacks.TensorBoard(log_dir=log_dir, histogram_freq=1)"
      ]
    },
    {
      "cell_type": "markdown",
      "metadata": {
        "id": "OWFUj3pN5j_n"
      },
      "source": [
        "# Dataset download & Splitting"
      ]
    },
    {
      "cell_type": "code",
      "execution_count": 5,
      "metadata": {
        "colab": {
          "base_uri": "https://localhost:8080/"
        },
        "id": "BspxZcRjW0NG",
        "outputId": "5c7a4efd-8c29-493d-f58f-014530bc77a5"
      },
      "outputs": [
        {
          "output_type": "stream",
          "name": "stdout",
          "text": [
            "Downloading FEVER data splits...\n",
            "Download completed!\n",
            "Extracting dataset...\n",
            "Extraction completed!\n"
          ]
        }
      ],
      "source": [
        "def save_response_content(response, destination):\n",
        "    CHUNK_SIZE = 32768\n",
        "\n",
        "    with open(destination, \"wb\") as f:\n",
        "        for chunk in response.iter_content(CHUNK_SIZE):\n",
        "            if chunk: # filter out keep-alive new chunks\n",
        "                f.write(chunk)\n",
        "\n",
        "def download_data(data_path):\n",
        "    toy_data_path = os.path.join(data_path, 'fever_data.zip')\n",
        "    toy_data_url_id = \"1wArZhF9_SHW17WKNGeLmX-QTYw9Zscl1\"\n",
        "    toy_url = \"https://docs.google.com/uc?export=download\"\n",
        "\n",
        "    if not os.path.exists(data_path):\n",
        "        os.makedirs(data_path)\n",
        "\n",
        "    if not os.path.exists(toy_data_path):\n",
        "        print(\"Downloading FEVER data splits...\")\n",
        "        with requests.Session() as current_session:\n",
        "            response = current_session.get(toy_url,\n",
        "                                   params={'id': toy_data_url_id},\n",
        "                                   stream=True)\n",
        "        save_response_content(response, toy_data_path)\n",
        "        print(\"Download completed!\")\n",
        "\n",
        "        print(\"Extracting dataset...\")\n",
        "        with zipfile.ZipFile(toy_data_path) as loaded_zip:\n",
        "            loaded_zip.extractall(data_path)\n",
        "        print(\"Extraction completed!\")\n",
        "\n",
        "download_data('dataset')"
      ]
    },
    {
      "cell_type": "code",
      "execution_count": 6,
      "metadata": {
        "id": "BS9sP7_fMHXu"
      },
      "outputs": [],
      "source": [
        "test_name = \"test_pairs.csv\"\n",
        "train_name = \"train_pairs.csv\"\n",
        "val_name = \"val_pairs.csv\"\n",
        "\n",
        "\n",
        "test_path = os.path.join(os.getcwd(), \"dataset\", test_name)\n",
        "train_path = os.path.join(os.getcwd(), \"dataset\", train_name)\n",
        "val_path = os.path.join(os.getcwd(), \"dataset\", val_name)\n",
        "\n",
        "test_pairs = pd.read_csv(test_path);\n",
        "train_pairs = pd.read_csv(train_path);\n",
        "val_pairs = pd.read_csv(val_path);"
      ]
    },
    {
      "cell_type": "code",
      "execution_count": 7,
      "metadata": {
        "colab": {
          "base_uri": "https://localhost:8080/",
          "height": 0
        },
        "id": "i2FJ9JDLOABf",
        "outputId": "20b83274-ec8f-4403-822c-189ac159d973"
      },
      "outputs": [
        {
          "output_type": "execute_result",
          "data": {
            "text/html": [
              "\n",
              "  <div id=\"df-c5757ce3-39db-40d1-ad21-7562686d9eac\">\n",
              "    <div class=\"colab-df-container\">\n",
              "      <div>\n",
              "<style scoped>\n",
              "    .dataframe tbody tr th:only-of-type {\n",
              "        vertical-align: middle;\n",
              "    }\n",
              "\n",
              "    .dataframe tbody tr th {\n",
              "        vertical-align: top;\n",
              "    }\n",
              "\n",
              "    .dataframe thead th {\n",
              "        text-align: right;\n",
              "    }\n",
              "</style>\n",
              "<table border=\"1\" class=\"dataframe\">\n",
              "  <thead>\n",
              "    <tr style=\"text-align: right;\">\n",
              "      <th></th>\n",
              "      <th>Unnamed: 0</th>\n",
              "      <th>Claim</th>\n",
              "      <th>Evidence</th>\n",
              "      <th>ID</th>\n",
              "      <th>Label</th>\n",
              "    </tr>\n",
              "  </thead>\n",
              "  <tbody>\n",
              "    <tr>\n",
              "      <th>0</th>\n",
              "      <td>0</td>\n",
              "      <td>Chris Hemsworth appeared in A Perfect Getaway.</td>\n",
              "      <td>2\\tHemsworth has also appeared in the science ...</td>\n",
              "      <td>3</td>\n",
              "      <td>SUPPORTS</td>\n",
              "    </tr>\n",
              "    <tr>\n",
              "      <th>1</th>\n",
              "      <td>1</td>\n",
              "      <td>Roald Dahl is a writer.</td>\n",
              "      <td>0\\tRoald Dahl -LRB- -LSB- langpronˈroʊ.əld _ ˈ...</td>\n",
              "      <td>7</td>\n",
              "      <td>SUPPORTS</td>\n",
              "    </tr>\n",
              "    <tr>\n",
              "      <th>2</th>\n",
              "      <td>2</td>\n",
              "      <td>Roald Dahl is a governor.</td>\n",
              "      <td>0\\tRoald Dahl -LRB- -LSB- langpronˈroʊ.əld _ ˈ...</td>\n",
              "      <td>8</td>\n",
              "      <td>REFUTES</td>\n",
              "    </tr>\n",
              "    <tr>\n",
              "      <th>3</th>\n",
              "      <td>3</td>\n",
              "      <td>Ireland has relatively low-lying mountains.</td>\n",
              "      <td>10\\tThe island 's geography comprises relative...</td>\n",
              "      <td>9</td>\n",
              "      <td>SUPPORTS</td>\n",
              "    </tr>\n",
              "    <tr>\n",
              "      <th>4</th>\n",
              "      <td>4</td>\n",
              "      <td>Ireland does not have relatively low-lying mou...</td>\n",
              "      <td>10\\tThe island 's geography comprises relative...</td>\n",
              "      <td>10</td>\n",
              "      <td>REFUTES</td>\n",
              "    </tr>\n",
              "  </tbody>\n",
              "</table>\n",
              "</div>\n",
              "      <button class=\"colab-df-convert\" onclick=\"convertToInteractive('df-c5757ce3-39db-40d1-ad21-7562686d9eac')\"\n",
              "              title=\"Convert this dataframe to an interactive table.\"\n",
              "              style=\"display:none;\">\n",
              "        \n",
              "  <svg xmlns=\"http://www.w3.org/2000/svg\" height=\"24px\"viewBox=\"0 0 24 24\"\n",
              "       width=\"24px\">\n",
              "    <path d=\"M0 0h24v24H0V0z\" fill=\"none\"/>\n",
              "    <path d=\"M18.56 5.44l.94 2.06.94-2.06 2.06-.94-2.06-.94-.94-2.06-.94 2.06-2.06.94zm-11 1L8.5 8.5l.94-2.06 2.06-.94-2.06-.94L8.5 2.5l-.94 2.06-2.06.94zm10 10l.94 2.06.94-2.06 2.06-.94-2.06-.94-.94-2.06-.94 2.06-2.06.94z\"/><path d=\"M17.41 7.96l-1.37-1.37c-.4-.4-.92-.59-1.43-.59-.52 0-1.04.2-1.43.59L10.3 9.45l-7.72 7.72c-.78.78-.78 2.05 0 2.83L4 21.41c.39.39.9.59 1.41.59.51 0 1.02-.2 1.41-.59l7.78-7.78 2.81-2.81c.8-.78.8-2.07 0-2.86zM5.41 20L4 18.59l7.72-7.72 1.47 1.35L5.41 20z\"/>\n",
              "  </svg>\n",
              "      </button>\n",
              "      \n",
              "  <style>\n",
              "    .colab-df-container {\n",
              "      display:flex;\n",
              "      flex-wrap:wrap;\n",
              "      gap: 12px;\n",
              "    }\n",
              "\n",
              "    .colab-df-convert {\n",
              "      background-color: #E8F0FE;\n",
              "      border: none;\n",
              "      border-radius: 50%;\n",
              "      cursor: pointer;\n",
              "      display: none;\n",
              "      fill: #1967D2;\n",
              "      height: 32px;\n",
              "      padding: 0 0 0 0;\n",
              "      width: 32px;\n",
              "    }\n",
              "\n",
              "    .colab-df-convert:hover {\n",
              "      background-color: #E2EBFA;\n",
              "      box-shadow: 0px 1px 2px rgba(60, 64, 67, 0.3), 0px 1px 3px 1px rgba(60, 64, 67, 0.15);\n",
              "      fill: #174EA6;\n",
              "    }\n",
              "\n",
              "    [theme=dark] .colab-df-convert {\n",
              "      background-color: #3B4455;\n",
              "      fill: #D2E3FC;\n",
              "    }\n",
              "\n",
              "    [theme=dark] .colab-df-convert:hover {\n",
              "      background-color: #434B5C;\n",
              "      box-shadow: 0px 1px 3px 1px rgba(0, 0, 0, 0.15);\n",
              "      filter: drop-shadow(0px 1px 2px rgba(0, 0, 0, 0.3));\n",
              "      fill: #FFFFFF;\n",
              "    }\n",
              "  </style>\n",
              "\n",
              "      <script>\n",
              "        const buttonEl =\n",
              "          document.querySelector('#df-c5757ce3-39db-40d1-ad21-7562686d9eac button.colab-df-convert');\n",
              "        buttonEl.style.display =\n",
              "          google.colab.kernel.accessAllowed ? 'block' : 'none';\n",
              "\n",
              "        async function convertToInteractive(key) {\n",
              "          const element = document.querySelector('#df-c5757ce3-39db-40d1-ad21-7562686d9eac');\n",
              "          const dataTable =\n",
              "            await google.colab.kernel.invokeFunction('convertToInteractive',\n",
              "                                                     [key], {});\n",
              "          if (!dataTable) return;\n",
              "\n",
              "          const docLinkHtml = 'Like what you see? Visit the ' +\n",
              "            '<a target=\"_blank\" href=https://colab.research.google.com/notebooks/data_table.ipynb>data table notebook</a>'\n",
              "            + ' to learn more about interactive tables.';\n",
              "          element.innerHTML = '';\n",
              "          dataTable['output_type'] = 'display_data';\n",
              "          await google.colab.output.renderOutput(dataTable, element);\n",
              "          const docLink = document.createElement('div');\n",
              "          docLink.innerHTML = docLinkHtml;\n",
              "          element.appendChild(docLink);\n",
              "        }\n",
              "      </script>\n",
              "    </div>\n",
              "  </div>\n",
              "  "
            ],
            "text/plain": [
              "   Unnamed: 0                                              Claim  ...  ID     Label\n",
              "0           0     Chris Hemsworth appeared in A Perfect Getaway.  ...   3  SUPPORTS\n",
              "1           1                            Roald Dahl is a writer.  ...   7  SUPPORTS\n",
              "2           2                          Roald Dahl is a governor.  ...   8   REFUTES\n",
              "3           3        Ireland has relatively low-lying mountains.  ...   9  SUPPORTS\n",
              "4           4  Ireland does not have relatively low-lying mou...  ...  10   REFUTES\n",
              "\n",
              "[5 rows x 5 columns]"
            ]
          },
          "metadata": {},
          "execution_count": 7
        }
      ],
      "source": [
        "train_pairs.head()"
      ]
    },
    {
      "cell_type": "code",
      "execution_count": 8,
      "metadata": {
        "colab": {
          "base_uri": "https://localhost:8080/",
          "height": 0
        },
        "id": "kzrgFOGXgkeV",
        "outputId": "b9aa8f7b-ab02-4c90-9169-93a8af8a307d"
      },
      "outputs": [
        {
          "output_type": "execute_result",
          "data": {
            "text/html": [
              "\n",
              "  <div id=\"df-d5a2e135-5103-4e96-b28d-3e53fd73827f\">\n",
              "    <div class=\"colab-df-container\">\n",
              "      <div>\n",
              "<style scoped>\n",
              "    .dataframe tbody tr th:only-of-type {\n",
              "        vertical-align: middle;\n",
              "    }\n",
              "\n",
              "    .dataframe tbody tr th {\n",
              "        vertical-align: top;\n",
              "    }\n",
              "\n",
              "    .dataframe thead th {\n",
              "        text-align: right;\n",
              "    }\n",
              "</style>\n",
              "<table border=\"1\" class=\"dataframe\">\n",
              "  <thead>\n",
              "    <tr style=\"text-align: right;\">\n",
              "      <th></th>\n",
              "      <th>Claim</th>\n",
              "      <th>Evidence</th>\n",
              "      <th>Label</th>\n",
              "    </tr>\n",
              "  </thead>\n",
              "  <tbody>\n",
              "    <tr>\n",
              "      <th>0</th>\n",
              "      <td>Chris Hemsworth appeared in A Perfect Getaway.</td>\n",
              "      <td>2\\tHemsworth has also appeared in the science ...</td>\n",
              "      <td>SUPPORTS</td>\n",
              "    </tr>\n",
              "    <tr>\n",
              "      <th>1</th>\n",
              "      <td>Roald Dahl is a writer.</td>\n",
              "      <td>0\\tRoald Dahl -LRB- -LSB- langpronˈroʊ.əld _ ˈ...</td>\n",
              "      <td>SUPPORTS</td>\n",
              "    </tr>\n",
              "    <tr>\n",
              "      <th>2</th>\n",
              "      <td>Roald Dahl is a governor.</td>\n",
              "      <td>0\\tRoald Dahl -LRB- -LSB- langpronˈroʊ.əld _ ˈ...</td>\n",
              "      <td>REFUTES</td>\n",
              "    </tr>\n",
              "    <tr>\n",
              "      <th>3</th>\n",
              "      <td>Ireland has relatively low-lying mountains.</td>\n",
              "      <td>10\\tThe island 's geography comprises relative...</td>\n",
              "      <td>SUPPORTS</td>\n",
              "    </tr>\n",
              "    <tr>\n",
              "      <th>4</th>\n",
              "      <td>Ireland does not have relatively low-lying mou...</td>\n",
              "      <td>10\\tThe island 's geography comprises relative...</td>\n",
              "      <td>REFUTES</td>\n",
              "    </tr>\n",
              "  </tbody>\n",
              "</table>\n",
              "</div>\n",
              "      <button class=\"colab-df-convert\" onclick=\"convertToInteractive('df-d5a2e135-5103-4e96-b28d-3e53fd73827f')\"\n",
              "              title=\"Convert this dataframe to an interactive table.\"\n",
              "              style=\"display:none;\">\n",
              "        \n",
              "  <svg xmlns=\"http://www.w3.org/2000/svg\" height=\"24px\"viewBox=\"0 0 24 24\"\n",
              "       width=\"24px\">\n",
              "    <path d=\"M0 0h24v24H0V0z\" fill=\"none\"/>\n",
              "    <path d=\"M18.56 5.44l.94 2.06.94-2.06 2.06-.94-2.06-.94-.94-2.06-.94 2.06-2.06.94zm-11 1L8.5 8.5l.94-2.06 2.06-.94-2.06-.94L8.5 2.5l-.94 2.06-2.06.94zm10 10l.94 2.06.94-2.06 2.06-.94-2.06-.94-.94-2.06-.94 2.06-2.06.94z\"/><path d=\"M17.41 7.96l-1.37-1.37c-.4-.4-.92-.59-1.43-.59-.52 0-1.04.2-1.43.59L10.3 9.45l-7.72 7.72c-.78.78-.78 2.05 0 2.83L4 21.41c.39.39.9.59 1.41.59.51 0 1.02-.2 1.41-.59l7.78-7.78 2.81-2.81c.8-.78.8-2.07 0-2.86zM5.41 20L4 18.59l7.72-7.72 1.47 1.35L5.41 20z\"/>\n",
              "  </svg>\n",
              "      </button>\n",
              "      \n",
              "  <style>\n",
              "    .colab-df-container {\n",
              "      display:flex;\n",
              "      flex-wrap:wrap;\n",
              "      gap: 12px;\n",
              "    }\n",
              "\n",
              "    .colab-df-convert {\n",
              "      background-color: #E8F0FE;\n",
              "      border: none;\n",
              "      border-radius: 50%;\n",
              "      cursor: pointer;\n",
              "      display: none;\n",
              "      fill: #1967D2;\n",
              "      height: 32px;\n",
              "      padding: 0 0 0 0;\n",
              "      width: 32px;\n",
              "    }\n",
              "\n",
              "    .colab-df-convert:hover {\n",
              "      background-color: #E2EBFA;\n",
              "      box-shadow: 0px 1px 2px rgba(60, 64, 67, 0.3), 0px 1px 3px 1px rgba(60, 64, 67, 0.15);\n",
              "      fill: #174EA6;\n",
              "    }\n",
              "\n",
              "    [theme=dark] .colab-df-convert {\n",
              "      background-color: #3B4455;\n",
              "      fill: #D2E3FC;\n",
              "    }\n",
              "\n",
              "    [theme=dark] .colab-df-convert:hover {\n",
              "      background-color: #434B5C;\n",
              "      box-shadow: 0px 1px 3px 1px rgba(0, 0, 0, 0.15);\n",
              "      filter: drop-shadow(0px 1px 2px rgba(0, 0, 0, 0.3));\n",
              "      fill: #FFFFFF;\n",
              "    }\n",
              "  </style>\n",
              "\n",
              "      <script>\n",
              "        const buttonEl =\n",
              "          document.querySelector('#df-d5a2e135-5103-4e96-b28d-3e53fd73827f button.colab-df-convert');\n",
              "        buttonEl.style.display =\n",
              "          google.colab.kernel.accessAllowed ? 'block' : 'none';\n",
              "\n",
              "        async function convertToInteractive(key) {\n",
              "          const element = document.querySelector('#df-d5a2e135-5103-4e96-b28d-3e53fd73827f');\n",
              "          const dataTable =\n",
              "            await google.colab.kernel.invokeFunction('convertToInteractive',\n",
              "                                                     [key], {});\n",
              "          if (!dataTable) return;\n",
              "\n",
              "          const docLinkHtml = 'Like what you see? Visit the ' +\n",
              "            '<a target=\"_blank\" href=https://colab.research.google.com/notebooks/data_table.ipynb>data table notebook</a>'\n",
              "            + ' to learn more about interactive tables.';\n",
              "          element.innerHTML = '';\n",
              "          dataTable['output_type'] = 'display_data';\n",
              "          await google.colab.output.renderOutput(dataTable, element);\n",
              "          const docLink = document.createElement('div');\n",
              "          docLink.innerHTML = docLinkHtml;\n",
              "          element.appendChild(docLink);\n",
              "        }\n",
              "      </script>\n",
              "    </div>\n",
              "  </div>\n",
              "  "
            ],
            "text/plain": [
              "                                               Claim  ...     Label\n",
              "0     Chris Hemsworth appeared in A Perfect Getaway.  ...  SUPPORTS\n",
              "1                            Roald Dahl is a writer.  ...  SUPPORTS\n",
              "2                          Roald Dahl is a governor.  ...   REFUTES\n",
              "3        Ireland has relatively low-lying mountains.  ...  SUPPORTS\n",
              "4  Ireland does not have relatively low-lying mou...  ...   REFUTES\n",
              "\n",
              "[5 rows x 3 columns]"
            ]
          },
          "metadata": {},
          "execution_count": 8
        }
      ],
      "source": [
        "train_set = train_pairs.drop(['Unnamed: 0', 'ID'], axis=1)\n",
        "train_set.head()"
      ]
    },
    {
      "cell_type": "code",
      "execution_count": 9,
      "metadata": {
        "colab": {
          "base_uri": "https://localhost:8080/",
          "height": 0
        },
        "id": "Yn7KFLNX_GxO",
        "outputId": "ae846a5b-d372-498e-f05a-651eb936a9b9"
      },
      "outputs": [
        {
          "output_type": "execute_result",
          "data": {
            "text/html": [
              "\n",
              "  <div id=\"df-e253a090-ec89-4524-b3ae-df9061cb68f6\">\n",
              "    <div class=\"colab-df-container\">\n",
              "      <div>\n",
              "<style scoped>\n",
              "    .dataframe tbody tr th:only-of-type {\n",
              "        vertical-align: middle;\n",
              "    }\n",
              "\n",
              "    .dataframe tbody tr th {\n",
              "        vertical-align: top;\n",
              "    }\n",
              "\n",
              "    .dataframe thead th {\n",
              "        text-align: right;\n",
              "    }\n",
              "</style>\n",
              "<table border=\"1\" class=\"dataframe\">\n",
              "  <thead>\n",
              "    <tr style=\"text-align: right;\">\n",
              "      <th></th>\n",
              "      <th>Claim</th>\n",
              "      <th>Evidence</th>\n",
              "      <th>Label</th>\n",
              "    </tr>\n",
              "  </thead>\n",
              "  <tbody>\n",
              "    <tr>\n",
              "      <th>0</th>\n",
              "      <td>The Indian Army comprises part of the country'...</td>\n",
              "      <td>16\\tIt is an all-volunteer force and comprises...</td>\n",
              "      <td>SUPPORTS</td>\n",
              "    </tr>\n",
              "    <tr>\n",
              "      <th>1</th>\n",
              "      <td>Recovery features Rihanna.</td>\n",
              "      <td>6\\tEminem also collaborated with artists such ...</td>\n",
              "      <td>SUPPORTS</td>\n",
              "    </tr>\n",
              "    <tr>\n",
              "      <th>2</th>\n",
              "      <td>Rihanna is on Recovery.</td>\n",
              "      <td>6\\tEminem also collaborated with artists such ...</td>\n",
              "      <td>SUPPORTS</td>\n",
              "    </tr>\n",
              "    <tr>\n",
              "      <th>3</th>\n",
              "      <td>Philomena was nominated.</td>\n",
              "      <td>8\\tThe film was nominated in four categories a...</td>\n",
              "      <td>SUPPORTS</td>\n",
              "    </tr>\n",
              "    <tr>\n",
              "      <th>4</th>\n",
              "      <td>Vietnam is a mascot.</td>\n",
              "      <td>0\\tVietnam -LRB- ˌ ; -LSB- vîət nāːm -RSB- -RR...</td>\n",
              "      <td>REFUTES</td>\n",
              "    </tr>\n",
              "  </tbody>\n",
              "</table>\n",
              "</div>\n",
              "      <button class=\"colab-df-convert\" onclick=\"convertToInteractive('df-e253a090-ec89-4524-b3ae-df9061cb68f6')\"\n",
              "              title=\"Convert this dataframe to an interactive table.\"\n",
              "              style=\"display:none;\">\n",
              "        \n",
              "  <svg xmlns=\"http://www.w3.org/2000/svg\" height=\"24px\"viewBox=\"0 0 24 24\"\n",
              "       width=\"24px\">\n",
              "    <path d=\"M0 0h24v24H0V0z\" fill=\"none\"/>\n",
              "    <path d=\"M18.56 5.44l.94 2.06.94-2.06 2.06-.94-2.06-.94-.94-2.06-.94 2.06-2.06.94zm-11 1L8.5 8.5l.94-2.06 2.06-.94-2.06-.94L8.5 2.5l-.94 2.06-2.06.94zm10 10l.94 2.06.94-2.06 2.06-.94-2.06-.94-.94-2.06-.94 2.06-2.06.94z\"/><path d=\"M17.41 7.96l-1.37-1.37c-.4-.4-.92-.59-1.43-.59-.52 0-1.04.2-1.43.59L10.3 9.45l-7.72 7.72c-.78.78-.78 2.05 0 2.83L4 21.41c.39.39.9.59 1.41.59.51 0 1.02-.2 1.41-.59l7.78-7.78 2.81-2.81c.8-.78.8-2.07 0-2.86zM5.41 20L4 18.59l7.72-7.72 1.47 1.35L5.41 20z\"/>\n",
              "  </svg>\n",
              "      </button>\n",
              "      \n",
              "  <style>\n",
              "    .colab-df-container {\n",
              "      display:flex;\n",
              "      flex-wrap:wrap;\n",
              "      gap: 12px;\n",
              "    }\n",
              "\n",
              "    .colab-df-convert {\n",
              "      background-color: #E8F0FE;\n",
              "      border: none;\n",
              "      border-radius: 50%;\n",
              "      cursor: pointer;\n",
              "      display: none;\n",
              "      fill: #1967D2;\n",
              "      height: 32px;\n",
              "      padding: 0 0 0 0;\n",
              "      width: 32px;\n",
              "    }\n",
              "\n",
              "    .colab-df-convert:hover {\n",
              "      background-color: #E2EBFA;\n",
              "      box-shadow: 0px 1px 2px rgba(60, 64, 67, 0.3), 0px 1px 3px 1px rgba(60, 64, 67, 0.15);\n",
              "      fill: #174EA6;\n",
              "    }\n",
              "\n",
              "    [theme=dark] .colab-df-convert {\n",
              "      background-color: #3B4455;\n",
              "      fill: #D2E3FC;\n",
              "    }\n",
              "\n",
              "    [theme=dark] .colab-df-convert:hover {\n",
              "      background-color: #434B5C;\n",
              "      box-shadow: 0px 1px 3px 1px rgba(0, 0, 0, 0.15);\n",
              "      filter: drop-shadow(0px 1px 2px rgba(0, 0, 0, 0.3));\n",
              "      fill: #FFFFFF;\n",
              "    }\n",
              "  </style>\n",
              "\n",
              "      <script>\n",
              "        const buttonEl =\n",
              "          document.querySelector('#df-e253a090-ec89-4524-b3ae-df9061cb68f6 button.colab-df-convert');\n",
              "        buttonEl.style.display =\n",
              "          google.colab.kernel.accessAllowed ? 'block' : 'none';\n",
              "\n",
              "        async function convertToInteractive(key) {\n",
              "          const element = document.querySelector('#df-e253a090-ec89-4524-b3ae-df9061cb68f6');\n",
              "          const dataTable =\n",
              "            await google.colab.kernel.invokeFunction('convertToInteractive',\n",
              "                                                     [key], {});\n",
              "          if (!dataTable) return;\n",
              "\n",
              "          const docLinkHtml = 'Like what you see? Visit the ' +\n",
              "            '<a target=\"_blank\" href=https://colab.research.google.com/notebooks/data_table.ipynb>data table notebook</a>'\n",
              "            + ' to learn more about interactive tables.';\n",
              "          element.innerHTML = '';\n",
              "          dataTable['output_type'] = 'display_data';\n",
              "          await google.colab.output.renderOutput(dataTable, element);\n",
              "          const docLink = document.createElement('div');\n",
              "          docLink.innerHTML = docLinkHtml;\n",
              "          element.appendChild(docLink);\n",
              "        }\n",
              "      </script>\n",
              "    </div>\n",
              "  </div>\n",
              "  "
            ],
            "text/plain": [
              "                                               Claim  ...     Label\n",
              "0  The Indian Army comprises part of the country'...  ...  SUPPORTS\n",
              "1                         Recovery features Rihanna.  ...  SUPPORTS\n",
              "2                            Rihanna is on Recovery.  ...  SUPPORTS\n",
              "3                           Philomena was nominated.  ...  SUPPORTS\n",
              "4                               Vietnam is a mascot.  ...   REFUTES\n",
              "\n",
              "[5 rows x 3 columns]"
            ]
          },
          "metadata": {},
          "execution_count": 9
        }
      ],
      "source": [
        "val_set = val_pairs.drop(['Unnamed: 0', 'ID'], axis=1)\n",
        "val_set.head()"
      ]
    },
    {
      "cell_type": "code",
      "execution_count": 10,
      "metadata": {
        "colab": {
          "base_uri": "https://localhost:8080/",
          "height": 0
        },
        "id": "h_gv0fTF_LdT",
        "outputId": "b68a272d-29cb-4369-ec04-ccb65b179719"
      },
      "outputs": [
        {
          "output_type": "execute_result",
          "data": {
            "text/html": [
              "\n",
              "  <div id=\"df-3e8922da-e6ce-414f-824e-4aac4bf2874d\">\n",
              "    <div class=\"colab-df-container\">\n",
              "      <div>\n",
              "<style scoped>\n",
              "    .dataframe tbody tr th:only-of-type {\n",
              "        vertical-align: middle;\n",
              "    }\n",
              "\n",
              "    .dataframe tbody tr th {\n",
              "        vertical-align: top;\n",
              "    }\n",
              "\n",
              "    .dataframe thead th {\n",
              "        text-align: right;\n",
              "    }\n",
              "</style>\n",
              "<table border=\"1\" class=\"dataframe\">\n",
              "  <thead>\n",
              "    <tr style=\"text-align: right;\">\n",
              "      <th></th>\n",
              "      <th>Claim</th>\n",
              "      <th>Evidence</th>\n",
              "      <th>Label</th>\n",
              "    </tr>\n",
              "  </thead>\n",
              "  <tbody>\n",
              "    <tr>\n",
              "      <th>0</th>\n",
              "      <td>Anxiety has been linked with physical symptoms.</td>\n",
              "      <td>13\\tFurthermore , anxiety has been linked with...</td>\n",
              "      <td>SUPPORTS</td>\n",
              "    </tr>\n",
              "    <tr>\n",
              "      <th>1</th>\n",
              "      <td>Firefox is an application.</td>\n",
              "      <td>0\\tMozilla Firefox -LRB- or simply Firefox -RR...</td>\n",
              "      <td>SUPPORTS</td>\n",
              "    </tr>\n",
              "    <tr>\n",
              "      <th>2</th>\n",
              "      <td>Keegan-Michael Key played President Barack Oba...</td>\n",
              "      <td>6\\tIn 2015 , Key appeared at the White House C...</td>\n",
              "      <td>SUPPORTS</td>\n",
              "    </tr>\n",
              "    <tr>\n",
              "      <th>3</th>\n",
              "      <td>Google Search can find stock quotes.</td>\n",
              "      <td>13\\tThese include synonyms , weather forecasts...</td>\n",
              "      <td>SUPPORTS</td>\n",
              "    </tr>\n",
              "    <tr>\n",
              "      <th>4</th>\n",
              "      <td>A Good Day to Die Hard was directed solely by ...</td>\n",
              "      <td>1\\tThe film was directed by John Moore and wri...</td>\n",
              "      <td>REFUTES</td>\n",
              "    </tr>\n",
              "  </tbody>\n",
              "</table>\n",
              "</div>\n",
              "      <button class=\"colab-df-convert\" onclick=\"convertToInteractive('df-3e8922da-e6ce-414f-824e-4aac4bf2874d')\"\n",
              "              title=\"Convert this dataframe to an interactive table.\"\n",
              "              style=\"display:none;\">\n",
              "        \n",
              "  <svg xmlns=\"http://www.w3.org/2000/svg\" height=\"24px\"viewBox=\"0 0 24 24\"\n",
              "       width=\"24px\">\n",
              "    <path d=\"M0 0h24v24H0V0z\" fill=\"none\"/>\n",
              "    <path d=\"M18.56 5.44l.94 2.06.94-2.06 2.06-.94-2.06-.94-.94-2.06-.94 2.06-2.06.94zm-11 1L8.5 8.5l.94-2.06 2.06-.94-2.06-.94L8.5 2.5l-.94 2.06-2.06.94zm10 10l.94 2.06.94-2.06 2.06-.94-2.06-.94-.94-2.06-.94 2.06-2.06.94z\"/><path d=\"M17.41 7.96l-1.37-1.37c-.4-.4-.92-.59-1.43-.59-.52 0-1.04.2-1.43.59L10.3 9.45l-7.72 7.72c-.78.78-.78 2.05 0 2.83L4 21.41c.39.39.9.59 1.41.59.51 0 1.02-.2 1.41-.59l7.78-7.78 2.81-2.81c.8-.78.8-2.07 0-2.86zM5.41 20L4 18.59l7.72-7.72 1.47 1.35L5.41 20z\"/>\n",
              "  </svg>\n",
              "      </button>\n",
              "      \n",
              "  <style>\n",
              "    .colab-df-container {\n",
              "      display:flex;\n",
              "      flex-wrap:wrap;\n",
              "      gap: 12px;\n",
              "    }\n",
              "\n",
              "    .colab-df-convert {\n",
              "      background-color: #E8F0FE;\n",
              "      border: none;\n",
              "      border-radius: 50%;\n",
              "      cursor: pointer;\n",
              "      display: none;\n",
              "      fill: #1967D2;\n",
              "      height: 32px;\n",
              "      padding: 0 0 0 0;\n",
              "      width: 32px;\n",
              "    }\n",
              "\n",
              "    .colab-df-convert:hover {\n",
              "      background-color: #E2EBFA;\n",
              "      box-shadow: 0px 1px 2px rgba(60, 64, 67, 0.3), 0px 1px 3px 1px rgba(60, 64, 67, 0.15);\n",
              "      fill: #174EA6;\n",
              "    }\n",
              "\n",
              "    [theme=dark] .colab-df-convert {\n",
              "      background-color: #3B4455;\n",
              "      fill: #D2E3FC;\n",
              "    }\n",
              "\n",
              "    [theme=dark] .colab-df-convert:hover {\n",
              "      background-color: #434B5C;\n",
              "      box-shadow: 0px 1px 3px 1px rgba(0, 0, 0, 0.15);\n",
              "      filter: drop-shadow(0px 1px 2px rgba(0, 0, 0, 0.3));\n",
              "      fill: #FFFFFF;\n",
              "    }\n",
              "  </style>\n",
              "\n",
              "      <script>\n",
              "        const buttonEl =\n",
              "          document.querySelector('#df-3e8922da-e6ce-414f-824e-4aac4bf2874d button.colab-df-convert');\n",
              "        buttonEl.style.display =\n",
              "          google.colab.kernel.accessAllowed ? 'block' : 'none';\n",
              "\n",
              "        async function convertToInteractive(key) {\n",
              "          const element = document.querySelector('#df-3e8922da-e6ce-414f-824e-4aac4bf2874d');\n",
              "          const dataTable =\n",
              "            await google.colab.kernel.invokeFunction('convertToInteractive',\n",
              "                                                     [key], {});\n",
              "          if (!dataTable) return;\n",
              "\n",
              "          const docLinkHtml = 'Like what you see? Visit the ' +\n",
              "            '<a target=\"_blank\" href=https://colab.research.google.com/notebooks/data_table.ipynb>data table notebook</a>'\n",
              "            + ' to learn more about interactive tables.';\n",
              "          element.innerHTML = '';\n",
              "          dataTable['output_type'] = 'display_data';\n",
              "          await google.colab.output.renderOutput(dataTable, element);\n",
              "          const docLink = document.createElement('div');\n",
              "          docLink.innerHTML = docLinkHtml;\n",
              "          element.appendChild(docLink);\n",
              "        }\n",
              "      </script>\n",
              "    </div>\n",
              "  </div>\n",
              "  "
            ],
            "text/plain": [
              "                                               Claim  ...     Label\n",
              "0    Anxiety has been linked with physical symptoms.  ...  SUPPORTS\n",
              "1                         Firefox is an application.  ...  SUPPORTS\n",
              "2  Keegan-Michael Key played President Barack Oba...  ...  SUPPORTS\n",
              "3               Google Search can find stock quotes.  ...  SUPPORTS\n",
              "4  A Good Day to Die Hard was directed solely by ...  ...   REFUTES\n",
              "\n",
              "[5 rows x 3 columns]"
            ]
          },
          "metadata": {},
          "execution_count": 10
        }
      ],
      "source": [
        "test_set = test_pairs.drop(['Unnamed: 0', 'ID'], axis=1)\n",
        "test_set.head()"
      ]
    },
    {
      "cell_type": "markdown",
      "metadata": {
        "id": "Dm4IB81X5shY"
      },
      "source": [
        "# Pre Processing"
      ]
    },
    {
      "cell_type": "code",
      "execution_count": 11,
      "metadata": {
        "id": "XlqGAd5ZDTkQ"
      },
      "outputs": [],
      "source": [
        "train_labels = train_set.Label\n",
        "val_labels = val_set.Label\n",
        "test_labels = test_set.Label"
      ]
    },
    {
      "cell_type": "code",
      "execution_count": 12,
      "metadata": {
        "id": "IqqkyvcQDF6n"
      },
      "outputs": [],
      "source": [
        "s_train_claims = train_set.Claim\n",
        "s_val_claims = val_set.Claim\n",
        "s_test_claims = test_set.Claim"
      ]
    },
    {
      "cell_type": "code",
      "execution_count": 13,
      "metadata": {
        "id": "TF4HC8dOFQLi"
      },
      "outputs": [],
      "source": [
        "# convert claims in lists for tokenization\n",
        "train_claims = []\n",
        "val_claims = []\n",
        "test_claims = []\n",
        "\n",
        "for i in s_train_claims:\n",
        "  train_claims.append(i)\n",
        "\n",
        "for i in s_val_claims:\n",
        "  val_claims.append(i)\n",
        "\n",
        "for i in s_test_claims:\n",
        "  test_claims.append(i)"
      ]
    },
    {
      "cell_type": "code",
      "execution_count": 14,
      "metadata": {
        "id": "qdsDNbWNiqJg"
      },
      "outputs": [],
      "source": [
        "train_df = pd.DataFrame(columns=['Claim', 'Evidence', 'Label'])\n",
        "\n",
        "train_evidences = train_set.Evidence\n",
        "val_evidences = val_set.Evidence\n",
        "test_evidences = test_set.Evidence"
      ]
    },
    {
      "cell_type": "code",
      "execution_count": 15,
      "metadata": {
        "colab": {
          "base_uri": "https://localhost:8080/",
          "height": 0
        },
        "id": "3MdOdu4go6ch",
        "outputId": "7960917d-f0ef-4da8-d390-31cb32a3f2b6"
      },
      "outputs": [
        {
          "output_type": "execute_result",
          "data": {
            "application/vnd.google.colaboratory.intrinsic+json": {
              "type": "string"
            },
            "text/plain": [
              "'2\\tHemsworth has also appeared in the science fiction action film Star Trek -LRB- 2009 -RRB- , the thriller adventure A Perfect Getaway -LRB- 2009 -RRB- , the horror comedy The Cabin in the Woods -LRB- 2012 -RRB- , the dark-fantasy action film Snow White and the Huntsman -LRB- 2012 -RRB- , the war film Red Dawn -LRB- 2012 -RRB- , and the biographical sports drama film Rush -LRB- 2013 -RRB- .\\tStar Trek\\tStar Trek (film)\\tA Perfect Getaway\\tA Perfect Getaway\\tThe Cabin in the Woods\\tThe Cabin in the Woods\\tSnow White and the Huntsman\\tSnow White and the Huntsman\\tRed Dawn\\tRed Dawn (2012 film)\\tRush\\tRush (2013 film)'"
            ]
          },
          "metadata": {},
          "execution_count": 15
        }
      ],
      "source": [
        "train_evidences[0]"
      ]
    },
    {
      "cell_type": "code",
      "execution_count": 16,
      "metadata": {
        "id": "Rbjnkqu14PG_"
      },
      "outputs": [],
      "source": [
        "# compile regex to avoid multiple computations\n",
        "splitter = re.compile(r' \\.')\n",
        "beginline = re.compile(r'\\d+\\t')\n",
        "parenthesis = re.compile(r'\\-[A-Z]{3}\\-')\n",
        "phonetics = re.compile(r'[^a-zA-Z\\d\\s:\\u00C0-\\u00FF!\\\"#$%&\\'()*+,-./:;<=>?@[\\]^_`{|}~]*')"
      ]
    },
    {
      "cell_type": "code",
      "execution_count": 17,
      "metadata": {
        "colab": {
          "base_uri": "https://localhost:8080/"
        },
        "id": "Hvgpv0Ysc7La",
        "outputId": "86577b50-e152-4934-a946-6d74458bd640"
      },
      "outputs": [
        {
          "output_type": "stream",
          "name": "stdout",
          "text": [
            "Greece -LRB- Ελλάδα , -LSB- eˈlaða -RSB- -RRB- , officially the Hellenic Republic -LRB- Greek : Ελληνική Δημοκρατία , -LSB- eliniˈci ðimokraˈti.a -RSB- -RRB- , historically also known as Hellas -LRB- Ἑλλάς , -LSB- heˈlas -RSB- , modern pronunciation Ellás -RRB- , is a country in southeastern Europe , with a population of approximately 11 million as of 2015\n"
          ]
        }
      ],
      "source": [
        "#evidences text cleaning\n",
        "k=0\n",
        "clean_train_evidences = []\n",
        "clean_val_evidences = []\n",
        "clean_test_evidences = []\n",
        "\n",
        "for i in train_evidences:\n",
        "  tmp = re.split(splitter,i)[0]\n",
        "  tmp = re.sub(beginline, '', tmp)\n",
        "  if k == 12:\n",
        "     print(tmp)\n",
        "  tmp = re.sub(parenthesis, '', tmp)\n",
        "  tmp = re.sub(phonetics, '', tmp)\n",
        "  clean_train_evidences.append(tmp)\n",
        "  k += 1\n",
        "\n",
        "for i in val_evidences:\n",
        "  tmp = re.split(splitter,i)[0]\n",
        "  tmp = re.sub(beginline, '', tmp)\n",
        "  tmp = re.sub(parenthesis, '', tmp)\n",
        "  tmp = re.sub(phonetics, '', tmp)\n",
        "  clean_val_evidences.append(tmp)\n",
        "\n",
        "for i in test_evidences:\n",
        "  tmp = re.split(splitter,i)[0]\n",
        "  tmp = re.sub(beginline, '', tmp)\n",
        "  tmp = re.sub(parenthesis, '', tmp)\n",
        "  tmp = re.sub(phonetics, '', tmp)\n",
        "  clean_test_evidences.append(tmp)"
      ]
    },
    {
      "cell_type": "code",
      "execution_count": 18,
      "metadata": {
        "colab": {
          "base_uri": "https://localhost:8080/",
          "height": 0
        },
        "id": "CT9i2fLXsZIZ",
        "outputId": "ee3b2b2d-9650-4345-9046-eb772843326d"
      },
      "outputs": [
        {
          "output_type": "execute_result",
          "data": {
            "application/vnd.google.colaboratory.intrinsic+json": {
              "type": "string"
            },
            "text/plain": [
              "'6\\tHitchcock became a highly visible public figure through interviews , movie trailers , cameo appearances in his own films , and the ten years in which he hosted the television programme Alfred Hitchcock Presents -LRB- 1955 -- 1965 -RRB- .\\tcameo appearances\\tList of Alfred Hitchcock cameo appearances\\tAlfred Hitchcock Presents\\tAlfred Hitchcock Presents'"
            ]
          },
          "metadata": {},
          "execution_count": 18
        }
      ],
      "source": [
        "val_evidences[62]\n",
        "# maybe needs more cleaning? i assume from now on we have clean data"
      ]
    },
    {
      "cell_type": "code",
      "execution_count": 19,
      "metadata": {
        "colab": {
          "base_uri": "https://localhost:8080/",
          "height": 0
        },
        "id": "iwSRC0VDW4-Q",
        "outputId": "3466b9a0-f0d5-4ae8-efd4-32d323c1d511"
      },
      "outputs": [
        {
          "output_type": "execute_result",
          "data": {
            "application/vnd.google.colaboratory.intrinsic+json": {
              "type": "string"
            },
            "text/plain": [
              "'Hitchcock became a highly visible public figure through interviews , movie trailers , cameo appearances in his own films , and the ten years in which he hosted the television programme Alfred Hitchcock Presents  1955 -- 1965 '"
            ]
          },
          "metadata": {},
          "execution_count": 19
        }
      ],
      "source": [
        "clean_val_evidences[62]"
      ]
    },
    {
      "cell_type": "markdown",
      "metadata": {
        "id": "W8nJS0oKd5Sg"
      },
      "source": [
        "# Tokenization\n",
        "- padding"
      ]
    },
    {
      "cell_type": "code",
      "execution_count": 20,
      "metadata": {
        "id": "xc4MzQO5C6Lq"
      },
      "outputs": [],
      "source": [
        "# concatenate splits lists for tokenizer input\n",
        "claim_to_vocab = train_claims + val_claims + test_claims\n",
        "evidences_to_vocab = clean_train_evidences + clean_val_evidences + clean_test_evidences"
      ]
    },
    {
      "cell_type": "code",
      "execution_count": 21,
      "metadata": {
        "id": "sWVFV60UEo-y"
      },
      "outputs": [],
      "source": [
        "claim_tokenizer = Tokenizer(lower=False)                     # instantiate tokeniser\n",
        "claim_tokenizer.fit_on_texts(claim_to_vocab)                    # fit tokeniser on data"
      ]
    },
    {
      "cell_type": "code",
      "execution_count": 22,
      "metadata": {
        "id": "sY_R_QR8HWFF"
      },
      "outputs": [],
      "source": [
        "evidence_tokenizer = Tokenizer(lower=False)                     \n",
        "evidence_tokenizer.fit_on_texts(evidences_to_vocab)"
      ]
    },
    {
      "cell_type": "markdown",
      "metadata": {
        "id": "nt1jMDILJql6"
      },
      "source": [
        "###Glove"
      ]
    },
    {
      "cell_type": "code",
      "execution_count": 23,
      "metadata": {
        "colab": {
          "base_uri": "https://localhost:8080/"
        },
        "id": "0_NXjUc4JTbH",
        "outputId": "e74b36c0-73b4-40c2-8f6c-cd712221e483"
      },
      "outputs": [
        {
          "output_type": "stream",
          "name": "stdout",
          "text": [
            "--2021-12-23 15:14:04--  http://nlp.stanford.edu/data/glove.6B.zip\n",
            "Resolving nlp.stanford.edu (nlp.stanford.edu)... 171.64.67.140\n",
            "Connecting to nlp.stanford.edu (nlp.stanford.edu)|171.64.67.140|:80... connected.\n",
            "HTTP request sent, awaiting response... 302 Found\n",
            "Location: https://nlp.stanford.edu/data/glove.6B.zip [following]\n",
            "--2021-12-23 15:14:04--  https://nlp.stanford.edu/data/glove.6B.zip\n",
            "Connecting to nlp.stanford.edu (nlp.stanford.edu)|171.64.67.140|:443... connected.\n",
            "HTTP request sent, awaiting response... 301 Moved Permanently\n",
            "Location: http://downloads.cs.stanford.edu/nlp/data/glove.6B.zip [following]\n",
            "--2021-12-23 15:14:04--  http://downloads.cs.stanford.edu/nlp/data/glove.6B.zip\n",
            "Resolving downloads.cs.stanford.edu (downloads.cs.stanford.edu)... 171.64.64.22\n",
            "Connecting to downloads.cs.stanford.edu (downloads.cs.stanford.edu)|171.64.64.22|:80... connected.\n",
            "HTTP request sent, awaiting response... 200 OK\n",
            "Length: 862182613 (822M) [application/zip]\n",
            "Saving to: ‘glove.6B.zip’\n",
            "\n",
            "glove.6B.zip        100%[===================>] 822.24M  5.03MB/s    in 2m 40s  \n",
            "\n",
            "2021-12-23 15:16:45 (5.12 MB/s) - ‘glove.6B.zip’ saved [862182613/862182613]\n",
            "\n"
          ]
        }
      ],
      "source": [
        "!wget http://nlp.stanford.edu/data/glove.6B.zip\n",
        "!unzip -q glove.6B.zip"
      ]
    },
    {
      "cell_type": "code",
      "execution_count": 24,
      "metadata": {
        "colab": {
          "base_uri": "https://localhost:8080/"
        },
        "id": "6I7Dngy8JXSN",
        "outputId": "87de1929-91cb-4e17-8156-a51ae13e7d31"
      },
      "outputs": [
        {
          "output_type": "stream",
          "name": "stdout",
          "text": [
            "Found 400000 word vectors.\n"
          ]
        }
      ],
      "source": [
        "path_to_glove_file = os.path.join(os.getcwd(), \"glove.6B.100d.txt\")\n",
        "\n",
        "embeddings_index = {}\n",
        "with open(path_to_glove_file) as f:\n",
        "    for line in f:\n",
        "        word, coefs = line.split(maxsplit=1)\n",
        "        coefs = np.fromstring(coefs, \"f\", sep=\" \")\n",
        "        embeddings_index[word] = coefs\n",
        "\n",
        "print(\"Found %s word vectors.\" % len(embeddings_index))"
      ]
    },
    {
      "cell_type": "markdown",
      "metadata": {
        "id": "QQ0dRwcmJv52"
      },
      "source": [
        "Embedding matrix for claims"
      ]
    },
    {
      "cell_type": "code",
      "execution_count": 25,
      "metadata": {
        "colab": {
          "base_uri": "https://localhost:8080/"
        },
        "id": "ylMG2NlUJfRy",
        "outputId": "c301da84-1f3d-4bc2-b9b5-a62cbfd6067a"
      },
      "outputs": [
        {
          "output_type": "stream",
          "name": "stdout",
          "text": [
            "Converted 10970 words (13832 misses)\n"
          ]
        }
      ],
      "source": [
        "num_tokens = len(claim_tokenizer.index_word) + 1\n",
        "embedding_dim = 100\n",
        "hits = 0\n",
        "misses = 0\n",
        "\n",
        "\n",
        "# Prepare embedding matrix\n",
        "embedding_matrix_c = np.zeros((num_tokens, embedding_dim))\n",
        "for word, i in claim_tokenizer.word_index.items():\n",
        "    embedding_vector = embeddings_index.get(word)\n",
        "    if embedding_vector is not None:\n",
        "        # Words not found in embedding index will be all-zeros.\n",
        "        # This includes the representation for \"padding\" and \"OOV\"\n",
        "        embedding_matrix_c[i] = embedding_vector\n",
        "        hits += 1\n",
        "    else:\n",
        "        embedding_matrix_c += np.random.uniform(low=-0.05, high=0.05, size=embedding_dim)\n",
        "        misses += 1\n",
        "print(\"Converted %d words (%d misses)\" % (hits, misses))"
      ]
    },
    {
      "cell_type": "markdown",
      "metadata": {
        "id": "62QyRF-GJ6wW"
      },
      "source": [
        "Embedding matrix for Evidence"
      ]
    },
    {
      "cell_type": "code",
      "execution_count": 26,
      "metadata": {
        "colab": {
          "base_uri": "https://localhost:8080/"
        },
        "id": "Okl6jgimJgmH",
        "outputId": "bb5bf827-1af2-440f-e7ca-aaa55920a472"
      },
      "outputs": [
        {
          "output_type": "stream",
          "name": "stdout",
          "text": [
            "Converted 15376 words (22592 misses)\n"
          ]
        }
      ],
      "source": [
        "num_tokens = len(evidence_tokenizer.index_word) + 1\n",
        "embedding_dim = 100\n",
        "hits = 0\n",
        "misses = 0\n",
        "\n",
        "\n",
        "# Prepare embedding matrix\n",
        "embedding_matrix_e = np.zeros((num_tokens, embedding_dim))\n",
        "for word, i in evidence_tokenizer.word_index.items():\n",
        "    embedding_vector = embeddings_index.get(word)\n",
        "    if embedding_vector is not None:\n",
        "        # Words not found in embedding index will be all-zeros.\n",
        "        # This includes the representation for \"padding\" and \"OOV\"\n",
        "        embedding_matrix_e[i] = embedding_vector\n",
        "        hits += 1\n",
        "    else:\n",
        "        embedding_matrix_e += np.random.uniform(low=-0.05, high=0.05, size=embedding_dim)\n",
        "        misses += 1\n",
        "print(\"Converted %d words (%d misses)\" % (hits, misses))"
      ]
    },
    {
      "cell_type": "code",
      "execution_count": 136,
      "metadata": {
        "id": "6qYzhXuDeo7k"
      },
      "outputs": [],
      "source": [
        "def to_cat(y, tokenizer): # map labels to one hot encoding\n",
        "  tokenizer.fit_on_texts(y)\n",
        "  y = tokenizer.texts_to_sequences(y)\n",
        "  y = tf.keras.utils.to_categorical(y, num_classes=None, dtype='int')\n",
        "  return y\n",
        "\n",
        "tokenizer_y = Tokenizer()\n",
        "tokenizer_y.fit_on_texts(train_labels)\n",
        "\n",
        "train_labels_y =  to_cat(train_labels, tokenizer_y)\n",
        "val_labels_y = to_cat(val_labels, tokenizer_y)\n",
        "test_labels_y = to_cat(test_labels, tokenizer_y)"
      ]
    },
    {
      "cell_type": "code",
      "source": [
        "# drop first column, all zeros\n",
        "train_labels_y = train_labels_y[:,1:3]\n",
        "val_labels_y = val_labels_y[:,1:3]\n",
        "test_labels_y = test_labels_y[:,1:3]"
      ],
      "metadata": {
        "id": "-fu6456holze"
      },
      "execution_count": 137,
      "outputs": []
    },
    {
      "cell_type": "code",
      "execution_count": 30,
      "metadata": {
        "id": "ryX-w3nshtVa"
      },
      "outputs": [],
      "source": [
        "# from text to integers\n",
        "train_claims_X = claim_tokenizer.texts_to_sequences(train_claims)\n",
        "val_claims_X = claim_tokenizer.texts_to_sequences(val_claims)\n",
        "test_claims_X = claim_tokenizer.texts_to_sequences(test_claims)\n",
        "\n",
        "train_evidences_X = evidence_tokenizer.texts_to_sequences(clean_train_evidences)\n",
        "val_evidences_X = evidence_tokenizer.texts_to_sequences(clean_val_evidences)\n",
        "test_evidences_X = evidence_tokenizer.texts_to_sequences(clean_test_evidences)"
      ]
    },
    {
      "cell_type": "markdown",
      "metadata": {
        "id": "VTGqD9oKdSTn"
      },
      "source": [
        "###Padding"
      ]
    },
    {
      "cell_type": "code",
      "execution_count": 31,
      "metadata": {
        "colab": {
          "base_uri": "https://localhost:8080/"
        },
        "id": "DGpIpGUVmB2H",
        "outputId": "8b22a259-1021-49bb-83e2-64a6446eed99"
      },
      "outputs": [
        {
          "output_type": "execute_result",
          "data": {
            "text/plain": [
              "65"
            ]
          },
          "metadata": {},
          "execution_count": 31
        }
      ],
      "source": [
        "MAX_CLAIM_LENGTH = max(len(max(train_claims_X, key=len)), len(max(val_claims_X, key=len)), len(max(test_claims_X, key=len)))\n",
        "MAX_CLAIM_LENGTH"
      ]
    },
    {
      "cell_type": "code",
      "execution_count": 32,
      "metadata": {
        "colab": {
          "base_uri": "https://localhost:8080/"
        },
        "id": "h8Ljdd2UmJXE",
        "outputId": "fa2a09ea-d672-422b-b5a1-2c7098b0e333"
      },
      "outputs": [
        {
          "output_type": "execute_result",
          "data": {
            "text/plain": [
              "209"
            ]
          },
          "metadata": {},
          "execution_count": 32
        }
      ],
      "source": [
        "MAX_EVIDENCE_LENGTH = max(len(max(train_evidences_X, key=len)), len(max(val_evidences_X, key=len)), len(max(test_evidences_X, key=len)))\n",
        "MAX_EVIDENCE_LENGTH"
      ]
    },
    {
      "cell_type": "code",
      "execution_count": 33,
      "metadata": {
        "id": "ojJhCIKqnG7n"
      },
      "outputs": [],
      "source": [
        "def pad(set, max): # padding function\n",
        "  return pad_sequences(set, maxlen=max, padding='post')"
      ]
    },
    {
      "cell_type": "code",
      "execution_count": 34,
      "metadata": {
        "id": "caPgRJPpmYMj"
      },
      "outputs": [],
      "source": [
        "train_claims_X = pad(train_claims_X, MAX_CLAIM_LENGTH)\n",
        "val_claims_X = pad(val_claims_X, MAX_CLAIM_LENGTH)\n",
        "test_claims_X = pad(test_claims_X, MAX_CLAIM_LENGTH)\n",
        "\n",
        "train_evidences_X = pad(train_evidences_X, MAX_EVIDENCE_LENGTH)\n",
        "val_evidences_X = pad(val_evidences_X, MAX_EVIDENCE_LENGTH)\n",
        "test_evidences_X = pad(test_evidences_X, MAX_EVIDENCE_LENGTH)"
      ]
    },
    {
      "cell_type": "markdown",
      "metadata": {
        "id": "0eQDRB1-oEuA"
      },
      "source": [
        "# Model Implementation"
      ]
    },
    {
      "cell_type": "code",
      "source": [
        "embedded_dimension = 100"
      ],
      "metadata": {
        "id": "LIg6WnxmJnVP"
      },
      "execution_count": 35,
      "outputs": []
    },
    {
      "cell_type": "markdown",
      "metadata": {
        "id": "jZ4kki1fTQ3S"
      },
      "source": [
        "##1. Encode token sequences via a RNN and take the last state as the sentence embedding."
      ]
    },
    {
      "cell_type": "code",
      "execution_count": 36,
      "metadata": {
        "colab": {
          "base_uri": "https://localhost:8080/"
        },
        "id": "xr9St4AjTHHt",
        "outputId": "bf262fc0-a5e7-40cc-eed6-755be49a44da"
      },
      "outputs": [
        {
          "output_type": "stream",
          "name": "stdout",
          "text": [
            "Model: \"RNN_last\"\n",
            "__________________________________________________________________________________________________\n",
            " Layer (type)                   Output Shape         Param #     Connected to                     \n",
            "==================================================================================================\n",
            " input_2 (InputLayer)           [(None, 65)]         0           []                               \n",
            "                                                                                                  \n",
            " input_1 (InputLayer)           [(None, 209)]        0           []                               \n",
            "                                                                                                  \n",
            " embedding (Embedding)          (None, 65, 100)      2480300     ['input_2[0][0]']                \n",
            "                                                                                                  \n",
            " embedding_1 (Embedding)        (None, 209, 100)     3796900     ['input_1[0][0]']                \n",
            "                                                                                                  \n",
            " bidirectional (Bidirectional)  (None, 50)           25200       ['embedding[0][0]']              \n",
            "                                                                                                  \n",
            " bidirectional_1 (Bidirectional  (None, 50)          25200       ['embedding_1[0][0]']            \n",
            " )                                                                                                \n",
            "                                                                                                  \n",
            " average (Average)              (None, 50)           0           ['bidirectional[0][0]',          \n",
            "                                                                  'bidirectional_1[0][0]']        \n",
            "                                                                                                  \n",
            " dropout (Dropout)              (None, 50)           0           ['average[0][0]']                \n",
            "                                                                                                  \n",
            " dense (Dense)                  (None, 3)            153         ['dropout[0][0]']                \n",
            "                                                                                                  \n",
            "==================================================================================================\n",
            "Total params: 6,327,753\n",
            "Trainable params: 6,327,753\n",
            "Non-trainable params: 0\n",
            "__________________________________________________________________________________________________\n"
          ]
        }
      ],
      "source": [
        "# input layers\n",
        "evidence_input_layer = keras.Input(shape=(MAX_EVIDENCE_LENGTH, ))\n",
        "claim_input_layer = keras.Input(shape=(MAX_CLAIM_LENGTH, ))\n",
        "\n",
        "claim_input = claim_input_layer\n",
        "evidence_input = evidence_input_layer\n",
        "\n",
        "# Embeddings\n",
        "claims_embedding_layer = tf.keras.layers.Embedding(\n",
        "    len(claim_tokenizer.word_index)+1,\n",
        "    embedded_dimension,\n",
        "    embeddings_initializer=keras.initializers.Constant(embedding_matrix_c),\n",
        "    trainable = True,\n",
        "    embeddings_regularizer=None,\n",
        "    activity_regularizer=None,\n",
        "    embeddings_constraint=None,\n",
        "    mask_zero=False,\n",
        "    input_length=MAX_CLAIM_LENGTH\n",
        ")\n",
        "\n",
        "evidences_embedding_layer = tf.keras.layers.Embedding(\n",
        "    len(evidence_tokenizer.word_index)+1,\n",
        "    embedded_dimension,\n",
        "    embeddings_initializer=keras.initializers.Constant(embedding_matrix_e),\n",
        "    trainable = True,\n",
        "    embeddings_regularizer=None,\n",
        "    activity_regularizer=None,\n",
        "    embeddings_constraint=None,\n",
        "    mask_zero=False,\n",
        "    input_length=MAX_EVIDENCE_LENGTH\n",
        ")\n",
        "\n",
        "x1 = claims_embedding_layer(claim_input)\n",
        "x2 = evidences_embedding_layer(evidence_input)\n",
        "\n",
        "x1 = Bidirectional(LSTM(units=int(embedded_dimension/4),\n",
        "                          return_sequences=False))(x1) \n",
        "\n",
        "x2 = Bidirectional(LSTM(units=int(embedded_dimension/4), \n",
        "                          return_sequences=False))(x2) \n",
        "\n",
        "# Merge layer\n",
        "mean_x = tf.keras.layers.Average()([x1,x2])\n",
        "\n",
        "# dropout\n",
        "dropout = tf.keras.layers.Dropout(0.25)(mean_x)\n",
        "\n",
        "# classification final layer\n",
        "outputs = layers.Dense(3, activation='softmax')(dropout)\n",
        "\n",
        "model_RNN_last = keras.Model(inputs=[claim_input, evidence_input], outputs=outputs, name=\"RNN_last\")\n",
        "model_RNN_last.summary()"
      ]
    },
    {
      "cell_type": "code",
      "execution_count": 37,
      "metadata": {
        "colab": {
          "base_uri": "https://localhost:8080/",
          "height": 564
        },
        "id": "oYwwbGpyVsEr",
        "outputId": "f4a95fed-289f-4603-9aaf-fff7116e6254"
      },
      "outputs": [
        {
          "output_type": "execute_result",
          "data": {
            "image/png": "[encoded data removed]",
            "text/plain": [
              "<IPython.core.display.Image object>"
            ]
          },
          "metadata": {},
          "execution_count": 37
        }
      ],
      "source": [
        "keras.utils.plot_model(model_RNN_last, \"RNN_last.png\")"
      ]
    },
    {
      "cell_type": "markdown",
      "metadata": {
        "id": "oLeA5t3tYayh"
      },
      "source": [
        "## 2. Encode token sequences via a RNN and average all the output states."
      ]
    },
    {
      "cell_type": "code",
      "execution_count": 38,
      "metadata": {
        "colab": {
          "base_uri": "https://localhost:8080/"
        },
        "id": "cBK_mFh3Yd8D",
        "outputId": "cce9ca0f-5729-48a9-dd44-fc0310d9e47c"
      },
      "outputs": [
        {
          "output_type": "stream",
          "name": "stdout",
          "text": [
            "Model: \"RNN_mean\"\n",
            "__________________________________________________________________________________________________\n",
            " Layer (type)                   Output Shape         Param #     Connected to                     \n",
            "==================================================================================================\n",
            " input_4 (InputLayer)           [(None, 65)]         0           []                               \n",
            "                                                                                                  \n",
            " input_3 (InputLayer)           [(None, 209)]        0           []                               \n",
            "                                                                                                  \n",
            " embedding_2 (Embedding)        (None, 65, 100)      2480300     ['input_4[0][0]']                \n",
            "                                                                                                  \n",
            " embedding_3 (Embedding)        (None, 209, 100)     3796900     ['input_3[0][0]']                \n",
            "                                                                                                  \n",
            " lstm_2 (LSTM)                  (None, 65, 25)       12600       ['embedding_2[0][0]']            \n",
            "                                                                                                  \n",
            " lstm_3 (LSTM)                  (None, 209, 25)      12600       ['embedding_3[0][0]']            \n",
            "                                                                                                  \n",
            " tf.math.reduce_mean (TFOpLambd  (None, 25)          0           ['lstm_2[0][0]']                 \n",
            " a)                                                                                               \n",
            "                                                                                                  \n",
            " tf.math.reduce_mean_1 (TFOpLam  (None, 25)          0           ['lstm_3[0][0]']                 \n",
            " bda)                                                                                             \n",
            "                                                                                                  \n",
            " average_1 (Average)            (None, 25)           0           ['tf.math.reduce_mean[0][0]',    \n",
            "                                                                  'tf.math.reduce_mean_1[0][0]']  \n",
            "                                                                                                  \n",
            " dense_1 (Dense)                (None, 2)            52          ['average_1[0][0]']              \n",
            "                                                                                                  \n",
            "==================================================================================================\n",
            "Total params: 6,302,452\n",
            "Trainable params: 6,302,452\n",
            "Non-trainable params: 0\n",
            "__________________________________________________________________________________________________\n"
          ]
        }
      ],
      "source": [
        "# input layers\n",
        "evidence_input_layer = keras.Input(shape=(MAX_EVIDENCE_LENGTH, ))\n",
        "claim_input_layer = keras.Input(shape=(MAX_CLAIM_LENGTH, ))\n",
        "\n",
        "claim_input = claim_input_layer\n",
        "evidence_input = evidence_input_layer\n",
        "\n",
        "# Embeddings\n",
        "claims_embedding_layer = tf.keras.layers.Embedding(\n",
        "    len(claim_tokenizer.word_index)+1,\n",
        "    embedded_dimension,\n",
        "    embeddings_initializer=keras.initializers.Constant(embedding_matrix_c),\n",
        "    trainable = True,\n",
        "    embeddings_regularizer=None,\n",
        "    activity_regularizer=None,\n",
        "    embeddings_constraint=None,\n",
        "    mask_zero=False,\n",
        "    input_length=MAX_CLAIM_LENGTH\n",
        ")\n",
        "\n",
        "evidences_embedding_layer = tf.keras.layers.Embedding(\n",
        "    len(evidence_tokenizer.word_index)+1,\n",
        "    embedded_dimension,\n",
        "    embeddings_initializer=keras.initializers.Constant(embedding_matrix_e),\n",
        "    trainable = True,\n",
        "    embeddings_regularizer=None,\n",
        "    activity_regularizer=None,\n",
        "    embeddings_constraint=None,\n",
        "    mask_zero=False,\n",
        "    input_length=MAX_EVIDENCE_LENGTH\n",
        ")\n",
        "\n",
        "x1 = claims_embedding_layer(claim_input)\n",
        "x2 = evidences_embedding_layer(evidence_input)\n",
        "\n",
        "x1 = LSTM(units=int(embedded_dimension/4),\n",
        "                          return_sequences=True)(x1) \n",
        "\n",
        "x2 = LSTM(units=int(embedded_dimension/4),\n",
        "                          return_sequences=True)(x2) \n",
        "\n",
        "x1 = tf.reduce_mean(x1, 1)\n",
        "x2 = tf.reduce_mean(x2, 1)\n",
        "\n",
        "# Merge layer\n",
        "mean_x = tf.keras.layers.Average()([x1,x2])\n",
        "\n",
        "# classification final layer\n",
        "\n",
        "outputs = layers.Dense(2, activation='softmax')(mean_x)\n",
        "\n",
        "model_RNN_mean = keras.Model(inputs=[claim_input, evidence_input], outputs=outputs, name=\"RNN_mean\")\n",
        "model_RNN_mean.summary()"
      ]
    },
    {
      "cell_type": "code",
      "execution_count": 39,
      "metadata": {
        "colab": {
          "base_uri": "https://localhost:8080/",
          "height": 564
        },
        "id": "Xj7ZxC_tYsfp",
        "outputId": "54b2eed5-9931-4cf8-cfac-eb3ec31e3b87"
      },
      "outputs": [
        {
          "output_type": "execute_result",
          "data": {
            "image/png": "[encoded data removed]",
            "text/plain": [
              "<IPython.core.display.Image object>"
            ]
          },
          "metadata": {},
          "execution_count": 39
        }
      ],
      "source": [
        "keras.utils.plot_model(model_RNN_mean, \"RNN_mean.png\")"
      ]
    },
    {
      "cell_type": "markdown",
      "metadata": {
        "id": "jix3-wr0aiFM"
      },
      "source": [
        "## 3. Encode token sequences via a simple MLP layer. \n",
        "- this model is chosen to test all merging strategies and the cosine similarity extension"
      ]
    },
    {
      "cell_type": "code",
      "source": [
        "def cosine_distance(vests):\n",
        "    x, y = vests\n",
        "    x = K.l2_normalize(x, axis=-1)\n",
        "    y = K.l2_normalize(y, axis=-1)\n",
        "    return -K.mean(x * y, axis=-1, keepdims=True)\n",
        "\n",
        "def cos_dist_output_shape(shapes):\n",
        "    shape1, shape2 = shapes\n",
        "    return (shape1[0],1)"
      ],
      "metadata": {
        "id": "NI4dWCZ9kxr_"
      },
      "execution_count": 191,
      "outputs": []
    },
    {
      "cell_type": "code",
      "execution_count": 199,
      "metadata": {
        "id": "YyJRNDFwahh3"
      },
      "outputs": [],
      "source": [
        "def create_mlp_model(merge):\n",
        "  # input layers\n",
        "  evidence_input_layer = keras.Input(shape=(MAX_EVIDENCE_LENGTH, ))\n",
        "  claim_input_layer = keras.Input(shape=(MAX_CLAIM_LENGTH, ))\n",
        "\n",
        "  claim_input = claim_input_layer\n",
        "  evidence_input = evidence_input_layer\n",
        "\n",
        "  # Embeddings\n",
        "  claims_embedding_layer = tf.keras.layers.Embedding(\n",
        "      len(claim_tokenizer.word_index)+1,\n",
        "      embedded_dimension,\n",
        "      embeddings_initializer=keras.initializers.Constant(embedding_matrix_c),\n",
        "      trainable = True,\n",
        "      embeddings_regularizer=None,\n",
        "      activity_regularizer=None,\n",
        "      embeddings_constraint=None,\n",
        "      mask_zero=False,\n",
        "      input_length=MAX_CLAIM_LENGTH\n",
        "  )\n",
        "\n",
        "  evidences_embedding_layer = tf.keras.layers.Embedding(\n",
        "      len(evidence_tokenizer.word_index)+1,\n",
        "      embedded_dimension,\n",
        "      embeddings_initializer=keras.initializers.Constant(embedding_matrix_e),\n",
        "      trainable = True,\n",
        "      embeddings_regularizer=None,\n",
        "      activity_regularizer=None,\n",
        "      embeddings_constraint=None,\n",
        "      mask_zero=False,\n",
        "      input_length=MAX_EVIDENCE_LENGTH\n",
        "  )\n",
        "\n",
        "  x1 = claims_embedding_layer(claim_input)\n",
        "  x2 = evidences_embedding_layer(evidence_input)\n",
        "\n",
        "  x1 = tf.reshape(x1, [-1, MAX_CLAIM_LENGTH*embedded_dimension]) \n",
        "  x2 = tf.reshape(x2, [-1, MAX_EVIDENCE_LENGTH*embedded_dimension]) \n",
        "    \n",
        "    \n",
        "  x1 = Dense(embedded_dimension,activation='relu')(x1)  \n",
        "  x2 = Dense(embedded_dimension,activation='relu')(x2)  \n",
        "\n",
        "\n",
        "  # Merge layer\n",
        "  if(merge == 'mean'):\n",
        "    merged_x = tf.keras.layers.Average()([x1,x2])\n",
        "  if(merge == 'sum'):\n",
        "    merged_x = tf.keras.layers.Add()([x1,x2])\n",
        "  if(merge == 'concat'):\n",
        "    merged_x = tf.keras.layers.Concatenate(axis=1)([x1,x2])\n",
        "\n",
        "  # append cosine similarity\n",
        "  #cos_sim = tf.keras.layers.Lambda(cosine_distance, output_shape=cos_dist_output_shape)([x1, x2])\n",
        "  cos_sim = keras.layers.Dot(axes=1, normalize=True)([x1,x2])\n",
        "  merged_x = tf.keras.layers.Concatenate(axis=1)([merged_x, cos_sim])\n",
        "\n",
        "  # classification final layer\n",
        "\n",
        "  outputs = layers.Dense(2, activation='softmax')(merged_x)\n",
        "\n",
        "  model_MLP = keras.Model(inputs=[claim_input, evidence_input], outputs=outputs, name=str('mlp_'+merge))\n",
        "  return model_MLP"
      ]
    },
    {
      "cell_type": "markdown",
      "metadata": {
        "id": "_6ZA4eeYIAAU"
      },
      "source": [
        "## 4. Compute the sentence embedding as the mean of its token embeddings (bag of vectors)"
      ]
    },
    {
      "cell_type": "code",
      "execution_count": 41,
      "metadata": {
        "colab": {
          "base_uri": "https://localhost:8080/"
        },
        "id": "gzVi4Fa64tF-",
        "outputId": "f5d2b6ec-3b8c-4d42-cc28-ea3173c867c2"
      },
      "outputs": [
        {
          "output_type": "stream",
          "name": "stdout",
          "text": [
            "Model: \"bag_of_words\"\n",
            "__________________________________________________________________________________________________\n",
            " Layer (type)                   Output Shape         Param #     Connected to                     \n",
            "==================================================================================================\n",
            " input_8 (InputLayer)           [(None, 65)]         0           []                               \n",
            "                                                                                                  \n",
            " input_7 (InputLayer)           [(None, 209)]        0           []                               \n",
            "                                                                                                  \n",
            " embedding_6 (Embedding)        (None, 65, 100)      2480300     ['input_8[0][0]']                \n",
            "                                                                                                  \n",
            " embedding_7 (Embedding)        (None, 209, 100)     3796900     ['input_7[0][0]']                \n",
            "                                                                                                  \n",
            " tf.math.reduce_mean_2 (TFOpLam  (None, 65)          0           ['embedding_6[0][0]']            \n",
            " bda)                                                                                             \n",
            "                                                                                                  \n",
            " tf.math.reduce_mean_3 (TFOpLam  (None, 209)         0           ['embedding_7[0][0]']            \n",
            " bda)                                                                                             \n",
            "                                                                                                  \n",
            " dense_5 (Dense)                (None, 100)          6600        ['tf.math.reduce_mean_2[0][0]']  \n",
            "                                                                                                  \n",
            " dense_6 (Dense)                (None, 100)          21000       ['tf.math.reduce_mean_3[0][0]']  \n",
            "                                                                                                  \n",
            " average_3 (Average)            (None, 100)          0           ['dense_5[0][0]',                \n",
            "                                                                  'dense_6[0][0]']                \n",
            "                                                                                                  \n",
            " dense_7 (Dense)                (None, 3)            303         ['average_3[0][0]']              \n",
            "                                                                                                  \n",
            "==================================================================================================\n",
            "Total params: 6,305,103\n",
            "Trainable params: 6,305,103\n",
            "Non-trainable params: 0\n",
            "__________________________________________________________________________________________________\n"
          ]
        }
      ],
      "source": [
        "# input layers\n",
        "evidence_input_layer = keras.Input(shape=(MAX_EVIDENCE_LENGTH, ))\n",
        "claim_input_layer = keras.Input(shape=(MAX_CLAIM_LENGTH, ))\n",
        "\n",
        "claim_input = claim_input_layer\n",
        "evidence_input = evidence_input_layer\n",
        "\n",
        "# Embeddings\n",
        "claims_embedding_layer = tf.keras.layers.Embedding(\n",
        "    len(claim_tokenizer.word_index)+1,\n",
        "    100,\n",
        "    embeddings_initializer=keras.initializers.Constant(embedding_matrix_c),\n",
        "    trainable = True,\n",
        "    embeddings_regularizer=None,\n",
        "    activity_regularizer=None,\n",
        "    embeddings_constraint=None,\n",
        "    mask_zero=False,\n",
        "    input_length=MAX_CLAIM_LENGTH\n",
        ")\n",
        "\n",
        "evidences_embedding_layer = tf.keras.layers.Embedding(\n",
        "    len(evidence_tokenizer.word_index)+1,\n",
        "    100,\n",
        "    embeddings_initializer=keras.initializers.Constant(embedding_matrix_e),\n",
        "    trainable = True,\n",
        "    embeddings_regularizer=None,\n",
        "    activity_regularizer=None,\n",
        "    embeddings_constraint=None,\n",
        "    mask_zero=False,\n",
        "    input_length=MAX_EVIDENCE_LENGTH\n",
        ")\n",
        "\n",
        "x1 = claims_embedding_layer(claim_input)\n",
        "x2 = evidences_embedding_layer(evidence_input)\n",
        "\n",
        "# Mean\n",
        "x_claim = tf.math.reduce_mean(x1, axis=-1, keepdims=False)\n",
        "x_evidence = tf.math.reduce_mean(x2, axis=-1, keepdims=False)\n",
        "\n",
        "# Dense\n",
        "claim_dense = layers.Dense(embedded_dimension, activation='relu')(x_claim)\n",
        "evidence_dense = layers.Dense(embedded_dimension, activation='relu')(x_evidence)\n",
        "\n",
        "# Merge layer\n",
        "mean_x = tf.keras.layers.Average()([claim_dense,evidence_dense])\n",
        "\n",
        "# classification final layer\n",
        "classification_layer = layers.Dense(2, activation='softmax')\n",
        "\n",
        "outputs = classification_layer(mean_x)\n",
        "\n",
        "model_bag_of_words = keras.Model(inputs=[claim_input, evidence_input], outputs=outputs, name=\"bag_of_words\")\n",
        "model_bag_of_words.summary()"
      ]
    },
    {
      "cell_type": "code",
      "execution_count": 42,
      "metadata": {
        "colab": {
          "base_uri": "https://localhost:8080/",
          "height": 564
        },
        "id": "e6BsxeOuKos7",
        "outputId": "c870acaf-cc6c-484c-a77d-0bfef2cd88c9"
      },
      "outputs": [
        {
          "output_type": "execute_result",
          "data": {
            "image/png": "[encoded data removed]",
            "text/plain": [
              "<IPython.core.display.Image object>"
            ]
          },
          "metadata": {},
          "execution_count": 42
        }
      ],
      "source": [
        "keras.utils.plot_model(model_bag_of_words, \"bag_of_words.png\")"
      ]
    },
    {
      "cell_type": "markdown",
      "metadata": {
        "id": "R5Qo3ZO6NzQf"
      },
      "source": [
        "# Training"
      ]
    },
    {
      "cell_type": "markdown",
      "metadata": {
        "id": "wjyVXzc-SQl6"
      },
      "source": [
        "##Metrics and model parameters"
      ]
    },
    {
      "cell_type": "code",
      "execution_count": 212,
      "metadata": {
        "id": "dJhJ_QpGQZPM"
      },
      "outputs": [],
      "source": [
        "metrics = [keras.metrics.TruePositives(name='tp'),\n",
        "           keras.metrics.FalsePositives(name='fp'),\n",
        "           keras.metrics.TrueNegatives(name='tn'),\n",
        "           keras.metrics.FalseNegatives(name='fn'),\n",
        "           keras.metrics.BinaryAccuracy(name='accuracy'),\n",
        "           keras.metrics.AUC(name='auc'),\n",
        "           tfa.metrics.F1Score(num_classes=2, threshold=0.5),\n",
        "           tfa.metrics.CohenKappa(num_classes=2, sparse_labels=False)\n",
        "           ]\n",
        "\n",
        "sgdopt = tf.keras.optimizers.SGD(learning_rate=0.1)\n",
        "adamopt = keras.optimizers.Adam(0.001)\n",
        "\n",
        "es_callback = tf.keras.callbacks.EarlyStopping(monitor='val_loss', min_delta=0.005, patience=3)"
      ]
    },
    {
      "cell_type": "markdown",
      "metadata": {
        "id": "vIb1DZ8uTS_R"
      },
      "source": [
        "##1st model training"
      ]
    },
    {
      "cell_type": "code",
      "execution_count": 44,
      "metadata": {
        "colab": {
          "base_uri": "https://localhost:8080/",
          "height": 745
        },
        "id": "vVMCw7zYTEhR",
        "outputId": "c746885c-5614-41b0-8134-1b3fb15f4cab"
      },
      "outputs": [
        {
          "output_type": "stream",
          "name": "stdout",
          "text": [
            "Epoch 1/10\n"
          ]
        },
        {
          "output_type": "error",
          "ename": "ValueError",
          "evalue": "ignored",
          "traceback": [
            "\u001b[0;31m---------------------------------------------------------------------------\u001b[0m",
            "\u001b[0;31mValueError\u001b[0m                                Traceback (most recent call last)",
            "\u001b[0;32m<ipython-input-44-97a87c62160a>\u001b[0m in \u001b[0;36m<module>\u001b[0;34m()\u001b[0m\n\u001b[1;32m      7\u001b[0m )\n\u001b[1;32m      8\u001b[0m \u001b[0;34m\u001b[0m\u001b[0m\n\u001b[0;32m----> 9\u001b[0;31m \u001b[0mRNN_last_history\u001b[0m \u001b[0;34m=\u001b[0m \u001b[0mmodel_RNN_last\u001b[0m\u001b[0;34m.\u001b[0m\u001b[0mfit\u001b[0m\u001b[0;34m(\u001b[0m\u001b[0;34m[\u001b[0m\u001b[0mtrain_claims_X\u001b[0m\u001b[0;34m,\u001b[0m \u001b[0mtrain_evidences_X\u001b[0m\u001b[0;34m]\u001b[0m\u001b[0;34m,\u001b[0m \u001b[0mtrain_labels_y\u001b[0m\u001b[0;34m,\u001b[0m \u001b[0mbatch_size\u001b[0m\u001b[0;34m=\u001b[0m\u001b[0;36m1024\u001b[0m\u001b[0;34m,\u001b[0m \u001b[0mshuffle\u001b[0m\u001b[0;34m=\u001b[0m\u001b[0;32mFalse\u001b[0m\u001b[0;34m,\u001b[0m \u001b[0mepochs\u001b[0m\u001b[0;34m=\u001b[0m\u001b[0;36m10\u001b[0m\u001b[0;34m,\u001b[0m \u001b[0mvalidation_data\u001b[0m\u001b[0;34m=\u001b[0m\u001b[0;34m(\u001b[0m\u001b[0;34m[\u001b[0m\u001b[0mval_claims_X\u001b[0m\u001b[0;34m,\u001b[0m \u001b[0mval_evidences_X\u001b[0m\u001b[0;34m]\u001b[0m\u001b[0;34m,\u001b[0m \u001b[0mval_labels_y\u001b[0m\u001b[0;34m)\u001b[0m\u001b[0;34m)\u001b[0m\u001b[0;34m\u001b[0m\u001b[0;34m\u001b[0m\u001b[0m\n\u001b[0m",
            "\u001b[0;32m/usr/local/lib/python3.7/dist-packages/keras/utils/traceback_utils.py\u001b[0m in \u001b[0;36merror_handler\u001b[0;34m(*args, **kwargs)\u001b[0m\n\u001b[1;32m     65\u001b[0m     \u001b[0;32mexcept\u001b[0m \u001b[0mException\u001b[0m \u001b[0;32mas\u001b[0m \u001b[0me\u001b[0m\u001b[0;34m:\u001b[0m  \u001b[0;31m# pylint: disable=broad-except\u001b[0m\u001b[0;34m\u001b[0m\u001b[0;34m\u001b[0m\u001b[0m\n\u001b[1;32m     66\u001b[0m       \u001b[0mfiltered_tb\u001b[0m \u001b[0;34m=\u001b[0m \u001b[0m_process_traceback_frames\u001b[0m\u001b[0;34m(\u001b[0m\u001b[0me\u001b[0m\u001b[0;34m.\u001b[0m\u001b[0m__traceback__\u001b[0m\u001b[0;34m)\u001b[0m\u001b[0;34m\u001b[0m\u001b[0;34m\u001b[0m\u001b[0m\n\u001b[0;32m---> 67\u001b[0;31m       \u001b[0;32mraise\u001b[0m \u001b[0me\u001b[0m\u001b[0;34m.\u001b[0m\u001b[0mwith_traceback\u001b[0m\u001b[0;34m(\u001b[0m\u001b[0mfiltered_tb\u001b[0m\u001b[0;34m)\u001b[0m \u001b[0;32mfrom\u001b[0m \u001b[0;32mNone\u001b[0m\u001b[0;34m\u001b[0m\u001b[0;34m\u001b[0m\u001b[0m\n\u001b[0m\u001b[1;32m     68\u001b[0m     \u001b[0;32mfinally\u001b[0m\u001b[0;34m:\u001b[0m\u001b[0;34m\u001b[0m\u001b[0;34m\u001b[0m\u001b[0m\n\u001b[1;32m     69\u001b[0m       \u001b[0;32mdel\u001b[0m \u001b[0mfiltered_tb\u001b[0m\u001b[0;34m\u001b[0m\u001b[0;34m\u001b[0m\u001b[0m\n",
            "\u001b[0;32m/usr/local/lib/python3.7/dist-packages/tensorflow/python/framework/func_graph.py\u001b[0m in \u001b[0;36mautograph_handler\u001b[0;34m(*args, **kwargs)\u001b[0m\n\u001b[1;32m   1127\u001b[0m           \u001b[0;32mexcept\u001b[0m \u001b[0mException\u001b[0m \u001b[0;32mas\u001b[0m \u001b[0me\u001b[0m\u001b[0;34m:\u001b[0m  \u001b[0;31m# pylint:disable=broad-except\u001b[0m\u001b[0;34m\u001b[0m\u001b[0;34m\u001b[0m\u001b[0m\n\u001b[1;32m   1128\u001b[0m             \u001b[0;32mif\u001b[0m \u001b[0mhasattr\u001b[0m\u001b[0;34m(\u001b[0m\u001b[0me\u001b[0m\u001b[0;34m,\u001b[0m \u001b[0;34m\"ag_error_metadata\"\u001b[0m\u001b[0;34m)\u001b[0m\u001b[0;34m:\u001b[0m\u001b[0;34m\u001b[0m\u001b[0;34m\u001b[0m\u001b[0m\n\u001b[0;32m-> 1129\u001b[0;31m               \u001b[0;32mraise\u001b[0m \u001b[0me\u001b[0m\u001b[0;34m.\u001b[0m\u001b[0mag_error_metadata\u001b[0m\u001b[0;34m.\u001b[0m\u001b[0mto_exception\u001b[0m\u001b[0;34m(\u001b[0m\u001b[0me\u001b[0m\u001b[0;34m)\u001b[0m\u001b[0;34m\u001b[0m\u001b[0;34m\u001b[0m\u001b[0m\n\u001b[0m\u001b[1;32m   1130\u001b[0m             \u001b[0;32melse\u001b[0m\u001b[0;34m:\u001b[0m\u001b[0;34m\u001b[0m\u001b[0;34m\u001b[0m\u001b[0m\n\u001b[1;32m   1131\u001b[0m               \u001b[0;32mraise\u001b[0m\u001b[0;34m\u001b[0m\u001b[0;34m\u001b[0m\u001b[0m\n",
            "\u001b[0;31mValueError\u001b[0m: in user code:\n\n    File \"/usr/local/lib/python3.7/dist-packages/keras/engine/training.py\", line 878, in train_function  *\n        return step_function(self, iterator)\n    File \"/usr/local/lib/python3.7/dist-packages/keras/engine/training.py\", line 867, in step_function  **\n        outputs = model.distribute_strategy.run(run_step, args=(data,))\n    File \"/usr/local/lib/python3.7/dist-packages/keras/engine/training.py\", line 860, in run_step  **\n        outputs = model.train_step(data)\n    File \"/usr/local/lib/python3.7/dist-packages/keras/engine/training.py\", line 810, in train_step\n        y, y_pred, sample_weight, regularization_losses=self.losses)\n    File \"/usr/local/lib/python3.7/dist-packages/keras/engine/compile_utils.py\", line 201, in __call__\n        loss_value = loss_obj(y_t, y_p, sample_weight=sw)\n    File \"/usr/local/lib/python3.7/dist-packages/keras/losses.py\", line 141, in __call__\n        losses = call_fn(y_true, y_pred)\n    File \"/usr/local/lib/python3.7/dist-packages/keras/losses.py\", line 245, in call  **\n        return ag_fn(y_true, y_pred, **self._fn_kwargs)\n    File \"/usr/local/lib/python3.7/dist-packages/keras/losses.py\", line 1665, in categorical_crossentropy\n        y_true, y_pred, from_logits=from_logits, axis=axis)\n    File \"/usr/local/lib/python3.7/dist-packages/keras/backend.py\", line 4994, in categorical_crossentropy\n        target.shape.assert_is_compatible_with(output.shape)\n\n    ValueError: Shapes (None, 2) and (None, 3) are incompatible\n"
          ]
        }
      ],
      "source": [
        "model_RNN_last.compile(\n",
        "    loss=keras.losses.CategoricalCrossentropy(),\n",
        "    optimizer= adamopt,\n",
        "    metrics=metrics\n",
        ")\n",
        "\n",
        "RNN_last_history = model_RNN_last.fit([train_claims_X, train_evidences_X], train_labels_y, batch_size=1024, shuffle=False, epochs=10, validation_data=([val_claims_X, val_evidences_X], val_labels_y))"
      ]
    },
    {
      "cell_type": "markdown",
      "metadata": {
        "id": "GByFQN-eSWuY"
      },
      "source": [
        "##2nd model training"
      ]
    },
    {
      "cell_type": "code",
      "execution_count": null,
      "metadata": {
        "id": "7NgRKuwgG4tz"
      },
      "outputs": [],
      "source": [
        "model_RNN_mean.compile(\n",
        "    loss=keras.losses.BinaryCrossentropy(),\n",
        "    optimizer=keras.optimizers.Adam(),\n",
        "    metrics=metrics\n",
        ")\n",
        "\n",
        "RNN_mean_history = model_RNN_mean.fit([train_claims_X, train_evidences_X], train_labels_y, batch_size=1024, shuffle=True, epochs=10, validation_data=([val_claims_X, val_evidences_X], val_labels_y))"
      ]
    },
    {
      "cell_type": "markdown",
      "source": [
        "loss: 0.3243 - tp: 106566.0000 - fp: 16242.0000 - tn: 105498.0000 - fn: 15174.0000 - accuracy: 0.8710 - auc: 0.9342 - val_loss: 0.6672 - val_tp: 5183.0000 - val_fp: 2038.0000 - val_tn: 5127.0000 - val_fn: 1982.0000 - val_accuracy: 0.7195 - val_auc: 0.7697\n"
      ],
      "metadata": {
        "id": "5rTyynmp3KkL"
      }
    },
    {
      "cell_type": "markdown",
      "metadata": {
        "id": "hKdH9x5yerJW"
      },
      "source": [
        "##3rd model training"
      ]
    },
    {
      "cell_type": "code",
      "source": [
        "mergings = ['mean', 'sum', 'concat']"
      ],
      "metadata": {
        "id": "m1sVOjDV5p3d"
      },
      "execution_count": 73,
      "outputs": []
    },
    {
      "cell_type": "markdown",
      "source": [
        "### Mean Merging"
      ],
      "metadata": {
        "id": "UCRDQj-yAEpe"
      }
    },
    {
      "cell_type": "code",
      "execution_count": 200,
      "metadata": {
        "id": "JayR8ze5eu0n",
        "colab": {
          "base_uri": "https://localhost:8080/",
          "height": 1000
        },
        "outputId": "db178c6e-2629-4d31-a8ce-0671c0331ceb"
      },
      "outputs": [
        {
          "output_type": "stream",
          "name": "stdout",
          "text": [
            "Model: \"mlp_mean\"\n",
            "__________________________________________________________________________________________________\n",
            " Layer (type)                   Output Shape         Param #     Connected to                     \n",
            "==================================================================================================\n",
            " input_70 (InputLayer)          [(None, 65)]         0           []                               \n",
            "                                                                                                  \n",
            " input_69 (InputLayer)          [(None, 209)]        0           []                               \n",
            "                                                                                                  \n",
            " embedding_68 (Embedding)       (None, 65, 100)      2480300     ['input_70[0][0]']               \n",
            "                                                                                                  \n",
            " embedding_69 (Embedding)       (None, 209, 100)     3796900     ['input_69[0][0]']               \n",
            "                                                                                                  \n",
            " tf.reshape_62 (TFOpLambda)     (None, 6500)         0           ['embedding_68[0][0]']           \n",
            "                                                                                                  \n",
            " tf.reshape_63 (TFOpLambda)     (None, 20900)        0           ['embedding_69[0][0]']           \n",
            "                                                                                                  \n",
            " dense_87 (Dense)               (None, 100)          650100      ['tf.reshape_62[0][0]']          \n",
            "                                                                                                  \n",
            " dense_88 (Dense)               (None, 100)          2090100     ['tf.reshape_63[0][0]']          \n",
            "                                                                                                  \n",
            " average_27 (Average)           (None, 100)          0           ['dense_87[0][0]',               \n",
            "                                                                  'dense_88[0][0]']               \n",
            "                                                                                                  \n",
            " dot_21 (Dot)                   (None, 1)            0           ['dense_87[0][0]',               \n",
            "                                                                  'dense_88[0][0]']               \n",
            "                                                                                                  \n",
            " concatenate_23 (Concatenate)   (None, 101)          0           ['average_27[0][0]',             \n",
            "                                                                  'dot_21[0][0]']                 \n",
            "                                                                                                  \n",
            " dense_89 (Dense)               (None, 2)            204         ['concatenate_23[0][0]']         \n",
            "                                                                                                  \n",
            "==================================================================================================\n",
            "Total params: 9,017,604\n",
            "Trainable params: 9,017,604\n",
            "Non-trainable params: 0\n",
            "__________________________________________________________________________________________________\n"
          ]
        },
        {
          "output_type": "execute_result",
          "data": {
            "image/png": "[encoded data removed]",
            "text/plain": [
              "<IPython.core.display.Image object>"
            ]
          },
          "metadata": {},
          "execution_count": 200
        }
      ],
      "source": [
        "model_MLP_mean = create_mlp_model(mergings[0])\n",
        "model_MLP_mean.compile(\n",
        "    loss=keras.losses.BinaryCrossentropy(),\n",
        "    optimizer=adamopt,\n",
        "    metrics=metrics\n",
        ")\n",
        "\n",
        "model_MLP_mean.summary()\n",
        "keras.utils.plot_model(model_MLP_mean, \"MLP_mean.png\")"
      ]
    },
    {
      "cell_type": "code",
      "source": [
        "mean_MLP_history = model_MLP_mean.fit([train_claims_X, train_evidences_X], train_labels_y, batch_size=512, callbacks=[es_callback], shuffle=True, epochs=15, validation_data=([val_claims_X, val_evidences_X], val_labels_y))"
      ],
      "metadata": {
        "id": "Qvn_0UQ8-c5B"
      },
      "execution_count": null,
      "outputs": []
    },
    {
      "cell_type": "markdown",
      "source": [
        "Batch 512 - Epoch 15 - 63s 265ms/step \n",
        "- **train** \n",
        "  - loss: 0.3023 \n",
        "  - accuracy: 0.8754 \n",
        "  - auc: 0.9445\n",
        "  - f1_score: 0.8265\n",
        "  - cohen_kappa: -0.5487\n",
        "- **val** \n",
        "  - loss: 0.5790 \n",
        "  - val_accuracy: 0.7274 \n",
        "  - val_auc: 0.8073 \n",
        "  - val_f1_score: 0.7165 \n",
        "  - val_cohen_kappa: -0.9260"
      ],
      "metadata": {
        "id": "J_OF_S21DNiv"
      }
    },
    {
      "cell_type": "markdown",
      "source": [
        "### Sum Merging"
      ],
      "metadata": {
        "id": "nDhuWKJJALxQ"
      }
    },
    {
      "cell_type": "code",
      "execution_count": 204,
      "metadata": {
        "colab": {
          "base_uri": "https://localhost:8080/",
          "height": 1000
        },
        "outputId": "79c13027-ee1e-4f2e-e075-811957613cc0",
        "id": "mNVe_KzRAaEQ"
      },
      "outputs": [
        {
          "output_type": "stream",
          "name": "stdout",
          "text": [
            "Model: \"mlp_sum\"\n",
            "__________________________________________________________________________________________________\n",
            " Layer (type)                   Output Shape         Param #     Connected to                     \n",
            "==================================================================================================\n",
            " input_72 (InputLayer)          [(None, 65)]         0           []                               \n",
            "                                                                                                  \n",
            " input_71 (InputLayer)          [(None, 209)]        0           []                               \n",
            "                                                                                                  \n",
            " embedding_70 (Embedding)       (None, 65, 100)      2480300     ['input_72[0][0]']               \n",
            "                                                                                                  \n",
            " embedding_71 (Embedding)       (None, 209, 100)     3796900     ['input_71[0][0]']               \n",
            "                                                                                                  \n",
            " tf.reshape_64 (TFOpLambda)     (None, 6500)         0           ['embedding_70[0][0]']           \n",
            "                                                                                                  \n",
            " tf.reshape_65 (TFOpLambda)     (None, 20900)        0           ['embedding_71[0][0]']           \n",
            "                                                                                                  \n",
            " dense_90 (Dense)               (None, 100)          650100      ['tf.reshape_64[0][0]']          \n",
            "                                                                                                  \n",
            " dense_91 (Dense)               (None, 100)          2090100     ['tf.reshape_65[0][0]']          \n",
            "                                                                                                  \n",
            " add_4 (Add)                    (None, 100)          0           ['dense_90[0][0]',               \n",
            "                                                                  'dense_91[0][0]']               \n",
            "                                                                                                  \n",
            " dot_22 (Dot)                   (None, 1)            0           ['dense_90[0][0]',               \n",
            "                                                                  'dense_91[0][0]']               \n",
            "                                                                                                  \n",
            " concatenate_24 (Concatenate)   (None, 101)          0           ['add_4[0][0]',                  \n",
            "                                                                  'dot_22[0][0]']                 \n",
            "                                                                                                  \n",
            " dense_92 (Dense)               (None, 2)            204         ['concatenate_24[0][0]']         \n",
            "                                                                                                  \n",
            "==================================================================================================\n",
            "Total params: 9,017,604\n",
            "Trainable params: 9,017,604\n",
            "Non-trainable params: 0\n",
            "__________________________________________________________________________________________________\n"
          ]
        },
        {
          "output_type": "execute_result",
          "data": {
            "image/png": "[encoded data removed]",
            "text/plain": [
              "<IPython.core.display.Image object>"
            ]
          },
          "metadata": {},
          "execution_count": 204
        }
      ],
      "source": [
        "model_MLP_sum = create_mlp_model(mergings[1])\n",
        "model_MLP_sum.compile(\n",
        "    loss=keras.losses.BinaryCrossentropy(),\n",
        "    optimizer=adamopt,\n",
        "    metrics=metrics\n",
        ")\n",
        "\n",
        "model_MLP_sum.summary()\n",
        "keras.utils.plot_model(model_MLP_sum, \"MLP_sum.png\")"
      ]
    },
    {
      "cell_type": "code",
      "source": [
        "sum_MLP_history = model_MLP_sum.fit([train_claims_X, train_evidences_X], train_labels_y, batch_size=512, callbacks=[es_callback], shuffle=True, epochs=15, validation_data=([val_claims_X, val_evidences_X], val_labels_y))"
      ],
      "metadata": {
        "colab": {
          "base_uri": "https://localhost:8080/"
        },
        "outputId": "5ac79f26-230d-48dd-adc0-d0d4f2d07d67",
        "id": "cI-yFO2nAmXC"
      },
      "execution_count": 209,
      "outputs": [
        {
          "output_type": "stream",
          "name": "stdout",
          "text": [
            "Epoch 1/15\n",
            "238/238 [==============================] - 67s 283ms/step - loss: 0.3400 - tp: 104050.0000 - fp: 17690.0000 - tn: 104050.0000 - fn: 17690.0000 - accuracy: 0.8547 - auc: 0.9276 - f1_score: 0.7954 - cohen_kappa: -0.5507 - val_loss: 0.5171 - val_tp: 5309.0000 - val_fp: 1856.0000 - val_tn: 5309.0000 - val_fn: 1856.0000 - val_accuracy: 0.7410 - val_auc: 0.8235 - val_f1_score: 0.7401 - val_cohen_kappa: -0.9937\n",
            "Epoch 2/15\n",
            "238/238 [==============================] - 67s 283ms/step - loss: 0.3231 - tp: 105093.0000 - fp: 16647.0000 - tn: 105093.0000 - fn: 16647.0000 - accuracy: 0.8633 - auc: 0.9348 - f1_score: 0.8084 - cohen_kappa: -0.5546 - val_loss: 0.6507 - val_tp: 5041.0000 - val_fp: 2124.0000 - val_tn: 5041.0000 - val_fn: 2124.0000 - val_accuracy: 0.7036 - val_auc: 0.7826 - val_f1_score: 0.6822 - val_cohen_kappa: -0.8741\n",
            "Epoch 3/15\n",
            "238/238 [==============================] - 68s 284ms/step - loss: 0.3295 - tp: 104850.0000 - fp: 16890.0000 - tn: 104850.0000 - fn: 16890.0000 - accuracy: 0.8613 - auc: 0.9317 - f1_score: 0.8083 - cohen_kappa: -0.5672 - val_loss: 0.5269 - val_tp: 5324.0000 - val_fp: 1841.0000 - val_tn: 5324.0000 - val_fn: 1841.0000 - val_accuracy: 0.7431 - val_auc: 0.8242 - val_f1_score: 0.7404 - val_cohen_kappa: -0.9800\n",
            "Epoch 4/15\n",
            "238/238 [==============================] - 67s 282ms/step - loss: 0.3304 - tp: 104813.0000 - fp: 16927.0000 - tn: 104813.0000 - fn: 16927.0000 - accuracy: 0.8610 - auc: 0.9311 - f1_score: 0.8095 - cohen_kappa: -0.5749 - val_loss: 0.6785 - val_tp: 4573.0000 - val_fp: 2592.0000 - val_tn: 4573.0000 - val_fn: 2592.0000 - val_accuracy: 0.6382 - val_auc: 0.7292 - val_f1_score: 0.6060 - val_cohen_kappa: -0.8488\n"
          ]
        }
      ]
    },
    {
      "cell_type": "markdown",
      "source": [
        "Batch 512 - Epochs 15 - 63s 265ms/step \n",
        "- **train** \n",
        "  - loss: 0.3304 \n",
        "  - accuracy: 0.8610\n",
        "  - auc: 0.9311\n",
        "  - f1_score: 0.8095\n",
        "  - cohen_kappa: -0.5749\n",
        "- **val** \n",
        "  - loss: 0.5171\n",
        "  - val_accuracy: 0.7431 \n",
        "  - val_auc: 0.8235 \n",
        "  - val_f1_score: 0.7404 \n",
        "  - val_cohen_kappa: -0.8488"
      ],
      "metadata": {
        "id": "KVg5U6nP6t4j"
      }
    },
    {
      "cell_type": "markdown",
      "source": [
        "### Concatenation Merging"
      ],
      "metadata": {
        "id": "d90Nmcp2AOkZ"
      }
    },
    {
      "cell_type": "code",
      "execution_count": 210,
      "metadata": {
        "colab": {
          "base_uri": "https://localhost:8080/",
          "height": 1000
        },
        "id": "kmsYHUWBAx7A",
        "outputId": "a8af88fa-edd6-4b6a-9d25-698a621f17bd"
      },
      "outputs": [
        {
          "output_type": "stream",
          "name": "stdout",
          "text": [
            "Model: \"mlp_concat\"\n",
            "__________________________________________________________________________________________________\n",
            " Layer (type)                   Output Shape         Param #     Connected to                     \n",
            "==================================================================================================\n",
            " input_74 (InputLayer)          [(None, 65)]         0           []                               \n",
            "                                                                                                  \n",
            " input_73 (InputLayer)          [(None, 209)]        0           []                               \n",
            "                                                                                                  \n",
            " embedding_72 (Embedding)       (None, 65, 100)      2480300     ['input_74[0][0]']               \n",
            "                                                                                                  \n",
            " embedding_73 (Embedding)       (None, 209, 100)     3796900     ['input_73[0][0]']               \n",
            "                                                                                                  \n",
            " tf.reshape_66 (TFOpLambda)     (None, 6500)         0           ['embedding_72[0][0]']           \n",
            "                                                                                                  \n",
            " tf.reshape_67 (TFOpLambda)     (None, 20900)        0           ['embedding_73[0][0]']           \n",
            "                                                                                                  \n",
            " dense_93 (Dense)               (None, 100)          650100      ['tf.reshape_66[0][0]']          \n",
            "                                                                                                  \n",
            " dense_94 (Dense)               (None, 100)          2090100     ['tf.reshape_67[0][0]']          \n",
            "                                                                                                  \n",
            " concatenate_25 (Concatenate)   (None, 200)          0           ['dense_93[0][0]',               \n",
            "                                                                  'dense_94[0][0]']               \n",
            "                                                                                                  \n",
            " dot_23 (Dot)                   (None, 1)            0           ['dense_93[0][0]',               \n",
            "                                                                  'dense_94[0][0]']               \n",
            "                                                                                                  \n",
            " concatenate_26 (Concatenate)   (None, 201)          0           ['concatenate_25[0][0]',         \n",
            "                                                                  'dot_23[0][0]']                 \n",
            "                                                                                                  \n",
            " dense_95 (Dense)               (None, 2)            404         ['concatenate_26[0][0]']         \n",
            "                                                                                                  \n",
            "==================================================================================================\n",
            "Total params: 9,017,804\n",
            "Trainable params: 9,017,804\n",
            "Non-trainable params: 0\n",
            "__________________________________________________________________________________________________\n"
          ]
        },
        {
          "output_type": "execute_result",
          "data": {
            "image/png": "[encoded data removed]",
            "text/plain": [
              "<IPython.core.display.Image object>"
            ]
          },
          "metadata": {},
          "execution_count": 210
        }
      ],
      "source": [
        "model_MLP_concat = create_mlp_model(mergings[2])\n",
        "model_MLP_concat.compile(\n",
        "    loss=keras.losses.BinaryCrossentropy(),\n",
        "    optimizer=adamopt,\n",
        "    metrics=metrics\n",
        ")\n",
        "\n",
        "model_MLP_concat.summary()\n",
        "keras.utils.plot_model(model_MLP_concat, \"MLP_concat.png\")"
      ]
    },
    {
      "cell_type": "code",
      "source": [
        "concat_MLP_history = model_MLP_concat.fit([train_claims_X, train_evidences_X], train_labels_y, batch_size=512, callbacks=[es_callback], shuffle=True, epochs=15, validation_data=([val_claims_X, val_evidences_X], val_labels_y))"
      ],
      "metadata": {
        "colab": {
          "base_uri": "https://localhost:8080/"
        },
        "outputId": "13fe157c-b694-4325-c7e8-a86178e99bfe",
        "id": "vFevZtYcAtBs"
      },
      "execution_count": 213,
      "outputs": [
        {
          "output_type": "stream",
          "name": "stdout",
          "text": [
            "Epoch 1/15\n",
            "238/238 [==============================] - 68s 285ms/step - loss: 0.3624 - tp: 102875.0000 - fp: 18865.0000 - tn: 102875.0000 - fn: 18865.0000 - accuracy: 0.8450 - auc: 0.9193 - f1_score: 0.7701 - cohen_kappa: -0.5084 - val_loss: 0.5475 - val_tp: 5144.0000 - val_fp: 2021.0000 - val_tn: 5144.0000 - val_fn: 2021.0000 - val_accuracy: 0.7179 - val_auc: 0.8027 - val_f1_score: 0.7062 - val_cohen_kappa: -0.9232\n",
            "Epoch 2/15\n",
            "238/238 [==============================] - 67s 280ms/step - loss: 0.3584 - tp: 103228.0000 - fp: 18512.0000 - tn: 103228.0000 - fn: 18512.0000 - accuracy: 0.8479 - auc: 0.9199 - f1_score: 0.7808 - cohen_kappa: -0.5311 - val_loss: 0.6340 - val_tp: 4933.0000 - val_fp: 2232.0000 - val_tn: 4933.0000 - val_fn: 2232.0000 - val_accuracy: 0.6885 - val_auc: 0.7796 - val_f1_score: 0.6625 - val_cohen_kappa: -0.8569\n",
            "Epoch 3/15\n",
            "238/238 [==============================] - 67s 282ms/step - loss: 0.3621 - tp: 103304.0000 - fp: 18436.0000 - tn: 103304.0000 - fn: 18436.0000 - accuracy: 0.8486 - auc: 0.9202 - f1_score: 0.7804 - cohen_kappa: -0.5262 - val_loss: 0.6093 - val_tp: 4893.0000 - val_fp: 2272.0000 - val_tn: 4893.0000 - val_fn: 2272.0000 - val_accuracy: 0.6829 - val_auc: 0.7783 - val_f1_score: 0.6541 - val_cohen_kappa: -0.8463\n",
            "Epoch 4/15\n",
            "238/238 [==============================] - 67s 282ms/step - loss: 0.3367 - tp: 104378.0000 - fp: 17362.0000 - tn: 104378.0000 - fn: 17362.0000 - accuracy: 0.8574 - auc: 0.9333 - f1_score: 0.7891 - cohen_kappa: -0.5108 - val_loss: 0.6783 - val_tp: 4885.0000 - val_fp: 2280.0000 - val_tn: 4885.0000 - val_fn: 2280.0000 - val_accuracy: 0.6818 - val_auc: 0.7693 - val_f1_score: 0.6508 - val_cohen_kappa: -0.8372\n"
          ]
        }
      ]
    },
    {
      "cell_type": "markdown",
      "source": [
        "Batch 512 - Epoch 10 - 63s 282ms/step \n",
        "- **train** \n",
        "  - loss: 0.3624\n",
        "  - accuracy: 0.8450\n",
        "  - auc: 0.9193\n",
        "  - f1_score: 0.7701\n",
        "  - cohen_kappa: -0.5108\n",
        "- **val** \n",
        "  - loss: 0.5475\n",
        "  - val_accuracy: 0.7179\n",
        "  - val_auc: 0.8073 \n",
        "  - val_f1_score: 0.7062 \n",
        "  - val_cohen_kappa: -0.9232"
      ],
      "metadata": {
        "id": "qXksqeD2_ix2"
      }
    },
    {
      "cell_type": "markdown",
      "metadata": {
        "id": "HZhOfAgDTXAT"
      },
      "source": [
        "##4th model training"
      ]
    },
    {
      "cell_type": "code",
      "execution_count": null,
      "metadata": {
        "id": "YXFEvJxDTcS5"
      },
      "outputs": [],
      "source": [
        "model_bag_of_words.compile(\n",
        "    loss=keras.losses.BinaryCrossentropy(),\n",
        "    optimizer=keras.optimizers.Adam(),\n",
        "    metrics=metrics\n",
        ")\n",
        "\n",
        "bag_of_words_history = model_bag_of_words.fit([train_claims_X, train_evidences_X], train_labels_y, batch_size=128, shuffle=True, epochs=15, validation_data=([val_claims_X, val_evidences_X], val_labels_y))"
      ]
    },
    {
      "cell_type": "markdown",
      "metadata": {
        "id": "visESLwlk8Om"
      },
      "source": [
        "#Model Evaluation"
      ]
    },
    {
      "cell_type": "code",
      "execution_count": 74,
      "metadata": {
        "id": "VwnjeyyB9Vfi"
      },
      "outputs": [],
      "source": [
        "target_names = ['SUPPORT', 'REFUTES'] "
      ]
    },
    {
      "cell_type": "markdown",
      "metadata": {
        "id": "RWfVYyGwlQc8"
      },
      "source": [
        "##RNN last state\n"
      ]
    },
    {
      "cell_type": "code",
      "execution_count": null,
      "metadata": {
        "id": "t5O5ZLwYlNPS"
      },
      "outputs": [],
      "source": [
        "ev = model_RNN_mean.evaluate((test_claims_X, test_evidences_X), test_labels_y, verbose=1)"
      ]
    },
    {
      "cell_type": "markdown",
      "metadata": {
        "id": "_95YJ-95la7D"
      },
      "source": [
        "##RNN mean state"
      ]
    },
    {
      "cell_type": "code",
      "execution_count": null,
      "metadata": {
        "id": "5V6r4LvOlPLF"
      },
      "outputs": [],
      "source": [
        "ev = model_RNN_mean.evaluate((test_claims_X, test_evidences_X), test_labels_y, verbose=1)"
      ]
    },
    {
      "cell_type": "markdown",
      "metadata": {
        "id": "XOysgawBleEv"
      },
      "source": [
        "##MLP"
      ]
    },
    {
      "cell_type": "markdown",
      "source": [
        "### Mean"
      ],
      "metadata": {
        "id": "cPvfkxRaAXsC"
      }
    },
    {
      "cell_type": "code",
      "execution_count": 214,
      "metadata": {
        "id": "5nNmHZLxlP2g"
      },
      "outputs": [],
      "source": [
        "ev_MLP_mean = model_MLP_mean.predict((test_claims_X, test_evidences_X))  \n",
        "pred_mean = np.around(ev_MLP_mean)"
      ]
    },
    {
      "cell_type": "markdown",
      "metadata": {
        "id": "cww06bOtFyS9"
      },
      "source": [
        "Multi-input classification evaluation"
      ]
    },
    {
      "cell_type": "code",
      "execution_count": 216,
      "metadata": {
        "id": "RC9EMUKz9AYG",
        "colab": {
          "base_uri": "https://localhost:8080/"
        },
        "outputId": "ef0905fd-07d5-4329-a40c-601f4c9216e7"
      },
      "outputs": [
        {
          "output_type": "stream",
          "name": "stdout",
          "text": [
            "              precision    recall  f1-score   support\n",
            "\n",
            "     SUPPORT       0.65      0.91      0.76      3606\n",
            "     REFUTES       0.85      0.51      0.64      3583\n",
            "\n",
            "   micro avg       0.71      0.71      0.71      7189\n",
            "   macro avg       0.75      0.71      0.70      7189\n",
            "weighted avg       0.75      0.71      0.70      7189\n",
            " samples avg       0.71      0.71      0.71      7189\n",
            "\n"
          ]
        }
      ],
      "source": [
        "print(classification_report(test_labels_y, pred_mean, target_names=target_names))"
      ]
    },
    {
      "cell_type": "markdown",
      "metadata": {
        "id": "cySPf7GsFte7"
      },
      "source": [
        "Claim verification evaluation"
      ]
    },
    {
      "cell_type": "code",
      "execution_count": null,
      "metadata": {
        "id": "gRMgE99nF1lB"
      },
      "outputs": [],
      "source": [
        ""
      ]
    },
    {
      "cell_type": "markdown",
      "source": [
        "### Sum"
      ],
      "metadata": {
        "id": "lLcROXm7AhHn"
      }
    },
    {
      "cell_type": "code",
      "execution_count": 218,
      "metadata": {
        "id": "60HObtrvAkMM"
      },
      "outputs": [],
      "source": [
        "ev_MLP_sum = model_MLP_sum.predict((test_claims_X, test_evidences_X))  \n",
        "pred_sum = np.around(ev_MLP_sum)"
      ]
    },
    {
      "cell_type": "markdown",
      "metadata": {
        "id": "kECy1ms2AkMN"
      },
      "source": [
        "Multi-input classification evaluation"
      ]
    },
    {
      "cell_type": "code",
      "execution_count": 219,
      "metadata": {
        "colab": {
          "base_uri": "https://localhost:8080/"
        },
        "outputId": "86c6dae7-150a-48a5-d966-e23fe348c71e",
        "id": "dc1FgUQmAkMO"
      },
      "outputs": [
        {
          "output_type": "stream",
          "name": "stdout",
          "text": [
            "              precision    recall  f1-score   support\n",
            "\n",
            "     SUPPORT       0.83      0.32      0.46      3606\n",
            "     REFUTES       0.58      0.94      0.71      3583\n",
            "\n",
            "   micro avg       0.62      0.62      0.62      7189\n",
            "   macro avg       0.70      0.63      0.59      7189\n",
            "weighted avg       0.70      0.62      0.59      7189\n",
            " samples avg       0.62      0.62      0.62      7189\n",
            "\n"
          ]
        }
      ],
      "source": [
        "print(classification_report(test_labels_y, pred_sum, target_names=target_names))"
      ]
    },
    {
      "cell_type": "markdown",
      "metadata": {
        "id": "KL54JxgyAqdu"
      },
      "source": [
        "Claim verification evaluation"
      ]
    },
    {
      "cell_type": "code",
      "execution_count": null,
      "metadata": {
        "id": "AnNtHxoKAqdv"
      },
      "outputs": [],
      "source": [
        ""
      ]
    },
    {
      "cell_type": "markdown",
      "source": [
        "### Concatenation"
      ],
      "metadata": {
        "id": "mOhliQfVAiK-"
      }
    },
    {
      "cell_type": "code",
      "execution_count": 221,
      "metadata": {
        "id": "Z4SNhZQeAmHs"
      },
      "outputs": [],
      "source": [
        "ev_MLP_concat = model_MLP_concat.predict((test_claims_X, test_evidences_X))  \n",
        "pred_concat = np.around(ev_MLP_concat)"
      ]
    },
    {
      "cell_type": "markdown",
      "metadata": {
        "id": "HuoJtcdyAmHt"
      },
      "source": [
        "Multi-input classification evaluation"
      ]
    },
    {
      "cell_type": "code",
      "execution_count": 222,
      "metadata": {
        "colab": {
          "base_uri": "https://localhost:8080/"
        },
        "outputId": "accf4f2d-b707-4127-c39c-741a561b7af5",
        "id": "ShfUkVTgAmHu"
      },
      "outputs": [
        {
          "output_type": "stream",
          "name": "stdout",
          "text": [
            "              precision    recall  f1-score   support\n",
            "\n",
            "     SUPPORT       0.61      0.97      0.74      3606\n",
            "     REFUTES       0.92      0.37      0.52      3583\n",
            "\n",
            "   micro avg       0.67      0.67      0.67      7189\n",
            "   macro avg       0.76      0.67      0.63      7189\n",
            "weighted avg       0.76      0.67      0.64      7189\n",
            " samples avg       0.67      0.67      0.67      7189\n",
            "\n"
          ]
        }
      ],
      "source": [
        "print(classification_report(test_labels_y, pred_concat, target_names=target_names))"
      ]
    },
    {
      "cell_type": "markdown",
      "metadata": {
        "id": "udIkqOCzArAN"
      },
      "source": [
        "Claim verification evaluation"
      ]
    },
    {
      "cell_type": "code",
      "execution_count": null,
      "metadata": {
        "id": "Zdb_O8Q-ArAO"
      },
      "outputs": [],
      "source": [
        ""
      ]
    },
    {
      "cell_type": "markdown",
      "metadata": {
        "id": "Pg8p4TgVlgXT"
      },
      "source": [
        "###Bag of words"
      ]
    },
    {
      "cell_type": "code",
      "execution_count": null,
      "metadata": {
        "id": "NQdYvq6Ak_bl"
      },
      "outputs": [],
      "source": [
        "ev_bag_of_words = model_bag_of_words.predict((test_claims_X, test_evidences_X))                                                                                                                                                                           \n",
        "pred_bag = np.around(ev_bag_of_words)"
      ]
    },
    {
      "cell_type": "code",
      "execution_count": null,
      "metadata": {
        "id": "mozz_2MO9aFr"
      },
      "outputs": [],
      "source": [
        "print(classification_report(test_labels_y, pred_bag, target_names=target_names))"
      ]
    }
  ],
  "metadata": {
    "colab": {
      "collapsed_sections": [
        "OWFUj3pN5j_n",
        "Dm4IB81X5shY",
        "W8nJS0oKd5Sg",
        "nt1jMDILJql6",
        "VTGqD9oKdSTn",
        "jZ4kki1fTQ3S",
        "oLeA5t3tYayh",
        "_6ZA4eeYIAAU",
        "vIb1DZ8uTS_R",
        "GByFQN-eSWuY",
        "UCRDQj-yAEpe",
        "nDhuWKJJALxQ",
        "HZhOfAgDTXAT",
        "RWfVYyGwlQc8",
        "_95YJ-95la7D"
      ],
      "name": "local_Assignment_2_avg.ipynb",
      "provenance": [],
      "include_colab_link": true
    },
    "kernelspec": {
      "display_name": "Python 3",
      "name": "python3"
    }
  },
  "nbformat": 4,
  "nbformat_minor": 0
}