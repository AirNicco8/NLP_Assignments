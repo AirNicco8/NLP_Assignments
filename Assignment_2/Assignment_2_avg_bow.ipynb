{
  "cells": [
    {
      "cell_type": "markdown",
      "metadata": {
        "id": "view-in-github"
      },
      "source": [
        "<a href=\"https://colab.research.google.com/github/AirNicco8/NLP_Assignments/blob/main/Assignment_2/Assignment_2_avg_bow.ipynb\" target=\"_parent\"><img src=\"https://colab.research.google.com/assets/colab-badge.svg\" alt=\"Open In Colab\"/></a>"
      ]
    },
    {
      "cell_type": "markdown",
      "metadata": {
        "id": "O1__yyNNQn6N"
      },
      "source": [
        "This model in particular uses:\n",
        "\n",
        "1. **Sentence Embedding** ->  Compute the sentence embedding as the mean of its token embeddings (bag of vectors).\n",
        "2.  **Input Merging** -> Mean: define the classification input as the mean of evidence and claim sentence embeddings\n",
        "\n"
      ]
    },
    {
      "cell_type": "markdown",
      "metadata": {
        "id": "SKbNqIih5VdB"
      },
      "source": [
        "# Imports"
      ]
    },
    {
      "cell_type": "code",
      "execution_count": null,
      "metadata": {
        "id": "Nmb31h_K4TWl"
      },
      "outputs": [],
      "source": [
        "%load_ext tensorboard"
      ]
    },
    {
      "cell_type": "code",
      "execution_count": null,
      "metadata": {
        "id": "BP0S6fNH4fTx",
        "colab": {
          "base_uri": "https://localhost:8080/"
        },
        "outputId": "1a6d35e8-c64c-4668-b069-4bbb67a2769f"
      },
      "outputs": [
        {
          "output_type": "stream",
          "name": "stdout",
          "text": [
            "Collecting tensorflow-addons\n",
            "  Downloading tensorflow_addons-0.15.0-cp37-cp37m-manylinux_2_12_x86_64.manylinux2010_x86_64.whl (1.1 MB)\n",
            "\u001b[?25l\r\u001b[K     |▎                               | 10 kB 21.5 MB/s eta 0:00:01\r\u001b[K     |▋                               | 20 kB 16.8 MB/s eta 0:00:01\r\u001b[K     |▉                               | 30 kB 11.3 MB/s eta 0:00:01\r\u001b[K     |█▏                              | 40 kB 9.6 MB/s eta 0:00:01\r\u001b[K     |█▌                              | 51 kB 5.6 MB/s eta 0:00:01\r\u001b[K     |█▊                              | 61 kB 5.7 MB/s eta 0:00:01\r\u001b[K     |██                              | 71 kB 5.6 MB/s eta 0:00:01\r\u001b[K     |██▍                             | 81 kB 6.3 MB/s eta 0:00:01\r\u001b[K     |██▋                             | 92 kB 6.3 MB/s eta 0:00:01\r\u001b[K     |███                             | 102 kB 5.3 MB/s eta 0:00:01\r\u001b[K     |███▎                            | 112 kB 5.3 MB/s eta 0:00:01\r\u001b[K     |███▌                            | 122 kB 5.3 MB/s eta 0:00:01\r\u001b[K     |███▉                            | 133 kB 5.3 MB/s eta 0:00:01\r\u001b[K     |████▏                           | 143 kB 5.3 MB/s eta 0:00:01\r\u001b[K     |████▍                           | 153 kB 5.3 MB/s eta 0:00:01\r\u001b[K     |████▊                           | 163 kB 5.3 MB/s eta 0:00:01\r\u001b[K     |█████                           | 174 kB 5.3 MB/s eta 0:00:01\r\u001b[K     |█████▎                          | 184 kB 5.3 MB/s eta 0:00:01\r\u001b[K     |█████▋                          | 194 kB 5.3 MB/s eta 0:00:01\r\u001b[K     |█████▉                          | 204 kB 5.3 MB/s eta 0:00:01\r\u001b[K     |██████▏                         | 215 kB 5.3 MB/s eta 0:00:01\r\u001b[K     |██████▌                         | 225 kB 5.3 MB/s eta 0:00:01\r\u001b[K     |██████▊                         | 235 kB 5.3 MB/s eta 0:00:01\r\u001b[K     |███████                         | 245 kB 5.3 MB/s eta 0:00:01\r\u001b[K     |███████▍                        | 256 kB 5.3 MB/s eta 0:00:01\r\u001b[K     |███████▋                        | 266 kB 5.3 MB/s eta 0:00:01\r\u001b[K     |████████                        | 276 kB 5.3 MB/s eta 0:00:01\r\u001b[K     |████████▎                       | 286 kB 5.3 MB/s eta 0:00:01\r\u001b[K     |████████▌                       | 296 kB 5.3 MB/s eta 0:00:01\r\u001b[K     |████████▉                       | 307 kB 5.3 MB/s eta 0:00:01\r\u001b[K     |█████████                       | 317 kB 5.3 MB/s eta 0:00:01\r\u001b[K     |█████████▍                      | 327 kB 5.3 MB/s eta 0:00:01\r\u001b[K     |█████████▊                      | 337 kB 5.3 MB/s eta 0:00:01\r\u001b[K     |██████████                      | 348 kB 5.3 MB/s eta 0:00:01\r\u001b[K     |██████████▎                     | 358 kB 5.3 MB/s eta 0:00:01\r\u001b[K     |██████████▋                     | 368 kB 5.3 MB/s eta 0:00:01\r\u001b[K     |██████████▉                     | 378 kB 5.3 MB/s eta 0:00:01\r\u001b[K     |███████████▏                    | 389 kB 5.3 MB/s eta 0:00:01\r\u001b[K     |███████████▌                    | 399 kB 5.3 MB/s eta 0:00:01\r\u001b[K     |███████████▊                    | 409 kB 5.3 MB/s eta 0:00:01\r\u001b[K     |████████████                    | 419 kB 5.3 MB/s eta 0:00:01\r\u001b[K     |████████████▍                   | 430 kB 5.3 MB/s eta 0:00:01\r\u001b[K     |████████████▋                   | 440 kB 5.3 MB/s eta 0:00:01\r\u001b[K     |█████████████                   | 450 kB 5.3 MB/s eta 0:00:01\r\u001b[K     |█████████████▎                  | 460 kB 5.3 MB/s eta 0:00:01\r\u001b[K     |█████████████▌                  | 471 kB 5.3 MB/s eta 0:00:01\r\u001b[K     |█████████████▉                  | 481 kB 5.3 MB/s eta 0:00:01\r\u001b[K     |██████████████                  | 491 kB 5.3 MB/s eta 0:00:01\r\u001b[K     |██████████████▍                 | 501 kB 5.3 MB/s eta 0:00:01\r\u001b[K     |██████████████▊                 | 512 kB 5.3 MB/s eta 0:00:01\r\u001b[K     |███████████████                 | 522 kB 5.3 MB/s eta 0:00:01\r\u001b[K     |███████████████▎                | 532 kB 5.3 MB/s eta 0:00:01\r\u001b[K     |███████████████▋                | 542 kB 5.3 MB/s eta 0:00:01\r\u001b[K     |███████████████▉                | 552 kB 5.3 MB/s eta 0:00:01\r\u001b[K     |████████████████▏               | 563 kB 5.3 MB/s eta 0:00:01\r\u001b[K     |████████████████▌               | 573 kB 5.3 MB/s eta 0:00:01\r\u001b[K     |████████████████▊               | 583 kB 5.3 MB/s eta 0:00:01\r\u001b[K     |█████████████████               | 593 kB 5.3 MB/s eta 0:00:01\r\u001b[K     |█████████████████▍              | 604 kB 5.3 MB/s eta 0:00:01\r\u001b[K     |█████████████████▋              | 614 kB 5.3 MB/s eta 0:00:01\r\u001b[K     |██████████████████              | 624 kB 5.3 MB/s eta 0:00:01\r\u001b[K     |██████████████████▏             | 634 kB 5.3 MB/s eta 0:00:01\r\u001b[K     |██████████████████▌             | 645 kB 5.3 MB/s eta 0:00:01\r\u001b[K     |██████████████████▉             | 655 kB 5.3 MB/s eta 0:00:01\r\u001b[K     |███████████████████             | 665 kB 5.3 MB/s eta 0:00:01\r\u001b[K     |███████████████████▍            | 675 kB 5.3 MB/s eta 0:00:01\r\u001b[K     |███████████████████▊            | 686 kB 5.3 MB/s eta 0:00:01\r\u001b[K     |████████████████████            | 696 kB 5.3 MB/s eta 0:00:01\r\u001b[K     |████████████████████▎           | 706 kB 5.3 MB/s eta 0:00:01\r\u001b[K     |████████████████████▋           | 716 kB 5.3 MB/s eta 0:00:01\r\u001b[K     |████████████████████▉           | 727 kB 5.3 MB/s eta 0:00:01\r\u001b[K     |█████████████████████▏          | 737 kB 5.3 MB/s eta 0:00:01\r\u001b[K     |█████████████████████▌          | 747 kB 5.3 MB/s eta 0:00:01\r\u001b[K     |█████████████████████▊          | 757 kB 5.3 MB/s eta 0:00:01\r\u001b[K     |██████████████████████          | 768 kB 5.3 MB/s eta 0:00:01\r\u001b[K     |██████████████████████▎         | 778 kB 5.3 MB/s eta 0:00:01\r\u001b[K     |██████████████████████▋         | 788 kB 5.3 MB/s eta 0:00:01\r\u001b[K     |███████████████████████         | 798 kB 5.3 MB/s eta 0:00:01\r\u001b[K     |███████████████████████▏        | 808 kB 5.3 MB/s eta 0:00:01\r\u001b[K     |███████████████████████▌        | 819 kB 5.3 MB/s eta 0:00:01\r\u001b[K     |███████████████████████▉        | 829 kB 5.3 MB/s eta 0:00:01\r\u001b[K     |████████████████████████        | 839 kB 5.3 MB/s eta 0:00:01\r\u001b[K     |████████████████████████▍       | 849 kB 5.3 MB/s eta 0:00:01\r\u001b[K     |████████████████████████▊       | 860 kB 5.3 MB/s eta 0:00:01\r\u001b[K     |█████████████████████████       | 870 kB 5.3 MB/s eta 0:00:01\r\u001b[K     |█████████████████████████▎      | 880 kB 5.3 MB/s eta 0:00:01\r\u001b[K     |█████████████████████████▋      | 890 kB 5.3 MB/s eta 0:00:01\r\u001b[K     |█████████████████████████▉      | 901 kB 5.3 MB/s eta 0:00:01\r\u001b[K     |██████████████████████████▏     | 911 kB 5.3 MB/s eta 0:00:01\r\u001b[K     |██████████████████████████▌     | 921 kB 5.3 MB/s eta 0:00:01\r\u001b[K     |██████████████████████████▊     | 931 kB 5.3 MB/s eta 0:00:01\r\u001b[K     |███████████████████████████     | 942 kB 5.3 MB/s eta 0:00:01\r\u001b[K     |███████████████████████████▎    | 952 kB 5.3 MB/s eta 0:00:01\r\u001b[K     |███████████████████████████▋    | 962 kB 5.3 MB/s eta 0:00:01\r\u001b[K     |████████████████████████████    | 972 kB 5.3 MB/s eta 0:00:01\r\u001b[K     |████████████████████████████▏   | 983 kB 5.3 MB/s eta 0:00:01\r\u001b[K     |████████████████████████████▌   | 993 kB 5.3 MB/s eta 0:00:01\r\u001b[K     |████████████████████████████▉   | 1.0 MB 5.3 MB/s eta 0:00:01\r\u001b[K     |█████████████████████████████   | 1.0 MB 5.3 MB/s eta 0:00:01\r\u001b[K     |█████████████████████████████▍  | 1.0 MB 5.3 MB/s eta 0:00:01\r\u001b[K     |█████████████████████████████▊  | 1.0 MB 5.3 MB/s eta 0:00:01\r\u001b[K     |██████████████████████████████  | 1.0 MB 5.3 MB/s eta 0:00:01\r\u001b[K     |██████████████████████████████▎ | 1.1 MB 5.3 MB/s eta 0:00:01\r\u001b[K     |██████████████████████████████▋ | 1.1 MB 5.3 MB/s eta 0:00:01\r\u001b[K     |██████████████████████████████▉ | 1.1 MB 5.3 MB/s eta 0:00:01\r\u001b[K     |███████████████████████████████▏| 1.1 MB 5.3 MB/s eta 0:00:01\r\u001b[K     |███████████████████████████████▍| 1.1 MB 5.3 MB/s eta 0:00:01\r\u001b[K     |███████████████████████████████▊| 1.1 MB 5.3 MB/s eta 0:00:01\r\u001b[K     |████████████████████████████████| 1.1 MB 5.3 MB/s \n",
            "\u001b[?25hRequirement already satisfied: typeguard>=2.7 in /usr/local/lib/python3.7/dist-packages (from tensorflow-addons) (2.7.1)\n",
            "Installing collected packages: tensorflow-addons\n",
            "Successfully installed tensorflow-addons-0.15.0\n"
          ]
        }
      ],
      "source": [
        "!rm -rf ./logs/\n",
        "!pip install tensorflow-addons"
      ]
    },
    {
      "cell_type": "code",
      "execution_count": null,
      "metadata": {
        "id": "NAkiMWm3nufu"
      },
      "outputs": [],
      "source": [
        "import os\n",
        "import datetime\n",
        "import requests\n",
        "import zipfile\n",
        "\n",
        "import pandas as pd\n",
        "import re\n",
        "import numpy as np\n",
        "\n",
        "import tensorflow as tf\n",
        "import tensorflow_addons as tfa\n",
        "from tensorflow import keras\n",
        "from tensorflow.keras import layers\n",
        "from keras.preprocessing.text import Tokenizer\n",
        "from keras.preprocessing.sequence import pad_sequences\n",
        "\n",
        "from keras.layers import LSTM, Bidirectional, TimeDistributed, Dense, InputLayer, Embedding, Activation\n",
        "from tensorflow.keras.optimizers import Adam, SGD\n",
        "from tensorflow.keras.metrics import BinaryAccuracy, Recall, Precision\n",
        "\n",
        "from sklearn.metrics import confusion_matrix\n",
        "from sklearn.metrics import classification_report"
      ]
    },
    {
      "cell_type": "code",
      "execution_count": null,
      "metadata": {
        "id": "XbD-X1zZFvxl"
      },
      "outputs": [],
      "source": [
        "log_dir = \"logs/fit/\" + datetime.datetime.now().strftime(\"%Y%m%d-%H%M%S\")\n",
        "tensorboard_callback = tf.keras.callbacks.TensorBoard(log_dir=log_dir, histogram_freq=1)"
      ]
    },
    {
      "cell_type": "markdown",
      "metadata": {
        "id": "OWFUj3pN5j_n"
      },
      "source": [
        "# Dataset download & Splitting"
      ]
    },
    {
      "cell_type": "code",
      "execution_count": null,
      "metadata": {
        "colab": {
          "base_uri": "https://localhost:8080/"
        },
        "id": "BspxZcRjW0NG",
        "outputId": "c31d0f26-24ab-42b1-fe3e-6d7840cd82f3"
      },
      "outputs": [
        {
          "output_type": "stream",
          "name": "stdout",
          "text": [
            "Downloading FEVER data splits...\n",
            "Download completed!\n",
            "Extracting dataset...\n",
            "Extraction completed!\n"
          ]
        }
      ],
      "source": [
        "def save_response_content(response, destination):\n",
        "    CHUNK_SIZE = 32768\n",
        "\n",
        "    with open(destination, \"wb\") as f:\n",
        "        for chunk in response.iter_content(CHUNK_SIZE):\n",
        "            if chunk: # filter out keep-alive new chunks\n",
        "                f.write(chunk)\n",
        "\n",
        "def download_data(data_path):\n",
        "    toy_data_path = os.path.join(data_path, 'fever_data.zip')\n",
        "    toy_data_url_id = \"1wArZhF9_SHW17WKNGeLmX-QTYw9Zscl1\"\n",
        "    toy_url = \"https://docs.google.com/uc?export=download\"\n",
        "\n",
        "    if not os.path.exists(data_path):\n",
        "        os.makedirs(data_path)\n",
        "\n",
        "    if not os.path.exists(toy_data_path):\n",
        "        print(\"Downloading FEVER data splits...\")\n",
        "        with requests.Session() as current_session:\n",
        "            response = current_session.get(toy_url,\n",
        "                                   params={'id': toy_data_url_id},\n",
        "                                   stream=True)\n",
        "        save_response_content(response, toy_data_path)\n",
        "        print(\"Download completed!\")\n",
        "\n",
        "        print(\"Extracting dataset...\")\n",
        "        with zipfile.ZipFile(toy_data_path) as loaded_zip:\n",
        "            loaded_zip.extractall(data_path)\n",
        "        print(\"Extraction completed!\")\n",
        "\n",
        "download_data('dataset')"
      ]
    },
    {
      "cell_type": "code",
      "execution_count": null,
      "metadata": {
        "id": "BS9sP7_fMHXu"
      },
      "outputs": [],
      "source": [
        "test_name = \"test_pairs.csv\"\n",
        "train_name = \"train_pairs.csv\"\n",
        "val_name = \"val_pairs.csv\"\n",
        "\n",
        "\n",
        "test_path = os.path.join(os.getcwd(), \"dataset\", test_name)\n",
        "train_path = os.path.join(os.getcwd(), \"dataset\", train_name)\n",
        "val_path = os.path.join(os.getcwd(), \"dataset\", val_name)\n",
        "\n",
        "test_pairs = pd.read_csv(test_path);\n",
        "train_pairs = pd.read_csv(train_path);\n",
        "val_pairs = pd.read_csv(val_path);"
      ]
    },
    {
      "cell_type": "code",
      "execution_count": null,
      "metadata": {
        "colab": {
          "base_uri": "https://localhost:8080/",
          "height": 618
        },
        "id": "i2FJ9JDLOABf",
        "outputId": "c05ca571-9358-4d0c-e7f5-b2308892113e"
      },
      "outputs": [
        {
          "output_type": "execute_result",
          "data": {
            "text/html": [
              "\n",
              "  <div id=\"df-70602b36-607c-4d8a-8243-a473e6b0c1db\">\n",
              "    <div class=\"colab-df-container\">\n",
              "      <div>\n",
              "<style scoped>\n",
              "    .dataframe tbody tr th:only-of-type {\n",
              "        vertical-align: middle;\n",
              "    }\n",
              "\n",
              "    .dataframe tbody tr th {\n",
              "        vertical-align: top;\n",
              "    }\n",
              "\n",
              "    .dataframe thead th {\n",
              "        text-align: right;\n",
              "    }\n",
              "</style>\n",
              "<table border=\"1\" class=\"dataframe\">\n",
              "  <thead>\n",
              "    <tr style=\"text-align: right;\">\n",
              "      <th></th>\n",
              "      <th>Unnamed: 0</th>\n",
              "      <th>Claim</th>\n",
              "      <th>Evidence</th>\n",
              "      <th>ID</th>\n",
              "      <th>Label</th>\n",
              "    </tr>\n",
              "  </thead>\n",
              "  <tbody>\n",
              "    <tr>\n",
              "      <th>0</th>\n",
              "      <td>0</td>\n",
              "      <td>Chris Hemsworth appeared in A Perfect Getaway.</td>\n",
              "      <td>2\\tHemsworth has also appeared in the science ...</td>\n",
              "      <td>3</td>\n",
              "      <td>SUPPORTS</td>\n",
              "    </tr>\n",
              "    <tr>\n",
              "      <th>1</th>\n",
              "      <td>1</td>\n",
              "      <td>Roald Dahl is a writer.</td>\n",
              "      <td>0\\tRoald Dahl -LRB- -LSB- langpronˈroʊ.əld _ ˈ...</td>\n",
              "      <td>7</td>\n",
              "      <td>SUPPORTS</td>\n",
              "    </tr>\n",
              "    <tr>\n",
              "      <th>2</th>\n",
              "      <td>2</td>\n",
              "      <td>Roald Dahl is a governor.</td>\n",
              "      <td>0\\tRoald Dahl -LRB- -LSB- langpronˈroʊ.əld _ ˈ...</td>\n",
              "      <td>8</td>\n",
              "      <td>REFUTES</td>\n",
              "    </tr>\n",
              "    <tr>\n",
              "      <th>3</th>\n",
              "      <td>3</td>\n",
              "      <td>Ireland has relatively low-lying mountains.</td>\n",
              "      <td>10\\tThe island 's geography comprises relative...</td>\n",
              "      <td>9</td>\n",
              "      <td>SUPPORTS</td>\n",
              "    </tr>\n",
              "    <tr>\n",
              "      <th>4</th>\n",
              "      <td>4</td>\n",
              "      <td>Ireland does not have relatively low-lying mou...</td>\n",
              "      <td>10\\tThe island 's geography comprises relative...</td>\n",
              "      <td>10</td>\n",
              "      <td>REFUTES</td>\n",
              "    </tr>\n",
              "  </tbody>\n",
              "</table>\n",
              "</div>\n",
              "      <button class=\"colab-df-convert\" onclick=\"convertToInteractive('df-70602b36-607c-4d8a-8243-a473e6b0c1db')\"\n",
              "              title=\"Convert this dataframe to an interactive table.\"\n",
              "              style=\"display:none;\">\n",
              "        \n",
              "  <svg xmlns=\"http://www.w3.org/2000/svg\" height=\"24px\"viewBox=\"0 0 24 24\"\n",
              "       width=\"24px\">\n",
              "    <path d=\"M0 0h24v24H0V0z\" fill=\"none\"/>\n",
              "    <path d=\"M18.56 5.44l.94 2.06.94-2.06 2.06-.94-2.06-.94-.94-2.06-.94 2.06-2.06.94zm-11 1L8.5 8.5l.94-2.06 2.06-.94-2.06-.94L8.5 2.5l-.94 2.06-2.06.94zm10 10l.94 2.06.94-2.06 2.06-.94-2.06-.94-.94-2.06-.94 2.06-2.06.94z\"/><path d=\"M17.41 7.96l-1.37-1.37c-.4-.4-.92-.59-1.43-.59-.52 0-1.04.2-1.43.59L10.3 9.45l-7.72 7.72c-.78.78-.78 2.05 0 2.83L4 21.41c.39.39.9.59 1.41.59.51 0 1.02-.2 1.41-.59l7.78-7.78 2.81-2.81c.8-.78.8-2.07 0-2.86zM5.41 20L4 18.59l7.72-7.72 1.47 1.35L5.41 20z\"/>\n",
              "  </svg>\n",
              "      </button>\n",
              "      \n",
              "  <style>\n",
              "    .colab-df-container {\n",
              "      display:flex;\n",
              "      flex-wrap:wrap;\n",
              "      gap: 12px;\n",
              "    }\n",
              "\n",
              "    .colab-df-convert {\n",
              "      background-color: #E8F0FE;\n",
              "      border: none;\n",
              "      border-radius: 50%;\n",
              "      cursor: pointer;\n",
              "      display: none;\n",
              "      fill: #1967D2;\n",
              "      height: 32px;\n",
              "      padding: 0 0 0 0;\n",
              "      width: 32px;\n",
              "    }\n",
              "\n",
              "    .colab-df-convert:hover {\n",
              "      background-color: #E2EBFA;\n",
              "      box-shadow: 0px 1px 2px rgba(60, 64, 67, 0.3), 0px 1px 3px 1px rgba(60, 64, 67, 0.15);\n",
              "      fill: #174EA6;\n",
              "    }\n",
              "\n",
              "    [theme=dark] .colab-df-convert {\n",
              "      background-color: #3B4455;\n",
              "      fill: #D2E3FC;\n",
              "    }\n",
              "\n",
              "    [theme=dark] .colab-df-convert:hover {\n",
              "      background-color: #434B5C;\n",
              "      box-shadow: 0px 1px 3px 1px rgba(0, 0, 0, 0.15);\n",
              "      filter: drop-shadow(0px 1px 2px rgba(0, 0, 0, 0.3));\n",
              "      fill: #FFFFFF;\n",
              "    }\n",
              "  </style>\n",
              "\n",
              "      <script>\n",
              "        const buttonEl =\n",
              "          document.querySelector('#df-70602b36-607c-4d8a-8243-a473e6b0c1db button.colab-df-convert');\n",
              "        buttonEl.style.display =\n",
              "          google.colab.kernel.accessAllowed ? 'block' : 'none';\n",
              "\n",
              "        async function convertToInteractive(key) {\n",
              "          const element = document.querySelector('#df-70602b36-607c-4d8a-8243-a473e6b0c1db');\n",
              "          const dataTable =\n",
              "            await google.colab.kernel.invokeFunction('convertToInteractive',\n",
              "                                                     [key], {});\n",
              "          if (!dataTable) return;\n",
              "\n",
              "          const docLinkHtml = 'Like what you see? Visit the ' +\n",
              "            '<a target=\"_blank\" href=https://colab.research.google.com/notebooks/data_table.ipynb>data table notebook</a>'\n",
              "            + ' to learn more about interactive tables.';\n",
              "          element.innerHTML = '';\n",
              "          dataTable['output_type'] = 'display_data';\n",
              "          await google.colab.output.renderOutput(dataTable, element);\n",
              "          const docLink = document.createElement('div');\n",
              "          docLink.innerHTML = docLinkHtml;\n",
              "          element.appendChild(docLink);\n",
              "        }\n",
              "      </script>\n",
              "    </div>\n",
              "  </div>\n",
              "  "
            ],
            "text/plain": [
              "   Unnamed: 0                                              Claim  ...  ID     Label\n",
              "0           0     Chris Hemsworth appeared in A Perfect Getaway.  ...   3  SUPPORTS\n",
              "1           1                            Roald Dahl is a writer.  ...   7  SUPPORTS\n",
              "2           2                          Roald Dahl is a governor.  ...   8   REFUTES\n",
              "3           3        Ireland has relatively low-lying mountains.  ...   9  SUPPORTS\n",
              "4           4  Ireland does not have relatively low-lying mou...  ...  10   REFUTES\n",
              "\n",
              "[5 rows x 5 columns]"
            ]
          },
          "metadata": {},
          "execution_count": 7
        }
      ],
      "source": [
        "train_pairs.head()"
      ]
    },
    {
      "cell_type": "code",
      "execution_count": null,
      "metadata": {
        "colab": {
          "base_uri": "https://localhost:8080/",
          "height": 600
        },
        "id": "kzrgFOGXgkeV",
        "outputId": "854736db-1849-4c24-f70b-eba64603f79b"
      },
      "outputs": [
        {
          "output_type": "execute_result",
          "data": {
            "text/html": [
              "\n",
              "  <div id=\"df-3154148f-1dee-4a70-9bf2-5f2a8886af38\">\n",
              "    <div class=\"colab-df-container\">\n",
              "      <div>\n",
              "<style scoped>\n",
              "    .dataframe tbody tr th:only-of-type {\n",
              "        vertical-align: middle;\n",
              "    }\n",
              "\n",
              "    .dataframe tbody tr th {\n",
              "        vertical-align: top;\n",
              "    }\n",
              "\n",
              "    .dataframe thead th {\n",
              "        text-align: right;\n",
              "    }\n",
              "</style>\n",
              "<table border=\"1\" class=\"dataframe\">\n",
              "  <thead>\n",
              "    <tr style=\"text-align: right;\">\n",
              "      <th></th>\n",
              "      <th>Claim</th>\n",
              "      <th>Evidence</th>\n",
              "      <th>Label</th>\n",
              "    </tr>\n",
              "  </thead>\n",
              "  <tbody>\n",
              "    <tr>\n",
              "      <th>0</th>\n",
              "      <td>Chris Hemsworth appeared in A Perfect Getaway.</td>\n",
              "      <td>2\\tHemsworth has also appeared in the science ...</td>\n",
              "      <td>SUPPORTS</td>\n",
              "    </tr>\n",
              "    <tr>\n",
              "      <th>1</th>\n",
              "      <td>Roald Dahl is a writer.</td>\n",
              "      <td>0\\tRoald Dahl -LRB- -LSB- langpronˈroʊ.əld _ ˈ...</td>\n",
              "      <td>SUPPORTS</td>\n",
              "    </tr>\n",
              "    <tr>\n",
              "      <th>2</th>\n",
              "      <td>Roald Dahl is a governor.</td>\n",
              "      <td>0\\tRoald Dahl -LRB- -LSB- langpronˈroʊ.əld _ ˈ...</td>\n",
              "      <td>REFUTES</td>\n",
              "    </tr>\n",
              "    <tr>\n",
              "      <th>3</th>\n",
              "      <td>Ireland has relatively low-lying mountains.</td>\n",
              "      <td>10\\tThe island 's geography comprises relative...</td>\n",
              "      <td>SUPPORTS</td>\n",
              "    </tr>\n",
              "    <tr>\n",
              "      <th>4</th>\n",
              "      <td>Ireland does not have relatively low-lying mou...</td>\n",
              "      <td>10\\tThe island 's geography comprises relative...</td>\n",
              "      <td>REFUTES</td>\n",
              "    </tr>\n",
              "  </tbody>\n",
              "</table>\n",
              "</div>\n",
              "      <button class=\"colab-df-convert\" onclick=\"convertToInteractive('df-3154148f-1dee-4a70-9bf2-5f2a8886af38')\"\n",
              "              title=\"Convert this dataframe to an interactive table.\"\n",
              "              style=\"display:none;\">\n",
              "        \n",
              "  <svg xmlns=\"http://www.w3.org/2000/svg\" height=\"24px\"viewBox=\"0 0 24 24\"\n",
              "       width=\"24px\">\n",
              "    <path d=\"M0 0h24v24H0V0z\" fill=\"none\"/>\n",
              "    <path d=\"M18.56 5.44l.94 2.06.94-2.06 2.06-.94-2.06-.94-.94-2.06-.94 2.06-2.06.94zm-11 1L8.5 8.5l.94-2.06 2.06-.94-2.06-.94L8.5 2.5l-.94 2.06-2.06.94zm10 10l.94 2.06.94-2.06 2.06-.94-2.06-.94-.94-2.06-.94 2.06-2.06.94z\"/><path d=\"M17.41 7.96l-1.37-1.37c-.4-.4-.92-.59-1.43-.59-.52 0-1.04.2-1.43.59L10.3 9.45l-7.72 7.72c-.78.78-.78 2.05 0 2.83L4 21.41c.39.39.9.59 1.41.59.51 0 1.02-.2 1.41-.59l7.78-7.78 2.81-2.81c.8-.78.8-2.07 0-2.86zM5.41 20L4 18.59l7.72-7.72 1.47 1.35L5.41 20z\"/>\n",
              "  </svg>\n",
              "      </button>\n",
              "      \n",
              "  <style>\n",
              "    .colab-df-container {\n",
              "      display:flex;\n",
              "      flex-wrap:wrap;\n",
              "      gap: 12px;\n",
              "    }\n",
              "\n",
              "    .colab-df-convert {\n",
              "      background-color: #E8F0FE;\n",
              "      border: none;\n",
              "      border-radius: 50%;\n",
              "      cursor: pointer;\n",
              "      display: none;\n",
              "      fill: #1967D2;\n",
              "      height: 32px;\n",
              "      padding: 0 0 0 0;\n",
              "      width: 32px;\n",
              "    }\n",
              "\n",
              "    .colab-df-convert:hover {\n",
              "      background-color: #E2EBFA;\n",
              "      box-shadow: 0px 1px 2px rgba(60, 64, 67, 0.3), 0px 1px 3px 1px rgba(60, 64, 67, 0.15);\n",
              "      fill: #174EA6;\n",
              "    }\n",
              "\n",
              "    [theme=dark] .colab-df-convert {\n",
              "      background-color: #3B4455;\n",
              "      fill: #D2E3FC;\n",
              "    }\n",
              "\n",
              "    [theme=dark] .colab-df-convert:hover {\n",
              "      background-color: #434B5C;\n",
              "      box-shadow: 0px 1px 3px 1px rgba(0, 0, 0, 0.15);\n",
              "      filter: drop-shadow(0px 1px 2px rgba(0, 0, 0, 0.3));\n",
              "      fill: #FFFFFF;\n",
              "    }\n",
              "  </style>\n",
              "\n",
              "      <script>\n",
              "        const buttonEl =\n",
              "          document.querySelector('#df-3154148f-1dee-4a70-9bf2-5f2a8886af38 button.colab-df-convert');\n",
              "        buttonEl.style.display =\n",
              "          google.colab.kernel.accessAllowed ? 'block' : 'none';\n",
              "\n",
              "        async function convertToInteractive(key) {\n",
              "          const element = document.querySelector('#df-3154148f-1dee-4a70-9bf2-5f2a8886af38');\n",
              "          const dataTable =\n",
              "            await google.colab.kernel.invokeFunction('convertToInteractive',\n",
              "                                                     [key], {});\n",
              "          if (!dataTable) return;\n",
              "\n",
              "          const docLinkHtml = 'Like what you see? Visit the ' +\n",
              "            '<a target=\"_blank\" href=https://colab.research.google.com/notebooks/data_table.ipynb>data table notebook</a>'\n",
              "            + ' to learn more about interactive tables.';\n",
              "          element.innerHTML = '';\n",
              "          dataTable['output_type'] = 'display_data';\n",
              "          await google.colab.output.renderOutput(dataTable, element);\n",
              "          const docLink = document.createElement('div');\n",
              "          docLink.innerHTML = docLinkHtml;\n",
              "          element.appendChild(docLink);\n",
              "        }\n",
              "      </script>\n",
              "    </div>\n",
              "  </div>\n",
              "  "
            ],
            "text/plain": [
              "                                               Claim  ...     Label\n",
              "0     Chris Hemsworth appeared in A Perfect Getaway.  ...  SUPPORTS\n",
              "1                            Roald Dahl is a writer.  ...  SUPPORTS\n",
              "2                          Roald Dahl is a governor.  ...   REFUTES\n",
              "3        Ireland has relatively low-lying mountains.  ...  SUPPORTS\n",
              "4  Ireland does not have relatively low-lying mou...  ...   REFUTES\n",
              "\n",
              "[5 rows x 3 columns]"
            ]
          },
          "metadata": {},
          "execution_count": 8
        }
      ],
      "source": [
        "train_set = train_pairs.drop(['Unnamed: 0', 'ID'], axis=1)\n",
        "train_set.head()"
      ]
    },
    {
      "cell_type": "code",
      "execution_count": null,
      "metadata": {
        "colab": {
          "base_uri": "https://localhost:8080/",
          "height": 635
        },
        "id": "Yn7KFLNX_GxO",
        "outputId": "45633ff9-67ae-4ebf-ce1a-8d1295dd6618"
      },
      "outputs": [
        {
          "output_type": "execute_result",
          "data": {
            "text/html": [
              "\n",
              "  <div id=\"df-087b7949-1f8d-4f2a-9b8e-4d2e4ceb78d2\">\n",
              "    <div class=\"colab-df-container\">\n",
              "      <div>\n",
              "<style scoped>\n",
              "    .dataframe tbody tr th:only-of-type {\n",
              "        vertical-align: middle;\n",
              "    }\n",
              "\n",
              "    .dataframe tbody tr th {\n",
              "        vertical-align: top;\n",
              "    }\n",
              "\n",
              "    .dataframe thead th {\n",
              "        text-align: right;\n",
              "    }\n",
              "</style>\n",
              "<table border=\"1\" class=\"dataframe\">\n",
              "  <thead>\n",
              "    <tr style=\"text-align: right;\">\n",
              "      <th></th>\n",
              "      <th>Claim</th>\n",
              "      <th>Evidence</th>\n",
              "      <th>Label</th>\n",
              "    </tr>\n",
              "  </thead>\n",
              "  <tbody>\n",
              "    <tr>\n",
              "      <th>0</th>\n",
              "      <td>The Indian Army comprises part of the country'...</td>\n",
              "      <td>16\\tIt is an all-volunteer force and comprises...</td>\n",
              "      <td>SUPPORTS</td>\n",
              "    </tr>\n",
              "    <tr>\n",
              "      <th>1</th>\n",
              "      <td>Recovery features Rihanna.</td>\n",
              "      <td>6\\tEminem also collaborated with artists such ...</td>\n",
              "      <td>SUPPORTS</td>\n",
              "    </tr>\n",
              "    <tr>\n",
              "      <th>2</th>\n",
              "      <td>Rihanna is on Recovery.</td>\n",
              "      <td>6\\tEminem also collaborated with artists such ...</td>\n",
              "      <td>SUPPORTS</td>\n",
              "    </tr>\n",
              "    <tr>\n",
              "      <th>3</th>\n",
              "      <td>Philomena was nominated.</td>\n",
              "      <td>8\\tThe film was nominated in four categories a...</td>\n",
              "      <td>SUPPORTS</td>\n",
              "    </tr>\n",
              "    <tr>\n",
              "      <th>4</th>\n",
              "      <td>Vietnam is a mascot.</td>\n",
              "      <td>0\\tVietnam -LRB- ˌ ; -LSB- vîət nāːm -RSB- -RR...</td>\n",
              "      <td>REFUTES</td>\n",
              "    </tr>\n",
              "  </tbody>\n",
              "</table>\n",
              "</div>\n",
              "      <button class=\"colab-df-convert\" onclick=\"convertToInteractive('df-087b7949-1f8d-4f2a-9b8e-4d2e4ceb78d2')\"\n",
              "              title=\"Convert this dataframe to an interactive table.\"\n",
              "              style=\"display:none;\">\n",
              "        \n",
              "  <svg xmlns=\"http://www.w3.org/2000/svg\" height=\"24px\"viewBox=\"0 0 24 24\"\n",
              "       width=\"24px\">\n",
              "    <path d=\"M0 0h24v24H0V0z\" fill=\"none\"/>\n",
              "    <path d=\"M18.56 5.44l.94 2.06.94-2.06 2.06-.94-2.06-.94-.94-2.06-.94 2.06-2.06.94zm-11 1L8.5 8.5l.94-2.06 2.06-.94-2.06-.94L8.5 2.5l-.94 2.06-2.06.94zm10 10l.94 2.06.94-2.06 2.06-.94-2.06-.94-.94-2.06-.94 2.06-2.06.94z\"/><path d=\"M17.41 7.96l-1.37-1.37c-.4-.4-.92-.59-1.43-.59-.52 0-1.04.2-1.43.59L10.3 9.45l-7.72 7.72c-.78.78-.78 2.05 0 2.83L4 21.41c.39.39.9.59 1.41.59.51 0 1.02-.2 1.41-.59l7.78-7.78 2.81-2.81c.8-.78.8-2.07 0-2.86zM5.41 20L4 18.59l7.72-7.72 1.47 1.35L5.41 20z\"/>\n",
              "  </svg>\n",
              "      </button>\n",
              "      \n",
              "  <style>\n",
              "    .colab-df-container {\n",
              "      display:flex;\n",
              "      flex-wrap:wrap;\n",
              "      gap: 12px;\n",
              "    }\n",
              "\n",
              "    .colab-df-convert {\n",
              "      background-color: #E8F0FE;\n",
              "      border: none;\n",
              "      border-radius: 50%;\n",
              "      cursor: pointer;\n",
              "      display: none;\n",
              "      fill: #1967D2;\n",
              "      height: 32px;\n",
              "      padding: 0 0 0 0;\n",
              "      width: 32px;\n",
              "    }\n",
              "\n",
              "    .colab-df-convert:hover {\n",
              "      background-color: #E2EBFA;\n",
              "      box-shadow: 0px 1px 2px rgba(60, 64, 67, 0.3), 0px 1px 3px 1px rgba(60, 64, 67, 0.15);\n",
              "      fill: #174EA6;\n",
              "    }\n",
              "\n",
              "    [theme=dark] .colab-df-convert {\n",
              "      background-color: #3B4455;\n",
              "      fill: #D2E3FC;\n",
              "    }\n",
              "\n",
              "    [theme=dark] .colab-df-convert:hover {\n",
              "      background-color: #434B5C;\n",
              "      box-shadow: 0px 1px 3px 1px rgba(0, 0, 0, 0.15);\n",
              "      filter: drop-shadow(0px 1px 2px rgba(0, 0, 0, 0.3));\n",
              "      fill: #FFFFFF;\n",
              "    }\n",
              "  </style>\n",
              "\n",
              "      <script>\n",
              "        const buttonEl =\n",
              "          document.querySelector('#df-087b7949-1f8d-4f2a-9b8e-4d2e4ceb78d2 button.colab-df-convert');\n",
              "        buttonEl.style.display =\n",
              "          google.colab.kernel.accessAllowed ? 'block' : 'none';\n",
              "\n",
              "        async function convertToInteractive(key) {\n",
              "          const element = document.querySelector('#df-087b7949-1f8d-4f2a-9b8e-4d2e4ceb78d2');\n",
              "          const dataTable =\n",
              "            await google.colab.kernel.invokeFunction('convertToInteractive',\n",
              "                                                     [key], {});\n",
              "          if (!dataTable) return;\n",
              "\n",
              "          const docLinkHtml = 'Like what you see? Visit the ' +\n",
              "            '<a target=\"_blank\" href=https://colab.research.google.com/notebooks/data_table.ipynb>data table notebook</a>'\n",
              "            + ' to learn more about interactive tables.';\n",
              "          element.innerHTML = '';\n",
              "          dataTable['output_type'] = 'display_data';\n",
              "          await google.colab.output.renderOutput(dataTable, element);\n",
              "          const docLink = document.createElement('div');\n",
              "          docLink.innerHTML = docLinkHtml;\n",
              "          element.appendChild(docLink);\n",
              "        }\n",
              "      </script>\n",
              "    </div>\n",
              "  </div>\n",
              "  "
            ],
            "text/plain": [
              "                                               Claim  ...     Label\n",
              "0  The Indian Army comprises part of the country'...  ...  SUPPORTS\n",
              "1                         Recovery features Rihanna.  ...  SUPPORTS\n",
              "2                            Rihanna is on Recovery.  ...  SUPPORTS\n",
              "3                           Philomena was nominated.  ...  SUPPORTS\n",
              "4                               Vietnam is a mascot.  ...   REFUTES\n",
              "\n",
              "[5 rows x 3 columns]"
            ]
          },
          "metadata": {},
          "execution_count": 9
        }
      ],
      "source": [
        "val_set = val_pairs.drop(['Unnamed: 0', 'ID'], axis=1)\n",
        "val_set.head()"
      ]
    },
    {
      "cell_type": "code",
      "execution_count": null,
      "metadata": {
        "colab": {
          "base_uri": "https://localhost:8080/",
          "height": 618
        },
        "id": "h_gv0fTF_LdT",
        "outputId": "5ebb84d2-5b07-42b5-eb93-e9effc5e3ed5"
      },
      "outputs": [
        {
          "output_type": "execute_result",
          "data": {
            "text/html": [
              "\n",
              "  <div id=\"df-80a82acf-75e8-40ab-b13c-e7530bf97c4d\">\n",
              "    <div class=\"colab-df-container\">\n",
              "      <div>\n",
              "<style scoped>\n",
              "    .dataframe tbody tr th:only-of-type {\n",
              "        vertical-align: middle;\n",
              "    }\n",
              "\n",
              "    .dataframe tbody tr th {\n",
              "        vertical-align: top;\n",
              "    }\n",
              "\n",
              "    .dataframe thead th {\n",
              "        text-align: right;\n",
              "    }\n",
              "</style>\n",
              "<table border=\"1\" class=\"dataframe\">\n",
              "  <thead>\n",
              "    <tr style=\"text-align: right;\">\n",
              "      <th></th>\n",
              "      <th>Claim</th>\n",
              "      <th>Evidence</th>\n",
              "      <th>Label</th>\n",
              "    </tr>\n",
              "  </thead>\n",
              "  <tbody>\n",
              "    <tr>\n",
              "      <th>0</th>\n",
              "      <td>Anxiety has been linked with physical symptoms.</td>\n",
              "      <td>13\\tFurthermore , anxiety has been linked with...</td>\n",
              "      <td>SUPPORTS</td>\n",
              "    </tr>\n",
              "    <tr>\n",
              "      <th>1</th>\n",
              "      <td>Firefox is an application.</td>\n",
              "      <td>0\\tMozilla Firefox -LRB- or simply Firefox -RR...</td>\n",
              "      <td>SUPPORTS</td>\n",
              "    </tr>\n",
              "    <tr>\n",
              "      <th>2</th>\n",
              "      <td>Keegan-Michael Key played President Barack Oba...</td>\n",
              "      <td>6\\tIn 2015 , Key appeared at the White House C...</td>\n",
              "      <td>SUPPORTS</td>\n",
              "    </tr>\n",
              "    <tr>\n",
              "      <th>3</th>\n",
              "      <td>Google Search can find stock quotes.</td>\n",
              "      <td>13\\tThese include synonyms , weather forecasts...</td>\n",
              "      <td>SUPPORTS</td>\n",
              "    </tr>\n",
              "    <tr>\n",
              "      <th>4</th>\n",
              "      <td>A Good Day to Die Hard was directed solely by ...</td>\n",
              "      <td>1\\tThe film was directed by John Moore and wri...</td>\n",
              "      <td>REFUTES</td>\n",
              "    </tr>\n",
              "  </tbody>\n",
              "</table>\n",
              "</div>\n",
              "      <button class=\"colab-df-convert\" onclick=\"convertToInteractive('df-80a82acf-75e8-40ab-b13c-e7530bf97c4d')\"\n",
              "              title=\"Convert this dataframe to an interactive table.\"\n",
              "              style=\"display:none;\">\n",
              "        \n",
              "  <svg xmlns=\"http://www.w3.org/2000/svg\" height=\"24px\"viewBox=\"0 0 24 24\"\n",
              "       width=\"24px\">\n",
              "    <path d=\"M0 0h24v24H0V0z\" fill=\"none\"/>\n",
              "    <path d=\"M18.56 5.44l.94 2.06.94-2.06 2.06-.94-2.06-.94-.94-2.06-.94 2.06-2.06.94zm-11 1L8.5 8.5l.94-2.06 2.06-.94-2.06-.94L8.5 2.5l-.94 2.06-2.06.94zm10 10l.94 2.06.94-2.06 2.06-.94-2.06-.94-.94-2.06-.94 2.06-2.06.94z\"/><path d=\"M17.41 7.96l-1.37-1.37c-.4-.4-.92-.59-1.43-.59-.52 0-1.04.2-1.43.59L10.3 9.45l-7.72 7.72c-.78.78-.78 2.05 0 2.83L4 21.41c.39.39.9.59 1.41.59.51 0 1.02-.2 1.41-.59l7.78-7.78 2.81-2.81c.8-.78.8-2.07 0-2.86zM5.41 20L4 18.59l7.72-7.72 1.47 1.35L5.41 20z\"/>\n",
              "  </svg>\n",
              "      </button>\n",
              "      \n",
              "  <style>\n",
              "    .colab-df-container {\n",
              "      display:flex;\n",
              "      flex-wrap:wrap;\n",
              "      gap: 12px;\n",
              "    }\n",
              "\n",
              "    .colab-df-convert {\n",
              "      background-color: #E8F0FE;\n",
              "      border: none;\n",
              "      border-radius: 50%;\n",
              "      cursor: pointer;\n",
              "      display: none;\n",
              "      fill: #1967D2;\n",
              "      height: 32px;\n",
              "      padding: 0 0 0 0;\n",
              "      width: 32px;\n",
              "    }\n",
              "\n",
              "    .colab-df-convert:hover {\n",
              "      background-color: #E2EBFA;\n",
              "      box-shadow: 0px 1px 2px rgba(60, 64, 67, 0.3), 0px 1px 3px 1px rgba(60, 64, 67, 0.15);\n",
              "      fill: #174EA6;\n",
              "    }\n",
              "\n",
              "    [theme=dark] .colab-df-convert {\n",
              "      background-color: #3B4455;\n",
              "      fill: #D2E3FC;\n",
              "    }\n",
              "\n",
              "    [theme=dark] .colab-df-convert:hover {\n",
              "      background-color: #434B5C;\n",
              "      box-shadow: 0px 1px 3px 1px rgba(0, 0, 0, 0.15);\n",
              "      filter: drop-shadow(0px 1px 2px rgba(0, 0, 0, 0.3));\n",
              "      fill: #FFFFFF;\n",
              "    }\n",
              "  </style>\n",
              "\n",
              "      <script>\n",
              "        const buttonEl =\n",
              "          document.querySelector('#df-80a82acf-75e8-40ab-b13c-e7530bf97c4d button.colab-df-convert');\n",
              "        buttonEl.style.display =\n",
              "          google.colab.kernel.accessAllowed ? 'block' : 'none';\n",
              "\n",
              "        async function convertToInteractive(key) {\n",
              "          const element = document.querySelector('#df-80a82acf-75e8-40ab-b13c-e7530bf97c4d');\n",
              "          const dataTable =\n",
              "            await google.colab.kernel.invokeFunction('convertToInteractive',\n",
              "                                                     [key], {});\n",
              "          if (!dataTable) return;\n",
              "\n",
              "          const docLinkHtml = 'Like what you see? Visit the ' +\n",
              "            '<a target=\"_blank\" href=https://colab.research.google.com/notebooks/data_table.ipynb>data table notebook</a>'\n",
              "            + ' to learn more about interactive tables.';\n",
              "          element.innerHTML = '';\n",
              "          dataTable['output_type'] = 'display_data';\n",
              "          await google.colab.output.renderOutput(dataTable, element);\n",
              "          const docLink = document.createElement('div');\n",
              "          docLink.innerHTML = docLinkHtml;\n",
              "          element.appendChild(docLink);\n",
              "        }\n",
              "      </script>\n",
              "    </div>\n",
              "  </div>\n",
              "  "
            ],
            "text/plain": [
              "                                               Claim  ...     Label\n",
              "0    Anxiety has been linked with physical symptoms.  ...  SUPPORTS\n",
              "1                         Firefox is an application.  ...  SUPPORTS\n",
              "2  Keegan-Michael Key played President Barack Oba...  ...  SUPPORTS\n",
              "3               Google Search can find stock quotes.  ...  SUPPORTS\n",
              "4  A Good Day to Die Hard was directed solely by ...  ...   REFUTES\n",
              "\n",
              "[5 rows x 3 columns]"
            ]
          },
          "metadata": {},
          "execution_count": 10
        }
      ],
      "source": [
        "test_set = test_pairs.drop(['Unnamed: 0', 'ID'], axis=1)\n",
        "test_set.head()"
      ]
    },
    {
      "cell_type": "markdown",
      "metadata": {
        "id": "Dm4IB81X5shY"
      },
      "source": [
        "# Pre Processing"
      ]
    },
    {
      "cell_type": "code",
      "execution_count": null,
      "metadata": {
        "id": "XlqGAd5ZDTkQ"
      },
      "outputs": [],
      "source": [
        "train_labels = train_set.Label\n",
        "val_labels = val_set.Label\n",
        "test_labels = test_set.Label"
      ]
    },
    {
      "cell_type": "code",
      "execution_count": null,
      "metadata": {
        "id": "IqqkyvcQDF6n"
      },
      "outputs": [],
      "source": [
        "s_train_claims = train_set.Claim\n",
        "s_val_claims = val_set.Claim\n",
        "s_test_claims = test_set.Claim"
      ]
    },
    {
      "cell_type": "code",
      "execution_count": null,
      "metadata": {
        "id": "TF4HC8dOFQLi"
      },
      "outputs": [],
      "source": [
        "# convert claims in lists for tokenization\n",
        "train_claims = []\n",
        "val_claims = []\n",
        "test_claims = []\n",
        "\n",
        "for i in s_train_claims:\n",
        "  train_claims.append(i)\n",
        "\n",
        "for i in s_val_claims:\n",
        "  val_claims.append(i)\n",
        "\n",
        "for i in s_test_claims:\n",
        "  test_claims.append(i)"
      ]
    },
    {
      "cell_type": "code",
      "execution_count": null,
      "metadata": {
        "id": "qdsDNbWNiqJg"
      },
      "outputs": [],
      "source": [
        "train_df = pd.DataFrame(columns=['Claim', 'Evidence', 'Label'])\n",
        "\n",
        "train_evidences = train_set.Evidence\n",
        "val_evidences = val_set.Evidence\n",
        "test_evidences = test_set.Evidence"
      ]
    },
    {
      "cell_type": "code",
      "execution_count": null,
      "metadata": {
        "colab": {
          "base_uri": "https://localhost:8080/",
          "height": 1000
        },
        "id": "3MdOdu4go6ch",
        "outputId": "1d48c7eb-e8b1-417c-aaa7-e076267fcb72"
      },
      "outputs": [
        {
          "output_type": "execute_result",
          "data": {
            "application/vnd.google.colaboratory.intrinsic+json": {
              "type": "string"
            },
            "text/plain": [
              "'2\\tHemsworth has also appeared in the science fiction action film Star Trek -LRB- 2009 -RRB- , the thriller adventure A Perfect Getaway -LRB- 2009 -RRB- , the horror comedy The Cabin in the Woods -LRB- 2012 -RRB- , the dark-fantasy action film Snow White and the Huntsman -LRB- 2012 -RRB- , the war film Red Dawn -LRB- 2012 -RRB- , and the biographical sports drama film Rush -LRB- 2013 -RRB- .\\tStar Trek\\tStar Trek (film)\\tA Perfect Getaway\\tA Perfect Getaway\\tThe Cabin in the Woods\\tThe Cabin in the Woods\\tSnow White and the Huntsman\\tSnow White and the Huntsman\\tRed Dawn\\tRed Dawn (2012 film)\\tRush\\tRush (2013 film)'"
            ]
          },
          "metadata": {},
          "execution_count": 15
        }
      ],
      "source": [
        "train_evidences[0]"
      ]
    },
    {
      "cell_type": "code",
      "execution_count": null,
      "metadata": {
        "id": "Rbjnkqu14PG_"
      },
      "outputs": [],
      "source": [
        "# compile regex to avoid multiple computations\n",
        "splitter = re.compile(r' \\.')\n",
        "beginline = re.compile(r'\\d+\\t')\n",
        "parenthesis = re.compile(r'\\-[A-Z]{3}\\-')\n",
        "phonetics = re.compile(r'[^a-zA-Z\\d\\s:\\u00C0-\\u00FF!\\\"#$%&\\'()*+,-./:;<=>?@[\\]^_`{|}~]*')"
      ]
    },
    {
      "cell_type": "code",
      "execution_count": null,
      "metadata": {
        "colab": {
          "base_uri": "https://localhost:8080/"
        },
        "id": "Hvgpv0Ysc7La",
        "outputId": "528da13f-c7b0-4a92-a26c-062ed8add136"
      },
      "outputs": [
        {
          "output_type": "stream",
          "name": "stdout",
          "text": [
            "Greece -LRB- Ελλάδα , -LSB- eˈlaða -RSB- -RRB- , officially the Hellenic Republic -LRB- Greek : Ελληνική Δημοκρατία , -LSB- eliniˈci ðimokraˈti.a -RSB- -RRB- , historically also known as Hellas -LRB- Ἑλλάς , -LSB- heˈlas -RSB- , modern pronunciation Ellás -RRB- , is a country in southeastern Europe , with a population of approximately 11 million as of 2015\n"
          ]
        }
      ],
      "source": [
        "#evidences text cleaning\n",
        "k=0\n",
        "clean_train_evidences = []\n",
        "clean_val_evidences = []\n",
        "clean_test_evidences = []\n",
        "\n",
        "for i in train_evidences:\n",
        "  tmp = re.split(splitter,i)[0]\n",
        "  tmp = re.sub(beginline, '', tmp)\n",
        "  if k == 12:\n",
        "     print(tmp)\n",
        "  tmp = re.sub(parenthesis, '', tmp)\n",
        "  tmp = re.sub(phonetics, '', tmp)\n",
        "  clean_train_evidences.append(tmp)\n",
        "  k += 1\n",
        "\n",
        "for i in val_evidences:\n",
        "  tmp = re.split(splitter,i)[0]\n",
        "  tmp = re.sub(beginline, '', tmp)\n",
        "  tmp = re.sub(parenthesis, '', tmp)\n",
        "  tmp = re.sub(phonetics, '', tmp)\n",
        "  clean_val_evidences.append(tmp)\n",
        "\n",
        "for i in test_evidences:\n",
        "  tmp = re.split(splitter,i)[0]\n",
        "  tmp = re.sub(beginline, '', tmp)\n",
        "  tmp = re.sub(parenthesis, '', tmp)\n",
        "  tmp = re.sub(phonetics, '', tmp)\n",
        "  clean_test_evidences.append(tmp)"
      ]
    },
    {
      "cell_type": "code",
      "execution_count": null,
      "metadata": {
        "colab": {
          "base_uri": "https://localhost:8080/",
          "height": 1000
        },
        "id": "CT9i2fLXsZIZ",
        "outputId": "e2bceb8d-632d-48a8-fc6e-22752368f687"
      },
      "outputs": [
        {
          "output_type": "execute_result",
          "data": {
            "application/vnd.google.colaboratory.intrinsic+json": {
              "type": "string"
            },
            "text/plain": [
              "'6\\tHitchcock became a highly visible public figure through interviews , movie trailers , cameo appearances in his own films , and the ten years in which he hosted the television programme Alfred Hitchcock Presents -LRB- 1955 -- 1965 -RRB- .\\tcameo appearances\\tList of Alfred Hitchcock cameo appearances\\tAlfred Hitchcock Presents\\tAlfred Hitchcock Presents'"
            ]
          },
          "metadata": {},
          "execution_count": 18
        }
      ],
      "source": [
        "val_evidences[62]\n",
        "# maybe needs more cleaning? i assume from now on we have clean data"
      ]
    },
    {
      "cell_type": "code",
      "execution_count": null,
      "metadata": {
        "colab": {
          "base_uri": "https://localhost:8080/",
          "height": 1000
        },
        "id": "iwSRC0VDW4-Q",
        "outputId": "d568946f-1953-4a60-dac9-c620bd59cb6b"
      },
      "outputs": [
        {
          "output_type": "execute_result",
          "data": {
            "application/vnd.google.colaboratory.intrinsic+json": {
              "type": "string"
            },
            "text/plain": [
              "'Hitchcock became a highly visible public figure through interviews , movie trailers , cameo appearances in his own films , and the ten years in which he hosted the television programme Alfred Hitchcock Presents  1955 -- 1965 '"
            ]
          },
          "metadata": {},
          "execution_count": 19
        }
      ],
      "source": [
        "clean_val_evidences[62]"
      ]
    },
    {
      "cell_type": "markdown",
      "metadata": {
        "id": "W8nJS0oKd5Sg"
      },
      "source": [
        "# Tokenization\n",
        "- padding"
      ]
    },
    {
      "cell_type": "code",
      "execution_count": null,
      "metadata": {
        "id": "xc4MzQO5C6Lq"
      },
      "outputs": [],
      "source": [
        "# concatenate splits lists for tokenizer input\n",
        "claim_to_vocab = train_claims + val_claims + test_claims\n",
        "evidences_to_vocab = clean_train_evidences + clean_val_evidences + clean_test_evidences"
      ]
    },
    {
      "cell_type": "code",
      "execution_count": null,
      "metadata": {
        "id": "sWVFV60UEo-y"
      },
      "outputs": [],
      "source": [
        "claim_tokenizer = Tokenizer(lower=False)                     # instantiate tokeniser\n",
        "claim_tokenizer.fit_on_texts(claim_to_vocab)                    # fit tokeniser on data"
      ]
    },
    {
      "cell_type": "code",
      "execution_count": null,
      "metadata": {
        "id": "sY_R_QR8HWFF"
      },
      "outputs": [],
      "source": [
        "evidence_tokenizer = Tokenizer(lower=False)                     \n",
        "evidence_tokenizer.fit_on_texts(evidences_to_vocab)"
      ]
    },
    {
      "cell_type": "markdown",
      "metadata": {
        "id": "nt1jMDILJql6"
      },
      "source": [
        "###Glove"
      ]
    },
    {
      "cell_type": "code",
      "execution_count": null,
      "metadata": {
        "colab": {
          "base_uri": "https://localhost:8080/"
        },
        "id": "0_NXjUc4JTbH",
        "outputId": "11653b46-f795-450f-9fbb-8d2b2d420863"
      },
      "outputs": [
        {
          "output_type": "stream",
          "name": "stdout",
          "text": [
            "--2021-12-23 09:49:32--  http://nlp.stanford.edu/data/glove.6B.zip\n",
            "Resolving nlp.stanford.edu (nlp.stanford.edu)... 171.64.67.140\n",
            "Connecting to nlp.stanford.edu (nlp.stanford.edu)|171.64.67.140|:80... connected.\n",
            "HTTP request sent, awaiting response... 302 Found\n",
            "Location: https://nlp.stanford.edu/data/glove.6B.zip [following]\n",
            "--2021-12-23 09:49:32--  https://nlp.stanford.edu/data/glove.6B.zip\n",
            "Connecting to nlp.stanford.edu (nlp.stanford.edu)|171.64.67.140|:443... connected.\n",
            "HTTP request sent, awaiting response... 301 Moved Permanently\n",
            "Location: http://downloads.cs.stanford.edu/nlp/data/glove.6B.zip [following]\n",
            "--2021-12-23 09:49:32--  http://downloads.cs.stanford.edu/nlp/data/glove.6B.zip\n",
            "Resolving downloads.cs.stanford.edu (downloads.cs.stanford.edu)... 171.64.64.22\n",
            "Connecting to downloads.cs.stanford.edu (downloads.cs.stanford.edu)|171.64.64.22|:80... connected.\n",
            "HTTP request sent, awaiting response... 200 OK\n",
            "Length: 862182613 (822M) [application/zip]\n",
            "Saving to: ‘glove.6B.zip’\n",
            "\n",
            "glove.6B.zip        100%[===================>] 822.24M  4.91MB/s    in 2m 41s  \n",
            "\n",
            "2021-12-23 09:52:13 (5.11 MB/s) - ‘glove.6B.zip’ saved [862182613/862182613]\n",
            "\n"
          ]
        }
      ],
      "source": [
        "!wget http://nlp.stanford.edu/data/glove.6B.zip\n",
        "!unzip -q glove.6B.zip"
      ]
    },
    {
      "cell_type": "code",
      "execution_count": null,
      "metadata": {
        "colab": {
          "base_uri": "https://localhost:8080/"
        },
        "id": "6I7Dngy8JXSN",
        "outputId": "1e5bceb5-65fc-4573-a200-9d8703093e34"
      },
      "outputs": [
        {
          "output_type": "stream",
          "name": "stdout",
          "text": [
            "Found 400000 word vectors.\n"
          ]
        }
      ],
      "source": [
        "path_to_glove_file = os.path.join(os.getcwd(), \"glove.6B.100d.txt\")\n",
        "\n",
        "embeddings_index = {}\n",
        "with open(path_to_glove_file) as f:\n",
        "    for line in f:\n",
        "        word, coefs = line.split(maxsplit=1)\n",
        "        coefs = np.fromstring(coefs, \"f\", sep=\" \")\n",
        "        embeddings_index[word] = coefs\n",
        "\n",
        "print(\"Found %s word vectors.\" % len(embeddings_index))"
      ]
    },
    {
      "cell_type": "markdown",
      "metadata": {
        "id": "QQ0dRwcmJv52"
      },
      "source": [
        "Embedding matrix for claims"
      ]
    },
    {
      "cell_type": "code",
      "execution_count": null,
      "metadata": {
        "colab": {
          "base_uri": "https://localhost:8080/"
        },
        "id": "ylMG2NlUJfRy",
        "outputId": "2e9edf30-1848-40b4-bdc1-56554aac23f3"
      },
      "outputs": [
        {
          "output_type": "stream",
          "name": "stdout",
          "text": [
            "Converted 10970 words (13832 misses)\n"
          ]
        }
      ],
      "source": [
        "num_tokens = len(claim_tokenizer.index_word) + 1\n",
        "embedding_dim = 100\n",
        "hits = 0\n",
        "misses = 0\n",
        "\n",
        "\n",
        "# Prepare embedding matrix\n",
        "embedding_matrix_c = np.zeros((num_tokens, embedding_dim))\n",
        "for word, i in claim_tokenizer.word_index.items():\n",
        "    embedding_vector = embeddings_index.get(word)\n",
        "    if embedding_vector is not None:\n",
        "        # Words not found in embedding index will be all-zeros.\n",
        "        # This includes the representation for \"padding\" and \"OOV\"\n",
        "        embedding_matrix_c[i] = embedding_vector\n",
        "        hits += 1\n",
        "    else:\n",
        "        embedding_matrix_c += np.random.uniform(low=-0.05, high=0.05, size=embedding_dim)\n",
        "        misses += 1\n",
        "print(\"Converted %d words (%d misses)\" % (hits, misses))"
      ]
    },
    {
      "cell_type": "markdown",
      "metadata": {
        "id": "62QyRF-GJ6wW"
      },
      "source": [
        "Embedding matrix for Evidence"
      ]
    },
    {
      "cell_type": "code",
      "execution_count": null,
      "metadata": {
        "colab": {
          "base_uri": "https://localhost:8080/"
        },
        "id": "Okl6jgimJgmH",
        "outputId": "304a424d-f298-4b5c-b83d-7e97e64032ea"
      },
      "outputs": [
        {
          "output_type": "stream",
          "name": "stdout",
          "text": [
            "Converted 15376 words (22592 misses)\n"
          ]
        }
      ],
      "source": [
        "num_tokens = len(evidence_tokenizer.index_word) + 1\n",
        "embedding_dim = 100\n",
        "hits = 0\n",
        "misses = 0\n",
        "\n",
        "\n",
        "# Prepare embedding matrix\n",
        "embedding_matrix_e = np.zeros((num_tokens, embedding_dim))\n",
        "for word, i in evidence_tokenizer.word_index.items():\n",
        "    embedding_vector = embeddings_index.get(word)\n",
        "    if embedding_vector is not None:\n",
        "        # Words not found in embedding index will be all-zeros.\n",
        "        # This includes the representation for \"padding\" and \"OOV\"\n",
        "        embedding_matrix_e[i] = embedding_vector\n",
        "        hits += 1\n",
        "    else:\n",
        "        embedding_matrix_e += np.random.uniform(low=-0.05, high=0.05, size=embedding_dim)\n",
        "        misses += 1\n",
        "print(\"Converted %d words (%d misses)\" % (hits, misses))"
      ]
    },
    {
      "cell_type": "code",
      "execution_count": null,
      "metadata": {
        "id": "6qYzhXuDeo7k"
      },
      "outputs": [],
      "source": [
        "def tobin(x): # map binary labels (target) to 0 or 1\n",
        "  if x == 'SUPPORTS':\n",
        "    return 0\n",
        "  return 1 # REFUTES\n",
        "\n",
        "def to_cat(y, tokenizer):\n",
        "  tokenizer.fit_on_texts(y)\n",
        "  y = tokenizer.texts_to_sequences(y)\n",
        "  y = tf.keras.utils.to_categorical(y, num_classes=None, dtype='int')\n",
        "  return y\n",
        "\n",
        "tokenizer_y = Tokenizer()\n",
        "tokenizer_y.fit_on_texts(train_labels)\n",
        "\n",
        "train_labels_y =  to_cat(train_labels, tokenizer_y)\n",
        "val_labels_y = to_cat(val_labels, tokenizer_y)\n",
        "test_labels_y = to_cat(test_labels, tokenizer_y)\n",
        "\n",
        "# train_labels_y = train_labels.apply(tobin).to_numpy()\n",
        "#val_labels_y = val_labels.apply(tobin).to_numpy()\n",
        "#test_labels_y = test_labels.apply(tobin).to_numpy()"
      ]
    },
    {
      "cell_type": "code",
      "source": [
        "# try to use 2 neurons instead of 3\n",
        "#train_labels_y = train_labels_y[:,1:3]\n",
        "#val_labels_y = val_labels_y[:,1:3]\n",
        "#test_labels_y = test_labels_y[:,1:3]"
      ],
      "metadata": {
        "id": "-fu6456holze"
      },
      "execution_count": null,
      "outputs": []
    },
    {
      "cell_type": "code",
      "source": [
        "train_labels_y"
      ],
      "metadata": {
        "colab": {
          "base_uri": "https://localhost:8080/"
        },
        "id": "3ZBSiuknr4X-",
        "outputId": "b0345c8c-f3e1-4db8-a493-017f2496410e"
      },
      "execution_count": null,
      "outputs": [
        {
          "output_type": "execute_result",
          "data": {
            "text/plain": [
              "array([[0, 1, 0],\n",
              "       [0, 1, 0],\n",
              "       [0, 0, 1],\n",
              "       ...,\n",
              "       [0, 0, 1],\n",
              "       [0, 1, 0],\n",
              "       [0, 0, 1]])"
            ]
          },
          "metadata": {},
          "execution_count": 41
        }
      ]
    },
    {
      "cell_type": "code",
      "execution_count": null,
      "metadata": {
        "id": "ryX-w3nshtVa"
      },
      "outputs": [],
      "source": [
        "# from text to integers\n",
        "train_claims_X = claim_tokenizer.texts_to_sequences(train_claims)\n",
        "val_claims_X = claim_tokenizer.texts_to_sequences(val_claims)\n",
        "test_claims_X = claim_tokenizer.texts_to_sequences(test_claims)\n",
        "\n",
        "train_evidences_X = evidence_tokenizer.texts_to_sequences(clean_train_evidences)\n",
        "val_evidences_X = evidence_tokenizer.texts_to_sequences(clean_val_evidences)\n",
        "test_evidences_X = evidence_tokenizer.texts_to_sequences(clean_test_evidences)"
      ]
    },
    {
      "cell_type": "markdown",
      "metadata": {
        "id": "VTGqD9oKdSTn"
      },
      "source": [
        "###Padding"
      ]
    },
    {
      "cell_type": "code",
      "execution_count": null,
      "metadata": {
        "colab": {
          "base_uri": "https://localhost:8080/"
        },
        "id": "DGpIpGUVmB2H",
        "outputId": "c6315bf3-f6d1-4533-bca9-b5eca97782db"
      },
      "outputs": [
        {
          "output_type": "execute_result",
          "data": {
            "text/plain": [
              "65"
            ]
          },
          "metadata": {},
          "execution_count": 45
        }
      ],
      "source": [
        "MAX_CLAIM_LENGTH = max(len(max(train_claims_X, key=len)), len(max(val_claims_X, key=len)), len(max(test_claims_X, key=len)))\n",
        "MAX_CLAIM_LENGTH"
      ]
    },
    {
      "cell_type": "code",
      "execution_count": null,
      "metadata": {
        "colab": {
          "base_uri": "https://localhost:8080/"
        },
        "id": "h8Ljdd2UmJXE",
        "outputId": "17a63bd8-7084-4054-c227-1cb5aa9bd179"
      },
      "outputs": [
        {
          "output_type": "execute_result",
          "data": {
            "text/plain": [
              "209"
            ]
          },
          "metadata": {},
          "execution_count": 44
        }
      ],
      "source": [
        "MAX_EVIDENCE_LENGTH = max(len(max(train_evidences_X, key=len)), len(max(val_evidences_X, key=len)), len(max(test_evidences_X, key=len)))\n",
        "MAX_EVIDENCE_LENGTH"
      ]
    },
    {
      "cell_type": "code",
      "execution_count": null,
      "metadata": {
        "id": "ojJhCIKqnG7n"
      },
      "outputs": [],
      "source": [
        "def pad(set, max): # padding function\n",
        "  return pad_sequences(set, maxlen=max, padding='post')"
      ]
    },
    {
      "cell_type": "code",
      "execution_count": null,
      "metadata": {
        "id": "caPgRJPpmYMj"
      },
      "outputs": [],
      "source": [
        "train_claims_X = pad(train_claims_X, MAX_CLAIM_LENGTH)\n",
        "val_claims_X = pad(val_claims_X, MAX_CLAIM_LENGTH)\n",
        "test_claims_X = pad(test_claims_X, MAX_CLAIM_LENGTH)\n",
        "\n",
        "train_evidences_X = pad(train_evidences_X, MAX_EVIDENCE_LENGTH)\n",
        "val_evidences_X = pad(val_evidences_X, MAX_EVIDENCE_LENGTH)\n",
        "test_evidences_X = pad(test_evidences_X, MAX_EVIDENCE_LENGTH)"
      ]
    },
    {
      "cell_type": "markdown",
      "metadata": {
        "id": "0eQDRB1-oEuA"
      },
      "source": [
        "# Model Implementation"
      ]
    },
    {
      "cell_type": "code",
      "source": [
        "embedded_dimension = 100"
      ],
      "metadata": {
        "id": "LIg6WnxmJnVP"
      },
      "execution_count": null,
      "outputs": []
    },
    {
      "cell_type": "markdown",
      "metadata": {
        "id": "jZ4kki1fTQ3S"
      },
      "source": [
        "##1. Encode token sequences via a RNN and take the last state as the sentence embedding."
      ]
    },
    {
      "cell_type": "code",
      "execution_count": null,
      "metadata": {
        "colab": {
          "base_uri": "https://localhost:8080/"
        },
        "id": "xr9St4AjTHHt",
        "outputId": "8d74b0e7-027e-4540-c4c4-65e4e072beb0"
      },
      "outputs": [
        {
          "output_type": "stream",
          "name": "stdout",
          "text": [
            "Model: \"RNN_last\"\n",
            "__________________________________________________________________________________________________\n",
            " Layer (type)                   Output Shape         Param #     Connected to                     \n",
            "==================================================================================================\n",
            " input_16 (InputLayer)          [(None, 65)]         0           []                               \n",
            "                                                                                                  \n",
            " input_15 (InputLayer)          [(None, 209)]        0           []                               \n",
            "                                                                                                  \n",
            " embedding_14 (Embedding)       (None, 65, 100)      2480300     ['input_16[0][0]']               \n",
            "                                                                                                  \n",
            " embedding_15 (Embedding)       (None, 209, 100)     3796900     ['input_15[0][0]']               \n",
            "                                                                                                  \n",
            " bidirectional_4 (Bidirectional  (None, 50)          25200       ['embedding_14[0][0]']           \n",
            " )                                                                                                \n",
            "                                                                                                  \n",
            " bidirectional_5 (Bidirectional  (None, 50)          25200       ['embedding_15[0][0]']           \n",
            " )                                                                                                \n",
            "                                                                                                  \n",
            " average_7 (Average)            (None, 50)           0           ['bidirectional_4[0][0]',        \n",
            "                                                                  'bidirectional_5[0][0]']        \n",
            "                                                                                                  \n",
            " dropout_2 (Dropout)            (None, 50)           0           ['average_7[0][0]']              \n",
            "                                                                                                  \n",
            " dense_13 (Dense)               (None, 3)            153         ['dropout_2[0][0]']              \n",
            "                                                                                                  \n",
            "==================================================================================================\n",
            "Total params: 6,327,753\n",
            "Trainable params: 6,327,753\n",
            "Non-trainable params: 0\n",
            "__________________________________________________________________________________________________\n"
          ]
        }
      ],
      "source": [
        "# input layers\n",
        "evidence_input_layer = keras.Input(shape=(MAX_EVIDENCE_LENGTH, ))\n",
        "claim_input_layer = keras.Input(shape=(MAX_CLAIM_LENGTH, ))\n",
        "\n",
        "claim_input = claim_input_layer\n",
        "evidence_input = evidence_input_layer\n",
        "\n",
        "# Embeddings\n",
        "claims_embedding_layer = tf.keras.layers.Embedding(\n",
        "    len(claim_tokenizer.word_index)+1,\n",
        "    embedded_dimension,\n",
        "    embeddings_initializer=keras.initializers.Constant(embedding_matrix_c),\n",
        "    trainable = True,\n",
        "    embeddings_regularizer=None,\n",
        "    activity_regularizer=None,\n",
        "    embeddings_constraint=None,\n",
        "    mask_zero=False,\n",
        "    input_length=MAX_CLAIM_LENGTH\n",
        ")\n",
        "\n",
        "evidences_embedding_layer = tf.keras.layers.Embedding(\n",
        "    len(evidence_tokenizer.word_index)+1,\n",
        "    embedded_dimension,\n",
        "    embeddings_initializer=keras.initializers.Constant(embedding_matrix_e),\n",
        "    trainable = True,\n",
        "    embeddings_regularizer=None,\n",
        "    activity_regularizer=None,\n",
        "    embeddings_constraint=None,\n",
        "    mask_zero=False,\n",
        "    input_length=MAX_EVIDENCE_LENGTH\n",
        ")\n",
        "\n",
        "x1 = claims_embedding_layer(claim_input)\n",
        "x2 = evidences_embedding_layer(evidence_input)\n",
        "\n",
        "x1 = Bidirectional(LSTM(units=int(embedded_dimension/4),\n",
        "                          return_sequences=False))(x1) \n",
        "\n",
        "x2 = Bidirectional(LSTM(units=int(embedded_dimension/4), \n",
        "                          return_sequences=False))(x2) \n",
        "\n",
        "# Merge layer\n",
        "mean_x = tf.keras.layers.Average()([x1,x2])\n",
        "\n",
        "# dropout\n",
        "dropout = tf.keras.layers.Dropout(0.25)(mean_x)\n",
        "\n",
        "# classification final layer\n",
        "outputs = layers.Dense(3, activation='softmax')(dropout)\n",
        "\n",
        "model_RNN_last = keras.Model(inputs=[claim_input, evidence_input], outputs=outputs, name=\"RNN_last\")\n",
        "model_RNN_last.summary()"
      ]
    },
    {
      "cell_type": "code",
      "execution_count": null,
      "metadata": {
        "colab": {
          "base_uri": "https://localhost:8080/",
          "height": 564
        },
        "id": "oYwwbGpyVsEr",
        "outputId": "995dc60c-3061-4e28-c08b-c8c6fb49b95c"
      },
      "outputs": [
        {
          "output_type": "execute_result",
          "data": {
            "image/png": "[encoded data removed]",
            "text/plain": [
              "<IPython.core.display.Image object>"
            ]
          },
          "metadata": {},
          "execution_count": 36
        }
      ],
      "source": [
        "keras.utils.plot_model(model_RNN_last, \"RNN_last.png\")"
      ]
    },
    {
      "cell_type": "markdown",
      "metadata": {
        "id": "oLeA5t3tYayh"
      },
      "source": [
        "## 2. Encode token sequences via a RNN and average all the output states."
      ]
    },
    {
      "cell_type": "code",
      "execution_count": null,
      "metadata": {
        "colab": {
          "base_uri": "https://localhost:8080/"
        },
        "id": "cBK_mFh3Yd8D",
        "outputId": "8af6b651-e415-4020-898c-cacbfd5a9ba5"
      },
      "outputs": [
        {
          "output_type": "stream",
          "name": "stdout",
          "text": [
            "Model: \"RNN_mean\"\n",
            "__________________________________________________________________________________________________\n",
            " Layer (type)                   Output Shape         Param #     Connected to                     \n",
            "==================================================================================================\n",
            " input_10 (InputLayer)          [(None, 65)]         0           []                               \n",
            "                                                                                                  \n",
            " input_9 (InputLayer)           [(None, 209)]        0           []                               \n",
            "                                                                                                  \n",
            " embedding_8 (Embedding)        (None, 65, 100)      2480300     ['input_10[0][0]']               \n",
            "                                                                                                  \n",
            " embedding_9 (Embedding)        (None, 209, 100)     3796900     ['input_9[0][0]']                \n",
            "                                                                                                  \n",
            " lstm_6 (LSTM)                  (None, 65, 25)       12600       ['embedding_8[0][0]']            \n",
            "                                                                                                  \n",
            " lstm_7 (LSTM)                  (None, 209, 25)      12600       ['embedding_9[0][0]']            \n",
            "                                                                                                  \n",
            " tf.math.reduce_mean_2 (TFOpLam  (None, 25)          0           ['lstm_6[0][0]']                 \n",
            " bda)                                                                                             \n",
            "                                                                                                  \n",
            " tf.math.reduce_mean_3 (TFOpLam  (None, 25)          0           ['lstm_7[0][0]']                 \n",
            " bda)                                                                                             \n",
            "                                                                                                  \n",
            " average_4 (Average)            (None, 25)           0           ['tf.math.reduce_mean_2[0][0]',  \n",
            "                                                                  'tf.math.reduce_mean_3[0][0]']  \n",
            "                                                                                                  \n",
            " dense_6 (Dense)                (None, 2)            52          ['average_4[0][0]']              \n",
            "                                                                                                  \n",
            "==================================================================================================\n",
            "Total params: 6,302,452\n",
            "Trainable params: 6,302,452\n",
            "Non-trainable params: 0\n",
            "__________________________________________________________________________________________________\n"
          ]
        }
      ],
      "source": [
        "# input layers\n",
        "evidence_input_layer = keras.Input(shape=(MAX_EVIDENCE_LENGTH, ))\n",
        "claim_input_layer = keras.Input(shape=(MAX_CLAIM_LENGTH, ))\n",
        "\n",
        "claim_input = claim_input_layer\n",
        "evidence_input = evidence_input_layer\n",
        "\n",
        "# Embeddings\n",
        "claims_embedding_layer = tf.keras.layers.Embedding(\n",
        "    len(claim_tokenizer.word_index)+1,\n",
        "    embedded_dimension,\n",
        "    embeddings_initializer=keras.initializers.Constant(embedding_matrix_c),\n",
        "    trainable = True,\n",
        "    embeddings_regularizer=None,\n",
        "    activity_regularizer=None,\n",
        "    embeddings_constraint=None,\n",
        "    mask_zero=False,\n",
        "    input_length=MAX_CLAIM_LENGTH\n",
        ")\n",
        "\n",
        "evidences_embedding_layer = tf.keras.layers.Embedding(\n",
        "    len(evidence_tokenizer.word_index)+1,\n",
        "    embedded_dimension,\n",
        "    embeddings_initializer=keras.initializers.Constant(embedding_matrix_e),\n",
        "    trainable = True,\n",
        "    embeddings_regularizer=None,\n",
        "    activity_regularizer=None,\n",
        "    embeddings_constraint=None,\n",
        "    mask_zero=False,\n",
        "    input_length=MAX_EVIDENCE_LENGTH\n",
        ")\n",
        "\n",
        "x1 = claims_embedding_layer(claim_input)\n",
        "x2 = evidences_embedding_layer(evidence_input)\n",
        "\n",
        "x1 = LSTM(units=int(embedded_dimension/4),\n",
        "                          return_sequences=True)(x1) \n",
        "\n",
        "x2 = LSTM(units=int(embedded_dimension/4),\n",
        "                          return_sequences=True)(x2) \n",
        "\n",
        "x1 = tf.reduce_mean(x1, 1)\n",
        "x2 = tf.reduce_mean(x2, 1)\n",
        "\n",
        "# Merge layer\n",
        "mean_x = tf.keras.layers.Average()([x1,x2])\n",
        "\n",
        "# classification final layer\n",
        "\n",
        "outputs = layers.Dense(2, activation='softmax')(mean_x)\n",
        "\n",
        "model_RNN_mean = keras.Model(inputs=[claim_input, evidence_input], outputs=outputs, name=\"RNN_mean\")\n",
        "model_RNN_mean.summary()"
      ]
    },
    {
      "cell_type": "code",
      "execution_count": null,
      "metadata": {
        "colab": {
          "base_uri": "https://localhost:8080/",
          "height": 564
        },
        "id": "Xj7ZxC_tYsfp",
        "outputId": "32fb948f-7ba3-43df-973d-66cc5c94a8ad"
      },
      "outputs": [
        {
          "output_type": "execute_result",
          "data": {
            "image/png": "[encoded data removed]",
            "text/plain": [
              "<IPython.core.display.Image object>"
            ]
          },
          "metadata": {},
          "execution_count": 38
        }
      ],
      "source": [
        "keras.utils.plot_model(model_RNN_mean, \"RNN_mean.png\")"
      ]
    },
    {
      "cell_type": "markdown",
      "metadata": {
        "id": "jix3-wr0aiFM"
      },
      "source": [
        "## 3. Encode token sequences via a simple MLP layer. "
      ]
    },
    {
      "cell_type": "code",
      "execution_count": null,
      "metadata": {
        "colab": {
          "base_uri": "https://localhost:8080/"
        },
        "id": "YyJRNDFwahh3",
        "outputId": "852acbb0-8bbf-4cd6-e295-6162de0f9468"
      },
      "outputs": [
        {
          "output_type": "stream",
          "name": "stdout",
          "text": [
            "Model: \"MLP\"\n",
            "__________________________________________________________________________________________________\n",
            " Layer (type)                   Output Shape         Param #     Connected to                     \n",
            "==================================================================================================\n",
            " input_12 (InputLayer)          [(None, 65)]         0           []                               \n",
            "                                                                                                  \n",
            " input_11 (InputLayer)          [(None, 209)]        0           []                               \n",
            "                                                                                                  \n",
            " embedding_10 (Embedding)       (None, 65, 100)      2480300     ['input_12[0][0]']               \n",
            "                                                                                                  \n",
            " embedding_11 (Embedding)       (None, 209, 100)     3796900     ['input_11[0][0]']               \n",
            "                                                                                                  \n",
            " tf.reshape_2 (TFOpLambda)      (None, 6500)         0           ['embedding_10[0][0]']           \n",
            "                                                                                                  \n",
            " tf.reshape_3 (TFOpLambda)      (None, 20900)        0           ['embedding_11[0][0]']           \n",
            "                                                                                                  \n",
            " dense_7 (Dense)                (None, 100)          650100      ['tf.reshape_2[0][0]']           \n",
            "                                                                                                  \n",
            " dense_8 (Dense)                (None, 100)          2090100     ['tf.reshape_3[0][0]']           \n",
            "                                                                                                  \n",
            " average_5 (Average)            (None, 100)          0           ['dense_7[0][0]',                \n",
            "                                                                  'dense_8[0][0]']                \n",
            "                                                                                                  \n",
            " dense_9 (Dense)                (None, 2)            202         ['average_5[0][0]']              \n",
            "                                                                                                  \n",
            "==================================================================================================\n",
            "Total params: 9,017,602\n",
            "Trainable params: 9,017,602\n",
            "Non-trainable params: 0\n",
            "__________________________________________________________________________________________________\n"
          ]
        }
      ],
      "source": [
        "# input layers\n",
        "evidence_input_layer = keras.Input(shape=(MAX_EVIDENCE_LENGTH, ))\n",
        "claim_input_layer = keras.Input(shape=(MAX_CLAIM_LENGTH, ))\n",
        "\n",
        "claim_input = claim_input_layer\n",
        "evidence_input = evidence_input_layer\n",
        "\n",
        "# Embeddings\n",
        "claims_embedding_layer = tf.keras.layers.Embedding(\n",
        "    len(claim_tokenizer.word_index)+1,\n",
        "    embedded_dimension,\n",
        "    embeddings_initializer=keras.initializers.Constant(embedding_matrix_c),\n",
        "    trainable = True,\n",
        "    embeddings_regularizer=None,\n",
        "    activity_regularizer=None,\n",
        "    embeddings_constraint=None,\n",
        "    mask_zero=False,\n",
        "    input_length=MAX_CLAIM_LENGTH\n",
        ")\n",
        "\n",
        "evidences_embedding_layer = tf.keras.layers.Embedding(\n",
        "    len(evidence_tokenizer.word_index)+1,\n",
        "    embedded_dimension,\n",
        "    embeddings_initializer=keras.initializers.Constant(embedding_matrix_e),\n",
        "    trainable = True,\n",
        "    embeddings_regularizer=None,\n",
        "    activity_regularizer=None,\n",
        "    embeddings_constraint=None,\n",
        "    mask_zero=False,\n",
        "    input_length=MAX_EVIDENCE_LENGTH\n",
        ")\n",
        "\n",
        "x1 = claims_embedding_layer(claim_input)\n",
        "x2 = evidences_embedding_layer(evidence_input)\n",
        "\n",
        "x1 = tf.reshape(x1, [-1, MAX_CLAIM_LENGTH*embedded_dimension]) \n",
        "x2 = tf.reshape(x2, [-1, MAX_EVIDENCE_LENGTH*embedded_dimension]) \n",
        "  \n",
        "  \n",
        "x1 = Dense(embedded_dimension,activation='relu')(x1)  \n",
        "x2 = Dense(embedded_dimension,activation='relu')(x2)  \n",
        "\n",
        "\n",
        "# Merge layer\n",
        "mean_x = tf.keras.layers.Average()([x1,x2])\n",
        "\n",
        "# classification final layer\n",
        "\n",
        "outputs = layers.Dense(2, activation='softmax')(mean_x)\n",
        "\n",
        "model_MLP = keras.Model(inputs=[claim_input, evidence_input], outputs=outputs, name=\"MLP\")\n",
        "model_MLP.summary()"
      ]
    },
    {
      "cell_type": "markdown",
      "metadata": {
        "id": "_6ZA4eeYIAAU"
      },
      "source": [
        "## 4. Compute the sentence embedding as the mean of its token embeddings (bag of vectors)"
      ]
    },
    {
      "cell_type": "code",
      "execution_count": null,
      "metadata": {
        "colab": {
          "base_uri": "https://localhost:8080/"
        },
        "id": "gzVi4Fa64tF-",
        "outputId": "f7772ef9-62f3-4d6d-98ea-bb7cf3ac621b"
      },
      "outputs": [
        {
          "output_type": "stream",
          "name": "stdout",
          "text": [
            "Model: \"bag_of_words\"\n",
            "__________________________________________________________________________________________________\n",
            " Layer (type)                   Output Shape         Param #     Connected to                     \n",
            "==================================================================================================\n",
            " input_14 (InputLayer)          [(None, 65)]         0           []                               \n",
            "                                                                                                  \n",
            " input_13 (InputLayer)          [(None, 209)]        0           []                               \n",
            "                                                                                                  \n",
            " embedding_12 (Embedding)       (None, 65, 100)      2480300     ['input_14[0][0]']               \n",
            "                                                                                                  \n",
            " embedding_13 (Embedding)       (None, 209, 100)     3796900     ['input_13[0][0]']               \n",
            "                                                                                                  \n",
            " tf.math.reduce_mean_4 (TFOpLam  (None, 65)          0           ['embedding_12[0][0]']           \n",
            " bda)                                                                                             \n",
            "                                                                                                  \n",
            " tf.math.reduce_mean_5 (TFOpLam  (None, 209)         0           ['embedding_13[0][0]']           \n",
            " bda)                                                                                             \n",
            "                                                                                                  \n",
            " dense_10 (Dense)               (None, 100)          6600        ['tf.math.reduce_mean_4[0][0]']  \n",
            "                                                                                                  \n",
            " dense_11 (Dense)               (None, 100)          21000       ['tf.math.reduce_mean_5[0][0]']  \n",
            "                                                                                                  \n",
            " average_6 (Average)            (None, 100)          0           ['dense_10[0][0]',               \n",
            "                                                                  'dense_11[0][0]']               \n",
            "                                                                                                  \n",
            " dense_12 (Dense)               (None, 3)            303         ['average_6[0][0]']              \n",
            "                                                                                                  \n",
            "==================================================================================================\n",
            "Total params: 6,305,103\n",
            "Trainable params: 6,305,103\n",
            "Non-trainable params: 0\n",
            "__________________________________________________________________________________________________\n"
          ]
        }
      ],
      "source": [
        "# input layers\n",
        "evidence_input_layer = keras.Input(shape=(MAX_EVIDENCE_LENGTH, ))\n",
        "claim_input_layer = keras.Input(shape=(MAX_CLAIM_LENGTH, ))\n",
        "\n",
        "claim_input = claim_input_layer\n",
        "evidence_input = evidence_input_layer\n",
        "\n",
        "# Embeddings\n",
        "claims_embedding_layer = tf.keras.layers.Embedding(\n",
        "    len(claim_tokenizer.word_index)+1,\n",
        "    100,\n",
        "    embeddings_initializer=keras.initializers.Constant(embedding_matrix_c),\n",
        "    trainable = True,\n",
        "    embeddings_regularizer=None,\n",
        "    activity_regularizer=None,\n",
        "    embeddings_constraint=None,\n",
        "    mask_zero=False,\n",
        "    input_length=MAX_CLAIM_LENGTH\n",
        ")\n",
        "\n",
        "evidences_embedding_layer = tf.keras.layers.Embedding(\n",
        "    len(evidence_tokenizer.word_index)+1,\n",
        "    100,\n",
        "    embeddings_initializer=keras.initializers.Constant(embedding_matrix_e),\n",
        "    trainable = True,\n",
        "    embeddings_regularizer=None,\n",
        "    activity_regularizer=None,\n",
        "    embeddings_constraint=None,\n",
        "    mask_zero=False,\n",
        "    input_length=MAX_EVIDENCE_LENGTH\n",
        ")\n",
        "\n",
        "x1 = claims_embedding_layer(claim_input)\n",
        "x2 = evidences_embedding_layer(evidence_input)\n",
        "\n",
        "# Mean\n",
        "x_claim = tf.math.reduce_mean(x1, axis=-1, keepdims=False)\n",
        "x_evidence = tf.math.reduce_mean(x2, axis=-1, keepdims=False)\n",
        "\n",
        "# Dense\n",
        "claim_dense = layers.Dense(embedded_dimension, activation='relu')(x_claim)\n",
        "evidence_dense = layers.Dense(embedded_dimension, activation='relu')(x_evidence)\n",
        "\n",
        "# Merge layer\n",
        "mean_x = tf.keras.layers.Average()([claim_dense,evidence_dense])\n",
        "\n",
        "# classification final layer\n",
        "classification_layer = layers.Dense(3, activation='softmax')\n",
        "\n",
        "outputs = classification_layer(mean_x)\n",
        "\n",
        "model_bag_of_words = keras.Model(inputs=[claim_input, evidence_input], outputs=outputs, name=\"bag_of_words\")\n",
        "model_bag_of_words.summary()"
      ]
    },
    {
      "cell_type": "code",
      "execution_count": null,
      "metadata": {
        "colab": {
          "base_uri": "https://localhost:8080/",
          "height": 564
        },
        "id": "e6BsxeOuKos7",
        "outputId": "16415120-4f26-47e5-a5be-ec2ccef8a3cf"
      },
      "outputs": [
        {
          "output_type": "execute_result",
          "data": {
            "image/png": "[encoded data removed]",
            "text/plain": [
              "<IPython.core.display.Image object>"
            ]
          },
          "metadata": {},
          "execution_count": 41
        }
      ],
      "source": [
        "keras.utils.plot_model(model_bag_of_words, \"bag_of_words.png\")"
      ]
    },
    {
      "cell_type": "markdown",
      "metadata": {
        "id": "R5Qo3ZO6NzQf"
      },
      "source": [
        "# Training"
      ]
    },
    {
      "cell_type": "markdown",
      "metadata": {
        "id": "wjyVXzc-SQl6"
      },
      "source": [
        "##Metrics and model parameters"
      ]
    },
    {
      "cell_type": "code",
      "execution_count": null,
      "metadata": {
        "id": "dJhJ_QpGQZPM"
      },
      "outputs": [],
      "source": [
        "metrics = [keras.metrics.TruePositives(name='tp'),\n",
        "           keras.metrics.FalsePositives(name='fp'),\n",
        "           keras.metrics.TrueNegatives(name='tn'),\n",
        "           keras.metrics.FalseNegatives(name='fn'),\n",
        "           keras.metrics.BinaryAccuracy(name='accuracy'),\n",
        "           keras.metrics.Precision(name='precision'),\n",
        "           keras.metrics.Recall(name='recall'),\n",
        "           keras.metrics.AUC(name='auc')]\n",
        "           #tfa.metrics.F1Score(num_classes=2, threshold=0.5),\n",
        "           #tfa.metrics.CohenKappa(num_classes=2, sparse_labels=True)]\n",
        "\n",
        "es_callback = tf.keras.callbacks.EarlyStopping(monitor='val_loss', patience=5)"
      ]
    },
    {
      "cell_type": "markdown",
      "metadata": {
        "id": "vIb1DZ8uTS_R"
      },
      "source": [
        "##1st model training"
      ]
    },
    {
      "cell_type": "code",
      "execution_count": null,
      "metadata": {
        "colab": {
          "base_uri": "https://localhost:8080/"
        },
        "id": "vVMCw7zYTEhR",
        "outputId": "751b24ca-c980-4b73-d18e-20bfabad21dc"
      },
      "outputs": [
        {
          "output_type": "stream",
          "name": "stdout",
          "text": [
            "Epoch 1/10\n",
            "119/119 [==============================] - 322s 3s/step - loss: 0.6175 - tp: 86284.0000 - fp: 33420.0000 - tn: 210060.0000 - fn: 35456.0000 - accuracy: 0.8114 - precision: 0.7208 - recall: 0.7088 - auc: 0.8683 - val_loss: 0.8470 - val_tp: 3611.0000 - val_fp: 3554.0000 - val_tn: 10776.0000 - val_fn: 3554.0000 - val_accuracy: 0.6693 - val_precision: 0.5040 - val_recall: 0.5040 - val_auc: 0.7546\n",
            "Epoch 2/10\n",
            "119/119 [==============================] - 303s 3s/step - loss: 0.5816 - tp: 89343.0000 - fp: 32380.0000 - tn: 211100.0000 - fn: 32397.0000 - accuracy: 0.8226 - precision: 0.7340 - recall: 0.7339 - auc: 0.8777 - val_loss: 0.8301 - val_tp: 3611.0000 - val_fp: 3554.0000 - val_tn: 10776.0000 - val_fn: 3554.0000 - val_accuracy: 0.6693 - val_precision: 0.5040 - val_recall: 0.5040 - val_auc: 0.7575\n",
            "Epoch 3/10\n",
            "119/119 [==============================] - 300s 3s/step - loss: 0.5798 - tp: 89387.0000 - fp: 32350.0000 - tn: 211130.0000 - fn: 32353.0000 - accuracy: 0.8228 - precision: 0.7343 - recall: 0.7342 - auc: 0.8780 - val_loss: 0.8303 - val_tp: 3611.0000 - val_fp: 3554.0000 - val_tn: 10776.0000 - val_fn: 3554.0000 - val_accuracy: 0.6693 - val_precision: 0.5040 - val_recall: 0.5040 - val_auc: 0.7608\n",
            "Epoch 4/10\n",
            "119/119 [==============================] - 302s 3s/step - loss: 0.5778 - tp: 89389.0000 - fp: 32351.0000 - tn: 211129.0000 - fn: 32351.0000 - accuracy: 0.8228 - precision: 0.7343 - recall: 0.7343 - auc: 0.8790 - val_loss: 0.8295 - val_tp: 3611.0000 - val_fp: 3554.0000 - val_tn: 10776.0000 - val_fn: 3554.0000 - val_accuracy: 0.6693 - val_precision: 0.5040 - val_recall: 0.5040 - val_auc: 0.7594\n",
            "Epoch 5/10\n",
            "119/119 [==============================] - 300s 3s/step - loss: 0.5758 - tp: 89390.0000 - fp: 32350.0000 - tn: 211130.0000 - fn: 32350.0000 - accuracy: 0.8228 - precision: 0.7343 - recall: 0.7343 - auc: 0.8804 - val_loss: 0.8273 - val_tp: 3611.0000 - val_fp: 3554.0000 - val_tn: 10776.0000 - val_fn: 3554.0000 - val_accuracy: 0.6693 - val_precision: 0.5040 - val_recall: 0.5040 - val_auc: 0.7629\n",
            "Epoch 6/10\n",
            "119/119 [==============================] - 300s 3s/step - loss: 0.5742 - tp: 89391.0000 - fp: 32349.0000 - tn: 211131.0000 - fn: 32349.0000 - accuracy: 0.8229 - precision: 0.7343 - recall: 0.7343 - auc: 0.8817 - val_loss: 0.8247 - val_tp: 3611.0000 - val_fp: 3554.0000 - val_tn: 10776.0000 - val_fn: 3554.0000 - val_accuracy: 0.6693 - val_precision: 0.5040 - val_recall: 0.5040 - val_auc: 0.7605\n",
            "Epoch 7/10\n",
            "119/119 [==============================] - 301s 3s/step - loss: 0.5723 - tp: 89389.0000 - fp: 32351.0000 - tn: 211129.0000 - fn: 32351.0000 - accuracy: 0.8228 - precision: 0.7343 - recall: 0.7343 - auc: 0.8835 - val_loss: 0.8186 - val_tp: 3611.0000 - val_fp: 3554.0000 - val_tn: 10776.0000 - val_fn: 3554.0000 - val_accuracy: 0.6693 - val_precision: 0.5040 - val_recall: 0.5040 - val_auc: 0.7618\n",
            "Epoch 8/10\n",
            "119/119 [==============================] - 300s 3s/step - loss: 0.5692 - tp: 89388.0000 - fp: 32350.0000 - tn: 211130.0000 - fn: 32352.0000 - accuracy: 0.8228 - precision: 0.7343 - recall: 0.7343 - auc: 0.8858 - val_loss: 0.8255 - val_tp: 3611.0000 - val_fp: 3554.0000 - val_tn: 10776.0000 - val_fn: 3554.0000 - val_accuracy: 0.6693 - val_precision: 0.5040 - val_recall: 0.5040 - val_auc: 0.7671\n",
            "Epoch 9/10\n",
            "119/119 [==============================] - 300s 3s/step - loss: 0.5613 - tp: 89395.0000 - fp: 32338.0000 - tn: 211142.0000 - fn: 32345.0000 - accuracy: 0.8229 - precision: 0.7344 - recall: 0.7343 - auc: 0.8916 - val_loss: 0.8159 - val_tp: 3611.0000 - val_fp: 3554.0000 - val_tn: 10776.0000 - val_fn: 3554.0000 - val_accuracy: 0.6693 - val_precision: 0.5040 - val_recall: 0.5040 - val_auc: 0.7737\n",
            "Epoch 10/10\n",
            "119/119 [==============================] - 304s 3s/step - loss: 0.5516 - tp: 89633.0000 - fp: 32091.0000 - tn: 211389.0000 - fn: 32107.0000 - accuracy: 0.8242 - precision: 0.7364 - recall: 0.7363 - auc: 0.8973 - val_loss: 0.8115 - val_tp: 3611.0000 - val_fp: 3554.0000 - val_tn: 10776.0000 - val_fn: 3554.0000 - val_accuracy: 0.6693 - val_precision: 0.5040 - val_recall: 0.5040 - val_auc: 0.7796\n"
          ]
        }
      ],
      "source": [
        "sgdopt = tf.keras.optimizers.SGD(learning_rate=0.1)\n",
        "adamopt = keras.optimizers.Adam(0.001)\n",
        "model_RNN_last.compile(\n",
        "    loss=keras.losses.CategoricalCrossentropy(),\n",
        "    optimizer= adamopt,\n",
        "    metrics=metrics\n",
        ")\n",
        "\n",
        "RNN_last_history = model_RNN_last.fit([train_claims_X, train_evidences_X], train_labels_y, batch_size=1024, shuffle=False, epochs=10, validation_data=([val_claims_X, val_evidences_X], val_labels_y))"
      ]
    },
    {
      "cell_type": "markdown",
      "metadata": {
        "id": "GByFQN-eSWuY"
      },
      "source": [
        "##2nd model training"
      ]
    },
    {
      "cell_type": "code",
      "execution_count": null,
      "metadata": {
        "id": "7NgRKuwgG4tz",
        "colab": {
          "base_uri": "https://localhost:8080/"
        },
        "outputId": "3101498b-e8b9-4fbf-f391-0c3fc56fa359"
      },
      "outputs": [
        {
          "output_type": "stream",
          "name": "stdout",
          "text": [
            "Epoch 1/10\n",
            "119/119 [==============================] - 176s 1s/step - loss: 0.5858 - tp: 93050.0000 - fp: 35855.0000 - tn: 93050.0000 - fn: 35855.0000 - accuracy: 0.7218 - precision: 0.7218 - recall: 0.7218 - auc: 0.7342 - val_loss: 0.8136 - val_tp: 3611.0000 - val_fp: 3554.0000 - val_tn: 3611.0000 - val_fn: 3554.0000 - val_accuracy: 0.5040 - val_precision: 0.5040 - val_recall: 0.5040 - val_auc: 0.5068\n",
            "Epoch 2/10\n",
            "119/119 [==============================] - 160s 1s/step - loss: 0.5778 - tp: 89389.0000 - fp: 32351.0000 - tn: 89389.0000 - fn: 32351.0000 - accuracy: 0.7343 - precision: 0.7343 - recall: 0.7343 - auc: 0.7464 - val_loss: 0.8082 - val_tp: 3611.0000 - val_fp: 3554.0000 - val_tn: 3611.0000 - val_fn: 3554.0000 - val_accuracy: 0.5040 - val_precision: 0.5040 - val_recall: 0.5040 - val_auc: 0.5324\n",
            "Epoch 3/10\n",
            "119/119 [==============================] - 159s 1s/step - loss: 0.5576 - tp: 89389.0000 - fp: 32351.0000 - tn: 89389.0000 - fn: 32351.0000 - accuracy: 0.7343 - precision: 0.7343 - recall: 0.7343 - auc: 0.7969 - val_loss: 0.7630 - val_tp: 3611.0000 - val_fp: 3554.0000 - val_tn: 3611.0000 - val_fn: 3554.0000 - val_accuracy: 0.5040 - val_precision: 0.5040 - val_recall: 0.5040 - val_auc: 0.6136\n",
            "Epoch 4/10\n",
            "119/119 [==============================] - 160s 1s/step - loss: 0.4746 - tp: 94736.0000 - fp: 27004.0000 - tn: 94736.0000 - fn: 27004.0000 - accuracy: 0.7782 - precision: 0.7782 - recall: 0.7782 - auc: 0.8585 - val_loss: 0.6133 - val_tp: 5183.0000 - val_fp: 1982.0000 - val_tn: 5183.0000 - val_fn: 1982.0000 - val_accuracy: 0.7234 - val_precision: 0.7234 - val_recall: 0.7234 - val_auc: 0.7470\n",
            "Epoch 5/10\n",
            "119/119 [==============================] - 161s 1s/step - loss: 0.4028 - tp: 102089.0000 - fp: 19651.0000 - tn: 102089.0000 - fn: 19651.0000 - accuracy: 0.8386 - precision: 0.8386 - recall: 0.8386 - auc: 0.8991 - val_loss: 0.6310 - val_tp: 5191.0000 - val_fp: 1974.0000 - val_tn: 5191.0000 - val_fn: 1974.0000 - val_accuracy: 0.7245 - val_precision: 0.7245 - val_recall: 0.7245 - val_auc: 0.7469\n",
            "Epoch 6/10\n",
            "119/119 [==============================] - 162s 1s/step - loss: 0.3631 - tp: 104391.0000 - fp: 17349.0000 - tn: 104391.0000 - fn: 17349.0000 - accuracy: 0.8575 - precision: 0.8575 - recall: 0.8575 - auc: 0.9169 - val_loss: 0.6228 - val_tp: 5143.0000 - val_fp: 2022.0000 - val_tn: 5143.0000 - val_fn: 2022.0000 - val_accuracy: 0.7178 - val_precision: 0.7178 - val_recall: 0.7178 - val_auc: 0.7670\n",
            "Epoch 7/10\n",
            "119/119 [==============================] - 160s 1s/step - loss: 0.3420 - tp: 105590.0000 - fp: 16150.0000 - tn: 105590.0000 - fn: 16150.0000 - accuracy: 0.8673 - precision: 0.8673 - recall: 0.8673 - auc: 0.9258 - val_loss: 0.6232 - val_tp: 5210.0000 - val_fp: 1955.0000 - val_tn: 5210.0000 - val_fn: 1955.0000 - val_accuracy: 0.7271 - val_precision: 0.7271 - val_recall: 0.7271 - val_auc: 0.7720\n",
            "Epoch 8/10\n",
            "119/119 [==============================] - 159s 1s/step - loss: 0.3194 - tp: 106820.0000 - fp: 14920.0000 - tn: 106820.0000 - fn: 14920.0000 - accuracy: 0.8774 - precision: 0.8774 - recall: 0.8774 - auc: 0.9344 - val_loss: 0.6491 - val_tp: 5234.0000 - val_fp: 1931.0000 - val_tn: 5234.0000 - val_fn: 1931.0000 - val_accuracy: 0.7305 - val_precision: 0.7305 - val_recall: 0.7305 - val_auc: 0.7747\n",
            "Epoch 9/10\n",
            "119/119 [==============================] - 160s 1s/step - loss: 0.3080 - tp: 107362.0000 - fp: 14378.0000 - tn: 107362.0000 - fn: 14378.0000 - accuracy: 0.8819 - precision: 0.8819 - recall: 0.8819 - auc: 0.9382 - val_loss: 0.6186 - val_tp: 5224.0000 - val_fp: 1941.0000 - val_tn: 5224.0000 - val_fn: 1941.0000 - val_accuracy: 0.7291 - val_precision: 0.7291 - val_recall: 0.7291 - val_auc: 0.7923\n",
            "Epoch 10/10\n",
            "119/119 [==============================] - 160s 1s/step - loss: 0.2945 - tp: 108047.0000 - fp: 13693.0000 - tn: 108047.0000 - fn: 13693.0000 - accuracy: 0.8875 - precision: 0.8875 - recall: 0.8875 - auc: 0.9429 - val_loss: 0.7080 - val_tp: 5136.0000 - val_fp: 2029.0000 - val_tn: 5136.0000 - val_fn: 2029.0000 - val_accuracy: 0.7168 - val_precision: 0.7168 - val_recall: 0.7168 - val_auc: 0.7656\n"
          ]
        }
      ],
      "source": [
        "model_RNN_mean.compile(\n",
        "    loss=keras.losses.BinaryCrossentropy(),\n",
        "    optimizer=keras.optimizers.Adam(),\n",
        "    metrics=metrics\n",
        ")\n",
        "\n",
        "RNN_mean_history = model_RNN_mean.fit([train_claims_X, train_evidences_X], train_labels_y, batch_size=1024, shuffle=True, epochs=10, validation_data=([val_claims_X, val_evidences_X], val_labels_y))"
      ]
    },
    {
      "cell_type": "markdown",
      "source": [
        "loss: 0.3243 - tp: 106566.0000 - fp: 16242.0000 - tn: 105498.0000 - fn: 15174.0000 - accuracy: 0.8710 - auc: 0.9342 - val_loss: 0.6672 - val_tp: 5183.0000 - val_fp: 2038.0000 - val_tn: 5127.0000 - val_fn: 1982.0000 - val_accuracy: 0.7195 - val_auc: 0.7697\n"
      ],
      "metadata": {
        "id": "5rTyynmp3KkL"
      }
    },
    {
      "cell_type": "markdown",
      "metadata": {
        "id": "hKdH9x5yerJW"
      },
      "source": [
        "##3rd model training"
      ]
    },
    {
      "cell_type": "code",
      "execution_count": null,
      "metadata": {
        "id": "JayR8ze5eu0n",
        "colab": {
          "base_uri": "https://localhost:8080/"
        },
        "outputId": "047c1e2e-6001-4f40-b53c-2ec658f0f7ad"
      },
      "outputs": [
        {
          "output_type": "stream",
          "name": "stdout",
          "text": [
            "Epoch 1/15\n",
            "238/238 [==============================] - 74s 304ms/step - loss: 0.3668 - tp: 106370.0000 - fp: 16142.0000 - tn: 105598.0000 - fn: 15370.0000 - accuracy: 0.8706 - precision: 0.8682 - recall: 0.8737 - auc: 0.9330 - val_loss: 0.6416 - val_tp: 5144.0000 - val_fp: 1990.0000 - val_tn: 5175.0000 - val_fn: 2021.0000 - val_accuracy: 0.7201 - val_precision: 0.7211 - val_recall: 0.7179 - val_auc: 0.8057\n",
            "Epoch 2/15\n",
            "238/238 [==============================] - 73s 308ms/step - loss: 0.2730 - tp: 108251.0000 - fp: 13796.0000 - tn: 107944.0000 - fn: 13489.0000 - accuracy: 0.8879 - precision: 0.8870 - recall: 0.8892 - auc: 0.9547 - val_loss: 0.6087 - val_tp: 5326.0000 - val_fp: 2031.0000 - val_tn: 5134.0000 - val_fn: 1839.0000 - val_accuracy: 0.7299 - val_precision: 0.7239 - val_recall: 0.7433 - val_auc: 0.8134\n",
            "Epoch 3/15\n",
            "238/238 [==============================] - 72s 301ms/step - loss: 0.2688 - tp: 108324.0000 - fp: 13622.0000 - tn: 108118.0000 - fn: 13416.0000 - accuracy: 0.8890 - precision: 0.8883 - recall: 0.8898 - auc: 0.9561 - val_loss: 0.5766 - val_tp: 5346.0000 - val_fp: 1925.0000 - val_tn: 5240.0000 - val_fn: 1819.0000 - val_accuracy: 0.7387 - val_precision: 0.7352 - val_recall: 0.7461 - val_auc: 0.8216\n",
            "Epoch 4/15\n",
            "238/238 [==============================] - 72s 302ms/step - loss: 0.2608 - tp: 108794.0000 - fp: 13026.0000 - tn: 108714.0000 - fn: 12946.0000 - accuracy: 0.8933 - precision: 0.8931 - recall: 0.8937 - auc: 0.9587 - val_loss: 0.8168 - val_tp: 4848.0000 - val_fp: 1975.0000 - val_tn: 5190.0000 - val_fn: 2317.0000 - val_accuracy: 0.7005 - val_precision: 0.7105 - val_recall: 0.6766 - val_auc: 0.7790\n",
            "Epoch 5/15\n",
            "238/238 [==============================] - 71s 300ms/step - loss: 0.2528 - tp: 109160.0000 - fp: 12623.0000 - tn: 109117.0000 - fn: 12580.0000 - accuracy: 0.8965 - precision: 0.8963 - recall: 0.8967 - auc: 0.9612 - val_loss: 0.6755 - val_tp: 5221.0000 - val_fp: 2024.0000 - val_tn: 5141.0000 - val_fn: 1944.0000 - val_accuracy: 0.7231 - val_precision: 0.7206 - val_recall: 0.7287 - val_auc: 0.8044\n",
            "Epoch 6/15\n",
            "238/238 [==============================] - 71s 298ms/step - loss: 0.2461 - tp: 109597.0000 - fp: 12242.0000 - tn: 109498.0000 - fn: 12143.0000 - accuracy: 0.8998 - precision: 0.8995 - recall: 0.9003 - auc: 0.9633 - val_loss: 0.7117 - val_tp: 5145.0000 - val_fp: 1995.0000 - val_tn: 5170.0000 - val_fn: 2020.0000 - val_accuracy: 0.7198 - val_precision: 0.7206 - val_recall: 0.7181 - val_auc: 0.7990\n",
            "Epoch 7/15\n",
            "238/238 [==============================] - 71s 299ms/step - loss: 0.2415 - tp: 109775.0000 - fp: 12067.0000 - tn: 109673.0000 - fn: 11965.0000 - accuracy: 0.9013 - precision: 0.9010 - recall: 0.9017 - auc: 0.9646 - val_loss: 0.7002 - val_tp: 5322.0000 - val_fp: 2107.0000 - val_tn: 5058.0000 - val_fn: 1843.0000 - val_accuracy: 0.7244 - val_precision: 0.7164 - val_recall: 0.7428 - val_auc: 0.8027\n",
            "Epoch 8/15\n",
            "238/238 [==============================] - 71s 297ms/step - loss: 0.2339 - tp: 110224.0000 - fp: 11556.0000 - tn: 110184.0000 - fn: 11516.0000 - accuracy: 0.9052 - precision: 0.9051 - recall: 0.9054 - auc: 0.9668 - val_loss: 0.8400 - val_tp: 5000.0000 - val_fp: 2054.0000 - val_tn: 5111.0000 - val_fn: 2165.0000 - val_accuracy: 0.7056 - val_precision: 0.7088 - val_recall: 0.6978 - val_auc: 0.7802\n",
            "Epoch 9/15\n",
            "238/238 [==============================] - 71s 300ms/step - loss: 0.2258 - tp: 110715.0000 - fp: 11082.0000 - tn: 110658.0000 - fn: 11025.0000 - accuracy: 0.9092 - precision: 0.9090 - recall: 0.9094 - auc: 0.9690 - val_loss: 0.8260 - val_tp: 4946.0000 - val_fp: 1955.0000 - val_tn: 5210.0000 - val_fn: 2219.0000 - val_accuracy: 0.7087 - val_precision: 0.7167 - val_recall: 0.6903 - val_auc: 0.7840\n",
            "Epoch 10/15\n",
            "238/238 [==============================] - 70s 295ms/step - loss: 0.2215 - tp: 110927.0000 - fp: 10949.0000 - tn: 110791.0000 - fn: 10813.0000 - accuracy: 0.9106 - precision: 0.9102 - recall: 0.9112 - auc: 0.9703 - val_loss: 0.7905 - val_tp: 5109.0000 - val_fp: 2016.0000 - val_tn: 5149.0000 - val_fn: 2056.0000 - val_accuracy: 0.7158 - val_precision: 0.7171 - val_recall: 0.7130 - val_auc: 0.7909\n",
            "Epoch 11/15\n",
            "238/238 [==============================] - 71s 298ms/step - loss: 0.2140 - tp: 111325.0000 - fp: 10421.0000 - tn: 111319.0000 - fn: 10415.0000 - accuracy: 0.9144 - precision: 0.9144 - recall: 0.9144 - auc: 0.9722 - val_loss: 0.7844 - val_tp: 5122.0000 - val_fp: 1979.0000 - val_tn: 5186.0000 - val_fn: 2043.0000 - val_accuracy: 0.7193 - val_precision: 0.7213 - val_recall: 0.7149 - val_auc: 0.7929\n",
            "Epoch 12/15\n",
            "238/238 [==============================] - 70s 294ms/step - loss: 0.2073 - tp: 111700.0000 - fp: 10099.0000 - tn: 111641.0000 - fn: 10040.0000 - accuracy: 0.9173 - precision: 0.9171 - recall: 0.9175 - auc: 0.9739 - val_loss: 0.7824 - val_tp: 5143.0000 - val_fp: 1957.0000 - val_tn: 5208.0000 - val_fn: 2022.0000 - val_accuracy: 0.7223 - val_precision: 0.7244 - val_recall: 0.7178 - val_auc: 0.7940\n",
            "Epoch 13/15\n",
            "238/238 [==============================] - 73s 307ms/step - loss: 0.2088 - tp: 111510.0000 - fp: 10248.0000 - tn: 111492.0000 - fn: 10230.0000 - accuracy: 0.9159 - precision: 0.9158 - recall: 0.9160 - auc: 0.9735 - val_loss: 0.8094 - val_tp: 5100.0000 - val_fp: 1986.0000 - val_tn: 5179.0000 - val_fn: 2065.0000 - val_accuracy: 0.7173 - val_precision: 0.7197 - val_recall: 0.7118 - val_auc: 0.7902\n",
            "Epoch 14/15\n",
            "238/238 [==============================] - 71s 300ms/step - loss: 0.1973 - tp: 112111.0000 - fp: 9657.0000 - tn: 112083.0000 - fn: 9629.0000 - accuracy: 0.9208 - precision: 0.9207 - recall: 0.9209 - auc: 0.9764 - val_loss: 0.7718 - val_tp: 5232.0000 - val_fp: 1976.0000 - val_tn: 5189.0000 - val_fn: 1933.0000 - val_accuracy: 0.7272 - val_precision: 0.7259 - val_recall: 0.7302 - val_auc: 0.7982\n",
            "Epoch 15/15\n",
            "238/238 [==============================] - 71s 300ms/step - loss: 0.2041 - tp: 111685.0000 - fp: 9929.0000 - tn: 111811.0000 - fn: 10055.0000 - accuracy: 0.9179 - precision: 0.9184 - recall: 0.9174 - auc: 0.9746 - val_loss: 0.7873 - val_tp: 5164.0000 - val_fp: 1962.0000 - val_tn: 5203.0000 - val_fn: 2001.0000 - val_accuracy: 0.7234 - val_precision: 0.7247 - val_recall: 0.7207 - val_auc: 0.7937\n"
          ]
        }
      ],
      "source": [
        "model_MLP.compile(\n",
        "    loss=keras.losses.BinaryCrossentropy(),\n",
        "    optimizer=keras.optimizers.Adam(),\n",
        "    metrics=metrics\n",
        ")\n",
        "\n",
        "MLP_history = model_MLP.fit([train_claims_X, train_evidences_X], train_labels_y, batch_size=512, shuffle=True, epochs=15, validation_data=([val_claims_X, val_evidences_X], val_labels_y))"
      ]
    },
    {
      "cell_type": "markdown",
      "metadata": {
        "id": "HZhOfAgDTXAT"
      },
      "source": [
        "##4th model training"
      ]
    },
    {
      "cell_type": "code",
      "execution_count": null,
      "metadata": {
        "id": "YXFEvJxDTcS5",
        "colab": {
          "base_uri": "https://localhost:8080/"
        },
        "outputId": "0d6cd608-2956-4e6a-f613-8c09c0a10d5e"
      },
      "outputs": [
        {
          "output_type": "stream",
          "name": "stdout",
          "text": [
            "Epoch 1/15\n",
            "952/952 [==============================] - 79s 80ms/step - loss: 0.3793 - tp: 92899.0000 - fp: 35110.0000 - tn: 222700.0000 - fn: 36006.0000 - accuracy: 0.8161 - precision: 0.7257 - recall: 0.7207 - auc: 0.8850 - val_loss: 0.4717 - val_tp: 4174.0000 - val_fp: 2991.0000 - val_tn: 11339.0000 - val_fn: 2991.0000 - val_accuracy: 0.7217 - val_precision: 0.5826 - val_recall: 0.5826 - val_auc: 0.8182\n",
            "Epoch 2/15\n",
            "952/952 [==============================] - 75s 79ms/step - loss: 0.2923 - tp: 98577.0000 - fp: 23161.0000 - tn: 220319.0000 - fn: 23163.0000 - accuracy: 0.8732 - precision: 0.8097 - recall: 0.8097 - auc: 0.9384 - val_loss: 0.4283 - val_tp: 4703.0000 - val_fp: 2462.0000 - val_tn: 11868.0000 - val_fn: 2462.0000 - val_accuracy: 0.7709 - val_precision: 0.6564 - val_recall: 0.6564 - val_auc: 0.8706\n",
            "Epoch 3/15\n",
            "952/952 [==============================] - 78s 81ms/step - loss: 0.2555 - tp: 101746.0000 - fp: 19994.0000 - tn: 223486.0000 - fn: 19994.0000 - accuracy: 0.8905 - precision: 0.8358 - recall: 0.8358 - auc: 0.9523 - val_loss: 0.3927 - val_tp: 5011.0000 - val_fp: 2154.0000 - val_tn: 12176.0000 - val_fn: 2154.0000 - val_accuracy: 0.7996 - val_precision: 0.6994 - val_recall: 0.6994 - val_auc: 0.8869\n",
            "Epoch 4/15\n",
            "952/952 [==============================] - 75s 79ms/step - loss: 0.2366 - tp: 103450.0000 - fp: 18290.0000 - tn: 225190.0000 - fn: 18290.0000 - accuracy: 0.8998 - precision: 0.8498 - recall: 0.8498 - auc: 0.9582 - val_loss: 0.3973 - val_tp: 5074.0000 - val_fp: 2091.0000 - val_tn: 12239.0000 - val_fn: 2091.0000 - val_accuracy: 0.8054 - val_precision: 0.7082 - val_recall: 0.7082 - val_auc: 0.8888\n",
            "Epoch 5/15\n",
            "952/952 [==============================] - 78s 82ms/step - loss: 0.2244 - tp: 104547.0000 - fp: 17193.0000 - tn: 226287.0000 - fn: 17193.0000 - accuracy: 0.9058 - precision: 0.8588 - recall: 0.8588 - auc: 0.9618 - val_loss: 0.4101 - val_tp: 5104.0000 - val_fp: 2061.0000 - val_tn: 12269.0000 - val_fn: 2061.0000 - val_accuracy: 0.8082 - val_precision: 0.7124 - val_recall: 0.7124 - val_auc: 0.8868\n",
            "Epoch 6/15\n",
            "952/952 [==============================] - 75s 79ms/step - loss: 0.2148 - tp: 105424.0000 - fp: 16316.0000 - tn: 227164.0000 - fn: 16316.0000 - accuracy: 0.9107 - precision: 0.8660 - recall: 0.8660 - auc: 0.9645 - val_loss: 0.4267 - val_tp: 5113.0000 - val_fp: 2052.0000 - val_tn: 12278.0000 - val_fn: 2052.0000 - val_accuracy: 0.8091 - val_precision: 0.7136 - val_recall: 0.7136 - val_auc: 0.8816\n",
            "Epoch 7/15\n",
            "952/952 [==============================] - 75s 79ms/step - loss: 0.2076 - tp: 106077.0000 - fp: 15663.0000 - tn: 227817.0000 - fn: 15663.0000 - accuracy: 0.9142 - precision: 0.8713 - recall: 0.8713 - auc: 0.9665 - val_loss: 0.4370 - val_tp: 5131.0000 - val_fp: 2034.0000 - val_tn: 12296.0000 - val_fn: 2034.0000 - val_accuracy: 0.8107 - val_precision: 0.7161 - val_recall: 0.7161 - val_auc: 0.8798\n",
            "Epoch 8/15\n",
            "952/952 [==============================] - 75s 79ms/step - loss: 0.2003 - tp: 106715.0000 - fp: 15025.0000 - tn: 228455.0000 - fn: 15025.0000 - accuracy: 0.9177 - precision: 0.8766 - recall: 0.8766 - auc: 0.9685 - val_loss: 0.4329 - val_tp: 5158.0000 - val_fp: 2007.0000 - val_tn: 12323.0000 - val_fn: 2007.0000 - val_accuracy: 0.8133 - val_precision: 0.7199 - val_recall: 0.7199 - val_auc: 0.8815\n",
            "Epoch 9/15\n",
            "952/952 [==============================] - 76s 79ms/step - loss: 0.1951 - tp: 107164.0000 - fp: 14576.0000 - tn: 228904.0000 - fn: 14576.0000 - accuracy: 0.9202 - precision: 0.8803 - recall: 0.8803 - auc: 0.9698 - val_loss: 0.4349 - val_tp: 5152.0000 - val_fp: 2013.0000 - val_tn: 12317.0000 - val_fn: 2013.0000 - val_accuracy: 0.8127 - val_precision: 0.7191 - val_recall: 0.7191 - val_auc: 0.8815\n",
            "Epoch 10/15\n",
            "952/952 [==============================] - 76s 80ms/step - loss: 0.1896 - tp: 107592.0000 - fp: 14148.0000 - tn: 229332.0000 - fn: 14148.0000 - accuracy: 0.9225 - precision: 0.8838 - recall: 0.8838 - auc: 0.9713 - val_loss: 0.4943 - val_tp: 5103.0000 - val_fp: 2062.0000 - val_tn: 12268.0000 - val_fn: 2062.0000 - val_accuracy: 0.8081 - val_precision: 0.7122 - val_recall: 0.7122 - val_auc: 0.8665\n",
            "Epoch 11/15\n",
            "952/952 [==============================] - 76s 80ms/step - loss: 0.1855 - tp: 107881.0000 - fp: 13859.0000 - tn: 229621.0000 - fn: 13859.0000 - accuracy: 0.9241 - precision: 0.8862 - recall: 0.8862 - auc: 0.9721 - val_loss: 0.4571 - val_tp: 5178.0000 - val_fp: 1987.0000 - val_tn: 12343.0000 - val_fn: 1987.0000 - val_accuracy: 0.8151 - val_precision: 0.7227 - val_recall: 0.7227 - val_auc: 0.8776\n",
            "Epoch 12/15\n",
            "952/952 [==============================] - 76s 80ms/step - loss: 0.1823 - tp: 108234.0000 - fp: 13506.0000 - tn: 229974.0000 - fn: 13506.0000 - accuracy: 0.9260 - precision: 0.8891 - recall: 0.8891 - auc: 0.9729 - val_loss: 0.4565 - val_tp: 5188.0000 - val_fp: 1977.0000 - val_tn: 12353.0000 - val_fn: 1977.0000 - val_accuracy: 0.8161 - val_precision: 0.7241 - val_recall: 0.7241 - val_auc: 0.8786\n",
            "Epoch 13/15\n",
            "952/952 [==============================] - 76s 80ms/step - loss: 0.1783 - tp: 108531.0000 - fp: 13209.0000 - tn: 230271.0000 - fn: 13209.0000 - accuracy: 0.9277 - precision: 0.8915 - recall: 0.8915 - auc: 0.9741 - val_loss: 0.5039 - val_tp: 5144.0000 - val_fp: 2021.0000 - val_tn: 12309.0000 - val_fn: 2021.0000 - val_accuracy: 0.8120 - val_precision: 0.7179 - val_recall: 0.7179 - val_auc: 0.8675\n",
            "Epoch 14/15\n",
            "952/952 [==============================] - 76s 80ms/step - loss: 0.1752 - tp: 108735.0000 - fp: 13005.0000 - tn: 230475.0000 - fn: 13005.0000 - accuracy: 0.9288 - precision: 0.8932 - recall: 0.8932 - auc: 0.9748 - val_loss: 0.5122 - val_tp: 5141.0000 - val_fp: 2024.0000 - val_tn: 12306.0000 - val_fn: 2024.0000 - val_accuracy: 0.8117 - val_precision: 0.7175 - val_recall: 0.7175 - val_auc: 0.8659\n",
            "Epoch 15/15\n",
            "952/952 [==============================] - 76s 80ms/step - loss: 0.1725 - tp: 108958.0000 - fp: 12782.0000 - tn: 230698.0000 - fn: 12782.0000 - accuracy: 0.9300 - precision: 0.8950 - recall: 0.8950 - auc: 0.9755 - val_loss: 0.5127 - val_tp: 5152.0000 - val_fp: 2013.0000 - val_tn: 12317.0000 - val_fn: 2013.0000 - val_accuracy: 0.8127 - val_precision: 0.7191 - val_recall: 0.7191 - val_auc: 0.8671\n"
          ]
        }
      ],
      "source": [
        "model_bag_of_words.compile(\n",
        "    loss=keras.losses.BinaryCrossentropy(),\n",
        "    optimizer=keras.optimizers.Adam(),\n",
        "    metrics=metrics\n",
        ")\n",
        "\n",
        "bag_of_words_history = model_bag_of_words.fit([train_claims_X, train_evidences_X], train_labels_y, batch_size=128, shuffle=True, epochs=15, validation_data=([val_claims_X, val_evidences_X], val_labels_y))"
      ]
    },
    {
      "cell_type": "markdown",
      "metadata": {
        "id": "visESLwlk8Om"
      },
      "source": [
        "#Model Evaluation"
      ]
    },
    {
      "cell_type": "markdown",
      "metadata": {
        "id": "SxzYoUxiAbdR"
      },
      "source": [
        ""
      ]
    },
    {
      "cell_type": "code",
      "execution_count": null,
      "metadata": {
        "id": "VwnjeyyB9Vfi"
      },
      "outputs": [],
      "source": [
        "target_names = ['SUPPORT', 'REFUTES'] "
      ]
    },
    {
      "cell_type": "markdown",
      "metadata": {
        "id": "RWfVYyGwlQc8"
      },
      "source": [
        "###RNN last state\n"
      ]
    },
    {
      "cell_type": "code",
      "execution_count": null,
      "metadata": {
        "id": "t5O5ZLwYlNPS",
        "colab": {
          "base_uri": "https://localhost:8080/"
        },
        "outputId": "f64d65af-a5e6-473f-b9cc-d842177f3671"
      },
      "outputs": [
        {
          "output_type": "stream",
          "name": "stdout",
          "text": [
            "225/225 [==============================] - 9s 29ms/step - loss: 0.8643 - tp: 4850.0000 - fp: 2376.0000 - tn: 4813.0000 - fn: 2339.0000 - accuracy: 0.0000e+00 - precision: 0.6712 - recall: 0.6746 - auc: 0.7017\n"
          ]
        }
      ],
      "source": [
        "ev = model_RNN_mean.evaluate((test_claims_X, test_evidences_X), test_labels_y, verbose=1)"
      ]
    },
    {
      "cell_type": "markdown",
      "metadata": {
        "id": "_95YJ-95la7D"
      },
      "source": [
        "###RNN mean state"
      ]
    },
    {
      "cell_type": "code",
      "execution_count": null,
      "metadata": {
        "id": "5V6r4LvOlPLF",
        "colab": {
          "base_uri": "https://localhost:8080/"
        },
        "outputId": "b60b9b3e-1732-4eee-f59e-248f335f2851"
      },
      "outputs": [
        {
          "output_type": "stream",
          "name": "stdout",
          "text": [
            "225/225 [==============================] - 6s 29ms/step - loss: 0.8643 - tp: 4850.0000 - fp: 2376.0000 - tn: 4813.0000 - fn: 2339.0000 - accuracy: 0.0000e+00 - precision: 0.6712 - recall: 0.6746 - auc: 0.7017\n"
          ]
        }
      ],
      "source": [
        "ev = model_RNN_mean.evaluate((test_claims_X, test_evidences_X), test_labels_y, verbose=1)"
      ]
    },
    {
      "cell_type": "markdown",
      "metadata": {
        "id": "XOysgawBleEv"
      },
      "source": [
        "###MLP"
      ]
    },
    {
      "cell_type": "code",
      "execution_count": null,
      "metadata": {
        "id": "5nNmHZLxlP2g"
      },
      "outputs": [],
      "source": [
        "ev_MLP = model_MLP.predict((test_claims_X, test_evidences_X))                                                                                                                                                                         \n",
        "pred = np.around(ev_MLP)"
      ]
    },
    {
      "cell_type": "markdown",
      "metadata": {
        "id": "cww06bOtFyS9"
      },
      "source": [
        "Multi-input classification evaluation"
      ]
    },
    {
      "cell_type": "code",
      "execution_count": null,
      "metadata": {
        "id": "RC9EMUKz9AYG",
        "colab": {
          "base_uri": "https://localhost:8080/"
        },
        "outputId": "d4837a18-fb1a-479e-89fb-21c042008423"
      },
      "outputs": [
        {
          "output_type": "stream",
          "name": "stdout",
          "text": [
            "              precision    recall  f1-score   support\n",
            "\n",
            "     SUPPORT       0.65      0.88      0.75      3606\n",
            "     REFUTES       0.83      0.51      0.63      3583\n",
            "\n",
            "   micro avg       0.70      0.69      0.70      7189\n",
            "   macro avg       0.74      0.69      0.69      7189\n",
            "weighted avg       0.74      0.69      0.69      7189\n",
            " samples avg       0.69      0.69      0.69      7189\n",
            "\n"
          ]
        },
        {
          "output_type": "stream",
          "name": "stderr",
          "text": [
            "/usr/local/lib/python3.7/dist-packages/sklearn/metrics/_classification.py:1308: UndefinedMetricWarning: Precision and F-score are ill-defined and being set to 0.0 in samples with no predicted labels. Use `zero_division` parameter to control this behavior.\n",
            "  _warn_prf(average, modifier, msg_start, len(result))\n"
          ]
        }
      ],
      "source": [
        "print(classification_report(test_labels_y, pred, target_names=target_names))"
      ]
    },
    {
      "cell_type": "markdown",
      "metadata": {
        "id": "cySPf7GsFte7"
      },
      "source": [
        "Claim verification evaluation"
      ]
    },
    {
      "cell_type": "code",
      "execution_count": null,
      "metadata": {
        "id": "gRMgE99nF1lB"
      },
      "outputs": [],
      "source": [
        ""
      ]
    },
    {
      "cell_type": "markdown",
      "metadata": {
        "id": "Pg8p4TgVlgXT"
      },
      "source": [
        "###Bag of words"
      ]
    },
    {
      "cell_type": "code",
      "execution_count": null,
      "metadata": {
        "id": "NQdYvq6Ak_bl"
      },
      "outputs": [],
      "source": [
        "ev_bag_of_words = model_bag_of_words.predict((test_claims_X, test_evidences_X))                                                                                                                                                                           \n",
        "pred_bag = np.around(ev_bag_of_words)"
      ]
    },
    {
      "cell_type": "code",
      "execution_count": null,
      "metadata": {
        "id": "mozz_2MO9aFr",
        "colab": {
          "base_uri": "https://localhost:8080/"
        },
        "outputId": "a5c175ff-f43c-4c57-abfb-40335babed0f"
      },
      "outputs": [
        {
          "output_type": "stream",
          "name": "stdout",
          "text": [
            "              precision    recall  f1-score   support\n",
            "\n",
            "     SUPPORT       0.66      0.81      0.73      3606\n",
            "     REFUTES       0.75      0.59      0.66      3583\n",
            "\n",
            "   micro avg       0.70      0.70      0.70      7189\n",
            "   macro avg       0.71      0.70      0.69      7189\n",
            "weighted avg       0.71      0.70      0.69      7189\n",
            " samples avg       0.70      0.70      0.70      7189\n",
            "\n"
          ]
        }
      ],
      "source": [
        "print(classification_report(test_labels_y, pred_bag, target_names=target_names))"
      ]
    }
  ],
  "metadata": {
    "colab": {
      "collapsed_sections": [
        "SKbNqIih5VdB",
        "OWFUj3pN5j_n",
        "Dm4IB81X5shY",
        "jZ4kki1fTQ3S",
        "oLeA5t3tYayh",
        "jix3-wr0aiFM"
      ],
      "name": "Assignment_2_avg_bow.ipynb",
      "provenance": []
    },
    "kernelspec": {
      "display_name": "Python 3",
      "name": "python3"
    }
  },
  "nbformat": 4,
  "nbformat_minor": 0
}