{
  "cells": [
    {
      "cell_type": "markdown",
      "metadata": {
        "id": "O1__yyNNQn6N"
      },
      "source": [
        "This model in particular uses:\n",
        "\n",
        "1. **Sentence Embedding** ->  Compute the sentence embedding as the mean of its token embeddings (bag of vectors).\n",
        "2.  **Input Merging** -> Mean: define the classification input as the mean of evidence and claim sentence embeddings\n",
        "\n"
      ]
    },
    {
      "cell_type": "markdown",
      "metadata": {
        "id": "SKbNqIih5VdB"
      },
      "source": [
        "# Imports"
      ]
    },
    {
      "cell_type": "code",
      "execution_count": 1,
      "metadata": {
        "id": "BP0S6fNH4fTx",
        "colab": {
          "base_uri": "https://localhost:8080/"
        },
        "outputId": "253bf7dc-960c-4a3d-93c3-7991e33c8566"
      },
      "outputs": [
        {
          "output_type": "stream",
          "name": "stdout",
          "text": [
            "Collecting tensorflow-addons\n",
            "  Downloading tensorflow_addons-0.15.0-cp37-cp37m-manylinux_2_12_x86_64.manylinux2010_x86_64.whl (1.1 MB)\n",
            "\u001b[?25l\r\u001b[K     |▎                               | 10 kB 20.7 MB/s eta 0:00:01\r\u001b[K     |▋                               | 20 kB 26.7 MB/s eta 0:00:01\r\u001b[K     |▉                               | 30 kB 33.2 MB/s eta 0:00:01\r\u001b[K     |█▏                              | 40 kB 35.0 MB/s eta 0:00:01\r\u001b[K     |█▌                              | 51 kB 36.7 MB/s eta 0:00:01\r\u001b[K     |█▊                              | 61 kB 24.4 MB/s eta 0:00:01\r\u001b[K     |██                              | 71 kB 21.7 MB/s eta 0:00:01\r\u001b[K     |██▍                             | 81 kB 23.3 MB/s eta 0:00:01\r\u001b[K     |██▋                             | 92 kB 24.1 MB/s eta 0:00:01\r\u001b[K     |███                             | 102 kB 25.7 MB/s eta 0:00:01\r\u001b[K     |███▎                            | 112 kB 25.7 MB/s eta 0:00:01\r\u001b[K     |███▌                            | 122 kB 25.7 MB/s eta 0:00:01\r\u001b[K     |███▉                            | 133 kB 25.7 MB/s eta 0:00:01\r\u001b[K     |████▏                           | 143 kB 25.7 MB/s eta 0:00:01\r\u001b[K     |████▍                           | 153 kB 25.7 MB/s eta 0:00:01\r\u001b[K     |████▊                           | 163 kB 25.7 MB/s eta 0:00:01\r\u001b[K     |█████                           | 174 kB 25.7 MB/s eta 0:00:01\r\u001b[K     |█████▎                          | 184 kB 25.7 MB/s eta 0:00:01\r\u001b[K     |█████▋                          | 194 kB 25.7 MB/s eta 0:00:01\r\u001b[K     |█████▉                          | 204 kB 25.7 MB/s eta 0:00:01\r\u001b[K     |██████▏                         | 215 kB 25.7 MB/s eta 0:00:01\r\u001b[K     |██████▌                         | 225 kB 25.7 MB/s eta 0:00:01\r\u001b[K     |██████▊                         | 235 kB 25.7 MB/s eta 0:00:01\r\u001b[K     |███████                         | 245 kB 25.7 MB/s eta 0:00:01\r\u001b[K     |███████▍                        | 256 kB 25.7 MB/s eta 0:00:01\r\u001b[K     |███████▋                        | 266 kB 25.7 MB/s eta 0:00:01\r\u001b[K     |████████                        | 276 kB 25.7 MB/s eta 0:00:01\r\u001b[K     |████████▎                       | 286 kB 25.7 MB/s eta 0:00:01\r\u001b[K     |████████▌                       | 296 kB 25.7 MB/s eta 0:00:01\r\u001b[K     |████████▉                       | 307 kB 25.7 MB/s eta 0:00:01\r\u001b[K     |█████████                       | 317 kB 25.7 MB/s eta 0:00:01\r\u001b[K     |█████████▍                      | 327 kB 25.7 MB/s eta 0:00:01\r\u001b[K     |█████████▊                      | 337 kB 25.7 MB/s eta 0:00:01\r\u001b[K     |██████████                      | 348 kB 25.7 MB/s eta 0:00:01\r\u001b[K     |██████████▎                     | 358 kB 25.7 MB/s eta 0:00:01\r\u001b[K     |██████████▋                     | 368 kB 25.7 MB/s eta 0:00:01\r\u001b[K     |██████████▉                     | 378 kB 25.7 MB/s eta 0:00:01\r\u001b[K     |███████████▏                    | 389 kB 25.7 MB/s eta 0:00:01\r\u001b[K     |███████████▌                    | 399 kB 25.7 MB/s eta 0:00:01\r\u001b[K     |███████████▊                    | 409 kB 25.7 MB/s eta 0:00:01\r\u001b[K     |████████████                    | 419 kB 25.7 MB/s eta 0:00:01\r\u001b[K     |████████████▍                   | 430 kB 25.7 MB/s eta 0:00:01\r\u001b[K     |████████████▋                   | 440 kB 25.7 MB/s eta 0:00:01\r\u001b[K     |█████████████                   | 450 kB 25.7 MB/s eta 0:00:01\r\u001b[K     |█████████████▎                  | 460 kB 25.7 MB/s eta 0:00:01\r\u001b[K     |█████████████▌                  | 471 kB 25.7 MB/s eta 0:00:01\r\u001b[K     |█████████████▉                  | 481 kB 25.7 MB/s eta 0:00:01\r\u001b[K     |██████████████                  | 491 kB 25.7 MB/s eta 0:00:01\r\u001b[K     |██████████████▍                 | 501 kB 25.7 MB/s eta 0:00:01\r\u001b[K     |██████████████▊                 | 512 kB 25.7 MB/s eta 0:00:01\r\u001b[K     |███████████████                 | 522 kB 25.7 MB/s eta 0:00:01\r\u001b[K     |███████████████▎                | 532 kB 25.7 MB/s eta 0:00:01\r\u001b[K     |███████████████▋                | 542 kB 25.7 MB/s eta 0:00:01\r\u001b[K     |███████████████▉                | 552 kB 25.7 MB/s eta 0:00:01\r\u001b[K     |████████████████▏               | 563 kB 25.7 MB/s eta 0:00:01\r\u001b[K     |████████████████▌               | 573 kB 25.7 MB/s eta 0:00:01\r\u001b[K     |████████████████▊               | 583 kB 25.7 MB/s eta 0:00:01\r\u001b[K     |█████████████████               | 593 kB 25.7 MB/s eta 0:00:01\r\u001b[K     |█████████████████▍              | 604 kB 25.7 MB/s eta 0:00:01\r\u001b[K     |█████████████████▋              | 614 kB 25.7 MB/s eta 0:00:01\r\u001b[K     |██████████████████              | 624 kB 25.7 MB/s eta 0:00:01\r\u001b[K     |██████████████████▏             | 634 kB 25.7 MB/s eta 0:00:01\r\u001b[K     |██████████████████▌             | 645 kB 25.7 MB/s eta 0:00:01\r\u001b[K     |██████████████████▉             | 655 kB 25.7 MB/s eta 0:00:01\r\u001b[K     |███████████████████             | 665 kB 25.7 MB/s eta 0:00:01\r\u001b[K     |███████████████████▍            | 675 kB 25.7 MB/s eta 0:00:01\r\u001b[K     |███████████████████▊            | 686 kB 25.7 MB/s eta 0:00:01\r\u001b[K     |████████████████████            | 696 kB 25.7 MB/s eta 0:00:01\r\u001b[K     |████████████████████▎           | 706 kB 25.7 MB/s eta 0:00:01\r\u001b[K     |████████████████████▋           | 716 kB 25.7 MB/s eta 0:00:01\r\u001b[K     |████████████████████▉           | 727 kB 25.7 MB/s eta 0:00:01\r\u001b[K     |█████████████████████▏          | 737 kB 25.7 MB/s eta 0:00:01\r\u001b[K     |█████████████████████▌          | 747 kB 25.7 MB/s eta 0:00:01\r\u001b[K     |█████████████████████▊          | 757 kB 25.7 MB/s eta 0:00:01\r\u001b[K     |██████████████████████          | 768 kB 25.7 MB/s eta 0:00:01\r\u001b[K     |██████████████████████▎         | 778 kB 25.7 MB/s eta 0:00:01\r\u001b[K     |██████████████████████▋         | 788 kB 25.7 MB/s eta 0:00:01\r\u001b[K     |███████████████████████         | 798 kB 25.7 MB/s eta 0:00:01\r\u001b[K     |███████████████████████▏        | 808 kB 25.7 MB/s eta 0:00:01\r\u001b[K     |███████████████████████▌        | 819 kB 25.7 MB/s eta 0:00:01\r\u001b[K     |███████████████████████▉        | 829 kB 25.7 MB/s eta 0:00:01\r\u001b[K     |████████████████████████        | 839 kB 25.7 MB/s eta 0:00:01\r\u001b[K     |████████████████████████▍       | 849 kB 25.7 MB/s eta 0:00:01\r\u001b[K     |████████████████████████▊       | 860 kB 25.7 MB/s eta 0:00:01\r\u001b[K     |█████████████████████████       | 870 kB 25.7 MB/s eta 0:00:01\r\u001b[K     |█████████████████████████▎      | 880 kB 25.7 MB/s eta 0:00:01\r\u001b[K     |█████████████████████████▋      | 890 kB 25.7 MB/s eta 0:00:01\r\u001b[K     |█████████████████████████▉      | 901 kB 25.7 MB/s eta 0:00:01\r\u001b[K     |██████████████████████████▏     | 911 kB 25.7 MB/s eta 0:00:01\r\u001b[K     |██████████████████████████▌     | 921 kB 25.7 MB/s eta 0:00:01\r\u001b[K     |██████████████████████████▊     | 931 kB 25.7 MB/s eta 0:00:01\r\u001b[K     |███████████████████████████     | 942 kB 25.7 MB/s eta 0:00:01\r\u001b[K     |███████████████████████████▎    | 952 kB 25.7 MB/s eta 0:00:01\r\u001b[K     |███████████████████████████▋    | 962 kB 25.7 MB/s eta 0:00:01\r\u001b[K     |████████████████████████████    | 972 kB 25.7 MB/s eta 0:00:01\r\u001b[K     |████████████████████████████▏   | 983 kB 25.7 MB/s eta 0:00:01\r\u001b[K     |████████████████████████████▌   | 993 kB 25.7 MB/s eta 0:00:01\r\u001b[K     |████████████████████████████▉   | 1.0 MB 25.7 MB/s eta 0:00:01\r\u001b[K     |█████████████████████████████   | 1.0 MB 25.7 MB/s eta 0:00:01\r\u001b[K     |█████████████████████████████▍  | 1.0 MB 25.7 MB/s eta 0:00:01\r\u001b[K     |█████████████████████████████▊  | 1.0 MB 25.7 MB/s eta 0:00:01\r\u001b[K     |██████████████████████████████  | 1.0 MB 25.7 MB/s eta 0:00:01\r\u001b[K     |██████████████████████████████▎ | 1.1 MB 25.7 MB/s eta 0:00:01\r\u001b[K     |██████████████████████████████▋ | 1.1 MB 25.7 MB/s eta 0:00:01\r\u001b[K     |██████████████████████████████▉ | 1.1 MB 25.7 MB/s eta 0:00:01\r\u001b[K     |███████████████████████████████▏| 1.1 MB 25.7 MB/s eta 0:00:01\r\u001b[K     |███████████████████████████████▍| 1.1 MB 25.7 MB/s eta 0:00:01\r\u001b[K     |███████████████████████████████▊| 1.1 MB 25.7 MB/s eta 0:00:01\r\u001b[K     |████████████████████████████████| 1.1 MB 25.7 MB/s \n",
            "\u001b[?25hRequirement already satisfied: typeguard>=2.7 in /usr/local/lib/python3.7/dist-packages (from tensorflow-addons) (2.7.1)\n",
            "Installing collected packages: tensorflow-addons\n",
            "Successfully installed tensorflow-addons-0.15.0\n"
          ]
        }
      ],
      "source": [
        "!pip install tensorflow-addons"
      ]
    },
    {
      "cell_type": "code",
      "execution_count": 2,
      "metadata": {
        "id": "NAkiMWm3nufu"
      },
      "outputs": [],
      "source": [
        "import os\n",
        "import datetime\n",
        "import requests\n",
        "import zipfile\n",
        "\n",
        "import pandas as pd\n",
        "import re\n",
        "import numpy as np\n",
        "\n",
        "import tensorflow as tf\n",
        "import tensorflow_addons as tfa\n",
        "from tensorflow import keras\n",
        "from keras import backend as K\n",
        "from tensorflow.keras import layers\n",
        "from keras.preprocessing.text import Tokenizer\n",
        "from keras.preprocessing.sequence import pad_sequences\n",
        "\n",
        "from keras.layers import LSTM, Bidirectional, TimeDistributed, Dense, InputLayer, Embedding, Activation\n",
        "from tensorflow.keras.optimizers import Adam, SGD\n",
        "from tensorflow.keras.metrics import BinaryAccuracy, Recall, Precision\n",
        "\n",
        "from sklearn.metrics import confusion_matrix\n",
        "from sklearn.metrics import classification_report"
      ]
    },
    {
      "cell_type": "code",
      "execution_count": 3,
      "metadata": {
        "id": "XbD-X1zZFvxl"
      },
      "outputs": [],
      "source": [
        "log_dir = \"logs/fit/\" + datetime.datetime.now().strftime(\"%Y%m%d-%H%M%S\")\n",
        "tensorboard_callback = tf.keras.callbacks.TensorBoard(log_dir=log_dir, histogram_freq=1)"
      ]
    },
    {
      "cell_type": "markdown",
      "metadata": {
        "id": "OWFUj3pN5j_n"
      },
      "source": [
        "# Dataset download & Splitting"
      ]
    },
    {
      "cell_type": "code",
      "execution_count": 4,
      "metadata": {
        "colab": {
          "base_uri": "https://localhost:8080/"
        },
        "id": "BspxZcRjW0NG",
        "outputId": "a4048299-485b-4f8f-d631-6543145ba40d"
      },
      "outputs": [
        {
          "output_type": "stream",
          "name": "stdout",
          "text": [
            "Downloading FEVER data splits...\n",
            "Download completed!\n",
            "Extracting dataset...\n",
            "Extraction completed!\n"
          ]
        }
      ],
      "source": [
        "def save_response_content(response, destination):\n",
        "    CHUNK_SIZE = 32768\n",
        "\n",
        "    with open(destination, \"wb\") as f:\n",
        "        for chunk in response.iter_content(CHUNK_SIZE):\n",
        "            if chunk: # filter out keep-alive new chunks\n",
        "                f.write(chunk)\n",
        "\n",
        "def download_data(data_path):\n",
        "    toy_data_path = os.path.join(data_path, 'fever_data.zip')\n",
        "    toy_data_url_id = \"1wArZhF9_SHW17WKNGeLmX-QTYw9Zscl1\"\n",
        "    toy_url = \"https://docs.google.com/uc?export=download\"\n",
        "\n",
        "    if not os.path.exists(data_path):\n",
        "        os.makedirs(data_path)\n",
        "\n",
        "    if not os.path.exists(toy_data_path):\n",
        "        print(\"Downloading FEVER data splits...\")\n",
        "        with requests.Session() as current_session:\n",
        "            response = current_session.get(toy_url,\n",
        "                                   params={'id': toy_data_url_id},\n",
        "                                   stream=True)\n",
        "        save_response_content(response, toy_data_path)\n",
        "        print(\"Download completed!\")\n",
        "\n",
        "        print(\"Extracting dataset...\")\n",
        "        with zipfile.ZipFile(toy_data_path) as loaded_zip:\n",
        "            loaded_zip.extractall(data_path)\n",
        "        print(\"Extraction completed!\")\n",
        "\n",
        "download_data('dataset')"
      ]
    },
    {
      "cell_type": "code",
      "execution_count": 5,
      "metadata": {
        "id": "BS9sP7_fMHXu"
      },
      "outputs": [],
      "source": [
        "test_name = \"test_pairs.csv\"\n",
        "train_name = \"train_pairs.csv\"\n",
        "val_name = \"val_pairs.csv\"\n",
        "\n",
        "\n",
        "test_path = os.path.join(os.getcwd(), \"dataset\", test_name)\n",
        "train_path = os.path.join(os.getcwd(), \"dataset\", train_name)\n",
        "val_path = os.path.join(os.getcwd(), \"dataset\", val_name)\n",
        "\n",
        "test_pairs = pd.read_csv(test_path);\n",
        "train_pairs = pd.read_csv(train_path);\n",
        "val_pairs = pd.read_csv(val_path);"
      ]
    },
    {
      "cell_type": "code",
      "execution_count": 6,
      "metadata": {
        "colab": {
          "base_uri": "https://localhost:8080/",
          "height": 0
        },
        "id": "i2FJ9JDLOABf",
        "outputId": "e8e92c8a-32ce-46a2-d50c-f191af1a5250"
      },
      "outputs": [
        {
          "output_type": "execute_result",
          "data": {
            "text/html": [
              "\n",
              "  <div id=\"df-521754f4-4b85-4c35-99b3-0a9d721f8c24\">\n",
              "    <div class=\"colab-df-container\">\n",
              "      <div>\n",
              "<style scoped>\n",
              "    .dataframe tbody tr th:only-of-type {\n",
              "        vertical-align: middle;\n",
              "    }\n",
              "\n",
              "    .dataframe tbody tr th {\n",
              "        vertical-align: top;\n",
              "    }\n",
              "\n",
              "    .dataframe thead th {\n",
              "        text-align: right;\n",
              "    }\n",
              "</style>\n",
              "<table border=\"1\" class=\"dataframe\">\n",
              "  <thead>\n",
              "    <tr style=\"text-align: right;\">\n",
              "      <th></th>\n",
              "      <th>Unnamed: 0</th>\n",
              "      <th>Claim</th>\n",
              "      <th>Evidence</th>\n",
              "      <th>ID</th>\n",
              "      <th>Label</th>\n",
              "    </tr>\n",
              "  </thead>\n",
              "  <tbody>\n",
              "    <tr>\n",
              "      <th>0</th>\n",
              "      <td>0</td>\n",
              "      <td>Chris Hemsworth appeared in A Perfect Getaway.</td>\n",
              "      <td>2\\tHemsworth has also appeared in the science ...</td>\n",
              "      <td>3</td>\n",
              "      <td>SUPPORTS</td>\n",
              "    </tr>\n",
              "    <tr>\n",
              "      <th>1</th>\n",
              "      <td>1</td>\n",
              "      <td>Roald Dahl is a writer.</td>\n",
              "      <td>0\\tRoald Dahl -LRB- -LSB- langpronˈroʊ.əld _ ˈ...</td>\n",
              "      <td>7</td>\n",
              "      <td>SUPPORTS</td>\n",
              "    </tr>\n",
              "    <tr>\n",
              "      <th>2</th>\n",
              "      <td>2</td>\n",
              "      <td>Roald Dahl is a governor.</td>\n",
              "      <td>0\\tRoald Dahl -LRB- -LSB- langpronˈroʊ.əld _ ˈ...</td>\n",
              "      <td>8</td>\n",
              "      <td>REFUTES</td>\n",
              "    </tr>\n",
              "    <tr>\n",
              "      <th>3</th>\n",
              "      <td>3</td>\n",
              "      <td>Ireland has relatively low-lying mountains.</td>\n",
              "      <td>10\\tThe island 's geography comprises relative...</td>\n",
              "      <td>9</td>\n",
              "      <td>SUPPORTS</td>\n",
              "    </tr>\n",
              "    <tr>\n",
              "      <th>4</th>\n",
              "      <td>4</td>\n",
              "      <td>Ireland does not have relatively low-lying mou...</td>\n",
              "      <td>10\\tThe island 's geography comprises relative...</td>\n",
              "      <td>10</td>\n",
              "      <td>REFUTES</td>\n",
              "    </tr>\n",
              "  </tbody>\n",
              "</table>\n",
              "</div>\n",
              "      <button class=\"colab-df-convert\" onclick=\"convertToInteractive('df-521754f4-4b85-4c35-99b3-0a9d721f8c24')\"\n",
              "              title=\"Convert this dataframe to an interactive table.\"\n",
              "              style=\"display:none;\">\n",
              "        \n",
              "  <svg xmlns=\"http://www.w3.org/2000/svg\" height=\"24px\"viewBox=\"0 0 24 24\"\n",
              "       width=\"24px\">\n",
              "    <path d=\"M0 0h24v24H0V0z\" fill=\"none\"/>\n",
              "    <path d=\"M18.56 5.44l.94 2.06.94-2.06 2.06-.94-2.06-.94-.94-2.06-.94 2.06-2.06.94zm-11 1L8.5 8.5l.94-2.06 2.06-.94-2.06-.94L8.5 2.5l-.94 2.06-2.06.94zm10 10l.94 2.06.94-2.06 2.06-.94-2.06-.94-.94-2.06-.94 2.06-2.06.94z\"/><path d=\"M17.41 7.96l-1.37-1.37c-.4-.4-.92-.59-1.43-.59-.52 0-1.04.2-1.43.59L10.3 9.45l-7.72 7.72c-.78.78-.78 2.05 0 2.83L4 21.41c.39.39.9.59 1.41.59.51 0 1.02-.2 1.41-.59l7.78-7.78 2.81-2.81c.8-.78.8-2.07 0-2.86zM5.41 20L4 18.59l7.72-7.72 1.47 1.35L5.41 20z\"/>\n",
              "  </svg>\n",
              "      </button>\n",
              "      \n",
              "  <style>\n",
              "    .colab-df-container {\n",
              "      display:flex;\n",
              "      flex-wrap:wrap;\n",
              "      gap: 12px;\n",
              "    }\n",
              "\n",
              "    .colab-df-convert {\n",
              "      background-color: #E8F0FE;\n",
              "      border: none;\n",
              "      border-radius: 50%;\n",
              "      cursor: pointer;\n",
              "      display: none;\n",
              "      fill: #1967D2;\n",
              "      height: 32px;\n",
              "      padding: 0 0 0 0;\n",
              "      width: 32px;\n",
              "    }\n",
              "\n",
              "    .colab-df-convert:hover {\n",
              "      background-color: #E2EBFA;\n",
              "      box-shadow: 0px 1px 2px rgba(60, 64, 67, 0.3), 0px 1px 3px 1px rgba(60, 64, 67, 0.15);\n",
              "      fill: #174EA6;\n",
              "    }\n",
              "\n",
              "    [theme=dark] .colab-df-convert {\n",
              "      background-color: #3B4455;\n",
              "      fill: #D2E3FC;\n",
              "    }\n",
              "\n",
              "    [theme=dark] .colab-df-convert:hover {\n",
              "      background-color: #434B5C;\n",
              "      box-shadow: 0px 1px 3px 1px rgba(0, 0, 0, 0.15);\n",
              "      filter: drop-shadow(0px 1px 2px rgba(0, 0, 0, 0.3));\n",
              "      fill: #FFFFFF;\n",
              "    }\n",
              "  </style>\n",
              "\n",
              "      <script>\n",
              "        const buttonEl =\n",
              "          document.querySelector('#df-521754f4-4b85-4c35-99b3-0a9d721f8c24 button.colab-df-convert');\n",
              "        buttonEl.style.display =\n",
              "          google.colab.kernel.accessAllowed ? 'block' : 'none';\n",
              "\n",
              "        async function convertToInteractive(key) {\n",
              "          const element = document.querySelector('#df-521754f4-4b85-4c35-99b3-0a9d721f8c24');\n",
              "          const dataTable =\n",
              "            await google.colab.kernel.invokeFunction('convertToInteractive',\n",
              "                                                     [key], {});\n",
              "          if (!dataTable) return;\n",
              "\n",
              "          const docLinkHtml = 'Like what you see? Visit the ' +\n",
              "            '<a target=\"_blank\" href=https://colab.research.google.com/notebooks/data_table.ipynb>data table notebook</a>'\n",
              "            + ' to learn more about interactive tables.';\n",
              "          element.innerHTML = '';\n",
              "          dataTable['output_type'] = 'display_data';\n",
              "          await google.colab.output.renderOutput(dataTable, element);\n",
              "          const docLink = document.createElement('div');\n",
              "          docLink.innerHTML = docLinkHtml;\n",
              "          element.appendChild(docLink);\n",
              "        }\n",
              "      </script>\n",
              "    </div>\n",
              "  </div>\n",
              "  "
            ],
            "text/plain": [
              "   Unnamed: 0                                              Claim  ...  ID     Label\n",
              "0           0     Chris Hemsworth appeared in A Perfect Getaway.  ...   3  SUPPORTS\n",
              "1           1                            Roald Dahl is a writer.  ...   7  SUPPORTS\n",
              "2           2                          Roald Dahl is a governor.  ...   8   REFUTES\n",
              "3           3        Ireland has relatively low-lying mountains.  ...   9  SUPPORTS\n",
              "4           4  Ireland does not have relatively low-lying mou...  ...  10   REFUTES\n",
              "\n",
              "[5 rows x 5 columns]"
            ]
          },
          "metadata": {},
          "execution_count": 6
        }
      ],
      "source": [
        "train_pairs.head()"
      ]
    },
    {
      "cell_type": "code",
      "execution_count": 7,
      "metadata": {
        "colab": {
          "base_uri": "https://localhost:8080/",
          "height": 0
        },
        "id": "kzrgFOGXgkeV",
        "outputId": "3d528cb4-d78c-49d3-82d6-dd42d7119987"
      },
      "outputs": [
        {
          "output_type": "execute_result",
          "data": {
            "text/html": [
              "\n",
              "  <div id=\"df-91c40b15-6523-4d18-af26-7cc65fd750a8\">\n",
              "    <div class=\"colab-df-container\">\n",
              "      <div>\n",
              "<style scoped>\n",
              "    .dataframe tbody tr th:only-of-type {\n",
              "        vertical-align: middle;\n",
              "    }\n",
              "\n",
              "    .dataframe tbody tr th {\n",
              "        vertical-align: top;\n",
              "    }\n",
              "\n",
              "    .dataframe thead th {\n",
              "        text-align: right;\n",
              "    }\n",
              "</style>\n",
              "<table border=\"1\" class=\"dataframe\">\n",
              "  <thead>\n",
              "    <tr style=\"text-align: right;\">\n",
              "      <th></th>\n",
              "      <th>Claim</th>\n",
              "      <th>Evidence</th>\n",
              "      <th>Label</th>\n",
              "    </tr>\n",
              "  </thead>\n",
              "  <tbody>\n",
              "    <tr>\n",
              "      <th>0</th>\n",
              "      <td>Chris Hemsworth appeared in A Perfect Getaway.</td>\n",
              "      <td>2\\tHemsworth has also appeared in the science ...</td>\n",
              "      <td>SUPPORTS</td>\n",
              "    </tr>\n",
              "    <tr>\n",
              "      <th>1</th>\n",
              "      <td>Roald Dahl is a writer.</td>\n",
              "      <td>0\\tRoald Dahl -LRB- -LSB- langpronˈroʊ.əld _ ˈ...</td>\n",
              "      <td>SUPPORTS</td>\n",
              "    </tr>\n",
              "    <tr>\n",
              "      <th>2</th>\n",
              "      <td>Roald Dahl is a governor.</td>\n",
              "      <td>0\\tRoald Dahl -LRB- -LSB- langpronˈroʊ.əld _ ˈ...</td>\n",
              "      <td>REFUTES</td>\n",
              "    </tr>\n",
              "    <tr>\n",
              "      <th>3</th>\n",
              "      <td>Ireland has relatively low-lying mountains.</td>\n",
              "      <td>10\\tThe island 's geography comprises relative...</td>\n",
              "      <td>SUPPORTS</td>\n",
              "    </tr>\n",
              "    <tr>\n",
              "      <th>4</th>\n",
              "      <td>Ireland does not have relatively low-lying mou...</td>\n",
              "      <td>10\\tThe island 's geography comprises relative...</td>\n",
              "      <td>REFUTES</td>\n",
              "    </tr>\n",
              "  </tbody>\n",
              "</table>\n",
              "</div>\n",
              "      <button class=\"colab-df-convert\" onclick=\"convertToInteractive('df-91c40b15-6523-4d18-af26-7cc65fd750a8')\"\n",
              "              title=\"Convert this dataframe to an interactive table.\"\n",
              "              style=\"display:none;\">\n",
              "        \n",
              "  <svg xmlns=\"http://www.w3.org/2000/svg\" height=\"24px\"viewBox=\"0 0 24 24\"\n",
              "       width=\"24px\">\n",
              "    <path d=\"M0 0h24v24H0V0z\" fill=\"none\"/>\n",
              "    <path d=\"M18.56 5.44l.94 2.06.94-2.06 2.06-.94-2.06-.94-.94-2.06-.94 2.06-2.06.94zm-11 1L8.5 8.5l.94-2.06 2.06-.94-2.06-.94L8.5 2.5l-.94 2.06-2.06.94zm10 10l.94 2.06.94-2.06 2.06-.94-2.06-.94-.94-2.06-.94 2.06-2.06.94z\"/><path d=\"M17.41 7.96l-1.37-1.37c-.4-.4-.92-.59-1.43-.59-.52 0-1.04.2-1.43.59L10.3 9.45l-7.72 7.72c-.78.78-.78 2.05 0 2.83L4 21.41c.39.39.9.59 1.41.59.51 0 1.02-.2 1.41-.59l7.78-7.78 2.81-2.81c.8-.78.8-2.07 0-2.86zM5.41 20L4 18.59l7.72-7.72 1.47 1.35L5.41 20z\"/>\n",
              "  </svg>\n",
              "      </button>\n",
              "      \n",
              "  <style>\n",
              "    .colab-df-container {\n",
              "      display:flex;\n",
              "      flex-wrap:wrap;\n",
              "      gap: 12px;\n",
              "    }\n",
              "\n",
              "    .colab-df-convert {\n",
              "      background-color: #E8F0FE;\n",
              "      border: none;\n",
              "      border-radius: 50%;\n",
              "      cursor: pointer;\n",
              "      display: none;\n",
              "      fill: #1967D2;\n",
              "      height: 32px;\n",
              "      padding: 0 0 0 0;\n",
              "      width: 32px;\n",
              "    }\n",
              "\n",
              "    .colab-df-convert:hover {\n",
              "      background-color: #E2EBFA;\n",
              "      box-shadow: 0px 1px 2px rgba(60, 64, 67, 0.3), 0px 1px 3px 1px rgba(60, 64, 67, 0.15);\n",
              "      fill: #174EA6;\n",
              "    }\n",
              "\n",
              "    [theme=dark] .colab-df-convert {\n",
              "      background-color: #3B4455;\n",
              "      fill: #D2E3FC;\n",
              "    }\n",
              "\n",
              "    [theme=dark] .colab-df-convert:hover {\n",
              "      background-color: #434B5C;\n",
              "      box-shadow: 0px 1px 3px 1px rgba(0, 0, 0, 0.15);\n",
              "      filter: drop-shadow(0px 1px 2px rgba(0, 0, 0, 0.3));\n",
              "      fill: #FFFFFF;\n",
              "    }\n",
              "  </style>\n",
              "\n",
              "      <script>\n",
              "        const buttonEl =\n",
              "          document.querySelector('#df-91c40b15-6523-4d18-af26-7cc65fd750a8 button.colab-df-convert');\n",
              "        buttonEl.style.display =\n",
              "          google.colab.kernel.accessAllowed ? 'block' : 'none';\n",
              "\n",
              "        async function convertToInteractive(key) {\n",
              "          const element = document.querySelector('#df-91c40b15-6523-4d18-af26-7cc65fd750a8');\n",
              "          const dataTable =\n",
              "            await google.colab.kernel.invokeFunction('convertToInteractive',\n",
              "                                                     [key], {});\n",
              "          if (!dataTable) return;\n",
              "\n",
              "          const docLinkHtml = 'Like what you see? Visit the ' +\n",
              "            '<a target=\"_blank\" href=https://colab.research.google.com/notebooks/data_table.ipynb>data table notebook</a>'\n",
              "            + ' to learn more about interactive tables.';\n",
              "          element.innerHTML = '';\n",
              "          dataTable['output_type'] = 'display_data';\n",
              "          await google.colab.output.renderOutput(dataTable, element);\n",
              "          const docLink = document.createElement('div');\n",
              "          docLink.innerHTML = docLinkHtml;\n",
              "          element.appendChild(docLink);\n",
              "        }\n",
              "      </script>\n",
              "    </div>\n",
              "  </div>\n",
              "  "
            ],
            "text/plain": [
              "                                               Claim  ...     Label\n",
              "0     Chris Hemsworth appeared in A Perfect Getaway.  ...  SUPPORTS\n",
              "1                            Roald Dahl is a writer.  ...  SUPPORTS\n",
              "2                          Roald Dahl is a governor.  ...   REFUTES\n",
              "3        Ireland has relatively low-lying mountains.  ...  SUPPORTS\n",
              "4  Ireland does not have relatively low-lying mou...  ...   REFUTES\n",
              "\n",
              "[5 rows x 3 columns]"
            ]
          },
          "metadata": {},
          "execution_count": 7
        }
      ],
      "source": [
        "train_set = train_pairs.drop(['Unnamed: 0', 'ID'], axis=1)\n",
        "train_set.head()"
      ]
    },
    {
      "cell_type": "code",
      "execution_count": 8,
      "metadata": {
        "colab": {
          "base_uri": "https://localhost:8080/",
          "height": 0
        },
        "id": "Yn7KFLNX_GxO",
        "outputId": "9b2cb806-91a3-404d-83f9-bb47c81c9f8c"
      },
      "outputs": [
        {
          "output_type": "execute_result",
          "data": {
            "text/html": [
              "\n",
              "  <div id=\"df-c396f160-e502-4675-b67e-71e46d7c03f9\">\n",
              "    <div class=\"colab-df-container\">\n",
              "      <div>\n",
              "<style scoped>\n",
              "    .dataframe tbody tr th:only-of-type {\n",
              "        vertical-align: middle;\n",
              "    }\n",
              "\n",
              "    .dataframe tbody tr th {\n",
              "        vertical-align: top;\n",
              "    }\n",
              "\n",
              "    .dataframe thead th {\n",
              "        text-align: right;\n",
              "    }\n",
              "</style>\n",
              "<table border=\"1\" class=\"dataframe\">\n",
              "  <thead>\n",
              "    <tr style=\"text-align: right;\">\n",
              "      <th></th>\n",
              "      <th>Claim</th>\n",
              "      <th>Evidence</th>\n",
              "      <th>Label</th>\n",
              "    </tr>\n",
              "  </thead>\n",
              "  <tbody>\n",
              "    <tr>\n",
              "      <th>0</th>\n",
              "      <td>The Indian Army comprises part of the country'...</td>\n",
              "      <td>16\\tIt is an all-volunteer force and comprises...</td>\n",
              "      <td>SUPPORTS</td>\n",
              "    </tr>\n",
              "    <tr>\n",
              "      <th>1</th>\n",
              "      <td>Recovery features Rihanna.</td>\n",
              "      <td>6\\tEminem also collaborated with artists such ...</td>\n",
              "      <td>SUPPORTS</td>\n",
              "    </tr>\n",
              "    <tr>\n",
              "      <th>2</th>\n",
              "      <td>Rihanna is on Recovery.</td>\n",
              "      <td>6\\tEminem also collaborated with artists such ...</td>\n",
              "      <td>SUPPORTS</td>\n",
              "    </tr>\n",
              "    <tr>\n",
              "      <th>3</th>\n",
              "      <td>Philomena was nominated.</td>\n",
              "      <td>8\\tThe film was nominated in four categories a...</td>\n",
              "      <td>SUPPORTS</td>\n",
              "    </tr>\n",
              "    <tr>\n",
              "      <th>4</th>\n",
              "      <td>Vietnam is a mascot.</td>\n",
              "      <td>0\\tVietnam -LRB- ˌ ; -LSB- vîət nāːm -RSB- -RR...</td>\n",
              "      <td>REFUTES</td>\n",
              "    </tr>\n",
              "  </tbody>\n",
              "</table>\n",
              "</div>\n",
              "      <button class=\"colab-df-convert\" onclick=\"convertToInteractive('df-c396f160-e502-4675-b67e-71e46d7c03f9')\"\n",
              "              title=\"Convert this dataframe to an interactive table.\"\n",
              "              style=\"display:none;\">\n",
              "        \n",
              "  <svg xmlns=\"http://www.w3.org/2000/svg\" height=\"24px\"viewBox=\"0 0 24 24\"\n",
              "       width=\"24px\">\n",
              "    <path d=\"M0 0h24v24H0V0z\" fill=\"none\"/>\n",
              "    <path d=\"M18.56 5.44l.94 2.06.94-2.06 2.06-.94-2.06-.94-.94-2.06-.94 2.06-2.06.94zm-11 1L8.5 8.5l.94-2.06 2.06-.94-2.06-.94L8.5 2.5l-.94 2.06-2.06.94zm10 10l.94 2.06.94-2.06 2.06-.94-2.06-.94-.94-2.06-.94 2.06-2.06.94z\"/><path d=\"M17.41 7.96l-1.37-1.37c-.4-.4-.92-.59-1.43-.59-.52 0-1.04.2-1.43.59L10.3 9.45l-7.72 7.72c-.78.78-.78 2.05 0 2.83L4 21.41c.39.39.9.59 1.41.59.51 0 1.02-.2 1.41-.59l7.78-7.78 2.81-2.81c.8-.78.8-2.07 0-2.86zM5.41 20L4 18.59l7.72-7.72 1.47 1.35L5.41 20z\"/>\n",
              "  </svg>\n",
              "      </button>\n",
              "      \n",
              "  <style>\n",
              "    .colab-df-container {\n",
              "      display:flex;\n",
              "      flex-wrap:wrap;\n",
              "      gap: 12px;\n",
              "    }\n",
              "\n",
              "    .colab-df-convert {\n",
              "      background-color: #E8F0FE;\n",
              "      border: none;\n",
              "      border-radius: 50%;\n",
              "      cursor: pointer;\n",
              "      display: none;\n",
              "      fill: #1967D2;\n",
              "      height: 32px;\n",
              "      padding: 0 0 0 0;\n",
              "      width: 32px;\n",
              "    }\n",
              "\n",
              "    .colab-df-convert:hover {\n",
              "      background-color: #E2EBFA;\n",
              "      box-shadow: 0px 1px 2px rgba(60, 64, 67, 0.3), 0px 1px 3px 1px rgba(60, 64, 67, 0.15);\n",
              "      fill: #174EA6;\n",
              "    }\n",
              "\n",
              "    [theme=dark] .colab-df-convert {\n",
              "      background-color: #3B4455;\n",
              "      fill: #D2E3FC;\n",
              "    }\n",
              "\n",
              "    [theme=dark] .colab-df-convert:hover {\n",
              "      background-color: #434B5C;\n",
              "      box-shadow: 0px 1px 3px 1px rgba(0, 0, 0, 0.15);\n",
              "      filter: drop-shadow(0px 1px 2px rgba(0, 0, 0, 0.3));\n",
              "      fill: #FFFFFF;\n",
              "    }\n",
              "  </style>\n",
              "\n",
              "      <script>\n",
              "        const buttonEl =\n",
              "          document.querySelector('#df-c396f160-e502-4675-b67e-71e46d7c03f9 button.colab-df-convert');\n",
              "        buttonEl.style.display =\n",
              "          google.colab.kernel.accessAllowed ? 'block' : 'none';\n",
              "\n",
              "        async function convertToInteractive(key) {\n",
              "          const element = document.querySelector('#df-c396f160-e502-4675-b67e-71e46d7c03f9');\n",
              "          const dataTable =\n",
              "            await google.colab.kernel.invokeFunction('convertToInteractive',\n",
              "                                                     [key], {});\n",
              "          if (!dataTable) return;\n",
              "\n",
              "          const docLinkHtml = 'Like what you see? Visit the ' +\n",
              "            '<a target=\"_blank\" href=https://colab.research.google.com/notebooks/data_table.ipynb>data table notebook</a>'\n",
              "            + ' to learn more about interactive tables.';\n",
              "          element.innerHTML = '';\n",
              "          dataTable['output_type'] = 'display_data';\n",
              "          await google.colab.output.renderOutput(dataTable, element);\n",
              "          const docLink = document.createElement('div');\n",
              "          docLink.innerHTML = docLinkHtml;\n",
              "          element.appendChild(docLink);\n",
              "        }\n",
              "      </script>\n",
              "    </div>\n",
              "  </div>\n",
              "  "
            ],
            "text/plain": [
              "                                               Claim  ...     Label\n",
              "0  The Indian Army comprises part of the country'...  ...  SUPPORTS\n",
              "1                         Recovery features Rihanna.  ...  SUPPORTS\n",
              "2                            Rihanna is on Recovery.  ...  SUPPORTS\n",
              "3                           Philomena was nominated.  ...  SUPPORTS\n",
              "4                               Vietnam is a mascot.  ...   REFUTES\n",
              "\n",
              "[5 rows x 3 columns]"
            ]
          },
          "metadata": {},
          "execution_count": 8
        }
      ],
      "source": [
        "val_set = val_pairs.drop(['Unnamed: 0', 'ID'], axis=1)\n",
        "val_set.head()"
      ]
    },
    {
      "cell_type": "code",
      "execution_count": 9,
      "metadata": {
        "colab": {
          "base_uri": "https://localhost:8080/",
          "height": 0
        },
        "id": "h_gv0fTF_LdT",
        "outputId": "368c6397-509f-4390-ee58-71e88062865d"
      },
      "outputs": [
        {
          "output_type": "execute_result",
          "data": {
            "text/html": [
              "\n",
              "  <div id=\"df-4ce0c799-8bcc-4f29-ac89-f71b24e558b6\">\n",
              "    <div class=\"colab-df-container\">\n",
              "      <div>\n",
              "<style scoped>\n",
              "    .dataframe tbody tr th:only-of-type {\n",
              "        vertical-align: middle;\n",
              "    }\n",
              "\n",
              "    .dataframe tbody tr th {\n",
              "        vertical-align: top;\n",
              "    }\n",
              "\n",
              "    .dataframe thead th {\n",
              "        text-align: right;\n",
              "    }\n",
              "</style>\n",
              "<table border=\"1\" class=\"dataframe\">\n",
              "  <thead>\n",
              "    <tr style=\"text-align: right;\">\n",
              "      <th></th>\n",
              "      <th>Claim</th>\n",
              "      <th>Evidence</th>\n",
              "      <th>Label</th>\n",
              "    </tr>\n",
              "  </thead>\n",
              "  <tbody>\n",
              "    <tr>\n",
              "      <th>0</th>\n",
              "      <td>Anxiety has been linked with physical symptoms.</td>\n",
              "      <td>13\\tFurthermore , anxiety has been linked with...</td>\n",
              "      <td>SUPPORTS</td>\n",
              "    </tr>\n",
              "    <tr>\n",
              "      <th>1</th>\n",
              "      <td>Firefox is an application.</td>\n",
              "      <td>0\\tMozilla Firefox -LRB- or simply Firefox -RR...</td>\n",
              "      <td>SUPPORTS</td>\n",
              "    </tr>\n",
              "    <tr>\n",
              "      <th>2</th>\n",
              "      <td>Keegan-Michael Key played President Barack Oba...</td>\n",
              "      <td>6\\tIn 2015 , Key appeared at the White House C...</td>\n",
              "      <td>SUPPORTS</td>\n",
              "    </tr>\n",
              "    <tr>\n",
              "      <th>3</th>\n",
              "      <td>Google Search can find stock quotes.</td>\n",
              "      <td>13\\tThese include synonyms , weather forecasts...</td>\n",
              "      <td>SUPPORTS</td>\n",
              "    </tr>\n",
              "    <tr>\n",
              "      <th>4</th>\n",
              "      <td>A Good Day to Die Hard was directed solely by ...</td>\n",
              "      <td>1\\tThe film was directed by John Moore and wri...</td>\n",
              "      <td>REFUTES</td>\n",
              "    </tr>\n",
              "  </tbody>\n",
              "</table>\n",
              "</div>\n",
              "      <button class=\"colab-df-convert\" onclick=\"convertToInteractive('df-4ce0c799-8bcc-4f29-ac89-f71b24e558b6')\"\n",
              "              title=\"Convert this dataframe to an interactive table.\"\n",
              "              style=\"display:none;\">\n",
              "        \n",
              "  <svg xmlns=\"http://www.w3.org/2000/svg\" height=\"24px\"viewBox=\"0 0 24 24\"\n",
              "       width=\"24px\">\n",
              "    <path d=\"M0 0h24v24H0V0z\" fill=\"none\"/>\n",
              "    <path d=\"M18.56 5.44l.94 2.06.94-2.06 2.06-.94-2.06-.94-.94-2.06-.94 2.06-2.06.94zm-11 1L8.5 8.5l.94-2.06 2.06-.94-2.06-.94L8.5 2.5l-.94 2.06-2.06.94zm10 10l.94 2.06.94-2.06 2.06-.94-2.06-.94-.94-2.06-.94 2.06-2.06.94z\"/><path d=\"M17.41 7.96l-1.37-1.37c-.4-.4-.92-.59-1.43-.59-.52 0-1.04.2-1.43.59L10.3 9.45l-7.72 7.72c-.78.78-.78 2.05 0 2.83L4 21.41c.39.39.9.59 1.41.59.51 0 1.02-.2 1.41-.59l7.78-7.78 2.81-2.81c.8-.78.8-2.07 0-2.86zM5.41 20L4 18.59l7.72-7.72 1.47 1.35L5.41 20z\"/>\n",
              "  </svg>\n",
              "      </button>\n",
              "      \n",
              "  <style>\n",
              "    .colab-df-container {\n",
              "      display:flex;\n",
              "      flex-wrap:wrap;\n",
              "      gap: 12px;\n",
              "    }\n",
              "\n",
              "    .colab-df-convert {\n",
              "      background-color: #E8F0FE;\n",
              "      border: none;\n",
              "      border-radius: 50%;\n",
              "      cursor: pointer;\n",
              "      display: none;\n",
              "      fill: #1967D2;\n",
              "      height: 32px;\n",
              "      padding: 0 0 0 0;\n",
              "      width: 32px;\n",
              "    }\n",
              "\n",
              "    .colab-df-convert:hover {\n",
              "      background-color: #E2EBFA;\n",
              "      box-shadow: 0px 1px 2px rgba(60, 64, 67, 0.3), 0px 1px 3px 1px rgba(60, 64, 67, 0.15);\n",
              "      fill: #174EA6;\n",
              "    }\n",
              "\n",
              "    [theme=dark] .colab-df-convert {\n",
              "      background-color: #3B4455;\n",
              "      fill: #D2E3FC;\n",
              "    }\n",
              "\n",
              "    [theme=dark] .colab-df-convert:hover {\n",
              "      background-color: #434B5C;\n",
              "      box-shadow: 0px 1px 3px 1px rgba(0, 0, 0, 0.15);\n",
              "      filter: drop-shadow(0px 1px 2px rgba(0, 0, 0, 0.3));\n",
              "      fill: #FFFFFF;\n",
              "    }\n",
              "  </style>\n",
              "\n",
              "      <script>\n",
              "        const buttonEl =\n",
              "          document.querySelector('#df-4ce0c799-8bcc-4f29-ac89-f71b24e558b6 button.colab-df-convert');\n",
              "        buttonEl.style.display =\n",
              "          google.colab.kernel.accessAllowed ? 'block' : 'none';\n",
              "\n",
              "        async function convertToInteractive(key) {\n",
              "          const element = document.querySelector('#df-4ce0c799-8bcc-4f29-ac89-f71b24e558b6');\n",
              "          const dataTable =\n",
              "            await google.colab.kernel.invokeFunction('convertToInteractive',\n",
              "                                                     [key], {});\n",
              "          if (!dataTable) return;\n",
              "\n",
              "          const docLinkHtml = 'Like what you see? Visit the ' +\n",
              "            '<a target=\"_blank\" href=https://colab.research.google.com/notebooks/data_table.ipynb>data table notebook</a>'\n",
              "            + ' to learn more about interactive tables.';\n",
              "          element.innerHTML = '';\n",
              "          dataTable['output_type'] = 'display_data';\n",
              "          await google.colab.output.renderOutput(dataTable, element);\n",
              "          const docLink = document.createElement('div');\n",
              "          docLink.innerHTML = docLinkHtml;\n",
              "          element.appendChild(docLink);\n",
              "        }\n",
              "      </script>\n",
              "    </div>\n",
              "  </div>\n",
              "  "
            ],
            "text/plain": [
              "                                               Claim  ...     Label\n",
              "0    Anxiety has been linked with physical symptoms.  ...  SUPPORTS\n",
              "1                         Firefox is an application.  ...  SUPPORTS\n",
              "2  Keegan-Michael Key played President Barack Oba...  ...  SUPPORTS\n",
              "3               Google Search can find stock quotes.  ...  SUPPORTS\n",
              "4  A Good Day to Die Hard was directed solely by ...  ...   REFUTES\n",
              "\n",
              "[5 rows x 3 columns]"
            ]
          },
          "metadata": {},
          "execution_count": 9
        }
      ],
      "source": [
        "test_set = test_pairs.drop(['Unnamed: 0', 'ID'], axis=1)\n",
        "test_set.head()"
      ]
    },
    {
      "cell_type": "markdown",
      "metadata": {
        "id": "Dm4IB81X5shY"
      },
      "source": [
        "# Pre Processing"
      ]
    },
    {
      "cell_type": "code",
      "execution_count": 10,
      "metadata": {
        "id": "XlqGAd5ZDTkQ"
      },
      "outputs": [],
      "source": [
        "train_labels = train_set.Label\n",
        "val_labels = val_set.Label\n",
        "test_labels = test_set.Label"
      ]
    },
    {
      "cell_type": "code",
      "execution_count": 11,
      "metadata": {
        "id": "IqqkyvcQDF6n"
      },
      "outputs": [],
      "source": [
        "s_train_claims = train_set.Claim\n",
        "s_val_claims = val_set.Claim\n",
        "s_test_claims = test_set.Claim"
      ]
    },
    {
      "cell_type": "code",
      "execution_count": 12,
      "metadata": {
        "id": "TF4HC8dOFQLi"
      },
      "outputs": [],
      "source": [
        "# convert claims in lists for tokenization\n",
        "train_claims = []\n",
        "val_claims = []\n",
        "test_claims = []\n",
        "\n",
        "for i in s_train_claims:\n",
        "  train_claims.append(i)\n",
        "\n",
        "for i in s_val_claims:\n",
        "  val_claims.append(i)\n",
        "\n",
        "for i in s_test_claims:\n",
        "  test_claims.append(i)"
      ]
    },
    {
      "cell_type": "code",
      "execution_count": 13,
      "metadata": {
        "id": "qdsDNbWNiqJg"
      },
      "outputs": [],
      "source": [
        "train_df = pd.DataFrame(columns=['Claim', 'Evidence', 'Label'])\n",
        "\n",
        "train_evidences = train_set.Evidence\n",
        "val_evidences = val_set.Evidence\n",
        "test_evidences = test_set.Evidence"
      ]
    },
    {
      "cell_type": "code",
      "execution_count": 14,
      "metadata": {
        "colab": {
          "base_uri": "https://localhost:8080/",
          "height": 0
        },
        "id": "3MdOdu4go6ch",
        "outputId": "340bbef0-4bce-46eb-e4a5-4eb838377210"
      },
      "outputs": [
        {
          "output_type": "execute_result",
          "data": {
            "application/vnd.google.colaboratory.intrinsic+json": {
              "type": "string"
            },
            "text/plain": [
              "'2\\tHemsworth has also appeared in the science fiction action film Star Trek -LRB- 2009 -RRB- , the thriller adventure A Perfect Getaway -LRB- 2009 -RRB- , the horror comedy The Cabin in the Woods -LRB- 2012 -RRB- , the dark-fantasy action film Snow White and the Huntsman -LRB- 2012 -RRB- , the war film Red Dawn -LRB- 2012 -RRB- , and the biographical sports drama film Rush -LRB- 2013 -RRB- .\\tStar Trek\\tStar Trek (film)\\tA Perfect Getaway\\tA Perfect Getaway\\tThe Cabin in the Woods\\tThe Cabin in the Woods\\tSnow White and the Huntsman\\tSnow White and the Huntsman\\tRed Dawn\\tRed Dawn (2012 film)\\tRush\\tRush (2013 film)'"
            ]
          },
          "metadata": {},
          "execution_count": 14
        }
      ],
      "source": [
        "train_evidences[0]"
      ]
    },
    {
      "cell_type": "code",
      "execution_count": 15,
      "metadata": {
        "id": "Rbjnkqu14PG_"
      },
      "outputs": [],
      "source": [
        "# compile regex to avoid multiple computations\n",
        "splitter = re.compile(r' \\.')\n",
        "beginline = re.compile(r'\\d+\\t')\n",
        "parenthesis = re.compile(r'\\-[A-Z]{3}\\-')\n",
        "phonetics = re.compile(r'[^a-zA-Z\\d\\s:\\u00C0-\\u00FF!\\\"#$%&\\'()*+,-./:;<=>?@[\\]^_`{|}~]*')"
      ]
    },
    {
      "cell_type": "code",
      "execution_count": 16,
      "metadata": {
        "colab": {
          "base_uri": "https://localhost:8080/"
        },
        "id": "Hvgpv0Ysc7La",
        "outputId": "71555e08-2b8b-4650-9358-ba1d364a19b7"
      },
      "outputs": [
        {
          "output_type": "stream",
          "name": "stdout",
          "text": [
            "Greece -LRB- Ελλάδα , -LSB- eˈlaða -RSB- -RRB- , officially the Hellenic Republic -LRB- Greek : Ελληνική Δημοκρατία , -LSB- eliniˈci ðimokraˈti.a -RSB- -RRB- , historically also known as Hellas -LRB- Ἑλλάς , -LSB- heˈlas -RSB- , modern pronunciation Ellás -RRB- , is a country in southeastern Europe , with a population of approximately 11 million as of 2015\n"
          ]
        }
      ],
      "source": [
        "#evidences text cleaning\n",
        "k=0\n",
        "clean_train_evidences = []\n",
        "clean_val_evidences = []\n",
        "clean_test_evidences = []\n",
        "\n",
        "for i in train_evidences:\n",
        "  tmp = re.split(splitter,i)[0]\n",
        "  tmp = re.sub(beginline, '', tmp)\n",
        "  if k == 12:\n",
        "     print(tmp)\n",
        "  tmp = re.sub(parenthesis, '', tmp)\n",
        "  tmp = re.sub(phonetics, '', tmp)\n",
        "  clean_train_evidences.append(tmp)\n",
        "  k += 1\n",
        "\n",
        "for i in val_evidences:\n",
        "  tmp = re.split(splitter,i)[0]\n",
        "  tmp = re.sub(beginline, '', tmp)\n",
        "  tmp = re.sub(parenthesis, '', tmp)\n",
        "  tmp = re.sub(phonetics, '', tmp)\n",
        "  clean_val_evidences.append(tmp)\n",
        "\n",
        "for i in test_evidences:\n",
        "  tmp = re.split(splitter,i)[0]\n",
        "  tmp = re.sub(beginline, '', tmp)\n",
        "  tmp = re.sub(parenthesis, '', tmp)\n",
        "  tmp = re.sub(phonetics, '', tmp)\n",
        "  clean_test_evidences.append(tmp)"
      ]
    },
    {
      "cell_type": "code",
      "execution_count": 17,
      "metadata": {
        "colab": {
          "base_uri": "https://localhost:8080/",
          "height": 0
        },
        "id": "CT9i2fLXsZIZ",
        "outputId": "775d44c1-eb3c-41b0-bfa8-b569215c2846"
      },
      "outputs": [
        {
          "output_type": "execute_result",
          "data": {
            "application/vnd.google.colaboratory.intrinsic+json": {
              "type": "string"
            },
            "text/plain": [
              "'6\\tHitchcock became a highly visible public figure through interviews , movie trailers , cameo appearances in his own films , and the ten years in which he hosted the television programme Alfred Hitchcock Presents -LRB- 1955 -- 1965 -RRB- .\\tcameo appearances\\tList of Alfred Hitchcock cameo appearances\\tAlfred Hitchcock Presents\\tAlfred Hitchcock Presents'"
            ]
          },
          "metadata": {},
          "execution_count": 17
        }
      ],
      "source": [
        "val_evidences[62]\n",
        "# maybe needs more cleaning? i assume from now on we have clean data"
      ]
    },
    {
      "cell_type": "code",
      "execution_count": 18,
      "metadata": {
        "colab": {
          "base_uri": "https://localhost:8080/",
          "height": 0
        },
        "id": "iwSRC0VDW4-Q",
        "outputId": "436a17b7-9e84-432e-96ad-8499f196faa1"
      },
      "outputs": [
        {
          "output_type": "execute_result",
          "data": {
            "application/vnd.google.colaboratory.intrinsic+json": {
              "type": "string"
            },
            "text/plain": [
              "'Hitchcock became a highly visible public figure through interviews , movie trailers , cameo appearances in his own films , and the ten years in which he hosted the television programme Alfred Hitchcock Presents  1955 -- 1965 '"
            ]
          },
          "metadata": {},
          "execution_count": 18
        }
      ],
      "source": [
        "clean_val_evidences[62]"
      ]
    },
    {
      "cell_type": "markdown",
      "metadata": {
        "id": "W8nJS0oKd5Sg"
      },
      "source": [
        "# Tokenization\n",
        "- padding"
      ]
    },
    {
      "cell_type": "code",
      "execution_count": 19,
      "metadata": {
        "id": "xc4MzQO5C6Lq"
      },
      "outputs": [],
      "source": [
        "# concatenate splits lists for tokenizer input\n",
        "claim_to_vocab = train_claims + val_claims + test_claims\n",
        "evidences_to_vocab = clean_train_evidences + clean_val_evidences + clean_test_evidences"
      ]
    },
    {
      "cell_type": "code",
      "execution_count": 20,
      "metadata": {
        "id": "sWVFV60UEo-y"
      },
      "outputs": [],
      "source": [
        "claim_tokenizer = Tokenizer(lower=False)                     # instantiate tokeniser\n",
        "claim_tokenizer.fit_on_texts(claim_to_vocab)                    # fit tokeniser on data"
      ]
    },
    {
      "cell_type": "code",
      "execution_count": 21,
      "metadata": {
        "id": "sY_R_QR8HWFF"
      },
      "outputs": [],
      "source": [
        "evidence_tokenizer = Tokenizer(lower=False)                     \n",
        "evidence_tokenizer.fit_on_texts(evidences_to_vocab)"
      ]
    },
    {
      "cell_type": "markdown",
      "metadata": {
        "id": "nt1jMDILJql6"
      },
      "source": [
        "###Glove"
      ]
    },
    {
      "cell_type": "code",
      "execution_count": 22,
      "metadata": {
        "colab": {
          "base_uri": "https://localhost:8080/"
        },
        "id": "0_NXjUc4JTbH",
        "outputId": "e6c80150-a86f-4a5c-dd68-91faf552e513"
      },
      "outputs": [
        {
          "output_type": "stream",
          "name": "stdout",
          "text": [
            "--2021-12-24 13:23:20--  http://nlp.stanford.edu/data/glove.6B.zip\n",
            "Resolving nlp.stanford.edu (nlp.stanford.edu)... 171.64.67.140\n",
            "Connecting to nlp.stanford.edu (nlp.stanford.edu)|171.64.67.140|:80... connected.\n",
            "HTTP request sent, awaiting response... 302 Found\n",
            "Location: https://nlp.stanford.edu/data/glove.6B.zip [following]\n",
            "--2021-12-24 13:23:20--  https://nlp.stanford.edu/data/glove.6B.zip\n",
            "Connecting to nlp.stanford.edu (nlp.stanford.edu)|171.64.67.140|:443... connected.\n",
            "HTTP request sent, awaiting response... 301 Moved Permanently\n",
            "Location: http://downloads.cs.stanford.edu/nlp/data/glove.6B.zip [following]\n",
            "--2021-12-24 13:23:20--  http://downloads.cs.stanford.edu/nlp/data/glove.6B.zip\n",
            "Resolving downloads.cs.stanford.edu (downloads.cs.stanford.edu)... 171.64.64.22\n",
            "Connecting to downloads.cs.stanford.edu (downloads.cs.stanford.edu)|171.64.64.22|:80... connected.\n",
            "HTTP request sent, awaiting response... 200 OK\n",
            "Length: 862182613 (822M) [application/zip]\n",
            "Saving to: ‘glove.6B.zip’\n",
            "\n",
            "glove.6B.zip        100%[===================>] 822.24M  5.08MB/s    in 2m 40s  \n",
            "\n",
            "2021-12-24 13:26:01 (5.13 MB/s) - ‘glove.6B.zip’ saved [862182613/862182613]\n",
            "\n"
          ]
        }
      ],
      "source": [
        "!wget http://nlp.stanford.edu/data/glove.6B.zip\n",
        "!unzip -q glove.6B.zip"
      ]
    },
    {
      "cell_type": "code",
      "execution_count": 23,
      "metadata": {
        "colab": {
          "base_uri": "https://localhost:8080/"
        },
        "id": "6I7Dngy8JXSN",
        "outputId": "2ac12eea-fda9-4399-8a65-aec9b88f5bb3"
      },
      "outputs": [
        {
          "output_type": "stream",
          "name": "stdout",
          "text": [
            "Found 400000 word vectors.\n"
          ]
        }
      ],
      "source": [
        "path_to_glove_file = os.path.join(os.getcwd(), \"glove.6B.100d.txt\")\n",
        "\n",
        "embeddings_index = {}\n",
        "with open(path_to_glove_file) as f:\n",
        "    for line in f:\n",
        "        word, coefs = line.split(maxsplit=1)\n",
        "        coefs = np.fromstring(coefs, \"f\", sep=\" \")\n",
        "        embeddings_index[word] = coefs\n",
        "\n",
        "print(\"Found %s word vectors.\" % len(embeddings_index))"
      ]
    },
    {
      "cell_type": "markdown",
      "metadata": {
        "id": "QQ0dRwcmJv52"
      },
      "source": [
        "Embedding matrix for claims"
      ]
    },
    {
      "cell_type": "code",
      "execution_count": 24,
      "metadata": {
        "colab": {
          "base_uri": "https://localhost:8080/"
        },
        "id": "ylMG2NlUJfRy",
        "outputId": "116b3d37-3e71-43bb-e430-2464c579a61f"
      },
      "outputs": [
        {
          "output_type": "stream",
          "name": "stdout",
          "text": [
            "Converted 10970 words (13832 misses)\n"
          ]
        }
      ],
      "source": [
        "num_tokens = len(claim_tokenizer.index_word) + 1\n",
        "embedding_dim = 100\n",
        "hits = 0\n",
        "misses = 0\n",
        "\n",
        "\n",
        "# Prepare embedding matrix\n",
        "embedding_matrix_c = np.zeros((num_tokens, embedding_dim))\n",
        "for word, i in claim_tokenizer.word_index.items():\n",
        "    embedding_vector = embeddings_index.get(word)\n",
        "    if embedding_vector is not None:\n",
        "        # Words not found in embedding index will be all-zeros.\n",
        "        # This includes the representation for \"padding\" and \"OOV\"\n",
        "        embedding_matrix_c[i] = embedding_vector\n",
        "        hits += 1\n",
        "    else:\n",
        "        embedding_matrix_c += np.random.uniform(low=-0.05, high=0.05, size=embedding_dim)\n",
        "        misses += 1\n",
        "print(\"Converted %d words (%d misses)\" % (hits, misses))"
      ]
    },
    {
      "cell_type": "markdown",
      "metadata": {
        "id": "62QyRF-GJ6wW"
      },
      "source": [
        "Embedding matrix for Evidence"
      ]
    },
    {
      "cell_type": "code",
      "execution_count": 25,
      "metadata": {
        "colab": {
          "base_uri": "https://localhost:8080/"
        },
        "id": "Okl6jgimJgmH",
        "outputId": "8735c24d-1466-4aad-af11-7d39fbc5832a"
      },
      "outputs": [
        {
          "output_type": "stream",
          "name": "stdout",
          "text": [
            "Converted 15376 words (22592 misses)\n"
          ]
        }
      ],
      "source": [
        "num_tokens = len(evidence_tokenizer.index_word) + 1\n",
        "embedding_dim = 100\n",
        "hits = 0\n",
        "misses = 0\n",
        "\n",
        "\n",
        "# Prepare embedding matrix\n",
        "embedding_matrix_e = np.zeros((num_tokens, embedding_dim))\n",
        "for word, i in evidence_tokenizer.word_index.items():\n",
        "    embedding_vector = embeddings_index.get(word)\n",
        "    if embedding_vector is not None:\n",
        "        # Words not found in embedding index will be all-zeros.\n",
        "        # This includes the representation for \"padding\" and \"OOV\"\n",
        "        embedding_matrix_e[i] = embedding_vector\n",
        "        hits += 1\n",
        "    else:\n",
        "        embedding_matrix_e += np.random.uniform(low=-0.05, high=0.05, size=embedding_dim)\n",
        "        misses += 1\n",
        "print(\"Converted %d words (%d misses)\" % (hits, misses))"
      ]
    },
    {
      "cell_type": "code",
      "execution_count": 26,
      "metadata": {
        "id": "6qYzhXuDeo7k"
      },
      "outputs": [],
      "source": [
        "def to_cat(y, tokenizer): # map labels to one hot encoding\n",
        "  tokenizer.fit_on_texts(y)\n",
        "  y = tokenizer.texts_to_sequences(y)\n",
        "  y = tf.keras.utils.to_categorical(y, num_classes=None, dtype='int')\n",
        "  return y\n",
        "\n",
        "tokenizer_y = Tokenizer()\n",
        "tokenizer_y.fit_on_texts(train_labels)\n",
        "\n",
        "train_labels_y =  to_cat(train_labels, tokenizer_y)\n",
        "val_labels_y = to_cat(val_labels, tokenizer_y)\n",
        "test_labels_y = to_cat(test_labels, tokenizer_y)"
      ]
    },
    {
      "cell_type": "code",
      "source": [
        "# drop first column, all zeros\n",
        "train_labels_y = train_labels_y[:,1:3]\n",
        "val_labels_y = val_labels_y[:,1:3]\n",
        "test_labels_y = test_labels_y[:,1:3]"
      ],
      "metadata": {
        "id": "-fu6456holze"
      },
      "execution_count": 27,
      "outputs": []
    },
    {
      "cell_type": "code",
      "execution_count": 28,
      "metadata": {
        "id": "ryX-w3nshtVa"
      },
      "outputs": [],
      "source": [
        "# from text to integers\n",
        "train_claims_X = claim_tokenizer.texts_to_sequences(train_claims)\n",
        "val_claims_X = claim_tokenizer.texts_to_sequences(val_claims)\n",
        "test_claims_X = claim_tokenizer.texts_to_sequences(test_claims)\n",
        "\n",
        "train_evidences_X = evidence_tokenizer.texts_to_sequences(clean_train_evidences)\n",
        "val_evidences_X = evidence_tokenizer.texts_to_sequences(clean_val_evidences)\n",
        "test_evidences_X = evidence_tokenizer.texts_to_sequences(clean_test_evidences)"
      ]
    },
    {
      "cell_type": "markdown",
      "metadata": {
        "id": "VTGqD9oKdSTn"
      },
      "source": [
        "###Padding"
      ]
    },
    {
      "cell_type": "code",
      "execution_count": 29,
      "metadata": {
        "colab": {
          "base_uri": "https://localhost:8080/"
        },
        "id": "DGpIpGUVmB2H",
        "outputId": "bce8d90d-1c8a-49a3-c093-23ab0294ac0c"
      },
      "outputs": [
        {
          "output_type": "execute_result",
          "data": {
            "text/plain": [
              "65"
            ]
          },
          "metadata": {},
          "execution_count": 29
        }
      ],
      "source": [
        "MAX_CLAIM_LENGTH = max(len(max(train_claims_X, key=len)), len(max(val_claims_X, key=len)), len(max(test_claims_X, key=len)))\n",
        "MAX_CLAIM_LENGTH"
      ]
    },
    {
      "cell_type": "code",
      "execution_count": 30,
      "metadata": {
        "colab": {
          "base_uri": "https://localhost:8080/"
        },
        "id": "h8Ljdd2UmJXE",
        "outputId": "dee9d95f-223d-4a26-e794-960fe4e719cb"
      },
      "outputs": [
        {
          "output_type": "execute_result",
          "data": {
            "text/plain": [
              "209"
            ]
          },
          "metadata": {},
          "execution_count": 30
        }
      ],
      "source": [
        "MAX_EVIDENCE_LENGTH = max(len(max(train_evidences_X, key=len)), len(max(val_evidences_X, key=len)), len(max(test_evidences_X, key=len)))\n",
        "MAX_EVIDENCE_LENGTH"
      ]
    },
    {
      "cell_type": "code",
      "execution_count": 31,
      "metadata": {
        "id": "ojJhCIKqnG7n"
      },
      "outputs": [],
      "source": [
        "def pad(set, max): # padding function\n",
        "  return pad_sequences(set, maxlen=max, padding='post')"
      ]
    },
    {
      "cell_type": "code",
      "execution_count": 32,
      "metadata": {
        "id": "caPgRJPpmYMj"
      },
      "outputs": [],
      "source": [
        "train_claims_X = pad(train_claims_X, MAX_CLAIM_LENGTH)\n",
        "val_claims_X = pad(val_claims_X, MAX_CLAIM_LENGTH)\n",
        "test_claims_X = pad(test_claims_X, MAX_CLAIM_LENGTH)\n",
        "\n",
        "train_evidences_X = pad(train_evidences_X, MAX_EVIDENCE_LENGTH)\n",
        "val_evidences_X = pad(val_evidences_X, MAX_EVIDENCE_LENGTH)\n",
        "test_evidences_X = pad(test_evidences_X, MAX_EVIDENCE_LENGTH)"
      ]
    },
    {
      "cell_type": "markdown",
      "metadata": {
        "id": "0eQDRB1-oEuA"
      },
      "source": [
        "# Model Implementation"
      ]
    },
    {
      "cell_type": "code",
      "source": [
        "embedded_dimension = 100"
      ],
      "metadata": {
        "id": "LIg6WnxmJnVP"
      },
      "execution_count": 33,
      "outputs": []
    },
    {
      "cell_type": "markdown",
      "metadata": {
        "id": "jZ4kki1fTQ3S"
      },
      "source": [
        "##1. Encode token sequences via a RNN and take the last state as the sentence embedding."
      ]
    },
    {
      "cell_type": "code",
      "execution_count": 43,
      "metadata": {
        "colab": {
          "base_uri": "https://localhost:8080/"
        },
        "id": "xr9St4AjTHHt",
        "outputId": "207edf51-a7b9-4ccf-e980-635611e5dda6"
      },
      "outputs": [
        {
          "output_type": "stream",
          "name": "stdout",
          "text": [
            "Model: \"RNN_last\"\n",
            "__________________________________________________________________________________________________\n",
            " Layer (type)                   Output Shape         Param #     Connected to                     \n",
            "==================================================================================================\n",
            " input_8 (InputLayer)           [(None, 65)]         0           []                               \n",
            "                                                                                                  \n",
            " input_7 (InputLayer)           [(None, 209)]        0           []                               \n",
            "                                                                                                  \n",
            " embedding_6 (Embedding)        (None, 65, 100)      2480300     ['input_8[0][0]']                \n",
            "                                                                                                  \n",
            " embedding_7 (Embedding)        (None, 209, 100)     3796900     ['input_7[0][0]']                \n",
            "                                                                                                  \n",
            " bidirectional_2 (Bidirectional  (None, 50)          25200       ['embedding_6[0][0]']            \n",
            " )                                                                                                \n",
            "                                                                                                  \n",
            " bidirectional_3 (Bidirectional  (None, 50)          25200       ['embedding_7[0][0]']            \n",
            " )                                                                                                \n",
            "                                                                                                  \n",
            " average_3 (Average)            (None, 50)           0           ['bidirectional_2[0][0]',        \n",
            "                                                                  'bidirectional_3[0][0]']        \n",
            "                                                                                                  \n",
            " dropout_3 (Dropout)            (None, 50)           0           ['average_3[0][0]']              \n",
            "                                                                                                  \n",
            " dense_5 (Dense)                (None, 2)            102         ['dropout_3[0][0]']              \n",
            "                                                                                                  \n",
            "==================================================================================================\n",
            "Total params: 6,327,702\n",
            "Trainable params: 6,327,702\n",
            "Non-trainable params: 0\n",
            "__________________________________________________________________________________________________\n"
          ]
        }
      ],
      "source": [
        "# input layers\n",
        "evidence_input_layer = keras.Input(shape=(MAX_EVIDENCE_LENGTH, ))\n",
        "claim_input_layer = keras.Input(shape=(MAX_CLAIM_LENGTH, ))\n",
        "\n",
        "claim_input = claim_input_layer\n",
        "evidence_input = evidence_input_layer\n",
        "\n",
        "# Embeddings\n",
        "claims_embedding_layer = tf.keras.layers.Embedding(\n",
        "    len(claim_tokenizer.word_index)+1,\n",
        "    embedded_dimension,\n",
        "    embeddings_initializer=keras.initializers.Constant(embedding_matrix_c),\n",
        "    trainable = True,\n",
        "    embeddings_regularizer=None,\n",
        "    activity_regularizer=None,\n",
        "    embeddings_constraint=None,\n",
        "    mask_zero=False,\n",
        "    input_length=MAX_CLAIM_LENGTH\n",
        ")\n",
        "\n",
        "evidences_embedding_layer = tf.keras.layers.Embedding(\n",
        "    len(evidence_tokenizer.word_index)+1,\n",
        "    embedded_dimension,\n",
        "    embeddings_initializer=keras.initializers.Constant(embedding_matrix_e),\n",
        "    trainable = True,\n",
        "    embeddings_regularizer=None,\n",
        "    activity_regularizer=None,\n",
        "    embeddings_constraint=None,\n",
        "    mask_zero=False,\n",
        "    input_length=MAX_EVIDENCE_LENGTH\n",
        ")\n",
        "\n",
        "x1 = claims_embedding_layer(claim_input)\n",
        "x2 = evidences_embedding_layer(evidence_input)\n",
        "\n",
        "x1 = Bidirectional(LSTM(units=int(embedded_dimension/4),\n",
        "                          return_sequences=False))(x1) \n",
        "\n",
        "x2 = Bidirectional(LSTM(units=int(embedded_dimension/4), \n",
        "                          return_sequences=False))(x2) \n",
        "\n",
        "# Merge layer\n",
        "mean_x = tf.keras.layers.Average()([x1,x2])\n",
        "\n",
        "# dropout\n",
        "dropout = tf.keras.layers.Dropout(0.25)(mean_x)\n",
        "\n",
        "# classification final layer\n",
        "outputs = layers.Dense(2, activation='softmax')(dropout)\n",
        "\n",
        "model_RNN_last = keras.Model(inputs=[claim_input, evidence_input], outputs=outputs, name=\"RNN_last\")\n",
        "model_RNN_last.summary()"
      ]
    },
    {
      "cell_type": "code",
      "execution_count": 35,
      "metadata": {
        "colab": {
          "base_uri": "https://localhost:8080/",
          "height": 0
        },
        "id": "oYwwbGpyVsEr",
        "outputId": "79ed4db4-861f-4312-e7fd-57b69243d15c"
      },
      "outputs": [
        {
          "output_type": "execute_result",
          "data": {
            "image/png": "[encoded data removed]",
            "text/plain": [
              "<IPython.core.display.Image object>"
            ]
          },
          "metadata": {},
          "execution_count": 35
        }
      ],
      "source": [
        "keras.utils.plot_model(model_RNN_last, \"RNN_last.png\")"
      ]
    },
    {
      "cell_type": "markdown",
      "metadata": {
        "id": "oLeA5t3tYayh"
      },
      "source": [
        "## 2. Encode token sequences via a RNN and average all the output states."
      ]
    },
    {
      "cell_type": "code",
      "execution_count": 36,
      "metadata": {
        "colab": {
          "base_uri": "https://localhost:8080/"
        },
        "id": "cBK_mFh3Yd8D",
        "outputId": "aa2aaa13-f7bb-444e-dccf-826911878866"
      },
      "outputs": [
        {
          "output_type": "stream",
          "name": "stdout",
          "text": [
            "Model: \"RNN_mean\"\n",
            "__________________________________________________________________________________________________\n",
            " Layer (type)                   Output Shape         Param #     Connected to                     \n",
            "==================================================================================================\n",
            " input_4 (InputLayer)           [(None, 65)]         0           []                               \n",
            "                                                                                                  \n",
            " input_3 (InputLayer)           [(None, 209)]        0           []                               \n",
            "                                                                                                  \n",
            " embedding_2 (Embedding)        (None, 65, 100)      2480300     ['input_4[0][0]']                \n",
            "                                                                                                  \n",
            " embedding_3 (Embedding)        (None, 209, 100)     3796900     ['input_3[0][0]']                \n",
            "                                                                                                  \n",
            " lstm_2 (LSTM)                  (None, 65, 25)       12600       ['embedding_2[0][0]']            \n",
            "                                                                                                  \n",
            " lstm_3 (LSTM)                  (None, 209, 25)      12600       ['embedding_3[0][0]']            \n",
            "                                                                                                  \n",
            " tf.math.reduce_mean (TFOpLambd  (None, 25)          0           ['lstm_2[0][0]']                 \n",
            " a)                                                                                               \n",
            "                                                                                                  \n",
            " tf.math.reduce_mean_1 (TFOpLam  (None, 25)          0           ['lstm_3[0][0]']                 \n",
            " bda)                                                                                             \n",
            "                                                                                                  \n",
            " average_1 (Average)            (None, 25)           0           ['tf.math.reduce_mean[0][0]',    \n",
            "                                                                  'tf.math.reduce_mean_1[0][0]']  \n",
            "                                                                                                  \n",
            " dense_1 (Dense)                (None, 2)            52          ['average_1[0][0]']              \n",
            "                                                                                                  \n",
            "==================================================================================================\n",
            "Total params: 6,302,452\n",
            "Trainable params: 6,302,452\n",
            "Non-trainable params: 0\n",
            "__________________________________________________________________________________________________\n"
          ]
        }
      ],
      "source": [
        "# input layers\n",
        "evidence_input_layer = keras.Input(shape=(MAX_EVIDENCE_LENGTH, ))\n",
        "claim_input_layer = keras.Input(shape=(MAX_CLAIM_LENGTH, ))\n",
        "\n",
        "claim_input = claim_input_layer\n",
        "evidence_input = evidence_input_layer\n",
        "\n",
        "# Embeddings\n",
        "claims_embedding_layer = tf.keras.layers.Embedding(\n",
        "    len(claim_tokenizer.word_index)+1,\n",
        "    embedded_dimension,\n",
        "    embeddings_initializer=keras.initializers.Constant(embedding_matrix_c),\n",
        "    trainable = True,\n",
        "    embeddings_regularizer=None,\n",
        "    activity_regularizer=None,\n",
        "    embeddings_constraint=None,\n",
        "    mask_zero=False,\n",
        "    input_length=MAX_CLAIM_LENGTH\n",
        ")\n",
        "\n",
        "evidences_embedding_layer = tf.keras.layers.Embedding(\n",
        "    len(evidence_tokenizer.word_index)+1,\n",
        "    embedded_dimension,\n",
        "    embeddings_initializer=keras.initializers.Constant(embedding_matrix_e),\n",
        "    trainable = True,\n",
        "    embeddings_regularizer=None,\n",
        "    activity_regularizer=None,\n",
        "    embeddings_constraint=None,\n",
        "    mask_zero=False,\n",
        "    input_length=MAX_EVIDENCE_LENGTH\n",
        ")\n",
        "\n",
        "x1 = claims_embedding_layer(claim_input)\n",
        "x2 = evidences_embedding_layer(evidence_input)\n",
        "\n",
        "x1 = LSTM(units=int(embedded_dimension/4),\n",
        "                          return_sequences=True)(x1) \n",
        "\n",
        "x2 = LSTM(units=int(embedded_dimension/4),\n",
        "                          return_sequences=True)(x2) \n",
        "\n",
        "x1 = tf.reduce_mean(x1, 1)\n",
        "x2 = tf.reduce_mean(x2, 1)\n",
        "\n",
        "# Merge layer\n",
        "mean_x = tf.keras.layers.Average()([x1,x2])\n",
        "\n",
        "# dropout\n",
        "dropout = tf.keras.layers.Dropout(0.25)(mean_x)\n",
        "\n",
        "# classification final layer\n",
        "\n",
        "outputs = layers.Dense(2, activation='softmax')(dropout)\n",
        "\n",
        "model_RNN_mean = keras.Model(inputs=[claim_input, evidence_input], outputs=outputs, name=\"RNN_mean\")\n",
        "model_RNN_mean.summary()"
      ]
    },
    {
      "cell_type": "code",
      "execution_count": 37,
      "metadata": {
        "colab": {
          "base_uri": "https://localhost:8080/",
          "height": 0
        },
        "id": "Xj7ZxC_tYsfp",
        "outputId": "9b341226-a028-41e2-c8df-6780ba384760"
      },
      "outputs": [
        {
          "output_type": "execute_result",
          "data": {
            "image/png": "[encoded data removed]",
            "text/plain": [
              "<IPython.core.display.Image object>"
            ]
          },
          "metadata": {},
          "execution_count": 37
        }
      ],
      "source": [
        "keras.utils.plot_model(model_RNN_mean, \"RNN_mean.png\")"
      ]
    },
    {
      "cell_type": "markdown",
      "metadata": {
        "id": "jix3-wr0aiFM"
      },
      "source": [
        "## 3. Encode token sequences via a simple MLP layer. \n",
        "- this model is chosen to test all merging strategies and the cosine similarity extension"
      ]
    },
    {
      "cell_type": "code",
      "execution_count": 68,
      "metadata": {
        "id": "YyJRNDFwahh3"
      },
      "outputs": [],
      "source": [
        "def create_mlp_model(merge):\n",
        "  # input layers\n",
        "  evidence_input_layer = keras.Input(shape=(MAX_EVIDENCE_LENGTH, ))\n",
        "  claim_input_layer = keras.Input(shape=(MAX_CLAIM_LENGTH, ))\n",
        "\n",
        "  claim_input = claim_input_layer\n",
        "  evidence_input = evidence_input_layer\n",
        "\n",
        "  # Embeddings\n",
        "  claims_embedding_layer = tf.keras.layers.Embedding(\n",
        "      len(claim_tokenizer.word_index)+1,\n",
        "      embedded_dimension,\n",
        "      embeddings_initializer=keras.initializers.Constant(embedding_matrix_c),\n",
        "      trainable = True,\n",
        "      embeddings_regularizer=None,\n",
        "      activity_regularizer=None,\n",
        "      embeddings_constraint=None,\n",
        "      mask_zero=False,\n",
        "      input_length=MAX_CLAIM_LENGTH\n",
        "  )\n",
        "\n",
        "  evidences_embedding_layer = tf.keras.layers.Embedding(\n",
        "      len(evidence_tokenizer.word_index)+1,\n",
        "      embedded_dimension,\n",
        "      embeddings_initializer=keras.initializers.Constant(embedding_matrix_e),\n",
        "      trainable = True,\n",
        "      embeddings_regularizer=None,\n",
        "      activity_regularizer=None,\n",
        "      embeddings_constraint=None,\n",
        "      mask_zero=False,\n",
        "      input_length=MAX_EVIDENCE_LENGTH\n",
        "  )\n",
        "\n",
        "  x1 = claims_embedding_layer(claim_input)\n",
        "  x2 = evidences_embedding_layer(evidence_input)\n",
        "\n",
        "  x1 = tf.reshape(x1, [-1, MAX_CLAIM_LENGTH*embedded_dimension]) \n",
        "  x2 = tf.reshape(x2, [-1, MAX_EVIDENCE_LENGTH*embedded_dimension]) \n",
        "    \n",
        "    \n",
        "  x1 = Dense(embedded_dimension,activation='relu')(x1)  \n",
        "  x2 = Dense(embedded_dimension,activation='relu')(x2)  \n",
        "\n",
        "\n",
        "  # Merge layer\n",
        "  if(merge == 'mean'):\n",
        "    merged_x = tf.keras.layers.Average()([x1,x2])\n",
        "  if(merge == 'sum'):\n",
        "    merged_x = tf.keras.layers.Add()([x1,x2])\n",
        "  if(merge == 'concat'):\n",
        "    merged_x = tf.keras.layers.Concatenate(axis=1)([x1,x2])\n",
        "\n",
        "  # append cosine similarity\n",
        "  #cos_sim = tf.keras.layers.Lambda(cosine_distance, output_shape=cos_dist_output_shape)([x1, x2])\n",
        "  cos_sim = keras.layers.Dot(axes=1, normalize=True)([x1,x2])\n",
        "  merged_x = tf.keras.layers.Concatenate(axis=1)([merged_x, cos_sim])\n",
        "\n",
        "  # dropout\n",
        "  dropout = tf.keras.layers.Dropout(0.25)(merged_x)\n",
        "\n",
        "  # classification final layer\n",
        "\n",
        "  outputs = layers.Dense(2, activation='softmax')(dropout)\n",
        "\n",
        "  model_MLP = keras.Model(inputs=[claim_input, evidence_input], outputs=outputs, name=str('mlp_'+merge))\n",
        "  return model_MLP"
      ]
    },
    {
      "cell_type": "markdown",
      "metadata": {
        "id": "_6ZA4eeYIAAU"
      },
      "source": [
        "## 4. Compute the sentence embedding as the mean of its token embeddings (bag of vectors)"
      ]
    },
    {
      "cell_type": "code",
      "execution_count": 69,
      "metadata": {
        "colab": {
          "base_uri": "https://localhost:8080/"
        },
        "id": "gzVi4Fa64tF-",
        "outputId": "2f5adae1-e10b-4844-aed6-2d562cce6e21"
      },
      "outputs": [
        {
          "output_type": "stream",
          "name": "stdout",
          "text": [
            "Model: \"bag_of_words\"\n",
            "__________________________________________________________________________________________________\n",
            " Layer (type)                   Output Shape         Param #     Connected to                     \n",
            "==================================================================================================\n",
            " input_16 (InputLayer)          [(None, 65)]         0           []                               \n",
            "                                                                                                  \n",
            " input_15 (InputLayer)          [(None, 209)]        0           []                               \n",
            "                                                                                                  \n",
            " embedding_14 (Embedding)       (None, 65, 100)      2480300     ['input_16[0][0]']               \n",
            "                                                                                                  \n",
            " embedding_15 (Embedding)       (None, 209, 100)     3796900     ['input_15[0][0]']               \n",
            "                                                                                                  \n",
            " tf.math.reduce_mean_4 (TFOpLam  (None, 65)          0           ['embedding_14[0][0]']           \n",
            " bda)                                                                                             \n",
            "                                                                                                  \n",
            " tf.math.reduce_mean_5 (TFOpLam  (None, 209)         0           ['embedding_15[0][0]']           \n",
            " bda)                                                                                             \n",
            "                                                                                                  \n",
            " dense_15 (Dense)               (None, 100)          6600        ['tf.math.reduce_mean_4[0][0]']  \n",
            "                                                                                                  \n",
            " dense_16 (Dense)               (None, 100)          21000       ['tf.math.reduce_mean_5[0][0]']  \n",
            "                                                                                                  \n",
            " average_5 (Average)            (None, 100)          0           ['dense_15[0][0]',               \n",
            "                                                                  'dense_16[0][0]']               \n",
            "                                                                                                  \n",
            " dropout_7 (Dropout)            (None, 100)          0           ['average_5[0][0]']              \n",
            "                                                                                                  \n",
            " dense_17 (Dense)               (None, 2)            202         ['dropout_7[0][0]']              \n",
            "                                                                                                  \n",
            "==================================================================================================\n",
            "Total params: 6,305,002\n",
            "Trainable params: 6,305,002\n",
            "Non-trainable params: 0\n",
            "__________________________________________________________________________________________________\n"
          ]
        }
      ],
      "source": [
        "# input layers\n",
        "evidence_input_layer = keras.Input(shape=(MAX_EVIDENCE_LENGTH, ))\n",
        "claim_input_layer = keras.Input(shape=(MAX_CLAIM_LENGTH, ))\n",
        "\n",
        "claim_input = claim_input_layer\n",
        "evidence_input = evidence_input_layer\n",
        "\n",
        "# Embeddings\n",
        "claims_embedding_layer = tf.keras.layers.Embedding(\n",
        "    len(claim_tokenizer.word_index)+1,\n",
        "    100,\n",
        "    embeddings_initializer=keras.initializers.Constant(embedding_matrix_c),\n",
        "    trainable = True,\n",
        "    embeddings_regularizer=None,\n",
        "    activity_regularizer=None,\n",
        "    embeddings_constraint=None,\n",
        "    mask_zero=False,\n",
        "    input_length=MAX_CLAIM_LENGTH\n",
        ")\n",
        "\n",
        "evidences_embedding_layer = tf.keras.layers.Embedding(\n",
        "    len(evidence_tokenizer.word_index)+1,\n",
        "    100,\n",
        "    embeddings_initializer=keras.initializers.Constant(embedding_matrix_e),\n",
        "    trainable = True,\n",
        "    embeddings_regularizer=None,\n",
        "    activity_regularizer=None,\n",
        "    embeddings_constraint=None,\n",
        "    mask_zero=False,\n",
        "    input_length=MAX_EVIDENCE_LENGTH\n",
        ")\n",
        "\n",
        "x1 = claims_embedding_layer(claim_input)\n",
        "x2 = evidences_embedding_layer(evidence_input)\n",
        "\n",
        "# Mean\n",
        "x_claim = tf.math.reduce_mean(x1, axis=-1, keepdims=False)\n",
        "x_evidence = tf.math.reduce_mean(x2, axis=-1, keepdims=False)\n",
        "\n",
        "# Dense\n",
        "claim_dense = layers.Dense(embedded_dimension, activation='relu')(x_claim)\n",
        "evidence_dense = layers.Dense(embedded_dimension, activation='relu')(x_evidence)\n",
        "\n",
        "# Merge layer\n",
        "mean_x = tf.keras.layers.Average()([claim_dense,evidence_dense])\n",
        "\n",
        "# dropout\n",
        "dropout = tf.keras.layers.Dropout(0.25)(mean_x)\n",
        "\n",
        "# classification final layer\n",
        "classification_layer = layers.Dense(2, activation='softmax')\n",
        "\n",
        "outputs = classification_layer(dropout)\n",
        "\n",
        "model_bag_of_words = keras.Model(inputs=[claim_input, evidence_input], outputs=outputs, name=\"bag_of_words\")\n",
        "model_bag_of_words.summary()"
      ]
    },
    {
      "cell_type": "code",
      "execution_count": 70,
      "metadata": {
        "colab": {
          "base_uri": "https://localhost:8080/",
          "height": 0
        },
        "id": "e6BsxeOuKos7",
        "outputId": "6eb58268-e24f-43c3-a4fa-9ca32c1cd0e1"
      },
      "outputs": [
        {
          "output_type": "execute_result",
          "data": {
            "image/png": "[encoded data removed]",
            "text/plain": [
              "<IPython.core.display.Image object>"
            ]
          },
          "metadata": {},
          "execution_count": 70
        }
      ],
      "source": [
        "keras.utils.plot_model(model_bag_of_words, \"bag_of_words.png\")"
      ]
    },
    {
      "cell_type": "markdown",
      "metadata": {
        "id": "R5Qo3ZO6NzQf"
      },
      "source": [
        "# Training"
      ]
    },
    {
      "cell_type": "markdown",
      "metadata": {
        "id": "wjyVXzc-SQl6"
      },
      "source": [
        "##Metrics and model parameters"
      ]
    },
    {
      "cell_type": "code",
      "execution_count": 77,
      "metadata": {
        "id": "dJhJ_QpGQZPM"
      },
      "outputs": [],
      "source": [
        "metrics = [keras.metrics.TruePositives(name='tp'),\n",
        "           keras.metrics.FalsePositives(name='fp'),\n",
        "           keras.metrics.TrueNegatives(name='tn'),\n",
        "           keras.metrics.FalseNegatives(name='fn'),\n",
        "           keras.metrics.BinaryAccuracy(name='accuracy'),\n",
        "           keras.metrics.AUC(name='auc'),\n",
        "           tfa.metrics.F1Score(num_classes=2, threshold=0.5),\n",
        "           tfa.metrics.CohenKappa(num_classes=2, sparse_labels=False)\n",
        "           ]\n",
        "\n",
        "sgdopt = tf.keras.optimizers.SGD(learning_rate=0.1)\n",
        "adamopt = keras.optimizers.Adam(0.001)\n",
        "\n",
        "es_callback = tf.keras.callbacks.EarlyStopping(monitor='val_loss', min_delta=0.005, patience=10)"
      ]
    },
    {
      "cell_type": "markdown",
      "metadata": {
        "id": "vIb1DZ8uTS_R"
      },
      "source": [
        "##1st model training"
      ]
    },
    {
      "cell_type": "code",
      "execution_count": 44,
      "metadata": {
        "colab": {
          "base_uri": "https://localhost:8080/"
        },
        "id": "vVMCw7zYTEhR",
        "outputId": "07729630-fd76-408b-9ea5-762a26dada71"
      },
      "outputs": [
        {
          "output_type": "stream",
          "name": "stdout",
          "text": [
            "Epoch 1/10\n",
            "119/119 [==============================] - 327s 3s/step - loss: 0.5893 - tp: 88641.0000 - fp: 33099.0000 - tn: 88641.0000 - fn: 33099.0000 - accuracy: 0.7281 - auc: 0.7497 - f1_score: 0.4324 - cohen_kappa: -0.3149 - val_loss: 0.8563 - val_tp: 3611.0000 - val_fp: 3554.0000 - val_tn: 3611.0000 - val_fn: 3554.0000 - val_accuracy: 0.5040 - val_auc: 0.5200 - val_f1_score: 0.3351 - val_cohen_kappa: -0.5949\n",
            "Epoch 2/10\n",
            "119/119 [==============================] - 293s 2s/step - loss: 0.5767 - tp: 89389.0000 - fp: 32351.0000 - tn: 89389.0000 - fn: 32351.0000 - accuracy: 0.7343 - auc: 0.7583 - f1_score: 0.4234 - cohen_kappa: -0.2994 - val_loss: 0.8413 - val_tp: 3611.0000 - val_fp: 3554.0000 - val_tn: 3611.0000 - val_fn: 3554.0000 - val_accuracy: 0.5040 - val_auc: 0.5211 - val_f1_score: 0.3351 - val_cohen_kappa: -0.5949\n",
            "Epoch 3/10\n",
            "119/119 [==============================] - 290s 2s/step - loss: 0.5764 - tp: 89389.0000 - fp: 32351.0000 - tn: 89389.0000 - fn: 32351.0000 - accuracy: 0.7343 - auc: 0.7586 - f1_score: 0.4234 - cohen_kappa: -0.2994 - val_loss: 0.8341 - val_tp: 3611.0000 - val_fp: 3554.0000 - val_tn: 3611.0000 - val_fn: 3554.0000 - val_accuracy: 0.5040 - val_auc: 0.5162 - val_f1_score: 0.3351 - val_cohen_kappa: -0.5949\n",
            "Epoch 4/10\n",
            "119/119 [==============================] - 314s 3s/step - loss: 0.5776 - tp: 89389.0000 - fp: 32351.0000 - tn: 89389.0000 - fn: 32351.0000 - accuracy: 0.7343 - auc: 0.7557 - f1_score: 0.4234 - cohen_kappa: -0.2994 - val_loss: 0.8384 - val_tp: 3611.0000 - val_fp: 3554.0000 - val_tn: 3611.0000 - val_fn: 3554.0000 - val_accuracy: 0.5040 - val_auc: 0.5193 - val_f1_score: 0.3351 - val_cohen_kappa: -0.5949\n",
            "Epoch 5/10\n",
            "119/119 [==============================] - 308s 3s/step - loss: 0.5766 - tp: 89388.0000 - fp: 32352.0000 - tn: 89388.0000 - fn: 32352.0000 - accuracy: 0.7343 - auc: 0.7569 - f1_score: 0.4234 - cohen_kappa: -0.2995 - val_loss: 0.8415 - val_tp: 3611.0000 - val_fp: 3554.0000 - val_tn: 3611.0000 - val_fn: 3554.0000 - val_accuracy: 0.5040 - val_auc: 0.5203 - val_f1_score: 0.3351 - val_cohen_kappa: -0.5949\n",
            "Epoch 6/10\n",
            "119/119 [==============================] - 312s 3s/step - loss: 0.5755 - tp: 89391.0000 - fp: 32349.0000 - tn: 89391.0000 - fn: 32349.0000 - accuracy: 0.7343 - auc: 0.7596 - f1_score: 0.4235 - cohen_kappa: -0.2995 - val_loss: 0.8214 - val_tp: 3611.0000 - val_fp: 3554.0000 - val_tn: 3611.0000 - val_fn: 3554.0000 - val_accuracy: 0.5040 - val_auc: 0.5254 - val_f1_score: 0.3351 - val_cohen_kappa: -0.5949\n",
            "Epoch 7/10\n",
            "119/119 [==============================] - 307s 3s/step - loss: 0.5727 - tp: 89395.0000 - fp: 32345.0000 - tn: 89395.0000 - fn: 32345.0000 - accuracy: 0.7343 - auc: 0.7635 - f1_score: 0.4236 - cohen_kappa: -0.2995 - val_loss: 0.8155 - val_tp: 3611.0000 - val_fp: 3554.0000 - val_tn: 3611.0000 - val_fn: 3554.0000 - val_accuracy: 0.5040 - val_auc: 0.5378 - val_f1_score: 0.3351 - val_cohen_kappa: -0.5949\n",
            "Epoch 8/10\n",
            "119/119 [==============================] - 306s 3s/step - loss: 0.5635 - tp: 89472.0000 - fp: 32268.0000 - tn: 89472.0000 - fn: 32268.0000 - accuracy: 0.7349 - auc: 0.7776 - f1_score: 0.4274 - cohen_kappa: -0.3011 - val_loss: 0.7793 - val_tp: 3611.0000 - val_fp: 3554.0000 - val_tn: 3611.0000 - val_fn: 3554.0000 - val_accuracy: 0.5040 - val_auc: 0.6114 - val_f1_score: 0.3351 - val_cohen_kappa: -0.5949\n",
            "Epoch 9/10\n",
            "119/119 [==============================] - 304s 3s/step - loss: 0.5135 - tp: 94086.0000 - fp: 27654.0000 - tn: 94086.0000 - fn: 27654.0000 - accuracy: 0.7728 - auc: 0.8271 - f1_score: 0.5780 - cohen_kappa: -0.3683 - val_loss: 0.7225 - val_tp: 3892.0000 - val_fp: 3273.0000 - val_tn: 3892.0000 - val_fn: 3273.0000 - val_accuracy: 0.5432 - val_auc: 0.6411 - val_f1_score: 0.4215 - val_cohen_kappa: -0.6524\n",
            "Epoch 10/10\n",
            "119/119 [==============================] - 303s 3s/step - loss: 0.4660 - tp: 97603.0000 - fp: 24137.0000 - tn: 97603.0000 - fn: 24137.0000 - accuracy: 0.8017 - auc: 0.8644 - f1_score: 0.6699 - cohen_kappa: -0.4292 - val_loss: 0.7010 - val_tp: 4615.0000 - val_fp: 2550.0000 - val_tn: 4615.0000 - val_fn: 2550.0000 - val_accuracy: 0.6441 - val_auc: 0.6848 - val_f1_score: 0.5969 - val_cohen_kappa: -0.7902\n"
          ]
        }
      ],
      "source": [
        "model_RNN_last.compile(\n",
        "    loss=keras.losses.CategoricalCrossentropy(),\n",
        "    optimizer= adamopt,\n",
        "    metrics=metrics\n",
        ")\n",
        "\n",
        "RNN_last_history = model_RNN_last.fit([train_claims_X, train_evidences_X], train_labels_y, batch_size=1024, shuffle=True, epochs=10, validation_data=([val_claims_X, val_evidences_X], val_labels_y))"
      ]
    },
    {
      "cell_type": "code",
      "source": [
        "!mkdir -p saved_models"
      ],
      "metadata": {
        "id": "j2tJcqnn8mnP"
      },
      "execution_count": 51,
      "outputs": []
    },
    {
      "cell_type": "markdown",
      "source": [
        "### Save Model to Drive to avoid retraining\n",
        "- we can load the model to do testing now"
      ],
      "metadata": {
        "id": "WSzZ7swCAqVU"
      }
    },
    {
      "cell_type": "code",
      "source": [
        "from google.colab import drive\n",
        "drive.mount('/content/drive')"
      ],
      "metadata": {
        "colab": {
          "base_uri": "https://localhost:8080/"
        },
        "id": "wJZboGObAScX",
        "outputId": "fbf77c72-bf1c-4753-bff6-d4c1ac80961f"
      },
      "execution_count": 54,
      "outputs": [
        {
          "output_type": "stream",
          "name": "stdout",
          "text": [
            "Mounted at /content/drive\n"
          ]
        }
      ]
    },
    {
      "cell_type": "code",
      "source": [
        "model_RNN_last.save('saved_models/rnn_last')"
      ],
      "metadata": {
        "id": "fuyxoeLJ6J4P"
      },
      "execution_count": null,
      "outputs": []
    },
    {
      "cell_type": "code",
      "source": [
        "!cp -r 'saved_models/rnn_last' \"/content/drive/My Drive/Colab Notebooks/NLP\""
      ],
      "metadata": {
        "id": "ul7gr7tbhmro"
      },
      "execution_count": 100,
      "outputs": []
    },
    {
      "cell_type": "markdown",
      "metadata": {
        "id": "GByFQN-eSWuY"
      },
      "source": [
        "##2nd model training"
      ]
    },
    {
      "cell_type": "code",
      "execution_count": 45,
      "metadata": {
        "id": "7NgRKuwgG4tz",
        "colab": {
          "base_uri": "https://localhost:8080/"
        },
        "outputId": "8cf9b74c-0c4e-493b-f5f8-bbdae9fed993"
      },
      "outputs": [
        {
          "output_type": "stream",
          "name": "stdout",
          "text": [
            "Epoch 1/10\n",
            "119/119 [==============================] - 168s 1s/step - loss: 0.5815 - tp: 93558.0000 - fp: 35347.0000 - tn: 93558.0000 - fn: 35347.0000 - accuracy: 0.7258 - auc: 0.7349 - f1_score: 0.4551 - cohen_kappa: -0.3362 - val_loss: 0.8205 - val_tp: 3611.0000 - val_fp: 3554.0000 - val_tn: 3611.0000 - val_fn: 3554.0000 - val_accuracy: 0.5040 - val_auc: 0.5275 - val_f1_score: 0.3351 - val_cohen_kappa: -0.5949\n",
            "Epoch 2/10\n",
            "119/119 [==============================] - 167s 1s/step - loss: 0.5780 - tp: 89389.0000 - fp: 32351.0000 - tn: 89389.0000 - fn: 32351.0000 - accuracy: 0.7343 - auc: 0.7466 - f1_score: 0.4234 - cohen_kappa: -0.2994 - val_loss: 0.8131 - val_tp: 3611.0000 - val_fp: 3554.0000 - val_tn: 3611.0000 - val_fn: 3554.0000 - val_accuracy: 0.5040 - val_auc: 0.5308 - val_f1_score: 0.3351 - val_cohen_kappa: -0.5949\n",
            "Epoch 3/10\n",
            "119/119 [==============================] - 160s 1s/step - loss: 0.5681 - tp: 89389.0000 - fp: 32351.0000 - tn: 89389.0000 - fn: 32351.0000 - accuracy: 0.7343 - auc: 0.7848 - f1_score: 0.4234 - cohen_kappa: -0.2994 - val_loss: 0.7687 - val_tp: 3611.0000 - val_fp: 3554.0000 - val_tn: 3611.0000 - val_fn: 3554.0000 - val_accuracy: 0.5040 - val_auc: 0.6058 - val_f1_score: 0.3351 - val_cohen_kappa: -0.5949\n",
            "Epoch 4/10\n",
            "119/119 [==============================] - 159s 1s/step - loss: 0.4780 - tp: 96188.0000 - fp: 25552.0000 - tn: 96188.0000 - fn: 25552.0000 - accuracy: 0.7901 - auc: 0.8531 - f1_score: 0.6558 - cohen_kappa: -0.4387 - val_loss: 0.7330 - val_tp: 4692.0000 - val_fp: 2473.0000 - val_tn: 4692.0000 - val_fn: 2473.0000 - val_accuracy: 0.6548 - val_auc: 0.6733 - val_f1_score: 0.6125 - val_cohen_kappa: -0.8031\n",
            "Epoch 5/10\n",
            "119/119 [==============================] - 166s 1s/step - loss: 0.4079 - tp: 101637.0000 - fp: 20103.0000 - tn: 101637.0000 - fn: 20103.0000 - accuracy: 0.8349 - auc: 0.8941 - f1_score: 0.7531 - cohen_kappa: -0.5025 - val_loss: 0.6399 - val_tp: 4954.0000 - val_fp: 2211.0000 - val_tn: 4954.0000 - val_fn: 2211.0000 - val_accuracy: 0.6914 - val_auc: 0.7528 - val_f1_score: 0.6649 - val_cohen_kappa: -0.8533\n",
            "Epoch 6/10\n",
            "119/119 [==============================] - 169s 1s/step - loss: 0.3689 - tp: 103350.0000 - fp: 18390.0000 - tn: 103350.0000 - fn: 18390.0000 - accuracy: 0.8489 - auc: 0.9138 - f1_score: 0.7808 - cohen_kappa: -0.5259 - val_loss: 0.6741 - val_tp: 5007.0000 - val_fp: 2158.0000 - val_tn: 5007.0000 - val_fn: 2158.0000 - val_accuracy: 0.6988 - val_auc: 0.7515 - val_f1_score: 0.6763 - val_cohen_kappa: -0.8700\n",
            "Epoch 7/10\n",
            "119/119 [==============================] - 166s 1s/step - loss: 0.3478 - tp: 104388.0000 - fp: 17352.0000 - tn: 104388.0000 - fn: 17352.0000 - accuracy: 0.8575 - auc: 0.9234 - f1_score: 0.7975 - cohen_kappa: -0.5431 - val_loss: 0.5936 - val_tp: 5140.0000 - val_fp: 2025.0000 - val_tn: 5140.0000 - val_fn: 2025.0000 - val_accuracy: 0.7174 - val_auc: 0.7888 - val_f1_score: 0.7043 - val_cohen_kappa: -0.9154\n",
            "Epoch 8/10\n",
            "119/119 [==============================] - 168s 1s/step - loss: 0.3295 - tp: 105294.0000 - fp: 16446.0000 - tn: 105294.0000 - fn: 16446.0000 - accuracy: 0.8649 - auc: 0.9307 - f1_score: 0.8109 - cohen_kappa: -0.5557 - val_loss: 0.6649 - val_tp: 5063.0000 - val_fp: 2102.0000 - val_tn: 5063.0000 - val_fn: 2102.0000 - val_accuracy: 0.7066 - val_auc: 0.7676 - val_f1_score: 0.6871 - val_cohen_kappa: -0.8826\n",
            "Epoch 9/10\n",
            "119/119 [==============================] - 188s 2s/step - loss: 0.3181 - tp: 106079.0000 - fp: 15661.0000 - tn: 106079.0000 - fn: 15661.0000 - accuracy: 0.8714 - auc: 0.9348 - f1_score: 0.8219 - cohen_kappa: -0.5653 - val_loss: 0.6541 - val_tp: 5097.0000 - val_fp: 2068.0000 - val_tn: 5097.0000 - val_fn: 2068.0000 - val_accuracy: 0.7114 - val_auc: 0.7755 - val_f1_score: 0.6940 - val_cohen_kappa: -0.8926\n",
            "Epoch 10/10\n",
            "119/119 [==============================] - 162s 1s/step - loss: 0.3025 - tp: 106786.0000 - fp: 14954.0000 - tn: 106786.0000 - fn: 14954.0000 - accuracy: 0.8772 - auc: 0.9402 - f1_score: 0.8312 - cohen_kappa: -0.5721 - val_loss: 0.6363 - val_tp: 5225.0000 - val_fp: 1940.0000 - val_tn: 5225.0000 - val_fn: 1940.0000 - val_accuracy: 0.7292 - val_auc: 0.7901 - val_f1_score: 0.7215 - val_cohen_kappa: -0.9459\n"
          ]
        }
      ],
      "source": [
        "model_RNN_mean.compile(\n",
        "    loss=keras.losses.BinaryCrossentropy(),\n",
        "    optimizer=keras.optimizers.Adam(),\n",
        "    metrics=metrics\n",
        ")\n",
        "\n",
        "RNN_mean_history = model_RNN_mean.fit([train_claims_X, train_evidences_X], train_labels_y, batch_size=1024, shuffle=True, epochs=10, validation_data=([val_claims_X, val_evidences_X], val_labels_y))"
      ]
    },
    {
      "cell_type": "code",
      "source": [
        "model_RNN_mean.save('saved_models/rnn_mean')"
      ],
      "metadata": {
        "id": "-f7OW0NhBRdW"
      },
      "execution_count": null,
      "outputs": []
    },
    {
      "cell_type": "code",
      "source": [
        "!cp -r 'saved_models/rnn_mean' \"/content/drive/My Drive/Colab Notebooks/NLP\""
      ],
      "metadata": {
        "id": "MjRD3WDa98Hg"
      },
      "execution_count": 101,
      "outputs": []
    },
    {
      "cell_type": "markdown",
      "metadata": {
        "id": "hKdH9x5yerJW"
      },
      "source": [
        "##3rd model training"
      ]
    },
    {
      "cell_type": "code",
      "source": [
        "mergings = ['mean', 'sum', 'concat']"
      ],
      "metadata": {
        "id": "m1sVOjDV5p3d"
      },
      "execution_count": 46,
      "outputs": []
    },
    {
      "cell_type": "markdown",
      "source": [
        "### Mean Merging"
      ],
      "metadata": {
        "id": "UCRDQj-yAEpe"
      }
    },
    {
      "cell_type": "code",
      "execution_count": 47,
      "metadata": {
        "id": "JayR8ze5eu0n",
        "colab": {
          "base_uri": "https://localhost:8080/",
          "height": 1000
        },
        "outputId": "32178fc1-12e9-4881-f939-6bd364fa197f"
      },
      "outputs": [
        {
          "output_type": "stream",
          "name": "stdout",
          "text": [
            "Model: \"mlp_mean\"\n",
            "__________________________________________________________________________________________________\n",
            " Layer (type)                   Output Shape         Param #     Connected to                     \n",
            "==================================================================================================\n",
            " input_10 (InputLayer)          [(None, 65)]         0           []                               \n",
            "                                                                                                  \n",
            " input_9 (InputLayer)           [(None, 209)]        0           []                               \n",
            "                                                                                                  \n",
            " embedding_8 (Embedding)        (None, 65, 100)      2480300     ['input_10[0][0]']               \n",
            "                                                                                                  \n",
            " embedding_9 (Embedding)        (None, 209, 100)     3796900     ['input_9[0][0]']                \n",
            "                                                                                                  \n",
            " tf.reshape (TFOpLambda)        (None, 6500)         0           ['embedding_8[0][0]']            \n",
            "                                                                                                  \n",
            " tf.reshape_1 (TFOpLambda)      (None, 20900)        0           ['embedding_9[0][0]']            \n",
            "                                                                                                  \n",
            " dense_6 (Dense)                (None, 100)          650100      ['tf.reshape[0][0]']             \n",
            "                                                                                                  \n",
            " dense_7 (Dense)                (None, 100)          2090100     ['tf.reshape_1[0][0]']           \n",
            "                                                                                                  \n",
            " average_4 (Average)            (None, 100)          0           ['dense_6[0][0]',                \n",
            "                                                                  'dense_7[0][0]']                \n",
            "                                                                                                  \n",
            " dot (Dot)                      (None, 1)            0           ['dense_6[0][0]',                \n",
            "                                                                  'dense_7[0][0]']                \n",
            "                                                                                                  \n",
            " concatenate (Concatenate)      (None, 101)          0           ['average_4[0][0]',              \n",
            "                                                                  'dot[0][0]']                    \n",
            "                                                                                                  \n",
            " dense_8 (Dense)                (None, 2)            204         ['concatenate[0][0]']            \n",
            "                                                                                                  \n",
            "==================================================================================================\n",
            "Total params: 9,017,604\n",
            "Trainable params: 9,017,604\n",
            "Non-trainable params: 0\n",
            "__________________________________________________________________________________________________\n"
          ]
        },
        {
          "output_type": "execute_result",
          "data": {
            "image/png": "[encoded data removed]",
            "text/plain": [
              "<IPython.core.display.Image object>"
            ]
          },
          "metadata": {},
          "execution_count": 47
        }
      ],
      "source": [
        "model_MLP_mean = create_mlp_model(mergings[0])\n",
        "model_MLP_mean.compile(\n",
        "    loss=keras.losses.BinaryCrossentropy(),\n",
        "    optimizer=adamopt,\n",
        "    metrics=metrics\n",
        ")\n",
        "\n",
        "model_MLP_mean.summary()\n",
        "keras.utils.plot_model(model_MLP_mean, \"MLP_mean.png\")"
      ]
    },
    {
      "cell_type": "code",
      "source": [
        "mean_MLP_history = model_MLP_mean.fit([train_claims_X, train_evidences_X], train_labels_y, batch_size=512, shuffle=True, epochs=15, validation_data=([val_claims_X, val_evidences_X], val_labels_y))"
      ],
      "metadata": {
        "id": "Qvn_0UQ8-c5B",
        "colab": {
          "base_uri": "https://localhost:8080/"
        },
        "outputId": "d5624f95-afcc-4a1e-f9bf-a1c138da636a"
      },
      "execution_count": 63,
      "outputs": [
        {
          "output_type": "stream",
          "name": "stdout",
          "text": [
            "Epoch 1/15\n",
            "238/238 [==============================] - 86s 360ms/step - loss: 0.4257 - tp: 101380.0000 - fp: 20360.0000 - tn: 101380.0000 - fn: 20360.0000 - accuracy: 0.8328 - auc: 0.9036 - f1_score: 0.7623 - cohen_kappa: -0.5428 - val_loss: 0.6626 - val_tp: 4946.0000 - val_fp: 2219.0000 - val_tn: 4946.0000 - val_fn: 2219.0000 - val_accuracy: 0.6903 - val_auc: 0.7787 - val_f1_score: 0.6634 - val_cohen_kappa: -0.8522\n",
            "Epoch 2/15\n",
            "238/238 [==============================] - 73s 308ms/step - loss: 0.3608 - tp: 103729.0000 - fp: 18011.0000 - tn: 103729.0000 - fn: 18011.0000 - accuracy: 0.8521 - auc: 0.9234 - f1_score: 0.7893 - cohen_kappa: -0.5409 - val_loss: 0.5784 - val_tp: 5120.0000 - val_fp: 2045.0000 - val_tn: 5120.0000 - val_fn: 2045.0000 - val_accuracy: 0.7146 - val_auc: 0.8036 - val_f1_score: 0.6994 - val_cohen_kappa: -0.9036\n",
            "Epoch 3/15\n",
            "238/238 [==============================] - 68s 286ms/step - loss: 0.3547 - tp: 104157.0000 - fp: 17583.0000 - tn: 104157.0000 - fn: 17583.0000 - accuracy: 0.8556 - auc: 0.9269 - f1_score: 0.7961 - cohen_kappa: -0.5483 - val_loss: 0.6881 - val_tp: 4995.0000 - val_fp: 2170.0000 - val_tn: 4995.0000 - val_fn: 2170.0000 - val_accuracy: 0.6971 - val_auc: 0.7792 - val_f1_score: 0.6722 - val_cohen_kappa: -0.8585\n",
            "Epoch 4/15\n",
            "238/238 [==============================] - 80s 336ms/step - loss: 0.3492 - tp: 104626.0000 - fp: 17114.0000 - tn: 104626.0000 - fn: 17114.0000 - accuracy: 0.8594 - auc: 0.9304 - f1_score: 0.8039 - cohen_kappa: -0.5589 - val_loss: 0.7097 - val_tp: 5048.0000 - val_fp: 2117.0000 - val_tn: 5048.0000 - val_fn: 2117.0000 - val_accuracy: 0.7045 - val_auc: 0.7849 - val_f1_score: 0.6830 - val_cohen_kappa: -0.8730\n",
            "Epoch 5/15\n",
            "238/238 [==============================] - 69s 290ms/step - loss: 0.3393 - tp: 105254.0000 - fp: 16486.0000 - tn: 105254.0000 - fn: 16486.0000 - accuracy: 0.8646 - auc: 0.9343 - f1_score: 0.8126 - cohen_kappa: -0.5658 - val_loss: 0.5475 - val_tp: 5296.0000 - val_fp: 1869.0000 - val_tn: 5296.0000 - val_fn: 1869.0000 - val_accuracy: 0.7391 - val_auc: 0.8207 - val_f1_score: 0.7335 - val_cohen_kappa: -0.9584\n",
            "Epoch 6/15\n",
            "238/238 [==============================] - 69s 288ms/step - loss: 0.3091 - tp: 106386.0000 - fp: 15354.0000 - tn: 106386.0000 - fn: 15354.0000 - accuracy: 0.8739 - auc: 0.9427 - f1_score: 0.8263 - cohen_kappa: -0.5700 - val_loss: 0.5980 - val_tp: 5247.0000 - val_fp: 1918.0000 - val_tn: 5247.0000 - val_fn: 1918.0000 - val_accuracy: 0.7323 - val_auc: 0.8092 - val_f1_score: 0.7220 - val_cohen_kappa: -0.9282\n",
            "Epoch 7/15\n",
            "238/238 [==============================] - 69s 292ms/step - loss: 0.3155 - tp: 106621.0000 - fp: 15119.0000 - tn: 106621.0000 - fn: 15119.0000 - accuracy: 0.8758 - auc: 0.9422 - f1_score: 0.8300 - cohen_kappa: -0.5754 - val_loss: 0.5397 - val_tp: 5356.0000 - val_fp: 1809.0000 - val_tn: 5356.0000 - val_fn: 1809.0000 - val_accuracy: 0.7475 - val_auc: 0.8268 - val_f1_score: 0.7455 - val_cohen_kappa: -0.9839\n",
            "Epoch 8/15\n",
            "238/238 [==============================] - 67s 281ms/step - loss: 0.3073 - tp: 106996.0000 - fp: 14744.0000 - tn: 106996.0000 - fn: 14744.0000 - accuracy: 0.8789 - auc: 0.9447 - f1_score: 0.8353 - cohen_kappa: -0.5816 - val_loss: 0.5960 - val_tp: 5298.0000 - val_fp: 1867.0000 - val_tn: 5298.0000 - val_fn: 1867.0000 - val_accuracy: 0.7394 - val_auc: 0.8150 - val_f1_score: 0.7325 - val_cohen_kappa: -0.9494\n",
            "Epoch 9/15\n",
            "238/238 [==============================] - 91s 383ms/step - loss: 0.2906 - tp: 107388.0000 - fp: 14352.0000 - tn: 107388.0000 - fn: 14352.0000 - accuracy: 0.8821 - auc: 0.9482 - f1_score: 0.8404 - cohen_kappa: -0.5854 - val_loss: 0.7174 - val_tp: 5150.0000 - val_fp: 2015.0000 - val_tn: 5150.0000 - val_fn: 2015.0000 - val_accuracy: 0.7188 - val_auc: 0.7886 - val_f1_score: 0.7031 - val_cohen_kappa: -0.8995\n",
            "Epoch 10/15\n",
            "238/238 [==============================] - 71s 300ms/step - loss: 0.2881 - tp: 107984.0000 - fp: 13756.0000 - tn: 107984.0000 - fn: 13756.0000 - accuracy: 0.8870 - auc: 0.9503 - f1_score: 0.8474 - cohen_kappa: -0.5880 - val_loss: 0.6193 - val_tp: 5301.0000 - val_fp: 1864.0000 - val_tn: 5301.0000 - val_fn: 1864.0000 - val_accuracy: 0.7398 - val_auc: 0.8126 - val_f1_score: 0.7323 - val_cohen_kappa: -0.9452\n",
            "Epoch 11/15\n",
            "238/238 [==============================] - 68s 284ms/step - loss: 0.2614 - tp: 108966.0000 - fp: 12774.0000 - tn: 108966.0000 - fn: 12774.0000 - accuracy: 0.8951 - auc: 0.9576 - f1_score: 0.8587 - cohen_kappa: -0.5907 - val_loss: 0.6917 - val_tp: 5232.0000 - val_fp: 1933.0000 - val_tn: 5232.0000 - val_fn: 1933.0000 - val_accuracy: 0.7302 - val_auc: 0.7969 - val_f1_score: 0.7186 - val_cohen_kappa: -0.9205\n",
            "Epoch 12/15\n",
            "238/238 [==============================] - 67s 281ms/step - loss: 0.2555 - tp: 109179.0000 - fp: 12561.0000 - tn: 109179.0000 - fn: 12561.0000 - accuracy: 0.8968 - auc: 0.9586 - f1_score: 0.8616 - cohen_kappa: -0.5941 - val_loss: 0.9247 - val_tp: 5034.0000 - val_fp: 2131.0000 - val_tn: 5034.0000 - val_fn: 2131.0000 - val_accuracy: 0.7026 - val_auc: 0.7486 - val_f1_score: 0.6780 - val_cohen_kappa: -0.8581\n",
            "Epoch 13/15\n",
            "238/238 [==============================] - 67s 280ms/step - loss: 0.2656 - tp: 108876.0000 - fp: 12864.0000 - tn: 108876.0000 - fn: 12864.0000 - accuracy: 0.8943 - auc: 0.9559 - f1_score: 0.8589 - cohen_kappa: -0.5987 - val_loss: 0.7013 - val_tp: 5247.0000 - val_fp: 1918.0000 - val_tn: 5247.0000 - val_fn: 1918.0000 - val_accuracy: 0.7323 - val_auc: 0.7986 - val_f1_score: 0.7218 - val_cohen_kappa: -0.9270\n",
            "Epoch 14/15\n",
            "238/238 [==============================] - 66s 278ms/step - loss: 0.2828 - tp: 108580.0000 - fp: 13160.0000 - tn: 108580.0000 - fn: 13160.0000 - accuracy: 0.8919 - auc: 0.9524 - f1_score: 0.8561 - cohen_kappa: -0.6016 - val_loss: 0.6679 - val_tp: 5294.0000 - val_fp: 1871.0000 - val_tn: 5294.0000 - val_fn: 1871.0000 - val_accuracy: 0.7389 - val_auc: 0.8088 - val_f1_score: 0.7320 - val_cohen_kappa: -0.9498\n",
            "Epoch 15/15\n",
            "238/238 [==============================] - 66s 276ms/step - loss: 0.2334 - tp: 110458.0000 - fp: 11282.0000 - tn: 110458.0000 - fn: 11282.0000 - accuracy: 0.9073 - auc: 0.9648 - f1_score: 0.8768 - cohen_kappa: -0.6032 - val_loss: 0.6664 - val_tp: 5325.0000 - val_fp: 1840.0000 - val_tn: 5325.0000 - val_fn: 1840.0000 - val_accuracy: 0.7432 - val_auc: 0.8116 - val_f1_score: 0.7384 - val_cohen_kappa: -0.9639\n"
          ]
        }
      ]
    },
    {
      "cell_type": "markdown",
      "source": [
        "Batch 512 - Epoch 15 - 63s 265ms/step \n",
        "- **train** \n",
        "  - loss: 0.3023 \n",
        "  - accuracy: 0.8754 \n",
        "  - auc: 0.9445\n",
        "  - f1_score: 0.8265\n",
        "  - cohen_kappa: -0.5487\n",
        "- **val** \n",
        "  - loss: 0.5790 \n",
        "  - val_accuracy: 0.7274 \n",
        "  - val_auc: 0.8073 \n",
        "  - val_f1_score: 0.7165 \n",
        "  - val_cohen_kappa: -0.9260"
      ],
      "metadata": {
        "id": "J_OF_S21DNiv"
      }
    },
    {
      "cell_type": "code",
      "source": [
        "mean_mlp_weights = model_MLP_mean.get_weights\n",
        "model_MLP_mean.save('saved_models/mlp_mean')"
      ],
      "metadata": {
        "colab": {
          "base_uri": "https://localhost:8080/"
        },
        "id": "kyXTRsxIDD4P",
        "outputId": "93da06f5-8d2b-4a61-ea50-7a2250c9036a"
      },
      "execution_count": 64,
      "outputs": [
        {
          "output_type": "stream",
          "name": "stderr",
          "text": [
            "WARNING:absl:Found untraced functions such as _cast_ypred, _update_multi_class_model while saving (showing 2 of 2). These functions will not be directly callable after loading.\n"
          ]
        },
        {
          "output_type": "stream",
          "name": "stdout",
          "text": [
            "INFO:tensorflow:Assets written to: saved_models/mlp_mean/assets\n"
          ]
        },
        {
          "output_type": "stream",
          "name": "stderr",
          "text": [
            "INFO:tensorflow:Assets written to: saved_models/mlp_mean/assets\n",
            "/usr/local/lib/python3.7/dist-packages/keras/engine/functional.py:1410: CustomMaskWarning: Custom mask layers require a config and must override get_config. When loading, the custom mask layer must be passed to the custom_objects argument.\n",
            "  layer_config = serialize_layer_fn(layer)\n",
            "/usr/local/lib/python3.7/dist-packages/keras/saving/saved_model/layer_serialization.py:112: CustomMaskWarning: Custom mask layers require a config and must override get_config. When loading, the custom mask layer must be passed to the custom_objects argument.\n",
            "  return generic_utils.serialize_keras_object(obj)\n"
          ]
        }
      ]
    },
    {
      "cell_type": "code",
      "source": [
        "!cp -r 'saved_models/mlp_mean' \"/content/drive/My Drive/Colab Notebooks/NLP\""
      ],
      "metadata": {
        "id": "BoaIxT6GDD4Q"
      },
      "execution_count": 102,
      "outputs": []
    },
    {
      "cell_type": "markdown",
      "source": [
        "### Sum Merging"
      ],
      "metadata": {
        "id": "nDhuWKJJALxQ"
      }
    },
    {
      "cell_type": "code",
      "execution_count": 66,
      "metadata": {
        "colab": {
          "base_uri": "https://localhost:8080/",
          "height": 1000
        },
        "outputId": "8ce81522-7346-4dd3-cf95-460f0ab2d5f6",
        "id": "mNVe_KzRAaEQ"
      },
      "outputs": [
        {
          "output_type": "stream",
          "name": "stdout",
          "text": [
            "Model: \"mlp_sum\"\n",
            "__________________________________________________________________________________________________\n",
            " Layer (type)                   Output Shape         Param #     Connected to                     \n",
            "==================================================================================================\n",
            " input_14 (InputLayer)          [(None, 65)]         0           []                               \n",
            "                                                                                                  \n",
            " input_13 (InputLayer)          [(None, 209)]        0           []                               \n",
            "                                                                                                  \n",
            " embedding_12 (Embedding)       (None, 65, 100)      2480300     ['input_14[0][0]']               \n",
            "                                                                                                  \n",
            " embedding_13 (Embedding)       (None, 209, 100)     3796900     ['input_13[0][0]']               \n",
            "                                                                                                  \n",
            " tf.reshape_4 (TFOpLambda)      (None, 6500)         0           ['embedding_12[0][0]']           \n",
            "                                                                                                  \n",
            " tf.reshape_5 (TFOpLambda)      (None, 20900)        0           ['embedding_13[0][0]']           \n",
            "                                                                                                  \n",
            " dense_12 (Dense)               (None, 100)          650100      ['tf.reshape_4[0][0]']           \n",
            "                                                                                                  \n",
            " dense_13 (Dense)               (None, 100)          2090100     ['tf.reshape_5[0][0]']           \n",
            "                                                                                                  \n",
            " add_1 (Add)                    (None, 100)          0           ['dense_12[0][0]',               \n",
            "                                                                  'dense_13[0][0]']               \n",
            "                                                                                                  \n",
            " dot_2 (Dot)                    (None, 1)            0           ['dense_12[0][0]',               \n",
            "                                                                  'dense_13[0][0]']               \n",
            "                                                                                                  \n",
            " concatenate_2 (Concatenate)    (None, 101)          0           ['add_1[0][0]',                  \n",
            "                                                                  'dot_2[0][0]']                  \n",
            "                                                                                                  \n",
            " dense_14 (Dense)               (None, 2)            204         ['concatenate_2[0][0]']          \n",
            "                                                                                                  \n",
            "==================================================================================================\n",
            "Total params: 9,017,604\n",
            "Trainable params: 9,017,604\n",
            "Non-trainable params: 0\n",
            "__________________________________________________________________________________________________\n"
          ]
        },
        {
          "output_type": "execute_result",
          "data": {
            "image/png": "[encoded data removed]",
            "text/plain": [
              "<IPython.core.display.Image object>"
            ]
          },
          "metadata": {},
          "execution_count": 66
        }
      ],
      "source": [
        "model_MLP_sum = create_mlp_model(mergings[1])\n",
        "model_MLP_sum.compile(\n",
        "    loss=keras.losses.BinaryCrossentropy(),\n",
        "    optimizer=adamopt,\n",
        "    metrics=metrics\n",
        ")\n",
        "\n",
        "model_MLP_sum.summary()\n",
        "keras.utils.plot_model(model_MLP_sum, \"MLP_sum.png\")"
      ]
    },
    {
      "cell_type": "code",
      "source": [
        "sum_MLP_history = model_MLP_sum.fit([train_claims_X, train_evidences_X], train_labels_y, batch_size=512, shuffle=True, epochs=15, validation_data=([val_claims_X, val_evidences_X], val_labels_y))"
      ],
      "metadata": {
        "colab": {
          "base_uri": "https://localhost:8080/"
        },
        "outputId": "1919f683-873a-461c-8f6e-df993d18ef39",
        "id": "cI-yFO2nAmXC"
      },
      "execution_count": 72,
      "outputs": [
        {
          "output_type": "stream",
          "name": "stdout",
          "text": [
            "Epoch 1/15\n",
            "238/238 [==============================] - 74s 291ms/step - loss: 10.5070 - tp: 91125.0000 - fp: 37780.0000 - tn: 91125.0000 - fn: 37780.0000 - accuracy: 0.7069 - auc: 0.7100 - f1_score: 0.5021 - cohen_kappa: -0.4170 - val_loss: 0.7052 - val_tp: 3611.0000 - val_fp: 3554.0000 - val_tn: 3611.0000 - val_fn: 3554.0000 - val_accuracy: 0.5040 - val_auc: 0.5040 - val_f1_score: 0.3351 - val_cohen_kappa: -0.5949\n",
            "Epoch 2/15\n",
            "238/238 [==============================] - 65s 274ms/step - loss: 0.6226 - tp: 89389.0000 - fp: 32351.0000 - tn: 89389.0000 - fn: 32351.0000 - accuracy: 0.7343 - auc: 0.7350 - f1_score: 0.4234 - cohen_kappa: -0.2994 - val_loss: 0.7321 - val_tp: 3611.0000 - val_fp: 3554.0000 - val_tn: 3611.0000 - val_fn: 3554.0000 - val_accuracy: 0.5040 - val_auc: 0.5040 - val_f1_score: 0.3351 - val_cohen_kappa: -0.5949\n",
            "Epoch 3/15\n",
            "238/238 [==============================] - 65s 275ms/step - loss: 0.5921 - tp: 89389.0000 - fp: 32351.0000 - tn: 89389.0000 - fn: 32351.0000 - accuracy: 0.7343 - auc: 0.7350 - f1_score: 0.4234 - cohen_kappa: -0.2994 - val_loss: 0.7565 - val_tp: 3611.0000 - val_fp: 3554.0000 - val_tn: 3611.0000 - val_fn: 3554.0000 - val_accuracy: 0.5040 - val_auc: 0.5040 - val_f1_score: 0.3351 - val_cohen_kappa: -0.5949\n",
            "Epoch 4/15\n",
            "238/238 [==============================] - 64s 269ms/step - loss: 0.5841 - tp: 89389.0000 - fp: 32351.0000 - tn: 89389.0000 - fn: 32351.0000 - accuracy: 0.7343 - auc: 0.7341 - f1_score: 0.4234 - cohen_kappa: -0.2994 - val_loss: 0.7759 - val_tp: 3611.0000 - val_fp: 3554.0000 - val_tn: 3611.0000 - val_fn: 3554.0000 - val_accuracy: 0.5040 - val_auc: 0.5040 - val_f1_score: 0.3351 - val_cohen_kappa: -0.5949\n",
            "Epoch 5/15\n",
            "238/238 [==============================] - 65s 275ms/step - loss: 0.5809 - tp: 89389.0000 - fp: 32351.0000 - tn: 89389.0000 - fn: 32351.0000 - accuracy: 0.7343 - auc: 0.7347 - f1_score: 0.4234 - cohen_kappa: -0.2994 - val_loss: 0.7900 - val_tp: 3611.0000 - val_fp: 3554.0000 - val_tn: 3611.0000 - val_fn: 3554.0000 - val_accuracy: 0.5040 - val_auc: 0.5040 - val_f1_score: 0.3351 - val_cohen_kappa: -0.5949\n",
            "Epoch 6/15\n",
            "238/238 [==============================] - 64s 271ms/step - loss: 0.5796 - tp: 89389.0000 - fp: 32351.0000 - tn: 89389.0000 - fn: 32351.0000 - accuracy: 0.7343 - auc: 0.7357 - f1_score: 0.4234 - cohen_kappa: -0.2994 - val_loss: 0.7999 - val_tp: 3611.0000 - val_fp: 3554.0000 - val_tn: 3611.0000 - val_fn: 3554.0000 - val_accuracy: 0.5040 - val_auc: 0.5040 - val_f1_score: 0.3351 - val_cohen_kappa: -0.5949\n",
            "Epoch 7/15\n",
            "238/238 [==============================] - 64s 270ms/step - loss: 0.5792 - tp: 89389.0000 - fp: 32351.0000 - tn: 89389.0000 - fn: 32351.0000 - accuracy: 0.7343 - auc: 0.7342 - f1_score: 0.4234 - cohen_kappa: -0.2994 - val_loss: 0.8059 - val_tp: 3611.0000 - val_fp: 3554.0000 - val_tn: 3611.0000 - val_fn: 3554.0000 - val_accuracy: 0.5040 - val_auc: 0.5040 - val_f1_score: 0.3351 - val_cohen_kappa: -0.5949\n",
            "Epoch 8/15\n",
            "238/238 [==============================] - 64s 270ms/step - loss: 0.5790 - tp: 89389.0000 - fp: 32351.0000 - tn: 89389.0000 - fn: 32351.0000 - accuracy: 0.7343 - auc: 0.7336 - f1_score: 0.4234 - cohen_kappa: -0.2994 - val_loss: 0.8094 - val_tp: 3611.0000 - val_fp: 3554.0000 - val_tn: 3611.0000 - val_fn: 3554.0000 - val_accuracy: 0.5040 - val_auc: 0.5040 - val_f1_score: 0.3351 - val_cohen_kappa: -0.5949\n",
            "Epoch 9/15\n",
            "238/238 [==============================] - 68s 285ms/step - loss: 0.5790 - tp: 89389.0000 - fp: 32351.0000 - tn: 89389.0000 - fn: 32351.0000 - accuracy: 0.7343 - auc: 0.7343 - f1_score: 0.4234 - cohen_kappa: -0.2994 - val_loss: 0.8114 - val_tp: 3611.0000 - val_fp: 3554.0000 - val_tn: 3611.0000 - val_fn: 3554.0000 - val_accuracy: 0.5040 - val_auc: 0.5040 - val_f1_score: 0.3351 - val_cohen_kappa: -0.5949\n",
            "Epoch 10/15\n",
            "238/238 [==============================] - 64s 270ms/step - loss: 0.5790 - tp: 89389.0000 - fp: 32351.0000 - tn: 89389.0000 - fn: 32351.0000 - accuracy: 0.7343 - auc: 0.7343 - f1_score: 0.4234 - cohen_kappa: -0.2994 - val_loss: 0.8122 - val_tp: 3611.0000 - val_fp: 3554.0000 - val_tn: 3611.0000 - val_fn: 3554.0000 - val_accuracy: 0.5040 - val_auc: 0.5040 - val_f1_score: 0.3351 - val_cohen_kappa: -0.5949\n",
            "Epoch 11/15\n",
            "238/238 [==============================] - 64s 271ms/step - loss: 0.5790 - tp: 89389.0000 - fp: 32351.0000 - tn: 89389.0000 - fn: 32351.0000 - accuracy: 0.7343 - auc: 0.7343 - f1_score: 0.4234 - cohen_kappa: -0.2994 - val_loss: 0.8131 - val_tp: 3611.0000 - val_fp: 3554.0000 - val_tn: 3611.0000 - val_fn: 3554.0000 - val_accuracy: 0.5040 - val_auc: 0.5040 - val_f1_score: 0.3351 - val_cohen_kappa: -0.5949\n",
            "Epoch 12/15\n",
            "238/238 [==============================] - 66s 276ms/step - loss: 0.5790 - tp: 89389.0000 - fp: 32351.0000 - tn: 89389.0000 - fn: 32351.0000 - accuracy: 0.7343 - auc: 0.7333 - f1_score: 0.4234 - cohen_kappa: -0.2994 - val_loss: 0.8132 - val_tp: 3611.0000 - val_fp: 3554.0000 - val_tn: 3611.0000 - val_fn: 3554.0000 - val_accuracy: 0.5040 - val_auc: 0.5040 - val_f1_score: 0.3351 - val_cohen_kappa: -0.5949\n",
            "Epoch 13/15\n",
            "238/238 [==============================] - 65s 274ms/step - loss: 0.5790 - tp: 89389.0000 - fp: 32351.0000 - tn: 89389.0000 - fn: 32351.0000 - accuracy: 0.7343 - auc: 0.7336 - f1_score: 0.4234 - cohen_kappa: -0.2994 - val_loss: 0.8132 - val_tp: 3611.0000 - val_fp: 3554.0000 - val_tn: 3611.0000 - val_fn: 3554.0000 - val_accuracy: 0.5040 - val_auc: 0.5040 - val_f1_score: 0.3351 - val_cohen_kappa: -0.5949\n",
            "Epoch 14/15\n",
            "238/238 [==============================] - 65s 272ms/step - loss: 0.5790 - tp: 89389.0000 - fp: 32351.0000 - tn: 89389.0000 - fn: 32351.0000 - accuracy: 0.7343 - auc: 0.7327 - f1_score: 0.4234 - cohen_kappa: -0.2994 - val_loss: 0.8129 - val_tp: 3611.0000 - val_fp: 3554.0000 - val_tn: 3611.0000 - val_fn: 3554.0000 - val_accuracy: 0.5040 - val_auc: 0.5040 - val_f1_score: 0.3351 - val_cohen_kappa: -0.5949\n",
            "Epoch 15/15\n",
            "238/238 [==============================] - 65s 274ms/step - loss: 0.5790 - tp: 89389.0000 - fp: 32351.0000 - tn: 89389.0000 - fn: 32351.0000 - accuracy: 0.7343 - auc: 0.7336 - f1_score: 0.4234 - cohen_kappa: -0.2994 - val_loss: 0.8127 - val_tp: 3611.0000 - val_fp: 3554.0000 - val_tn: 3611.0000 - val_fn: 3554.0000 - val_accuracy: 0.5040 - val_auc: 0.5040 - val_f1_score: 0.3351 - val_cohen_kappa: -0.5949\n"
          ]
        }
      ]
    },
    {
      "cell_type": "markdown",
      "source": [
        "Batch 512 - Epochs 15 - 63s 265ms/step \n",
        "- **train** \n",
        "  - loss: 0.3304 \n",
        "  - accuracy: 0.8610\n",
        "  - auc: 0.9311\n",
        "  - f1_score: 0.8095\n",
        "  - cohen_kappa: -0.5749\n",
        "- **val** \n",
        "  - loss: 0.5171\n",
        "  - val_accuracy: 0.7431 \n",
        "  - val_auc: 0.8235 \n",
        "  - val_f1_score: 0.7404 \n",
        "  - val_cohen_kappa: -0.8488"
      ],
      "metadata": {
        "id": "KVg5U6nP6t4j"
      }
    },
    {
      "cell_type": "code",
      "source": [
        "model_MLP_sum.save('saved_models/mlp_sum')"
      ],
      "metadata": {
        "colab": {
          "base_uri": "https://localhost:8080/"
        },
        "id": "jT_TEnQyDbpd",
        "outputId": "deef260b-3399-4bec-c017-00cd3ddf2b46"
      },
      "execution_count": 73,
      "outputs": [
        {
          "output_type": "stream",
          "name": "stderr",
          "text": [
            "WARNING:absl:Found untraced functions such as _cast_ypred, _update_multi_class_model while saving (showing 2 of 2). These functions will not be directly callable after loading.\n"
          ]
        },
        {
          "output_type": "stream",
          "name": "stdout",
          "text": [
            "INFO:tensorflow:Assets written to: saved_models/mlp_sum/assets\n"
          ]
        },
        {
          "output_type": "stream",
          "name": "stderr",
          "text": [
            "INFO:tensorflow:Assets written to: saved_models/mlp_sum/assets\n",
            "/usr/local/lib/python3.7/dist-packages/keras/engine/functional.py:1410: CustomMaskWarning: Custom mask layers require a config and must override get_config. When loading, the custom mask layer must be passed to the custom_objects argument.\n",
            "  layer_config = serialize_layer_fn(layer)\n",
            "/usr/local/lib/python3.7/dist-packages/keras/saving/saved_model/layer_serialization.py:112: CustomMaskWarning: Custom mask layers require a config and must override get_config. When loading, the custom mask layer must be passed to the custom_objects argument.\n",
            "  return generic_utils.serialize_keras_object(obj)\n"
          ]
        }
      ]
    },
    {
      "cell_type": "code",
      "source": [
        "!cp -r 'saved_models/mlp_sum' \"/content/drive/My Drive/Colab Notebooks/NLP\""
      ],
      "metadata": {
        "id": "scJeJnaZDbpf"
      },
      "execution_count": 103,
      "outputs": []
    },
    {
      "cell_type": "markdown",
      "source": [
        "### Concatenation Merging"
      ],
      "metadata": {
        "id": "d90Nmcp2AOkZ"
      }
    },
    {
      "cell_type": "code",
      "execution_count": 75,
      "metadata": {
        "colab": {
          "base_uri": "https://localhost:8080/",
          "height": 1000
        },
        "id": "kmsYHUWBAx7A",
        "outputId": "322108ba-161d-4320-e455-3c51545dea37"
      },
      "outputs": [
        {
          "output_type": "stream",
          "name": "stdout",
          "text": [
            "Model: \"mlp_concat\"\n",
            "__________________________________________________________________________________________________\n",
            " Layer (type)                   Output Shape         Param #     Connected to                     \n",
            "==================================================================================================\n",
            " input_18 (InputLayer)          [(None, 65)]         0           []                               \n",
            "                                                                                                  \n",
            " input_17 (InputLayer)          [(None, 209)]        0           []                               \n",
            "                                                                                                  \n",
            " embedding_16 (Embedding)       (None, 65, 100)      2480300     ['input_18[0][0]']               \n",
            "                                                                                                  \n",
            " embedding_17 (Embedding)       (None, 209, 100)     3796900     ['input_17[0][0]']               \n",
            "                                                                                                  \n",
            " tf.reshape_6 (TFOpLambda)      (None, 6500)         0           ['embedding_16[0][0]']           \n",
            "                                                                                                  \n",
            " tf.reshape_7 (TFOpLambda)      (None, 20900)        0           ['embedding_17[0][0]']           \n",
            "                                                                                                  \n",
            " dense_18 (Dense)               (None, 100)          650100      ['tf.reshape_6[0][0]']           \n",
            "                                                                                                  \n",
            " dense_19 (Dense)               (None, 100)          2090100     ['tf.reshape_7[0][0]']           \n",
            "                                                                                                  \n",
            " concatenate_3 (Concatenate)    (None, 200)          0           ['dense_18[0][0]',               \n",
            "                                                                  'dense_19[0][0]']               \n",
            "                                                                                                  \n",
            " dot_3 (Dot)                    (None, 1)            0           ['dense_18[0][0]',               \n",
            "                                                                  'dense_19[0][0]']               \n",
            "                                                                                                  \n",
            " concatenate_4 (Concatenate)    (None, 201)          0           ['concatenate_3[0][0]',          \n",
            "                                                                  'dot_3[0][0]']                  \n",
            "                                                                                                  \n",
            " dropout_8 (Dropout)            (None, 201)          0           ['concatenate_4[0][0]']          \n",
            "                                                                                                  \n",
            " dense_20 (Dense)               (None, 2)            404         ['dropout_8[0][0]']              \n",
            "                                                                                                  \n",
            "==================================================================================================\n",
            "Total params: 9,017,804\n",
            "Trainable params: 9,017,804\n",
            "Non-trainable params: 0\n",
            "__________________________________________________________________________________________________\n"
          ]
        },
        {
          "output_type": "execute_result",
          "data": {
            "image/png": "[encoded data removed]",
            "text/plain": [
              "<IPython.core.display.Image object>"
            ]
          },
          "metadata": {},
          "execution_count": 75
        }
      ],
      "source": [
        "model_MLP_concat = create_mlp_model(mergings[2])\n",
        "model_MLP_concat.compile(\n",
        "    loss=keras.losses.BinaryCrossentropy(),\n",
        "    optimizer=adamopt,\n",
        "    metrics=metrics\n",
        ")\n",
        "\n",
        "model_MLP_concat.summary()\n",
        "keras.utils.plot_model(model_MLP_concat, \"MLP_concat.png\")"
      ]
    },
    {
      "cell_type": "code",
      "source": [
        "concat_MLP_history = model_MLP_concat.fit([train_claims_X, train_evidences_X], train_labels_y, batch_size=512, shuffle=True, epochs=15, validation_data=([val_claims_X, val_evidences_X], val_labels_y))"
      ],
      "metadata": {
        "colab": {
          "base_uri": "https://localhost:8080/"
        },
        "outputId": "156878c9-08e9-4975-b319-221c0421abe2",
        "id": "vFevZtYcAtBs"
      },
      "execution_count": 78,
      "outputs": [
        {
          "output_type": "stream",
          "name": "stdout",
          "text": [
            "Epoch 1/15\n",
            "238/238 [==============================] - 78s 326ms/step - loss: 0.6058 - tp: 89179.0000 - fp: 32561.0000 - tn: 89179.0000 - fn: 32561.0000 - accuracy: 0.7325 - auc: 0.7486 - f1_score: 0.4257 - cohen_kappa: -0.3035 - val_loss: 0.7289 - val_tp: 3611.0000 - val_fp: 3554.0000 - val_tn: 3611.0000 - val_fn: 3554.0000 - val_accuracy: 0.5040 - val_auc: 0.5838 - val_f1_score: 0.3351 - val_cohen_kappa: -0.5949\n",
            "Epoch 2/15\n",
            "238/238 [==============================] - 71s 297ms/step - loss: 0.5534 - tp: 89389.0000 - fp: 32351.0000 - tn: 89389.0000 - fn: 32351.0000 - accuracy: 0.7343 - auc: 0.7914 - f1_score: 0.4234 - cohen_kappa: -0.2994 - val_loss: 0.7469 - val_tp: 3611.0000 - val_fp: 3554.0000 - val_tn: 3611.0000 - val_fn: 3554.0000 - val_accuracy: 0.5040 - val_auc: 0.6161 - val_f1_score: 0.3351 - val_cohen_kappa: -0.5949\n",
            "Epoch 3/15\n",
            "238/238 [==============================] - 75s 317ms/step - loss: 0.5170 - tp: 89389.0000 - fp: 32351.0000 - tn: 89389.0000 - fn: 32351.0000 - accuracy: 0.7343 - auc: 0.8227 - f1_score: 0.4234 - cohen_kappa: -0.2994 - val_loss: 0.6845 - val_tp: 3611.0000 - val_fp: 3554.0000 - val_tn: 3611.0000 - val_fn: 3554.0000 - val_accuracy: 0.5040 - val_auc: 0.6367 - val_f1_score: 0.3351 - val_cohen_kappa: -0.5949\n",
            "Epoch 4/15\n",
            "238/238 [==============================] - 75s 317ms/step - loss: 0.4879 - tp: 89389.0000 - fp: 32351.0000 - tn: 89389.0000 - fn: 32351.0000 - accuracy: 0.7343 - auc: 0.8413 - f1_score: 0.4234 - cohen_kappa: -0.2994 - val_loss: 0.8352 - val_tp: 3611.0000 - val_fp: 3554.0000 - val_tn: 3611.0000 - val_fn: 3554.0000 - val_accuracy: 0.5040 - val_auc: 0.6472 - val_f1_score: 0.3351 - val_cohen_kappa: -0.5949\n",
            "Epoch 5/15\n",
            "238/238 [==============================] - 72s 304ms/step - loss: 0.4998 - tp: 89389.0000 - fp: 32351.0000 - tn: 89389.0000 - fn: 32351.0000 - accuracy: 0.7343 - auc: 0.8303 - f1_score: 0.4234 - cohen_kappa: -0.2994 - val_loss: 0.7053 - val_tp: 3611.0000 - val_fp: 3554.0000 - val_tn: 3611.0000 - val_fn: 3554.0000 - val_accuracy: 0.5040 - val_auc: 0.6538 - val_f1_score: 0.3351 - val_cohen_kappa: -0.5949\n",
            "Epoch 6/15\n",
            "238/238 [==============================] - 71s 300ms/step - loss: 0.4900 - tp: 89389.0000 - fp: 32351.0000 - tn: 89389.0000 - fn: 32351.0000 - accuracy: 0.7343 - auc: 0.8293 - f1_score: 0.4234 - cohen_kappa: -0.2994 - val_loss: 0.6411 - val_tp: 3611.0000 - val_fp: 3554.0000 - val_tn: 3611.0000 - val_fn: 3554.0000 - val_accuracy: 0.5040 - val_auc: 0.6490 - val_f1_score: 0.3351 - val_cohen_kappa: -0.5949\n",
            "Epoch 7/15\n",
            "238/238 [==============================] - 71s 299ms/step - loss: 0.4799 - tp: 89389.0000 - fp: 32351.0000 - tn: 89389.0000 - fn: 32351.0000 - accuracy: 0.7343 - auc: 0.8336 - f1_score: 0.4234 - cohen_kappa: -0.2994 - val_loss: 0.6462 - val_tp: 3611.0000 - val_fp: 3554.0000 - val_tn: 3611.0000 - val_fn: 3554.0000 - val_accuracy: 0.5040 - val_auc: 0.6513 - val_f1_score: 0.3351 - val_cohen_kappa: -0.5949\n",
            "Epoch 8/15\n",
            "238/238 [==============================] - 71s 298ms/step - loss: 0.4734 - tp: 89389.0000 - fp: 32351.0000 - tn: 89389.0000 - fn: 32351.0000 - accuracy: 0.7343 - auc: 0.8360 - f1_score: 0.4234 - cohen_kappa: -0.2994 - val_loss: 0.6706 - val_tp: 3611.0000 - val_fp: 3554.0000 - val_tn: 3611.0000 - val_fn: 3554.0000 - val_accuracy: 0.5040 - val_auc: 0.6565 - val_f1_score: 0.3351 - val_cohen_kappa: -0.5949\n",
            "Epoch 9/15\n",
            "238/238 [==============================] - 70s 294ms/step - loss: 0.4669 - tp: 89389.0000 - fp: 32351.0000 - tn: 89389.0000 - fn: 32351.0000 - accuracy: 0.7343 - auc: 0.8383 - f1_score: 0.4234 - cohen_kappa: -0.2994 - val_loss: 0.7113 - val_tp: 3611.0000 - val_fp: 3554.0000 - val_tn: 3611.0000 - val_fn: 3554.0000 - val_accuracy: 0.5040 - val_auc: 0.6585 - val_f1_score: 0.3351 - val_cohen_kappa: -0.5949\n",
            "Epoch 10/15\n",
            "238/238 [==============================] - 72s 303ms/step - loss: 0.4591 - tp: 89389.0000 - fp: 32351.0000 - tn: 89389.0000 - fn: 32351.0000 - accuracy: 0.7343 - auc: 0.8411 - f1_score: 0.4234 - cohen_kappa: -0.2994 - val_loss: 0.6357 - val_tp: 3611.0000 - val_fp: 3554.0000 - val_tn: 3611.0000 - val_fn: 3554.0000 - val_accuracy: 0.5040 - val_auc: 0.6342 - val_f1_score: 0.3351 - val_cohen_kappa: -0.5949\n",
            "Epoch 11/15\n",
            "238/238 [==============================] - 68s 286ms/step - loss: 0.4521 - tp: 89389.0000 - fp: 32351.0000 - tn: 89389.0000 - fn: 32351.0000 - accuracy: 0.7343 - auc: 0.8435 - f1_score: 0.4234 - cohen_kappa: -0.2994 - val_loss: 0.6672 - val_tp: 3611.0000 - val_fp: 3554.0000 - val_tn: 3611.0000 - val_fn: 3554.0000 - val_accuracy: 0.5040 - val_auc: 0.6550 - val_f1_score: 0.3351 - val_cohen_kappa: -0.5949\n",
            "Epoch 12/15\n",
            "238/238 [==============================] - 67s 284ms/step - loss: 0.4465 - tp: 89389.0000 - fp: 32351.0000 - tn: 89389.0000 - fn: 32351.0000 - accuracy: 0.7343 - auc: 0.8449 - f1_score: 0.4234 - cohen_kappa: -0.2994 - val_loss: 0.7059 - val_tp: 3611.0000 - val_fp: 3554.0000 - val_tn: 3611.0000 - val_fn: 3554.0000 - val_accuracy: 0.5040 - val_auc: 0.6572 - val_f1_score: 0.3351 - val_cohen_kappa: -0.5949\n",
            "Epoch 13/15\n",
            "238/238 [==============================] - 67s 281ms/step - loss: 0.4451 - tp: 89389.0000 - fp: 32351.0000 - tn: 89389.0000 - fn: 32351.0000 - accuracy: 0.7343 - auc: 0.8450 - f1_score: 0.4234 - cohen_kappa: -0.2994 - val_loss: 0.6584 - val_tp: 3611.0000 - val_fp: 3554.0000 - val_tn: 3611.0000 - val_fn: 3554.0000 - val_accuracy: 0.5040 - val_auc: 0.6516 - val_f1_score: 0.3351 - val_cohen_kappa: -0.5949\n",
            "Epoch 14/15\n",
            "238/238 [==============================] - 67s 281ms/step - loss: 0.4406 - tp: 89389.0000 - fp: 32351.0000 - tn: 89389.0000 - fn: 32351.0000 - accuracy: 0.7343 - auc: 0.8458 - f1_score: 0.4234 - cohen_kappa: -0.2994 - val_loss: 0.6856 - val_tp: 3611.0000 - val_fp: 3554.0000 - val_tn: 3611.0000 - val_fn: 3554.0000 - val_accuracy: 0.5040 - val_auc: 0.6543 - val_f1_score: 0.3351 - val_cohen_kappa: -0.5949\n",
            "Epoch 15/15\n",
            "238/238 [==============================] - 68s 285ms/step - loss: 0.4351 - tp: 89389.0000 - fp: 32351.0000 - tn: 89389.0000 - fn: 32351.0000 - accuracy: 0.7343 - auc: 0.8473 - f1_score: 0.4234 - cohen_kappa: -0.2994 - val_loss: 0.8067 - val_tp: 3611.0000 - val_fp: 3554.0000 - val_tn: 3611.0000 - val_fn: 3554.0000 - val_accuracy: 0.5040 - val_auc: 0.6551 - val_f1_score: 0.3351 - val_cohen_kappa: -0.5949\n"
          ]
        }
      ]
    },
    {
      "cell_type": "markdown",
      "source": [
        "Batch 512 - Epoch 10 - 63s 282ms/step \n",
        "- **train** \n",
        "  - loss: 0.3624\n",
        "  - accuracy: 0.8450\n",
        "  - auc: 0.9193\n",
        "  - f1_score: 0.7701\n",
        "  - cohen_kappa: -0.5108\n",
        "- **val** \n",
        "  - loss: 0.5475\n",
        "  - val_accuracy: 0.7179\n",
        "  - val_auc: 0.8073 \n",
        "  - val_f1_score: 0.7062 \n",
        "  - val_cohen_kappa: -0.9232"
      ],
      "metadata": {
        "id": "qXksqeD2_ix2"
      }
    },
    {
      "cell_type": "code",
      "source": [
        "model_MLP_concat.save('saved_models/mlp_cat')"
      ],
      "metadata": {
        "colab": {
          "base_uri": "https://localhost:8080/"
        },
        "id": "4e-A7vVWDjbo",
        "outputId": "f96a379b-7bf4-4dbc-f0fb-7b7fbb6ea162"
      },
      "execution_count": 79,
      "outputs": [
        {
          "output_type": "stream",
          "name": "stderr",
          "text": [
            "WARNING:absl:Found untraced functions such as _cast_ypred, _update_multi_class_model while saving (showing 2 of 2). These functions will not be directly callable after loading.\n"
          ]
        },
        {
          "output_type": "stream",
          "name": "stdout",
          "text": [
            "INFO:tensorflow:Assets written to: saved_models/mlp_cat/assets\n"
          ]
        },
        {
          "output_type": "stream",
          "name": "stderr",
          "text": [
            "INFO:tensorflow:Assets written to: saved_models/mlp_cat/assets\n"
          ]
        }
      ]
    },
    {
      "cell_type": "code",
      "source": [
        "!cp -r 'saved_models/mlp_cat' \"/content/drive/My Drive/Colab Notebooks/NLP\""
      ],
      "metadata": {
        "id": "v9AOA2tCDjbq"
      },
      "execution_count": 80,
      "outputs": []
    },
    {
      "cell_type": "markdown",
      "metadata": {
        "id": "HZhOfAgDTXAT"
      },
      "source": [
        "##4th model training"
      ]
    },
    {
      "cell_type": "code",
      "execution_count": 81,
      "metadata": {
        "id": "YXFEvJxDTcS5",
        "colab": {
          "base_uri": "https://localhost:8080/"
        },
        "outputId": "15d04fac-80f6-4260-c4ce-c8d26908c9f1"
      },
      "outputs": [
        {
          "output_type": "stream",
          "name": "stdout",
          "text": [
            "Epoch 1/15\n",
            "952/952 [==============================] - 92s 93ms/step - loss: 0.5543 - tp: 91197.0000 - fp: 30543.0000 - tn: 91197.0000 - fn: 30543.0000 - accuracy: 0.7491 - auc: 0.7812 - f1_score: 0.4937 - cohen_kappa: -0.3294 - val_loss: 0.7618 - val_tp: 4126.0000 - val_fp: 3039.0000 - val_tn: 4126.0000 - val_fn: 3039.0000 - val_accuracy: 0.5759 - val_auc: 0.6188 - val_f1_score: 0.4833 - val_cohen_kappa: -0.6963\n",
            "Epoch 2/15\n",
            "952/952 [==============================] - 92s 96ms/step - loss: 0.4657 - tp: 97906.0000 - fp: 23834.0000 - tn: 97906.0000 - fn: 23834.0000 - accuracy: 0.8042 - auc: 0.8586 - f1_score: 0.6736 - cohen_kappa: -0.4284 - val_loss: 0.6485 - val_tp: 4693.0000 - val_fp: 2472.0000 - val_tn: 4693.0000 - val_fn: 2472.0000 - val_accuracy: 0.6550 - val_auc: 0.7211 - val_f1_score: 0.6165 - val_cohen_kappa: -0.8174\n",
            "Epoch 3/15\n",
            "952/952 [==============================] - 80s 84ms/step - loss: 0.4100 - tp: 101264.0000 - fp: 20476.0000 - tn: 101264.0000 - fn: 20476.0000 - accuracy: 0.8318 - auc: 0.8933 - f1_score: 0.7403 - cohen_kappa: -0.4789 - val_loss: 0.6498 - val_tp: 4876.0000 - val_fp: 2289.0000 - val_tn: 4876.0000 - val_fn: 2289.0000 - val_accuracy: 0.6805 - val_auc: 0.7512 - val_f1_score: 0.6514 - val_cohen_kappa: -0.8457\n",
            "Epoch 4/15\n",
            "952/952 [==============================] - 78s 82ms/step - loss: 0.3806 - tp: 102769.0000 - fp: 18971.0000 - tn: 102769.0000 - fn: 18971.0000 - accuracy: 0.8442 - auc: 0.9095 - f1_score: 0.7682 - cohen_kappa: -0.5063 - val_loss: 0.6726 - val_tp: 4937.0000 - val_fp: 2228.0000 - val_tn: 4937.0000 - val_fn: 2228.0000 - val_accuracy: 0.6890 - val_auc: 0.7574 - val_f1_score: 0.6631 - val_cohen_kappa: -0.8569\n",
            "Epoch 5/15\n",
            "952/952 [==============================] - 79s 83ms/step - loss: 0.3617 - tp: 103802.0000 - fp: 17938.0000 - tn: 103802.0000 - fn: 17938.0000 - accuracy: 0.8527 - auc: 0.9186 - f1_score: 0.7854 - cohen_kappa: -0.5228 - val_loss: 0.6366 - val_tp: 5012.0000 - val_fp: 2153.0000 - val_tn: 5012.0000 - val_fn: 2153.0000 - val_accuracy: 0.6995 - val_auc: 0.7755 - val_f1_score: 0.6798 - val_cohen_kappa: -0.8842\n",
            "Epoch 6/15\n",
            "952/952 [==============================] - 79s 83ms/step - loss: 0.3448 - tp: 104737.0000 - fp: 17003.0000 - tn: 104737.0000 - fn: 17003.0000 - accuracy: 0.8603 - auc: 0.9264 - f1_score: 0.7994 - cohen_kappa: -0.5342 - val_loss: 0.6684 - val_tp: 5017.0000 - val_fp: 2148.0000 - val_tn: 5017.0000 - val_fn: 2148.0000 - val_accuracy: 0.7002 - val_auc: 0.7732 - val_f1_score: 0.6805 - val_cohen_kappa: -0.8836\n",
            "Epoch 7/15\n",
            "952/952 [==============================] - 77s 81ms/step - loss: 0.3319 - tp: 105311.0000 - fp: 16429.0000 - tn: 105311.0000 - fn: 16429.0000 - accuracy: 0.8650 - auc: 0.9318 - f1_score: 0.8080 - cohen_kappa: -0.5419 - val_loss: 0.6017 - val_tp: 5111.0000 - val_fp: 2054.0000 - val_tn: 5111.0000 - val_fn: 2054.0000 - val_accuracy: 0.7133 - val_auc: 0.7933 - val_f1_score: 0.7025 - val_cohen_kappa: -0.9300\n",
            "Epoch 8/15\n",
            "952/952 [==============================] - 78s 82ms/step - loss: 0.3191 - tp: 106064.0000 - fp: 15676.0000 - tn: 106064.0000 - fn: 15676.0000 - accuracy: 0.8712 - auc: 0.9367 - f1_score: 0.8186 - cohen_kappa: -0.5504 - val_loss: 0.6609 - val_tp: 5057.0000 - val_fp: 2108.0000 - val_tn: 5057.0000 - val_fn: 2108.0000 - val_accuracy: 0.7058 - val_auc: 0.7795 - val_f1_score: 0.6900 - val_cohen_kappa: -0.9028\n",
            "Epoch 9/15\n",
            "952/952 [==============================] - 77s 81ms/step - loss: 0.3094 - tp: 106574.0000 - fp: 15166.0000 - tn: 106574.0000 - fn: 15166.0000 - accuracy: 0.8754 - auc: 0.9402 - f1_score: 0.8257 - cohen_kappa: -0.5561 - val_loss: 0.6315 - val_tp: 5143.0000 - val_fp: 2022.0000 - val_tn: 5143.0000 - val_fn: 2022.0000 - val_accuracy: 0.7178 - val_auc: 0.7884 - val_f1_score: 0.7078 - val_cohen_kappa: -0.9339\n",
            "Epoch 10/15\n",
            "952/952 [==============================] - 79s 83ms/step - loss: 0.3008 - tp: 106945.0000 - fp: 14795.0000 - tn: 106945.0000 - fn: 14795.0000 - accuracy: 0.8785 - auc: 0.9433 - f1_score: 0.8308 - cohen_kappa: -0.5603 - val_loss: 0.6491 - val_tp: 5139.0000 - val_fp: 2026.0000 - val_tn: 5139.0000 - val_fn: 2026.0000 - val_accuracy: 0.7172 - val_auc: 0.7857 - val_f1_score: 0.7070 - val_cohen_kappa: -0.9325\n",
            "Epoch 11/15\n",
            "952/952 [==============================] - 78s 82ms/step - loss: 0.2927 - tp: 107355.0000 - fp: 14385.0000 - tn: 107355.0000 - fn: 14385.0000 - accuracy: 0.8818 - auc: 0.9460 - f1_score: 0.8363 - cohen_kappa: -0.5647 - val_loss: 0.6716 - val_tp: 5108.0000 - val_fp: 2057.0000 - val_tn: 5108.0000 - val_fn: 2057.0000 - val_accuracy: 0.7129 - val_auc: 0.7803 - val_f1_score: 0.7022 - val_cohen_kappa: -0.9306\n",
            "Epoch 12/15\n",
            "952/952 [==============================] - 79s 83ms/step - loss: 0.2866 - tp: 107737.0000 - fp: 14003.0000 - tn: 107737.0000 - fn: 14003.0000 - accuracy: 0.8850 - auc: 0.9478 - f1_score: 0.8411 - cohen_kappa: -0.5670 - val_loss: 0.6910 - val_tp: 5112.0000 - val_fp: 2053.0000 - val_tn: 5112.0000 - val_fn: 2053.0000 - val_accuracy: 0.7135 - val_auc: 0.7776 - val_f1_score: 0.7025 - val_cohen_kappa: -0.9287\n",
            "Epoch 13/15\n",
            "952/952 [==============================] - 79s 83ms/step - loss: 0.2810 - tp: 107990.0000 - fp: 13750.0000 - tn: 107990.0000 - fn: 13750.0000 - accuracy: 0.8871 - auc: 0.9496 - f1_score: 0.8443 - cohen_kappa: -0.5690 - val_loss: 0.7203 - val_tp: 5112.0000 - val_fp: 2053.0000 - val_tn: 5112.0000 - val_fn: 2053.0000 - val_accuracy: 0.7135 - val_auc: 0.7726 - val_f1_score: 0.7010 - val_cohen_kappa: -0.9201\n",
            "Epoch 14/15\n",
            "952/952 [==============================] - 78s 82ms/step - loss: 0.2770 - tp: 108257.0000 - fp: 13483.0000 - tn: 108257.0000 - fn: 13483.0000 - accuracy: 0.8892 - auc: 0.9511 - f1_score: 0.8476 - cohen_kappa: -0.5709 - val_loss: 0.7150 - val_tp: 5127.0000 - val_fp: 2038.0000 - val_tn: 5127.0000 - val_fn: 2038.0000 - val_accuracy: 0.7156 - val_auc: 0.7749 - val_f1_score: 0.7053 - val_cohen_kappa: -0.9325\n",
            "Epoch 15/15\n",
            "952/952 [==============================] - 78s 81ms/step - loss: 0.2725 - tp: 108449.0000 - fp: 13291.0000 - tn: 108449.0000 - fn: 13291.0000 - accuracy: 0.8908 - auc: 0.9524 - f1_score: 0.8501 - cohen_kappa: -0.5726 - val_loss: 0.7678 - val_tp: 5079.0000 - val_fp: 2086.0000 - val_tn: 5079.0000 - val_fn: 2086.0000 - val_accuracy: 0.7089 - val_auc: 0.7635 - val_f1_score: 0.6955 - val_cohen_kappa: -0.9161\n"
          ]
        }
      ],
      "source": [
        "model_bag_of_words.compile(\n",
        "    loss=keras.losses.BinaryCrossentropy(),\n",
        "    optimizer=keras.optimizers.Adam(),\n",
        "    metrics=metrics\n",
        ")\n",
        "bag_of_words_history = model_bag_of_words.fit([train_claims_X, train_evidences_X], train_labels_y, batch_size=128, shuffle=True, epochs=15, validation_data=([val_claims_X, val_evidences_X], val_labels_y))"
      ]
    },
    {
      "cell_type": "code",
      "source": [
        "model_bag_of_words.save('saved_models/bow')"
      ],
      "metadata": {
        "colab": {
          "base_uri": "https://localhost:8080/"
        },
        "id": "fbyg-461DuKu",
        "outputId": "9e1a288b-95ca-415d-84f6-08d5f9852893"
      },
      "execution_count": 82,
      "outputs": [
        {
          "output_type": "stream",
          "name": "stderr",
          "text": [
            "WARNING:absl:Found untraced functions such as _cast_ypred, _update_multi_class_model while saving (showing 2 of 2). These functions will not be directly callable after loading.\n"
          ]
        },
        {
          "output_type": "stream",
          "name": "stdout",
          "text": [
            "INFO:tensorflow:Assets written to: saved_models/bow/assets\n"
          ]
        },
        {
          "output_type": "stream",
          "name": "stderr",
          "text": [
            "INFO:tensorflow:Assets written to: saved_models/bow/assets\n",
            "/usr/local/lib/python3.7/dist-packages/keras/engine/functional.py:1410: CustomMaskWarning: Custom mask layers require a config and must override get_config. When loading, the custom mask layer must be passed to the custom_objects argument.\n",
            "  layer_config = serialize_layer_fn(layer)\n",
            "/usr/local/lib/python3.7/dist-packages/keras/saving/saved_model/layer_serialization.py:112: CustomMaskWarning: Custom mask layers require a config and must override get_config. When loading, the custom mask layer must be passed to the custom_objects argument.\n",
            "  return generic_utils.serialize_keras_object(obj)\n"
          ]
        }
      ]
    },
    {
      "cell_type": "code",
      "source": [
        "!cp -r 'saved_models/bow' \"/content/drive/My Drive/Colab Notebooks/NLP\""
      ],
      "metadata": {
        "id": "nBYbo2iHDuKu"
      },
      "execution_count": null,
      "outputs": []
    },
    {
      "cell_type": "markdown",
      "metadata": {
        "id": "visESLwlk8Om"
      },
      "source": [
        "#Model Evaluation"
      ]
    },
    {
      "cell_type": "code",
      "execution_count": 84,
      "metadata": {
        "id": "VwnjeyyB9Vfi"
      },
      "outputs": [],
      "source": [
        "target_names = ['SUPPORT', 'REFUTES'] "
      ]
    },
    {
      "cell_type": "markdown",
      "metadata": {
        "id": "RWfVYyGwlQc8"
      },
      "source": [
        "##RNN last state\n"
      ]
    },
    {
      "cell_type": "code",
      "execution_count": 121,
      "metadata": {
        "id": "t5O5ZLwYlNPS",
        "colab": {
          "base_uri": "https://localhost:8080/"
        },
        "outputId": "91e5975c-da9d-476e-a169-5199906f3d4b"
      },
      "outputs": [
        {
          "output_type": "stream",
          "name": "stdout",
          "text": [
            "225/225 [==============================] - 9s 40ms/step - loss: 0.6648 - tp: 5142.0000 - fp: 2047.0000 - tn: 5142.0000 - fn: 2047.0000 - accuracy: 0.7153 - auc: 0.7731 - f1_score: 0.7076 - cohen_kappa: -0.9487\n"
          ]
        }
      ],
      "source": [
        "ev = model_RNN_mean.evaluate((test_claims_X, test_evidences_X), test_labels_y, verbose=1)"
      ]
    },
    {
      "cell_type": "code",
      "source": [
        "pred_last = np.around(model_RNN_mean.predict((test_claims_X, test_evidences_X)))\n",
        "print(classification_report(test_labels_y, pred_last, target_names=target_names))"
      ],
      "metadata": {
        "colab": {
          "base_uri": "https://localhost:8080/"
        },
        "outputId": "53d79250-2b68-425c-e1c0-8764c8cf1a7f",
        "id": "3bNEh9fQi8IU"
      },
      "execution_count": 120,
      "outputs": [
        {
          "output_type": "stream",
          "name": "stdout",
          "text": [
            "              precision    recall  f1-score   support\n",
            "\n",
            "     SUPPORT       0.66      0.87      0.75      3606\n",
            "     REFUTES       0.81      0.55      0.66      3583\n",
            "\n",
            "   micro avg       0.72      0.72      0.72      7189\n",
            "   macro avg       0.74      0.71      0.71      7189\n",
            "weighted avg       0.74      0.72      0.71      7189\n",
            " samples avg       0.72      0.72      0.72      7189\n",
            "\n"
          ]
        }
      ]
    },
    {
      "cell_type": "markdown",
      "metadata": {
        "id": "_95YJ-95la7D"
      },
      "source": [
        "##RNN mean state"
      ]
    },
    {
      "cell_type": "code",
      "execution_count": 104,
      "metadata": {
        "id": "5V6r4LvOlPLF",
        "colab": {
          "base_uri": "https://localhost:8080/"
        },
        "outputId": "78cfa7c4-c49f-41c8-8fe3-10a5197419da"
      },
      "outputs": [
        {
          "output_type": "stream",
          "name": "stdout",
          "text": [
            "225/225 [==============================] - 8s 34ms/step - loss: 0.6648 - tp: 5142.0000 - fp: 2047.0000 - tn: 5142.0000 - fn: 2047.0000 - accuracy: 0.7153 - auc: 0.7731 - f1_score: 0.7076 - cohen_kappa: -0.9487\n"
          ]
        }
      ],
      "source": [
        "ev = model_RNN_mean.evaluate((test_claims_X, test_evidences_X), test_labels_y, verbose=1)"
      ]
    },
    {
      "cell_type": "code",
      "source": [
        "pred_mean = np.around(model_RNN_mean.predict((test_claims_X, test_evidences_X)))\n",
        "print(classification_report(test_labels_y, pred_mean, target_names=target_names))"
      ],
      "metadata": {
        "colab": {
          "base_uri": "https://localhost:8080/"
        },
        "id": "62aQEUp0iXhK",
        "outputId": "1cba8b57-3a1a-4cae-a820-2eadc6020b3d"
      },
      "execution_count": 119,
      "outputs": [
        {
          "output_type": "stream",
          "name": "stdout",
          "text": [
            "              precision    recall  f1-score   support\n",
            "\n",
            "     SUPPORT       0.66      0.87      0.75      3606\n",
            "     REFUTES       0.81      0.55      0.66      3583\n",
            "\n",
            "   micro avg       0.72      0.72      0.72      7189\n",
            "   macro avg       0.74      0.71      0.71      7189\n",
            "weighted avg       0.74      0.72      0.71      7189\n",
            " samples avg       0.72      0.72      0.72      7189\n",
            "\n"
          ]
        }
      ]
    },
    {
      "cell_type": "markdown",
      "metadata": {
        "id": "XOysgawBleEv"
      },
      "source": [
        "##MLP"
      ]
    },
    {
      "cell_type": "code",
      "source": [
        "def claim_verification(pred, test_claims_X, test_labels_y):\n",
        "  true_label = []\n",
        "  final_label = []\n",
        "  supports_count = 0\n",
        "  refutes_count = 0\n",
        "  for i in range(len(test_claims_X)-1) :   \n",
        "    # If they are equal increase vote count \n",
        "    if (list(test_claims_X[i]) == list(test_claims_X[i+1])) :\n",
        "      if (pred[i][0] == 1) :\n",
        "         supports_count += 1\n",
        "      else:\n",
        "         refutes_count += 1\n",
        "    # If they are not equal then count the element, append the results and \n",
        "    # reset counts  \n",
        "    else :\n",
        "      if (pred[i][0] == 1) :\n",
        "        supports_count += 1\n",
        "      else:\n",
        "        refutes_count += 1\n",
        "\n",
        "      if (supports_count > refutes_count):\n",
        "        final_label.append([1,0])\n",
        "      else:\n",
        "        final_label.append([0,1])\n",
        "      \n",
        "      true_label.append(test_labels_y[i])\n",
        "      supports_count = 0\n",
        "      refutes_count = 0\n",
        "\n",
        "    # Taking in considerarion also the last element\n",
        "    if (i == len(test_claims_X)-1):\n",
        "      if (pred[i][0] == 1) :\n",
        "         supports_count += 1\n",
        "      else:\n",
        "         refutes_count += 1\n",
        "      if (supports_count > refutes_count):\n",
        "        final_label.append([1,0])\n",
        "      else:\n",
        "        final_label.append([0,1])\n",
        "        true_label.append(test_labels_y[i])\n",
        "  \n",
        "  return true_label, final_label "
      ],
      "metadata": {
        "id": "oJj_ZA9gyzW6"
      },
      "execution_count": 105,
      "outputs": []
    },
    {
      "cell_type": "markdown",
      "source": [
        "### Mean"
      ],
      "metadata": {
        "id": "cPvfkxRaAXsC"
      }
    },
    {
      "cell_type": "code",
      "execution_count": 106,
      "metadata": {
        "id": "5nNmHZLxlP2g"
      },
      "outputs": [],
      "source": [
        "ev_MLP_mean = model_MLP_mean.predict((test_claims_X, test_evidences_X))  \n",
        "pred_mean = np.around(ev_MLP_mean)"
      ]
    },
    {
      "cell_type": "markdown",
      "metadata": {
        "id": "cww06bOtFyS9"
      },
      "source": [
        "Multi-input classification evaluation"
      ]
    },
    {
      "cell_type": "code",
      "execution_count": 107,
      "metadata": {
        "id": "RC9EMUKz9AYG",
        "colab": {
          "base_uri": "https://localhost:8080/"
        },
        "outputId": "732dabb0-dc81-4621-cbcd-d05cc40e17fd"
      },
      "outputs": [
        {
          "output_type": "stream",
          "name": "stdout",
          "text": [
            "              precision    recall  f1-score   support\n",
            "\n",
            "     SUPPORT       0.68      0.86      0.76      3606\n",
            "     REFUTES       0.81      0.60      0.69      3583\n",
            "\n",
            "   micro avg       0.73      0.73      0.73      7189\n",
            "   macro avg       0.74      0.73      0.72      7189\n",
            "weighted avg       0.74      0.73      0.72      7189\n",
            " samples avg       0.73      0.73      0.73      7189\n",
            "\n"
          ]
        }
      ],
      "source": [
        "print(classification_report(test_labels_y, pred_mean, target_names=target_names))"
      ]
    },
    {
      "cell_type": "markdown",
      "metadata": {
        "id": "cySPf7GsFte7"
      },
      "source": [
        "Claim verification evaluation"
      ]
    },
    {
      "cell_type": "code",
      "execution_count": 108,
      "metadata": {
        "id": "gRMgE99nF1lB",
        "colab": {
          "base_uri": "https://localhost:8080/"
        },
        "outputId": "4652f7f6-17a5-4f74-a401-fd821c87a7fe"
      },
      "outputs": [
        {
          "output_type": "stream",
          "name": "stdout",
          "text": [
            "              precision    recall  f1-score   support\n",
            "\n",
            "     SUPPORT       0.68      0.85      0.76      3307\n",
            "     REFUTES       0.81      0.60      0.69      3301\n",
            "\n",
            "   micro avg       0.73      0.73      0.73      6608\n",
            "   macro avg       0.74      0.73      0.72      6608\n",
            "weighted avg       0.74      0.73      0.72      6608\n",
            " samples avg       0.73      0.73      0.73      6608\n",
            "\n"
          ]
        }
      ],
      "source": [
        "true_labels, final_labels = claim_verification(pred_mean, test_claims_X, test_labels_y)\n",
        "print(classification_report(true_labels, final_labels, target_names=target_names))"
      ]
    },
    {
      "cell_type": "markdown",
      "source": [
        "### Sum"
      ],
      "metadata": {
        "id": "lLcROXm7AhHn"
      }
    },
    {
      "cell_type": "code",
      "execution_count": 109,
      "metadata": {
        "id": "60HObtrvAkMM"
      },
      "outputs": [],
      "source": [
        "ev_MLP_sum = model_MLP_sum.predict((test_claims_X, test_evidences_X))  \n",
        "pred_sum = np.around(ev_MLP_sum)"
      ]
    },
    {
      "cell_type": "markdown",
      "metadata": {
        "id": "kECy1ms2AkMN"
      },
      "source": [
        "Multi-input classification evaluation"
      ]
    },
    {
      "cell_type": "code",
      "execution_count": 110,
      "metadata": {
        "colab": {
          "base_uri": "https://localhost:8080/"
        },
        "outputId": "8662e724-ec7d-4d23-cfce-ae42d8ed87b8",
        "id": "dc1FgUQmAkMO"
      },
      "outputs": [
        {
          "output_type": "stream",
          "name": "stdout",
          "text": [
            "              precision    recall  f1-score   support\n",
            "\n",
            "     SUPPORT       0.50      1.00      0.67      3606\n",
            "     REFUTES       0.00      0.00      0.00      3583\n",
            "\n",
            "   micro avg       0.50      0.50      0.50      7189\n",
            "   macro avg       0.25      0.50      0.33      7189\n",
            "weighted avg       0.25      0.50      0.34      7189\n",
            " samples avg       0.50      0.50      0.50      7189\n",
            "\n"
          ]
        },
        {
          "output_type": "stream",
          "name": "stderr",
          "text": [
            "/usr/local/lib/python3.7/dist-packages/sklearn/metrics/_classification.py:1308: UndefinedMetricWarning: Precision and F-score are ill-defined and being set to 0.0 in labels with no predicted samples. Use `zero_division` parameter to control this behavior.\n",
            "  _warn_prf(average, modifier, msg_start, len(result))\n"
          ]
        }
      ],
      "source": [
        "print(classification_report(test_labels_y, pred_sum, target_names=target_names))"
      ]
    },
    {
      "cell_type": "markdown",
      "metadata": {
        "id": "KL54JxgyAqdu"
      },
      "source": [
        "Claim verification evaluation"
      ]
    },
    {
      "cell_type": "code",
      "execution_count": 111,
      "metadata": {
        "id": "AnNtHxoKAqdv",
        "colab": {
          "base_uri": "https://localhost:8080/"
        },
        "outputId": "922ec3bb-8ffd-4b12-f0ed-61ae4892f5b7"
      },
      "outputs": [
        {
          "output_type": "stream",
          "name": "stdout",
          "text": [
            "              precision    recall  f1-score   support\n",
            "\n",
            "     SUPPORT       0.50      1.00      0.67      3307\n",
            "     REFUTES       0.00      0.00      0.00      3301\n",
            "\n",
            "   micro avg       0.50      0.50      0.50      6608\n",
            "   macro avg       0.25      0.50      0.33      6608\n",
            "weighted avg       0.25      0.50      0.33      6608\n",
            " samples avg       0.50      0.50      0.50      6608\n",
            "\n"
          ]
        },
        {
          "output_type": "stream",
          "name": "stderr",
          "text": [
            "/usr/local/lib/python3.7/dist-packages/sklearn/metrics/_classification.py:1308: UndefinedMetricWarning: Precision and F-score are ill-defined and being set to 0.0 in labels with no predicted samples. Use `zero_division` parameter to control this behavior.\n",
            "  _warn_prf(average, modifier, msg_start, len(result))\n"
          ]
        }
      ],
      "source": [
        "true_labels, final_labels = claim_verification(pred_sum, test_claims_X, test_labels_y)\n",
        "print(classification_report(true_labels, final_labels, target_names=target_names))"
      ]
    },
    {
      "cell_type": "markdown",
      "source": [
        "### Concatenation"
      ],
      "metadata": {
        "id": "mOhliQfVAiK-"
      }
    },
    {
      "cell_type": "code",
      "execution_count": 112,
      "metadata": {
        "id": "Z4SNhZQeAmHs"
      },
      "outputs": [],
      "source": [
        "ev_MLP_concat = model_MLP_concat.predict((test_claims_X, test_evidences_X))  \n",
        "pred_concat = np.around(ev_MLP_concat)"
      ]
    },
    {
      "cell_type": "markdown",
      "metadata": {
        "id": "HuoJtcdyAmHt"
      },
      "source": [
        "Multi-input classification evaluation"
      ]
    },
    {
      "cell_type": "code",
      "execution_count": 113,
      "metadata": {
        "colab": {
          "base_uri": "https://localhost:8080/"
        },
        "outputId": "45a33295-10ce-4f04-c888-ad96ac022e90",
        "id": "ShfUkVTgAmHu"
      },
      "outputs": [
        {
          "output_type": "stream",
          "name": "stdout",
          "text": [
            "              precision    recall  f1-score   support\n",
            "\n",
            "     SUPPORT       0.50      1.00      0.67      3606\n",
            "     REFUTES       0.00      0.00      0.00      3583\n",
            "\n",
            "   micro avg       0.50      0.50      0.50      7189\n",
            "   macro avg       0.25      0.50      0.33      7189\n",
            "weighted avg       0.25      0.50      0.34      7189\n",
            " samples avg       0.50      0.50      0.50      7189\n",
            "\n"
          ]
        },
        {
          "output_type": "stream",
          "name": "stderr",
          "text": [
            "/usr/local/lib/python3.7/dist-packages/sklearn/metrics/_classification.py:1308: UndefinedMetricWarning: Precision and F-score are ill-defined and being set to 0.0 in labels with no predicted samples. Use `zero_division` parameter to control this behavior.\n",
            "  _warn_prf(average, modifier, msg_start, len(result))\n"
          ]
        }
      ],
      "source": [
        "print(classification_report(test_labels_y, pred_concat, target_names=target_names))"
      ]
    },
    {
      "cell_type": "markdown",
      "metadata": {
        "id": "udIkqOCzArAN"
      },
      "source": [
        "Claim verification evaluation"
      ]
    },
    {
      "cell_type": "code",
      "execution_count": 114,
      "metadata": {
        "id": "Zdb_O8Q-ArAO",
        "colab": {
          "base_uri": "https://localhost:8080/"
        },
        "outputId": "a00f2765-4766-4c08-b9b2-18c1d1f3dae1"
      },
      "outputs": [
        {
          "output_type": "stream",
          "name": "stdout",
          "text": [
            "              precision    recall  f1-score   support\n",
            "\n",
            "     SUPPORT       0.50      1.00      0.67      3307\n",
            "     REFUTES       0.00      0.00      0.00      3301\n",
            "\n",
            "   micro avg       0.50      0.50      0.50      6608\n",
            "   macro avg       0.25      0.50      0.33      6608\n",
            "weighted avg       0.25      0.50      0.33      6608\n",
            " samples avg       0.50      0.50      0.50      6608\n",
            "\n"
          ]
        },
        {
          "output_type": "stream",
          "name": "stderr",
          "text": [
            "/usr/local/lib/python3.7/dist-packages/sklearn/metrics/_classification.py:1308: UndefinedMetricWarning: Precision and F-score are ill-defined and being set to 0.0 in labels with no predicted samples. Use `zero_division` parameter to control this behavior.\n",
            "  _warn_prf(average, modifier, msg_start, len(result))\n"
          ]
        }
      ],
      "source": [
        "true_labels, final_labels = claim_verification(pred_concat, test_claims_X, test_labels_y)\n",
        "print(classification_report(true_labels, final_labels, target_names=target_names))"
      ]
    },
    {
      "cell_type": "markdown",
      "metadata": {
        "id": "Pg8p4TgVlgXT"
      },
      "source": [
        "##Bag of words"
      ]
    },
    {
      "cell_type": "code",
      "execution_count": 115,
      "metadata": {
        "id": "NQdYvq6Ak_bl"
      },
      "outputs": [],
      "source": [
        "ev_bag_of_words = model_bag_of_words.predict((test_claims_X, test_evidences_X))                                                                                                                                                                           \n",
        "pred_bag = np.around(ev_bag_of_words)"
      ]
    },
    {
      "cell_type": "code",
      "execution_count": 116,
      "metadata": {
        "id": "mozz_2MO9aFr",
        "colab": {
          "base_uri": "https://localhost:8080/"
        },
        "outputId": "810bff4e-9b1d-4b36-d497-d38f0d7fedb3"
      },
      "outputs": [
        {
          "output_type": "stream",
          "name": "stdout",
          "text": [
            "              precision    recall  f1-score   support\n",
            "\n",
            "     SUPPORT       0.63      0.88      0.74      3606\n",
            "     REFUTES       0.80      0.48      0.60      3583\n",
            "\n",
            "   micro avg       0.68      0.68      0.68      7189\n",
            "   macro avg       0.72      0.68      0.67      7189\n",
            "weighted avg       0.72      0.68      0.67      7189\n",
            " samples avg       0.68      0.68      0.68      7189\n",
            "\n"
          ]
        }
      ],
      "source": [
        "print(classification_report(test_labels_y, pred_bag, target_names=target_names))"
      ]
    }
  ],
  "metadata": {
    "colab": {
      "collapsed_sections": [
        "SKbNqIih5VdB",
        "OWFUj3pN5j_n",
        "Dm4IB81X5shY",
        "W8nJS0oKd5Sg",
        "nt1jMDILJql6",
        "VTGqD9oKdSTn",
        "jZ4kki1fTQ3S",
        "oLeA5t3tYayh",
        "jix3-wr0aiFM",
        "_6ZA4eeYIAAU",
        "wjyVXzc-SQl6",
        "vIb1DZ8uTS_R",
        "GByFQN-eSWuY",
        "UCRDQj-yAEpe",
        "nDhuWKJJALxQ",
        "d90Nmcp2AOkZ",
        "HZhOfAgDTXAT",
        "lLcROXm7AhHn",
        "mOhliQfVAiK-"
      ],
      "name": "Assignment_2_avg_bow.ipynb",
      "provenance": []
    },
    "kernelspec": {
      "display_name": "Python 3",
      "name": "python3"
    }
  },
  "nbformat": 4,
  "nbformat_minor": 0
}