{
  "nbformat": 4,
  "nbformat_minor": 0,
  "metadata": {
    "colab": {
      "name": "Copia di Assignment_1_Lstm_single.ipynb",
      "provenance": [],
      "collapsed_sections": [],
      "include_colab_link": true
    },
    "kernelspec": {
      "display_name": "Python 3",
      "name": "python3"
    }
  },
  "cells": [
    {
      "cell_type": "markdown",
      "metadata": {
        "id": "view-in-github",
        "colab_type": "text"
      },
      "source": [
        "<a href=\"https://colab.research.google.com/github/AirNicco8/NLP_Assignments/blob/main/Assignment1/Assignment_1_Lstm_single.ipynb\" target=\"_parent\"><img src=\"https://colab.research.google.com/assets/colab-badge.svg\" alt=\"Open In Colab\"/></a>"
      ]
    },
    {
      "cell_type": "markdown",
      "metadata": {
        "id": "-WeCeITXoxLf"
      },
      "source": [
        "# Assignment 1\n",
        "\n",
        "**Due to**: 23/12/2021 (dd/mm/yyyy)\n",
        "\n",
        "**Credits**: Andrea Galassi, Federico Ruggeri, Paolo Torroni\n",
        "\n",
        "**Summary**: Part-of Speech (POS) tagging as Sequence Labelling using Recurrent Neural Architectures"
      ]
    },
    {
      "cell_type": "markdown",
      "metadata": {
        "id": "a4_wqPdlBcKS"
      },
      "source": [
        "# Intro\n",
        "\n",
        "In this assignment  we will ask you to perform POS tagging using neural architectures\n",
        "\n",
        "You are asked to follow these steps:\n",
        "*   Download the corpora and split it in training and test sets, structuring a dataframe.\n",
        "*   Embed the words using GloVe embeddings\n",
        "*   Create a baseline model, using a simple neural architecture\n",
        "*   Experiment doing small modifications to the baseline model, choose hyperparameters using the validation set\n",
        "*   Evaluate your two best model\n",
        "*   Analyze the errors of your model\n",
        "\n",
        "\n",
        "**Task**: given a corpus of documents, predict the POS tag for each word\n",
        "\n",
        "**Corpus**:\n",
        "Ignore the numeric value in the third column, use only the words/symbols and its label. \n",
        "The corpus is available at:\n",
        "https://raw.githubusercontent.com/nltk/nltk_data/gh-pages/packages/corpora/dependency_treebank.zip\n",
        "\n",
        "**Splits**: documents 1-100 are the train set, 101-150 validation set, 151-199 test set.\n",
        "\n",
        "\n",
        "**Features**: you MUST use GloVe embeddings as the only input features to the model.\n",
        "\n",
        "**Splitting**: you can decide to split documents into sentences or not, the choice is yours.\n",
        "\n",
        "**I/O structure**: The input data will have three dimensions: 1-documents/sentences, 2-token, 3-features; for the output there are 2 possibilities: if you use one-hot encoding it will be 1-documents/sentences, 2-token labels, 3-classes, if you use a single integer that indicates the number of the class it will be 1-documents/sentences, 2-token labels.\n",
        "\n",
        "**Baseline**: two layers architecture: a Bidirectional LSTM layer and a Dense/Fully-Connected layer on top; the choice of hyper-parameters is yours.\n",
        "\n",
        "**Architectures**: experiment using a GRU instead of the LSTM, adding an additional LSTM layer, and adding an additional dense layer; do not mix these variantions.\n",
        "\n",
        "\n",
        "**Training and Experiments**: all the experiments must involve only the training and validation sets.\n",
        "\n",
        "**Evaluation**: in the end, only the two best models of your choice (according to the validation set) must be evaluated on the test set. The main metric must be F1-Macro computed between the various part of speech. DO NOT CONSIDER THE PUNCTUATION CLASSES.\n",
        "\n",
        "**Metrics**: the metric you must use to evaluate your final model is the F1-macro, WITHOUT considering punctuation/symbols classes; during the training process you can use accuracy because you can't use the F1 metric unless you use a single (gigantic) batch because there is no way to aggregate \"partial\" F1 scores computed on mini-batches.\n",
        "\n",
        "**Discussion and Error Analysis** : verify and discuss if the results on the test sets are coherent with those on the validation set; analyze the errors done by your model, try to understand which may be the causes and think about how to improve it.\n",
        "\n",
        "**Report**: you are asked to deliver the code of your experiments and a small pdf report of about 2 pages; the pdf must begin with the names of the people of your team and a small abstract (4-5 lines) that sums up your findings.\n",
        "\n",
        "# Out Of Vocabulary (OOV) terms\n",
        "\n",
        "How to handle words that are not in GloVe vocabulary?\n",
        "You can handle them as you want (random embedding, placeholder, whatever!), but they must be STATIC embeddings (you cannot train them).\n",
        "\n",
        "But there is a very important caveat! As usual, the element of the test set must not influence the elements of the other splits!\n",
        "\n",
        "So, when you compute new embeddings for train+validation, you must forget about test documents.\n",
        "The motivation is to emulate a real-world scenario, where you select and train a model in the first stage, without knowing nothing about the testing environment.\n",
        "\n",
        "For implementation convenience, you CAN use a single vocabulary file/matrix/whatever. The principle of the previous point is that the embeddings inside that file/matrix must be generated independently for train and test splits.\n",
        "\n",
        "Basically in a real-world scenario, this is what would happen:\n",
        "1. Starting vocabulary V1 (in this assignment, GloVe vocabulary)\n",
        "2. Compute embeddings for terms out of vocabulary V1 (OOV1) of the training split \n",
        "3. Add embeddings to the vocabulary, so to obtain vocabulary V2=V1+OOV1\n",
        "4. Training of the model(s)\n",
        "5. Compute embeddings for terms OOV2 of the validation split \n",
        "6. Add embeddings to the vocabulary, so to obtain vocabulary V3=V1+OOV1+OOV2\n",
        "7. Validation of the model(s)\n",
        "8. Compute embeddings for terms OOV3 of the test split \n",
        "9. Add embeddings to the vocabulary, so to obtain vocabulary V4=V1+OOV1+OOV2+OOV3\n",
        "10. Testing of the final model\n",
        "\n",
        "In this case, where we already have all the documents, we can simplify the process a bit, but the procedure must remain rigorous.\n",
        "\n",
        "1. Starting vocabulary V1 (in this assignment, GloVe vocabulary)\n",
        "2. Compute embeddings for terms out of vocabulary V1 (OOV1) of the training split \n",
        "3. Add embeddings to the vocabulary, so to obtain vocabulary V2=V1+OOV1\n",
        "4. Compute embeddings for terms OOV2 of the validation split \n",
        "5. Add embeddings to the vocabulary, so to obtain vocabulary V3=V1+OOV1+OOV2\n",
        "6. Compute embeddings for terms OOV3 of the test split \n",
        "7. Add embeddings to the vocabulary, so to obtain vocabulary V4=V1+OOV1+OOV2\n",
        "8. Training of the model(s)\n",
        "9. Validation of the model(s)\n",
        "10. Testing of the final model\n",
        "\n",
        "Step 2 and step 6 must be completely independent of each other, for what concerns the method and the documents. But they can rely on the previous vocabulary (V1 for step 2 and V3 for step 6)\n",
        "THEREFORE if a word is present both in the training set and the test split and not in the starting vocabulary, its embedding is computed in step 2) and it is not considered OOV anymore in step 6).\n",
        "\n",
        "# Report\n",
        "The report must not be just a copy and paste of graphs and tables!\n",
        "\n",
        "The report must not be longer than 2 pages and must contain:\n",
        "* The names of the member of your team\n",
        "* A short abstract (4-5 lines) that sum ups everything\n",
        "* A general description of the task you have addressed and how you have addressed it\n",
        "* A short description of the models you have used\n",
        "* Some tables that sum up your findings in validation and test and a discussion of those results\n",
        "* The most relevant findings of your error analysis\n",
        "\n",
        "# Evaluation Criterion\n",
        "\n",
        "The goal of this assignment is not to prove you can find best model ever, but to face a common task, structure it correctly, and follow a correct and rigorous experimental procedure.\n",
        "In other words, we don't care if you final models are awful as long as you have followed the correct procedure and wrote a decent report.\n",
        "\n",
        "The score of the assignment will be computed roughly as follows\n",
        "* 1 point for the general setting of the problem\n",
        "* 1 point for the handling of OOV terms\n",
        "* 1 point for the models\n",
        "* 1 point for train-validation-test procedure\n",
        "* 2 point for the discussion of the results, error analysis, and report\n",
        "\n",
        "This distribution of scores is tentative and we may decide to alter it at any moment.\n",
        "We also reserve the right to assign a small bonus (0.5 points) to any assignment that is particularly worthy. Similarly, in case of grave errors, we may decide to assign an equivalent malus (-0.5 points).\n",
        "\n",
        "# Contacts\n",
        "\n",
        "In case of any doubt, question, issue, or help we highly recommend you to check the [course useful material](https://virtuale.unibo.it/pluginfile.php/1036039/mod_resource/content/2/NLP_Course_Useful_Material.pdf) for additional information, and to use the Virtuale forums to discuss with other students.\n",
        "\n",
        "You can always contact us at the following email addresses. To increase the probability of a prompt response, we reccomend you to write to both the teaching assistants.\n",
        "\n",
        "Teaching Assistants:\n",
        "\n",
        "* Andrea Galassi -> a.galassi@unibo.it\n",
        "* Federico Ruggeri -> federico.ruggeri6@unibo.it\n",
        "\n",
        "Professor:\n",
        "\n",
        "* Paolo Torroni -> p.torroni@unibo.it\n",
        "\n",
        "\n",
        "# FAQ\n",
        "* You can use a non-trainable Embedding layer to load the glove embeddings\n",
        "* You can use any library of your choice to implement the networks. Two options are tensorflow/keras or pythorch. Both these libraries have all the classes you need to implement these simple architectures and there are plenty of tutorials around, where you can learn how to use them."
      ]
    },
    {
      "cell_type": "markdown",
      "source": [
        "# Imports & Dataset"
      ],
      "metadata": {
        "id": "COWq7PIOWtYr"
      }
    },
    {
      "cell_type": "code",
      "metadata": {
        "id": "emdubW66fnlD"
      },
      "source": [
        "import os, shutil  #  file management\n",
        "import sys \n",
        "import pandas as pd  #  dataframe management\n",
        "import numpy as np  #  data manipulation\n",
        "import matplotlib.pyplot as plt\n",
        "import urllib.request  #  download files\n",
        "import zipfile  #  unzip files\n",
        "import nltk\n",
        "import tensorflow as tf\n",
        "from tensorflow import keras"
      ],
      "execution_count": 1,
      "outputs": []
    },
    {
      "cell_type": "code",
      "metadata": {
        "id": "6B-w2pqyfpF1"
      },
      "source": [
        "from keras import metrics \n",
        "from tensorflow.python.keras.metrics import Metric\n",
        "from sklearn.metrics import f1_score\n",
        "import keras.backend as K"
      ],
      "execution_count": 2,
      "outputs": []
    },
    {
      "cell_type": "code",
      "source": [
        "!pip install -U keras"
      ],
      "metadata": {
        "colab": {
          "base_uri": "https://localhost:8080/"
        },
        "id": "R8prqSTRX-TK",
        "outputId": "341aed97-b7f6-4128-c2f8-d47f9574be0b"
      },
      "execution_count": 3,
      "outputs": [
        {
          "output_type": "stream",
          "name": "stdout",
          "text": [
            "Requirement already satisfied: keras in /usr/local/lib/python3.7/dist-packages (2.7.0)\n"
          ]
        }
      ]
    },
    {
      "cell_type": "code",
      "metadata": {
        "colab": {
          "base_uri": "https://localhost:8080/"
        },
        "id": "E3xn1MZPgA_v",
        "outputId": "e3b9345d-649d-480d-8f8a-215614258617"
      },
      "source": [
        "dataset_folder = os.path.join(os.getcwd(), \"Datasets\", \"Original\")\n",
        "\n",
        "if not os.path.exists(dataset_folder):\n",
        "    os.makedirs(dataset_folder)\n",
        "\n",
        "url = 'https://raw.githubusercontent.com/nltk/nltk_data/gh-pages/packages/corpora/dependency_treebank.zip'\n",
        "\n",
        "dataset_path = os.path.join(dataset_folder, \"treebank.zip\")\n",
        "\n",
        "if not os.path.exists(dataset_path):\n",
        "    urllib.request.urlretrieve(url, dataset_path)\n",
        "    print(\"Successful download\")\n",
        "\n",
        "with zipfile.ZipFile(dataset_path, 'r') as zip_ref:\n",
        "    zip_ref.extractall(dataset_folder)\n",
        "print(\"Successful extraction\")"
      ],
      "execution_count": 4,
      "outputs": [
        {
          "output_type": "stream",
          "name": "stdout",
          "text": [
            "Successful download\n",
            "Successful extraction\n"
          ]
        }
      ]
    },
    {
      "cell_type": "markdown",
      "source": [
        "# Pre Processing\n",
        "- splitting"
      ],
      "metadata": {
        "id": "iXl3LpVxW2h5"
      }
    },
    {
      "cell_type": "code",
      "metadata": {
        "id": "LKbUsrVHhGAG"
      },
      "source": [
        "dataset_name = \"dependency_treebank\"\n",
        "\n",
        "\n",
        "folder = os.path.join(os.getcwd(), \"Datasets\", \"Original\", dataset_name)\n",
        "\n",
        "pre_train = []\n",
        "pre_valid = []\n",
        "pre_test = []\n",
        "i = 1\n",
        "\n",
        "file_list = sorted(os.listdir(folder))\n",
        "\n",
        "for filename in file_list:\n",
        "  file_path = os.path.join(folder, filename)\n",
        "  if os.path.isfile(file_path):\n",
        "    # open the file\n",
        "      text = []\n",
        "      with open(file_path, mode='r', encoding='utf-8') as text_file:\n",
        "        text = text_file.read()\n",
        "        if i <= 100:\n",
        "          pre_train.append(text)\n",
        "        elif i <= 150:\n",
        "          pre_valid.append(text)\n",
        "        else:\n",
        "          pre_test.append(text)  \n",
        "  i+=1\n",
        "\n",
        "tr = []\n",
        "val = []\n",
        "tes = []\n",
        "\n",
        "for paragraph in pre_train:\n",
        "   tr.append(paragraph.split('\\n'))\n",
        "for paragraph in pre_valid:\n",
        "   val.append(paragraph.split('\\n'))\n",
        "for paragraph in pre_test:\n",
        "   tes.append(paragraph.split('\\n'))\n"
      ],
      "execution_count": 5,
      "outputs": []
    },
    {
      "cell_type": "code",
      "metadata": {
        "id": "GUgbTXi-F7Sa"
      },
      "source": [
        "train = []\n",
        "valid = []\n",
        "test = []\n",
        "\n",
        "for i in tr:\n",
        "  for j in i:\n",
        "    train.append(j.split('\\t'))\n",
        "\n",
        "for i in val:\n",
        "  for j in i:\n",
        "    valid.append(j.split('\\t'))\n",
        "\n",
        "for i in tes:\n",
        "  for j in i:\n",
        "    test.append(j.split('\\t'))"
      ],
      "execution_count": 6,
      "outputs": []
    },
    {
      "cell_type": "code",
      "metadata": {
        "id": "bmzVaRuQFp0M"
      },
      "source": [
        "train_sentences = []\n",
        "valid_sentences = []\n",
        "test_sentences = []\n",
        "train_tags = []\n",
        "valid_tags = []\n",
        "test_tags = []\n",
        "\n",
        "s = []\n",
        "t = []\n",
        "for i in train:\n",
        "  if i[0] != '':\n",
        "    s.append(i[0])\n",
        "    t.append(i[1])\n",
        "  else:\n",
        "    train_sentences.append(s)\n",
        "    train_tags.append(t)\n",
        "    s = []\n",
        "    t = []\n",
        "\n",
        "s = []\n",
        "t = []\n",
        "for i in valid:\n",
        "  if i[0] != '':\n",
        "    s.append(i[0])\n",
        "    t.append(i[1])\n",
        "  else:\n",
        "    valid_sentences.append(s)\n",
        "    valid_tags.append(t)\n",
        "    s = []\n",
        "    t = []\n",
        "\n",
        "s = []\n",
        "t = []\n",
        "for i in test:\n",
        "  if i[0] != '':\n",
        "    s.append(i[0])\n",
        "    t.append(i[1])\n",
        "  else:\n",
        "    test_sentences.append(s)\n",
        "    test_tags.append(t)\n",
        "    s = []\n",
        "    t = []"
      ],
      "execution_count": 7,
      "outputs": []
    },
    {
      "cell_type": "code",
      "metadata": {
        "id": "tB65cUFLIeEr"
      },
      "source": [
        "flat_train = [item for sublist in train_sentences for item in sublist]\n",
        "flat_valid = [item for sublist in valid_sentences for item in sublist]\n",
        "flat_test = [item for sublist in test_sentences for item in sublist]"
      ],
      "execution_count": 8,
      "outputs": []
    },
    {
      "cell_type": "markdown",
      "source": [
        "# Tokenization\n",
        "- vocabularies\n",
        "- GloVe download"
      ],
      "metadata": {
        "id": "VQsxPZcXW9EF"
      }
    },
    {
      "cell_type": "code",
      "metadata": {
        "id": "TZO6ga1EGHdh"
      },
      "source": [
        "from keras.preprocessing.text import Tokenizer\n",
        "\n",
        "train_tokenizer = Tokenizer()                     # instantiate tokeniser\n",
        "train_tokenizer.fit_on_texts(train_sentences)                    # fit tokeniser on data\n",
        "train_encoded = train_tokenizer.texts_to_sequences(train_sentences)\n",
        "\n",
        "valid_tokenizer = Tokenizer()       \n",
        "valid_tokenizer.fit_on_texts(valid_sentences)                  # instantiate tokeniser\n",
        "valid_encoded = valid_tokenizer.texts_to_sequences(valid_sentences)\n",
        "\n",
        "test_tokenizer = Tokenizer()                     # instantiate tokeniser\n",
        "test_tokenizer.fit_on_texts(test_sentences)                    # fit tokeniser on data\n",
        "test_encoded = test_tokenizer.texts_to_sequences(test_sentences)  # use the tokeniser to encode input sequence"
      ],
      "execution_count": 9,
      "outputs": []
    },
    {
      "cell_type": "code",
      "source": [
        "tag_tokenizer = Tokenizer()\n",
        "tag_tokenizer.fit_on_texts(train_tags)\n",
        "tags_encoded = tag_tokenizer.texts_to_sequences(train_tags)"
      ],
      "metadata": {
        "id": "1nC8ma_jXYtc"
      },
      "execution_count": 10,
      "outputs": []
    },
    {
      "cell_type": "code",
      "metadata": {
        "colab": {
          "base_uri": "https://localhost:8080/"
        },
        "id": "FMsG0Yw1l50L",
        "outputId": "5e49e439-460e-475b-eb65-e5ffc525609c"
      },
      "source": [
        "voc = list(set(train_tokenizer.word_index.keys()))\n",
        "print(len(voc))\n",
        "voc += list(set(valid_tokenizer.word_index.keys()) - set(train_tokenizer.word_index.keys()))\n",
        "print(len(voc))\n",
        "voc += list(set(test_tokenizer.word_index.keys()) - set(voc))\n",
        "print(len(voc))"
      ],
      "execution_count": 11,
      "outputs": [
        {
          "output_type": "stream",
          "name": "stdout",
          "text": [
            "7404\n",
            "9901\n",
            "10947\n"
          ]
        }
      ]
    },
    {
      "cell_type": "code",
      "metadata": {
        "id": "dS9RwnOtJuas"
      },
      "source": [
        "word_index = dict(zip(voc, range(2, len(voc)+3)))\n",
        "word_index['-PAD-'] = 0\n",
        "word_index['-OOV-'] = 1\n",
        "\n",
        "tags = set([item for sublist in train_tags for item in sublist])\n",
        "\n",
        "tag2index = {t: i + 1 for i, t in enumerate(tags)}\n",
        "tag2index['-PAD-'] = 0 "
      ],
      "execution_count": 12,
      "outputs": []
    },
    {
      "cell_type": "code",
      "metadata": {
        "colab": {
          "base_uri": "https://localhost:8080/"
        },
        "id": "uoj4Zx51J2MU",
        "outputId": "2d158aaf-3487-4f08-8a5a-c8170c5c61ec"
      },
      "source": [
        "!wget http://nlp.stanford.edu/data/glove.6B.zip\n",
        "!unzip -q glove.6B.zip"
      ],
      "execution_count": 13,
      "outputs": [
        {
          "output_type": "stream",
          "name": "stdout",
          "text": [
            "--2021-12-20 17:28:02--  http://nlp.stanford.edu/data/glove.6B.zip\n",
            "Resolving nlp.stanford.edu (nlp.stanford.edu)... 171.64.67.140\n",
            "Connecting to nlp.stanford.edu (nlp.stanford.edu)|171.64.67.140|:80... connected.\n",
            "HTTP request sent, awaiting response... 302 Found\n",
            "Location: https://nlp.stanford.edu/data/glove.6B.zip [following]\n",
            "--2021-12-20 17:28:02--  https://nlp.stanford.edu/data/glove.6B.zip\n",
            "Connecting to nlp.stanford.edu (nlp.stanford.edu)|171.64.67.140|:443... connected.\n",
            "HTTP request sent, awaiting response... 301 Moved Permanently\n",
            "Location: http://downloads.cs.stanford.edu/nlp/data/glove.6B.zip [following]\n",
            "--2021-12-20 17:28:02--  http://downloads.cs.stanford.edu/nlp/data/glove.6B.zip\n",
            "Resolving downloads.cs.stanford.edu (downloads.cs.stanford.edu)... 171.64.64.22\n",
            "Connecting to downloads.cs.stanford.edu (downloads.cs.stanford.edu)|171.64.64.22|:80... connected.\n",
            "HTTP request sent, awaiting response... 200 OK\n",
            "Length: 862182613 (822M) [application/zip]\n",
            "Saving to: ‘glove.6B.zip’\n",
            "\n",
            "glove.6B.zip        100%[===================>] 822.24M  5.07MB/s    in 2m 48s  \n",
            "\n",
            "2021-12-20 17:30:50 (4.91 MB/s) - ‘glove.6B.zip’ saved [862182613/862182613]\n",
            "\n"
          ]
        }
      ]
    },
    {
      "cell_type": "code",
      "metadata": {
        "colab": {
          "base_uri": "https://localhost:8080/"
        },
        "id": "pc-T6FcLKtS9",
        "outputId": "09291cbd-24d8-44bb-a331-aa7bdccf09c0"
      },
      "source": [
        "path_to_glove_file = os.path.join(os.getcwd(), \"glove.6B.100d.txt\")\n",
        "\n",
        "embeddings_index = {}\n",
        "with open(path_to_glove_file) as f:\n",
        "    for line in f:\n",
        "        word, coefs = line.split(maxsplit=1)\n",
        "        coefs = np.fromstring(coefs, \"f\", sep=\" \")\n",
        "        embeddings_index[word] = coefs\n",
        "\n",
        "print(\"Found %s word vectors.\" % len(embeddings_index))\n"
      ],
      "execution_count": 14,
      "outputs": [
        {
          "output_type": "stream",
          "name": "stdout",
          "text": [
            "Found 400000 word vectors.\n"
          ]
        }
      ]
    },
    {
      "cell_type": "markdown",
      "source": [
        "# Embedding\n",
        "- matrix creation\n",
        "- padding\n",
        "- one hot encoding of tags\n",
        "- punctuation identification"
      ],
      "metadata": {
        "id": "_x9MpHE6XB2l"
      }
    },
    {
      "cell_type": "code",
      "metadata": {
        "colab": {
          "base_uri": "https://localhost:8080/"
        },
        "id": "d0mOStEPMeXt",
        "outputId": "28734170-ca88-493b-f9ce-9d3263190666"
      },
      "source": [
        "num_tokens = len(voc) + 2\n",
        "embedding_dim = 100\n",
        "hits = 0\n",
        "misses = 0\n",
        "\n",
        "\n",
        "# Prepare embedding matrix\n",
        "embedding_matrix = np.zeros((num_tokens, embedding_dim))\n",
        "for word, i in word_index.items():\n",
        "    embedding_vector = embeddings_index.get(word)\n",
        "    if embedding_vector is not None:\n",
        "        # Words not found in embedding index will be all-zeros.\n",
        "        # This includes the representation for \"padding\" and \"OOV\"\n",
        "        embedding_matrix[i] = embedding_vector\n",
        "        hits += 1\n",
        "    else:\n",
        "        embedding_matrix += np.random.uniform(low=-0.05, high=0.05, size=embedding_dim)\n",
        "        misses += 1\n",
        "print(\"Converted %d words (%d misses)\" % (hits, misses))"
      ],
      "execution_count": 15,
      "outputs": [
        {
          "output_type": "stream",
          "name": "stdout",
          "text": [
            "Converted 10271 words (678 misses)\n"
          ]
        }
      ]
    },
    {
      "cell_type": "markdown",
      "metadata": {
        "id": "mwoJ4hbYXFPq"
      },
      "source": [
        ""
      ]
    },
    {
      "cell_type": "code",
      "metadata": {
        "id": "OpYrHs0RMtQJ"
      },
      "source": [
        "from tensorflow.keras.layers import Embedding\n",
        "\n",
        "embedding_layer = Embedding(\n",
        "    num_tokens,\n",
        "    embedding_dim,\n",
        "    embeddings_initializer=keras.initializers.Constant(embedding_matrix),\n",
        "    trainable=False,\n",
        ")"
      ],
      "execution_count": 16,
      "outputs": []
    },
    {
      "cell_type": "code",
      "metadata": {
        "colab": {
          "base_uri": "https://localhost:8080/"
        },
        "id": "f8EZM31Js06-",
        "outputId": "011545d6-6dd2-40a6-f954-94f6d32d8882"
      },
      "source": [
        "MAX_LENGTH = len(max(train_sentences, key=len))\n",
        "print(MAX_LENGTH)\n",
        "MAX_LENGTH2 = len(max(valid_sentences, key=len))\n",
        "print(MAX_LENGTH2)\n",
        "MAX_LENGTH3 = len(max(test_sentences, key=len))\n",
        "print(MAX_LENGTH3)"
      ],
      "execution_count": 17,
      "outputs": [
        {
          "output_type": "stream",
          "name": "stdout",
          "text": [
            "249\n",
            "81\n",
            "58\n"
          ]
        }
      ]
    },
    {
      "cell_type": "code",
      "metadata": {
        "id": "iSRa9SwTuNrX"
      },
      "source": [
        "train_sentences_X, valid_sentences_X, train_tags_y, valid_tags_y = [], [], [], []\n",
        " \n",
        "for s in train_sentences:\n",
        "    s_int = []\n",
        "    for w in s:\n",
        "        try:\n",
        "            s_int.append(word_index[w.lower()])\n",
        "        except KeyError:\n",
        "            s_int.append(word_index['-OOV-'])\n",
        " \n",
        "    train_sentences_X.append(s_int)\n",
        "\n",
        "for s in valid_sentences:\n",
        "    s_int = []\n",
        "    for w in s:\n",
        "        try:\n",
        "            s_int.append(word_index[w.lower()])\n",
        "        except KeyError:\n",
        "            s_int.append(word_index['-OOV-'])\n",
        " \n",
        "    valid_sentences_X.append(s_int)\n",
        " \n",
        "for s in train_tags:\n",
        "    train_tags_y.append([tag2index[t] for t in s])\n",
        "\n",
        "for s in valid_tags:\n",
        "    valid_tags_y.append([tag2index[t] for t in s])"
      ],
      "execution_count": 18,
      "outputs": []
    },
    {
      "cell_type": "code",
      "metadata": {
        "id": "Yf-XlSrStQx3"
      },
      "source": [
        "from keras.preprocessing.sequence import pad_sequences\n",
        " \n",
        "train_sentences_X = pad_sequences(train_sentences_X, maxlen=MAX_LENGTH, padding='post')\n",
        "valid_sentences_X = pad_sequences(valid_sentences_X, maxlen=MAX_LENGTH, padding='post')\n",
        "\n",
        "train_tags_y = pad_sequences(train_tags_y, maxlen=MAX_LENGTH, padding='post')\n",
        "valid_tags_y = pad_sequences(valid_tags_y, maxlen=MAX_LENGTH, padding='post')"
      ],
      "execution_count": 19,
      "outputs": []
    },
    {
      "cell_type": "code",
      "source": [
        "def to_categorical(sequences, categories):\n",
        "    cat_sequences = []\n",
        "    for s in sequences:\n",
        "        cats = []\n",
        "        for item in s:\n",
        "            cats.append(np.zeros(categories))\n",
        "            cats[-1][item] = 1.0\n",
        "        cat_sequences.append(cats)\n",
        "    return np.array(cat_sequences)"
      ],
      "metadata": {
        "id": "yc_u-8itYXQB"
      },
      "execution_count": 20,
      "outputs": []
    },
    {
      "cell_type": "code",
      "source": [
        "point = [tag2index['.']]\n",
        "virg = [tag2index[',']]\n",
        "weird_apex = [tag2index['``']]\n",
        "single_apex = [tag2index[\"''\"]]\n",
        "two_dots = [tag2index[':']]\n",
        "pad = [tag2index['-PAD-']]\n",
        "\n",
        "punct_cat_classes = to_categorical([point, virg, weird_apex, single_apex, two_dots, pad], len(tag2index))\n",
        "punct_cat_classes.shape"
      ],
      "metadata": {
        "colab": {
          "base_uri": "https://localhost:8080/"
        },
        "id": "Tvb1ZbVIYZ4Y",
        "outputId": "481b9d0e-3e1e-4665-96f7-86f1b5eb05cc"
      },
      "execution_count": 21,
      "outputs": [
        {
          "output_type": "execute_result",
          "data": {
            "text/plain": [
              "(6, 1, 46)"
            ]
          },
          "metadata": {},
          "execution_count": 21
        }
      ]
    },
    {
      "cell_type": "code",
      "source": [
        "cum_tags = np.zeros(46)\n",
        "for i in punct_cat_classes:\n",
        "  print(i[0])\n",
        "  cum_tags += i[0]"
      ],
      "metadata": {
        "colab": {
          "base_uri": "https://localhost:8080/"
        },
        "id": "c7oHM_vUYf4c",
        "outputId": "321e6616-a013-4fe1-ddd8-c1501f725732"
      },
      "execution_count": 22,
      "outputs": [
        {
          "output_type": "stream",
          "name": "stdout",
          "text": [
            "[0. 0. 0. 0. 0. 0. 0. 0. 0. 0. 0. 1. 0. 0. 0. 0. 0. 0. 0. 0. 0. 0. 0. 0.\n",
            " 0. 0. 0. 0. 0. 0. 0. 0. 0. 0. 0. 0. 0. 0. 0. 0. 0. 0. 0. 0. 0. 0.]\n",
            "[0. 0. 0. 0. 0. 0. 0. 0. 0. 0. 0. 0. 0. 0. 0. 0. 0. 0. 0. 0. 0. 0. 0. 0.\n",
            " 0. 0. 0. 0. 0. 0. 0. 0. 0. 0. 0. 0. 0. 0. 0. 0. 0. 0. 0. 0. 0. 1.]\n",
            "[0. 0. 0. 0. 0. 0. 0. 0. 0. 0. 0. 0. 0. 0. 0. 0. 0. 0. 0. 0. 0. 0. 0. 0.\n",
            " 0. 0. 1. 0. 0. 0. 0. 0. 0. 0. 0. 0. 0. 0. 0. 0. 0. 0. 0. 0. 0. 0.]\n",
            "[0. 0. 0. 0. 0. 0. 0. 0. 0. 0. 0. 0. 0. 0. 0. 0. 0. 0. 0. 1. 0. 0. 0. 0.\n",
            " 0. 0. 0. 0. 0. 0. 0. 0. 0. 0. 0. 0. 0. 0. 0. 0. 0. 0. 0. 0. 0. 0.]\n",
            "[0. 0. 1. 0. 0. 0. 0. 0. 0. 0. 0. 0. 0. 0. 0. 0. 0. 0. 0. 0. 0. 0. 0. 0.\n",
            " 0. 0. 0. 0. 0. 0. 0. 0. 0. 0. 0. 0. 0. 0. 0. 0. 0. 0. 0. 0. 0. 0.]\n",
            "[1. 0. 0. 0. 0. 0. 0. 0. 0. 0. 0. 0. 0. 0. 0. 0. 0. 0. 0. 0. 0. 0. 0. 0.\n",
            " 0. 0. 0. 0. 0. 0. 0. 0. 0. 0. 0. 0. 0. 0. 0. 0. 0. 0. 0. 0. 0. 0.]\n"
          ]
        }
      ]
    },
    {
      "cell_type": "code",
      "source": [
        "where_tags = np.where(np.logical_not(cum_tags))\n",
        "where_tags"
      ],
      "metadata": {
        "colab": {
          "base_uri": "https://localhost:8080/"
        },
        "id": "c5uT2QJrYi15",
        "outputId": "df2b97d4-5f90-457d-c4d6-61f6714108c7"
      },
      "execution_count": 23,
      "outputs": [
        {
          "output_type": "execute_result",
          "data": {
            "text/plain": [
              "(array([ 1,  3,  4,  5,  6,  7,  8,  9, 10, 12, 13, 14, 15, 16, 17, 18, 20,\n",
              "        21, 22, 23, 24, 25, 27, 28, 29, 30, 31, 32, 33, 34, 35, 36, 37, 38,\n",
              "        39, 40, 41, 42, 43, 44]),)"
            ]
          },
          "metadata": {},
          "execution_count": 23
        }
      ]
    },
    {
      "cell_type": "code",
      "source": [
        "no_punct_indexes = where_tags[0]\n",
        "n_classes = len(no_punct_indexes)"
      ],
      "metadata": {
        "id": "nPBHVI2HYlxs"
      },
      "execution_count": 24,
      "outputs": []
    },
    {
      "cell_type": "code",
      "source": [
        "cat_train_tags_y = to_categorical(train_tags_y, len(tag2index))\n",
        "cat_val_tags_y = to_categorical(valid_tags_y, len(tag2index))\n",
        "print(len(cat_train_tags_y), len(cat_val_tags_y))\n",
        "print(len(train_sentences_X), len(valid_sentences_X))"
      ],
      "metadata": {
        "colab": {
          "base_uri": "https://localhost:8080/"
        },
        "id": "2SPgQ9YmYnbG",
        "outputId": "4f724483-ead7-4a73-fdfc-cfb5951ddd28"
      },
      "execution_count": 25,
      "outputs": [
        {
          "output_type": "stream",
          "name": "stdout",
          "text": [
            "1963 1299\n",
            "1963 1299\n"
          ]
        }
      ]
    },
    {
      "cell_type": "markdown",
      "source": [
        "# Mini Data Vizualization Inset"
      ],
      "metadata": {
        "id": "426ajTPoYtaP"
      }
    },
    {
      "cell_type": "code",
      "source": [
        "distribution_tags = np.zeros(46)\n",
        "for i in cat_train_tags_y:\n",
        "  for t in i:\n",
        "    distribution_tags += t"
      ],
      "metadata": {
        "id": "Jf_djyP3YvhV"
      },
      "execution_count": 26,
      "outputs": []
    },
    {
      "cell_type": "code",
      "source": [
        "s = sum(distribution_tags[1:])\n",
        "norm = [float(i)/s for i in distribution_tags[1:]]"
      ],
      "metadata": {
        "id": "8jqHRmS_Yyde"
      },
      "execution_count": 27,
      "outputs": []
    },
    {
      "cell_type": "code",
      "source": [
        "import matplotlib.pyplot as plt "
      ],
      "metadata": {
        "id": "-ksL6xl1Y2Sw"
      },
      "execution_count": 28,
      "outputs": []
    },
    {
      "cell_type": "code",
      "source": [
        "plt.bar(np.arange(len(norm)),norm)\n",
        "plt.show()"
      ],
      "metadata": {
        "colab": {
          "base_uri": "https://localhost:8080/",
          "height": 265
        },
        "id": "o4EY5adaY3Z6",
        "outputId": "1fb4c15a-83c7-474f-e5a0-c6c160f4386f"
      },
      "execution_count": 29,
      "outputs": [
        {
          "output_type": "display_data",
          "data": {
            "image/png": "[encoded data removed]",
            "text/plain": [
              "<Figure size 432x288 with 1 Axes>"
            ]
          },
          "metadata": {
            "needs_background": "light"
          }
        }
      ]
    },
    {
      "cell_type": "markdown",
      "source": [
        "#F1 Metric"
      ],
      "metadata": {
        "id": "yUvMJPihY4nK"
      }
    },
    {
      "cell_type": "code",
      "source": [
        "def precision(y_true, y_pred):\n",
        "    \"\"\"Precision metric.\n",
        "\n",
        "    Only computes a batch-wise average of precision.\n",
        "\n",
        "    Computes the precision, a metric for multi-label classification of\n",
        "    how many selected items are relevant.\n",
        "    \"\"\"\n",
        "    true_positives = K.sum(K.round(K.clip(y_true * y_pred, 0, 1)))\n",
        "    predicted_positives = K.sum(K.round(K.clip(y_pred, 0, 1)))\n",
        "    precision = true_positives / (predicted_positives + K.epsilon())\n",
        "    return precision\n",
        "\n",
        "\n",
        "def recall(y_true, y_pred):\n",
        "    \"\"\"Recall metric.\n",
        "\n",
        "    Only computes a batch-wise average of recall.\n",
        "\n",
        "    Computes the recall, a metric for multi-label classification of\n",
        "    how many relevant items are selected.\n",
        "    \"\"\"\n",
        "    true_positives = K.sum(K.round(K.clip(y_true * y_pred, 0, 1)))\n",
        "    possible_positives = K.sum(K.round(K.clip(y_true, 0, 1)))\n",
        "    recall = true_positives / (possible_positives + K.epsilon())\n",
        "    return recall\n",
        "\n",
        "\n",
        "def f1_binary(y_true, y_pred):\n",
        "    p = precision(y_true, y_pred)\n",
        "    r = recall(y_true, y_pred)\n",
        "    return 2 * ((p * r) / (p + r + K.epsilon()))\n",
        "\n",
        "def metric_wrapper(index):\n",
        "  def f1_for_class(y_true, y_pred):\n",
        "    #get only the desired class\n",
        "    true = y_true[:,:,index]\n",
        "    pred = y_pred[:,:,index]\n",
        "    #return dice per class\n",
        "    tmp = f1_binary(true,pred)\n",
        "    return tmp\n",
        "  f1_for_class.__name__ = 'f1_' + str(index)\n",
        "  return f1_for_class\n",
        "\n",
        "def f1(y_true, y_pred):\n",
        "    result = 0.0\n",
        "    for class_id in no_punct_indexes:\n",
        "        y_true_single_class = y_true[:,:,class_id]\n",
        "        y_pred_single_class = y_pred[:,:,class_id]\n",
        "        f1_single = f1_binary(y_true_single_class, y_pred_single_class)\n",
        "        result += f1_single / float(n_classes)\n",
        "    return result"
      ],
      "metadata": {
        "id": "_4dwoTOuZCmi"
      },
      "execution_count": 30,
      "outputs": []
    },
    {
      "cell_type": "code",
      "metadata": {
        "colab": {
          "base_uri": "https://localhost:8080/"
        },
        "id": "QsVGByW_sdec",
        "outputId": "77531f82-b739-48ae-dfe9-9659d5142ced"
      },
      "source": [
        "from keras.models import Sequential\n",
        "from keras.layers import Dense, LSTM, InputLayer, Bidirectional, TimeDistributed, Embedding, Activation\n",
        "from tensorflow.keras.optimizers import Adam\n",
        " \n",
        " \n",
        "model = Sequential()\n",
        "model.add(InputLayer(input_shape=(MAX_LENGTH, )))\n",
        "model.add(embedding_layer)\n",
        "model.add(Bidirectional(LSTM(256, return_sequences=True)))\n",
        "model.add(Dense(len(tag2index)))\n",
        "model.add(Activation('softmax'))\n",
        " \n",
        "model.compile(loss='categorical_crossentropy',\n",
        "              optimizer=Adam(0.001),\n",
        "              metrics=['accuracy', f1, [metric_wrapper(i) for i in no_punct_indexes]])\n",
        " \n",
        "model.summary()"
      ],
      "execution_count": 31,
      "outputs": [
        {
          "output_type": "stream",
          "name": "stdout",
          "text": [
            "Model: \"sequential\"\n",
            "_________________________________________________________________\n",
            " Layer (type)                Output Shape              Param #   \n",
            "=================================================================\n",
            " embedding (Embedding)       (None, 249, 100)          1094900   \n",
            "                                                                 \n",
            " bidirectional (Bidirectiona  (None, 249, 512)         731136    \n",
            " l)                                                              \n",
            "                                                                 \n",
            " dense (Dense)               (None, 249, 46)           23598     \n",
            "                                                                 \n",
            " activation (Activation)     (None, 249, 46)           0         \n",
            "                                                                 \n",
            "=================================================================\n",
            "Total params: 1,849,634\n",
            "Trainable params: 754,734\n",
            "Non-trainable params: 1,094,900\n",
            "_________________________________________________________________\n"
          ]
        }
      ]
    },
    {
      "cell_type": "code",
      "source": [
        "callback = tf.keras.callbacks.EarlyStopping(monitor='val_loss', patience=5)\n",
        "history = model.fit(train_sentences_X, cat_train_tags_y, batch_size=128, epochs=40, validation_data=(valid_sentences_X, cat_val_tags_y), callbacks=[callback])"
      ],
      "metadata": {
        "colab": {
          "base_uri": "https://localhost:8080/"
        },
        "id": "n45419-PZSR7",
        "outputId": "3166ea19-55c0-4298-b8cb-0eae1f8c5290"
      },
      "execution_count": 33,
      "outputs": [
        {
          "output_type": "stream",
          "name": "stdout",
          "text": [
            "Epoch 1/40\n",
            "16/16 [==============================] - 67s 4s/step - loss: 0.0760 - accuracy: 0.9804 - f1: 0.3471 - f1_1: 0.5390 - f1_3: 0.0186 - f1_4: 0.9387 - f1_5: 0.7822 - f1_6: 0.0000e+00 - f1_7: 0.0000e+00 - f1_8: 0.0000e+00 - f1_9: 0.0888 - f1_10: 0.9014 - f1_12: 0.0000e+00 - f1_13: 0.0000e+00 - f1_14: 0.5267 - f1_15: 0.9952 - f1_16: 0.0000e+00 - f1_17: 0.0000e+00 - f1_18: 0.0000e+00 - f1_20: 0.0000e+00 - f1_21: 0.0000e+00 - f1_22: 0.0000e+00 - f1_23: 0.0000e+00 - f1_24: 0.7802 - f1_25: 0.7566 - f1_27: 0.0000e+00 - f1_28: 0.6406 - f1_29: 0.8020 - f1_30: 0.7830 - f1_31: 0.2106 - f1_32: 0.9985 - f1_33: 0.0000e+00 - f1_34: 0.0000e+00 - f1_35: 0.7118 - f1_36: 0.0000e+00 - f1_37: 0.8256 - f1_38: 0.0000e+00 - f1_39: 0.6637 - f1_40: 0.7427 - f1_41: 0.0000e+00 - f1_42: 0.2485 - f1_43: 0.0000e+00 - f1_44: 0.9315 - val_loss: 0.0799 - val_accuracy: 0.9792 - val_f1: 0.3519 - val_f1_1: 0.4951 - val_f1_3: 0.0412 - val_f1_4: 0.9394 - val_f1_5: 0.8169 - val_f1_6: 0.0000e+00 - val_f1_7: 0.0000e+00 - val_f1_8: 0.0000e+00 - val_f1_9: 0.1015 - val_f1_10: 0.9121 - val_f1_12: 0.0000e+00 - val_f1_13: 0.0000e+00 - val_f1_14: 0.4984 - val_f1_15: 0.9971 - val_f1_16: 0.0000e+00 - val_f1_17: 0.0000e+00 - val_f1_18: 0.0000e+00 - val_f1_20: 0.0000e+00 - val_f1_21: 0.0000e+00 - val_f1_22: 0.0000e+00 - val_f1_23: 0.0000e+00 - val_f1_24: 0.7319 - val_f1_25: 0.7938 - val_f1_27: 0.0000e+00 - val_f1_28: 0.6278 - val_f1_29: 0.8135 - val_f1_30: 0.8126 - val_f1_31: 0.3081 - val_f1_32: 1.0000 - val_f1_33: 0.0000e+00 - val_f1_34: 0.0000e+00 - val_f1_35: 0.6849 - val_f1_36: 0.0000e+00 - val_f1_37: 0.7662 - val_f1_38: 0.0000e+00 - val_f1_39: 0.6476 - val_f1_40: 0.7555 - val_f1_41: 0.0000e+00 - val_f1_42: 0.4030 - val_f1_43: 0.0000e+00 - val_f1_44: 0.9313\n",
            "Epoch 2/40\n",
            "16/16 [==============================] - 65s 4s/step - loss: 0.0720 - accuracy: 0.9813 - f1: 0.3632 - f1_1: 0.6119 - f1_3: 0.0410 - f1_4: 0.9407 - f1_5: 0.8165 - f1_6: 0.0000e+00 - f1_7: 0.0000e+00 - f1_8: 0.0000e+00 - f1_9: 0.1434 - f1_10: 0.9116 - f1_12: 0.0000e+00 - f1_13: 0.0000e+00 - f1_14: 0.5456 - f1_15: 0.9940 - f1_16: 0.0000e+00 - f1_17: 0.0000e+00 - f1_18: 0.0000e+00 - f1_20: 0.0000e+00 - f1_21: 0.0000e+00 - f1_22: 0.0000e+00 - f1_23: 0.0000e+00 - f1_24: 0.7844 - f1_25: 0.8079 - f1_27: 0.0000e+00 - f1_28: 0.6802 - f1_29: 0.8197 - f1_30: 0.8344 - f1_31: 0.3121 - f1_32: 0.9987 - f1_33: 0.0000e+00 - f1_34: 0.0000e+00 - f1_35: 0.7254 - f1_36: 0.0000e+00 - f1_37: 0.8203 - f1_38: 0.0000e+00 - f1_39: 0.7000 - f1_40: 0.7708 - f1_41: 0.0000e+00 - f1_42: 0.3543 - f1_43: 0.0000e+00 - f1_44: 0.9160 - val_loss: 0.0762 - val_accuracy: 0.9798 - val_f1: 0.3595 - val_f1_1: 0.5825 - val_f1_3: 0.0991 - val_f1_4: 0.9429 - val_f1_5: 0.8211 - val_f1_6: 0.0000e+00 - val_f1_7: 0.0000e+00 - val_f1_8: 0.0000e+00 - val_f1_9: 0.1472 - val_f1_10: 0.9144 - val_f1_12: 0.0000e+00 - val_f1_13: 0.0000e+00 - val_f1_14: 0.5470 - val_f1_15: 0.9971 - val_f1_16: 0.0000e+00 - val_f1_17: 0.0000e+00 - val_f1_18: 0.0000e+00 - val_f1_20: 0.0000e+00 - val_f1_21: 0.0000e+00 - val_f1_22: 0.0000e+00 - val_f1_23: 0.0000e+00 - val_f1_24: 0.7481 - val_f1_25: 0.8064 - val_f1_27: 0.0000e+00 - val_f1_28: 0.6319 - val_f1_29: 0.8220 - val_f1_30: 0.8178 - val_f1_31: 0.2742 - val_f1_32: 1.0000 - val_f1_33: 0.0000e+00 - val_f1_34: 0.0000e+00 - val_f1_35: 0.7452 - val_f1_36: 0.0000e+00 - val_f1_37: 0.7652 - val_f1_38: 0.0000e+00 - val_f1_39: 0.5626 - val_f1_40: 0.7609 - val_f1_41: 0.0000e+00 - val_f1_42: 0.4662 - val_f1_43: 0.0000e+00 - val_f1_44: 0.9300\n",
            "Epoch 3/40\n",
            "16/16 [==============================] - 65s 4s/step - loss: 0.0682 - accuracy: 0.9823 - f1: 0.3772 - f1_1: 0.6861 - f1_3: 0.0943 - f1_4: 0.9441 - f1_5: 0.8371 - f1_6: 0.0000e+00 - f1_7: 0.0000e+00 - f1_8: 0.0000e+00 - f1_9: 0.1756 - f1_10: 0.9100 - f1_12: 0.0000e+00 - f1_13: 0.0000e+00 - f1_14: 0.5760 - f1_15: 0.9941 - f1_16: 0.0000e+00 - f1_17: 0.0000e+00 - f1_18: 0.0000e+00 - f1_20: 0.0000e+00 - f1_21: 0.0000e+00 - f1_22: 0.0000e+00 - f1_23: 0.0000e+00 - f1_24: 0.7966 - f1_25: 0.8416 - f1_27: 0.0000e+00 - f1_28: 0.7102 - f1_29: 0.8284 - f1_30: 0.8554 - f1_31: 0.3872 - f1_32: 0.9986 - f1_33: 0.0000e+00 - f1_34: 0.0000e+00 - f1_35: 0.7418 - f1_36: 0.0000e+00 - f1_37: 0.8261 - f1_38: 0.0000e+00 - f1_39: 0.7204 - f1_40: 0.7928 - f1_41: 0.0000e+00 - f1_42: 0.4259 - f1_43: 0.0000e+00 - f1_44: 0.9445 - val_loss: 0.0728 - val_accuracy: 0.9807 - val_f1: 0.3750 - val_f1_1: 0.6601 - val_f1_3: 0.1943 - val_f1_4: 0.9435 - val_f1_5: 0.8233 - val_f1_6: 0.0000e+00 - val_f1_7: 0.0000e+00 - val_f1_8: 0.0000e+00 - val_f1_9: 0.1929 - val_f1_10: 0.9178 - val_f1_12: 0.0000e+00 - val_f1_13: 0.0000e+00 - val_f1_14: 0.5526 - val_f1_15: 0.9971 - val_f1_16: 0.0000e+00 - val_f1_17: 0.0000e+00 - val_f1_18: 0.0000e+00 - val_f1_20: 0.0000e+00 - val_f1_21: 0.0000e+00 - val_f1_22: 0.0000e+00 - val_f1_23: 0.0000e+00 - val_f1_24: 0.7578 - val_f1_25: 0.8779 - val_f1_27: 0.0000e+00 - val_f1_28: 0.7076 - val_f1_29: 0.8261 - val_f1_30: 0.8566 - val_f1_31: 0.2789 - val_f1_32: 1.0000 - val_f1_33: 0.0000e+00 - val_f1_34: 0.0000e+00 - val_f1_35: 0.7524 - val_f1_36: 0.0000e+00 - val_f1_37: 0.7741 - val_f1_38: 0.0000e+00 - val_f1_39: 0.6499 - val_f1_40: 0.7677 - val_f1_41: 0.0000e+00 - val_f1_42: 0.5368 - val_f1_43: 0.0000e+00 - val_f1_44: 0.9314\n",
            "Epoch 4/40\n",
            "16/16 [==============================] - 64s 4s/step - loss: 0.0652 - accuracy: 0.9831 - f1: 0.3877 - f1_1: 0.7577 - f1_3: 0.1842 - f1_4: 0.9456 - f1_5: 0.8371 - f1_6: 0.0000e+00 - f1_7: 0.0000e+00 - f1_8: 0.0000e+00 - f1_9: 0.2186 - f1_10: 0.9142 - f1_12: 0.0000e+00 - f1_13: 0.0000e+00 - f1_14: 0.5835 - f1_15: 0.9949 - f1_16: 0.0000e+00 - f1_17: 0.0000e+00 - f1_18: 0.0000e+00 - f1_20: 0.0000e+00 - f1_21: 0.0000e+00 - f1_22: 0.0000e+00 - f1_23: 0.0000e+00 - f1_24: 0.8002 - f1_25: 0.8775 - f1_27: 0.0000e+00 - f1_28: 0.7367 - f1_29: 0.8448 - f1_30: 0.8961 - f1_31: 0.3921 - f1_32: 0.9986 - f1_33: 0.0000e+00 - f1_34: 0.0000e+00 - f1_35: 0.7513 - f1_36: 0.0000e+00 - f1_37: 0.8324 - f1_38: 0.0000e+00 - f1_39: 0.7402 - f1_40: 0.8046 - f1_41: 0.0000e+00 - f1_42: 0.4668 - f1_43: 0.0000e+00 - f1_44: 0.9326 - val_loss: 0.0701 - val_accuracy: 0.9813 - val_f1: 0.3842 - val_f1_1: 0.6921 - val_f1_3: 0.2658 - val_f1_4: 0.9475 - val_f1_5: 0.8337 - val_f1_6: 0.0000e+00 - val_f1_7: 0.0000e+00 - val_f1_8: 0.0000e+00 - val_f1_9: 0.2462 - val_f1_10: 0.9227 - val_f1_12: 0.0000e+00 - val_f1_13: 0.0000e+00 - val_f1_14: 0.5774 - val_f1_15: 0.9971 - val_f1_16: 0.0000e+00 - val_f1_17: 0.0000e+00 - val_f1_18: 0.0000e+00 - val_f1_20: 0.0000e+00 - val_f1_21: 0.0000e+00 - val_f1_22: 0.0000e+00 - val_f1_23: 0.0000e+00 - val_f1_24: 0.7347 - val_f1_25: 0.9024 - val_f1_27: 0.0000e+00 - val_f1_28: 0.6934 - val_f1_29: 0.8451 - val_f1_30: 0.8805 - val_f1_31: 0.3097 - val_f1_32: 1.0000 - val_f1_33: 0.0000e+00 - val_f1_34: 0.0000e+00 - val_f1_35: 0.7582 - val_f1_36: 0.0000e+00 - val_f1_37: 0.7780 - val_f1_38: 0.0000e+00 - val_f1_39: 0.6941 - val_f1_40: 0.8113 - val_f1_41: 0.0000e+00 - val_f1_42: 0.5450 - val_f1_43: 0.0000e+00 - val_f1_44: 0.9314\n",
            "Epoch 5/40\n",
            "16/16 [==============================] - 63s 4s/step - loss: 0.0624 - accuracy: 0.9838 - f1: 0.3989 - f1_1: 0.7966 - f1_3: 0.2305 - f1_4: 0.9452 - f1_5: 0.8629 - f1_6: 0.0000e+00 - f1_7: 0.0000e+00 - f1_8: 0.0000e+00 - f1_9: 0.2819 - f1_10: 0.9171 - f1_12: 0.0000e+00 - f1_13: 0.0000e+00 - f1_14: 0.6154 - f1_15: 0.9879 - f1_16: 0.0000e+00 - f1_17: 0.0000e+00 - f1_18: 0.0000e+00 - f1_20: 0.0000e+00 - f1_21: 0.0000e+00 - f1_22: 0.0000e+00 - f1_23: 0.0000e+00 - f1_24: 0.8058 - f1_25: 0.9112 - f1_27: 0.0000e+00 - f1_28: 0.7521 - f1_29: 0.8470 - f1_30: 0.9122 - f1_31: 0.4805 - f1_32: 0.9986 - f1_33: 0.0000e+00 - f1_34: 0.0000e+00 - f1_35: 0.7615 - f1_36: 0.0000e+00 - f1_37: 0.8344 - f1_38: 0.0000e+00 - f1_39: 0.7591 - f1_40: 0.8194 - f1_41: 0.0000e+00 - f1_42: 0.5038 - f1_43: 0.0000e+00 - f1_44: 0.9324 - val_loss: 0.0673 - val_accuracy: 0.9818 - val_f1: 0.3952 - val_f1_1: 0.8041 - val_f1_3: 0.2793 - val_f1_4: 0.9486 - val_f1_5: 0.8541 - val_f1_6: 0.0000e+00 - val_f1_7: 0.0000e+00 - val_f1_8: 0.0000e+00 - val_f1_9: 0.2525 - val_f1_10: 0.9236 - val_f1_12: 0.0000e+00 - val_f1_13: 0.0000e+00 - val_f1_14: 0.5624 - val_f1_15: 0.9971 - val_f1_16: 0.0000e+00 - val_f1_17: 0.0000e+00 - val_f1_18: 0.0000e+00 - val_f1_20: 0.0000e+00 - val_f1_21: 0.0000e+00 - val_f1_22: 0.0000e+00 - val_f1_23: 0.0000e+00 - val_f1_24: 0.7747 - val_f1_25: 0.9168 - val_f1_27: 0.0000e+00 - val_f1_28: 0.7288 - val_f1_29: 0.8563 - val_f1_30: 0.8977 - val_f1_31: 0.4535 - val_f1_32: 1.0000 - val_f1_33: 0.0000e+00 - val_f1_34: 0.0000e+00 - val_f1_35: 0.7573 - val_f1_36: 0.0000e+00 - val_f1_37: 0.7815 - val_f1_38: 0.0000e+00 - val_f1_39: 0.6851 - val_f1_40: 0.8145 - val_f1_41: 0.0000e+00 - val_f1_42: 0.5883 - val_f1_43: 0.0000e+00 - val_f1_44: 0.9314\n",
            "Epoch 6/40\n",
            "16/16 [==============================] - 64s 4s/step - loss: 0.0599 - accuracy: 0.9844 - f1: 0.4066 - f1_1: 0.8421 - f1_3: 0.3062 - f1_4: 0.9453 - f1_5: 0.8799 - f1_6: 0.0000e+00 - f1_7: 0.0000e+00 - f1_8: 0.0000e+00 - f1_9: 0.3073 - f1_10: 0.9214 - f1_12: 0.0000e+00 - f1_13: 0.0000e+00 - f1_14: 0.6180 - f1_15: 0.9939 - f1_16: 0.0000e+00 - f1_17: 0.0000e+00 - f1_18: 0.0000e+00 - f1_20: 0.0000e+00 - f1_21: 0.0000e+00 - f1_22: 0.0000e+00 - f1_23: 0.0000e+00 - f1_24: 0.8117 - f1_25: 0.9195 - f1_27: 0.0000e+00 - f1_28: 0.7696 - f1_29: 0.8594 - f1_30: 0.9253 - f1_31: 0.5085 - f1_32: 0.9987 - f1_33: 0.0000e+00 - f1_34: 0.0000e+00 - f1_35: 0.7700 - f1_36: 0.0000e+00 - f1_37: 0.8385 - f1_38: 0.0000e+00 - f1_39: 0.7651 - f1_40: 0.8336 - f1_41: 0.0000e+00 - f1_42: 0.5100 - f1_43: 0.0000e+00 - f1_44: 0.9413 - val_loss: 0.0651 - val_accuracy: 0.9825 - val_f1: 0.4027 - val_f1_1: 0.8500 - val_f1_3: 0.3021 - val_f1_4: 0.9487 - val_f1_5: 0.8613 - val_f1_6: 0.0000e+00 - val_f1_7: 0.0000e+00 - val_f1_8: 0.0000e+00 - val_f1_9: 0.2560 - val_f1_10: 0.9250 - val_f1_12: 0.0000e+00 - val_f1_13: 0.0000e+00 - val_f1_14: 0.5541 - val_f1_15: 0.9971 - val_f1_16: 0.0000e+00 - val_f1_17: 0.0000e+00 - val_f1_18: 0.0000e+00 - val_f1_20: 0.0000e+00 - val_f1_21: 0.0000e+00 - val_f1_22: 0.0000e+00 - val_f1_23: 0.0000e+00 - val_f1_24: 0.7444 - val_f1_25: 0.9200 - val_f1_27: 0.0000e+00 - val_f1_28: 0.7470 - val_f1_29: 0.8735 - val_f1_30: 0.9002 - val_f1_31: 0.5473 - val_f1_32: 1.0000 - val_f1_33: 0.0222 - val_f1_34: 0.0000e+00 - val_f1_35: 0.7809 - val_f1_36: 0.0000e+00 - val_f1_37: 0.7890 - val_f1_38: 0.0000e+00 - val_f1_39: 0.7317 - val_f1_40: 0.8256 - val_f1_41: 0.0000e+00 - val_f1_42: 0.6006 - val_f1_43: 0.0000e+00 - val_f1_44: 0.9327\n",
            "Epoch 7/40\n",
            "16/16 [==============================] - 64s 4s/step - loss: 0.0577 - accuracy: 0.9849 - f1: 0.4157 - f1_1: 0.8681 - f1_3: 0.3558 - f1_4: 0.9485 - f1_5: 0.8873 - f1_6: 0.0000e+00 - f1_7: 0.0000e+00 - f1_8: 0.0000e+00 - f1_9: 0.3373 - f1_10: 0.9222 - f1_12: 0.0000e+00 - f1_13: 0.0000e+00 - f1_14: 0.6374 - f1_15: 0.9946 - f1_16: 0.0000e+00 - f1_17: 0.0000e+00 - f1_18: 0.0000e+00 - f1_20: 0.0000e+00 - f1_21: 0.0000e+00 - f1_22: 0.0000e+00 - f1_23: 0.0000e+00 - f1_24: 0.8115 - f1_25: 0.9218 - f1_27: 0.0000e+00 - f1_28: 0.7851 - f1_29: 0.8737 - f1_30: 0.9305 - f1_31: 0.5510 - f1_32: 0.9985 - f1_33: 0.0717 - f1_34: 0.0000e+00 - f1_35: 0.7770 - f1_36: 0.0000e+00 - f1_37: 0.8507 - f1_38: 0.0000e+00 - f1_39: 0.7799 - f1_40: 0.8431 - f1_41: 0.0000e+00 - f1_42: 0.5466 - f1_43: 0.0000e+00 - f1_44: 0.9354 - val_loss: 0.0632 - val_accuracy: 0.9830 - val_f1: 0.4107 - val_f1_1: 0.8629 - val_f1_3: 0.3113 - val_f1_4: 0.9500 - val_f1_5: 0.8752 - val_f1_6: 0.0000e+00 - val_f1_7: 0.0000e+00 - val_f1_8: 0.0000e+00 - val_f1_9: 0.3821 - val_f1_10: 0.9281 - val_f1_12: 0.0000e+00 - val_f1_13: 0.0000e+00 - val_f1_14: 0.5910 - val_f1_15: 0.9971 - val_f1_16: 0.0000e+00 - val_f1_17: 0.0000e+00 - val_f1_18: 0.0000e+00 - val_f1_20: 0.0000e+00 - val_f1_21: 0.0000e+00 - val_f1_22: 0.0000e+00 - val_f1_23: 0.0000e+00 - val_f1_24: 0.7876 - val_f1_25: 0.9438 - val_f1_27: 0.0000e+00 - val_f1_28: 0.7452 - val_f1_29: 0.8654 - val_f1_30: 0.8993 - val_f1_31: 0.5903 - val_f1_32: 1.0000 - val_f1_33: 0.0425 - val_f1_34: 0.0000e+00 - val_f1_35: 0.7479 - val_f1_36: 0.0000e+00 - val_f1_37: 0.8058 - val_f1_38: 0.0000e+00 - val_f1_39: 0.7282 - val_f1_40: 0.8281 - val_f1_41: 0.0000e+00 - val_f1_42: 0.6089 - val_f1_43: 0.0000e+00 - val_f1_44: 0.9355\n",
            "Epoch 8/40\n",
            "16/16 [==============================] - 64s 4s/step - loss: 0.0554 - accuracy: 0.9856 - f1: 0.4246 - f1_1: 0.8825 - f1_3: 0.3991 - f1_4: 0.9484 - f1_5: 0.8949 - f1_6: 0.0000e+00 - f1_7: 0.0000e+00 - f1_8: 0.0000e+00 - f1_9: 0.4094 - f1_10: 0.9225 - f1_12: 0.0000e+00 - f1_13: 0.0000e+00 - f1_14: 0.6416 - f1_15: 0.9920 - f1_16: 0.0000e+00 - f1_17: 0.0000e+00 - f1_18: 0.0000e+00 - f1_20: 0.0000e+00 - f1_21: 0.0000e+00 - f1_22: 0.0000e+00 - f1_23: 0.0000e+00 - f1_24: 0.8271 - f1_25: 0.9369 - f1_27: 0.0000e+00 - f1_28: 0.7846 - f1_29: 0.8773 - f1_30: 0.9334 - f1_31: 0.5895 - f1_32: 0.9976 - f1_33: 0.1416 - f1_34: 0.0000e+00 - f1_35: 0.7804 - f1_36: 0.0000e+00 - f1_37: 0.8661 - f1_38: 0.0000e+00 - f1_39: 0.7885 - f1_40: 0.8496 - f1_41: 0.0000e+00 - f1_42: 0.5792 - f1_43: 0.0000e+00 - f1_44: 0.9419 - val_loss: 0.0612 - val_accuracy: 0.9838 - val_f1: 0.4226 - val_f1_1: 0.8986 - val_f1_3: 0.3625 - val_f1_4: 0.9509 - val_f1_5: 0.8800 - val_f1_6: 0.0000e+00 - val_f1_7: 0.0000e+00 - val_f1_8: 0.0000e+00 - val_f1_9: 0.4363 - val_f1_10: 0.9302 - val_f1_12: 0.0000e+00 - val_f1_13: 0.0000e+00 - val_f1_14: 0.6195 - val_f1_15: 0.9971 - val_f1_16: 0.0000e+00 - val_f1_17: 0.0000e+00 - val_f1_18: 0.0000e+00 - val_f1_20: 0.0000e+00 - val_f1_21: 0.0000e+00 - val_f1_22: 0.0000e+00 - val_f1_23: 0.0000e+00 - val_f1_24: 0.7620 - val_f1_25: 0.9393 - val_f1_27: 0.0000e+00 - val_f1_28: 0.7761 - val_f1_29: 0.8735 - val_f1_30: 0.9109 - val_f1_31: 0.4518 - val_f1_32: 1.0000 - val_f1_33: 0.3745 - val_f1_34: 0.0000e+00 - val_f1_35: 0.7850 - val_f1_36: 0.0000e+00 - val_f1_37: 0.8104 - val_f1_38: 0.0000e+00 - val_f1_39: 0.7510 - val_f1_40: 0.8201 - val_f1_41: 0.0000e+00 - val_f1_42: 0.6190 - val_f1_43: 0.0000e+00 - val_f1_44: 0.9562\n",
            "Epoch 9/40\n",
            "16/16 [==============================] - 64s 4s/step - loss: 0.0537 - accuracy: 0.9859 - f1: 0.4361 - f1_1: 0.9014 - f1_3: 0.4332 - f1_4: 0.9515 - f1_5: 0.9007 - f1_6: 0.0000e+00 - f1_7: 0.0000e+00 - f1_8: 0.0000e+00 - f1_9: 0.4528 - f1_10: 0.9268 - f1_12: 0.0000e+00 - f1_13: 0.0000e+00 - f1_14: 0.6622 - f1_15: 0.9946 - f1_16: 0.0000e+00 - f1_17: 0.0000e+00 - f1_18: 0.0000e+00 - f1_20: 0.0000e+00 - f1_21: 0.0000e+00 - f1_22: 0.0000e+00 - f1_23: 0.0000e+00 - f1_24: 0.8221 - f1_25: 0.9477 - f1_27: 0.0000e+00 - f1_28: 0.7958 - f1_29: 0.8875 - f1_30: 0.9461 - f1_31: 0.5771 - f1_32: 0.9986 - f1_33: 0.3469 - f1_34: 0.0000e+00 - f1_35: 0.7991 - f1_36: 0.0000e+00 - f1_37: 0.8685 - f1_38: 0.0000e+00 - f1_39: 0.7971 - f1_40: 0.8622 - f1_41: 0.0000e+00 - f1_42: 0.6198 - f1_43: 0.0000e+00 - f1_44: 0.9537 - val_loss: 0.0596 - val_accuracy: 0.9840 - val_f1: 0.4287 - val_f1_1: 0.9002 - val_f1_3: 0.3883 - val_f1_4: 0.9509 - val_f1_5: 0.8813 - val_f1_6: 0.0000e+00 - val_f1_7: 0.0000e+00 - val_f1_8: 0.0000e+00 - val_f1_9: 0.4857 - val_f1_10: 0.9330 - val_f1_12: 0.0000e+00 - val_f1_13: 0.0000e+00 - val_f1_14: 0.6357 - val_f1_15: 0.9971 - val_f1_16: 0.0000e+00 - val_f1_17: 0.0000e+00 - val_f1_18: 0.0000e+00 - val_f1_20: 0.0000e+00 - val_f1_21: 0.0000e+00 - val_f1_22: 0.0000e+00 - val_f1_23: 0.0000e+00 - val_f1_24: 0.7907 - val_f1_25: 0.9565 - val_f1_27: 0.0000e+00 - val_f1_28: 0.7717 - val_f1_29: 0.8717 - val_f1_30: 0.9099 - val_f1_31: 0.5271 - val_f1_32: 1.0000 - val_f1_33: 0.3720 - val_f1_34: 0.0000e+00 - val_f1_35: 0.7840 - val_f1_36: 0.0000e+00 - val_f1_37: 0.8337 - val_f1_38: 0.0000e+00 - val_f1_39: 0.7376 - val_f1_40: 0.8373 - val_f1_41: 0.0000e+00 - val_f1_42: 0.6228 - val_f1_43: 0.0000e+00 - val_f1_44: 0.9611\n",
            "Epoch 10/40\n",
            "16/16 [==============================] - 64s 4s/step - loss: 0.0518 - accuracy: 0.9863 - f1: 0.4438 - f1_1: 0.9086 - f1_3: 0.4719 - f1_4: 0.9508 - f1_5: 0.9013 - f1_6: 0.0000e+00 - f1_7: 0.0000e+00 - f1_8: 0.0000e+00 - f1_9: 0.5010 - f1_10: 0.9284 - f1_12: 0.0000e+00 - f1_13: 0.0000e+00 - f1_14: 0.6733 - f1_15: 0.9954 - f1_16: 0.0000e+00 - f1_17: 0.0000e+00 - f1_18: 0.0000e+00 - f1_20: 0.0000e+00 - f1_21: 0.0000e+00 - f1_22: 0.0000e+00 - f1_23: 0.0000e+00 - f1_24: 0.8349 - f1_25: 0.9547 - f1_27: 0.0000e+00 - f1_28: 0.8015 - f1_29: 0.8923 - f1_30: 0.9504 - f1_31: 0.6189 - f1_32: 0.9984 - f1_33: 0.4583 - f1_34: 0.0000e+00 - f1_35: 0.8001 - f1_36: 0.0000e+00 - f1_37: 0.8886 - f1_38: 0.0000e+00 - f1_39: 0.7996 - f1_40: 0.8604 - f1_41: 0.0000e+00 - f1_42: 0.6079 - f1_43: 0.0000e+00 - f1_44: 0.9564 - val_loss: 0.0579 - val_accuracy: 0.9845 - val_f1: 0.4388 - val_f1_1: 0.9120 - val_f1_3: 0.4238 - val_f1_4: 0.9512 - val_f1_5: 0.8875 - val_f1_6: 0.0000e+00 - val_f1_7: 0.0000e+00 - val_f1_8: 0.0000e+00 - val_f1_9: 0.4970 - val_f1_10: 0.9349 - val_f1_12: 0.0000e+00 - val_f1_13: 0.0000e+00 - val_f1_14: 0.6293 - val_f1_15: 0.9971 - val_f1_16: 0.0000e+00 - val_f1_17: 0.0000e+00 - val_f1_18: 0.0000e+00 - val_f1_20: 0.0000e+00 - val_f1_21: 0.0000e+00 - val_f1_22: 0.0000e+00 - val_f1_23: 0.0000e+00 - val_f1_24: 0.7871 - val_f1_25: 0.9595 - val_f1_27: 0.0000e+00 - val_f1_28: 0.7965 - val_f1_29: 0.8857 - val_f1_30: 0.9199 - val_f1_31: 0.5421 - val_f1_32: 1.0000 - val_f1_33: 0.5672 - val_f1_34: 0.0000e+00 - val_f1_35: 0.7819 - val_f1_36: 0.0000e+00 - val_f1_37: 0.8398 - val_f1_38: 0.0000e+00 - val_f1_39: 0.7550 - val_f1_40: 0.8413 - val_f1_41: 0.0000e+00 - val_f1_42: 0.6773 - val_f1_43: 0.0000e+00 - val_f1_44: 0.9669\n",
            "Epoch 11/40\n",
            "16/16 [==============================] - 64s 4s/step - loss: 0.0502 - accuracy: 0.9867 - f1: 0.4533 - f1_1: 0.9130 - f1_3: 0.4925 - f1_4: 0.9525 - f1_5: 0.9116 - f1_6: 0.0000e+00 - f1_7: 0.0000e+00 - f1_8: 0.0000e+00 - f1_9: 0.5155 - f1_10: 0.9321 - f1_12: 0.0000e+00 - f1_13: 0.0000e+00 - f1_14: 0.6747 - f1_15: 0.9944 - f1_16: 0.0000e+00 - f1_17: 0.0000e+00 - f1_18: 0.0000e+00 - f1_20: 0.0000e+00 - f1_21: 0.0000e+00 - f1_22: 0.0000e+00 - f1_23: 0.0000e+00 - f1_24: 0.8373 - f1_25: 0.9586 - f1_27: 0.0417 - f1_28: 0.8135 - f1_29: 0.8982 - f1_30: 0.9557 - f1_31: 0.6321 - f1_32: 0.9987 - f1_33: 0.6178 - f1_34: 0.0000e+00 - f1_35: 0.8065 - f1_36: 0.0000e+00 - f1_37: 0.8944 - f1_38: 0.0000e+00 - f1_39: 0.8148 - f1_40: 0.8690 - f1_41: 0.0000e+00 - f1_42: 0.6454 - f1_43: 0.0000e+00 - f1_44: 0.9618 - val_loss: 0.0567 - val_accuracy: 0.9846 - val_f1: 0.4446 - val_f1_1: 0.9373 - val_f1_3: 0.5134 - val_f1_4: 0.9553 - val_f1_5: 0.8903 - val_f1_6: 0.0000e+00 - val_f1_7: 0.0000e+00 - val_f1_8: 0.0000e+00 - val_f1_9: 0.5280 - val_f1_10: 0.9293 - val_f1_12: 0.0000e+00 - val_f1_13: 0.0000e+00 - val_f1_14: 0.6182 - val_f1_15: 0.9971 - val_f1_16: 0.0000e+00 - val_f1_17: 0.0000e+00 - val_f1_18: 0.0000e+00 - val_f1_20: 0.0000e+00 - val_f1_21: 0.0000e+00 - val_f1_22: 0.0000e+00 - val_f1_23: 0.0000e+00 - val_f1_24: 0.7962 - val_f1_25: 0.9618 - val_f1_27: 0.0139 - val_f1_28: 0.7925 - val_f1_29: 0.8820 - val_f1_30: 0.9547 - val_f1_31: 0.5806 - val_f1_32: 1.0000 - val_f1_33: 0.5665 - val_f1_34: 0.0000e+00 - val_f1_35: 0.7917 - val_f1_36: 0.0000e+00 - val_f1_37: 0.8555 - val_f1_38: 0.0000e+00 - val_f1_39: 0.7390 - val_f1_40: 0.8460 - val_f1_41: 0.0000e+00 - val_f1_42: 0.6638 - val_f1_43: 0.0000e+00 - val_f1_44: 0.9703\n",
            "Epoch 12/40\n",
            "16/16 [==============================] - 64s 4s/step - loss: 0.0487 - accuracy: 0.9871 - f1: 0.4607 - f1_1: 0.9379 - f1_3: 0.5385 - f1_4: 0.9536 - f1_5: 0.9130 - f1_6: 0.0000e+00 - f1_7: 0.0000e+00 - f1_8: 0.0000e+00 - f1_9: 0.5388 - f1_10: 0.9345 - f1_12: 0.0000e+00 - f1_13: 0.0000e+00 - f1_14: 0.6886 - f1_15: 0.9956 - f1_16: 0.0000e+00 - f1_17: 0.0000e+00 - f1_18: 0.0000e+00 - f1_20: 0.0000e+00 - f1_21: 0.0000e+00 - f1_22: 0.0000e+00 - f1_23: 0.0000e+00 - f1_24: 0.8414 - f1_25: 0.9689 - f1_27: 0.1714 - f1_28: 0.8208 - f1_29: 0.8991 - f1_30: 0.9558 - f1_31: 0.6315 - f1_32: 0.9987 - f1_33: 0.6090 - f1_34: 0.0000e+00 - f1_35: 0.8086 - f1_36: 0.0000e+00 - f1_37: 0.9047 - f1_38: 0.0000e+00 - f1_39: 0.8153 - f1_40: 0.8738 - f1_41: 0.0000e+00 - f1_42: 0.6511 - f1_43: 0.0000e+00 - f1_44: 0.9756 - val_loss: 0.0555 - val_accuracy: 0.9850 - val_f1: 0.4523 - val_f1_1: 0.9311 - val_f1_3: 0.5287 - val_f1_4: 0.9554 - val_f1_5: 0.8932 - val_f1_6: 0.0000e+00 - val_f1_7: 0.0000e+00 - val_f1_8: 0.0000e+00 - val_f1_9: 0.5394 - val_f1_10: 0.9374 - val_f1_12: 0.0000e+00 - val_f1_13: 0.0000e+00 - val_f1_14: 0.6307 - val_f1_15: 0.9971 - val_f1_16: 0.0000e+00 - val_f1_17: 0.0000e+00 - val_f1_18: 0.0000e+00 - val_f1_20: 0.0000e+00 - val_f1_21: 0.0000e+00 - val_f1_22: 0.0000e+00 - val_f1_23: 0.0000e+00 - val_f1_24: 0.8001 - val_f1_25: 0.9646 - val_f1_27: 0.0298 - val_f1_28: 0.8082 - val_f1_29: 0.8904 - val_f1_30: 0.9590 - val_f1_31: 0.6064 - val_f1_32: 1.0000 - val_f1_33: 0.6912 - val_f1_34: 0.0000e+00 - val_f1_35: 0.7664 - val_f1_36: 0.0000e+00 - val_f1_37: 0.8866 - val_f1_38: 0.0000e+00 - val_f1_39: 0.7717 - val_f1_40: 0.8526 - val_f1_41: 0.0000e+00 - val_f1_42: 0.6813 - val_f1_43: 0.0000e+00 - val_f1_44: 0.9725\n",
            "Epoch 13/40\n",
            "16/16 [==============================] - 64s 4s/step - loss: 0.0475 - accuracy: 0.9874 - f1: 0.4674 - f1_1: 0.9337 - f1_3: 0.5288 - f1_4: 0.9536 - f1_5: 0.9142 - f1_6: 0.0000e+00 - f1_7: 0.0000e+00 - f1_8: 0.0000e+00 - f1_9: 0.5657 - f1_10: 0.9392 - f1_12: 0.0000e+00 - f1_13: 0.0000e+00 - f1_14: 0.6905 - f1_15: 0.9940 - f1_16: 0.0000e+00 - f1_17: 0.0000e+00 - f1_18: 0.0000e+00 - f1_20: 0.0000e+00 - f1_21: 0.0000e+00 - f1_22: 0.0000e+00 - f1_23: 0.0000e+00 - f1_24: 0.8454 - f1_25: 0.9718 - f1_27: 0.1830 - f1_28: 0.8247 - f1_29: 0.9029 - f1_30: 0.9632 - f1_31: 0.6611 - f1_32: 0.9986 - f1_33: 0.7273 - f1_34: 0.0000e+00 - f1_35: 0.8130 - f1_36: 0.0000e+00 - f1_37: 0.9244 - f1_38: 0.0000e+00 - f1_39: 0.8214 - f1_40: 0.8747 - f1_41: 0.0000e+00 - f1_42: 0.6853 - f1_43: 0.0000e+00 - f1_44: 0.9778 - val_loss: 0.0545 - val_accuracy: 0.9851 - val_f1: 0.4553 - val_f1_1: 0.9400 - val_f1_3: 0.5318 - val_f1_4: 0.9576 - val_f1_5: 0.9003 - val_f1_6: 0.0000e+00 - val_f1_7: 0.0000e+00 - val_f1_8: 0.0000e+00 - val_f1_9: 0.5931 - val_f1_10: 0.9360 - val_f1_12: 0.0000e+00 - val_f1_13: 0.0000e+00 - val_f1_14: 0.6413 - val_f1_15: 0.9971 - val_f1_16: 0.0000e+00 - val_f1_17: 0.0000e+00 - val_f1_18: 0.0000e+00 - val_f1_20: 0.0000e+00 - val_f1_21: 0.0000e+00 - val_f1_22: 0.0000e+00 - val_f1_23: 0.0000e+00 - val_f1_24: 0.8016 - val_f1_25: 0.9654 - val_f1_27: 0.0473 - val_f1_28: 0.8096 - val_f1_29: 0.8916 - val_f1_30: 0.9628 - val_f1_31: 0.6015 - val_f1_32: 1.0000 - val_f1_33: 0.7196 - val_f1_34: 0.0000e+00 - val_f1_35: 0.7576 - val_f1_36: 0.0000e+00 - val_f1_37: 0.8686 - val_f1_38: 0.0000e+00 - val_f1_39: 0.7740 - val_f1_40: 0.8522 - val_f1_41: 0.0000e+00 - val_f1_42: 0.6902 - val_f1_43: 0.0000e+00 - val_f1_44: 0.9713\n",
            "Epoch 14/40\n",
            "16/16 [==============================] - 64s 4s/step - loss: 0.0463 - accuracy: 0.9875 - f1: 0.4755 - f1_1: 0.9390 - f1_3: 0.5607 - f1_4: 0.9550 - f1_5: 0.9219 - f1_6: 0.0000e+00 - f1_7: 0.0000e+00 - f1_8: 0.0000e+00 - f1_9: 0.5903 - f1_10: 0.9409 - f1_12: 0.0000e+00 - f1_13: 0.0000e+00 - f1_14: 0.7048 - f1_15: 0.9934 - f1_16: 0.0000e+00 - f1_17: 0.0000e+00 - f1_18: 0.0000e+00 - f1_20: 0.0000e+00 - f1_21: 0.0000e+00 - f1_22: 0.0000e+00 - f1_23: 0.0000e+00 - f1_24: 0.8478 - f1_25: 0.9679 - f1_27: 0.3287 - f1_28: 0.8322 - f1_29: 0.8995 - f1_30: 0.9647 - f1_31: 0.6756 - f1_32: 0.9986 - f1_33: 0.7170 - f1_34: 0.0000e+00 - f1_35: 0.8076 - f1_36: 0.0431 - f1_37: 0.9385 - f1_38: 0.0000e+00 - f1_39: 0.8240 - f1_40: 0.8862 - f1_41: 0.0000e+00 - f1_42: 0.7004 - f1_43: 0.0000e+00 - f1_44: 0.9821 - val_loss: 0.0532 - val_accuracy: 0.9853 - val_f1: 0.4603 - val_f1_1: 0.9438 - val_f1_3: 0.5491 - val_f1_4: 0.9576 - val_f1_5: 0.8949 - val_f1_6: 0.0000e+00 - val_f1_7: 0.0000e+00 - val_f1_8: 0.0000e+00 - val_f1_9: 0.6042 - val_f1_10: 0.9371 - val_f1_12: 0.0000e+00 - val_f1_13: 0.0000e+00 - val_f1_14: 0.5793 - val_f1_15: 0.9971 - val_f1_16: 0.0000e+00 - val_f1_17: 0.0000e+00 - val_f1_18: 0.0000e+00 - val_f1_20: 0.0000e+00 - val_f1_21: 0.0000e+00 - val_f1_22: 0.0000e+00 - val_f1_23: 0.0000e+00 - val_f1_24: 0.8024 - val_f1_25: 0.9688 - val_f1_27: 0.0711 - val_f1_28: 0.8257 - val_f1_29: 0.8919 - val_f1_30: 0.9541 - val_f1_31: 0.6258 - val_f1_32: 1.0000 - val_f1_33: 0.8223 - val_f1_34: 0.0000e+00 - val_f1_35: 0.8018 - val_f1_36: 0.0333 - val_f1_37: 0.8812 - val_f1_38: 0.0000e+00 - val_f1_39: 0.7803 - val_f1_40: 0.8448 - val_f1_41: 0.0000e+00 - val_f1_42: 0.6710 - val_f1_43: 0.0000e+00 - val_f1_44: 0.9739\n",
            "Epoch 15/40\n",
            "16/16 [==============================] - 65s 4s/step - loss: 0.0451 - accuracy: 0.9879 - f1: 0.4825 - f1_1: 0.9432 - f1_3: 0.5745 - f1_4: 0.9565 - f1_5: 0.9237 - f1_6: 0.0000e+00 - f1_7: 0.0000e+00 - f1_8: 0.0000e+00 - f1_9: 0.6004 - f1_10: 0.9415 - f1_12: 0.0000e+00 - f1_13: 0.0000e+00 - f1_14: 0.6984 - f1_15: 0.9944 - f1_16: 0.0000e+00 - f1_17: 0.0000e+00 - f1_18: 0.0000e+00 - f1_20: 0.0000e+00 - f1_21: 0.0000e+00 - f1_22: 0.0000e+00 - f1_23: 0.0000e+00 - f1_24: 0.8501 - f1_25: 0.9747 - f1_27: 0.3872 - f1_28: 0.8341 - f1_29: 0.9097 - f1_30: 0.9648 - f1_31: 0.6763 - f1_32: 0.9985 - f1_33: 0.7722 - f1_34: 0.0000e+00 - f1_35: 0.8207 - f1_36: 0.1470 - f1_37: 0.9328 - f1_38: 0.0000e+00 - f1_39: 0.8344 - f1_40: 0.8851 - f1_41: 0.0000e+00 - f1_42: 0.6903 - f1_43: 0.0000e+00 - f1_44: 0.9893 - val_loss: 0.0519 - val_accuracy: 0.9858 - val_f1: 0.4699 - val_f1_1: 0.9503 - val_f1_3: 0.5722 - val_f1_4: 0.9592 - val_f1_5: 0.8971 - val_f1_6: 0.0000e+00 - val_f1_7: 0.0000e+00 - val_f1_8: 0.0000e+00 - val_f1_9: 0.5733 - val_f1_10: 0.9433 - val_f1_12: 0.0000e+00 - val_f1_13: 0.0000e+00 - val_f1_14: 0.6161 - val_f1_15: 0.9971 - val_f1_16: 0.0000e+00 - val_f1_17: 0.0000e+00 - val_f1_18: 0.0000e+00 - val_f1_20: 0.0000e+00 - val_f1_21: 0.0000e+00 - val_f1_22: 0.0000e+00 - val_f1_23: 0.0000e+00 - val_f1_24: 0.8117 - val_f1_25: 0.9688 - val_f1_27: 0.3102 - val_f1_28: 0.8248 - val_f1_29: 0.8956 - val_f1_30: 0.9630 - val_f1_31: 0.6207 - val_f1_32: 1.0000 - val_f1_33: 0.8029 - val_f1_34: 0.0000e+00 - val_f1_35: 0.7907 - val_f1_36: 0.0333 - val_f1_37: 0.9480 - val_f1_38: 0.0000e+00 - val_f1_39: 0.7876 - val_f1_40: 0.8535 - val_f1_41: 0.0000e+00 - val_f1_42: 0.7007 - val_f1_43: 0.0000e+00 - val_f1_44: 0.9739\n",
            "Epoch 16/40\n",
            "16/16 [==============================] - 65s 4s/step - loss: 0.0440 - accuracy: 0.9881 - f1: 0.4890 - f1_1: 0.9558 - f1_3: 0.6018 - f1_4: 0.9586 - f1_5: 0.9221 - f1_6: 0.0000e+00 - f1_7: 0.0000e+00 - f1_8: 0.0000e+00 - f1_9: 0.6403 - f1_10: 0.9442 - f1_12: 0.0000e+00 - f1_13: 0.0000e+00 - f1_14: 0.7065 - f1_15: 0.9940 - f1_16: 0.0000e+00 - f1_17: 0.0000e+00 - f1_18: 0.0000e+00 - f1_20: 0.0000e+00 - f1_21: 0.0000e+00 - f1_22: 0.0000e+00 - f1_23: 0.0000e+00 - f1_24: 0.8497 - f1_25: 0.9766 - f1_27: 0.5011 - f1_28: 0.8455 - f1_29: 0.9082 - f1_30: 0.9675 - f1_31: 0.6883 - f1_32: 0.9985 - f1_33: 0.7884 - f1_34: 0.0000e+00 - f1_35: 0.8245 - f1_36: 0.1094 - f1_37: 0.9513 - f1_38: 0.0000e+00 - f1_39: 0.8383 - f1_40: 0.8889 - f1_41: 0.0000e+00 - f1_42: 0.7086 - f1_43: 0.0000e+00 - f1_44: 0.9908 - val_loss: 0.0510 - val_accuracy: 0.9859 - val_f1: 0.4737 - val_f1_1: 0.9455 - val_f1_3: 0.5895 - val_f1_4: 0.9602 - val_f1_5: 0.8952 - val_f1_6: 0.0000e+00 - val_f1_7: 0.0000e+00 - val_f1_8: 0.0000e+00 - val_f1_9: 0.6092 - val_f1_10: 0.9444 - val_f1_12: 0.0000e+00 - val_f1_13: 0.0000e+00 - val_f1_14: 0.6612 - val_f1_15: 0.9971 - val_f1_16: 0.0000e+00 - val_f1_17: 0.0000e+00 - val_f1_18: 0.0000e+00 - val_f1_20: 0.0000e+00 - val_f1_21: 0.0000e+00 - val_f1_22: 0.0000e+00 - val_f1_23: 0.0000e+00 - val_f1_24: 0.8126 - val_f1_25: 0.9758 - val_f1_27: 0.3380 - val_f1_28: 0.8170 - val_f1_29: 0.8986 - val_f1_30: 0.9662 - val_f1_31: 0.6227 - val_f1_32: 1.0000 - val_f1_33: 0.8029 - val_f1_34: 0.0000e+00 - val_f1_35: 0.7911 - val_f1_36: 0.0590 - val_f1_37: 0.9213 - val_f1_38: 0.0000e+00 - val_f1_39: 0.7797 - val_f1_40: 0.8524 - val_f1_41: 0.0000e+00 - val_f1_42: 0.7157 - val_f1_43: 0.0000e+00 - val_f1_44: 0.9930\n",
            "Epoch 17/40\n",
            "16/16 [==============================] - 64s 4s/step - loss: 0.0426 - accuracy: 0.9885 - f1: 0.4969 - f1_1: 0.9574 - f1_3: 0.6129 - f1_4: 0.9597 - f1_5: 0.9255 - f1_6: 0.0000e+00 - f1_7: 0.0000e+00 - f1_8: 0.0000e+00 - f1_9: 0.6534 - f1_10: 0.9454 - f1_12: 0.0000e+00 - f1_13: 0.0000e+00 - f1_14: 0.7099 - f1_15: 0.9936 - f1_16: 0.0000e+00 - f1_17: 0.0000e+00 - f1_18: 0.0000e+00 - f1_20: 0.0000e+00 - f1_21: 0.0000e+00 - f1_22: 0.0000e+00 - f1_23: 0.0000e+00 - f1_24: 0.8583 - f1_25: 0.9776 - f1_27: 0.5611 - f1_28: 0.8526 - f1_29: 0.9102 - f1_30: 0.9726 - f1_31: 0.7034 - f1_32: 0.9984 - f1_33: 0.8241 - f1_34: 0.0000e+00 - f1_35: 0.8298 - f1_36: 0.2071 - f1_37: 0.9601 - f1_38: 0.0000e+00 - f1_39: 0.8425 - f1_40: 0.8921 - f1_41: 0.0000e+00 - f1_42: 0.7379 - f1_43: 0.0000e+00 - f1_44: 0.9910 - val_loss: 0.0503 - val_accuracy: 0.9860 - val_f1: 0.4776 - val_f1_1: 0.9492 - val_f1_3: 0.5283 - val_f1_4: 0.9614 - val_f1_5: 0.9033 - val_f1_6: 0.0000e+00 - val_f1_7: 0.0000e+00 - val_f1_8: 0.0000e+00 - val_f1_9: 0.6566 - val_f1_10: 0.9411 - val_f1_12: 0.0000e+00 - val_f1_13: 0.0000e+00 - val_f1_14: 0.6607 - val_f1_15: 0.9971 - val_f1_16: 0.0000e+00 - val_f1_17: 0.0000e+00 - val_f1_18: 0.0000e+00 - val_f1_20: 0.0000e+00 - val_f1_21: 0.0000e+00 - val_f1_22: 0.0000e+00 - val_f1_23: 0.0000e+00 - val_f1_24: 0.8090 - val_f1_25: 0.9812 - val_f1_27: 0.3776 - val_f1_28: 0.8219 - val_f1_29: 0.9047 - val_f1_30: 0.9658 - val_f1_31: 0.6591 - val_f1_32: 1.0000 - val_f1_33: 0.8343 - val_f1_34: 0.0000e+00 - val_f1_35: 0.8192 - val_f1_36: 0.1000 - val_f1_37: 0.9267 - val_f1_38: 0.0000e+00 - val_f1_39: 0.7772 - val_f1_40: 0.8507 - val_f1_41: 0.0000e+00 - val_f1_42: 0.6912 - val_f1_43: 0.0000e+00 - val_f1_44: 0.9891\n",
            "Epoch 18/40\n",
            "16/16 [==============================] - 65s 4s/step - loss: 0.0419 - accuracy: 0.9886 - f1: 0.5003 - f1_1: 0.9597 - f1_3: 0.5919 - f1_4: 0.9611 - f1_5: 0.9252 - f1_6: 0.0000e+00 - f1_7: 0.0000e+00 - f1_8: 0.0000e+00 - f1_9: 0.6518 - f1_10: 0.9496 - f1_12: 0.0000e+00 - f1_13: 0.0000e+00 - f1_14: 0.7227 - f1_15: 0.9937 - f1_16: 0.0000e+00 - f1_17: 0.0000e+00 - f1_18: 0.0000e+00 - f1_20: 0.0000e+00 - f1_21: 0.0000e+00 - f1_22: 0.0000e+00 - f1_23: 0.0000e+00 - f1_24: 0.8575 - f1_25: 0.9777 - f1_27: 0.6637 - f1_28: 0.8522 - f1_29: 0.9141 - f1_30: 0.9715 - f1_31: 0.7053 - f1_32: 0.9987 - f1_33: 0.8235 - f1_34: 0.0000e+00 - f1_35: 0.8321 - f1_36: 0.2257 - f1_37: 0.9607 - f1_38: 0.0000e+00 - f1_39: 0.8420 - f1_40: 0.8977 - f1_41: 0.0000e+00 - f1_42: 0.7418 - f1_43: 0.0000e+00 - f1_44: 0.9909 - val_loss: 0.0502 - val_accuracy: 0.9859 - val_f1: 0.4838 - val_f1_1: 0.9555 - val_f1_3: 0.6206 - val_f1_4: 0.9648 - val_f1_5: 0.9177 - val_f1_6: 0.0000e+00 - val_f1_7: 0.0000e+00 - val_f1_8: 0.0000e+00 - val_f1_9: 0.6110 - val_f1_10: 0.9472 - val_f1_12: 0.0000e+00 - val_f1_13: 0.0000e+00 - val_f1_14: 0.6380 - val_f1_15: 0.9971 - val_f1_16: 0.0000e+00 - val_f1_17: 0.0000e+00 - val_f1_18: 0.0000e+00 - val_f1_20: 0.0000e+00 - val_f1_21: 0.0000e+00 - val_f1_22: 0.0000e+00 - val_f1_23: 0.0000e+00 - val_f1_24: 0.8141 - val_f1_25: 0.9778 - val_f1_27: 0.4589 - val_f1_28: 0.8423 - val_f1_29: 0.8996 - val_f1_30: 0.9632 - val_f1_31: 0.6451 - val_f1_32: 1.0000 - val_f1_33: 0.8773 - val_f1_34: 0.0000e+00 - val_f1_35: 0.7688 - val_f1_36: 0.1418 - val_f1_37: 0.9531 - val_f1_38: 0.0000e+00 - val_f1_39: 0.7909 - val_f1_40: 0.8581 - val_f1_41: 0.0000e+00 - val_f1_42: 0.7154 - val_f1_43: 0.0000e+00 - val_f1_44: 0.9945\n",
            "Epoch 19/40\n",
            "16/16 [==============================] - 66s 4s/step - loss: 0.0411 - accuracy: 0.9888 - f1: 0.5031 - f1_1: 0.9662 - f1_3: 0.6269 - f1_4: 0.9621 - f1_5: 0.9316 - f1_6: 0.0000e+00 - f1_7: 0.0000e+00 - f1_8: 0.0000e+00 - f1_9: 0.6763 - f1_10: 0.9493 - f1_12: 0.0000e+00 - f1_13: 0.0000e+00 - f1_14: 0.7265 - f1_15: 0.9918 - f1_16: 0.0000e+00 - f1_17: 0.0282 - f1_18: 0.0000e+00 - f1_20: 0.0000e+00 - f1_21: 0.0000e+00 - f1_22: 0.0000e+00 - f1_23: 0.0000e+00 - f1_24: 0.8527 - f1_25: 0.9807 - f1_27: 0.5626 - f1_28: 0.8566 - f1_29: 0.9161 - f1_30: 0.9744 - f1_31: 0.7062 - f1_32: 0.9985 - f1_33: 0.8532 - f1_34: 0.0000e+00 - f1_35: 0.8322 - f1_36: 0.2686 - f1_37: 0.9675 - f1_38: 0.0000e+00 - f1_39: 0.8540 - f1_40: 0.9035 - f1_41: 0.0000e+00 - f1_42: 0.7440 - f1_43: 0.0000e+00 - f1_44: 0.9939 - val_loss: 0.0486 - val_accuracy: 0.9864 - val_f1: 0.4883 - val_f1_1: 0.9555 - val_f1_3: 0.6022 - val_f1_4: 0.9642 - val_f1_5: 0.9191 - val_f1_6: 0.0000e+00 - val_f1_7: 0.0000e+00 - val_f1_8: 0.0000e+00 - val_f1_9: 0.6619 - val_f1_10: 0.9494 - val_f1_12: 0.0000e+00 - val_f1_13: 0.0000e+00 - val_f1_14: 0.6855 - val_f1_15: 0.9971 - val_f1_16: 0.0000e+00 - val_f1_17: 0.0284 - val_f1_18: 0.0000e+00 - val_f1_20: 0.0000e+00 - val_f1_21: 0.0000e+00 - val_f1_22: 0.0000e+00 - val_f1_23: 0.0000e+00 - val_f1_24: 0.8107 - val_f1_25: 0.9826 - val_f1_27: 0.4421 - val_f1_28: 0.8185 - val_f1_29: 0.9077 - val_f1_30: 0.9658 - val_f1_31: 0.6602 - val_f1_32: 1.0000 - val_f1_33: 0.8758 - val_f1_34: 0.0000e+00 - val_f1_35: 0.8135 - val_f1_36: 0.1976 - val_f1_37: 0.9551 - val_f1_38: 0.0000e+00 - val_f1_39: 0.7773 - val_f1_40: 0.8553 - val_f1_41: 0.0000e+00 - val_f1_42: 0.7118 - val_f1_43: 0.0000e+00 - val_f1_44: 0.9945\n",
            "Epoch 20/40\n",
            "16/16 [==============================] - 65s 4s/step - loss: 0.0399 - accuracy: 0.9892 - f1: 0.5139 - f1_1: 0.9660 - f1_3: 0.6413 - f1_4: 0.9629 - f1_5: 0.9340 - f1_6: 0.0000e+00 - f1_7: 0.0000e+00 - f1_8: 0.0000e+00 - f1_9: 0.6957 - f1_10: 0.9508 - f1_12: 0.0000e+00 - f1_13: 0.0000e+00 - f1_14: 0.7297 - f1_15: 0.9944 - f1_16: 0.0000e+00 - f1_17: 0.0396 - f1_18: 0.0000e+00 - f1_20: 0.0000e+00 - f1_21: 0.0000e+00 - f1_22: 0.0000e+00 - f1_23: 0.0312 - f1_24: 0.8615 - f1_25: 0.9761 - f1_27: 0.7494 - f1_28: 0.8586 - f1_29: 0.9165 - f1_30: 0.9724 - f1_31: 0.7295 - f1_32: 0.9984 - f1_33: 0.8482 - f1_34: 0.0000e+00 - f1_35: 0.8393 - f1_36: 0.3946 - f1_37: 0.9691 - f1_38: 0.0000e+00 - f1_39: 0.8496 - f1_40: 0.9043 - f1_41: 0.0000e+00 - f1_42: 0.7506 - f1_43: 0.0000e+00 - f1_44: 0.9917 - val_loss: 0.0477 - val_accuracy: 0.9867 - val_f1: 0.4933 - val_f1_1: 0.9613 - val_f1_3: 0.5782 - val_f1_4: 0.9664 - val_f1_5: 0.9258 - val_f1_6: 0.0000e+00 - val_f1_7: 0.0000e+00 - val_f1_8: 0.0000e+00 - val_f1_9: 0.6463 - val_f1_10: 0.9493 - val_f1_12: 0.0000e+00 - val_f1_13: 0.0000e+00 - val_f1_14: 0.7017 - val_f1_15: 0.9971 - val_f1_16: 0.0000e+00 - val_f1_17: 0.0139 - val_f1_18: 0.0000e+00 - val_f1_20: 0.0000e+00 - val_f1_21: 0.0000e+00 - val_f1_22: 0.0000e+00 - val_f1_23: 0.0000e+00 - val_f1_24: 0.8161 - val_f1_25: 0.9826 - val_f1_27: 0.5937 - val_f1_28: 0.8213 - val_f1_29: 0.9092 - val_f1_30: 0.9685 - val_f1_31: 0.6606 - val_f1_32: 1.0000 - val_f1_33: 0.8999 - val_f1_34: 0.0000e+00 - val_f1_35: 0.8082 - val_f1_36: 0.1865 - val_f1_37: 0.9596 - val_f1_38: 0.0000e+00 - val_f1_39: 0.8019 - val_f1_40: 0.8598 - val_f1_41: 0.0000e+00 - val_f1_42: 0.7302 - val_f1_43: 0.0000e+00 - val_f1_44: 0.9945\n",
            "Epoch 21/40\n",
            "16/16 [==============================] - 64s 4s/step - loss: 0.0391 - accuracy: 0.9893 - f1: 0.5191 - f1_1: 0.9644 - f1_3: 0.6566 - f1_4: 0.9647 - f1_5: 0.9357 - f1_6: 0.0000e+00 - f1_7: 0.0000e+00 - f1_8: 0.0000e+00 - f1_9: 0.6950 - f1_10: 0.9545 - f1_12: 0.0000e+00 - f1_13: 0.0000e+00 - f1_14: 0.7382 - f1_15: 0.9946 - f1_16: 0.0000e+00 - f1_17: 0.0710 - f1_18: 0.0000e+00 - f1_20: 0.0000e+00 - f1_21: 0.0000e+00 - f1_22: 0.0000e+00 - f1_23: 0.0942 - f1_24: 0.8625 - f1_25: 0.9851 - f1_27: 0.7423 - f1_28: 0.8649 - f1_29: 0.9230 - f1_30: 0.9740 - f1_31: 0.7312 - f1_32: 0.9986 - f1_33: 0.8501 - f1_34: 0.0000e+00 - f1_35: 0.8382 - f1_36: 0.4167 - f1_37: 0.9725 - f1_38: 0.0000e+00 - f1_39: 0.8540 - f1_40: 0.9078 - f1_41: 0.0179 - f1_42: 0.7646 - f1_43: 0.0000e+00 - f1_44: 0.9938 - val_loss: 0.0480 - val_accuracy: 0.9863 - val_f1: 0.4950 - val_f1_1: 0.9666 - val_f1_3: 0.6014 - val_f1_4: 0.9662 - val_f1_5: 0.9088 - val_f1_6: 0.0000e+00 - val_f1_7: 0.0000e+00 - val_f1_8: 0.0000e+00 - val_f1_9: 0.6118 - val_f1_10: 0.9499 - val_f1_12: 0.0000e+00 - val_f1_13: 0.0000e+00 - val_f1_14: 0.6844 - val_f1_15: 0.9971 - val_f1_16: 0.0000e+00 - val_f1_17: 0.0139 - val_f1_18: 0.0000e+00 - val_f1_20: 0.0000e+00 - val_f1_21: 0.0000e+00 - val_f1_22: 0.0000e+00 - val_f1_23: 0.0417 - val_f1_24: 0.8088 - val_f1_25: 0.9796 - val_f1_27: 0.5988 - val_f1_28: 0.8254 - val_f1_29: 0.8979 - val_f1_30: 0.9688 - val_f1_31: 0.6765 - val_f1_32: 1.0000 - val_f1_33: 0.9076 - val_f1_34: 0.0000e+00 - val_f1_35: 0.7908 - val_f1_36: 0.2256 - val_f1_37: 0.9579 - val_f1_38: 0.0000e+00 - val_f1_39: 0.8023 - val_f1_40: 0.8600 - val_f1_41: 0.0372 - val_f1_42: 0.7254 - val_f1_43: 0.0000e+00 - val_f1_44: 0.9966\n",
            "Epoch 22/40\n",
            "16/16 [==============================] - 64s 4s/step - loss: 0.0387 - accuracy: 0.9894 - f1: 0.5271 - f1_1: 0.9750 - f1_3: 0.6483 - f1_4: 0.9655 - f1_5: 0.9351 - f1_6: 0.0000e+00 - f1_7: 0.0000e+00 - f1_8: 0.0000e+00 - f1_9: 0.7041 - f1_10: 0.9557 - f1_12: 0.0000e+00 - f1_13: 0.0000e+00 - f1_14: 0.7468 - f1_15: 0.9954 - f1_16: 0.0000e+00 - f1_17: 0.0526 - f1_18: 0.0000e+00 - f1_20: 0.0000e+00 - f1_21: 0.0000e+00 - f1_22: 0.0000e+00 - f1_23: 0.2604 - f1_24: 0.8582 - f1_25: 0.9782 - f1_27: 0.7675 - f1_28: 0.8682 - f1_29: 0.9222 - f1_30: 0.9754 - f1_31: 0.7306 - f1_32: 0.9985 - f1_33: 0.8906 - f1_34: 0.0000e+00 - f1_35: 0.8399 - f1_36: 0.4538 - f1_37: 0.9735 - f1_38: 0.0000e+00 - f1_39: 0.8604 - f1_40: 0.9052 - f1_41: 0.0647 - f1_42: 0.7643 - f1_43: 0.0000e+00 - f1_44: 0.9948 - val_loss: 0.0468 - val_accuracy: 0.9866 - val_f1: 0.5065 - val_f1_1: 0.9677 - val_f1_3: 0.6185 - val_f1_4: 0.9664 - val_f1_5: 0.9114 - val_f1_6: 0.0000e+00 - val_f1_7: 0.0000e+00 - val_f1_8: 0.0000e+00 - val_f1_9: 0.6799 - val_f1_10: 0.9474 - val_f1_12: 0.0000e+00 - val_f1_13: 0.0000e+00 - val_f1_14: 0.6565 - val_f1_15: 0.9971 - val_f1_16: 0.0000e+00 - val_f1_17: 0.0284 - val_f1_18: 0.0000e+00 - val_f1_20: 0.0000e+00 - val_f1_21: 0.0000e+00 - val_f1_22: 0.0000e+00 - val_f1_23: 0.2467 - val_f1_24: 0.8191 - val_f1_25: 0.9812 - val_f1_27: 0.5988 - val_f1_28: 0.8332 - val_f1_29: 0.9052 - val_f1_30: 0.9692 - val_f1_31: 0.6442 - val_f1_32: 1.0000 - val_f1_33: 0.9210 - val_f1_34: 0.0000e+00 - val_f1_35: 0.8209 - val_f1_36: 0.3613 - val_f1_37: 0.9607 - val_f1_38: 0.0000e+00 - val_f1_39: 0.8045 - val_f1_40: 0.8623 - val_f1_41: 0.0372 - val_f1_42: 0.7242 - val_f1_43: 0.0000e+00 - val_f1_44: 0.9966\n",
            "Epoch 23/40\n",
            "16/16 [==============================] - 64s 4s/step - loss: 0.0375 - accuracy: 0.9898 - f1: 0.5318 - f1_1: 0.9763 - f1_3: 0.6692 - f1_4: 0.9659 - f1_5: 0.9405 - f1_6: 0.0000e+00 - f1_7: 0.0000e+00 - f1_8: 0.0000e+00 - f1_9: 0.7135 - f1_10: 0.9564 - f1_12: 0.0000e+00 - f1_13: 0.0000e+00 - f1_14: 0.7465 - f1_15: 0.9851 - f1_16: 0.0000e+00 - f1_17: 0.0609 - f1_18: 0.0000e+00 - f1_20: 0.0000e+00 - f1_21: 0.0000e+00 - f1_22: 0.0000e+00 - f1_23: 0.2586 - f1_24: 0.8702 - f1_25: 0.9823 - f1_27: 0.7875 - f1_28: 0.8793 - f1_29: 0.9257 - f1_30: 0.9770 - f1_31: 0.7271 - f1_32: 0.9985 - f1_33: 0.9007 - f1_34: 0.0000e+00 - f1_35: 0.8450 - f1_36: 0.4809 - f1_37: 0.9756 - f1_38: 0.0000e+00 - f1_39: 0.8615 - f1_40: 0.9137 - f1_41: 0.0887 - f1_42: 0.7902 - f1_43: 0.0000e+00 - f1_44: 0.9960 - val_loss: 0.0459 - val_accuracy: 0.9870 - val_f1: 0.5095 - val_f1_1: 0.9643 - val_f1_3: 0.6275 - val_f1_4: 0.9682 - val_f1_5: 0.9132 - val_f1_6: 0.0000e+00 - val_f1_7: 0.0000e+00 - val_f1_8: 0.0000e+00 - val_f1_9: 0.6548 - val_f1_10: 0.9526 - val_f1_12: 0.0000e+00 - val_f1_13: 0.0000e+00 - val_f1_14: 0.6796 - val_f1_15: 0.9971 - val_f1_16: 0.0000e+00 - val_f1_17: 0.0284 - val_f1_18: 0.0000e+00 - val_f1_20: 0.0000e+00 - val_f1_21: 0.0000e+00 - val_f1_22: 0.0000e+00 - val_f1_23: 0.2967 - val_f1_24: 0.8167 - val_f1_25: 0.9812 - val_f1_27: 0.6178 - val_f1_28: 0.8567 - val_f1_29: 0.9060 - val_f1_30: 0.9710 - val_f1_31: 0.6304 - val_f1_32: 1.0000 - val_f1_33: 0.8966 - val_f1_34: 0.0000e+00 - val_f1_35: 0.8162 - val_f1_36: 0.3921 - val_f1_37: 0.9613 - val_f1_38: 0.0000e+00 - val_f1_39: 0.8079 - val_f1_40: 0.8657 - val_f1_41: 0.0372 - val_f1_42: 0.7444 - val_f1_43: 0.0000e+00 - val_f1_44: 0.9966\n",
            "Epoch 24/40\n",
            "16/16 [==============================] - 64s 4s/step - loss: 0.0368 - accuracy: 0.9900 - f1: 0.5386 - f1_1: 0.9761 - f1_3: 0.6746 - f1_4: 0.9690 - f1_5: 0.9380 - f1_6: 0.0000e+00 - f1_7: 0.0000e+00 - f1_8: 0.0000e+00 - f1_9: 0.7187 - f1_10: 0.9578 - f1_12: 0.0000e+00 - f1_13: 0.0000e+00 - f1_14: 0.7540 - f1_15: 0.9954 - f1_16: 0.0000e+00 - f1_17: 0.0908 - f1_18: 0.0000e+00 - f1_20: 0.0000e+00 - f1_21: 0.0000e+00 - f1_22: 0.0000e+00 - f1_23: 0.2973 - f1_24: 0.8663 - f1_25: 0.9824 - f1_27: 0.7840 - f1_28: 0.8694 - f1_29: 0.9246 - f1_30: 0.9770 - f1_31: 0.7395 - f1_32: 0.9988 - f1_33: 0.9031 - f1_34: 0.0000e+00 - f1_35: 0.8520 - f1_36: 0.4936 - f1_37: 0.9794 - f1_38: 0.0000e+00 - f1_39: 0.8668 - f1_40: 0.9147 - f1_41: 0.2562 - f1_42: 0.7656 - f1_43: 0.0000e+00 - f1_44: 0.9973 - val_loss: 0.0455 - val_accuracy: 0.9869 - val_f1: 0.5180 - val_f1_1: 0.9720 - val_f1_3: 0.6202 - val_f1_4: 0.9681 - val_f1_5: 0.9303 - val_f1_6: 0.0000e+00 - val_f1_7: 0.0000e+00 - val_f1_8: 0.0000e+00 - val_f1_9: 0.6853 - val_f1_10: 0.9505 - val_f1_12: 0.0000e+00 - val_f1_13: 0.0000e+00 - val_f1_14: 0.6778 - val_f1_15: 0.9971 - val_f1_16: 0.0000e+00 - val_f1_17: 0.0363 - val_f1_18: 0.0000e+00 - val_f1_20: 0.0000e+00 - val_f1_21: 0.0000e+00 - val_f1_22: 0.0000e+00 - val_f1_23: 0.4463 - val_f1_24: 0.8240 - val_f1_25: 0.9826 - val_f1_27: 0.6131 - val_f1_28: 0.8364 - val_f1_29: 0.9075 - val_f1_30: 0.9715 - val_f1_31: 0.6751 - val_f1_32: 1.0000 - val_f1_33: 0.9163 - val_f1_34: 0.0000e+00 - val_f1_35: 0.8223 - val_f1_36: 0.4058 - val_f1_37: 0.9596 - val_f1_38: 0.0000e+00 - val_f1_39: 0.8043 - val_f1_40: 0.8641 - val_f1_41: 0.1006 - val_f1_42: 0.7581 - val_f1_43: 0.0000e+00 - val_f1_44: 0.9945\n",
            "Epoch 25/40\n",
            "16/16 [==============================] - 64s 4s/step - loss: 0.0359 - accuracy: 0.9903 - f1: 0.5502 - f1_1: 0.9766 - f1_3: 0.6761 - f1_4: 0.9682 - f1_5: 0.9429 - f1_6: 0.0000e+00 - f1_7: 0.0000e+00 - f1_8: 0.0208 - f1_9: 0.7326 - f1_10: 0.9582 - f1_12: 0.0000e+00 - f1_13: 0.0000e+00 - f1_14: 0.7578 - f1_15: 0.9931 - f1_16: 0.0000e+00 - f1_17: 0.0981 - f1_18: 0.0000e+00 - f1_20: 0.0000e+00 - f1_21: 0.0000e+00 - f1_22: 0.0000e+00 - f1_23: 0.5113 - f1_24: 0.8747 - f1_25: 0.9865 - f1_27: 0.8000 - f1_28: 0.8763 - f1_29: 0.9368 - f1_30: 0.9778 - f1_31: 0.7344 - f1_32: 0.9985 - f1_33: 0.9309 - f1_34: 0.0000e+00 - f1_35: 0.8547 - f1_36: 0.5618 - f1_37: 0.9784 - f1_38: 0.0000e+00 - f1_39: 0.8641 - f1_40: 0.9134 - f1_41: 0.2943 - f1_42: 0.7911 - f1_43: 0.0000e+00 - f1_44: 0.9979 - val_loss: 0.0447 - val_accuracy: 0.9872 - val_f1: 0.5199 - val_f1_1: 0.9602 - val_f1_3: 0.6613 - val_f1_4: 0.9680 - val_f1_5: 0.9320 - val_f1_6: 0.0000e+00 - val_f1_7: 0.0000e+00 - val_f1_8: 0.0000e+00 - val_f1_9: 0.6756 - val_f1_10: 0.9576 - val_f1_12: 0.0000e+00 - val_f1_13: 0.0000e+00 - val_f1_14: 0.6890 - val_f1_15: 0.9971 - val_f1_16: 0.0000e+00 - val_f1_17: 0.0363 - val_f1_18: 0.0000e+00 - val_f1_20: 0.0000e+00 - val_f1_21: 0.0000e+00 - val_f1_22: 0.0000e+00 - val_f1_23: 0.4463 - val_f1_24: 0.8194 - val_f1_25: 0.9796 - val_f1_27: 0.6610 - val_f1_28: 0.8412 - val_f1_29: 0.9123 - val_f1_30: 0.9688 - val_f1_31: 0.6892 - val_f1_32: 1.0000 - val_f1_33: 0.8723 - val_f1_34: 0.0000e+00 - val_f1_35: 0.8185 - val_f1_36: 0.3892 - val_f1_37: 0.9625 - val_f1_38: 0.0000e+00 - val_f1_39: 0.8359 - val_f1_40: 0.8632 - val_f1_41: 0.0848 - val_f1_42: 0.7788 - val_f1_43: 0.0000e+00 - val_f1_44: 0.9945\n",
            "Epoch 26/40\n",
            "16/16 [==============================] - 64s 4s/step - loss: 0.0355 - accuracy: 0.9903 - f1: 0.5559 - f1_1: 0.9791 - f1_3: 0.6814 - f1_4: 0.9676 - f1_5: 0.9430 - f1_6: 0.0000e+00 - f1_7: 0.0000e+00 - f1_8: 0.0681 - f1_9: 0.7251 - f1_10: 0.9599 - f1_12: 0.0000e+00 - f1_13: 0.0000e+00 - f1_14: 0.7584 - f1_15: 0.9950 - f1_16: 0.0000e+00 - f1_17: 0.1044 - f1_18: 0.0000e+00 - f1_20: 0.0000e+00 - f1_21: 0.0000e+00 - f1_22: 0.0000e+00 - f1_23: 0.6689 - f1_24: 0.8771 - f1_25: 0.9806 - f1_27: 0.7613 - f1_28: 0.8746 - f1_29: 0.9270 - f1_30: 0.9736 - f1_31: 0.7416 - f1_32: 0.9987 - f1_33: 0.8962 - f1_34: 0.0497 - f1_35: 0.8529 - f1_36: 0.5504 - f1_37: 0.9792 - f1_38: 0.0000e+00 - f1_39: 0.8709 - f1_40: 0.9104 - f1_41: 0.3363 - f1_42: 0.7942 - f1_43: 0.0156 - f1_44: 0.9958 - val_loss: 0.0459 - val_accuracy: 0.9868 - val_f1: 0.5229 - val_f1_1: 0.9613 - val_f1_3: 0.6794 - val_f1_4: 0.9744 - val_f1_5: 0.9270 - val_f1_6: 0.0000e+00 - val_f1_7: 0.0000e+00 - val_f1_8: 0.0238 - val_f1_9: 0.7241 - val_f1_10: 0.9515 - val_f1_12: 0.0000e+00 - val_f1_13: 0.0000e+00 - val_f1_14: 0.7282 - val_f1_15: 0.9971 - val_f1_16: 0.0000e+00 - val_f1_17: 0.0501 - val_f1_18: 0.0000e+00 - val_f1_20: 0.0000e+00 - val_f1_21: 0.0000e+00 - val_f1_22: 0.0000e+00 - val_f1_23: 0.5243 - val_f1_24: 0.8227 - val_f1_25: 0.9916 - val_f1_27: 0.5524 - val_f1_28: 0.8577 - val_f1_29: 0.9069 - val_f1_30: 0.9728 - val_f1_31: 0.6642 - val_f1_32: 1.0000 - val_f1_33: 0.9129 - val_f1_34: 0.0000e+00 - val_f1_35: 0.7775 - val_f1_36: 0.3915 - val_f1_37: 0.9633 - val_f1_38: 0.0000e+00 - val_f1_39: 0.8186 - val_f1_40: 0.8711 - val_f1_41: 0.1006 - val_f1_42: 0.7746 - val_f1_43: 0.0000e+00 - val_f1_44: 0.9966\n",
            "Epoch 27/40\n",
            "16/16 [==============================] - 64s 4s/step - loss: 0.0349 - accuracy: 0.9905 - f1: 0.5610 - f1_1: 0.9780 - f1_3: 0.6795 - f1_4: 0.9710 - f1_5: 0.9425 - f1_6: 0.0000e+00 - f1_7: 0.0000e+00 - f1_8: 0.0991 - f1_9: 0.7339 - f1_10: 0.9611 - f1_12: 0.0000e+00 - f1_13: 0.0000e+00 - f1_14: 0.7671 - f1_15: 0.9925 - f1_16: 0.0000e+00 - f1_17: 0.0970 - f1_18: 0.0000e+00 - f1_20: 0.0000e+00 - f1_21: 0.0000e+00 - f1_22: 0.0000e+00 - f1_23: 0.6692 - f1_24: 0.8748 - f1_25: 0.9818 - f1_27: 0.8097 - f1_28: 0.8768 - f1_29: 0.9363 - f1_30: 0.9730 - f1_31: 0.7566 - f1_32: 0.9985 - f1_33: 0.9322 - f1_34: 0.0000e+00 - f1_35: 0.8570 - f1_36: 0.5853 - f1_37: 0.9768 - f1_38: 0.0000e+00 - f1_39: 0.8734 - f1_40: 0.9238 - f1_41: 0.3959 - f1_42: 0.8020 - f1_43: 0.0000e+00 - f1_44: 0.9964 - val_loss: 0.0446 - val_accuracy: 0.9871 - val_f1: 0.5249 - val_f1_1: 0.9733 - val_f1_3: 0.6258 - val_f1_4: 0.9753 - val_f1_5: 0.9295 - val_f1_6: 0.0000e+00 - val_f1_7: 0.0000e+00 - val_f1_8: 0.0405 - val_f1_9: 0.6914 - val_f1_10: 0.9492 - val_f1_12: 0.0000e+00 - val_f1_13: 0.0000e+00 - val_f1_14: 0.6877 - val_f1_15: 0.9971 - val_f1_16: 0.0000e+00 - val_f1_17: 0.0679 - val_f1_18: 0.0000e+00 - val_f1_20: 0.0000e+00 - val_f1_21: 0.0000e+00 - val_f1_22: 0.0000e+00 - val_f1_23: 0.4698 - val_f1_24: 0.8172 - val_f1_25: 0.9857 - val_f1_27: 0.6287 - val_f1_28: 0.8565 - val_f1_29: 0.9031 - val_f1_30: 0.9725 - val_f1_31: 0.6609 - val_f1_32: 1.0000 - val_f1_33: 0.9092 - val_f1_34: 0.0000e+00 - val_f1_35: 0.8236 - val_f1_36: 0.4213 - val_f1_37: 0.9660 - val_f1_38: 0.0000e+00 - val_f1_39: 0.8035 - val_f1_40: 0.8657 - val_f1_41: 0.2328 - val_f1_42: 0.7465 - val_f1_43: 0.0000e+00 - val_f1_44: 0.9966\n",
            "Epoch 28/40\n",
            "16/16 [==============================] - 64s 4s/step - loss: 0.0341 - accuracy: 0.9907 - f1: 0.5664 - f1_1: 0.9774 - f1_3: 0.6970 - f1_4: 0.9715 - f1_5: 0.9453 - f1_6: 0.0312 - f1_7: 0.0000e+00 - f1_8: 0.1081 - f1_9: 0.7413 - f1_10: 0.9596 - f1_12: 0.0000e+00 - f1_13: 0.0000e+00 - f1_14: 0.7685 - f1_15: 0.9943 - f1_16: 0.0000e+00 - f1_17: 0.1240 - f1_18: 0.0000e+00 - f1_20: 0.0000e+00 - f1_21: 0.0000e+00 - f1_22: 0.0000e+00 - f1_23: 0.7404 - f1_24: 0.8812 - f1_25: 0.9865 - f1_27: 0.7185 - f1_28: 0.8828 - f1_29: 0.9335 - f1_30: 0.9780 - f1_31: 0.7599 - f1_32: 0.9985 - f1_33: 0.9267 - f1_34: 0.0417 - f1_35: 0.8605 - f1_36: 0.6046 - f1_37: 0.9792 - f1_38: 0.0000e+00 - f1_39: 0.8726 - f1_40: 0.9190 - f1_41: 0.4371 - f1_42: 0.8080 - f1_43: 0.0096 - f1_44: 0.9976 - val_loss: 0.0438 - val_accuracy: 0.9874 - val_f1: 0.5295 - val_f1_1: 0.9696 - val_f1_3: 0.6803 - val_f1_4: 0.9709 - val_f1_5: 0.9337 - val_f1_6: 0.0000e+00 - val_f1_7: 0.0000e+00 - val_f1_8: 0.0714 - val_f1_9: 0.6941 - val_f1_10: 0.9609 - val_f1_12: 0.0000e+00 - val_f1_13: 0.0000e+00 - val_f1_14: 0.7182 - val_f1_15: 0.9971 - val_f1_16: 0.0000e+00 - val_f1_17: 0.0720 - val_f1_18: 0.0000e+00 - val_f1_20: 0.0000e+00 - val_f1_21: 0.0000e+00 - val_f1_22: 0.0000e+00 - val_f1_23: 0.6466 - val_f1_24: 0.8133 - val_f1_25: 0.9868 - val_f1_27: 0.6610 - val_f1_28: 0.8455 - val_f1_29: 0.9177 - val_f1_30: 0.9689 - val_f1_31: 0.7148 - val_f1_32: 1.0000 - val_f1_33: 0.8743 - val_f1_34: 0.0000e+00 - val_f1_35: 0.8229 - val_f1_36: 0.3589 - val_f1_37: 0.9557 - val_f1_38: 0.0000e+00 - val_f1_39: 0.8333 - val_f1_40: 0.8601 - val_f1_41: 0.0848 - val_f1_42: 0.7716 - val_f1_43: 0.0000e+00 - val_f1_44: 0.9966\n",
            "Epoch 29/40\n",
            "16/16 [==============================] - 64s 4s/step - loss: 0.0336 - accuracy: 0.9908 - f1: 0.5755 - f1_1: 0.9814 - f1_3: 0.6825 - f1_4: 0.9725 - f1_5: 0.9461 - f1_6: 0.0125 - f1_7: 0.0000e+00 - f1_8: 0.2139 - f1_9: 0.7559 - f1_10: 0.9607 - f1_12: 0.0000e+00 - f1_13: 0.0000e+00 - f1_14: 0.7721 - f1_15: 0.9926 - f1_16: 0.0000e+00 - f1_17: 0.1669 - f1_18: 0.0000e+00 - f1_20: 0.0000e+00 - f1_21: 0.0000e+00 - f1_22: 0.0000e+00 - f1_23: 0.8216 - f1_24: 0.8760 - f1_25: 0.9846 - f1_27: 0.8002 - f1_28: 0.8870 - f1_29: 0.9345 - f1_30: 0.9777 - f1_31: 0.7520 - f1_32: 0.9984 - f1_33: 0.9271 - f1_34: 0.0937 - f1_35: 0.8623 - f1_36: 0.5545 - f1_37: 0.9789 - f1_38: 0.0000e+00 - f1_39: 0.8766 - f1_40: 0.9193 - f1_41: 0.4792 - f1_42: 0.8207 - f1_43: 0.0208 - f1_44: 0.9981 - val_loss: 0.0428 - val_accuracy: 0.9877 - val_f1: 0.5347 - val_f1_1: 0.9720 - val_f1_3: 0.6715 - val_f1_4: 0.9745 - val_f1_5: 0.9353 - val_f1_6: 0.0000e+00 - val_f1_7: 0.0000e+00 - val_f1_8: 0.0775 - val_f1_9: 0.7015 - val_f1_10: 0.9594 - val_f1_12: 0.0000e+00 - val_f1_13: 0.0000e+00 - val_f1_14: 0.7181 - val_f1_15: 0.9971 - val_f1_16: 0.0000e+00 - val_f1_17: 0.0671 - val_f1_18: 0.0000e+00 - val_f1_20: 0.0000e+00 - val_f1_21: 0.0000e+00 - val_f1_22: 0.0000e+00 - val_f1_23: 0.6902 - val_f1_24: 0.8298 - val_f1_25: 0.9857 - val_f1_27: 0.6610 - val_f1_28: 0.8529 - val_f1_29: 0.9114 - val_f1_30: 0.9733 - val_f1_31: 0.6658 - val_f1_32: 1.0000 - val_f1_33: 0.9064 - val_f1_34: 0.0000e+00 - val_f1_35: 0.8155 - val_f1_36: 0.4523 - val_f1_37: 0.9651 - val_f1_38: 0.0000e+00 - val_f1_39: 0.8447 - val_f1_40: 0.8675 - val_f1_41: 0.1323 - val_f1_42: 0.7635 - val_f1_43: 0.0000e+00 - val_f1_44: 0.9966\n",
            "Epoch 30/40\n",
            "16/16 [==============================] - 64s 4s/step - loss: 0.0331 - accuracy: 0.9909 - f1: 0.5792 - f1_1: 0.9770 - f1_3: 0.6947 - f1_4: 0.9726 - f1_5: 0.9438 - f1_6: 0.0281 - f1_7: 0.0000e+00 - f1_8: 0.1515 - f1_9: 0.7577 - f1_10: 0.9635 - f1_12: 0.0000e+00 - f1_13: 0.0000e+00 - f1_14: 0.7803 - f1_15: 0.9953 - f1_16: 0.0000e+00 - f1_17: 0.1796 - f1_18: 0.0000e+00 - f1_20: 0.0000e+00 - f1_21: 0.0000e+00 - f1_22: 0.0000e+00 - f1_23: 0.7995 - f1_24: 0.8833 - f1_25: 0.9877 - f1_27: 0.7922 - f1_28: 0.8901 - f1_29: 0.9444 - f1_30: 0.9776 - f1_31: 0.7707 - f1_32: 0.9987 - f1_33: 0.9389 - f1_34: 0.0687 - f1_35: 0.8631 - f1_36: 0.6264 - f1_37: 0.9833 - f1_38: 0.0000e+00 - f1_39: 0.8770 - f1_40: 0.9213 - f1_41: 0.5609 - f1_42: 0.8245 - f1_43: 0.0179 - f1_44: 0.9960 - val_loss: 0.0433 - val_accuracy: 0.9875 - val_f1: 0.5413 - val_f1_1: 0.9686 - val_f1_3: 0.6838 - val_f1_4: 0.9756 - val_f1_5: 0.9317 - val_f1_6: 0.0000e+00 - val_f1_7: 0.0000e+00 - val_f1_8: 0.2010 - val_f1_9: 0.7280 - val_f1_10: 0.9547 - val_f1_12: 0.0000e+00 - val_f1_13: 0.0000e+00 - val_f1_14: 0.6941 - val_f1_15: 0.9971 - val_f1_16: 0.0000e+00 - val_f1_17: 0.0673 - val_f1_18: 0.0000e+00 - val_f1_20: 0.0000e+00 - val_f1_21: 0.0000e+00 - val_f1_22: 0.0000e+00 - val_f1_23: 0.6783 - val_f1_24: 0.8267 - val_f1_25: 0.9840 - val_f1_27: 0.5949 - val_f1_28: 0.8633 - val_f1_29: 0.9118 - val_f1_30: 0.9738 - val_f1_31: 0.6561 - val_f1_32: 1.0000 - val_f1_33: 0.9126 - val_f1_34: 0.0000e+00 - val_f1_35: 0.8183 - val_f1_36: 0.4127 - val_f1_37: 0.9633 - val_f1_38: 0.0000e+00 - val_f1_39: 0.8319 - val_f1_40: 0.8698 - val_f1_41: 0.3715 - val_f1_42: 0.7825 - val_f1_43: 0.0000e+00 - val_f1_44: 0.9966\n",
            "Epoch 31/40\n",
            "16/16 [==============================] - 64s 4s/step - loss: 0.0322 - accuracy: 0.9913 - f1: 0.5869 - f1_1: 0.9787 - f1_3: 0.6935 - f1_4: 0.9731 - f1_5: 0.9474 - f1_6: 0.0640 - f1_7: 0.0000e+00 - f1_8: 0.2228 - f1_9: 0.7614 - f1_10: 0.9628 - f1_12: 0.0000e+00 - f1_13: 0.0000e+00 - f1_14: 0.7815 - f1_15: 0.9934 - f1_16: 0.0000e+00 - f1_17: 0.2277 - f1_18: 0.0000e+00 - f1_20: 0.0000e+00 - f1_21: 0.0000e+00 - f1_22: 0.0000e+00 - f1_23: 0.8134 - f1_24: 0.8900 - f1_25: 0.9867 - f1_27: 0.7998 - f1_28: 0.8911 - f1_29: 0.9420 - f1_30: 0.9781 - f1_31: 0.7697 - f1_32: 0.9976 - f1_33: 0.9458 - f1_34: 0.0969 - f1_35: 0.8681 - f1_36: 0.6617 - f1_37: 0.9820 - f1_38: 0.0000e+00 - f1_39: 0.8834 - f1_40: 0.9239 - f1_41: 0.5681 - f1_42: 0.8315 - f1_43: 0.0429 - f1_44: 0.9957 - val_loss: 0.0430 - val_accuracy: 0.9874 - val_f1: 0.5350 - val_f1_1: 0.9762 - val_f1_3: 0.6701 - val_f1_4: 0.9744 - val_f1_5: 0.9347 - val_f1_6: 0.0000e+00 - val_f1_7: 0.0000e+00 - val_f1_8: 0.1238 - val_f1_9: 0.7150 - val_f1_10: 0.9610 - val_f1_12: 0.0000e+00 - val_f1_13: 0.0000e+00 - val_f1_14: 0.6766 - val_f1_15: 0.9971 - val_f1_16: 0.0000e+00 - val_f1_17: 0.0673 - val_f1_18: 0.0000e+00 - val_f1_20: 0.0000e+00 - val_f1_21: 0.0000e+00 - val_f1_22: 0.0000e+00 - val_f1_23: 0.6902 - val_f1_24: 0.8282 - val_f1_25: 0.9857 - val_f1_27: 0.6510 - val_f1_28: 0.8633 - val_f1_29: 0.9085 - val_f1_30: 0.9727 - val_f1_31: 0.6453 - val_f1_32: 1.0000 - val_f1_33: 0.9143 - val_f1_34: 0.0000e+00 - val_f1_35: 0.8038 - val_f1_36: 0.4272 - val_f1_37: 0.9638 - val_f1_38: 0.0000e+00 - val_f1_39: 0.8405 - val_f1_40: 0.8686 - val_f1_41: 0.1559 - val_f1_42: 0.7892 - val_f1_43: 0.0000e+00 - val_f1_44: 0.9966\n",
            "Epoch 32/40\n",
            "16/16 [==============================] - 64s 4s/step - loss: 0.0315 - accuracy: 0.9914 - f1: 0.5899 - f1_1: 0.9831 - f1_3: 0.6972 - f1_4: 0.9742 - f1_5: 0.9486 - f1_6: 0.0396 - f1_7: 0.0000e+00 - f1_8: 0.2825 - f1_9: 0.7682 - f1_10: 0.9647 - f1_12: 0.0000e+00 - f1_13: 0.0000e+00 - f1_14: 0.7825 - f1_15: 0.9909 - f1_16: 0.0000e+00 - f1_17: 0.1710 - f1_18: 0.0000e+00 - f1_20: 0.0000e+00 - f1_21: 0.0000e+00 - f1_22: 0.0000e+00 - f1_23: 0.8579 - f1_24: 0.8936 - f1_25: 0.9912 - f1_27: 0.7777 - f1_28: 0.8972 - f1_29: 0.9456 - f1_30: 0.9742 - f1_31: 0.7670 - f1_32: 0.9984 - f1_33: 0.9481 - f1_34: 0.0644 - f1_35: 0.8653 - f1_36: 0.6583 - f1_37: 0.9839 - f1_38: 0.0000e+00 - f1_39: 0.8847 - f1_40: 0.9310 - f1_41: 0.6586 - f1_42: 0.8335 - f1_43: 0.0651 - f1_44: 0.9980 - val_loss: 0.0434 - val_accuracy: 0.9871 - val_f1: 0.5468 - val_f1_1: 0.9686 - val_f1_3: 0.6810 - val_f1_4: 0.9754 - val_f1_5: 0.9343 - val_f1_6: 0.0000e+00 - val_f1_7: 0.0000e+00 - val_f1_8: 0.2162 - val_f1_9: 0.6859 - val_f1_10: 0.9602 - val_f1_12: 0.0000e+00 - val_f1_13: 0.0000e+00 - val_f1_14: 0.6786 - val_f1_15: 1.0000 - val_f1_16: 0.0000e+00 - val_f1_17: 0.1002 - val_f1_18: 0.0000e+00 - val_f1_20: 0.0000e+00 - val_f1_21: 0.0000e+00 - val_f1_22: 0.0000e+00 - val_f1_23: 0.7513 - val_f1_24: 0.8161 - val_f1_25: 0.9825 - val_f1_27: 0.6610 - val_f1_28: 0.8447 - val_f1_29: 0.9011 - val_f1_30: 0.9730 - val_f1_31: 0.7007 - val_f1_32: 1.0000 - val_f1_33: 0.9223 - val_f1_34: 0.0000e+00 - val_f1_35: 0.7882 - val_f1_36: 0.4485 - val_f1_37: 0.9641 - val_f1_38: 0.0000e+00 - val_f1_39: 0.8431 - val_f1_40: 0.8658 - val_f1_41: 0.4134 - val_f1_42: 0.8014 - val_f1_43: 0.0000e+00 - val_f1_44: 0.9966\n",
            "Epoch 33/40\n",
            "16/16 [==============================] - 64s 4s/step - loss: 0.0315 - accuracy: 0.9914 - f1: 0.5957 - f1_1: 0.9833 - f1_3: 0.7102 - f1_4: 0.9745 - f1_5: 0.9491 - f1_6: 0.0645 - f1_7: 0.0000e+00 - f1_8: 0.2558 - f1_9: 0.7724 - f1_10: 0.9650 - f1_12: 0.0000e+00 - f1_13: 0.0729 - f1_14: 0.7930 - f1_15: 0.9940 - f1_16: 0.0000e+00 - f1_17: 0.1803 - f1_18: 0.0000e+00 - f1_20: 0.0000e+00 - f1_21: 0.0000e+00 - f1_22: 0.0000e+00 - f1_23: 0.9341 - f1_24: 0.8850 - f1_25: 0.9872 - f1_27: 0.8040 - f1_28: 0.8924 - f1_29: 0.9465 - f1_30: 0.9798 - f1_31: 0.7816 - f1_32: 0.9987 - f1_33: 0.9413 - f1_34: 0.0729 - f1_35: 0.8633 - f1_36: 0.6341 - f1_37: 0.9838 - f1_38: 0.0000e+00 - f1_39: 0.8870 - f1_40: 0.9333 - f1_41: 0.6526 - f1_42: 0.8414 - f1_43: 0.0982 - f1_44: 0.9971 - val_loss: 0.0425 - val_accuracy: 0.9877 - val_f1: 0.5464 - val_f1_1: 0.9791 - val_f1_3: 0.6342 - val_f1_4: 0.9768 - val_f1_5: 0.9331 - val_f1_6: 0.0000e+00 - val_f1_7: 0.0000e+00 - val_f1_8: 0.1934 - val_f1_9: 0.7384 - val_f1_10: 0.9522 - val_f1_12: 0.0000e+00 - val_f1_13: 0.0000e+00 - val_f1_14: 0.7407 - val_f1_15: 0.9971 - val_f1_16: 0.0000e+00 - val_f1_17: 0.1318 - val_f1_18: 0.0000e+00 - val_f1_20: 0.0000e+00 - val_f1_21: 0.0000e+00 - val_f1_22: 0.0000e+00 - val_f1_23: 0.7079 - val_f1_24: 0.7957 - val_f1_25: 0.9886 - val_f1_27: 0.6458 - val_f1_28: 0.8620 - val_f1_29: 0.9204 - val_f1_30: 0.9726 - val_f1_31: 0.6790 - val_f1_32: 1.0000 - val_f1_33: 0.9168 - val_f1_34: 0.0000e+00 - val_f1_35: 0.8349 - val_f1_36: 0.4309 - val_f1_37: 0.9695 - val_f1_38: 0.0000e+00 - val_f1_39: 0.8381 - val_f1_40: 0.8728 - val_f1_41: 0.3856 - val_f1_42: 0.7608 - val_f1_43: 0.0000e+00 - val_f1_44: 0.9966\n",
            "Epoch 34/40\n",
            "16/16 [==============================] - 64s 4s/step - loss: 0.0306 - accuracy: 0.9917 - f1: 0.6026 - f1_1: 0.9850 - f1_3: 0.7089 - f1_4: 0.9744 - f1_5: 0.9481 - f1_6: 0.0833 - f1_7: 0.0000e+00 - f1_8: 0.2963 - f1_9: 0.7722 - f1_10: 0.9653 - f1_12: 0.0000e+00 - f1_13: 0.0253 - f1_14: 0.7944 - f1_15: 0.9935 - f1_16: 0.0000e+00 - f1_17: 0.3049 - f1_18: 0.0000e+00 - f1_20: 0.0000e+00 - f1_21: 0.0000e+00 - f1_22: 0.0000e+00 - f1_23: 0.9482 - f1_24: 0.8917 - f1_25: 0.9898 - f1_27: 0.8256 - f1_28: 0.9029 - f1_29: 0.9508 - f1_30: 0.9780 - f1_31: 0.7769 - f1_32: 0.9987 - f1_33: 0.9535 - f1_34: 0.0875 - f1_35: 0.8721 - f1_36: 0.6565 - f1_37: 0.9833 - f1_38: 0.0000e+00 - f1_39: 0.8917 - f1_40: 0.9339 - f1_41: 0.6125 - f1_42: 0.8409 - f1_43: 0.1627 - f1_44: 0.9961 - val_loss: 0.0413 - val_accuracy: 0.9878 - val_f1: 0.5480 - val_f1_1: 0.9749 - val_f1_3: 0.6726 - val_f1_4: 0.9757 - val_f1_5: 0.9395 - val_f1_6: 0.0000e+00 - val_f1_7: 0.0000e+00 - val_f1_8: 0.1421 - val_f1_9: 0.6895 - val_f1_10: 0.9640 - val_f1_12: 0.0000e+00 - val_f1_13: 0.0000e+00 - val_f1_14: 0.7143 - val_f1_15: 1.0000 - val_f1_16: 0.0000e+00 - val_f1_17: 0.1137 - val_f1_18: 0.0000e+00 - val_f1_20: 0.0000e+00 - val_f1_21: 0.0000e+00 - val_f1_22: 0.0000e+00 - val_f1_23: 0.7590 - val_f1_24: 0.8294 - val_f1_25: 0.9857 - val_f1_27: 0.6610 - val_f1_28: 0.8616 - val_f1_29: 0.9095 - val_f1_30: 0.9727 - val_f1_31: 0.6975 - val_f1_32: 1.0000 - val_f1_33: 0.8950 - val_f1_34: 0.0000e+00 - val_f1_35: 0.8348 - val_f1_36: 0.4459 - val_f1_37: 0.9651 - val_f1_38: 0.0000e+00 - val_f1_39: 0.8289 - val_f1_40: 0.8719 - val_f1_41: 0.4239 - val_f1_42: 0.7938 - val_f1_43: 0.0000e+00 - val_f1_44: 0.9966\n",
            "Epoch 35/40\n",
            "16/16 [==============================] - 64s 4s/step - loss: 0.0298 - accuracy: 0.9920 - f1: 0.6105 - f1_1: 0.9848 - f1_3: 0.7194 - f1_4: 0.9765 - f1_5: 0.9535 - f1_6: 0.0721 - f1_7: 0.0000e+00 - f1_8: 0.3200 - f1_9: 0.7870 - f1_10: 0.9680 - f1_12: 0.0000e+00 - f1_13: 0.0387 - f1_14: 0.8011 - f1_15: 0.9946 - f1_16: 0.0000e+00 - f1_17: 0.2859 - f1_18: 0.0000e+00 - f1_20: 0.0000e+00 - f1_21: 0.0000e+00 - f1_22: 0.0000e+00 - f1_23: 0.9559 - f1_24: 0.9022 - f1_25: 0.9884 - f1_27: 0.7791 - f1_28: 0.9092 - f1_29: 0.9480 - f1_30: 0.9792 - f1_31: 0.7912 - f1_32: 0.9986 - f1_33: 0.9375 - f1_34: 0.1698 - f1_35: 0.8799 - f1_36: 0.6573 - f1_37: 0.9848 - f1_38: 0.0000e+00 - f1_39: 0.8958 - f1_40: 0.9341 - f1_41: 0.7766 - f1_42: 0.8360 - f1_43: 0.1969 - f1_44: 0.9980 - val_loss: 0.0413 - val_accuracy: 0.9878 - val_f1: 0.5509 - val_f1_1: 0.9775 - val_f1_3: 0.6643 - val_f1_4: 0.9761 - val_f1_5: 0.9396 - val_f1_6: 0.0000e+00 - val_f1_7: 0.0000e+00 - val_f1_8: 0.1238 - val_f1_9: 0.7256 - val_f1_10: 0.9648 - val_f1_12: 0.0000e+00 - val_f1_13: 0.0000e+00 - val_f1_14: 0.7154 - val_f1_15: 1.0000 - val_f1_16: 0.0000e+00 - val_f1_17: 0.0976 - val_f1_18: 0.0000e+00 - val_f1_20: 0.0000e+00 - val_f1_21: 0.0000e+00 - val_f1_22: 0.0000e+00 - val_f1_23: 0.8077 - val_f1_24: 0.8317 - val_f1_25: 0.9857 - val_f1_27: 0.6510 - val_f1_28: 0.8405 - val_f1_29: 0.9102 - val_f1_30: 0.9716 - val_f1_31: 0.7003 - val_f1_32: 1.0000 - val_f1_33: 0.9207 - val_f1_34: 0.0000e+00 - val_f1_35: 0.8402 - val_f1_36: 0.4459 - val_f1_37: 0.9643 - val_f1_38: 0.0000e+00 - val_f1_39: 0.8358 - val_f1_40: 0.8698 - val_f1_41: 0.4239 - val_f1_42: 0.8130 - val_f1_43: 0.0417 - val_f1_44: 0.9966\n",
            "Epoch 36/40\n",
            "16/16 [==============================] - 64s 4s/step - loss: 0.0292 - accuracy: 0.9921 - f1: 0.6128 - f1_1: 0.9844 - f1_3: 0.7188 - f1_4: 0.9774 - f1_5: 0.9518 - f1_6: 0.0742 - f1_7: 0.0000e+00 - f1_8: 0.3460 - f1_9: 0.7905 - f1_10: 0.9676 - f1_12: 0.0000e+00 - f1_13: 0.0863 - f1_14: 0.8092 - f1_15: 0.9935 - f1_16: 0.0000e+00 - f1_17: 0.3680 - f1_18: 0.0000e+00 - f1_20: 0.0000e+00 - f1_21: 0.0000e+00 - f1_22: 0.0000e+00 - f1_23: 0.8500 - f1_24: 0.9021 - f1_25: 0.9885 - f1_27: 0.7695 - f1_28: 0.9043 - f1_29: 0.9558 - f1_30: 0.9791 - f1_31: 0.7925 - f1_32: 0.9973 - f1_33: 0.9594 - f1_34: 0.1994 - f1_35: 0.8791 - f1_36: 0.6915 - f1_37: 0.9847 - f1_38: 0.0000e+00 - f1_39: 0.8939 - f1_40: 0.9371 - f1_41: 0.7398 - f1_42: 0.8456 - f1_43: 0.1771 - f1_44: 0.9970 - val_loss: 0.0415 - val_accuracy: 0.9878 - val_f1: 0.5518 - val_f1_1: 0.9683 - val_f1_3: 0.6690 - val_f1_4: 0.9766 - val_f1_5: 0.9408 - val_f1_6: 0.0000e+00 - val_f1_7: 0.0000e+00 - val_f1_8: 0.1238 - val_f1_9: 0.7262 - val_f1_10: 0.9643 - val_f1_12: 0.0000e+00 - val_f1_13: 0.0000e+00 - val_f1_14: 0.7287 - val_f1_15: 1.0000 - val_f1_16: 0.0000e+00 - val_f1_17: 0.0907 - val_f1_18: 0.0000e+00 - val_f1_20: 0.0000e+00 - val_f1_21: 0.0000e+00 - val_f1_22: 0.0000e+00 - val_f1_23: 0.7759 - val_f1_24: 0.8339 - val_f1_25: 0.9904 - val_f1_27: 0.6510 - val_f1_28: 0.8659 - val_f1_29: 0.9146 - val_f1_30: 0.9733 - val_f1_31: 0.6812 - val_f1_32: 1.0000 - val_f1_33: 0.9035 - val_f1_34: 0.0333 - val_f1_35: 0.8178 - val_f1_36: 0.4402 - val_f1_37: 0.9653 - val_f1_38: 0.0000e+00 - val_f1_39: 0.8143 - val_f1_40: 0.8708 - val_f1_41: 0.4693 - val_f1_42: 0.8117 - val_f1_43: 0.0750 - val_f1_44: 0.9966\n",
            "Epoch 37/40\n",
            "16/16 [==============================] - 64s 4s/step - loss: 0.0287 - accuracy: 0.9922 - f1: 0.6088 - f1_1: 0.9840 - f1_3: 0.7419 - f1_4: 0.9789 - f1_5: 0.9527 - f1_6: 0.1533 - f1_7: 0.0000e+00 - f1_8: 0.2485 - f1_9: 0.7964 - f1_10: 0.9676 - f1_12: 0.0000e+00 - f1_13: 0.1104 - f1_14: 0.8128 - f1_15: 0.9942 - f1_16: 0.0000e+00 - f1_17: 0.2465 - f1_18: 0.0000e+00 - f1_20: 0.0000e+00 - f1_21: 0.0000e+00 - f1_22: 0.0000e+00 - f1_23: 0.8522 - f1_24: 0.9056 - f1_25: 0.9879 - f1_27: 0.7936 - f1_28: 0.9111 - f1_29: 0.9494 - f1_30: 0.9807 - f1_31: 0.7848 - f1_32: 0.9984 - f1_33: 0.9553 - f1_34: 0.1284 - f1_35: 0.8821 - f1_36: 0.6780 - f1_37: 0.9848 - f1_38: 0.0000e+00 - f1_39: 0.8935 - f1_40: 0.9370 - f1_41: 0.7241 - f1_42: 0.8572 - f1_43: 0.1646 - f1_44: 0.9975 - val_loss: 0.0405 - val_accuracy: 0.9882 - val_f1: 0.5663 - val_f1_1: 0.9788 - val_f1_3: 0.6727 - val_f1_4: 0.9771 - val_f1_5: 0.9383 - val_f1_6: 0.0000e+00 - val_f1_7: 0.0000e+00 - val_f1_8: 0.2457 - val_f1_9: 0.7285 - val_f1_10: 0.9623 - val_f1_12: 0.0000e+00 - val_f1_13: 0.0000e+00 - val_f1_14: 0.7311 - val_f1_15: 1.0000 - val_f1_16: 0.0000e+00 - val_f1_17: 0.2675 - val_f1_18: 0.0000e+00 - val_f1_20: 0.0000e+00 - val_f1_21: 0.0000e+00 - val_f1_22: 0.0000e+00 - val_f1_23: 0.7910 - val_f1_24: 0.8323 - val_f1_25: 0.9857 - val_f1_27: 0.6438 - val_f1_28: 0.8541 - val_f1_29: 0.9144 - val_f1_30: 0.9754 - val_f1_31: 0.7109 - val_f1_32: 1.0000 - val_f1_33: 0.9207 - val_f1_34: 0.0750 - val_f1_35: 0.8224 - val_f1_36: 0.4627 - val_f1_37: 0.9672 - val_f1_38: 0.0000e+00 - val_f1_39: 0.8462 - val_f1_40: 0.8729 - val_f1_41: 0.5542 - val_f1_42: 0.7999 - val_f1_43: 0.1250 - val_f1_44: 0.9966\n",
            "Epoch 38/40\n",
            "16/16 [==============================] - 67s 4s/step - loss: 0.0283 - accuracy: 0.9923 - f1: 0.6149 - f1_1: 0.9794 - f1_3: 0.7230 - f1_4: 0.9781 - f1_5: 0.9544 - f1_6: 0.1079 - f1_7: 0.0000e+00 - f1_8: 0.3267 - f1_9: 0.7982 - f1_10: 0.9689 - f1_12: 0.0000e+00 - f1_13: 0.1117 - f1_14: 0.8094 - f1_15: 0.9947 - f1_16: 0.0000e+00 - f1_17: 0.3541 - f1_18: 0.0000e+00 - f1_20: 0.0000e+00 - f1_21: 0.0000e+00 - f1_22: 0.0000e+00 - f1_23: 0.8883 - f1_24: 0.9009 - f1_25: 0.9920 - f1_27: 0.8073 - f1_28: 0.9119 - f1_29: 0.9589 - f1_30: 0.9820 - f1_31: 0.7941 - f1_32: 0.9986 - f1_33: 0.9332 - f1_34: 0.1642 - f1_35: 0.8814 - f1_36: 0.6507 - f1_37: 0.9842 - f1_38: 0.0000e+00 - f1_39: 0.8980 - f1_40: 0.9402 - f1_41: 0.7871 - f1_42: 0.8543 - f1_43: 0.1637 - f1_44: 0.9966 - val_loss: 0.0411 - val_accuracy: 0.9877 - val_f1: 0.5540 - val_f1_1: 0.9763 - val_f1_3: 0.6774 - val_f1_4: 0.9764 - val_f1_5: 0.9362 - val_f1_6: 0.0000e+00 - val_f1_7: 0.0000e+00 - val_f1_8: 0.2306 - val_f1_9: 0.7330 - val_f1_10: 0.9644 - val_f1_12: 0.0000e+00 - val_f1_13: 0.0667 - val_f1_14: 0.6981 - val_f1_15: 1.0000 - val_f1_16: 0.0000e+00 - val_f1_17: 0.1331 - val_f1_18: 0.0000e+00 - val_f1_20: 0.0000e+00 - val_f1_21: 0.0000e+00 - val_f1_22: 0.0000e+00 - val_f1_23: 0.7888 - val_f1_24: 0.8202 - val_f1_25: 0.9857 - val_f1_27: 0.6438 - val_f1_28: 0.8663 - val_f1_29: 0.9132 - val_f1_30: 0.9737 - val_f1_31: 0.6713 - val_f1_32: 1.0000 - val_f1_33: 0.9069 - val_f1_34: 0.0333 - val_f1_35: 0.8362 - val_f1_36: 0.4522 - val_f1_37: 0.9666 - val_f1_38: 0.0000e+00 - val_f1_39: 0.8216 - val_f1_40: 0.8719 - val_f1_41: 0.4466 - val_f1_42: 0.7725 - val_f1_43: 0.0000e+00 - val_f1_44: 0.9966\n",
            "Epoch 39/40\n",
            "16/16 [==============================] - 65s 4s/step - loss: 0.0278 - accuracy: 0.9925 - f1: 0.6235 - f1_1: 0.9869 - f1_3: 0.7624 - f1_4: 0.9784 - f1_5: 0.9567 - f1_6: 0.1593 - f1_7: 0.0000e+00 - f1_8: 0.3248 - f1_9: 0.7963 - f1_10: 0.9696 - f1_12: 0.0000e+00 - f1_13: 0.1719 - f1_14: 0.8097 - f1_15: 0.9964 - f1_16: 0.0000e+00 - f1_17: 0.3592 - f1_18: 0.0000e+00 - f1_20: 0.0000e+00 - f1_21: 0.0000e+00 - f1_22: 0.0000e+00 - f1_23: 0.9077 - f1_24: 0.9096 - f1_25: 0.9940 - f1_27: 0.8054 - f1_28: 0.9149 - f1_29: 0.9590 - f1_30: 0.9839 - f1_31: 0.7958 - f1_32: 0.9987 - f1_33: 0.9547 - f1_34: 0.1924 - f1_35: 0.8826 - f1_36: 0.6748 - f1_37: 0.9861 - f1_38: 0.0000e+00 - f1_39: 0.9002 - f1_40: 0.9395 - f1_41: 0.7077 - f1_42: 0.8602 - f1_43: 0.3047 - f1_44: 0.9979 - val_loss: 0.0409 - val_accuracy: 0.9879 - val_f1: 0.5609 - val_f1_1: 0.9817 - val_f1_3: 0.6750 - val_f1_4: 0.9779 - val_f1_5: 0.9212 - val_f1_6: 0.0000e+00 - val_f1_7: 0.0000e+00 - val_f1_8: 0.2306 - val_f1_9: 0.7168 - val_f1_10: 0.9649 - val_f1_12: 0.0000e+00 - val_f1_13: 0.0000e+00 - val_f1_14: 0.7229 - val_f1_15: 1.0000 - val_f1_16: 0.0000e+00 - val_f1_17: 0.2956 - val_f1_18: 0.0000e+00 - val_f1_20: 0.0000e+00 - val_f1_21: 0.0000e+00 - val_f1_22: 0.0000e+00 - val_f1_23: 0.7872 - val_f1_24: 0.8287 - val_f1_25: 0.9857 - val_f1_27: 0.6610 - val_f1_28: 0.8674 - val_f1_29: 0.9066 - val_f1_30: 0.9732 - val_f1_31: 0.6548 - val_f1_32: 1.0000 - val_f1_33: 0.9198 - val_f1_34: 0.0333 - val_f1_35: 0.8447 - val_f1_36: 0.4297 - val_f1_37: 0.9648 - val_f1_38: 0.0000e+00 - val_f1_39: 0.8130 - val_f1_40: 0.8688 - val_f1_41: 0.5138 - val_f1_42: 0.8094 - val_f1_43: 0.0895 - val_f1_44: 0.9966\n",
            "Epoch 40/40\n",
            "16/16 [==============================] - 67s 4s/step - loss: 0.0274 - accuracy: 0.9926 - f1: 0.6256 - f1_1: 0.9861 - f1_3: 0.7493 - f1_4: 0.9789 - f1_5: 0.9588 - f1_6: 0.1175 - f1_7: 0.0000e+00 - f1_8: 0.3466 - f1_9: 0.8053 - f1_10: 0.9688 - f1_12: 0.0000e+00 - f1_13: 0.1223 - f1_14: 0.8204 - f1_15: 0.9958 - f1_16: 0.0000e+00 - f1_17: 0.4027 - f1_18: 0.0000e+00 - f1_20: 0.0000e+00 - f1_21: 0.0000e+00 - f1_22: 0.0000e+00 - f1_23: 0.8568 - f1_24: 0.9108 - f1_25: 0.9917 - f1_27: 0.8087 - f1_28: 0.9111 - f1_29: 0.9593 - f1_30: 0.9826 - f1_31: 0.8008 - f1_32: 0.9987 - f1_33: 0.9528 - f1_34: 0.2149 - f1_35: 0.8850 - f1_36: 0.6825 - f1_37: 0.9842 - f1_38: 0.0000e+00 - f1_39: 0.9016 - f1_40: 0.9372 - f1_41: 0.8199 - f1_42: 0.8664 - f1_43: 0.3077 - f1_44: 0.9972 - val_loss: 0.0400 - val_accuracy: 0.9882 - val_f1: 0.5704 - val_f1_1: 0.9788 - val_f1_3: 0.6658 - val_f1_4: 0.9766 - val_f1_5: 0.9402 - val_f1_6: 0.0000e+00 - val_f1_7: 0.0000e+00 - val_f1_8: 0.2786 - val_f1_9: 0.7403 - val_f1_10: 0.9640 - val_f1_12: 0.0000e+00 - val_f1_13: 0.0667 - val_f1_14: 0.6956 - val_f1_15: 1.0000 - val_f1_16: 0.0000e+00 - val_f1_17: 0.1783 - val_f1_18: 0.0000e+00 - val_f1_20: 0.0000e+00 - val_f1_21: 0.0000e+00 - val_f1_22: 0.0000e+00 - val_f1_23: 0.7788 - val_f1_24: 0.8304 - val_f1_25: 0.9857 - val_f1_27: 0.6510 - val_f1_28: 0.8635 - val_f1_29: 0.9146 - val_f1_30: 0.9754 - val_f1_31: 0.7211 - val_f1_32: 1.0000 - val_f1_33: 0.9215 - val_f1_34: 0.0750 - val_f1_35: 0.8356 - val_f1_36: 0.4931 - val_f1_37: 0.9667 - val_f1_38: 0.0000e+00 - val_f1_39: 0.8382 - val_f1_40: 0.8715 - val_f1_41: 0.6150 - val_f1_42: 0.8142 - val_f1_43: 0.1830 - val_f1_44: 0.9966\n"
          ]
        }
      ]
    },
    {
      "cell_type": "markdown",
      "source": [
        "#History f1 for class"
      ],
      "metadata": {
        "id": "87_kBxnCwm0g"
      }
    },
    {
      "cell_type": "code",
      "source": [
        "f1_val_list = np.zeros(len(tag2index))\n",
        "for i in no_punct_indexes:\n",
        "  f1_val_list[i] = history.history['val_f1_{}'.format(i)][-1]\n",
        "f1_list = np.zeros(len(tag2index))\n",
        "for i in no_punct_indexes:\n",
        "  f1_list[i] = history.history['f1_{}'.format(i)][-1]"
      ],
      "metadata": {
        "id": "nbNUZ6RoZ_qp"
      },
      "execution_count": 34,
      "outputs": []
    },
    {
      "cell_type": "code",
      "source": [
        "index2tag = {value : key for (key, value) in tag2index.items()}\n",
        "index2tag"
      ],
      "metadata": {
        "colab": {
          "base_uri": "https://localhost:8080/"
        },
        "id": "RHprJp5QaCIj",
        "outputId": "96f9bc22-dd10-4eae-e2ea-19e81cc1f570"
      },
      "execution_count": 35,
      "outputs": [
        {
          "output_type": "execute_result",
          "data": {
            "text/plain": [
              "{0: '-PAD-',\n",
              " 1: 'MD',\n",
              " 2: ':',\n",
              " 3: 'VBG',\n",
              " 4: 'DT',\n",
              " 5: 'VBZ',\n",
              " 6: 'NNPS',\n",
              " 7: 'LS',\n",
              " 8: 'JJS',\n",
              " 9: 'RB',\n",
              " 10: 'IN',\n",
              " 11: '.',\n",
              " 12: 'RBS',\n",
              " 13: 'RBR',\n",
              " 14: 'JJ',\n",
              " 15: '$',\n",
              " 16: 'PDT',\n",
              " 17: 'JJR',\n",
              " 18: 'FW',\n",
              " 19: \"''\",\n",
              " 20: 'UH',\n",
              " 21: 'SYM',\n",
              " 22: '#',\n",
              " 23: 'EX',\n",
              " 24: 'NNP',\n",
              " 25: 'PRP$',\n",
              " 26: '``',\n",
              " 27: 'WP',\n",
              " 28: 'VBD',\n",
              " 29: 'CD',\n",
              " 30: 'PRP',\n",
              " 31: 'VBN',\n",
              " 32: 'TO',\n",
              " 33: 'WDT',\n",
              " 34: '-LRB-',\n",
              " 35: 'NN',\n",
              " 36: 'RP',\n",
              " 37: 'CC',\n",
              " 38: 'WP$',\n",
              " 39: 'NNS',\n",
              " 40: 'VB',\n",
              " 41: 'WRB',\n",
              " 42: 'VBP',\n",
              " 43: '-RRB-',\n",
              " 44: 'POS',\n",
              " 45: ','}"
            ]
          },
          "metadata": {},
          "execution_count": 35
        }
      ]
    },
    {
      "cell_type": "code",
      "source": [
        "for i in no_punct_indexes:\n",
        "  print('Tag: {} --- F1: {}'.format(index2tag[i], f1_list[i]))"
      ],
      "metadata": {
        "colab": {
          "base_uri": "https://localhost:8080/"
        },
        "id": "LoPk9XRiaEgx",
        "outputId": "86e9f175-9ecb-463c-bf87-e891e55c95cb"
      },
      "execution_count": 36,
      "outputs": [
        {
          "output_type": "stream",
          "name": "stdout",
          "text": [
            "Tag: MD --- F1: 0.9861435294151306\n",
            "Tag: VBG --- F1: 0.7493252158164978\n",
            "Tag: DT --- F1: 0.9788863658905029\n",
            "Tag: VBZ --- F1: 0.9588452577590942\n",
            "Tag: NNPS --- F1: 0.11751893162727356\n",
            "Tag: LS --- F1: 0.0\n",
            "Tag: JJS --- F1: 0.3466314971446991\n",
            "Tag: RB --- F1: 0.805275022983551\n",
            "Tag: IN --- F1: 0.9687918424606323\n",
            "Tag: RBS --- F1: 0.0\n",
            "Tag: RBR --- F1: 0.12233494222164154\n",
            "Tag: JJ --- F1: 0.8203631639480591\n",
            "Tag: $ --- F1: 0.9957756400108337\n",
            "Tag: PDT --- F1: 0.0\n",
            "Tag: JJR --- F1: 0.40267324447631836\n",
            "Tag: FW --- F1: 0.0\n",
            "Tag: UH --- F1: 0.0\n",
            "Tag: SYM --- F1: 0.0\n",
            "Tag: # --- F1: 0.0\n",
            "Tag: EX --- F1: 0.8568181991577148\n",
            "Tag: NNP --- F1: 0.9108277559280396\n",
            "Tag: PRP$ --- F1: 0.9917356967926025\n",
            "Tag: WP --- F1: 0.8087154030799866\n",
            "Tag: VBD --- F1: 0.9111243486404419\n",
            "Tag: CD --- F1: 0.9593055844306946\n",
            "Tag: PRP --- F1: 0.9825718402862549\n",
            "Tag: VBN --- F1: 0.8007776141166687\n",
            "Tag: TO --- F1: 0.9987005591392517\n",
            "Tag: WDT --- F1: 0.9528353214263916\n",
            "Tag: -LRB- --- F1: 0.21488092839717865\n",
            "Tag: NN --- F1: 0.8850233554840088\n",
            "Tag: RP --- F1: 0.6825176477432251\n",
            "Tag: CC --- F1: 0.9842092394828796\n",
            "Tag: WP$ --- F1: 0.0\n",
            "Tag: NNS --- F1: 0.9016332030296326\n",
            "Tag: VB --- F1: 0.9372258186340332\n",
            "Tag: WRB --- F1: 0.8198766708374023\n",
            "Tag: VBP --- F1: 0.8664230108261108\n",
            "Tag: -RRB- --- F1: 0.3077380657196045\n",
            "Tag: POS --- F1: 0.9972181916236877\n"
          ]
        }
      ]
    },
    {
      "cell_type": "code",
      "source": [
        "for i in no_punct_indexes:\n",
        "  print('Tag: {} --- Val_F1: {}'.format(index2tag[i], f1_val_list[i]))"
      ],
      "metadata": {
        "colab": {
          "base_uri": "https://localhost:8080/"
        },
        "id": "5AIxv0xZaG9M",
        "outputId": "65461dda-d1f9-4239-a56c-d38762a131c4"
      },
      "execution_count": 37,
      "outputs": [
        {
          "output_type": "stream",
          "name": "stdout",
          "text": [
            "Tag: MD --- Val_F1: 0.9788373112678528\n",
            "Tag: VBG --- Val_F1: 0.6657767295837402\n",
            "Tag: DT --- Val_F1: 0.9766331315040588\n",
            "Tag: VBZ --- Val_F1: 0.9402310252189636\n",
            "Tag: NNPS --- Val_F1: 0.0\n",
            "Tag: LS --- Val_F1: 0.0\n",
            "Tag: JJS --- Val_F1: 0.27857139706611633\n",
            "Tag: RB --- Val_F1: 0.7402987480163574\n",
            "Tag: IN --- Val_F1: 0.9639914631843567\n",
            "Tag: RBS --- Val_F1: 0.0\n",
            "Tag: RBR --- Val_F1: 0.06666665524244308\n",
            "Tag: JJ --- Val_F1: 0.6955986022949219\n",
            "Tag: $ --- Val_F1: 1.0\n",
            "Tag: PDT --- Val_F1: 0.0\n",
            "Tag: JJR --- Val_F1: 0.17834965884685516\n",
            "Tag: FW --- Val_F1: 0.0\n",
            "Tag: UH --- Val_F1: 0.0\n",
            "Tag: SYM --- Val_F1: 0.0\n",
            "Tag: # --- Val_F1: 0.0\n",
            "Tag: EX --- Val_F1: 0.7788460850715637\n",
            "Tag: NNP --- Val_F1: 0.8303753733634949\n",
            "Tag: PRP$ --- Val_F1: 0.9856583476066589\n",
            "Tag: WP --- Val_F1: 0.6509846448898315\n",
            "Tag: VBD --- Val_F1: 0.8635262846946716\n",
            "Tag: CD --- Val_F1: 0.9145641922950745\n",
            "Tag: PRP --- Val_F1: 0.9753745198249817\n",
            "Tag: VBN --- Val_F1: 0.7211470007896423\n",
            "Tag: TO --- Val_F1: 1.0\n",
            "Tag: WDT --- Val_F1: 0.9214633107185364\n",
            "Tag: -LRB- --- Val_F1: 0.07499998807907104\n",
            "Tag: NN --- Val_F1: 0.8356114029884338\n",
            "Tag: RP --- Val_F1: 0.4931360185146332\n",
            "Tag: CC --- Val_F1: 0.9666814804077148\n",
            "Tag: WP$ --- Val_F1: 0.0\n",
            "Tag: NNS --- Val_F1: 0.8381580710411072\n",
            "Tag: VB --- Val_F1: 0.8715111613273621\n",
            "Tag: WRB --- Val_F1: 0.615029513835907\n",
            "Tag: VBP --- Val_F1: 0.8141612410545349\n",
            "Tag: -RRB- --- Val_F1: 0.18304841220378876\n",
            "Tag: POS --- Val_F1: 0.996587336063385\n"
          ]
        }
      ]
    },
    {
      "cell_type": "code",
      "source": [
        "plt.bar(np.arange(len(norm)),norm)\n",
        "plt.show()"
      ],
      "metadata": {
        "id": "d_bdJYUHvgwV",
        "colab": {
          "base_uri": "https://localhost:8080/",
          "height": 265
        },
        "outputId": "0597f527-efa1-496b-8323-e92730984106"
      },
      "execution_count": 38,
      "outputs": [
        {
          "output_type": "display_data",
          "data": {
            "image/png": "[encoded data removed]",
            "text/plain": [
              "<Figure size 432x288 with 1 Axes>"
            ]
          },
          "metadata": {
            "needs_background": "light"
          }
        }
      ]
    },
    {
      "cell_type": "code",
      "source": [
        "plt.bar(np.arange(len(f1_val_list)),f1_val_list)\n",
        "plt.show()"
      ],
      "metadata": {
        "id": "-tR6MRO4yYH4",
        "colab": {
          "base_uri": "https://localhost:8080/",
          "height": 265
        },
        "outputId": "0df0be4c-6fac-4c26-b68a-38a970dc715a"
      },
      "execution_count": 39,
      "outputs": [
        {
          "output_type": "display_data",
          "data": {
            "image/png": "[encoded data removed]",
            "text/plain": [
              "<Figure size 432x288 with 1 Axes>"
            ]
          },
          "metadata": {
            "needs_background": "light"
          }
        }
      ]
    },
    {
      "cell_type": "markdown",
      "source": [
        "# Infos"
      ],
      "metadata": {
        "id": "tdQOOMeBaK6h"
      }
    },
    {
      "cell_type": "markdown",
      "source": [
        "# 40 epochs, batch 128\n",
        "loss: 0.0370 - accuracy: 0.9900 - f1: 0.5324"
      ],
      "metadata": {
        "id": "sjumesASaNsh"
      }
    },
    {
      "cell_type": "markdown",
      "source": [
        "#Test Evaluation"
      ],
      "metadata": {
        "id": "zCyIRGDdS485"
      }
    },
    {
      "cell_type": "code",
      "source": [
        "test_sentences_X,  test_tags_y = [], []\n",
        "\n",
        "for s in test_sentences:\n",
        "    s_int = []\n",
        "    for w in s:\n",
        "        try:\n",
        "            s_int.append(word_index[w.lower()])\n",
        "        except KeyError:\n",
        "            s_int.append(word_index['-OOV-'])\n",
        " \n",
        "    test_sentences_X.append(s_int)\n",
        "\n",
        "for s in test_tags:\n",
        "    test_tags_y.append([tag2index[t] for t in s])\n",
        "\n",
        "test_sentences_X = pad_sequences(test_sentences_X, maxlen=MAX_LENGTH, padding='post')\n",
        "\n",
        "test_tags_y = pad_sequences(test_tags_y, maxlen=MAX_LENGTH, padding='post')"
      ],
      "metadata": {
        "id": "sUZ9F2amtq-V"
      },
      "execution_count": 40,
      "outputs": []
    },
    {
      "cell_type": "code",
      "source": [
        "y_val_pred = model.predict(test_sentences_X)\n",
        "\n",
        "y_pred = np.zeros((y_val_pred.shape[0], y_val_pred.shape[1]), dtype=int)\n",
        "for i in range(len(y_val_pred)):\n",
        "  for j in range(len(y_val_pred[i])):\n",
        "    y_pred[i][j] = np.argmax(y_val_pred[i][j])"
      ],
      "metadata": {
        "id": "b7uGU-eftvUI"
      },
      "execution_count": 41,
      "outputs": []
    },
    {
      "cell_type": "code",
      "source": [
        "lrb = [tag2index['-LRB-']]\n",
        "rrb = [tag2index['-RRB-']]\n",
        "canc = [tag2index['#']]\n",
        "dol = [tag2index['$']]\n",
        "\n",
        "punct_cat_classes = to_categorical([point, virg, weird_apex, single_apex, two_dots, pad, lrb, rrb, canc, dol], len(tag2index))\n",
        "\n",
        "cum_tags = np.zeros(len(tag2index))\n",
        "for i in punct_cat_classes:\n",
        "  cum_tags += i[0]\n",
        "where_tags = np.where(np.logical_not(cum_tags))\n",
        "no_punct_indexes = where_tags[0]"
      ],
      "metadata": {
        "id": "OpoOertF4Hzx"
      },
      "execution_count": 42,
      "outputs": []
    },
    {
      "cell_type": "markdown",
      "source": [
        "Using the f1_score from sklearn"
      ],
      "metadata": {
        "id": "2_DoVNlxTDY2"
      }
    },
    {
      "cell_type": "code",
      "source": [
        "from sklearn.metrics import f1_score\n",
        "\n",
        "tags_flat = test_tags_y.flatten()\n",
        "pred_flat = y_pred.flatten()\n",
        "\n",
        "f1_model = f1_score(tags_flat, pred_flat, labels = no_punct_indexes, average='macro', zero_division=0)\n",
        "f1_model"
      ],
      "metadata": {
        "colab": {
          "base_uri": "https://localhost:8080/"
        },
        "id": "JWRGwHcaTeAh",
        "outputId": "18bf320c-8b84-4c0c-d288-b8bb92baf707"
      },
      "execution_count": 43,
      "outputs": [
        {
          "output_type": "execute_result",
          "data": {
            "text/plain": [
              "0.6305990841813212"
            ]
          },
          "metadata": {},
          "execution_count": 43
        }
      ]
    }
  ]
}