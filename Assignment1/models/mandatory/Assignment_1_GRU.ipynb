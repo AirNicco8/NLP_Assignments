{
  "nbformat": 4,
  "nbformat_minor": 0,
  "metadata": {
    "colab": {
      "name": "Assignment_1_GRU.ipynb",
      "provenance": [],
      "collapsed_sections": [
        "-WeCeITXoxLf",
        "a4_wqPdlBcKS",
        "wW9PX3JdtDIE",
        "IHEHfOiTtd-8",
        "ndqb8pzkgRAi"
      ],
      "include_colab_link": true
    },
    "kernelspec": {
      "display_name": "Python 3",
      "name": "python3"
    }
  },
  "cells": [
    {
      "cell_type": "markdown",
      "metadata": {
        "id": "view-in-github",
        "colab_type": "text"
      },
      "source": [
        "<a href=\"https://colab.research.google.com/github/AirNicco8/NLP_Assignments/blob/main/Assignment1/Assignment_1_GRU.ipynb\" target=\"_parent\"><img src=\"https://colab.research.google.com/assets/colab-badge.svg\" alt=\"Open In Colab\"/></a>"
      ]
    },
    {
      "cell_type": "markdown",
      "metadata": {
        "id": "-WeCeITXoxLf"
      },
      "source": [
        "# Assignment 1\n",
        "\n",
        "**Due to**: 23/12/2021 (dd/mm/yyyy)\n",
        "\n",
        "**Credits**: Andrea Galassi, Federico Ruggeri, Paolo Torroni\n",
        "\n",
        "**Summary**: Part-of Speech (POS) tagging as Sequence Labelling using Recurrent Neural Architectures"
      ]
    },
    {
      "cell_type": "markdown",
      "metadata": {
        "id": "a4_wqPdlBcKS"
      },
      "source": [
        "# Intro\n",
        "\n",
        "In this assignment  we will ask you to perform POS tagging using neural architectures\n",
        "\n",
        "You are asked to follow these steps:\n",
        "*   Download the corpora and split it in training and test sets, structuring a dataframe.\n",
        "*   Embed the words using GloVe embeddings\n",
        "*   Create a baseline model, using a simple neural architecture\n",
        "*   Experiment doing small modifications to the baseline model, choose hyperparameters using the validation set\n",
        "*   Evaluate your two best model\n",
        "*   Analyze the errors of your model\n",
        "\n",
        "\n",
        "**Task**: given a corpus of documents, predict the POS tag for each word\n",
        "\n",
        "**Corpus**:\n",
        "Ignore the numeric value in the third column, use only the words/symbols and its label. \n",
        "The corpus is available at:\n",
        "https://raw.githubusercontent.com/nltk/nltk_data/gh-pages/packages/corpora/dependency_treebank.zip\n",
        "\n",
        "**Splits**: documents 1-100 are the train set, 101-150 validation set, 151-199 test set.\n",
        "\n",
        "\n",
        "**Features**: you MUST use GloVe embeddings as the only input features to the model.\n",
        "\n",
        "**Splitting**: you can decide to split documents into sentences or not, the choice is yours.\n",
        "\n",
        "**I/O structure**: The input data will have three dimensions: 1-documents/sentences, 2-token, 3-features; for the output there are 2 possibilities: if you use one-hot encoding it will be 1-documents/sentences, 2-token labels, 3-classes, if you use a single integer that indicates the number of the class it will be 1-documents/sentences, 2-token labels.\n",
        "\n",
        "**Baseline**: two layers architecture: a Bidirectional LSTM layer and a Dense/Fully-Connected layer on top; the choice of hyper-parameters is yours.\n",
        "\n",
        "**Architectures**: experiment using a GRU instead of the LSTM, adding an additional LSTM layer, and adding an additional dense layer; do not mix these variantions.\n",
        "\n",
        "\n",
        "**Training and Experiments**: all the experiments must involve only the training and validation sets.\n",
        "\n",
        "**Evaluation**: in the end, only the two best models of your choice (according to the validation set) must be evaluated on the test set. The main metric must be F1-Macro computed between the various part of speech. DO NOT CONSIDER THE PUNCTUATION CLASSES.\n",
        "\n",
        "**Metrics**: the metric you must use to evaluate your final model is the F1-macro, WITHOUT considering punctuation/symbols classes; during the training process you can use accuracy because you can't use the F1 metric unless you use a single (gigantic) batch because there is no way to aggregate \"partial\" F1 scores computed on mini-batches.\n",
        "\n",
        "**Discussion and Error Analysis** : verify and discuss if the results on the test sets are coherent with those on the validation set; analyze the errors done by your model, try to understand which may be the causes and think about how to improve it.\n",
        "\n",
        "**Report**: you are asked to deliver the code of your experiments and a small pdf report of about 2 pages; the pdf must begin with the names of the people of your team and a small abstract (4-5 lines) that sums up your findings.\n",
        "\n",
        "# Out Of Vocabulary (OOV) terms\n",
        "\n",
        "How to handle words that are not in GloVe vocabulary?\n",
        "You can handle them as you want (random embedding, placeholder, whatever!), but they must be STATIC embeddings (you cannot train them).\n",
        "\n",
        "But there is a very important caveat! As usual, the element of the test set must not influence the elements of the other splits!\n",
        "\n",
        "So, when you compute new embeddings for train+validation, you must forget about test documents.\n",
        "The motivation is to emulate a real-world scenario, where you select and train a model in the first stage, without knowing nothing about the testing environment.\n",
        "\n",
        "For implementation convenience, you CAN use a single vocabulary file/matrix/whatever. The principle of the previous point is that the embeddings inside that file/matrix must be generated independently for train and test splits.\n",
        "\n",
        "Basically in a real-world scenario, this is what would happen:\n",
        "1. Starting vocabulary V1 (in this assignment, GloVe vocabulary)\n",
        "2. Compute embeddings for terms out of vocabulary V1 (OOV1) of the training split \n",
        "3. Add embeddings to the vocabulary, so to obtain vocabulary V2=V1+OOV1\n",
        "4. Training of the model(s)\n",
        "5. Compute embeddings for terms OOV2 of the validation split \n",
        "6. Add embeddings to the vocabulary, so to obtain vocabulary V3=V1+OOV1+OOV2\n",
        "7. Validation of the model(s)\n",
        "8. Compute embeddings for terms OOV3 of the test split \n",
        "9. Add embeddings to the vocabulary, so to obtain vocabulary V4=V1+OOV1+OOV2+OOV3\n",
        "10. Testing of the final model\n",
        "\n",
        "In this case, where we already have all the documents, we can simplify the process a bit, but the procedure must remain rigorous.\n",
        "\n",
        "1. Starting vocabulary V1 (in this assignment, GloVe vocabulary)\n",
        "2. Compute embeddings for terms out of vocabulary V1 (OOV1) of the training split \n",
        "3. Add embeddings to the vocabulary, so to obtain vocabulary V2=V1+OOV1\n",
        "4. Compute embeddings for terms OOV2 of the validation split \n",
        "5. Add embeddings to the vocabulary, so to obtain vocabulary V3=V1+OOV1+OOV2\n",
        "6. Compute embeddings for terms OOV3 of the test split \n",
        "7. Add embeddings to the vocabulary, so to obtain vocabulary V4=V1+OOV1+OOV2\n",
        "8. Training of the model(s)\n",
        "9. Validation of the model(s)\n",
        "10. Testing of the final model\n",
        "\n",
        "Step 2 and step 6 must be completely independent of each other, for what concerns the method and the documents. But they can rely on the previous vocabulary (V1 for step 2 and V3 for step 6)\n",
        "THEREFORE if a word is present both in the training set and the test split and not in the starting vocabulary, its embedding is computed in step 2) and it is not considered OOV anymore in step 6).\n",
        "\n",
        "# Report\n",
        "The report must not be just a copy and paste of graphs and tables!\n",
        "\n",
        "The report must not be longer than 2 pages and must contain:\n",
        "* The names of the member of your team\n",
        "* A short abstract (4-5 lines) that sum ups everything\n",
        "* A general description of the task you have addressed and how you have addressed it\n",
        "* A short description of the models you have used\n",
        "* Some tables that sum up your findings in validation and test and a discussion of those results\n",
        "* The most relevant findings of your error analysis\n",
        "\n",
        "# Evaluation Criterion\n",
        "\n",
        "The goal of this assignment is not to prove you can find best model ever, but to face a common task, structure it correctly, and follow a correct and rigorous experimental procedure.\n",
        "In other words, we don't care if you final models are awful as long as you have followed the correct procedure and wrote a decent report.\n",
        "\n",
        "The score of the assignment will be computed roughly as follows\n",
        "* 1 point for the general setting of the problem\n",
        "* 1 point for the handling of OOV terms\n",
        "* 1 point for the models\n",
        "* 1 point for train-validation-test procedure\n",
        "* 2 point for the discussion of the results, error analysis, and report\n",
        "\n",
        "This distribution of scores is tentative and we may decide to alter it at any moment.\n",
        "We also reserve the right to assign a small bonus (0.5 points) to any assignment that is particularly worthy. Similarly, in case of grave errors, we may decide to assign an equivalent malus (-0.5 points).\n",
        "\n",
        "# Contacts\n",
        "\n",
        "In case of any doubt, question, issue, or help we highly recommend you to check the [course useful material](https://virtuale.unibo.it/pluginfile.php/1036039/mod_resource/content/2/NLP_Course_Useful_Material.pdf) for additional information, and to use the Virtuale forums to discuss with other students.\n",
        "\n",
        "You can always contact us at the following email addresses. To increase the probability of a prompt response, we reccomend you to write to both the teaching assistants.\n",
        "\n",
        "Teaching Assistants:\n",
        "\n",
        "* Andrea Galassi -> a.galassi@unibo.it\n",
        "* Federico Ruggeri -> federico.ruggeri6@unibo.it\n",
        "\n",
        "Professor:\n",
        "\n",
        "* Paolo Torroni -> p.torroni@unibo.it\n",
        "\n",
        "\n",
        "# FAQ\n",
        "* You can use a non-trainable Embedding layer to load the glove embeddings\n",
        "* You can use any library of your choice to implement the networks. Two options are tensorflow/keras or pythorch. Both these libraries have all the classes you need to implement these simple architectures and there are plenty of tutorials around, where you can learn how to use them."
      ]
    },
    {
      "cell_type": "markdown",
      "source": [
        "# Imports & Dataset"
      ],
      "metadata": {
        "id": "wW9PX3JdtDIE"
      }
    },
    {
      "cell_type": "code",
      "metadata": {
        "id": "emdubW66fnlD"
      },
      "source": [
        "import os, shutil  #  file management\n",
        "import sys \n",
        "import pandas as pd  #  dataframe management\n",
        "import numpy as np  #  data manipulation\n",
        "import matplotlib.pyplot as plt\n",
        "import urllib.request  #  download files\n",
        "import zipfile  #  unzip files\n",
        "import nltk\n",
        "import tensorflow as tf\n",
        "from tensorflow import keras"
      ],
      "execution_count": null,
      "outputs": []
    },
    {
      "cell_type": "code",
      "metadata": {
        "id": "H3Og8Jeg_LdG"
      },
      "source": [
        "from keras import metrics \n",
        "from tensorflow.python.keras.metrics import Metric\n",
        "from sklearn.metrics import f1_score\n",
        "import keras.backend as K"
      ],
      "execution_count": null,
      "outputs": []
    },
    {
      "cell_type": "code",
      "metadata": {
        "colab": {
          "base_uri": "https://localhost:8080/"
        },
        "id": "26J_gJt6yYle",
        "outputId": "ee75b20c-61a5-4a6a-dc6e-a85f5396429a"
      },
      "source": [
        "!pip install -U keras"
      ],
      "execution_count": null,
      "outputs": [
        {
          "output_type": "stream",
          "name": "stdout",
          "text": [
            "Requirement already satisfied: keras in /usr/local/lib/python3.7/dist-packages (2.7.0)\n"
          ]
        }
      ]
    },
    {
      "cell_type": "code",
      "metadata": {
        "colab": {
          "base_uri": "https://localhost:8080/"
        },
        "id": "E3xn1MZPgA_v",
        "outputId": "67efdb08-a27a-4a3f-aaca-ebe04f3f4cc0"
      },
      "source": [
        "dataset_folder = os.path.join(os.getcwd(), \"Datasets\", \"Original\")\n",
        "\n",
        "if not os.path.exists(dataset_folder):\n",
        "    os.makedirs(dataset_folder)\n",
        "\n",
        "url = 'https://raw.githubusercontent.com/nltk/nltk_data/gh-pages/packages/corpora/dependency_treebank.zip'\n",
        "\n",
        "dataset_path = os.path.join(dataset_folder, \"treebank.zip\")\n",
        "\n",
        "if not os.path.exists(dataset_path):\n",
        "    urllib.request.urlretrieve(url, dataset_path)\n",
        "    print(\"Successful download\")\n",
        "\n",
        "with zipfile.ZipFile(dataset_path, 'r') as zip_ref:\n",
        "    zip_ref.extractall(dataset_folder)\n",
        "print(\"Successful extraction\")"
      ],
      "execution_count": null,
      "outputs": [
        {
          "output_type": "stream",
          "name": "stdout",
          "text": [
            "Successful extraction\n"
          ]
        }
      ]
    },
    {
      "cell_type": "markdown",
      "source": [
        "# Pre Processing\n",
        "- splitting"
      ],
      "metadata": {
        "id": "fLZ2apM5sVrQ"
      }
    },
    {
      "cell_type": "code",
      "metadata": {
        "id": "LKbUsrVHhGAG"
      },
      "source": [
        "dataset_name = \"dependency_treebank\"\n",
        "\n",
        "\n",
        "folder = os.path.join(os.getcwd(), \"Datasets\", \"Original\", dataset_name)\n",
        "\n",
        "pre_train = []\n",
        "pre_valid = []\n",
        "pre_test = []\n",
        "i = 1\n",
        "\n",
        "file_list = sorted(os.listdir(folder))\n",
        "\n",
        "for filename in file_list:\n",
        "  file_path = os.path.join(folder, filename)\n",
        "  if os.path.isfile(file_path):\n",
        "    # open the file\n",
        "      text = []\n",
        "      with open(file_path, mode='r', encoding='utf-8') as text_file:\n",
        "        text = text_file.read()\n",
        "        if i <= 100:\n",
        "          pre_train.append(text)\n",
        "        elif i <= 150:\n",
        "          pre_valid.append(text)\n",
        "        else:\n",
        "          pre_test.append(text)  \n",
        "  i+=1\n",
        "\n",
        "tr = []\n",
        "val = []\n",
        "tes = []\n",
        "\n",
        "for paragraph in pre_train:\n",
        "   tr.append(paragraph.split('\\n'))\n",
        "for paragraph in pre_valid:\n",
        "   val.append(paragraph.split('\\n'))\n",
        "for paragraph in pre_test:\n",
        "   tes.append(paragraph.split('\\n'))\n"
      ],
      "execution_count": null,
      "outputs": []
    },
    {
      "cell_type": "code",
      "metadata": {
        "id": "GUgbTXi-F7Sa"
      },
      "source": [
        "train = []\n",
        "valid = []\n",
        "test = []\n",
        "\n",
        "for i in tr:\n",
        "  for j in i:\n",
        "    train.append(j.split('\\t'))\n",
        "\n",
        "for i in val:\n",
        "  for j in i:\n",
        "    valid.append(j.split('\\t'))\n",
        "\n",
        "for i in tes:\n",
        "  for j in i:\n",
        "    test.append(j.split('\\t'))"
      ],
      "execution_count": null,
      "outputs": []
    },
    {
      "cell_type": "code",
      "metadata": {
        "id": "bmzVaRuQFp0M"
      },
      "source": [
        "train_sentences = []\n",
        "valid_sentences = []\n",
        "test_sentences = []\n",
        "train_tags = []\n",
        "valid_tags = []\n",
        "test_tags = []\n",
        "\n",
        "s = []\n",
        "t = []\n",
        "for i in train:\n",
        "  if i[0] != '':\n",
        "    s.append(i[0])\n",
        "    t.append(i[1])\n",
        "  else:\n",
        "    train_sentences.append(s)\n",
        "    train_tags.append(t)\n",
        "    s = []\n",
        "    t = []\n",
        "\n",
        "s = []\n",
        "t = []\n",
        "for i in valid:\n",
        "  if i[0] != '':\n",
        "    s.append(i[0])\n",
        "    t.append(i[1])\n",
        "  else:\n",
        "    valid_sentences.append(s)\n",
        "    valid_tags.append(t)\n",
        "    s = []\n",
        "    t = []\n",
        "\n",
        "s = []\n",
        "t = []\n",
        "for i in test:\n",
        "  if i[0] != '':\n",
        "    s.append(i[0])\n",
        "    t.append(i[1])\n",
        "  else:\n",
        "    test_sentences.append(s)\n",
        "    test_tags.append(t)\n",
        "    s = []\n",
        "    t = []"
      ],
      "execution_count": null,
      "outputs": []
    },
    {
      "cell_type": "code",
      "metadata": {
        "id": "tB65cUFLIeEr"
      },
      "source": [
        "flat_train = [item for sublist in train_sentences for item in sublist]\n",
        "flat_valid = [item for sublist in valid_sentences for item in sublist]\n",
        "flat_test = [item for sublist in test_sentences for item in sublist]"
      ],
      "execution_count": null,
      "outputs": []
    },
    {
      "cell_type": "markdown",
      "source": [
        "# Tokenization\n",
        "- vocabularies\n",
        "- GloVe download"
      ],
      "metadata": {
        "id": "9jV2NMEFskis"
      }
    },
    {
      "cell_type": "code",
      "metadata": {
        "id": "TZO6ga1EGHdh"
      },
      "source": [
        "from keras.preprocessing.text import Tokenizer\n",
        "\n",
        "train_tokenizer = Tokenizer()                     # instantiate tokeniser\n",
        "train_tokenizer.fit_on_texts(train_sentences)                    # fit tokeniser on data\n",
        "train_encoded = train_tokenizer.texts_to_sequences(train_sentences)\n",
        "\n",
        "valid_tokenizer = Tokenizer()       \n",
        "valid_tokenizer.fit_on_texts(valid_sentences)                  # instantiate tokeniser\n",
        "valid_encoded = valid_tokenizer.texts_to_sequences(valid_sentences)\n",
        "\n",
        "test_tokenizer = Tokenizer()                     # instantiate tokeniser\n",
        "test_tokenizer.fit_on_texts(test_sentences)                    # fit tokeniser on data\n",
        "test_encoded = test_tokenizer.texts_to_sequences(test_sentences)  # use the tokeniser to encode input sequence"
      ],
      "execution_count": null,
      "outputs": []
    },
    {
      "cell_type": "code",
      "source": [
        "train_tokenizer.word_index.keys()"
      ],
      "metadata": {
        "colab": {
          "base_uri": "https://localhost:8080/"
        },
        "id": "hUUgUYJlAtti",
        "outputId": "248df48c-a024-4928-f621-3403899ed488"
      },
      "execution_count": null,
      "outputs": [
        {
          "output_type": "execute_result",
          "data": {
            "text/plain": [
              "dict_keys([',', 'the', '.', 'of', 'to', 'a', 'in', 'and', 'for', \"'s\", 'that', '``', \"''\", '$', 'is', 'said', 'it', 'on', 'mr.', 'at', 'with', 'by', 'as', 'was', 'has', 'are', \"n't\", 'have', 'its', 'he', 'new', 'but', 'an', 'from', 'be', 'u.s.', '%', 'they', 'says', 'will', '--', 'about', 'million', 'or', 'this', 'company', 'their', 'more', 'who', 'were', 'year', 'which', 'japanese', 'than', ';', 'had', 'would', 'she', 'one', 'also', 'been', 'not', 'president', 'years', 'billion', 'market', 'up', 'some', 'japan', 'first', 'corp.', 'other', ':', 'his', 'because', 'i', 'two', 'we', 'there', 'all', 'can', 'trading', 'last', 'stock', 'mrs.', 'if', 'many', 'no', 'so', 'york', 'say', 'any', 'such', 'when', 'could', 'these', 'her', 'inc.', 'into', 'funds', 'time', 'after', 'do', 'even', '&', \"'\", 'out', '-rrb-', 'only', 'companies', 'bank', 'most', 'over', '-lrb-', 'research', 'co.', 'next', 'business', 'test', 'group', 'now', 'share', 'federal', 'what', 'did', 'prices', 'trade', 'high', 'may', 'government', 'price', 'yeargin', 'them', 'department', 'under', 'made', 'you', 'securities', 'shares', 'since', 'while', 'cray', 'investment', 'school', 'vice', 'those', 'rates', 'week', 'state', 'much', 'banks', 'make', 'recent', 'investors', 'sales', 'executive', 'another', 'country', 'american', 'students', 'down', 'like', 'south', 'program', 'chairman', 'three', 'common', 'ad', 'exchange', 'number', 'does', 'money', 'both', 'growth', 'before', 'financial', 'people', 'issue', 'off', 'officials', 'small', 'interest', 'average', 'well', 'economic', 'plan', 'chief', 'yesterday', 'september', '10', 'board', 'rate', 'earlier', 'international', 'offer', 'pay', 'help', 'yen', 'stocks', 'according', 'still', 'take', 'just', 'month', 'computer', 'ringers', 'suspension', 'report', 'october', 'construction', 'china', 'england', 'university', 'contract', 'where', 'same', 'magazine', 'world', 'bid', 'less', 'foreign', 'part', 'get', 'index', 'products', 'early', 'far', 'higher', 'force', 'cash', 'during', 'debt', 'until', 'months', 'fine', 'without', 'big', 'john', 'edison', 'judge', '50', 'each', 'through', 'firm', 'several', 'concern', 'georgia', 'wine', 'hahn', 'ago', 'sold', 'countries', 'managers', 'work', 'tuesday', 'dividends', 'days', 'based', '1990', 'added', 'own', 'dividend', '?', 'markets', 'tokyo', '15,000', 'futures', 'bells', 'director', 'unit', 'treasury', 'city', 'good', 'economy', 'spending', 'orders', 'issues', 'very', 'five', 'took', 'yield', 'rose', 'industry', 'house', 'association', 'capital', 'end', 'return', 'way', 'against', 'court', 'cents', 'customers', 'spokesman', 'law', 'firms', 'major', 'bush', 'often', 'buy', 'gulf', 'limit', 'fined', 'among', \"'re\", 'including', 'should', 'currently', 'management', 'then', 'general', 'korea', 'between', 'public', 'officer', '100', 'materials', 'questions', 'nixon', 'used', '30', 'reported', 'current', 'savings', 'washington', 'however', 'largest', '1', 'case', 'want', 'analysts', 'being', '15', 'growing', '1987', 'tests', 'your', 'services', 'sea', 'containers', 'wage', 'old', 'workers', 'today', 'national', 'expected', 'recently', 'fund', 'point', 'example', 'fell', 'raise', 'manufacturing', 'corporate', 'increase', 'began', 'plans', 'news', 'too', '2', 'below', 'demand', 'political', 'around', 'commission', 'set', 'comment', 'rights', 'office', 'members', 'see', 'talks', 'never', 'life', 'region', '10,000', 'church', 'although', 'information', 'whether', 'four', 'total', 'factory', 'nations', 'reached', 'ltd.', 'manager', 'maker', 'william', 'official', '500', 'give', 'long', 'use', 'banking', 'robert', 'commonwealth', '1985', 'trucks', 'strong', 'little', 'principal', 'finance', 'here', 'michael', 'sell', 'asia', 'union', 'think', 'deal', 'campaign', 'net', 'notes', 'teacher', 'ward', 'irs', 'wines', 'form', 'our', 'us', 'plant', 'few', 'almost', 'august', 'act', 'senior', 'offered', 'become', 'purchase', '1988', 'past', '12', 'called', 'face', 'fujitsu', 'hills', 'cases', 'following', 'london', 'late', 'committee', 'always', 'young', 'abortion', 'carolina', 'scoring', 'named', 'problem', 'james', 'dr.', 'different', 'though', 'investments', 'period', 'despite', 'dollar', 'congress', 'marketing', 'meeting', 'decided', 'fed', 'trying', 'advertisers', 'full', '1989', 'six', 'come', 'noted', 'owns', '...', 'might', 'possible', 'commerce', 'local', 'richard', 'close', 'weeks', 'action', 'right', 'production', 'dollars', 'designed', '13', 'johnson', 'declined', 'great', 'health', 'women', 'job', 'lawyers', 'greenville', 'light', 'nl', 's&p', 'bell', 'former', 'industrial', 'asbestos', 'times', 'found', 'continue', 'sale', 'annual', 'held', 'free', 'ministry', 'credit', 'decline', 'paying', 'r.', 'ordered', 'already', 'additional', 'every', 'least', 'loss', 'paid', 'result', '-lcb-', '-rcb-', 'data', 'became', 'level', 'cut', 'nearly', 'put', 'above', 'how', 'account', 'oct.', 'contracts', 'going', 'lane', 'charge', 'mitsubishi', 'commercial', 'tv', 'dinkins', 'coleman', 'wanted', 'chicago', 'california', 'effect', 'my', 'scores', 'education', 'learning', 'points', 'administration', 'bottle', 'consented', 'fields', 'once', 'show', 'using', 'having', 'institute', 'making', '18', 'western', 'support', 'kind', 'further', 'watch', 'go', 'shareholders', 'holding', 'bonds', 'legislation', 'service', 'previously', '20', 'back', 'away', 'future', 'newsweek', 'advertising', 'increasing', 'system', 'move', 'matter', 'order', '3', 'disclosed', 'believe', 'age', 'terms', 'half', '40', 'came', 'david', 'wants', 'ii', 'product', 'home', 'telephone', 'organization', 'clients', '90', 'agreed', 'rise', 'survey', 'indicated', 'asked', 'relations', 'line', 'bond', 'student', 'artist', 'across', 'courter', 'asian', 'policy', 'teachers', 'testing', 'safety', 'told', 'need', 'stock-index', 'later', 'schools', 'study', 'class', 't.', 'acquisition', 'expects', 'transaction', 'completed', 'nation', 'decision', 'special', 'cars', 'figures', 'wednesday', 'imports', 'remain', 'keep', 'costs', 'drop', 'proposed', 'got', 'hard', 'increases', 'review', 'closed', 'consumer', 'refund', 'april', 'record', 'dealers', 'march', 'compared', 'development', 'cray-3', 'him', '1991', 'profit', 'software', 'agreement', 'standards', 'slow', 'street', 'acquired', 'stake', 'changes', 'role', 'co', 'traded', 'goods', 'failed', 'purchasing', 'defense', 'private', 'leading', 'change', 'lot', 'mark', 'man', 'something', 'ms.', 'chinese', 'real', 'martin', 'woman', 'look', 'insurance', 'mary', 'southeast', 'cheating', 'answers', 'district', 'unfair', 'funding', 'volume', 'rally', 'quarter', 'criminal', 'guild', 'minimum', 'georgia-pacific', 'cosby', 'ratings', 'st.', 'temple', 'barred', 'simmons', 'nov.', 'publishing', 'percentage', 'researchers', 'makes', 'latest', 'likely', 'a.', 'led', 'team', 'standard', 'particularly', 'large', 'question', 'place', 'considered', 'institutions', 'assets', 'seats', 'regulatory', 'operations', 'systems', 'ceiling', 'j.', 'manufacturers', 'fall', '4', 'announced', 'second', 'competition', 'cost', 'circulation', 'lower', 'hampshire', 'saying', 'potential', 'outside', 'value', 'concerns', 'curry', 'earnings', 'rule', 'poor', '21', 'previous', 'texas', 'opened', 'working', 'beginning', 'technology', 'equipment', 'addition', 'improve', 'themselves', 'enough', 'secretary', '8', 'history', 'television', 'jobs', 'barrels', 'white', 'magna', 'offering', 'issued', 'june', '6', \"'m\", 'better', 'quickly', 'clear', 'sector', 'building', 'lead', 'slowing', 'low', 'evidence', 'thing', 'important', 'sony', 'proposal', 'bill', 'given', 'needed', 'taken', 'industries', 'ads', 'income', 'voice', 'know', 'wilder', 'stations', 'rep.', 'involved', 'standardized', '5,000', 'third', 'others', 'fetal-tissue', 'takeover', 'media', 'attorneys', 'bids', 'leaders', 'profits', 'nekoosa', 'la', 'mitsui', 'training', 'phelan', 'kent', 'filters', 'cancer', 'findings', 'neither', 'nor', 'risk', 'medical', 'paper', 'men', 'closely', 'probably', 'college', 'day', 'longer', 'sign', 'monday', '9', '30-day', 'd.', 'energy', 'approved', 'suspended', 'course', 'valley', 'executives', 'nine', 'looking', 'showed', 'increased', '1986', 'yet', 'meet', 'pages', 'watches', 'electric', 'united', 'northeast', 'ps', '11', 'raising', 'jr.', 'fact', 'field', 'turned', 'composite', 'm.', 'circuit', 'groups', 'received', 'amount', 'dec.', 'ruling', 'estimated', 'performance', 'spinoff', 'include', 'investor', 'direct', 'nec', 'why', 'list', 'spring', 'movie', 'problems', 'continuing', 'minister', 'wall', 'computers', 'developed', 'together', 'raised', 'thomas', 'certain', 'produced', 'effort', 'english', 'went', 'france', 'jointly', 'outstanding', 'anything', 'find', '7', 'instance', 'americans', 'legal', 'meanwhile', 'recession', 'provide', 'accounts', 'included', 'strike', 'hours', 'consumers', 'charges', 'planned', 'ca', 'film', 'night', 'achievement', 'negative', 'introduced', 'known', 'coming', 'friends', 'remains', 'forms', 'partly', 'won', 'alleged', '1984', 'pressure', 'wrongdoing', 'states', 'classroom', 'programs', \"'ve\", 'gained', 'connecticut', 'traders', '3\\\\/4', 'customer', 'individuals', 'trudeau', 'america', 'member', 'violations', 'calif.', 'g.', 'thursday', 'viacom', 'garbage', 'jones', 'glass', 'packages', 'fla.', 'trades', 'ringing', 'vicar', 'nasd', '55', 'caused', 'cigarettes', 'journal', 'bring', 'attention', 'highest', 'agency', 'ban', 'areas', 'continued', 'continues', 'rising', 'again', 'short-term', 'seven', 'pacific', 'complete', 'dropped', 'chrysler', 'division', 'idea', 'makers', 'gave', 'treatment', 'registered', 'monthly', 'exports', 'january', '19', 'base', 'doing', 'gains', 'worth', 'equity', 'related', 'operating', 'summer', 'electronics', 'begin', 'whose', 'domestic', 'instruments', 'control', '60', 'filed', 'financing', 'fully', '16', 'believes', 'nasdaq', 'able', 'rather', 'taiwan', 'best', 'measure', 'lawyer', 'malaysia', 'elaborate', 'bad', 'assistant', 'significant', 'personal', 'launched', '1977', 'sets', 'pcs', 'types', 'capacity', 'scheduled', 'venture', 'turn', 'shareholder', 'seek', 'conference', 'similar', 'goldman', 'sachs', 'key', 'giant', 'november', 'currency', 'publicly', 'single', 'head', 'associates', 'soon', 'individual', 'easy', 'mature', 'european', 'democratic', 'society', 'front', 'helped', 'boost', 'mcgraw-hill', 'export', 'reporting', 'improvement', 'chase', 'sides', 'talk', 'offers', 'seems', 'practice', 'rules', 'employees', 'partners', 'except', 'feel', 'build', 'estate', 'tramp', 'really', 'prepared', 'black', 'seem', 'expensive', 'sound', 'resistance', 'client', 'discussions', 'goes', 'ahead', 'marshall', 'de', 'taking', 'wrong', 'blacks', 'things', 'hearing', 'radio', 'britain', 'cat', 'loan', 'c.', 'transplants', 'wo', 'cause', 'interstate', 'massachusetts', 'transactions', 'justice', 'statement', 'access', 'adds', 'campbell', 'belts', 'dow', 'cabernet', 'experience', 'candela', 'package', 'foster', 'merc', 'tower', 'admitting', 'denying', 'disgorge', 'compromise', 'nonexecutive', 'gold', 'british', 'deaths', 'crocidolite', 'lorillard', 'medicine', 'story', 'worked', 'mass.', 'professor', 'july', 'huge', 'area', 'human', '35', 'yields', 'signs', 'compound', '400', 'ended', 'thought', 'open', 'six-month', 'bills', 'top', 'fees', 'resigned', 'controls', 'revenue', 'senate', 'default', 'corp', 'followed', 'police', 'announcer', 'meetings', 'deficit', 'sharply', 'pace', 'introduce', 'b.', '5', 'page', 'heavy', 'none', 'internal', 'bankruptcy', 'acquire', 'rowe', 'true', 'ross', 'seeking', 'succeed', '250', 'power', 'required', '45', 'underlying', 'exact', 'changed', 'ill.', 'involving', 'devices', 'machine', 'balance', 'documents', 'project', 'perhaps', 'details', 'note', 'p.', 'either', 'require', 'handling', 'fewer', 'range', 'instead', 'book', 'posted', 'colo.', 'includes', 'douglas', 'hardware', 'patents', 'intellectual-property', 'thailand', 'representative', 'sanctions', 'property', 'progress', 'prosecutors', 'producers', '17', 'canada', 'patent', 'efforts', 'reports', 'met', 'stand', 'apple', 'built', 'stephen', 'unlike', 'gives', '70', 'oil', 'australia', 'joint', 'southern', 'businesses', 'duty-free', 'covered', 'grant', 'main', 'stronach', 'parliament', 'chemical', 'bought', 'buying', '14', 'extend', 'debts', 'hefty', 'marks', 'consecutive', 'surged', 'announcement', 'regulators', 'charles', 'e.', 'visit', 'partner', 'popular', 'analyst', 'premium', 'global', 'europe', 'levels', 'affairs', 'unless', 'war', 'generally', 'ran', 'activity', 'adjusted', 'inventories', '`', 'strength', 'consider', 'difference', 'items', 'sheep', 'especially', 'worry', 'call', 'game', 'must', 'run', 'katzenstein', 'whom', 'crime', 'deputy', 'stores', 'central', 'conditions', 'membership', '1979', 'win', 'beijing', 'daily', 'newspaper', 'loans', 'dam', 'highly', 'view', 'selling', 'larger', 'getting', 'giuliani', 'shows', 'candidates', 'opposed', 'situation', 'series', 'suggested', 'victims', 'tried', 'positive', 'florio', 'female', 'asks', 'environment', 'rockefeller', 'quoted', 'budget', 'comes', 'approach', 'east', 'gain', 'security', 'pennsylvania', 'parents', 'geography', 'actions', 'bonus', 'educators', 'booklets', 'critics', 'kids', 'overall', 'indeed', 'interested', 'prevent', 'pretty', 'avoid', 'trial', 'macmillan\\\\/mcgraw', 'aimed', 'louis', 'sullivan', 'approve', '1\\\\/4', '5\\\\/8', 'miami', 'letters', 'moderate', 'judicial', 'judges', 'san', 'francisco', 'care', 'gaf', 'n.j.', 'auctions', 'retail', 'air', \"'ll\", 'n.y.', 'packaging', '75', 'minivans', 'stanley', 'retin-a', 'corporations', 'institution', 'floor', 'markey', 'nbi', 'guards', 'hour', 'join', 'cigarette', 'brief', 'york-based', 'stopped', 'preliminary', 'results', 'talking', 'studied', 'talcott', 'boston', 'diseases', 'finding', 'appears', 'argue', 'fibers', 'protection', 'uses', 'imported', 'process', 'described', 'mutual', 'slide', 'portfolio', 'expect', 'declines', 'declining', 'relatively', 'stronger', 'editor', 'yielding', 'world-wide', 'overseas', 'simple', 'grace', 'elected', 'approval', 'interests', 'mechanical', 'engineering', 'lift', 'taxes', 'auto', 'motor', 'indianapolis', 'owners', 'along', 'evening', 'champagne', 'red', 'honor', 'space', 'name', 'hotel', 'block', 'standing', 'released', 'fifth', 'labor', 'sluggish', 'rival', 'incentive', 'spent', 'totaled', 'bidding', 'risks', 'reorganization', 'proceedings', 'conn.', 'suffer', 'improved', 'substantial', 'factors', 'adviser', 'troubled', 'request', 'hopes', '25', 'illegal', 'nuclear', 'ever', 'appeals', 'round', '31', 'administrative', 'near', 'supreme', 'expenses', 'subject', 'hope', 'introduction', 'miles', 'produce', 'vehicles', 'supercomputer', 'seymour', 'pending', 'providing', 'heads', '120', 'presence', 'minneapolis', 'chip', 'sec', 'leave', 'clearly', 'eastern', 'so-called', 'priority', 'varying', 'enforcement', 'spain', 'combined', 'prompted', 'requires', 'ask', 'rapanelli', 'advance', 'club', 'paul', 'atlanta', 'allow', 'shipments', 'annually', '23', 'convertible', 'preferred', 'launch', 'whiting', 'brought', 'started', 'reserves', 'start', 'shearson', 'philippines', 'aide', 'mcalpine', 'expansion', 'quarterly', 'canadian', 'founder', 'mortgage', 'purchases', 'institutional', 'rest', 'hong', 'kong', 'boosted', 'l.', 'expanding', 'giving', 'tender', 'expire', 'sixth', 'portfolios', 'george', 'foot', 'porter', 'smith', 'behind', 'swing', 'broader', 'wild', 'reason', 'long-term', '1992', 'integration', 'jumped', 'increasingly', 'suggests', 'adrs', 'party', 'soviet', 'separate', 'inflation', 'reserve', 'slowdown', 'bankers', 'eventually', 'dodge', 'pressures', 'delivery', 'provided', 'trend', 'short', 'supply', 'milk', 'article', 'novel', 'reruns', 'read', 'writers', 'figure', 'copies', 'books', 'written', 'language', 'usually', 'carry', 'spirit', 'male', 'ties', 'lives', 'parties', 'sometimes', 'fired', 'social', 'becoming', 'prime', 'urged', 'center', '20,000', 'necessary', 'asking', 'disease', 'hungary', 'czechoslovakia', 'warrants', '1,000', 'chaplin', 'writer', 'streets', 'sidewalk', 'stories', 'playing', 'purpose', 'returns', 'child', 'children', 'final', 'french', 'picture', 'attack', 'politics', 'needs', 'jersey', 'virginia', 'screen', 'straight', 'politicians', 'insists', 'refused', 'incomplete', 'side', 'knows', 'rape', 'attorney', 'bob', '1983', 'mean', 'pictures', 'waste', 'grows', 'appeared', 'influence', 'military', 'decade', 'regional', 'ease', 'basic', 'skills', 'seen', 'passed', 'matched', 'section', 'me', 'colleagues', 'reform', 'ability', 'practices', 'keeping', 'preparation', 'trouble', 'teaching', 'source', 'admits', 'watson', 'host', 'favor', 'add', 'kaminski', 'mich.', 'bar', 'knowledge', 'oppose', 'mason', 'scientific', 'majority', 'panel', 'nih', 'debate', 'trust', '7\\\\/8', 'merger', 'heritage', 'pop', 'operator', 'trotter', 'fiscal', 'sonnett', 'sent', 'troubles', 'suit', 'disciplinary', 'activities', 'opening', 'manhattan', 'specialty', 'sure', 'yamamoto', 'headquarters', 'communications', 'lake', 'columbia', 'valued', 'network', 'willing', 'poore', 'editors', 'soup', 'spend', 'programming', 'philadelphia', 'sherwood', 'vans', 'vehicle', 'car', 'fairly', 'roof-crush', 'ford', '1982', 'heights', 'leap', 'diamond', 'creek', 'segments', 'petrus', 'salon', 'soared', 'pratt', 'rapidly', 'orleans', 'ideas', 'door', 'guffey', 'slower', 'vote', 'estimates', 'chemicals', 'morgan', 'acquisitions', 'differences', 'dallara', 'pickens', 'minority', 'klauser', 'deposit', 'breaker', 'subcommittee', 'ropes', 'churches', 'band', 'ringer', 'ring', 'baldwin', 'payouts', 'embassy', '30,000', '10-day', 'whelen', '2,500', '25,000', 'arbitrage', '61', 'n.v.', 'rudolph', 'plc', 'enters', 'decades', 'heard', 'aware', 'spokeswoman', 'type', '33', 'asbestos-related', 'owned', 'buildings', 'easily', 'rejected', 'environmental', 'virtually', 'remaining', 'dumped', 'material', 'mixed', 'dry', 'parts', 'recognize', 'events', 'seven-day', 'maturity', 'maturities', 'indicate', 'indicator', 'grew', '1.5', 'dollar-denominated', 'w.r.', 'holds', '27', 'thrift', 'bailey', 'ohio', 'authority', 'borrowing', 'trillion', 'cutting', '3.1', 'position', 'boca', 'hot', 'springs', 'settled', 'guests', 'prove', '125', 'receiving', 'message', 'giants', 'steel', 'joined', 'mayor', 'h.', 'iii', 'morning', 'lights', 'governor', 'food', 'drivers', 'race', 'machines', 'buses', 'february', 'stood', 'disputes', 'target', 'post', 'maintaining', 'alan', 'spoon', 'effectively', 'per', 'matters', 'flat', 'leaves', 'illuminating', 'utilities', 'independent', 'places', '2.2', 'forecasts', 'electricity', 'persistent', 'withdraw', 'complicated', '63', 'directors', 'appliances', 'retired', 'illinois', 'considering', '1\\\\/2', '49', 'upheld', 'plus', 'braidwood', 'units', 'records', 'passenger', 'reductions', 'tax', 'located', 'seoul', 'survival', 'designer', 'initial', 'tied', 'directly', 'moreover', 'barnum', 'interview', 'gary', 'intense', 'competitor', 'receive', 'occur', 'decide', 'applied', 'primarily', 'sheets', 'messrs.', 'joseph', 'positions', 'removed', 'saudi', 'arabia', 'allegedly', 'failing', 'mexico', 'carla', 'accelerated', 'placed', 'degrees', 'authors', 'pursue', 'effective', 'procedures', 'aid', 'bilateral', 'copyright', 'protect', 'recognition', 'disturbing', 'complained', 'investigation', 'developing', 'reach', 'reduction', 'carlos', 'triggered', 'greater', 'pc', '1981', 'entered', 'faulding', 'australian', 'pharmaceuticals', 'moleculon', 'affiliate', 'sells', 'bass', 'esso', 'broken', 'hill', 'subsidiary', 'buy-out', 'lehman', 'hutton', 'itself', 'response', 'timex', 'producer', 'frank', 'stepping', 'manufacturer', 'maintained', 'left', 'downturn', 'steady', 'seat', 'restructuring', 'consulting', 'fannie', 'mae', 'maxwell', 'mortgage-backed', 'aerospace', 'exclusive', 'file', 'code', 'montedison', 'reflects', 'temporarily', 'follows', 'pick', 'closed-end', 'ranged', 'crash', 'traditional', 'surge', 'listed', 'billions', 'available', 'runs', 'hold', 'historically', 'premiums', 'climbed', 'invested', 'rich', 'receipts', 'moscow', 'happen', 'permitted', 'branch', 'settle', 'millions', '46', 'reading', 'economist', 'cleveland', 'residential', 'draw', 'measures', 'economists', 'warning', 'excessive', 'awarded', 'imminent', 'bretz', 'purchased', 'indicators', 'particular', 'import', 'dozen', 'blamed', 'entirely', 'contemporary', 'funny', 'wa', 'version', 'ballplayers', 'image', 'size', 'shame', 'players', 'road', 'complaint', 'certainly', 'globe', 'singapore', 'restaurants', 'smoking', 'fast-food', 'carried', 'pressured', 'olympic', 'aids', 'confirmed', 'tested', '150', 'ending', '1972', 'due', '100,000', '1976', 'shot', 'contained', 'person', 'friend', 'feeling', 'takes', 'box', 'calls', 'sense', 'serious', 'managed', 'harsh', 'marie-louise', 'thousands', 'killed', 'husband', 'deserve', 'scenes', 'die', 'seeing', 'regular', '767', 'press', 'speculated', 'hit', 'campaigns', 'fears', 'art', 'consultant', 'means', 'republican', 'master', 'gets', 'convicted', 'wait', 'caught', 'cop-killer', 'bullets', 'choose', 'peter', 'freedom', 'denies', 'accused', 'pass', 'himself', 'pinocchio', 'focus', 'nose', 'responded', 'lying', 'cooperation', 'starts', 'hormats', 'commitments', 'ground', 'plants', 'specialist', 'closer', 'discuss', 'transportation', 'telecommunications', 'speech', 'baker', 'flows', 'step', 'hardly', 'comprehensive', 'graders', 'crib', 'germany', 'examination', 'low-ability', 'gone', 'unusual', 'teach', 'wake', 'concluded', 'widespread', 'ones', 'numerous', 'macmillan\\\\/mcgraw-hill', 'nothing', 'academic', 'telegraph', 'extra', 'projects', 'posts', 'lowest', 'cannell', 'seriously', 'winning', 'term', 'curriculum', 'taught', 'encourage', \"'d\", 'helping', 'salary', 'eager', 'returned', 'bottom', 'mostly', 'badly', 'offenders', 'familiar', 'afraid', 'sentiment', 'worksheets', 'parent', 'parallels', 'referred', 'fifth-grade', 'sounds', 'sacramento', '44', 'fetal', 'stop', 'funded', 'letter', 'threatened', 'controversy', 'ethical', 'prestigious', 'charged', 'damaged', 'roughly', 'biggest', 'modestly', 'targets', 'saw', 'otc', 'bancorp', 'signed', 'third-quarter', 'pretax', 'substantially', 'losses', 'assuming', '51', 'lost', 'sept.', 'year-earlier', 'payment', 'formed', 'confidential', 'victim', 'professional', 'high-priced', 'laughing', 'darkhorse', 'employed', 'lawsuit', 'samnick', 'seeks', 'opinion', 'violate', 'homosexual', 'dallas', 'hampton', 'december', 'park', 'murray', 'impose', 'inc', 'alone', 'accepted', 'limited', 'hurt', 'design', 'backe', 'facing', 'n.j', 'offset', 'resulting', 'lure', 'sterling', 'madison', 'los', 'angeles', 'solid', 'entertainment', 'northern', 'commodity', 'negotiate', 'station', 'quite', 'premiere', 'opportunity', 'printed', 'turning', 'economics', 'initially', 'interpublic', 'original', 'leaving', 'possibility', 'subsidiaries', 'reaction', 'advocates', 'requirements', 'model', 'surprising', 'sen.', 'rear-seat', 'railcars', 'sir', 'within', 'interesting', 'upon', 'stag', 'vineyard', 'quality', 'bordeaux', 'romanee-conti', 'tache', 'roederer', 'cristal', 'chateau', '!', 'shapiro', 'responses', '62', 'sort', 'equally', 'expecting', 'chance', 'copperweld', 'basham', 'congressional', 'auctioned', 'various', 'apparently', 'acne', 'signal', 'notably', 'koito', 'successful', 'smaller', 'provides', 'deals', 'wakui', 'houses', 'hudson', 'stearn', 'checking', 'card', 'loyalty', 'deposits', 'targeting', 'moore', 'charlotte', 'starting', 'fee', 'realize', 'sharedata', 'send', 'felt', 'collar', 'session', '12-point', 'shortly', 'expressed', 'program-trading', 'edward', 'done', 'aslacton', 'ancient', 'hammond', 'live', 'youth', 'belfry', 'crunch', 'bang', 'attract', 'boesel', 'relative', 'coxon', 'einhorn', 'berliner', 'yang', 'expelled', 'vargas', 'listing', 'henry', 'otero', 'triton', 'connection', 'crane', 'canepa', 'pa.', 'one-year', 'index-arbitrage', 'vinken', '29', 'consolidated', 'exposed', '1956', 'anyone', 'questionable', 'smokers', 'modest', 'amounts', '1950s', '28', 'lung', 'striking', 'west', 'industrialized', 'hollingsworth', 'vose', 'regulate', 'chrysotile', 'mossman', 'body', 'imposed', 'blue', 'fans', 'contracted', 'resources', 'money-market', 'amid', 'taxable', '41', 'permit', 'capture', 'sooner', 'nevertheless', 'blip', 'auction', 'typically', 'beat', 'heavily', 'boosts', 'slid', 'formerly', 'toronto', 'obtain', 'finmeccanica', 'italian', 'employs', 'acts', 'midnight', 'fight', 'capital-gains', 'voted', 'vitulli', 'arm', 'mazda', '43', 'towns', 'raton', 'treat', 'rock', 'stars', 'belt', 'expand', 'victor', 'speedway', 'welcomed', 'buffet', 'banned', 'pointed', 'downtown', 'squeezed', 'dinner', 'indiana', 'roof', 'chefs', 'meal', 'forward', 'reflecting', 'casting', 'mere', 'forecast', 'recorded', 'surplus', 'weeklies', 'guaranteed', '7.5', 'announce', 'reward', 'bonuses', 'attempt', '3.2', 'bureau', 'gaining', 'electronic', 'audit', 'decrease', '2.6', 'bowed', 'bidders', 'chapter', 'hartford', 'conn', 'values', 'seemed', 'worried', 'holders', '4.8', 'negotiations', 'asserted', 'separately', 'norman', 'chain', 'undersecretary', 'utility', 'refunds', 'moved', 'attempts', 'appealing', 'determined', 'actual', 'collections', '2.5', 'byron', 'courts', 'challenge', 'unreasonable', 'ruled', '190', '195', 'inched', 'medium-sized', 'doubled', 'manufacture', 'household', 'creativity', 'sheet', '64-year-old', 'prospects', 'attached', 'choice', 'gregory', 'theory', 'scenario', 'valuation', 'smaby', 'concept', 'besides', 'describe', 'chips', 'contain', 'processors', 'roll', 'ltd', 'supercomputers', 'presumably', 'stockholders', 'distribution', '53', 'hand', 'colorado', 'arrangement', 'father', 'neil', 'malcolm', '450', 'stevens', 'arthur', 'hatch', 'claiming', 'success', 'intellectual', 'scrutiny', 'negotiators', 'scientists', 'investing', 'creating', 'task', 'teams', 'trained', 'films', 'taipei', 'showing', 'apply', 'italy', 'deemed', 'threat', 'tells', 'concerned', 'turkey', 'argentina', '64', 'believed', 'argentine', 'feels', 'forgiven', 'century', 'computing', 'crude', 'steven', 'models', 'store', 'memories', 'memory', 'counterparts', 'pioneer', 'gates', '1975', 'ibm', 'versions', 'f.', 'dennis', 'leader', 'kalipharma', 'voting', 'holdings', '11,000', 'operate', 'r.p.', 'scherer', 'optical', 'virgin', 'islands', 'preferences', 'denied', 'requested', '58', 'tariff', 'status', 'assembled', 'eligible', 'reduce', 'overhead', 'excess', 'load', 'automotive', 'us$', 'c$', 'controlling', 'running', 'career', 'single-handedly', 'snapped', 'fixed-rate', 'eliminate', 'prepayment', 'forces', 'payments', 'semiannual', 'reducing', 'burden', 'purchasers', '2.4', 'erbamont', 'netherlands', '72', 'currencies', 'drawing', 'protracted', 'intensity', 'invest', 'simon', 'philippine', 'managing', 'newgate', '1929', 'claims', 'barney', 'diversify', 'gyrations', 'tend', 'plunged', 'discount', 'startling', 'play', 'newly', 'reflect', 'cast', 'plenty', 'depositary', 'represent', 'essentially', 'insist', 'folks', '188', 'owed', 'soviets', 'monetary', 'obstacles', 'hundreds', '47.6', 'fallen', 'remove', 'effects', 'usual', 'patterns', 'kenneth', 'slack', 'slowly', 'predicting', 'lack', '0.1', 'soft', 'landing', 'platt', 'intended', '0.3', '0.9', 'backlogs', '88', 'adjusting', 'counts', 'stamford', 'steeper', 'suppliers', 'row', 'exceptionally', 'contributed', 'seasonally', 'americana', 'murakami', 'kodansha', 'characters', 'drink', 'careers', 'marriages', 'belong', 'notion', 'carries', 'hero', 'star', 'stanford', 'phone', 'sweet', 'beatles', 'gotta', 'macmillan', '17.95', 'baseball', 'nipponese', 'describes', 'harmony', 'commitment', 'symbol', 'played', 'unrecognizable', 'zone', 'defeat', 'strict', 'conduct', 'amusing', 'fare', 'plate', 'regret', 'employee', 'responsibility', 'science', 'ultimately', 'morita', 'learned', 'editorial', 'features', 'entering', 'centers', 'discos', 'clubs', 'indicates', 'materialistic', 'colony', 'identified', 'one-third', 'balked', 'palestinian', 'renewed', 'application', 'organizations', 'sex', 'family', 'polish', 'gas', 'victory', 'nagymaros', 'nemeth', 'modify', 'damage', 'operated', 'peak', 'periods', 'weddings', '6,000', 'rings', 'statistics', 'bramalea', 'debentures', '1999', 'toronto-based', 'entitles', 'date', 'claim', 'sketch', 'dialogue', 'silent', 'earns', 'double', 'score', 'thinking', 'precisely', 'romanticized', 'walk', 'avenue', 'crack', 'spends', 'girl', 'mother', 'blessing', 'stakes', 'strongly', 'chabrol', 'viewed', 'historical', 'vichy', 'abortionist', 'openly', 'presented', 'latour', 'recommend', 'mention', 'bright', 'tip', 'boeing', 'discussing', 'possibly', 'stages', 'specific', 'sections', 'aircraft', 'secondary', 'contests', 'era', 'content', 'fills', 'roger', 'ailes', 'kicker', 'simply', 'finally', 'pro-choice', 'telling', 'truth', 'everybody', 'nobody', 'classic', 'accurate', 'fail', 'voluntarily', 'admitted', 'reservations', 'gov.', 'battle', 'agree', 'flag', 'tradition', 'dynamics', 'created', 'attracted', 'featured', 'courtroom', 'younger', 'grown', 'gotten', 'scientist', 'campaigning', 'remainder', 'featuring', 'jim', 'suing', 'fraud', 'land', 'heating', 'salmore', 'credibility', \"o'connor\", 'gop', '350,000', '16,000', 'friday', 'aug.', 'toward', 'suggest', 'domination', 'flow', 'motion', 'economies', 'tripled', 'assistance', 'pumping', 'forcing', 'spur', 'evolution', 'concentrated', 'spurred', 'accommodate', 'donor', 'parallel', 'indonesia', 'pull', 'integrated', 'participants', 'crucial', 'architecture', 'difficult', 'regard', 'try', 'cathryn', 'rice', 'surrendered', 'word', 'social-studies', 'protest', 'nancy', 'classes', 'breach', 'pleaded', 'guilty', 'inspired', 'defended', 'treated', 'harshly', 'casts', 'laws', 'albuquerque', 'n.m.', 'outright', 'greatly', 'surfaced', 'statewide', 'test-coaching', 'instruction', 'booming', 'sophisticated', 'experts', 'entire', 'districts', 'reforms', 'primary', 'stressing', 'foundation', 'worries', 'run-down', 'governors', 'physicist', 'immediate', 'prior', 'death', 'split', 'neighborhoods', 'faculty', 'restore', 'behalf', 'educational', 'ambitions', 'loved', 'favorite', 'cadet', 'civilization', 'lady', 'beth', 'marchand', 'green', 'furniture', 'stands', 'fellow', 'pushing', 'meaningful', 'seminar', 'studies', 'mistake', 'subjects', 'newspapers', 'advanced', 'adding', 'hands', 'discovered', 'certificate', 'someone', 'authorities', 'supportive', 'policies', 'allowed', 'murder', 'angry', 'damn', 'wisdom', 'mathematics', 'jury', 'answer', 'widely', 'communication', 'test-preparation', 'coaching', 'grade', 'iowa', 'metropolitan', 'kean', 'publishes', 'mehrens', 'scale', 'subskills', '69', 'brownell', 'random', 'represented', 'alleghany', 's&l', 'offices', 'north', 'moratorium', 'tissue', 'parkinson', 'transplant', 'privately', 'involve', 'hhs', 'institutes', 'dispute', 'prominent', 'names', 'consideration', 'views', 'novello', 'assured', 'ideological', 'moves', 'uncharted', 'applications', 'genel', 'associate', 'yale', 'climate', 'visible', 'flap', 'tissues', 'genes', 'mental', 'summary', 'over-the-counter', 'slightly', 'paltry', 'turnover', 'tracks', 'regions', 'real-estate', 'speculators', 'immediately', 'water', 'jennison', 'trader', 'constitution', 'one-time', 'dramatic', 'weisfield', 'ratners', 'acquiring', 'swap', 'restaurant', 'redeemed', 'resolve', 'burt', 'sugarman', '42.5', 'nine-member', 'sci', 'detailed', 'warnings', 'attorney-client', 'privilege', 'stem', '8300', 'punishable', 'prison', 'argued', 'citing', 'hire', 'retained', 'chaired', 'gerald', 'aba', 'grand', 'stance', 'detroit', 'permission', 'obtained', 'salaries', 'ramirez', 'calif', 'unjust', 'cartoonist', 'mounted', 'harass', 'picket', 'k.', 'unjustified', 'damages', 'family-planning', 'adopted', 'prohibits', 'title', 'x', 'counseling', 'promote', 'restrictions', 'inquiry', 'bias', 'comments', 'boys', 'fairness', 'wayne', 'prosecution', 'brown', 'bromwich', 'oliver', 'tire', 'consist', 'acres', 'apology', 'equivalent', 'municipal', 'investigating', 'takuma', 'reputation', 'benefits', 'normal', 'accepting', 'complaints', 'touch', 'tense', 'foreigners', 'hiroshima', 'library', 'nagano', 'prefecture', 'insisted', 'contacted', 'papers', 'community', 'cbs', 'ntg', 'operates', 'furukawa', 'machinery', 'dresser', 'structural', '-', 'thrifts', '35.7', 'billings', 'cover', 'switch', 'oldest', '42', 'older', 'silicon', 'aggressively', 'dead', 'traditionally', 'kept', 'stalemate', 'jay', '1.8500', '1.8415', '143.80', '142.85', 'contends', '10-year', 'high-yield', 'expectations', 'ounce', 'debut', 'keeps', 'affiliates', 'episodes', 'distributor', 'losing', 'gillespie', 'syndication', 'providence', 'n.c.', 'louisville', 'pleased', 'disappointed', 'frankly', 'officially', 'survive', 'founded', 'brooklyn', 'promise', 'crisis', 'combines', 'pieces', 'considerable', 'dumpster', 'offender', 'souper', 'combo', 'chastised', 'wrote', 'surprisingly', 'advertise', 'spenders', 'needham', 'haul', 'subscriptions', 'replies', '4,000', 'fax', 'rubicam', 'enterprise', 'breaks', 'landor', 'buy-back', 'shipping', '1.1', 'hostile', 'stena', 'tiphook', '130', 'raises', 'criticized', 'mired', '62.5', 'requiring', 'roofs', 'systematic', 'danforth', 'praised', 'light-truck', 'automatic', 'shoulder', 'installed', 'deadline', 'leinonen', 'petroleum', '65', 'circle', 'formal', 'opposition', 'driscoll', 'options', 'altogether', '18,000', 'reduced', 'accessories', 'butler', 'warren', 'winiarski', 'cask', 'shops', 'declared', 'superpremiums', 'classics', 'growths', 'burgundies', 'yquem', 'biondi-santi', 'brunello', 'tuscany', 'magnitude', 'vintages', 'vintage', 'barrier', 'mesnil', 'blanc', 'blancs', '115', 'burgundy', 'richebourg', 'hermitage', 'larry', 'grapes', 'owner', 'wholesale', 'merchants', 'spread', 'thin', 'remarked', 'cabernets', 'appeal', 'explains', 'movement', 'forced', 'beautiful', 'moment', 'looming', 'fourth', 'agrees', 'easier', 'plunge', 'weak', 'discretionary', 'halt', 'exercised', 'integra', 'hallwood', 'exercise', 'merchant', '30-year', 'two-year', 'aim', 'lancaster', 'reames', 'fractionally', 'pattern', 'benchmark', 'afternoon', 'eaton', 'sierra', 'harold', 'alternatives', 'pit', 'leming', 'valhi', 'becomes', 'unchanged', 'consent', 'jerry', 'respond', 'friendly', 'earned', '1.85', 'license', 'elsewhere', 'albert', 'kligman', 'disagree', 'barriers', 'focusing', 'half-hour', 'hay', 'anxious', 'miti', 'controversial', 'laser', 'high-tech', 'frequently', 'financed', 'catch', 'strategic', 'fit', 'ronald', 'bodner', 'itoh', 'drive', 'basis', 'performed', 'extent', 'maintenance', 'driskill', 'neighborhood', 'installment', 'competitive', 'synergistics', 'segment', 'macdonald', 'barnett', 'seniors', 'active', 'checks', 'ways', 'deregulation', 'banker', 'unions', 'define', 'costly', 'jacob', 'moving', 'alvin', 'registration', 'peripheral', 'chevrolet', 'savings-and-loan', 'ailing', 'healthy', 'confidence', 'one-hour', 'p.m', 'execute', 'industrials', 'remained', '30-point', 'one-day', 'five-point', 'minutes', 'aides', 'trigger', 'beyond', 'dingell', 'sources', 'change-ringing', 'dorothy', 'sayers', 'rural', 'peal', 'sunday', 'youngsters', 'worker', 'train', 'ranks', 'rung', 'invented', 'abbot', 'chamber', 'speaks', 'passion', 'bit', 'stephanie', 'worship', 'strong-willed', 'vicars', 'attend', 'hummerstone', 'torrington', 'devon', 'congregation', 'nearby', 'fault', 'council', 'peals', 'stock-market', 'reference', 'recessionary', 'environments', 'risen', 'watchers', 'double-digit', '3.3', 'w.', 'perritt', 'manner', 'cigna', 'painewebber', 'tally', 'basically', 'page-one', 'plight', 'microphone', '50,000', 'beverly', 'boulder', 'kingdom', 'jerritts', 'relationship', 'demonstrators', 'normally', 'toast', 'exchanges', 'greatest', 'fang', 'li', 'arms', 'rifles', 'continually', 'professionals', '85', 'j.l.', 'unpublished', 'biscayne', 'rosenblum', 'suspensions', 'danville', 'settlement', 'limited-partnership', 'escrow', 'two-week', 'inaccurate', 'eugene', 'mcfall', 'georgetown', 'francis', 'anthony', 'arlington', '7,500', 'miss.', 'felten', 'houston', '60,000', 'dahl', 'stupid', '2,000', 'cutrer', 'baton', 'rouge', 'aurora', 'las', 'vegas', 'nev.', 'scrutinizing', 'salomon', 'maughan', 'pegged', 'option', 'ft-se', '4.25', '3.35', 'williams', 'roukema', 'subminimum', 'employers', 'covers', 'zenith', 'intelligence', 'faced', 'observers', 'correll', 'pulp', 'consensus', 'knew', 'pamplin', 'new-home', 'pierre', 'elsevier', 'dutch', 'agnew', 'conglomerate', 'fiber', 'unusually', 'resilient', 'lungs', 'exposures', 'causing', 'symptoms', 'loews', 'micronite', 'appear', 'forum', 'spokewoman', 'properties', 'useful', 'users', 'dana-farber', 'harvard', 'replaced', 'filter', '1953', '1955', '9.8', 'substance', 'died', 'surviving', 'diagnosed', 'malignant', 'mesothelioma', 'asbestosis', 'morbidity', 'groton', 'stringently', 'regulation', 'smooth', 'needle-like', 'classified', 'amphobiles', 'brooke', 'pathlogy', 'vermont', 'curly', 'explained', 'gradual', '1997', 'cancer-causing', 'outlawed', '160', 'dusty', 'burlap', 'sacks', 'bin', 'poured', 'cotton', 'acetate', 'mechanically', 'clouds', 'dust', 'hung', 'exhaust', 'ventilated', 'darrell', 'phillips', 'bearing', 'tracked', 'ibc', 'eased', 'fraction', '8.45', '8.47', 'assume', 'reinvestment', 'lengthened', 'longest', 'donoghue', 'retain', 'shorter', 'brenda', 'malizia', 'negus', 'rises', '8.04', '7.90', 'pour', '352.7', 'money-fund', 'comparable', 'vary', 'dreyfus', 'top-yielding', '9.37', '9.45', 'invests', 'waiving', '8.12', '8.14', '8.19', '8.22', '8.53', '8.56', 'j.p.', 'bolduc', '83.4', 'energy-services', 'succeeds', 'terrence', 'daniels', 'royal', 'trustco', '212', 'year-end', 'mcdermott', 'babcock', 'wilcox', 's.p', '295', 'state-owned', 'wickliffe', 'computerized', '2,700', '370', 'lifted', 'obligations', '2.80', '2.87', 'ensnarled', 'earliest', 'clark', 'oversee', 'biannual', 'powwow', 'titans', 'jet', 'sunny', 'confines', 'resort', 'hoosier', 'royalty', 'buckle', 'rust', 'rusty', 'du', 'pont', 'maytag', 'lesser', 'knowns', 'trojan', 'queen', 'cheese', 'starters', 'hudnut', 'symphony', 'orchestra', 'guest', 'pianist-comedian', 'borge', 'dessert', 'escort', 'busloads', 'wives', 'raced', 'unimpeded', 'traffic', 'lieutenant', 'breakfast', 'museum', 'drinks', 'everyday', 'visitors', 'hauled', 'crews', '10-lap', 'exhibition', 'fortune', 'drooled', 'schoolboys', 'dummies', 'sponsor', 'execs', 'boarding', 'dancing', 'moons', 'renovated', 'ballroom', 'hottest', 'town', 'duckling', 'mousseline', 'lobster', 'consomme', 'veal', 'mignon', 'chocolate', 'terrine', 'raspberry', 'sauce', 'knowing', 'tasty', 'eat', 'ovation', 'ceos', 'red-carpet', 'tempts', 'heartland', 'winter', '101', 'sluggishness', 'tallies', 'setback', 'cloud', 'export-oriented', '5.29', '0.7', '5.39', 'boom', 'prolonged', 'conflicts', '68', 'gloomy', '71', 'accumulated', '50.45', '50.38', 'discounts', 'permanent', 'fixtures', 'underscore', 'fierce', 'warner', 'mortimer', 'zuckerman', 'four-color', '100,980', 'mid-october', 'lowered', 'subscriber', '120,000', 'awards', 'credits', 'renewal', 'exceed', '325,000', '340,000', 'shore', '1,620', 'publishers', 'giveaways', 'subscribers', 'telephones', 'circulations', 'newsweekly', '4,393,237', '7.3', '3,288,453', '2,303,328', 'payoff', 'justify', 'westborough', '2.29', '2.25', 'haven', 'manchester', 'n.h.', 'efficiencies', 'evaluated', 'rewards', 'emerges', 'attracts', 'wilbur', 'rothschild', 'withdrawal', 'speed', '5.5', 'cluttered', 'refile', 'expedited', 'ferc', '3.75', 'ricken', '52', 'toys', 'r', 'frederick', 'deane', 'signet', 'retailing', 'daniel', 'rexinger', 'glauber', '12-member', 'ratepayers', 'collected', 'overruns', 'feb.', 'entertain', 'pool', 'hostage', 'slash', '1.55', '737.5', '3.01', 'tracking', 'addresses', 'nightmare', '38.375', '12.5', 'rockford', 'disputed', 'collecting', 'refunded', 'calculations', 'faces', 'court-ordered', 'summer\\\\/winter', 'differential', 'appellate', '140', 'precedent', '245', '72.7', 'lasalle', '500,004', 'automobile', 'year-to-year', 'setting', '0.4', '22', '361,376', 'benefited', 'arising', 'consumption', '30,841', '13,056', 'chinchon', 'diversifying', 'fledgling', 'depend', 'longevity', 'product-design', 'scrapped', 'operational', 'prototype', 'anticipated', 'minneapolis-based', 'strings', 'anticipates', 'needing', 'worst-case', 'filing', 'jump', '2.875', '38', 'link', '98.3', 'promissory', 'complicate', 'tricky', 'unproven', 'gallium', 'arsenide', 'fragile', 'minute', 'robotic', 'twice', 'c-90', 'compete', 'hitachi', 'priced', 'marketplace', 'calculate', '4.75', 'transferring', 'drain', 'pro-forma', 'favored', '19.3', '5.9', 'existed', 'incurred', '20.5', 'contractor', 'regarded', '600,000', '240,000', 'davenport', '47', 'blanchard', '37', 'hammerton', 'wheeland', '241', 'donald', 'pardus', 'electric-utility', '59', 'carney', 'tassinari', 'diplomacy', 'watching', 'copyrights', 'india', 'brazil', 'interim', 'unfair-trade', 'investigations', 'stiff', 'genuine', 'touchy', 'realization', 'denial', 'harms', 'inventiveness', 'offending', 'citizens', 'inadequate', 'protections', 'hurting', 'discouraging', 'deterring', 'high-technology', 'lauded', 'officers', 'pirates', 'instituted', 'search-and-seizure', 'initialing', 'amending', 'trademark', 'introducing', 'unauthorized', 'showings', 'compel', 'video-viewing', 'parlors', 'vowed', 'enact', 'compatible', 'literary', 'works', 'completely', 'hook', 'lower-priority', 'greece', 'pose', 'less-serious', 'hoffman', 'specializing', 'retaliation', 'protecting', 'improvements', 'craft', 'developments', 'videocassette', 'piracy', 'disregard', 'pharmaceutical', 'merit', '301', 'provision', 'creditor', 'halve', 'third-highest', 'declaration', 'nestor', 'stature', 'latin', 'aspires', 'external', 'miguel', 'alurralde', 'mulford', 'negotiator', 'carballo', 'menem', 'solved', 'centennial', 'milestones', 'commodore', 'pet', 'tandy', 'trs-80', 'screens', 'stored', 'audiocassettes', 'garage', 'wozniak', 'hobbyists', 'homebrew', 'affordable', '1,298', 'explosive', 'desktop', 'mainframe', 'built-from-kit', 'altair', 'sol', 'imsai', 'keyboards', 'faster', 'contributors', 'allen', 'language-housekeeper', 'billionaire', 'adapted', 'shugart', 'seagate', 'disk', 'drives', 'hayes', 'dale', 'heatherington', 'engineers', 'co-developers', 'modems', 'via', '38.3', 'f.h.', 'jersey-based', 'purepac', 'label', 'strait', '321,000', 'exxon', 'pty.', 'output', 'gradually', 'reaches', 'perch', 'dolphin', 'producing', 'seahorse', 'tarwhine', 'excise', '10.2', 'sloan', 'gelatin', 'capsules', 'divest', 'non-encapsulating', 'quantities', 'possessions', 'petition', 'generalized', 'classifications', 'categories', 'injury', 'seller', 'low-priced', 'battery-operated', 'beneficiaries', '37.3', 'automotive-parts', 'curb', 'satisfactory', 'achieved', 'akerfeldt', 'ambitious', 'wallowing', '52-week', '16.125', '13.73', '37.5', '9.625', 'unsuccessfully', 'resume', 'influential', 'throughout', 'personally', 'assisted', 'manfred', 'gingl', 'lord', 'chilver', '63-year-old', 'clays', 'securities-based', 'totaling', '701', 'mortgage-based', 'o.', '570', 'blackstone', 'daiwa', 'seven-year', 'floating-rate', 'linked', 'interbank', 'advantages', 'redeploy', 'channel', 'addressing', 'extremely', 'attractive', '900', 'rapid', 'tenth', 'pate', '54-year-old', 'ltv', 'creditors', 'lawsuits', 's.p.a.', 'indirect', '37-a-share', 'incorporated', 'advertised', 'editions', 'pursuant', '1.82', '84.29', 'yen-support', 'intervention', '150.00', 'sharper', '86.12', 'craze', 'sweeping', 'rash', '24', 'triple', 'washington-based', 'turf', 'chile', 'austria', 'portugal', 'capped', 'corazon', 'aquino', 'kicked', 'province', 'guinea', 'quips', 'northampton', 'mass', 'explosion', 'mirrors', 'mania', '1920s', 'narrowly', 'focused', 'wildly', 'oblivion', 'open-end', 'one-country', 'issuing', 'fixed', 'brings', 'harris', 'upham', 'hoopla', 'heavy-duty', 'scrambled', 'brokers', 'stretching', 'nets', 'wide', 'planners', 'urge', 'smattering', 'emerging', 'outpaced', 'taste', 'burned', 'whipsaw', 'clobbered', 'frenzy', 'fat', 'partially', 'specialists', 'skyrocketed', 'targeted', 'alarmed', 'valuations', 'fattened', 'foreign-stock', 'exposure', 'resistant', 'viewpoint', 'nonetheless', 'aghast', 'lofty', 'jumping', 'advice', 'ready', 'technical', 'repayment', 'pre-communist', 'russian', 'repaid', 'coincident', 'crippled', 'lent', 'short-lived', 'kerensky', 'communists', 'seized', '1917', '1934', 'amended', 'u.s.s.r.', 'belongs', 'pre-1917', 'stressed', 'pre-1933', 'satisfying', 'lend-lease', 'reflection', 'leveling', 'manufactured', 'factories', 'booked', '236.74', '236.79', '59.6', 'contractors', '2.1', '415.6', 'significantly', '415.8', 'seasonal', 'mayland', 'taper', 'revive', 'blank', 'payrolls', 'industrial-production', 'slip', 'cite', 'imbalances', 'signals', 'watched', 'clues', 'buildup', 'provoke', 'cutbacks', 'conforms', 'elliott', 'donaldson', 'lufkin', 'jenrette', 'eases', 'nondurable', '109.73', 'climbing', 'durable', '0.2', '127.03', '3.9', 'durable-goods', '1.6', '234.4', '5.4', 'unfilled', '0.5', '497.34', 'excluding', '191.9', 'berson', 'predicted', 'single-family', 'homes', 'nonresidential', '99.1', '4.3', 'contrast', 'f.w.', 'goverment', 'renovation', 'signaling', 'pitney', 'bowes', 'purhasing', 'vendors', 'delivering', 'inflationary', 'abating', 'handle', 'lengthen', 'gauges', 'worsening', 'polled', '73', 'acknowledging', 'suspect', 'numbered', 'newcomer', 'powder', 'odd', 'shortage', 'nonfat', 'dairy', 'coupled', 'quotas', 'pamela', 'sebastian', 'judging', 'haruki', '320', '18.95', 'baby', 'boomers', 'texture', 'salty', 'dogs', 'whistle', 'johnny', 'goode', 'bugs', 'bunny', 'mickey', 'spillane', 'groucho', 'harpo', 'desultory', 'reader', 'charm', 'engaging', 'recognizing', 'buttoned-down', 'lore', 'refreshing', 'author', 'self-aggrandizing', 'we-japanese', 'perpetuate', 'unique', 'unfathomable', 'outsiders', 'implicit', 'nutty', 'plot', 'rooted', 'reality', 'imaginative', 'disaffected', 'hard-drinking', 'nearly-30', 'snow', 'search', 'elusive', 'behest', 'sinister', 'erudite', 'mobster', 'degree', 'tow', 'prescient', 'girlfriend', 'sassy', 'retorts', 'docile', 'butterfly', 'meets', 'solicitous', 'christian', 'chauffeur', 'god', 'roughhewn', 'wears', 'else', 'sheepskin', '40-year-old', 'sensation', 'norwegian', 'wood', 'fluent', 'lyrics', 'published', 'youthful', 'brat', 'pack', 'dominating', 'best-seller', 'charts', 'idiomatic', 'dashes', '339', 'mirror', 'fabled', 'virtues', 'player', 'batting', 'polls', 'tatsunori', 'hara', 'humble', 'uncomplaining', 'obedient', 'soul', 'besuboru', 'ball', 'bat', 'politely', 'foul', 'balls', 'stadium', 'ushers', 'expands', 'depending', 'hitter', 'honorably', 'sidestep', 'abide', 'wear', 'chronicle', 'rationed', 'enormous', 'sums', 'soho', '228', 'petulant', 'impudent', 'hosted', 'luce', 'fellowship', 'supercilious', 'vicious', 'passages', 'invades', 'mundane', 'aspects', 'regimented', 'assigned', 'lunch', 'austere', 'dormitory', 'prying', 'caretaker', 'observations', 'style', 'salarymen', 'unproductive', 'overtime', 'sake', 'solidarity', 'hierarchical', 'chary', 'letting', 'enormously', 'frustrating', 'raring', 'invent', 'walkman', 'lesson', 'committed', 'appointment', 'venerable', 'akio', 'kirkpatrick', 'corners', 'tobacco', 'smoke', 'sports', 'exempt', 'bars', 'bans', 'theaters', 'elevators', 'hospitals', 'siti', 'zaharah', 'sulaiman', 'no-smoking', 'mara', 'kuala', 'lumpur', 'on-campus', 'visiting', '26,000', 'stalls', 'posters', 'signboards', 'restricts', 'designated', 'backer', 'spielvogel', 'bates', 'surveyed', 'espouse', 'stress', 'thai', 'cabinet', 'endorsed', 'pramual', 'sabhavasu', 'bangkok', 'plaza', 'undertaking', 'yasser', 'arafat', 'palestine', 'liberation', 'wafa', 'plo', 'tourism', 'food-shop', 'mainland', 'hospital', 'chaotic', 'pap', 'unrealistically', 'compensate', 'coal', 'happier', 'establishing', 'diplomatic', 'poland', 'financially', 'strapped', 'warsaw', 'environmentalists', 'terminated', 'multibillion-dollar', 'river', 'danube', 'austrian', 'twinned', 'upstream', 'authorized', 'miklos', 'twin', 'dams', 'twindam', 'czech', 'solely', 'painting', 'strindberg', 'scandinavian', 'stockholm', '2.44', 'lighthouse', 'painted', 'oils', 'playwright', '1901', 'upturn', 'couples', 'exchanging', '271,124', '400,000', '85.1', '10.5', 'warrant', 'holder', 'par', 'accrued', 'swapped', 'underwriters', 'scotia', 'mcleod', 'rbc', 'dominion', 'actor', 'inheritor', 'charlie', 'steve', 'laid', 'obsessed', 'refitting', 'campus', '36-minute', 'black-and-white', 'revived', 'full-length', 'poignant', 'piece', 'modern-day', 'homeless', 'composer', 'marc', 'marder', 'living', 'classical', 'music', 'ensembles', 'exciting', 'eclectic', 'intertitles', 'words', 'good-hearted', 'filmed', 'lovely', 'dill', 'benign', 'noticing', 'jostle', 'cabs', 'hangs', 'greenwich', 'village', 'strip', 'populated', 'jugglers', 'magicians', 'good-natured', 'hustlers', 'dead-eyed', 'four-year-old', 'cosmopolitan', 'curled', 'cardboard', 'routine', 'sketching', 'passers-by', 'condemned', 'skirmishes', 'competing', 'carefree', 'blind', 'cure', 'returning', 'two-year-old', 'waif', 'nicole', 'alysia', 'murdered', 'thugs', 'cute', 'turns', 'curse', 'alerts', 'inadequacy', 'vagrant', 'beds', 'bowery', 'mission', 'drearier', 'tuck', 'dreamed', 'improbable', 'romance', 'shop', 'high-rise', 'apartment', 'resonate', 'camera', 'glamorize', 'vagabond', 'existence', 'ends', 'whimsical', 'enviable', 'rough', 'beaten', 'voices', 'claude', 'weird', 'brilliant', 'captivating', 'character', 'sympathetic', 'angle', 'disagreeable', 'giraud', 'significance', 'executed', 'hypocrisy', 'collaborated', 'germans', 'fighters', 'jews', 'diversionary', 'symbolic', 'traitor', 'small-time', 'accidentally', 'enabled', 'jam', 'cocoa', 'war-rationed', 'goodies', 'untrained', 'botched', 'remorse', 'shallow', 'playful', 'dreadful', 'war-damaged', 'lover', 'thin-lipped', 'isabelle', 'huppert', 'marie', 'nice', 'chopped', 'gringo', 'confused', 'rendering', 'fuentes', 'mexican', 'revolution', 'endless', 'fighting', 'eating', 'drinking', 'celebrate', 'movies', 'spot', 'peck', 'marvelously', 'loose', 'energetic', 'portrayal', 'video', 'finest', 'twin-jet', 'seattle', 'kawasaki', 'fuji', 'accounting', 'contribution', 'plane', 'mid-1990s', 'event', 'irony', 'presidential', 'off-off', 'election', 'scattered', 'hostility', 'mudslinging', 'empty', 'ushering', 'napolitan', 'stirrings', 'dawn', 'sometimes-tawdry', 'stage', 'bold', 'entertaining', 'confrontational', 'truthful', 'fights', 'commercials', 'tone', 'elections', 'tight', 'facial', 'candidate', 'disembodied', 'contributions', 'accurately', 'hid', 'links', 'kidnapper', 'phony', 'nasty', 'innuendoes', 'siegal', 'prosecute', 'corruption', 'exist', 'stung', 'consultants', 'shrum', 'doak', 'unleashed', 'distorted', 'photos', 'compare', 'banning', 'oversight', 'secret', '95,142', 'matching', 'errors', 'get-out-the-vote', 'kidnapping', 'powers', 'deceptive', 'argues', 'lt.', 'gubernatorial', 'greer', 'persuasion', 'tour', 'monticello', 'superimposed', 'liberty', 'virginians', 'nurtured', 'generations', 'statue', 'jefferson', 'dissolves', 'incest', 'transforming', 'referendum', 'advertisements', 'goodman', 'shake', 'counterattack', 'close-up', 'shadows', 'recalling', 'unpleasant', 'ordeal', \"c'mon\", 'boyfriends', 'interjects', 'interrogated', 'rapists', 'constituent', 'legislative', 'technique', 'lawmakers', 'unfounded', 'interrogation', 'tired', 'stigma', 'campaigner', 'rozell', 'onus', 'devote', 'season', 'truce', 'lasted', 'carrying', 'sensitivity', 'attacks', 'aired', 'photograph', 'remember', 'squier', 'dirty', 'rusted', 'drums', 'swim', 'purrs', 'hazardous', 'neighbors', 'cry', 'partisans', 'photographs', 'barrel', 'cleaned', 'pollution', 'shrinks', 'eagleton', 'devastating', '1966', 'route', 're-election', 'rout', 'democrat', 'nelson', '331,000', '550,000', 'propelling', 'interviews', 'pursued', 'fits', 'sparking', 'posing', 'fresh', 'whereby', 'knitted', '5.57', '705.6', 'steep', 'cash-rich', 'wages', 'sites', 'labor-intensive', 'tigers', 'contributing', 'subordinate', 'recipient', 'fearful', 'falling', 'hegemony', 'constraints', 'encourages', 'burdens', 'resists', 'u.s.-japanese', 'behemoth', 'swelling', '1990s', 'multinationals', 'decisions', 'offend', 'lender', 'drobnick', 'graduate', 'cohesive', 'sectors', 'calder', 'woodrow', 'wilson', 'internatonal', 'princeton', 'tubes', 'assemble', 'framework', 'ministers', 'zealand', 'brunei', 'rim', 'hawke', 'reasserts', 'intention', 'shape', 'designing', 'dominance', 'outstrips', 'outranks', 'optimism', 'enlarged', 'convey', 'undertone', 'caution', 'understanding', 'functions', 'farren', 'benevolent', 'altruistic', 'attitude', 'everyone', 'apprehensive', 'uncertainty', 'leases', 'bases', 'troop', 'asians', 'desirable', 'counterweight', 'marbles', 'juggernaut', 'monopolize', 'sew', 'chong-sik', 'lee', 'eyes', 'ninth', 'spotted', 'uncanny', 'stockbroker', 'profession', 'senate-house', 'ok', 'confronted', 'display', 'projector', 'underline', 'prosecuted', 'alternative', 'jail', 'downfall', 'unstinting', 'laurels', 'bitterness', 'anger', 'betrayer', 'school-district', 'stunned', 'bald-faced', 'nature', 'martyr', 'dark', 'high-stakes', 'enhanced', 'temptation', 'cheat', 'statute', 'violated', 'enforce', 'provisions', 'school-improvement', 'bolster', 'depended', 'student-test', 'incredible', 'walt', 'haney', '50-state', 'school-research', 'inflated', 'suspects', 'adult', 'erasures', 'occurrences', 'revising', 'beforehand', 'precise', 'concentrate', 'county', 'promotions', 'wrenching', 'state-supervised', 'interventions', 'firings', 'lab', 'grants', 'superintendent', 'scholastic', 'aptitude', 'sat', 'entrance', 'worst', 'prosecuting', 'administrators', 'sandifer', 'allegations', 'purely', 'inferences', 'abuse', 'track', 'achievement-test', 'shaded', 'textile', 'educated', 'brightest', 'nobel', 'prize', 'townes', 'actress', 'joanne', 'woodward', '1980s', 'glory', 'faded', 'yellow', 'bricks', 'broad', 'facade', 'violence', 'gangs', 'linda', 'awful', 'enrollment', 'honors', 'seventh', 'predecessor', 'suffered', 'nervous', 'breakdown', 'bled', 'halls', 'stabbed', 'academically', 'serving', 'disparate', 'evenly', 'privileged', 'elite', 'monied', 'inner', 'resolved', 'clean', 'deadwood', 'ushered', 'betterment', 'reformers', '37-year-old', 'dismissal', 'dreamt', 'restructured', 'staff', 'struggled', '14-hour', 'fast', '1986-87', '1987-88', 'encouraged', 'creation', 'advised', 'cheerleaders', 'pep', 'cultural', 'literacy', 'chosen', 'pta', 'inspirational', 'laura', 'dobson', 'freshman', 'teacher-cadet', 'studying', '11th', 'grader', 'kelli', 'distinguished', 'herself', 'approaches', 'pair', 'college-bowl', 'competitions', 'weekends', 'prepare', 'correcting', 'homework', 'football', 'cocky', 'grandstander', 'deteriorating', 'feared', 'earn', 'incentive-bonus', 'meant', '23,000', 'pride', 'elizabeth', 'ariail', 'attending', 'adequately', '48', 'copied', 'motives', 'correct', 'sociology', 'rankings', 'self-esteem', 'broke', 'heart', 'whole', 'alive', 'desperately', 'somebody', 'cared', 'drag-down', 'blow', 'defeats', 'inkling', 'underprivileged', 'joe', 'prosecutor', 'alumni', 'concedes', 'sympathy', 'morale-damaging', 'disclosure', 'quiet', 'resignation', 'save', 'dumbfounded', 'recalls', 'knife', 'astonishment', 'dismay', 'superiors', 'unpopularity', 'mrs', 'school-board', 'dismissed', 'crowded', 'testify', 'callers', 'decried', 'particulars', 'offense', 'talk-show', 'editorials', 'overused', 'enraged', 'first-time', 'expunged', 'conviction', 'cranked', 'worthy', 'witnesses', 'interviewed', 'cheerleading', 'squad', 'crushed', 'explain', '17-year-old', 't-shirts', 'corridors', 'red-and-white', 'ghs', 'logo', 'shirts', 'harm', 'aspersions', 'incident', 'doubt', 'evaluating', 'gayle', 'worms', 'realized', 'reinstatement', 'relieved', 'chalk', 'touched', 'slate', 'schoolchildren', 'workbooks', 'roman', 'numeral', 'ix', 'two-sevenths', 'three-sevenths', 'test-practice', 'kit', 'instances', 'subindustry', 'school-sponsored', 'justifying', 'traverse', 'gauge', 'aces', 'psychiatrist', 'kindergarten', 'eighth', 'houghton', 'mifflin', 'harcourt', 'brace', 'jovanovich', 'test-prep', 'arizona', 'florida', 'louisiana', 'maryland', 'tools', 'binders', 'best-selling', 'ctb', 'improving', 'replicated', 'coincidental', 'schoolteacher', 'michigan', 'similarity', 'devised', '69-point', 'awarding', 'subskill', 'measured', 'closeness', 'preparatives', 'symmetry', 'geometrical', 'metric', 'measurement', 'pie', 'graphs', 'kits', 'replicate', 'intent', 'familiarization', '66.5', '64.5', 'two-letter', 'consonant', 'exclusion', 'contains', 'examples', 'matches', 'rick', 'ignoring', 'format', 'scrupulously', 'replicating', 'deny', 'publication', 'outraged', 'advisory', 'ctbs', 'unaware', 'discontinue', 'h.n.', 'frances', 'berger', 'sacramento-based', 'ancillary', 'transplantation', 'humans', 'juvenile', 'diabetes', 'degenerative', 'alzheimer', 'huntington', 'anti-abortionists', 'therapies', 'abortions', 'indefinitely', 'tissue-transplant', 'federally', 'acting', 'implications', 'implant', 'brain', 'patient', 'suffering', 'nih-appointed', 'recommended', 'carefully', 'controlled', 'embroiled', 'anti-abortion', 'hampered', 'recruit', 'doctors', 'fill', 'helm', 'withdrawn', 'antonio', 'nominated', 'serve', 'surgeon', 'reportedly', 'opposes', 'imposing', 'defuse', 'cdc', 'judged', 'excellence', 'disturbs', 'judgments', 'myron', 'dean', 'polarized', 'mechanism', 'exists', 'middle', 'conducting', 'warns', 'discourage', 'unavailability', 'foundations', 'fronts', 'regenerate', 'syndrome', 'retardation', 'rekindled', 'lackluster', '1.01', '456.64', '118.6', 'inauspicious', '133.8', 'busiest', 'averaged', '145', 'nonfinancial', '1.39', '446.62', '1.28', '449.04', '3.23', '436.01', 'merge', 'merged', 'unattractive', 'anticipating', 'permitting', 'uptick', 'beneficiary', 'expires', 'ed', 'macheski', 'wilton', 'fared', 'wfrr', 'l.p.', 'ghkm', '273.5', 'centerbank', 'nesb', 'london-based', 'pennview', 'leapt', 'univest', '25.50', '70.7', '89.9', 'mobile', 'dan', 'nelms', 'eliminates', 'associated', 'core', 'fluctuation', 'achieve', 'near-record', 'definitive', '57.50', 'jaguar', '4.4', '78', 'tumbled', 'slipped', '858,000', 'huntsville', 'ala.', '225.6', 'cities', 'outcry', 'organized', 'protected', 'receives', 'document', 'passport', 'failure', 'misdemeanor', 'felony', 'wish', 'identities', 'rarely', 'acted', 'witness', 'neal', 'red-flag', 'dozens', 'computer-generated', 'certified', 'mail', 'drug', 'necessarily', 'circumstances', 'filling', 'spark', 'lefcourt', 'delegates', 'resolution', 'condemning', 'requirement', 'prohibited', 'ethics', 'disclosing', 'committing', 'taxpayers', 'notice', 'christopher', 'lezovich', 'submit', 'summons', 'initiated', 'dating', 'correspondence', 'mailed', '8300s', 'develop', 'sending', 'assertions', 'relating', 'lucrative', 'fanfare', 'raul', 'quitting', 'refusal', 'couple', 'clerks', 'quipped', '89,500', 'accountants', 'blinks', 'eye', 'sudden', 'relegated', 'sum', 'litigation', 'orrick', 'herrington', 'sutcliffe', 'detail', 'doonesbury', \"creator's\", 'garry', 'alleging', 'punish', 'crossing', 'screenwriters', 'involves', 'productions', 'co-owner', 'collective-bargaining', 'illegally', 'reviewing', 'harassment', 'consists', 'mainly', 'year-long', 'threats', 'punishment', 'preventing', 'punishing', 'retaliating', 'abortion-related', 'assist', 'obtaining', 'referrals', 'advocate', 'providers', 'limits', 'pregnant', 'clears', 'jack', 'sparked', 'remarks', 'sentencing', '18-year-old', 'defendant', 'killing', 'referring', 'queers', 'cruising', 'picking', 'teenage', 'appointed', 'commenting', 'observing', 'exhibited', 'prejudice', 'impartial', 'prostitute', 'discredit', 'judiciary', 'empowered', 'stock-manipulation', 'arguments', 'lowe', 'eight-count', 'indictment', 'sherwin', 'attempting', 'manipulate', 'carbide', 'trials', 'mistrials', 'switching', 'iran\\\\/contra', 'affair', 'mayer', 'three-lawyer', 'd.c.', '520-lawyer', 'specialize', 'white-collar', 'served', 'narcotics', 'cooper', 'rubber', 'principle', 'albany', 'ga.', 'bridgestone\\\\/firestone', '1.8', 'square', 'feet', 'warehousing', '353', 'apologizing', 'indulging', 'rebuked', 'fretted', 'cutthroat', 'pricing', 'penny', 'no.', 'competitors', 'tie-breaking', 'lottery', 'computer-system-design', 'summoned', 'understood', 'fair', 'antitrust-law', 'apologize', 'packed', 'contrary', 'sorry', 'embarrassing', 'situations', 'sacrificing', 'gifts', 'businessmen', 'extramarital', 'fire', 'fueled', 'behavior', 'municipality', 'low-ball', 'complain', 'procurement', 'unfairly', 'undercut', 'excessively', 'slashing', 'semiconductors', 'u.s.-japan', 'minus', 'factor', 'one-yen', 'map', 'waterworks', '77,000', 'saitama', 'prefectural', 'wakayama', 'municipalities', 'emerge', 'michio', 'sasaki', 'keidanren', 'federation', 'atlantic', 'publications', 'retaining', 'osborn', 'desai', 'michaels', '14.6', '32.8', '28.6', '29.3', '28.4', 'belonging', 'locally', 'hydraulically', 'shovels', 'wheel-loader', 'heidelberg', 'german', '280', 'computer-aided', 'automation', 'productivity', '@', 'deposits-a', '6.21', 'compiled', 'monitor', 'b', 'lsi', 'logic', 'surprise', 'industry-wide', 'semiconductor', 'custom-chip', 'lagging', 'extended', 'weakness', 'economical', 'techniques', 'wilfred', 'corrigan', 'midyear', 'phase', 'appropriate', 'equals', '86', 'counting', 'extraordinary', '133.7', '94', 'five-inch', 'more-efficient', 'six-inch', 'wafers', 'fabricate', 'converting', 'santa', 'clara', 'facility', 'speculate', 'additions', 'suddenly', 'poorly', 'positioned', 'stark', 'robertson', 'stephens', 'buyers', 'jitters', 'ingersoll-rand', 'woodcliff', 'kuhns', 'buoyed', 'cautiously', 'bearish', 'underpin', 'plunging', 'locked', 'narrow', 'goldinger', 'insight', 'reasons', '77.70', '77.56', 'dollar-yen', 'driving', 'tom', 'trettien', 'banque', 'paribas', 'convinced', 'erode', '1.5755', '1.5805', '143.93', '143.08', 'traced', 'wave', 'waiting', 'wings', 'perception', 'vitriolic', 'mollified', 'cites', 'knight', 'undisclosed', 'forthcoming', 'yen-denominated', 'speculation', 'redeeming', 'unclear', 'rolled', 'prospect', 'lock', 'unabated', 'recede', 'cues', 'merely', 'drifted', 'release', '45.3', 'minimal', '374.20', '3.5', 'ounces', '374.19', 'nbc', 'huxtable', 'viewers', '187', 'considerably', 'fuming', 'ultimatum', 'persuade', 'spin-off', 'tactics', 'midwest', 'tell', 'flooded', 'comedies', 'networks', 'pre-emptive', '2-8', 'a.c.', 'nielsen', 'r.i.', 'raleigh', 'ky.', 'renew', 'dick', 'lobo', 'wtvj', 'nbc-owned', 'disappointment', 'kuvin', 'whas', 'uncomfortable', 'wu', 'atlanta-based', 'conventional', 'life-insurance', 'nationale', 'nederlanden', 'frantic', 'revenue-desperate', 'magazines', 'cozy', 'fawning', 'articles', 'advertorial', 'downright', 'thumbing', 'billed', 'practical', 'entrepreneur', 'patricia', 'scoop', 'how-to', 'topics', 'backyard', 'composting', 'explanatory', 'essays', 'happens', 'flush', 'toilet', 'hard-hitting', 'whirling', 'rampage', 'supermarket', 'aisles', 'identify', 'guys', 'feature', 'deem', 'standpoint', 'alienated', 'would-be', 'ire', 'furious', 'microwave', 'column', 'diagram', 'arrows', 'pointing', 'polystyrene', 'foam', 'polyproplene', 'polyester', 'plastic', 'non-biodegradable', 'landfill', 'monster', 'practicing', 'journalistic', 'fumes', 'modifications', 'portrayed', 'recyclability', 'soups', 'mike', 'ddb', 'big-time', 'handful', 'adolph', 'coors', 'bumkins', 'relied', 'print', 'publisher', 'subscription', 'revenues', '2.95', 'yearly', 'recycled', 'old-house', '126,000', 'newsstands', '93,000', 'scared', 'sleep', 'expanded', 'largely', 'e.c.', 'fremantle', 'supplier', 'corestates', 'earle', 'palmer', 'spiro', 'handled', 'vansant', 'dugdale', 'baltimore', 'at&t', 'ogilvy', 'mather', 'wpp', 'serviced', 'rent-a-car', 'specializes', 'replacement-car', 'rentals', 'accidents', 'avrett', 'ginsberg', 'pitches', 'consumer-driven', 'pick-up', 'drop-off', 'identity-management', 'ketchum', 'pittsburgh', 'braun', 'investor-relations', 'marketing-communications', '70-a-share', 'pressed', 'hamilton', 'bermuda-based', 'proceeds', 'apiece', 'ag', '777', 'sweetened', '963', 'asset-sale', 'approximately', '620', '490', 'allocated', 'flexibility', 'leeway', 'characterizing', 'conditional', 'device', 'entrench', 'confuse', 'superior', 'asset', 'materialize', '36', 'converted', 'bermuda', '62.625', 'responding', 'steps', 'automobiles', 'equip', 'lap-shoulder', 'rear', 'samuel', 'skinner', 'represents', 'milestone', 'ongoing', 'occupant', 'extension', 'equipped', 'front-seat', 'headrests', 'urging', 'car-safety', 'classed', 'actually', 'cargo', 'therefore', 'luck', 'reagan', 'address', 'chuck', 'hurley', 'highway', 'mo', 'noting', 'rollover', 'crashes', 'fatalities', 'bags', 'side-crash', 'weighing', 'pounds', 'withstand', 'unloaded', 'weight', 'depressed', 'inches', 'lap', 'phasing', 'engineer', 'auto-safety', 'installing', 'f-series', 'crew', 'cab', 'pickups', 'explorer', 'sport-utility', 'rail', 'enclosed', 'transporting', 'autos', 'multilevel', 'thrall', 'duchossois', 'elmhurst', 'ill', 'railroad', '850', 'walters', '58-year-old', 'joins', 'cement', 'milne', 'retires', 'longstanding', 'prospectively', 'conversations', 'merger-related', 'prevailing', 'passage', 'slump', '121.6', 'lay', 'employment', 'exclusively', 'leasing', 'goody', '11.5', 'payable', 'jan.', 'kearny', 'n.j.-based', 'hair', 'cosmetic', '992,000', 'year-ago', '1.9', 'anti-takeover', 'henderson', '51-year-old', 'u.k.', 'metals', 'succeeding', 'ian', 'retiring', '1\\\\/10th', 'cent', 'redemption', 'proprietor', 'cellars', 'napa', 'tag', 'wine-making', 'estimation', '700', 'sauvignon', 'weighed', 'sticker', 'fastest', 'category', 'exceptional', 'perceived', 'exceedingly', 'stable', 'lafite-rothschild', 'haut-brion', 'cru', 'deluxe', 'champagnes', 'dom', 'perignon', 'rarefied', 'trockenbeerenauslesen', 'rieslings', 'riserva', 'flashy', 'zoomed', 'priciest', 'releases', 'boast', 'lion', 'bottles', '80', 'smallest', 'sauternes', 'lighter', 'spectacularly', '179', 'prestige', 'cuvees', 'inching', \"'82\", 'taittinger', 'comtes', 'encroaching', 'reds', 'rhone', 'guigal', 'cote', 'rotie', 'landonne', 'steal', 'domaine', 'precious', 'anywhere', 'commanded', 'three-digit', 'tags', '180', '225', 'coche-dury', 'corton-charlemagne', '155', 'angelo', 'gaja', 'barbaresco', 'piero', 'antinori', 'solaia', '98', 'vega', 'secilia', 'unico', '10th', 'grange', 'cult', 'command', 'marty', 'happening', 'scarce', 'exhausted', \"'40s\", \"'50s\", '300', 'newer', 'bargain', 'ripen', 'perfectly', 'acre', 'yielded', 'al', 'brownstein', 'originally', 'retailer', 're-thought', 'check', 'yes', 'shipped', 'six-bottle', 'retailers', 'awfully', 'schaefer', 'skokie', 'suburban', 'opinions', 'six-packs', 'thinks', 'dramatically', 'wins', 'sticker-shock', 'talked', 'excited', 'astronomical', 'collection', 'one-upsmanship', 'terrace', 'dunn', 'knowledgeable', 'cedric', 'cellar', 'overpriced', 'grgich', 'chardonnay', '32', 'chardonnays', 'push', 'le', 'lowering', 'walking', \"'86\", 'opus', 'dominus', 'wine-buying', 'holidays', 'ensrud', 'free-lance', 'upward', 'moderated', 'richmond', 'posting', 'kansas', 'achieving', 'stated', 'objective', 'hopefully', 'downward', '0.25', '8.75', 'shown', 'big-ticket', 'divided', 'presidents', 'resisting', 'excesses', 'tilt', 'integra-a', 'mailing', '105', '13.5', '1993', '23.5', 'hotels', 'steelmaker', '445', 'shelby', 'steelworkers', '3057', 'tube', 'expired', 'reject', 'pact', '230-215', 'stoppage', 'postponed', 'autions', 'rescheduled', '13.8', 'partisan', 'bickering', 'entangled', 'fails', 'disruption', 'schedule', 'taxpayer', 'nicholas', 'brady', 'imperative', 'redeem', 'maturing', 'refunding', 'three-year', '2019', '36-day', 'when-issued', 'approves', 'clearing', '47.5', '25.6', '21.9', 'five-year', 'decides', 'foods', 'marketer', 'frozen', 'noodles', 'pre-cooked', 'pasta', 'clive', 'advantage', 'finished', '2645.90', 'advancing', 'tidily', '847', '644', 'enthusiasm', '3.18', 'evaporated', 'rushed', 'sight', 'beige', '154.2', '2.50', '7.88', 'mining', 'smelting', '5.276', '36.9', '3.253', '4.898', '1.457', '200', 'supplies', 'restructure', 'rebuffed', 'proposals', 'reviewed', 'regarding', 'combinations', 'eliminated', 'proof', 'aggressive', 'clamped', 'ankle', 'bull', '9.9', 'two-thirds', 'surprised', 'cited', '1.75', '51.25', '22.75', 'landis', 'proposing', 'subordinated', 'junk-bond', 'collapsed', 'lessening', 'likelihood', 'hundred', 'agreeing', 'satrum', 'spurns', 'solicitation', 'replacing', 'nominal', '46.1', '251.2', '278.7', 'licensing', 'representing', 'challenging', 'westport', 'punitive', 'researcher', '1960s', 'combat', 'patented', 'licensed', 'brunswick', 'criticism', 'skittishness', 'color', 'unfettered', 'removal', 'perceives', 'heated', 'stirred', 'impediments', 'initiative', 'rhetoric', 'informally', 'impending', 'direct-investment', 'fret', 'rancor', 'nervousness', 'devoted', 'briefing', 'journalists', 'vitally', 'emotions', 'taizo', 'watanabe', 'escalated', 'coca-cola', 'midtown', 'fuel', 'fires', 'discontent', 'stoked', 'publicized', 'boone', 'jr', 'oilman', '26.2', '1.2', 'automotive-lighting', 'asserting', 'greenmailer', 'texan', 'lloyd', 'bentsen', 'highlight', 'disproportionate', 'table', 'structures', 'litany', 'recommendations', 'clarified', 'retort', 'concessions', 'clarify', 'exactly', 'sorting', 'specifics', 'quick', 'crossed', 'gauging', 'sheaf', 'elisabeth', 'rubinfien', 'improves', 'wayland', 'sights', 'myriad', 'penetrate', 'tiny', 'joint-venture', 'guided', 'bureaucratic', 'maze', 'secured', 'kidney', 'stones', 'treats', 'skin', 'lesions', 'count', 'olsen', 'milked', 'bankroll', 'promising', 'putting', '214', 'heightened', 'acceleration', 'conspicuous', 'penetration', 'feed', 'anxieties', 'low-tech', 'fancy', 'warrenton', 'va.', 'fabricator', 'architectural', 'foundering', 'chiefly', 'window', 'ichiro', 'merchandise', 'inside', 'nissho-iwai', 'counterpart', 'vertically', 'feudal', 'globally', 'commodities', 'ships', 'sogo-shosha', 'u.s.a.', 'takeshi', 'kondo', 'ventures', 'trading-company', 'goal', 'objectives', 'logjam', 'small-company', 'businessman', 'davies', 'alliance', 'queuing', 'unsympathetic', 'relation', 'generate', 'ai', 'departure', 'fueling', 'airlines', 'airports', 'omitted', 'duties', 'assumed', 'langner', 'genie', 'convenient', 'high-balance', 'pine', 'crown', 'safe', 'qualify', 'competed', 'bundling', 'population', 'segmenting', 'anne', 'ncnb', 'connections', 'adults', 'pre-approved', 'throws', 'cash-flow', 'saving', 'planters', 'memphis', 'tenn.', 'edge', 'thirtysomething', 'crowd', 'borrowed', 'aiming', 'elderly', 'demographic', 'stepped', 'judie', 'jacksonville', 'sub-segments', 'tailoring', 'styles', 'life-style', 'create', 'sub-markets', 'branches', 'athletic', 'travel', '55-year-old', 'games', '75-year-old', 'panama', '1973', 'wells', 'fargo', 'safe-deposit', 'travelers', 'begot', 'slew', 'copycats', 'promoting', 'margins', 'computerize', 'niches', 'profitable', 'mid-1970s', 'emphasis', 'switched', 'enabling', 'analyze', '1970s', 'high-rate', 'cds', 'passbook', 'certificates', 'interest-bearing', 'staggering', 'bigger', 'norwest', 'market-share', 'battles', 'worrying', 'money-center', 'scrambling', 'cultivated', 'savvier', 'n.c', 'fragmentation', 'attracting', 'rate-sensitive', 'rewarding', 'bulk', 'captive', 'audience', 'loyal', 'borrowers', 'savers\\\\/investors', 'drawbacks', 'personnel', 'promotional', 'chemplus', 'flourish', 'demanding', 'tailored', 'direction', 'boutique', 'iras', 'amend', 'delete', '500,000', 'chandler', 'ariz.', 'resubmit', '2.3', 'exercisable', '4.1', 'develops', 'low-cost', 'hawaiian', 'vacation', 'necklace', 'lasting', 'pocket', 'teetering', 'insolvency', 'demise', 'needy', 'solvent', 'performing', 'gift', 'doors', 'joy', 'lewis', 'ranieri', 'builds', 'self', 'sufficiency', 'critical', 'delay', 'worse', 'mid-size', 'semesters', 'rap', 'sagging', 'morale', 'baris', 'mercantile', 'stemming', 'slides', 'halts', 'emergencies', 'reinstating', 'arguing', '150-point', '20-point', '1:30', '3:15', 'tumultuous', 'skidded', 'hitting', 'existing', '30-minute', 'equal', 'leo', 'melamed', 'lessen', 'panic', 'reopened', 'subsequent', 'flood', 'knocked', 'intermediate', 'synchronized', 'circuit-breaker', 'aggravated', 'directing', 'respite', 'sell-offs', 'maximum', 'modification', 'lapses', 'congressmen', 'executing', 'manually', 'post-hearing', 'volatility', 'comfortable', 'capitol', 'legislators', 'shut', 'volatile', 'breeden', 'breakers', 'preset', 'vague', 'mushy', 'viewpoints', 'angered', 'sensitive', 'happy', 'writing', 'discussed', 'annoyed', 'congressman', 'fifteen', '26', 'attended', 'let', 'jurisdictional', 'regulating', 'regulated', 'agriculture', 'committees', 'peculiar', 'peculiarities', 'unintelligible', 'tailors', 'evoke', 'loveliest', 'stone', 'cascading', 'calling', 'faithful', 'evensong', 'parishioners', 'angels', 'chat', 'rhythmically', 'sounded', '1614', 'discordant', 'modern', 'church-goers', 'enjoying', 'cool', 'autumn', 'herald', 'derek', 'octogenarians', 'sometimes-exhausting', 'sounding', 'belfries', 'anglia', 'scrape', 'water-authority', 'dances', 'drift', 'flightiness', 'diminish', 'anglian', 'pealing', 'nationwide', 'sundays', 'tunes', 'carillons', 'continental', 'childish', 'mind-boggling', '380', 'physical', 'dexterity', 'weigh', 'ton', 'concentration', 'proper', 'rounds', 'highest-pitched', 'descending', 'altering', 'rhythm', 'variation', 'memorize', 'methods', 'odd-sounding', 'treble', 'grandsire', 'caters', 'kensington', 'ten', 'shirt-sleeved', 'prize-fighter', 'pulling', 'rope', 'disappears', 'hole', 'snaking', 'muffled', 'totally', 'absorbed', 'stare', 'vision', 'rope-sight', 'thus', 'pulls', 'bronze', 'wheels', 'madly', '360', 'inverted', 'mouth-up', 'skilled', 'wrists', 'retard', 'well-known', 'detective-story', 'novelist', 'finds', 'satisfaction', 'mathematical', 'completeness', 'perfection', 'filled', 'solemn', 'intoxication', 'intricate', 'ritual', 'faultlessly', 'obsession', 'pattenden', 'stays', 'stuck', 'sweat', 'skip', 'pub', 'sit', 'clerics', 'steadily', 'dwindling', 'pressing', 'non-religious', 'rev.', 'jeremy', 'sacked', 'promptly', 'self-perpetuating', 'premises', 'eight', 'ilminster', 'somerset', 'dust-up', 'attendance', 'w.d.', 'refuses', 'reopen', 'wound', 'c.j.b.', 'stairs', 'altar', 'obvious', 'exit', 'prayer', 'feelings', 'bell-ringer', 'drawn', 'fuller', 'aims', 'speak', 'theological', 'colleges', 'joys', 'publish', 'booklet', 'entitled', 'attacking', 'bellringers', '40,000', 'parishes', 'inner-city', 'lucky', 'male-dominated', 'everywhere', 'bell-ringing', 'youths', '1637', 'male-only', 'galling', 'sole', 'cathedral', 'westminster', 'abbey', 'equal-opportunity', 'weekly', 'signing', 'red-blooded', 'balanced', 'frequency', 'fainting', 'tea', 'torrent', 'solihull', 'observed', 'desired', 'dressed', 'decorated', 'beer-belly', 'unwashed', 'unbearably', 'flatulent', 'sheffield', 'faint', 'bless', 'unsettled', 'comfort', 'predictable', 'arrival', 'breathe', 'warn', 'strongest', 'trap', 'unwary', 'bernstein', 'quantitative', 'merrill', 'lynch', 'widow', 'spiders', 'males', 'kill', 'mating', 'robustly', 'invariably', 'hospitable', 'cyclical', 'peaks', '500-stock', 'sliding', 'trends', 'smartly', 'advances', 'unenticing', 'exits', 'sustained', 'rebound', 'pushes', 'tanked', 'exception', 'hint', 'escaped', 'debacle', '1933', '1961', '1965', '1968', '1971', 'sharp', 'troublesome', 'behaving', 'philadelphia-based', 'insurer', 'co-chairman', '3.6', 'tad', 'single-digit', 'weakening', 'forecasting', 'slowdowns', 'doerflinger', 'argument', 'wherewithal', 'declare', 'weaken', 'bulls', 'expenditures', '139', '138', 'trailed', 'slippage', 'harbinger', 'deliver', 'appreciation', 'vs.', 'element', 'outlook', 'upside', 'alexander', 'graham', 'invention', 'supposedly', 'replace', 'father-in-law', 'gardner', 'hubbard', 'wealthy', 'well-connected', 'sued', 'grandfather', 'emile', 'princely', 'infringed', 'established', 'caveat', 'enter', 'discontinuing', 'quarters', '266', '176', 'commit', 'structurally', 'radically', 'servicing', 'word-processing', 'legend', 'lacked', 'hired', '93', 'historic', 'rapprochement', 'spoke', 'length', 'nowhere', 'easing', 'strains', 'afflicted', 'sino-u.s.', 'bloody', 'suppression', 'pro-democracy', 'harped', 'outrage', 'massacre', 'interference', 'proponent', 'peaceful', 'phrase', 'seduce', 'socialist', 'capitalist', 'sphere', 'tension', 'evident', 'banquet', 'reciting', 'platitudes', 'eternal', 'friendship', 'reminded', 'shangkun', 'assault', '3-4', 'crackdown', 'ordering', 'respect', 'undiplomatic', 'fashion', 'killings', 'prominently', 'demonstrations', 'deng', 'xiaoping', 'speaking', 'deeply', 'turmoil', 'counterrevolutionary', 'rebellion', 'occurred', 'reprove', 'mend', 'deteriorated', 'chinese-american', 'dissident', 'lizhi', 'wife', 'shuxian', 'refuge', 'afterwards', 'anti-china', 'high-level', 'codified', 'traveling', 'citizen', 'unofficial', 'envoy', 'brent', 'scowcroft', 'saturday', 'top-level', 'participation', 'fulbright', 'government-funded', 'pulled', 'acknowledge', 'welcome', 'infusion', 'contacts', 'borders', 'sdi', 'weapon', 'shoot', 'minor', 'concession', 'premier', 'peng', 'hoped', 'encounter', 'guns', 'arrived', 'machine-gun-toting', 'blocks', 'ambassador', 'residence', 'encircling', 'discarded', 'uzi-model', 'pistols', 'contingent', 'plainclothes', 'unmarked', 'soldiers', 'protests', 'diplomats', 'clicked', 'loaded', 'graduates', 'accusing', 'jeopardizing', 'barking', 'tree', 'passing', 'buck', 'everything', 'volunteer', 'unethical', 'higher-salaried', 'unfortunately', 'compensation', 'impression', 'harder', 'visited', 'images', 'changing', 'perceptions', 'vacations', 'accept', 'hiroshi', 'asada', 'barbara', 'regrettable', 'negatives', 'liberals', 'progressive', 'prof', 'ethel', 'klein', 'puts', '76', 'favorable', 'voters', 'disapprove', 'spouse', 'imply', 'three-quarters', 'assumption', 'distasteful', 'newsworthy', 'perpetuates', 'insidious', 'stereotyped', 'perspective', 'defined', 'denominator', 'preston', 'birmingham', 'ala', 'self-regulatory', 'disciplined', 'fernando', 'marina', 'del', 'rey', 'telephone-information', 'i.', 'improper', 'lauderhill', 'plantation', 'delwin', 'mount', 'clemens', 'glenn', 'record-keeping', 'inaccurately', 'weatherly', 'principals', 'dell', 'keehn', 'northy', 'prater', 'mercer', 'island', 'wash.', 'implication', 'inappropriate', 'timing', 'rectified', 'w.n.', 'del.', 'n.', 'transacting', 'differ', 'meaning', 'markup', 'markdown', '62%-owned', 'express', 'timely', 'requests', 'andrew', 'derel', 'adams', 'killeen', 'angier', 'reddington', 'shores', 'stirlen', 'fred', 'bonnell', 'boorse', 'horsham', 'chiodo', 'camille', 'chafic', 'cotran', 'davis', 'colonsville', '200,000', 'jeffrey', 'gerard', 'dompierre', 'valrico', '16,072', 'marion', 'stewart', 'spitler', '18,444', 'amounted', 'parking', 'ticket', 'complaining', 'sizable', 'anybody', 'fishman', 'longwood', 'floyd', 'bronx', 'amin', 'jalaalwalikraam', 'glenham', 'knapp', 'deborah', 'renee', 'muscolina', 'palisades', 'najarian', 'minn.', 'norwick', 'nesconset', 'phipps', 'sr.', 'scott', 'rankin', 'mo.', 'leigh', 'sanderoff', 'gaithersburg', 'md.', '45,000', '12,252', 'sandra', 'ann', 'ridgefield', 'spence', 'aloha', 'ore.', 'mona', 'sun', 'jamaica', 'estates', 'swearingen', 'bew', 'wong', 'rabia', 'zayed', 'veselich', 'enright', 'rolling', '11,762', 'stuart', 'russel', 'glendale', '14,821', 'nilson', 'fountain', '82,389', 'screwed', 'breaking', 'agents', 'reps', 'compliance', 'security-type', 'mistakes', 'cole', 'jackson', 'rita', 'rae', 'cross', 'denver', 'meinders', 'five-day', 'eight-month', 'la.', 'one-month', 'karl', 'hale', 'midvale', 'utah', 'clinton', 'hayne', 'one-week', 'kane', 'coconut', '250,000', 'merrick', 'miller', 'randolph', '90-day', 'brian', 'pitcher', 'russo', 'bridgeville', '15-day', 'orville', 'leroy', 'sandberg', '3,500', 'marchese', 'eric', 'monchecourt', 'gerhard', 'carson', 'actively', 'engaged', 'fond', 'blocked', 'emigrate', 'computer-driven', 'plays', 'hurdles', 'loom', 'resist', 'onslaught', 'shrug', 'furor', 'marching', 'abroad', 'overlap', 'american-style', 'exploit', '11.6', 'imagine', 'racing', 'chicago-style', 'cope', 'makato', 'utsumi', 'home-market', 'osaka', 'wary', 'forgotten', 'bout', 'foreign-led', 'drove', 'skyward', 'mechanisms', 'operators', 'suspend', 'maybe', 'tightened', 'index-related', 'catch-up', 'reaped', 'chunk', 'deryck', 's.', 'wadsworth', 'ascribe', 'futures-related', 'strategies', 'disruptive', 'liquid', 'impact', 'serves', 'conduit', 'attractions', 'counter', 'tapes', 'unwind', 'begins', 'privacy', 'brokerage', 'barfield', 'assurance', 'manages', '#', '23.72', 'times-stock', '100-share', 'tenfold', '9,118', '4,645', '917', 'index-options', 'compares', 'derivatives', '382-37', 'backed', 'replete', 'proponents', '90-cent-an-hour', 'opponents', 'reflected', 'republicans', 'bend', 'lifting', 'four-year', 'enacted', '2.65', '3.80', 'smiles', 'pat', 'mont', 'marge', 'acceptance', 'administrations', 'sought', 'adopting', 'training-wage', 'nickel', 'diming', 'lately', 'touted', 'impart', 'entrants', 'democrats', 'fought', 'acceded', 'insistence', '3.61', 'restriction', 'government-certified', 'unrestricted', 'mininum-wage', 'impossible', 'elimination', '534', 'navy', 'microcomputers', '84-month', 'rockwell', '130.7', 'ac-130u', 'gunship', 'replacement', 'marietta', '29.9', 'low-altitude', 'navigation', '29.4', 'mode', 'gentle', 'hard-charging', 'teddy', 'roosevelt', '62-year-old', 'forest-product', 'unsolicited', '3.19', 'cold', 'negotiated', 'entice', 'negotiating', 'surrender', 'tough', 'completion', 'opens', 'implies', 'dilemma', 'overpaying', 'fold', 'courage', 'a.d.', 'long-time', 'griffin', 'wtd', 'insiders', 'onto', 'picked', 'careful', 'polytechnic', 'universities', 'strother', 'researching', 'willingness', '1970', 'arrest', 'protesters', 'occupying', 'impressed', 'fundraising', 'enticed', 'joining', 'befuddled', 'administrator', 'transition', 'swiftly', 'demonstrating', 'raw', 'possessed', 'son', 'skipped', 'classmates', 'graduated', 'phi', 'beta', 'kappa', 'kentucky', 'doctorate', 'physics', 'retentive', 'understatement', 'photographic', 'engineered', 'turnaround', 'inherited', 'recession-inspired', 'building-products', 'non-core', 'vinyl', 'checkbook', 'refocusing', 'repair', 'remodeling', 'cycles', 'formula', '9.5', 'reins', '467', 'attributes', 'philosophy', 'concentrating', 'diversified', 'impressive', 'diversification', 'match', 'high-quality', 'forest-products', 'waters', 'kathryn', 'mcauley'])"
            ]
          },
          "metadata": {},
          "execution_count": 10
        }
      ]
    },
    {
      "cell_type": "code",
      "metadata": {
        "id": "fsFbN0QOvaxl"
      },
      "source": [
        "tag_tokenizer = Tokenizer()\n",
        "tag_tokenizer.fit_on_texts(train_tags)\n",
        "tags_encoded = tag_tokenizer.texts_to_sequences(train_tags)"
      ],
      "execution_count": null,
      "outputs": []
    },
    {
      "cell_type": "code",
      "metadata": {
        "colab": {
          "base_uri": "https://localhost:8080/"
        },
        "id": "FMsG0Yw1l50L",
        "outputId": "ac77b926-c12f-48e5-c4a2-aa90bd55cf91"
      },
      "source": [
        "voc = list(set(train_tokenizer.word_index.keys()))\n",
        "print(len(voc))\n",
        "voc += list(set(valid_tokenizer.word_index.keys()) - set(train_tokenizer.word_index.keys()))\n",
        "print(len(voc))\n",
        "voc += list(set(test_tokenizer.word_index.keys()) - set(voc))\n",
        "print(len(voc))"
      ],
      "execution_count": null,
      "outputs": [
        {
          "output_type": "stream",
          "name": "stdout",
          "text": [
            "7404\n",
            "9901\n",
            "10947\n"
          ]
        }
      ]
    },
    {
      "cell_type": "code",
      "metadata": {
        "id": "dS9RwnOtJuas"
      },
      "source": [
        "word_index = dict(zip(voc, range(2, len(voc)+3)))\n",
        "word_index['-PAD-'] = 0\n",
        "word_index['-OOV-'] = 1\n",
        "\n",
        "tags = set([item for sublist in train_tags for item in sublist])\n",
        "\n",
        "tag2index = {t: i + 1 for i, t in enumerate(tags)}\n",
        "tag2index['-PAD-'] = 0 "
      ],
      "execution_count": null,
      "outputs": []
    },
    {
      "cell_type": "code",
      "metadata": {
        "colab": {
          "base_uri": "https://localhost:8080/"
        },
        "id": "uoj4Zx51J2MU",
        "outputId": "4d28f25c-3c64-4e8a-e336-804058fbdc6d"
      },
      "source": [
        "!wget http://nlp.stanford.edu/data/glove.6B.zip\n",
        "!unzip -q glove.6B.zip"
      ],
      "execution_count": null,
      "outputs": [
        {
          "output_type": "stream",
          "name": "stdout",
          "text": [
            "--2021-12-20 15:32:16--  http://nlp.stanford.edu/data/glove.6B.zip\n",
            "Resolving nlp.stanford.edu (nlp.stanford.edu)... 171.64.67.140\n",
            "Connecting to nlp.stanford.edu (nlp.stanford.edu)|171.64.67.140|:80... connected.\n",
            "HTTP request sent, awaiting response... 302 Found\n",
            "Location: https://nlp.stanford.edu/data/glove.6B.zip [following]\n",
            "--2021-12-20 15:32:16--  https://nlp.stanford.edu/data/glove.6B.zip\n",
            "Connecting to nlp.stanford.edu (nlp.stanford.edu)|171.64.67.140|:443... connected.\n",
            "HTTP request sent, awaiting response... 301 Moved Permanently\n",
            "Location: http://downloads.cs.stanford.edu/nlp/data/glove.6B.zip [following]\n",
            "--2021-12-20 15:32:17--  http://downloads.cs.stanford.edu/nlp/data/glove.6B.zip\n",
            "Resolving downloads.cs.stanford.edu (downloads.cs.stanford.edu)... 171.64.64.22\n",
            "Connecting to downloads.cs.stanford.edu (downloads.cs.stanford.edu)|171.64.64.22|:80... connected.\n",
            "HTTP request sent, awaiting response... 200 OK\n",
            "Length: 862182613 (822M) [application/zip]\n",
            "Saving to: ‘glove.6B.zip.1’\n",
            "\n",
            "glove.6B.zip.1      100%[===================>] 822.24M  5.18MB/s    in 2m 40s  \n",
            "\n",
            "2021-12-20 15:34:57 (5.14 MB/s) - ‘glove.6B.zip.1’ saved [862182613/862182613]\n",
            "\n",
            "replace glove.6B.50d.txt? [y]es, [n]o, [A]ll, [N]one, [r]ename: N\n"
          ]
        }
      ]
    },
    {
      "cell_type": "code",
      "metadata": {
        "colab": {
          "base_uri": "https://localhost:8080/"
        },
        "id": "pc-T6FcLKtS9",
        "outputId": "0a153613-b8f5-4312-a02f-d052de39204d"
      },
      "source": [
        "path_to_glove_file = os.path.join(os.getcwd(), \"glove.6B.100d.txt\")\n",
        "\n",
        "embeddings_index = {}\n",
        "with open(path_to_glove_file) as f:\n",
        "    for line in f:\n",
        "        word, coefs = line.split(maxsplit=1)\n",
        "        coefs = np.fromstring(coefs, \"f\", sep=\" \")\n",
        "        embeddings_index[word] = coefs\n",
        "\n",
        "print(\"Found %s word vectors.\" % len(embeddings_index))\n"
      ],
      "execution_count": null,
      "outputs": [
        {
          "output_type": "stream",
          "name": "stdout",
          "text": [
            "Found 400000 word vectors.\n"
          ]
        }
      ]
    },
    {
      "cell_type": "markdown",
      "source": [
        "# Embedding\n",
        "- matrix creation\n",
        "- padding\n",
        "- one hot encoding of tags\n",
        "- punctuation identification"
      ],
      "metadata": {
        "id": "cLSzyxRdswoT"
      }
    },
    {
      "cell_type": "code",
      "metadata": {
        "colab": {
          "base_uri": "https://localhost:8080/"
        },
        "id": "d0mOStEPMeXt",
        "outputId": "b91e3518-9cc8-474f-bbf8-cde8f5dea41e"
      },
      "source": [
        "num_tokens = len(voc) + 2\n",
        "embedding_dim = 100\n",
        "hits = 0\n",
        "misses = 0\n",
        "\n",
        "\n",
        "# Prepare embedding matrix\n",
        "embedding_matrix = np.zeros((num_tokens, embedding_dim))\n",
        "for word, i in word_index.items():\n",
        "    embedding_vector = embeddings_index.get(word)\n",
        "    if embedding_vector is not None:\n",
        "        # Words not found in embedding index will be all-zeros.\n",
        "        # This includes the representation for \"padding\" and \"OOV\"\n",
        "        embedding_matrix[i] = embedding_vector\n",
        "        hits += 1\n",
        "    else:\n",
        "        # the OOV words are mapped randomly\n",
        "        embedding_matrix += np.random.uniform(low=-0.05, high=0.05, size=embedding_dim)\n",
        "        misses += 1\n",
        "print(\"Converted %d words (%d misses)\" % (hits, misses))"
      ],
      "execution_count": null,
      "outputs": [
        {
          "output_type": "stream",
          "name": "stdout",
          "text": [
            "Converted 10271 words (678 misses)\n"
          ]
        }
      ]
    },
    {
      "cell_type": "code",
      "metadata": {
        "id": "OpYrHs0RMtQJ"
      },
      "source": [
        "from tensorflow.keras.layers import Embedding\n",
        "\n",
        "embedding_layer = Embedding(\n",
        "    num_tokens,\n",
        "    embedding_dim,\n",
        "    embeddings_initializer=keras.initializers.Constant(embedding_matrix),\n",
        "    trainable=False,\n",
        ")"
      ],
      "execution_count": null,
      "outputs": []
    },
    {
      "cell_type": "code",
      "metadata": {
        "colab": {
          "base_uri": "https://localhost:8080/"
        },
        "id": "f8EZM31Js06-",
        "outputId": "3b12d906-b0ce-4de2-83f7-44a66230330e"
      },
      "source": [
        "MAX_LENGTH = len(max(train_sentences, key=len))\n",
        "print(MAX_LENGTH)\n",
        "MAX_LENGTH2 = len(max(valid_sentences, key=len))\n",
        "print(MAX_LENGTH2)\n",
        "MAX_LENGTH3 = len(max(test_sentences, key=len))\n",
        "print(MAX_LENGTH3)"
      ],
      "execution_count": null,
      "outputs": [
        {
          "output_type": "stream",
          "name": "stdout",
          "text": [
            "249\n",
            "81\n",
            "58\n"
          ]
        }
      ]
    },
    {
      "cell_type": "code",
      "metadata": {
        "id": "iSRa9SwTuNrX"
      },
      "source": [
        "train_sentences_X, valid_sentences_X, test_sentences_X, train_tags_y, valid_tags_y, test_tags_y = [], [], [], [], [], []\n",
        " \n",
        "for s in train_sentences:\n",
        "    s_int = []\n",
        "    for w in s:\n",
        "        try:\n",
        "            s_int.append(word_index[w.lower()])\n",
        "        except KeyError:\n",
        "            s_int.append(word_index['-OOV-'])\n",
        " \n",
        "    train_sentences_X.append(s_int)\n",
        "\n",
        "for s in valid_sentences:\n",
        "    s_int = []\n",
        "    for w in s:\n",
        "        try:\n",
        "            s_int.append(word_index[w.lower()])\n",
        "        except KeyError:\n",
        "            s_int.append(word_index['-OOV-'])\n",
        " \n",
        "    valid_sentences_X.append(s_int)\n",
        "\n",
        "for s in test_sentences:\n",
        "    s_int = []\n",
        "    for w in s:\n",
        "        try:\n",
        "            s_int.append(word_index[w.lower()])\n",
        "        except KeyError:\n",
        "            s_int.append(word_index['-OOV-'])\n",
        " \n",
        "    test_sentences_X.append(s_int)\n",
        " \n",
        "for s in train_tags:\n",
        "    train_tags_y.append([tag2index[t] for t in s])\n",
        "\n",
        "for s in valid_tags:\n",
        "    valid_tags_y.append([tag2index[t] for t in s])\n",
        " \n",
        "for s in test_tags:\n",
        "    test_tags_y.append([tag2index[t] for t in s])"
      ],
      "execution_count": null,
      "outputs": []
    },
    {
      "cell_type": "code",
      "metadata": {
        "id": "Yf-XlSrStQx3"
      },
      "source": [
        "from keras.preprocessing.sequence import pad_sequences\n",
        " \n",
        "train_sentences_X = pad_sequences(train_sentences_X, maxlen=MAX_LENGTH, padding='post')\n",
        "valid_sentences_X = pad_sequences(valid_sentences_X, maxlen=MAX_LENGTH, padding='post')\n",
        "test_sentences_X = pad_sequences(test_sentences_X, maxlen=MAX_LENGTH, padding='post')\n",
        "train_tags_y = pad_sequences(train_tags_y, maxlen=MAX_LENGTH, padding='post')\n",
        "valid_tags_y = pad_sequences(valid_tags_y, maxlen=MAX_LENGTH, padding='post')\n",
        "test_tags_y = pad_sequences(test_tags_y, maxlen=MAX_LENGTH, padding='post')"
      ],
      "execution_count": null,
      "outputs": []
    },
    {
      "cell_type": "code",
      "metadata": {
        "id": "AjZfgeu_zf0R"
      },
      "source": [
        "def to_categorical(sequences, categories):\n",
        "    cat_sequences = []\n",
        "    for s in sequences:\n",
        "        cats = []\n",
        "        for item in s:\n",
        "            cats.append(np.zeros(categories))\n",
        "            cats[-1][item] = 1.0\n",
        "        cat_sequences.append(cats)\n",
        "    return np.array(cat_sequences)"
      ],
      "execution_count": null,
      "outputs": []
    },
    {
      "cell_type": "code",
      "metadata": {
        "id": "ztPl0A0xsA4s",
        "colab": {
          "base_uri": "https://localhost:8080/"
        },
        "outputId": "0fd637d0-9e5f-409e-d7f4-3ab3479f13bb"
      },
      "source": [
        "num_tags = len(tag2index)\n",
        "\n",
        "point = [tag2index['.']]\n",
        "virg = [tag2index[',']]\n",
        "weird_apex = [tag2index['``']]\n",
        "single_apex = [tag2index[\"''\"]]\n",
        "two_dots = [tag2index[':']]\n",
        "pad = [tag2index['-PAD-']]\n",
        "lrb = [tag2index['-LRB-']]\n",
        "rrb = [tag2index['-RRB-']]\n",
        "canc = [tag2index['#']]\n",
        "dol = [tag2index['$']]\n",
        "\n",
        "punct_cat_classes = to_categorical([point, virg, weird_apex, single_apex, two_dots, pad], num_tags)\n",
        "punct_cat_classes.shape"
      ],
      "execution_count": 131,
      "outputs": [
        {
          "output_type": "execute_result",
          "data": {
            "text/plain": [
              "(6, 1, 46)"
            ]
          },
          "metadata": {},
          "execution_count": 131
        }
      ]
    },
    {
      "cell_type": "code",
      "source": [
        "cum_tags = np.zeros(num_tags)\n",
        "for i in punct_cat_classes:\n",
        "  cum_tags += i[0]"
      ],
      "metadata": {
        "id": "RfwjtkoWeTzs",
        "colab": {
          "base_uri": "https://localhost:8080/"
        },
        "outputId": "11b2df89-ff2e-4f55-f56f-a88e78f94f5f"
      },
      "execution_count": 132,
      "outputs": [
        {
          "output_type": "stream",
          "name": "stdout",
          "text": [
            "[0. 0. 0. 0. 0. 0. 0. 0. 0. 0. 0. 0. 0. 0. 0. 0. 0. 0. 0. 0. 0. 0. 0. 0.\n",
            " 0. 0. 0. 0. 0. 0. 0. 0. 0. 0. 0. 0. 0. 0. 0. 0. 0. 0. 0. 1. 0. 0.]\n",
            "[0. 0. 0. 0. 0. 0. 0. 1. 0. 0. 0. 0. 0. 0. 0. 0. 0. 0. 0. 0. 0. 0. 0. 0.\n",
            " 0. 0. 0. 0. 0. 0. 0. 0. 0. 0. 0. 0. 0. 0. 0. 0. 0. 0. 0. 0. 0. 0.]\n",
            "[0. 0. 0. 0. 0. 0. 0. 0. 0. 0. 0. 0. 0. 0. 0. 0. 0. 0. 0. 0. 0. 0. 0. 0.\n",
            " 0. 0. 0. 0. 0. 0. 0. 0. 0. 1. 0. 0. 0. 0. 0. 0. 0. 0. 0. 0. 0. 0.]\n",
            "[0. 0. 0. 0. 0. 0. 0. 0. 0. 0. 0. 0. 0. 0. 0. 0. 0. 0. 0. 0. 0. 0. 0. 0.\n",
            " 0. 0. 0. 0. 1. 0. 0. 0. 0. 0. 0. 0. 0. 0. 0. 0. 0. 0. 0. 0. 0. 0.]\n",
            "[0. 0. 0. 0. 0. 0. 0. 0. 0. 0. 0. 0. 0. 0. 0. 0. 0. 0. 0. 0. 0. 0. 0. 0.\n",
            " 0. 0. 0. 0. 0. 0. 0. 0. 0. 0. 0. 0. 0. 0. 0. 0. 0. 0. 1. 0. 0. 0.]\n",
            "[1. 0. 0. 0. 0. 0. 0. 0. 0. 0. 0. 0. 0. 0. 0. 0. 0. 0. 0. 0. 0. 0. 0. 0.\n",
            " 0. 0. 0. 0. 0. 0. 0. 0. 0. 0. 0. 0. 0. 0. 0. 0. 0. 0. 0. 0. 0. 0.]\n"
          ]
        }
      ]
    },
    {
      "cell_type": "code",
      "source": [
        "where_tags = np.where(np.logical_not(cum_tags))\n",
        "no_punct_indexes = where_tags[0]\n",
        "n_classes = len(no_punct_indexes)"
      ],
      "metadata": {
        "id": "ckabPVYKF8X5"
      },
      "execution_count": 134,
      "outputs": []
    },
    {
      "cell_type": "code",
      "metadata": {
        "colab": {
          "base_uri": "https://localhost:8080/"
        },
        "id": "XgujFxeOzjq0",
        "outputId": "6c7e507e-1384-4a2a-c572-56bac1492e64"
      },
      "source": [
        "cat_train_tags_y = to_categorical(train_tags_y, num_tags)\n",
        "cat_val_tags_y = to_categorical(valid_tags_y, num_tags)\n",
        "cat_test_tags_y = to_categorical(test_tags_y, num_tags)\n",
        "print(len(cat_train_tags_y), len(cat_val_tags_y))\n",
        "print(len(train_sentences_X), len(valid_sentences_X))"
      ],
      "execution_count": 222,
      "outputs": [
        {
          "output_type": "stream",
          "name": "stdout",
          "text": [
            "1963 1299\n",
            "1963 1299\n"
          ]
        }
      ]
    },
    {
      "cell_type": "markdown",
      "source": [
        "# Mini Data Vizualization Inset"
      ],
      "metadata": {
        "id": "IHEHfOiTtd-8"
      }
    },
    {
      "cell_type": "code",
      "source": [
        "index2tag = {value : key for (key, value) in tag2index.items()}"
      ],
      "metadata": {
        "id": "vGiXvzehlI_F"
      },
      "execution_count": 206,
      "outputs": []
    },
    {
      "cell_type": "code",
      "source": [
        "distribution_tags = np.zeros(46)\n",
        "for i in cat_train_tags_y:\n",
        "  for t in i:\n",
        "    distribution_tags += t\n",
        "\n",
        "total_val_tags = np.zeros(46)\n",
        "for i in cat_val_tags_y:\n",
        "  for t in i:\n",
        "    total_val_tags += t"
      ],
      "metadata": {
        "id": "pBsBceD6nhcS"
      },
      "execution_count": 182,
      "outputs": []
    },
    {
      "cell_type": "code",
      "source": [
        "s = sum(distribution_tags)\n",
        "norm = [float(i)/s for i in distribution_tags]"
      ],
      "metadata": {
        "id": "fJsKW-69n83M"
      },
      "execution_count": 138,
      "outputs": []
    },
    {
      "cell_type": "code",
      "source": [
        "k=0\n",
        "for i in norm:\n",
        "  print('Tag: {} --- distribution value: {}'.format(index2tag[k], i))\n",
        "  k += 1"
      ],
      "metadata": {
        "id": "L8VLJ-kcoLcN"
      },
      "execution_count": null,
      "outputs": []
    },
    {
      "cell_type": "code",
      "source": [
        "import matplotlib.pyplot as plt "
      ],
      "metadata": {
        "id": "zClpdjU5pZuI"
      },
      "execution_count": 140,
      "outputs": []
    },
    {
      "cell_type": "code",
      "source": [
        "plt.bar(np.arange(len(norm)),norm)\n",
        "plt.show()\n",
        "# distribution of tags in train split, PAD is left out"
      ],
      "metadata": {
        "colab": {
          "base_uri": "https://localhost:8080/",
          "height": 265
        },
        "id": "_q5KWcNxoqz9",
        "outputId": "d68f04e7-9145-49d7-c7f2-157163592441"
      },
      "execution_count": 141,
      "outputs": [
        {
          "output_type": "display_data",
          "data": {
            "image/png": "[encoded data removed]",
            "text/plain": [
              "<Figure size 432x288 with 1 Axes>"
            ]
          },
          "metadata": {
            "needs_background": "light"
          }
        }
      ]
    },
    {
      "cell_type": "code",
      "source": [
        "s = sum(distribution_tags[1:])\n",
        "norm = [float(i)/s for i in distribution_tags[1:]]"
      ],
      "metadata": {
        "id": "P1joeRfepxH8"
      },
      "execution_count": 142,
      "outputs": []
    },
    {
      "cell_type": "code",
      "source": [
        "plt.bar(np.arange(len(norm)),norm)\n",
        "plt.show()\n",
        "# distribution of tags in train split, PAD is left out"
      ],
      "metadata": {
        "colab": {
          "base_uri": "https://localhost:8080/",
          "height": 265
        },
        "id": "8g5EZBCkqBed",
        "outputId": "b2adef44-df13-4662-f05b-3eebc0ec0674"
      },
      "execution_count": 143,
      "outputs": [
        {
          "output_type": "display_data",
          "data": {
            "image/png": "[encoded data removed]",
            "text/plain": [
              "<Figure size 432x288 with 1 Axes>"
            ]
          },
          "metadata": {
            "needs_background": "light"
          }
        }
      ]
    },
    {
      "cell_type": "markdown",
      "source": [
        "# F1 Metric"
      ],
      "metadata": {
        "id": "90P5a9zauA9B"
      }
    },
    {
      "cell_type": "code",
      "source": [
        "def precision(y_true, y_pred):\n",
        "    \"\"\"Precision metric.\n",
        "\n",
        "    Only computes a batch-wise average of precision.\n",
        "\n",
        "    Computes the precision, a metric for multi-label classification of\n",
        "    how many selected items are relevant.\n",
        "    \"\"\"\n",
        "    true_positives = K.sum(K.round(K.clip(y_true * y_pred, 0, 1)))\n",
        "    predicted_positives = K.sum(K.round(K.clip(y_pred, 0, 1)))\n",
        "    precision = true_positives / (predicted_positives + K.epsilon())\n",
        "    return precision\n",
        "\n",
        "\n",
        "def recall(y_true, y_pred):\n",
        "    \"\"\"Recall metric.\n",
        "\n",
        "    Only computes a batch-wise average of recall.\n",
        "\n",
        "    Computes the recall, a metric for multi-label classification of\n",
        "    how many relevant items are selected.\n",
        "    \"\"\"\n",
        "    true_positives = K.sum(K.round(K.clip(y_true * y_pred, 0, 1)))\n",
        "    possible_positives = K.sum(K.round(K.clip(y_true, 0, 1)))\n",
        "    recall = true_positives / (possible_positives + K.epsilon())\n",
        "    return recall\n",
        "\n",
        "\n",
        "def f1_binary(y_true, y_pred):\n",
        "    p = precision(y_true, y_pred)\n",
        "    r = recall(y_true, y_pred)\n",
        "    return 2 * ((p * r) / (p + r + K.epsilon()))\n",
        "\n",
        "def metric_wrapper(index): #wrapper to print f1 for each tag\n",
        "  def f1_for_class(y_true, y_pred):\n",
        "    #get only the desired class\n",
        "    true = y_true[:,:,index]\n",
        "    pred = y_pred[:,:,index]\n",
        "    #return f1 per class\n",
        "    tmp = f1_binary(true,pred)\n",
        "    return tmp\n",
        "  f1_for_class.__name__ = 'f1_' + str(index)\n",
        "  return f1_for_class\n",
        "\n",
        "def f1(y_true, y_pred):\n",
        "  result = 0.0\n",
        "  for class_id in no_punct_indexes:\n",
        "    y_true_single_class = y_true[:,:,class_id]\n",
        "    y_pred_single_class = y_pred[:,:,class_id]\n",
        "    f1_single = f1_binary(y_true_single_class, y_pred_single_class)\n",
        "    result += f1_single / float(n_classes)\n",
        "  return result"
      ],
      "metadata": {
        "id": "kL2FW8K7DSdy"
      },
      "execution_count": 144,
      "outputs": []
    },
    {
      "cell_type": "markdown",
      "source": [
        "# Model compile and fit"
      ],
      "metadata": {
        "id": "ijdL-mXeuEhU"
      }
    },
    {
      "cell_type": "code",
      "metadata": {
        "colab": {
          "base_uri": "https://localhost:8080/"
        },
        "id": "QsVGByW_sdec",
        "outputId": "47dd17c0-5511-4873-8e1e-7f561fa56ba4"
      },
      "source": [
        "from keras.models import Sequential\n",
        "from keras.layers import Lambda, Dense, GRU, InputLayer, Bidirectional, TimeDistributed, Embedding, Activation\n",
        "from tensorflow.keras.optimizers import Adam\n",
        "\n",
        "gru = tf.keras.layers.GRU(256, return_sequences=True)\n",
        "\n",
        "model = Sequential()\n",
        "model.add(InputLayer(input_shape=(MAX_LENGTH, )))\n",
        "model.add(embedding_layer)\n",
        "model.add(gru)\n",
        "model.add(TimeDistributed(Dense(num_tags, activation='softmax')))\n",
        " \n",
        "model.compile(loss='categorical_crossentropy',\n",
        "             optimizer=Adam(0.001),\n",
        "             metrics=['accuracy', f1, [metric_wrapper(i) for i in no_punct_indexes]])\n",
        " \n",
        "model.summary()"
      ],
      "execution_count": 145,
      "outputs": [
        {
          "output_type": "stream",
          "name": "stdout",
          "text": [
            "Model: \"sequential_22\"\n",
            "_________________________________________________________________\n",
            " Layer (type)                Output Shape              Param #   \n",
            "=================================================================\n",
            " embedding (Embedding)       (None, 249, 100)          1094900   \n",
            "                                                                 \n",
            " gru_22 (GRU)                (None, 249, 256)          274944    \n",
            "                                                                 \n",
            " time_distributed_21 (TimeDi  (None, 249, 46)          11822     \n",
            " stributed)                                                      \n",
            "                                                                 \n",
            "=================================================================\n",
            "Total params: 1,381,666\n",
            "Trainable params: 286,766\n",
            "Non-trainable params: 1,094,900\n",
            "_________________________________________________________________\n"
          ]
        }
      ]
    },
    {
      "cell_type": "code",
      "metadata": {
        "id": "JYKlazz3zr9P",
        "colab": {
          "base_uri": "https://localhost:8080/"
        },
        "outputId": "9e0588e4-73c6-4ab0-f26f-d5d8ddbc63bf"
      },
      "source": [
        "callback = tf.keras.callbacks.EarlyStopping(monitor='val_loss', patience=5)\n",
        "history = model.fit(train_sentences_X, cat_train_tags_y, batch_size=128, epochs=40, validation_data=(valid_sentences_X, cat_val_tags_y), callbacks=[callback])"
      ],
      "execution_count": 146,
      "outputs": [
        {
          "output_type": "stream",
          "name": "stdout",
          "text": [
            "Epoch 1/40\n",
            "16/16 [==============================] - 51s 3s/step - loss: 0.8021 - accuracy: 0.8442 - f1: 0.0000e+00 - f1_1: 0.0000e+00 - f1_2: 0.0000e+00 - f1_3: 0.0000e+00 - f1_4: 0.0000e+00 - f1_5: 0.0000e+00 - f1_6: 0.0000e+00 - f1_8: 0.0000e+00 - f1_9: 0.0000e+00 - f1_10: 0.0000e+00 - f1_11: 0.0000e+00 - f1_12: 0.0000e+00 - f1_13: 0.0000e+00 - f1_14: 0.0000e+00 - f1_15: 0.0000e+00 - f1_16: 0.0000e+00 - f1_17: 0.0000e+00 - f1_18: 0.0000e+00 - f1_19: 0.0000e+00 - f1_20: 0.0000e+00 - f1_21: 0.0000e+00 - f1_22: 0.0000e+00 - f1_23: 0.0000e+00 - f1_24: 0.0000e+00 - f1_25: 0.0000e+00 - f1_26: 0.0000e+00 - f1_27: 0.0000e+00 - f1_29: 0.0000e+00 - f1_30: 0.0000e+00 - f1_31: 0.0000e+00 - f1_32: 0.0000e+00 - f1_34: 0.0000e+00 - f1_35: 0.0000e+00 - f1_36: 0.0000e+00 - f1_37: 0.0000e+00 - f1_38: 0.0000e+00 - f1_39: 0.0000e+00 - f1_40: 0.0000e+00 - f1_41: 0.0000e+00 - f1_44: 0.0000e+00 - f1_45: 0.0000e+00 - val_loss: 0.3269 - val_accuracy: 0.9097 - val_f1: 0.0000e+00 - val_f1_1: 0.0000e+00 - val_f1_2: 0.0000e+00 - val_f1_3: 0.0000e+00 - val_f1_4: 0.0000e+00 - val_f1_5: 0.0000e+00 - val_f1_6: 0.0000e+00 - val_f1_8: 0.0000e+00 - val_f1_9: 0.0000e+00 - val_f1_10: 0.0000e+00 - val_f1_11: 0.0000e+00 - val_f1_12: 0.0000e+00 - val_f1_13: 0.0000e+00 - val_f1_14: 0.0000e+00 - val_f1_15: 0.0000e+00 - val_f1_16: 0.0000e+00 - val_f1_17: 0.0000e+00 - val_f1_18: 0.0000e+00 - val_f1_19: 0.0000e+00 - val_f1_20: 0.0000e+00 - val_f1_21: 0.0000e+00 - val_f1_22: 0.0000e+00 - val_f1_23: 0.0000e+00 - val_f1_24: 0.0000e+00 - val_f1_25: 0.0000e+00 - val_f1_26: 0.0000e+00 - val_f1_27: 0.0000e+00 - val_f1_29: 0.0000e+00 - val_f1_30: 0.0000e+00 - val_f1_31: 0.0000e+00 - val_f1_32: 0.0000e+00 - val_f1_34: 0.0000e+00 - val_f1_35: 0.0000e+00 - val_f1_36: 0.0000e+00 - val_f1_37: 0.0000e+00 - val_f1_38: 0.0000e+00 - val_f1_39: 0.0000e+00 - val_f1_40: 0.0000e+00 - val_f1_41: 0.0000e+00 - val_f1_44: 0.0000e+00 - val_f1_45: 0.0000e+00\n",
            "Epoch 2/40\n",
            "16/16 [==============================] - 33s 2s/step - loss: 0.3115 - accuracy: 0.9193 - f1: 0.0000e+00 - f1_1: 0.0000e+00 - f1_2: 0.0000e+00 - f1_3: 0.0000e+00 - f1_4: 0.0000e+00 - f1_5: 0.0000e+00 - f1_6: 0.0000e+00 - f1_8: 0.0000e+00 - f1_9: 0.0000e+00 - f1_10: 0.0000e+00 - f1_11: 0.0000e+00 - f1_12: 0.0000e+00 - f1_13: 0.0000e+00 - f1_14: 0.0000e+00 - f1_15: 0.0000e+00 - f1_16: 0.0000e+00 - f1_17: 0.0000e+00 - f1_18: 0.0000e+00 - f1_19: 0.0000e+00 - f1_20: 0.0000e+00 - f1_21: 0.0000e+00 - f1_22: 0.0000e+00 - f1_23: 0.0000e+00 - f1_24: 0.0000e+00 - f1_25: 0.0000e+00 - f1_26: 0.0000e+00 - f1_27: 0.0000e+00 - f1_29: 0.0000e+00 - f1_30: 0.0000e+00 - f1_31: 0.0000e+00 - f1_32: 0.0000e+00 - f1_34: 0.0000e+00 - f1_35: 0.0000e+00 - f1_36: 0.0000e+00 - f1_37: 0.0000e+00 - f1_38: 0.0000e+00 - f1_39: 0.0000e+00 - f1_40: 0.0000e+00 - f1_41: 0.0000e+00 - f1_44: 0.0000e+00 - f1_45: 0.0000e+00 - val_loss: 0.2889 - val_accuracy: 0.9293 - val_f1: 0.0000e+00 - val_f1_1: 0.0000e+00 - val_f1_2: 0.0000e+00 - val_f1_3: 0.0000e+00 - val_f1_4: 0.0000e+00 - val_f1_5: 0.0000e+00 - val_f1_6: 0.0000e+00 - val_f1_8: 0.0000e+00 - val_f1_9: 0.0000e+00 - val_f1_10: 0.0000e+00 - val_f1_11: 0.0000e+00 - val_f1_12: 0.0000e+00 - val_f1_13: 0.0000e+00 - val_f1_14: 0.0000e+00 - val_f1_15: 0.0000e+00 - val_f1_16: 0.0000e+00 - val_f1_17: 0.0000e+00 - val_f1_18: 0.0000e+00 - val_f1_19: 0.0000e+00 - val_f1_20: 0.0000e+00 - val_f1_21: 0.0000e+00 - val_f1_22: 0.0000e+00 - val_f1_23: 0.0000e+00 - val_f1_24: 0.0000e+00 - val_f1_25: 0.0000e+00 - val_f1_26: 0.0000e+00 - val_f1_27: 0.0000e+00 - val_f1_29: 0.0000e+00 - val_f1_30: 0.0000e+00 - val_f1_31: 0.0000e+00 - val_f1_32: 0.0000e+00 - val_f1_34: 0.0000e+00 - val_f1_35: 0.0000e+00 - val_f1_36: 0.0000e+00 - val_f1_37: 0.0000e+00 - val_f1_38: 0.0000e+00 - val_f1_39: 0.0000e+00 - val_f1_40: 0.0000e+00 - val_f1_41: 0.0000e+00 - val_f1_44: 0.0000e+00 - val_f1_45: 0.0000e+00\n",
            "Epoch 3/40\n",
            "16/16 [==============================] - 33s 2s/step - loss: 0.2760 - accuracy: 0.9326 - f1: 0.0000e+00 - f1_1: 0.0000e+00 - f1_2: 0.0000e+00 - f1_3: 0.0000e+00 - f1_4: 0.0000e+00 - f1_5: 0.0000e+00 - f1_6: 0.0000e+00 - f1_8: 0.0000e+00 - f1_9: 0.0000e+00 - f1_10: 0.0000e+00 - f1_11: 0.0000e+00 - f1_12: 0.0000e+00 - f1_13: 0.0000e+00 - f1_14: 0.0000e+00 - f1_15: 0.0000e+00 - f1_16: 0.0000e+00 - f1_17: 0.0000e+00 - f1_18: 0.0000e+00 - f1_19: 0.0000e+00 - f1_20: 0.0000e+00 - f1_21: 0.0000e+00 - f1_22: 0.0000e+00 - f1_23: 0.0000e+00 - f1_24: 0.0000e+00 - f1_25: 0.0000e+00 - f1_26: 0.0000e+00 - f1_27: 0.0000e+00 - f1_29: 0.0000e+00 - f1_30: 0.0000e+00 - f1_31: 0.0000e+00 - f1_32: 0.0000e+00 - f1_34: 0.0000e+00 - f1_35: 0.0000e+00 - f1_36: 0.0000e+00 - f1_37: 0.0000e+00 - f1_38: 0.0000e+00 - f1_39: 0.0000e+00 - f1_40: 0.0000e+00 - f1_41: 0.0000e+00 - f1_44: 0.0000e+00 - f1_45: 0.0000e+00 - val_loss: 0.2652 - val_accuracy: 0.9378 - val_f1: 0.0000e+00 - val_f1_1: 0.0000e+00 - val_f1_2: 0.0000e+00 - val_f1_3: 0.0000e+00 - val_f1_4: 0.0000e+00 - val_f1_5: 0.0000e+00 - val_f1_6: 0.0000e+00 - val_f1_8: 0.0000e+00 - val_f1_9: 0.0000e+00 - val_f1_10: 0.0000e+00 - val_f1_11: 0.0000e+00 - val_f1_12: 0.0000e+00 - val_f1_13: 0.0000e+00 - val_f1_14: 0.0000e+00 - val_f1_15: 0.0000e+00 - val_f1_16: 0.0000e+00 - val_f1_17: 0.0000e+00 - val_f1_18: 0.0000e+00 - val_f1_19: 0.0000e+00 - val_f1_20: 0.0000e+00 - val_f1_21: 0.0000e+00 - val_f1_22: 0.0000e+00 - val_f1_23: 0.0000e+00 - val_f1_24: 0.0000e+00 - val_f1_25: 0.0000e+00 - val_f1_26: 0.0000e+00 - val_f1_27: 0.0000e+00 - val_f1_29: 0.0000e+00 - val_f1_30: 0.0000e+00 - val_f1_31: 0.0000e+00 - val_f1_32: 0.0000e+00 - val_f1_34: 0.0000e+00 - val_f1_35: 0.0000e+00 - val_f1_36: 0.0000e+00 - val_f1_37: 0.0000e+00 - val_f1_38: 0.0000e+00 - val_f1_39: 0.0000e+00 - val_f1_40: 0.0000e+00 - val_f1_41: 0.0000e+00 - val_f1_44: 0.0000e+00 - val_f1_45: 0.0000e+00\n",
            "Epoch 4/40\n",
            "16/16 [==============================] - 32s 2s/step - loss: 0.2558 - accuracy: 0.9387 - f1: 0.0000e+00 - f1_1: 0.0000e+00 - f1_2: 0.0000e+00 - f1_3: 0.0000e+00 - f1_4: 0.0000e+00 - f1_5: 0.0000e+00 - f1_6: 0.0000e+00 - f1_8: 0.0000e+00 - f1_9: 0.0000e+00 - f1_10: 0.0000e+00 - f1_11: 0.0000e+00 - f1_12: 0.0000e+00 - f1_13: 0.0000e+00 - f1_14: 0.0000e+00 - f1_15: 0.0000e+00 - f1_16: 0.0000e+00 - f1_17: 0.0000e+00 - f1_18: 0.0000e+00 - f1_19: 0.0000e+00 - f1_20: 0.0000e+00 - f1_21: 0.0000e+00 - f1_22: 0.0000e+00 - f1_23: 0.0000e+00 - f1_24: 0.0000e+00 - f1_25: 0.0000e+00 - f1_26: 0.0000e+00 - f1_27: 0.0000e+00 - f1_29: 0.0000e+00 - f1_30: 0.0000e+00 - f1_31: 0.0000e+00 - f1_32: 0.0000e+00 - f1_34: 0.0000e+00 - f1_35: 0.0000e+00 - f1_36: 0.0000e+00 - f1_37: 0.0000e+00 - f1_38: 0.0000e+00 - f1_39: 0.0000e+00 - f1_40: 0.0000e+00 - f1_41: 0.0000e+00 - f1_44: 0.0000e+00 - f1_45: 0.0000e+00 - val_loss: 0.2474 - val_accuracy: 0.9421 - val_f1: 0.0000e+00 - val_f1_1: 0.0000e+00 - val_f1_2: 0.0000e+00 - val_f1_3: 0.0000e+00 - val_f1_4: 0.0000e+00 - val_f1_5: 0.0000e+00 - val_f1_6: 0.0000e+00 - val_f1_8: 0.0000e+00 - val_f1_9: 0.0000e+00 - val_f1_10: 0.0000e+00 - val_f1_11: 0.0000e+00 - val_f1_12: 0.0000e+00 - val_f1_13: 0.0000e+00 - val_f1_14: 0.0000e+00 - val_f1_15: 0.0000e+00 - val_f1_16: 0.0000e+00 - val_f1_17: 0.0000e+00 - val_f1_18: 0.0000e+00 - val_f1_19: 0.0000e+00 - val_f1_20: 0.0000e+00 - val_f1_21: 0.0000e+00 - val_f1_22: 0.0000e+00 - val_f1_23: 0.0000e+00 - val_f1_24: 0.0000e+00 - val_f1_25: 0.0000e+00 - val_f1_26: 0.0000e+00 - val_f1_27: 0.0000e+00 - val_f1_29: 0.0000e+00 - val_f1_30: 0.0000e+00 - val_f1_31: 0.0000e+00 - val_f1_32: 0.0000e+00 - val_f1_34: 0.0000e+00 - val_f1_35: 0.0000e+00 - val_f1_36: 0.0000e+00 - val_f1_37: 0.0000e+00 - val_f1_38: 0.0000e+00 - val_f1_39: 0.0000e+00 - val_f1_40: 0.0000e+00 - val_f1_41: 0.0000e+00 - val_f1_44: 0.0000e+00 - val_f1_45: 0.0000e+00\n",
            "Epoch 5/40\n",
            "16/16 [==============================] - 32s 2s/step - loss: 0.2360 - accuracy: 0.9437 - f1: 2.2921e-04 - f1_1: 0.0000e+00 - f1_2: 0.0000e+00 - f1_3: 0.0000e+00 - f1_4: 0.0000e+00 - f1_5: 0.0000e+00 - f1_6: 0.0000e+00 - f1_8: 0.0000e+00 - f1_9: 0.0000e+00 - f1_10: 0.0000e+00 - f1_11: 0.0000e+00 - f1_12: 0.0000e+00 - f1_13: 0.0000e+00 - f1_14: 0.0000e+00 - f1_15: 0.0000e+00 - f1_16: 0.0000e+00 - f1_17: 0.0092 - f1_18: 0.0000e+00 - f1_19: 0.0000e+00 - f1_20: 0.0000e+00 - f1_21: 0.0000e+00 - f1_22: 0.0000e+00 - f1_23: 0.0000e+00 - f1_24: 0.0000e+00 - f1_25: 0.0000e+00 - f1_26: 0.0000e+00 - f1_27: 0.0000e+00 - f1_29: 0.0000e+00 - f1_30: 0.0000e+00 - f1_31: 0.0000e+00 - f1_32: 0.0000e+00 - f1_34: 0.0000e+00 - f1_35: 0.0000e+00 - f1_36: 0.0000e+00 - f1_37: 0.0000e+00 - f1_38: 0.0000e+00 - f1_39: 0.0000e+00 - f1_40: 0.0000e+00 - f1_41: 0.0000e+00 - f1_44: 0.0000e+00 - f1_45: 0.0000e+00 - val_loss: 0.2272 - val_accuracy: 0.9455 - val_f1: 4.4227e-04 - val_f1_1: 0.0000e+00 - val_f1_2: 0.0000e+00 - val_f1_3: 0.0000e+00 - val_f1_4: 0.0000e+00 - val_f1_5: 0.0000e+00 - val_f1_6: 0.0000e+00 - val_f1_8: 0.0000e+00 - val_f1_9: 0.0000e+00 - val_f1_10: 0.0000e+00 - val_f1_11: 6.0606e-04 - val_f1_12: 0.0000e+00 - val_f1_13: 0.0000e+00 - val_f1_14: 0.0000e+00 - val_f1_15: 0.0000e+00 - val_f1_16: 0.0000e+00 - val_f1_17: 0.0149 - val_f1_18: 0.0000e+00 - val_f1_19: 0.0000e+00 - val_f1_20: 0.0022 - val_f1_21: 0.0000e+00 - val_f1_22: 0.0000e+00 - val_f1_23: 0.0000e+00 - val_f1_24: 0.0000e+00 - val_f1_25: 0.0000e+00 - val_f1_26: 0.0000e+00 - val_f1_27: 0.0000e+00 - val_f1_29: 0.0000e+00 - val_f1_30: 0.0000e+00 - val_f1_31: 0.0000e+00 - val_f1_32: 0.0000e+00 - val_f1_34: 0.0000e+00 - val_f1_35: 0.0000e+00 - val_f1_36: 0.0000e+00 - val_f1_37: 0.0000e+00 - val_f1_38: 0.0000e+00 - val_f1_39: 0.0000e+00 - val_f1_40: 0.0000e+00 - val_f1_41: 0.0000e+00 - val_f1_44: 0.0000e+00 - val_f1_45: 0.0000e+00\n",
            "Epoch 6/40\n",
            "16/16 [==============================] - 34s 2s/step - loss: 0.2150 - accuracy: 0.9475 - f1: 0.0075 - f1_1: 0.0000e+00 - f1_2: 0.0076 - f1_3: 0.0000e+00 - f1_4: 0.0000e+00 - f1_5: 0.0000e+00 - f1_6: 0.0000e+00 - f1_8: 0.0000e+00 - f1_9: 0.0000e+00 - f1_10: 0.0000e+00 - f1_11: 0.0896 - f1_12: 0.0000e+00 - f1_13: 0.0000e+00 - f1_14: 0.0000e+00 - f1_15: 0.0000e+00 - f1_16: 0.0000e+00 - f1_17: 0.0756 - f1_18: 0.0000e+00 - f1_19: 0.0000e+00 - f1_20: 0.1269 - f1_21: 0.0000e+00 - f1_22: 0.0000e+00 - f1_23: 0.0000e+00 - f1_24: 0.0000e+00 - f1_25: 0.0000e+00 - f1_26: 0.0000e+00 - f1_27: 0.0000e+00 - f1_29: 0.0000e+00 - f1_30: 0.0000e+00 - f1_31: 0.0000e+00 - f1_32: 0.0000e+00 - f1_34: 0.0000e+00 - f1_35: 0.0000e+00 - f1_36: 0.0000e+00 - f1_37: 0.0000e+00 - f1_38: 0.0000e+00 - f1_39: 0.0000e+00 - f1_40: 0.0000e+00 - f1_41: 0.0000e+00 - f1_44: 0.0000e+00 - f1_45: 0.0000e+00 - val_loss: 0.2063 - val_accuracy: 0.9510 - val_f1: 0.0189 - val_f1_1: 0.0000e+00 - val_f1_2: 0.0224 - val_f1_3: 0.0000e+00 - val_f1_4: 0.0000e+00 - val_f1_5: 0.0000e+00 - val_f1_6: 0.0000e+00 - val_f1_8: 0.0000e+00 - val_f1_9: 0.0000e+00 - val_f1_10: 0.0000e+00 - val_f1_11: 0.3733 - val_f1_12: 0.0000e+00 - val_f1_13: 0.0000e+00 - val_f1_14: 0.0000e+00 - val_f1_15: 0.0000e+00 - val_f1_16: 0.0000e+00 - val_f1_17: 0.0880 - val_f1_18: 0.0000e+00 - val_f1_19: 0.0000e+00 - val_f1_20: 0.2734 - val_f1_21: 0.0000e+00 - val_f1_22: 0.0000e+00 - val_f1_23: 0.0000e+00 - val_f1_24: 0.0000e+00 - val_f1_25: 0.0000e+00 - val_f1_26: 0.0000e+00 - val_f1_27: 0.0000e+00 - val_f1_29: 0.0000e+00 - val_f1_30: 0.0000e+00 - val_f1_31: 0.0000e+00 - val_f1_32: 0.0000e+00 - val_f1_34: 0.0000e+00 - val_f1_35: 0.0000e+00 - val_f1_36: 0.0000e+00 - val_f1_37: 0.0000e+00 - val_f1_38: 0.0000e+00 - val_f1_39: 0.0000e+00 - val_f1_40: 0.0000e+00 - val_f1_41: 0.0000e+00 - val_f1_44: 0.0000e+00 - val_f1_45: 0.0000e+00\n",
            "Epoch 7/40\n",
            "16/16 [==============================] - 34s 2s/step - loss: 0.1937 - accuracy: 0.9525 - f1: 0.0345 - f1_1: 0.0000e+00 - f1_2: 0.0850 - f1_3: 0.0000e+00 - f1_4: 0.0000e+00 - f1_5: 0.0000e+00 - f1_6: 0.0000e+00 - f1_8: 0.0000e+00 - f1_9: 0.0000e+00 - f1_10: 0.0000e+00 - f1_11: 0.6683 - f1_12: 0.0000e+00 - f1_13: 0.0000e+00 - f1_14: 0.0000e+00 - f1_15: 0.0000e+00 - f1_16: 0.0000e+00 - f1_17: 0.2134 - f1_18: 0.0000e+00 - f1_19: 0.0132 - f1_20: 0.3984 - f1_21: 0.0000e+00 - f1_22: 0.0000e+00 - f1_23: 0.0000e+00 - f1_24: 0.0000e+00 - f1_25: 0.0000e+00 - f1_26: 0.0000e+00 - f1_27: 0.0000e+00 - f1_29: 0.0000e+00 - f1_30: 0.0000e+00 - f1_31: 0.0000e+00 - f1_32: 0.0000e+00 - f1_34: 0.0000e+00 - f1_35: 0.0000e+00 - f1_36: 0.0000e+00 - f1_37: 0.0000e+00 - f1_38: 0.0000e+00 - f1_39: 0.0000e+00 - f1_40: 0.0000e+00 - f1_41: 0.0000e+00 - f1_44: 0.0000e+00 - f1_45: 0.0000e+00 - val_loss: 0.1858 - val_accuracy: 0.9558 - val_f1: 0.0432 - val_f1_1: 0.0000e+00 - val_f1_2: 0.1201 - val_f1_3: 0.0000e+00 - val_f1_4: 0.0000e+00 - val_f1_5: 0.0000e+00 - val_f1_6: 0.0000e+00 - val_f1_8: 0.0000e+00 - val_f1_9: 0.0000e+00 - val_f1_10: 0.0000e+00 - val_f1_11: 0.8502 - val_f1_12: 0.0000e+00 - val_f1_13: 0.0000e+00 - val_f1_14: 0.0000e+00 - val_f1_15: 0.0000e+00 - val_f1_16: 0.0000e+00 - val_f1_17: 0.2208 - val_f1_18: 0.0000e+00 - val_f1_19: 0.0541 - val_f1_20: 0.4767 - val_f1_21: 0.0000e+00 - val_f1_22: 0.0000e+00 - val_f1_23: 0.0000e+00 - val_f1_24: 0.0000e+00 - val_f1_25: 0.0000e+00 - val_f1_26: 0.0000e+00 - val_f1_27: 0.0000e+00 - val_f1_29: 0.0000e+00 - val_f1_30: 0.0000e+00 - val_f1_31: 0.0045 - val_f1_32: 0.0000e+00 - val_f1_34: 0.0000e+00 - val_f1_35: 0.0000e+00 - val_f1_36: 0.0000e+00 - val_f1_37: 0.0000e+00 - val_f1_38: 0.0000e+00 - val_f1_39: 0.0000e+00 - val_f1_40: 0.0000e+00 - val_f1_41: 0.0000e+00 - val_f1_44: 0.0000e+00 - val_f1_45: 0.0000e+00\n",
            "Epoch 8/40\n",
            "16/16 [==============================] - 34s 2s/step - loss: 0.1733 - accuracy: 0.9575 - f1: 0.0569 - f1_1: 0.0000e+00 - f1_2: 0.2444 - f1_3: 0.0000e+00 - f1_4: 0.0000e+00 - f1_5: 0.0000e+00 - f1_6: 0.0000e+00 - f1_8: 0.0000e+00 - f1_9: 0.0000e+00 - f1_10: 0.0000e+00 - f1_11: 0.8803 - f1_12: 0.0000e+00 - f1_13: 0.0000e+00 - f1_14: 0.0000e+00 - f1_15: 0.0000e+00 - f1_16: 0.0000e+00 - f1_17: 0.3805 - f1_18: 0.0000e+00 - f1_19: 0.1938 - f1_20: 0.5586 - f1_21: 0.0000e+00 - f1_22: 0.0000e+00 - f1_23: 0.0000e+00 - f1_24: 0.0000e+00 - f1_25: 0.0000e+00 - f1_26: 0.0000e+00 - f1_27: 0.0000e+00 - f1_29: 0.0000e+00 - f1_30: 0.0019 - f1_31: 0.0152 - f1_32: 0.0000e+00 - f1_34: 0.0000e+00 - f1_35: 0.0000e+00 - f1_36: 0.0000e+00 - f1_37: 0.0000e+00 - f1_38: 0.0000e+00 - f1_39: 0.0000e+00 - f1_40: 0.0000e+00 - f1_41: 0.0000e+00 - f1_44: 0.0000e+00 - f1_45: 0.0000e+00 - val_loss: 0.1672 - val_accuracy: 0.9597 - val_f1: 0.0647 - val_f1_1: 0.0000e+00 - val_f1_2: 0.3353 - val_f1_3: 0.0000e+00 - val_f1_4: 0.0000e+00 - val_f1_5: 0.0000e+00 - val_f1_6: 0.0018 - val_f1_8: 0.0000e+00 - val_f1_9: 0.0000e+00 - val_f1_10: 0.0000e+00 - val_f1_11: 0.9070 - val_f1_12: 0.0000e+00 - val_f1_13: 0.0000e+00 - val_f1_14: 0.0000e+00 - val_f1_15: 0.0000e+00 - val_f1_16: 0.0000e+00 - val_f1_17: 0.3183 - val_f1_18: 0.0000e+00 - val_f1_19: 0.3739 - val_f1_20: 0.6002 - val_f1_21: 0.0000e+00 - val_f1_22: 0.0000e+00 - val_f1_23: 0.0000e+00 - val_f1_24: 0.0000e+00 - val_f1_25: 0.0000e+00 - val_f1_26: 0.0000e+00 - val_f1_27: 0.0000e+00 - val_f1_29: 0.0000e+00 - val_f1_30: 9.6200e-04 - val_f1_31: 0.0368 - val_f1_32: 0.0120 - val_f1_34: 0.0000e+00 - val_f1_35: 0.0000e+00 - val_f1_36: 0.0000e+00 - val_f1_37: 0.0000e+00 - val_f1_38: 0.0000e+00 - val_f1_39: 0.0000e+00 - val_f1_40: 0.0000e+00 - val_f1_41: 0.0000e+00 - val_f1_44: 0.0000e+00 - val_f1_45: 0.0000e+00\n",
            "Epoch 9/40\n",
            "16/16 [==============================] - 34s 2s/step - loss: 0.1554 - accuracy: 0.9622 - f1: 0.0893 - f1_1: 0.0000e+00 - f1_2: 0.3697 - f1_3: 0.0000e+00 - f1_4: 0.0000e+00 - f1_5: 0.0000e+00 - f1_6: 0.0214 - f1_8: 0.0000e+00 - f1_9: 0.0000e+00 - f1_10: 0.0000e+00 - f1_11: 0.9098 - f1_12: 0.0000e+00 - f1_13: 0.0000e+00 - f1_14: 0.0000e+00 - f1_15: 0.0000e+00 - f1_16: 0.0000e+00 - f1_17: 0.4720 - f1_18: 0.0000e+00 - f1_19: 0.4220 - f1_20: 0.6902 - f1_21: 0.0000e+00 - f1_22: 0.0000e+00 - f1_23: 0.0000e+00 - f1_24: 0.0000e+00 - f1_25: 0.0000e+00 - f1_26: 0.0000e+00 - f1_27: 0.0000e+00 - f1_29: 0.0000e+00 - f1_30: 0.0196 - f1_31: 0.0772 - f1_32: 0.5918 - f1_34: 0.0000e+00 - f1_35: 0.0000e+00 - f1_36: 0.0000e+00 - f1_37: 0.0000e+00 - f1_38: 0.0000e+00 - f1_39: 0.0000e+00 - f1_40: 0.0000e+00 - f1_41: 0.0000e+00 - f1_44: 0.0000e+00 - f1_45: 0.0000e+00 - val_loss: 0.1515 - val_accuracy: 0.9636 - val_f1: 0.1023 - val_f1_1: 0.0000e+00 - val_f1_2: 0.3845 - val_f1_3: 0.0000e+00 - val_f1_4: 0.0000e+00 - val_f1_5: 0.0000e+00 - val_f1_6: 0.1143 - val_f1_8: 0.0000e+00 - val_f1_9: 0.0000e+00 - val_f1_10: 0.0000e+00 - val_f1_11: 0.9123 - val_f1_12: 0.0000e+00 - val_f1_13: 0.0000e+00 - val_f1_14: 0.0000e+00 - val_f1_15: 0.0000e+00 - val_f1_16: 0.0000e+00 - val_f1_17: 0.4306 - val_f1_18: 0.0000e+00 - val_f1_19: 0.4454 - val_f1_20: 0.7461 - val_f1_21: 0.0000e+00 - val_f1_22: 0.0000e+00 - val_f1_23: 0.0000e+00 - val_f1_24: 0.0000e+00 - val_f1_25: 0.0000e+00 - val_f1_26: 0.0000e+00 - val_f1_27: 0.0000e+00 - val_f1_29: 0.0000e+00 - val_f1_30: 0.0207 - val_f1_31: 0.1186 - val_f1_32: 0.9175 - val_f1_34: 0.0000e+00 - val_f1_35: 0.0000e+00 - val_f1_36: 0.0000e+00 - val_f1_37: 0.0000e+00 - val_f1_38: 0.0000e+00 - val_f1_39: 0.0000e+00 - val_f1_40: 0.0000e+00 - val_f1_41: 0.0000e+00 - val_f1_44: 0.0000e+00 - val_f1_45: 0.0000e+00\n",
            "Epoch 10/40\n",
            "16/16 [==============================] - 35s 2s/step - loss: 0.1401 - accuracy: 0.9658 - f1: 0.1218 - f1_1: 0.0000e+00 - f1_2: 0.4487 - f1_3: 0.0000e+00 - f1_4: 0.0000e+00 - f1_5: 0.0000e+00 - f1_6: 0.2696 - f1_8: 0.0000e+00 - f1_9: 0.0000e+00 - f1_10: 0.0000e+00 - f1_11: 0.9142 - f1_12: 0.0000e+00 - f1_13: 0.0197 - f1_14: 0.0000e+00 - f1_15: 0.0000e+00 - f1_16: 0.0000e+00 - f1_17: 0.5484 - f1_18: 0.0000e+00 - f1_19: 0.5116 - f1_20: 0.7834 - f1_21: 0.0000e+00 - f1_22: 0.1089 - f1_23: 0.0000e+00 - f1_24: 0.0000e+00 - f1_25: 0.0000e+00 - f1_26: 0.0000e+00 - f1_27: 0.0000e+00 - f1_29: 0.0000e+00 - f1_30: 0.0704 - f1_31: 0.1944 - f1_32: 0.9764 - f1_34: 0.0000e+00 - f1_35: 0.0000e+00 - f1_36: 0.0000e+00 - f1_37: 0.0000e+00 - f1_38: 0.0000e+00 - f1_39: 0.0000e+00 - f1_40: 0.0000e+00 - f1_41: 0.0252 - f1_44: 0.0000e+00 - f1_45: 0.0000e+00 - val_loss: 0.1379 - val_accuracy: 0.9663 - val_f1: 0.1304 - val_f1_1: 0.0000e+00 - val_f1_2: 0.4586 - val_f1_3: 0.0000e+00 - val_f1_4: 0.0000e+00 - val_f1_5: 0.0000e+00 - val_f1_6: 0.3498 - val_f1_8: 0.0000e+00 - val_f1_9: 0.0000e+00 - val_f1_10: 0.0000e+00 - val_f1_11: 0.9112 - val_f1_12: 0.0000e+00 - val_f1_13: 0.0672 - val_f1_14: 0.0000e+00 - val_f1_15: 0.0000e+00 - val_f1_16: 0.0000e+00 - val_f1_17: 0.4654 - val_f1_18: 0.0000e+00 - val_f1_19: 0.5236 - val_f1_20: 0.8057 - val_f1_21: 0.0000e+00 - val_f1_22: 0.2180 - val_f1_23: 0.0000e+00 - val_f1_24: 0.0087 - val_f1_25: 0.0000e+00 - val_f1_26: 0.0000e+00 - val_f1_27: 0.0000e+00 - val_f1_29: 0.0000e+00 - val_f1_30: 0.0646 - val_f1_31: 0.2357 - val_f1_32: 0.9895 - val_f1_34: 0.0000e+00 - val_f1_35: 0.0000e+00 - val_f1_36: 0.0000e+00 - val_f1_37: 0.0000e+00 - val_f1_38: 0.0000e+00 - val_f1_39: 0.0000e+00 - val_f1_40: 0.0000e+00 - val_f1_41: 0.1173 - val_f1_44: 0.0000e+00 - val_f1_45: 0.0000e+00\n",
            "Epoch 11/40\n",
            "16/16 [==============================] - 36s 2s/step - loss: 0.1269 - accuracy: 0.9692 - f1: 0.1662 - f1_1: 0.0000e+00 - f1_2: 0.5122 - f1_3: 0.0000e+00 - f1_4: 0.0000e+00 - f1_5: 0.0000e+00 - f1_6: 0.4858 - f1_8: 0.0000e+00 - f1_9: 0.0000e+00 - f1_10: 0.0000e+00 - f1_11: 0.9156 - f1_12: 0.0000e+00 - f1_13: 0.0560 - f1_14: 0.0000e+00 - f1_15: 0.0000e+00 - f1_16: 0.0000e+00 - f1_17: 0.5954 - f1_18: 0.0000e+00 - f1_19: 0.5730 - f1_20: 0.8305 - f1_21: 0.0000e+00 - f1_22: 0.5907 - f1_23: 0.0000e+00 - f1_24: 0.0332 - f1_25: 0.0000e+00 - f1_26: 0.0000e+00 - f1_27: 0.0146 - f1_29: 0.0000e+00 - f1_30: 0.1317 - f1_31: 0.3115 - f1_32: 0.9952 - f1_34: 0.0000e+00 - f1_35: 0.0000e+00 - f1_36: 0.0000e+00 - f1_37: 0.0000e+00 - f1_38: 0.0000e+00 - f1_39: 0.0000e+00 - f1_40: 0.0000e+00 - f1_41: 0.6010 - f1_44: 0.0000e+00 - f1_45: 0.0000e+00 - val_loss: 0.1264 - val_accuracy: 0.9696 - val_f1: 0.1774 - val_f1_1: 0.0000e+00 - val_f1_2: 0.4906 - val_f1_3: 0.0000e+00 - val_f1_4: 0.0000e+00 - val_f1_5: 0.0000e+00 - val_f1_6: 0.5242 - val_f1_8: 0.0000e+00 - val_f1_9: 0.0000e+00 - val_f1_10: 0.0000e+00 - val_f1_11: 0.9107 - val_f1_12: 0.0000e+00 - val_f1_13: 0.0880 - val_f1_14: 0.0000e+00 - val_f1_15: 0.0000e+00 - val_f1_16: 0.0000e+00 - val_f1_17: 0.5301 - val_f1_18: 0.0000e+00 - val_f1_19: 0.5724 - val_f1_20: 0.8310 - val_f1_21: 0.0000e+00 - val_f1_22: 0.7327 - val_f1_23: 0.0000e+00 - val_f1_24: 0.0383 - val_f1_25: 0.0000e+00 - val_f1_26: 0.0000e+00 - val_f1_27: 0.1659 - val_f1_29: 0.0000e+00 - val_f1_30: 0.0921 - val_f1_31: 0.3753 - val_f1_32: 0.9946 - val_f1_34: 0.0000e+00 - val_f1_35: 0.0000e+00 - val_f1_36: 0.0000e+00 - val_f1_37: 0.0000e+00 - val_f1_38: 0.0000e+00 - val_f1_39: 0.0000e+00 - val_f1_40: 0.0000e+00 - val_f1_41: 0.7514 - val_f1_44: 0.0000e+00 - val_f1_45: 0.0000e+00\n",
            "Epoch 12/40\n",
            "16/16 [==============================] - 35s 2s/step - loss: 0.1157 - accuracy: 0.9723 - f1: 0.2071 - f1_1: 0.0000e+00 - f1_2: 0.5560 - f1_3: 0.0000e+00 - f1_4: 0.0000e+00 - f1_5: 0.0000e+00 - f1_6: 0.6348 - f1_8: 0.0000e+00 - f1_9: 0.0000e+00 - f1_10: 0.0000e+00 - f1_11: 0.9148 - f1_12: 0.0000e+00 - f1_13: 0.1176 - f1_14: 0.0000e+00 - f1_15: 0.0000e+00 - f1_16: 0.0000e+00 - f1_17: 0.6544 - f1_18: 0.0000e+00 - f1_19: 0.6370 - f1_20: 0.8484 - f1_21: 0.0000e+00 - f1_22: 0.8029 - f1_23: 0.0000e+00 - f1_24: 0.2704 - f1_25: 0.0000e+00 - f1_26: 0.0000e+00 - f1_27: 0.3185 - f1_29: 0.0000e+00 - f1_30: 0.2098 - f1_31: 0.4223 - f1_32: 0.9968 - f1_34: 0.0000e+00 - f1_35: 0.0000e+00 - f1_36: 0.0000e+00 - f1_37: 0.0000e+00 - f1_38: 0.0000e+00 - f1_39: 0.0000e+00 - f1_40: 0.0000e+00 - f1_41: 0.9000 - f1_44: 0.0000e+00 - f1_45: 0.0000e+00 - val_loss: 0.1165 - val_accuracy: 0.9720 - val_f1: 0.2071 - val_f1_1: 0.0000e+00 - val_f1_2: 0.5503 - val_f1_3: 0.0000e+00 - val_f1_4: 0.0000e+00 - val_f1_5: 0.0000e+00 - val_f1_6: 0.6348 - val_f1_8: 0.0000e+00 - val_f1_9: 0.0000e+00 - val_f1_10: 0.0000e+00 - val_f1_11: 0.9131 - val_f1_12: 0.0000e+00 - val_f1_13: 0.1724 - val_f1_14: 0.0000e+00 - val_f1_15: 0.0000e+00 - val_f1_16: 0.0000e+00 - val_f1_17: 0.5653 - val_f1_18: 0.0000e+00 - val_f1_19: 0.6232 - val_f1_20: 0.8445 - val_f1_21: 0.0000e+00 - val_f1_22: 0.7619 - val_f1_23: 0.0000e+00 - val_f1_24: 0.2797 - val_f1_25: 0.0000e+00 - val_f1_26: 0.0000e+00 - val_f1_27: 0.4336 - val_f1_29: 0.0000e+00 - val_f1_30: 0.1915 - val_f1_31: 0.4242 - val_f1_32: 0.9946 - val_f1_34: 0.0000e+00 - val_f1_35: 0.0000e+00 - val_f1_36: 0.0000e+00 - val_f1_37: 0.0000e+00 - val_f1_38: 0.0000e+00 - val_f1_39: 0.0000e+00 - val_f1_40: 0.0014 - val_f1_41: 0.8941 - val_f1_44: 0.0000e+00 - val_f1_45: 0.0000e+00\n",
            "Epoch 13/40\n",
            "16/16 [==============================] - 32s 2s/step - loss: 0.1062 - accuracy: 0.9744 - f1: 0.2292 - f1_1: 0.0027 - f1_2: 0.5851 - f1_3: 0.0000e+00 - f1_4: 0.0000e+00 - f1_5: 0.0000e+00 - f1_6: 0.6673 - f1_8: 0.0000e+00 - f1_9: 0.0000e+00 - f1_10: 0.0000e+00 - f1_11: 0.9181 - f1_12: 0.0000e+00 - f1_13: 0.3285 - f1_14: 0.0000e+00 - f1_15: 0.0000e+00 - f1_16: 0.0000e+00 - f1_17: 0.6829 - f1_18: 0.0000e+00 - f1_19: 0.6819 - f1_20: 0.8587 - f1_21: 0.0000e+00 - f1_22: 0.8186 - f1_23: 0.0000e+00 - f1_24: 0.4212 - f1_25: 0.0000e+00 - f1_26: 0.0000e+00 - f1_27: 0.4890 - f1_29: 0.0000e+00 - f1_30: 0.2792 - f1_31: 0.4943 - f1_32: 0.9969 - f1_34: 0.0000e+00 - f1_35: 0.0000e+00 - f1_36: 0.0000e+00 - f1_37: 0.0000e+00 - f1_38: 0.0000e+00 - f1_39: 0.0000e+00 - f1_40: 0.0074 - f1_41: 0.9360 - f1_44: 0.0017 - f1_45: 0.0000e+00 - val_loss: 0.1083 - val_accuracy: 0.9738 - val_f1: 0.2345 - val_f1_1: 0.0202 - val_f1_2: 0.5823 - val_f1_3: 0.0000e+00 - val_f1_4: 0.0000e+00 - val_f1_5: 0.0000e+00 - val_f1_6: 0.6913 - val_f1_8: 0.0000e+00 - val_f1_9: 0.0000e+00 - val_f1_10: 0.0000e+00 - val_f1_11: 0.9177 - val_f1_12: 0.0000e+00 - val_f1_13: 0.4893 - val_f1_14: 0.0000e+00 - val_f1_15: 0.0000e+00 - val_f1_16: 0.0000e+00 - val_f1_17: 0.6048 - val_f1_18: 0.0000e+00 - val_f1_19: 0.6784 - val_f1_20: 0.8523 - val_f1_21: 0.0000e+00 - val_f1_22: 0.7936 - val_f1_23: 0.0000e+00 - val_f1_24: 0.4824 - val_f1_25: 0.0000e+00 - val_f1_26: 0.0000e+00 - val_f1_27: 0.5418 - val_f1_29: 0.0000e+00 - val_f1_30: 0.2146 - val_f1_31: 0.4690 - val_f1_32: 0.9946 - val_f1_34: 0.0000e+00 - val_f1_35: 0.0649 - val_f1_36: 0.0000e+00 - val_f1_37: 0.0000e+00 - val_f1_38: 0.0000e+00 - val_f1_39: 0.0000e+00 - val_f1_40: 0.0241 - val_f1_41: 0.9417 - val_f1_44: 0.0175 - val_f1_45: 0.0000e+00\n",
            "Epoch 14/40\n",
            "16/16 [==============================] - 32s 2s/step - loss: 0.0981 - accuracy: 0.9762 - f1: 0.2610 - f1_1: 0.0758 - f1_2: 0.6227 - f1_3: 0.0000e+00 - f1_4: 0.0000e+00 - f1_5: 0.0000e+00 - f1_6: 0.7127 - f1_8: 0.0000e+00 - f1_9: 0.0000e+00 - f1_10: 0.0000e+00 - f1_11: 0.9228 - f1_12: 0.0000e+00 - f1_13: 0.5252 - f1_14: 0.0000e+00 - f1_15: 0.0000e+00 - f1_16: 0.0000e+00 - f1_17: 0.7027 - f1_18: 0.0000e+00 - f1_19: 0.7239 - f1_20: 0.8698 - f1_21: 0.0000e+00 - f1_22: 0.8461 - f1_23: 0.0000e+00 - f1_24: 0.5535 - f1_25: 0.0000e+00 - f1_26: 0.0000e+00 - f1_27: 0.5744 - f1_29: 0.0000e+00 - f1_30: 0.3462 - f1_31: 0.5722 - f1_32: 0.9968 - f1_34: 0.0000e+00 - f1_35: 0.2465 - f1_36: 0.0000e+00 - f1_37: 0.0000e+00 - f1_38: 0.0000e+00 - f1_39: 0.0000e+00 - f1_40: 0.0341 - f1_41: 0.9610 - f1_44: 0.0277 - f1_45: 0.1253 - val_loss: 0.1009 - val_accuracy: 0.9754 - val_f1: 0.2662 - val_f1_1: 0.1035 - val_f1_2: 0.6239 - val_f1_3: 0.0000e+00 - val_f1_4: 0.0000e+00 - val_f1_5: 0.0000e+00 - val_f1_6: 0.7235 - val_f1_8: 0.0000e+00 - val_f1_9: 0.0000e+00 - val_f1_10: 0.0000e+00 - val_f1_11: 0.9257 - val_f1_12: 0.0000e+00 - val_f1_13: 0.5599 - val_f1_14: 0.0000e+00 - val_f1_15: 0.0000e+00 - val_f1_16: 0.0000e+00 - val_f1_17: 0.6182 - val_f1_18: 0.0000e+00 - val_f1_19: 0.7083 - val_f1_20: 0.8715 - val_f1_21: 0.0000e+00 - val_f1_22: 0.8104 - val_f1_23: 0.0000e+00 - val_f1_24: 0.5351 - val_f1_25: 0.0000e+00 - val_f1_26: 0.0000e+00 - val_f1_27: 0.6579 - val_f1_29: 0.0000e+00 - val_f1_30: 0.3122 - val_f1_31: 0.5152 - val_f1_32: 0.9946 - val_f1_34: 0.0000e+00 - val_f1_35: 0.3076 - val_f1_36: 0.0000e+00 - val_f1_37: 0.0000e+00 - val_f1_38: 0.0000e+00 - val_f1_39: 0.0000e+00 - val_f1_40: 0.0421 - val_f1_41: 0.9543 - val_f1_44: 0.0453 - val_f1_45: 0.3378\n",
            "Epoch 15/40\n",
            "16/16 [==============================] - 32s 2s/step - loss: 0.0911 - accuracy: 0.9776 - f1: 0.3004 - f1_1: 0.2325 - f1_2: 0.6540 - f1_3: 0.0000e+00 - f1_4: 0.0000e+00 - f1_5: 0.0000e+00 - f1_6: 0.7479 - f1_8: 0.0000e+00 - f1_9: 0.0000e+00 - f1_10: 0.0000e+00 - f1_11: 0.9286 - f1_12: 0.0000e+00 - f1_13: 0.6124 - f1_14: 0.0000e+00 - f1_15: 0.0000e+00 - f1_16: 0.0000e+00 - f1_17: 0.7276 - f1_18: 0.0000e+00 - f1_19: 0.7576 - f1_20: 0.8810 - f1_21: 0.0000e+00 - f1_22: 0.8563 - f1_23: 0.0000e+00 - f1_24: 0.6053 - f1_25: 0.0000e+00 - f1_26: 0.0000e+00 - f1_27: 0.6673 - f1_29: 0.0000e+00 - f1_30: 0.4088 - f1_31: 0.6110 - f1_32: 0.9968 - f1_34: 0.0000e+00 - f1_35: 0.4837 - f1_36: 0.0000e+00 - f1_37: 0.0000e+00 - f1_38: 0.0000e+00 - f1_39: 0.0000e+00 - f1_40: 0.1023 - f1_41: 0.9822 - f1_44: 0.0835 - f1_45: 0.6765 - val_loss: 0.0950 - val_accuracy: 0.9766 - val_f1: 0.3037 - val_f1_1: 0.3879 - val_f1_2: 0.6618 - val_f1_3: 0.0000e+00 - val_f1_4: 0.0000e+00 - val_f1_5: 0.0000e+00 - val_f1_6: 0.7244 - val_f1_8: 0.0000e+00 - val_f1_9: 0.0000e+00 - val_f1_10: 0.0000e+00 - val_f1_11: 0.9331 - val_f1_12: 0.0000e+00 - val_f1_13: 0.6719 - val_f1_14: 0.0000e+00 - val_f1_15: 0.0000e+00 - val_f1_16: 0.0000e+00 - val_f1_17: 0.6221 - val_f1_18: 0.0000e+00 - val_f1_19: 0.7188 - val_f1_20: 0.8748 - val_f1_21: 0.0000e+00 - val_f1_22: 0.8241 - val_f1_23: 0.0000e+00 - val_f1_24: 0.5701 - val_f1_25: 0.0000e+00 - val_f1_26: 0.0000e+00 - val_f1_27: 0.7269 - val_f1_29: 0.0000e+00 - val_f1_30: 0.3294 - val_f1_31: 0.5660 - val_f1_32: 0.9946 - val_f1_34: 0.0000e+00 - val_f1_35: 0.4292 - val_f1_36: 0.0000e+00 - val_f1_37: 0.0000e+00 - val_f1_38: 0.0000e+00 - val_f1_39: 0.0000e+00 - val_f1_40: 0.0904 - val_f1_41: 0.9728 - val_f1_44: 0.1798 - val_f1_45: 0.8683\n",
            "Epoch 16/40\n",
            "16/16 [==============================] - 32s 2s/step - loss: 0.0852 - accuracy: 0.9788 - f1: 0.3272 - f1_1: 0.3976 - f1_2: 0.6819 - f1_3: 0.0000e+00 - f1_4: 0.0000e+00 - f1_5: 0.0000e+00 - f1_6: 0.7564 - f1_8: 0.0000e+00 - f1_9: 0.0000e+00 - f1_10: 0.0000e+00 - f1_11: 0.9305 - f1_12: 0.0132 - f1_13: 0.7241 - f1_14: 0.0000e+00 - f1_15: 0.0000e+00 - f1_16: 0.0000e+00 - f1_17: 0.7422 - f1_18: 0.0000e+00 - f1_19: 0.7765 - f1_20: 0.8890 - f1_21: 0.0000e+00 - f1_22: 0.8615 - f1_23: 0.0000e+00 - f1_24: 0.6326 - f1_25: 0.0000e+00 - f1_26: 0.0000e+00 - f1_27: 0.7280 - f1_29: 0.0000e+00 - f1_30: 0.4476 - f1_31: 0.6542 - f1_32: 0.9968 - f1_34: 0.0000e+00 - f1_35: 0.5634 - f1_36: 0.0000e+00 - f1_37: 0.0000e+00 - f1_38: 0.0000e+00 - f1_39: 0.0000e+00 - f1_40: 0.1483 - f1_41: 0.9885 - f1_44: 0.2543 - f1_45: 0.9003 - val_loss: 0.0902 - val_accuracy: 0.9777 - val_f1: 0.3217 - val_f1_1: 0.4896 - val_f1_2: 0.6363 - val_f1_3: 0.0000e+00 - val_f1_4: 0.0000e+00 - val_f1_5: 0.0000e+00 - val_f1_6: 0.7488 - val_f1_8: 0.0000e+00 - val_f1_9: 0.0000e+00 - val_f1_10: 0.0000e+00 - val_f1_11: 0.9353 - val_f1_12: 0.0203 - val_f1_13: 0.7396 - val_f1_14: 0.0000e+00 - val_f1_15: 0.0000e+00 - val_f1_16: 0.0000e+00 - val_f1_17: 0.6507 - val_f1_18: 0.0000e+00 - val_f1_19: 0.7322 - val_f1_20: 0.8909 - val_f1_21: 0.0000e+00 - val_f1_22: 0.8385 - val_f1_23: 0.0000e+00 - val_f1_24: 0.5964 - val_f1_25: 0.0000e+00 - val_f1_26: 0.0000e+00 - val_f1_27: 0.7478 - val_f1_29: 0.0000e+00 - val_f1_30: 0.3996 - val_f1_31: 0.6290 - val_f1_32: 0.9946 - val_f1_34: 0.0000e+00 - val_f1_35: 0.4911 - val_f1_36: 0.0000e+00 - val_f1_37: 0.0000e+00 - val_f1_38: 0.0000e+00 - val_f1_39: 0.0000e+00 - val_f1_40: 0.1353 - val_f1_41: 0.9846 - val_f1_44: 0.3076 - val_f1_45: 0.8990\n",
            "Epoch 17/40\n",
            "16/16 [==============================] - 32s 2s/step - loss: 0.0801 - accuracy: 0.9800 - f1: 0.3427 - f1_1: 0.4367 - f1_2: 0.7025 - f1_3: 0.0000e+00 - f1_4: 0.0000e+00 - f1_5: 0.0000e+00 - f1_6: 0.7833 - f1_8: 0.0000e+00 - f1_9: 0.0000e+00 - f1_10: 0.0000e+00 - f1_11: 0.9336 - f1_12: 0.1093 - f1_13: 0.7516 - f1_14: 0.0000e+00 - f1_15: 0.0000e+00 - f1_16: 0.0000e+00 - f1_17: 0.7527 - f1_18: 0.0000e+00 - f1_19: 0.7901 - f1_20: 0.8996 - f1_21: 0.0000e+00 - f1_22: 0.8716 - f1_23: 0.0000e+00 - f1_24: 0.6669 - f1_25: 0.0000e+00 - f1_26: 0.0000e+00 - f1_27: 0.7546 - f1_29: 0.0000e+00 - f1_30: 0.4749 - f1_31: 0.6828 - f1_32: 0.9967 - f1_34: 0.0000e+00 - f1_35: 0.6300 - f1_36: 0.0000e+00 - f1_37: 0.0000e+00 - f1_38: 0.0000e+00 - f1_39: 0.0000e+00 - f1_40: 0.1952 - f1_41: 0.9925 - f1_44: 0.3627 - f1_45: 0.9199 - val_loss: 0.0852 - val_accuracy: 0.9785 - val_f1: 0.3379 - val_f1_1: 0.5494 - val_f1_2: 0.6809 - val_f1_3: 0.0000e+00 - val_f1_4: 0.0000e+00 - val_f1_5: 0.0000e+00 - val_f1_6: 0.7754 - val_f1_8: 0.0000e+00 - val_f1_9: 0.0000e+00 - val_f1_10: 0.0000e+00 - val_f1_11: 0.9373 - val_f1_12: 0.2243 - val_f1_13: 0.7887 - val_f1_14: 0.0000e+00 - val_f1_15: 0.0000e+00 - val_f1_16: 0.0000e+00 - val_f1_17: 0.6824 - val_f1_18: 0.0000e+00 - val_f1_19: 0.7659 - val_f1_20: 0.8999 - val_f1_21: 0.0000e+00 - val_f1_22: 0.8498 - val_f1_23: 0.0000e+00 - val_f1_24: 0.6329 - val_f1_25: 0.0000e+00 - val_f1_26: 0.0000e+00 - val_f1_27: 0.7924 - val_f1_29: 0.0000e+00 - val_f1_30: 0.3977 - val_f1_31: 0.6106 - val_f1_32: 0.9946 - val_f1_34: 0.0000e+00 - val_f1_35: 0.5310 - val_f1_36: 0.0000e+00 - val_f1_37: 0.0000e+00 - val_f1_38: 0.0000e+00 - val_f1_39: 0.0000e+00 - val_f1_40: 0.1431 - val_f1_41: 0.9846 - val_f1_44: 0.3594 - val_f1_45: 0.9168\n",
            "Epoch 18/40\n",
            "16/16 [==============================] - 32s 2s/step - loss: 0.0757 - accuracy: 0.9810 - f1: 0.3627 - f1_1: 0.5514 - f1_2: 0.7179 - f1_3: 0.0000e+00 - f1_4: 0.0000e+00 - f1_5: 0.0122 - f1_6: 0.7926 - f1_8: 0.0000e+00 - f1_9: 0.0000e+00 - f1_10: 0.0000e+00 - f1_11: 0.9371 - f1_12: 0.4646 - f1_13: 0.7982 - f1_14: 0.0000e+00 - f1_15: 0.0000e+00 - f1_16: 0.0000e+00 - f1_17: 0.7667 - f1_18: 0.0000e+00 - f1_19: 0.8183 - f1_20: 0.9055 - f1_21: 0.0000e+00 - f1_22: 0.8824 - f1_23: 0.0000e+00 - f1_24: 0.6951 - f1_25: 0.0000e+00 - f1_26: 0.0000e+00 - f1_27: 0.8003 - f1_29: 0.0000e+00 - f1_30: 0.5087 - f1_31: 0.6989 - f1_32: 0.9966 - f1_34: 0.0000e+00 - f1_35: 0.5958 - f1_36: 0.0000e+00 - f1_37: 0.0000e+00 - f1_38: 0.0000e+00 - f1_39: 0.0000e+00 - f1_40: 0.2182 - f1_41: 0.9921 - f1_44: 0.4337 - f1_45: 0.9231 - val_loss: 0.0815 - val_accuracy: 0.9794 - val_f1: 0.3566 - val_f1_1: 0.5751 - val_f1_2: 0.6732 - val_f1_3: 0.0000e+00 - val_f1_4: 0.0000e+00 - val_f1_5: 0.0025 - val_f1_6: 0.7902 - val_f1_8: 0.0000e+00 - val_f1_9: 0.0000e+00 - val_f1_10: 0.0000e+00 - val_f1_11: 0.9384 - val_f1_12: 0.5604 - val_f1_13: 0.7823 - val_f1_14: 0.0000e+00 - val_f1_15: 0.0000e+00 - val_f1_16: 0.0000e+00 - val_f1_17: 0.6972 - val_f1_18: 0.0000e+00 - val_f1_19: 0.7731 - val_f1_20: 0.9113 - val_f1_21: 0.0000e+00 - val_f1_22: 0.8545 - val_f1_23: 0.0000e+00 - val_f1_24: 0.6557 - val_f1_25: 0.0000e+00 - val_f1_26: 0.0000e+00 - val_f1_27: 0.8039 - val_f1_29: 0.0000e+00 - val_f1_30: 0.4405 - val_f1_31: 0.6752 - val_f1_32: 0.9946 - val_f1_34: 0.0000e+00 - val_f1_35: 0.5392 - val_f1_36: 0.0000e+00 - val_f1_37: 0.0000e+00 - val_f1_38: 0.0000e+00 - val_f1_39: 0.0000e+00 - val_f1_40: 0.2503 - val_f1_41: 0.9846 - val_f1_44: 0.4417 - val_f1_45: 0.9187\n",
            "Epoch 19/40\n",
            "16/16 [==============================] - 32s 2s/step - loss: 0.0720 - accuracy: 0.9817 - f1: 0.3763 - f1_1: 0.5699 - f1_2: 0.7293 - f1_3: 0.0000e+00 - f1_4: 0.0000e+00 - f1_5: 0.0239 - f1_6: 0.8084 - f1_8: 0.0000e+00 - f1_9: 0.0000e+00 - f1_10: 0.0000e+00 - f1_11: 0.9369 - f1_12: 0.6139 - f1_13: 0.8239 - f1_14: 0.0000e+00 - f1_15: 0.0000e+00 - f1_16: 0.0000e+00 - f1_17: 0.7721 - f1_18: 0.0000e+00 - f1_19: 0.8223 - f1_20: 0.9093 - f1_21: 0.0000e+00 - f1_22: 0.8822 - f1_23: 0.0000e+00 - f1_24: 0.7221 - f1_25: 0.0000e+00 - f1_26: 0.0000e+00 - f1_27: 0.8054 - f1_29: 0.0000e+00 - f1_30: 0.5411 - f1_31: 0.7261 - f1_32: 0.9960 - f1_34: 0.0000e+00 - f1_35: 0.6516 - f1_36: 0.0000e+00 - f1_37: 0.0000e+00 - f1_38: 0.0000e+00 - f1_39: 0.0000e+00 - f1_40: 0.3044 - f1_41: 0.9934 - f1_44: 0.4887 - f1_45: 0.9319 - val_loss: 0.0785 - val_accuracy: 0.9798 - val_f1: 0.3659 - val_f1_1: 0.5756 - val_f1_2: 0.6859 - val_f1_3: 0.0000e+00 - val_f1_4: 0.0000e+00 - val_f1_5: 0.0373 - val_f1_6: 0.8066 - val_f1_8: 0.0000e+00 - val_f1_9: 0.0000e+00 - val_f1_10: 0.0000e+00 - val_f1_11: 0.9400 - val_f1_12: 0.6266 - val_f1_13: 0.8510 - val_f1_14: 0.0000e+00 - val_f1_15: 0.0000e+00 - val_f1_16: 0.0000e+00 - val_f1_17: 0.7239 - val_f1_18: 0.0000e+00 - val_f1_19: 0.7802 - val_f1_20: 0.9112 - val_f1_21: 0.0000e+00 - val_f1_22: 0.8591 - val_f1_23: 0.0000e+00 - val_f1_24: 0.6985 - val_f1_25: 0.0000e+00 - val_f1_26: 0.0000e+00 - val_f1_27: 0.8190 - val_f1_29: 0.0000e+00 - val_f1_30: 0.4441 - val_f1_31: 0.6735 - val_f1_32: 0.9946 - val_f1_34: 0.0000e+00 - val_f1_35: 0.5583 - val_f1_36: 0.0000e+00 - val_f1_37: 0.0000e+00 - val_f1_38: 0.0000e+00 - val_f1_39: 0.0000e+00 - val_f1_40: 0.3089 - val_f1_41: 0.9846 - val_f1_44: 0.4423 - val_f1_45: 0.9167\n",
            "Epoch 20/40\n",
            "16/16 [==============================] - 31s 2s/step - loss: 0.0684 - accuracy: 0.9827 - f1: 0.3884 - f1_1: 0.5990 - f1_2: 0.7431 - f1_3: 0.0000e+00 - f1_4: 0.0000e+00 - f1_5: 0.0617 - f1_6: 0.8281 - f1_8: 0.0000e+00 - f1_9: 0.0000e+00 - f1_10: 0.0000e+00 - f1_11: 0.9409 - f1_12: 0.7257 - f1_13: 0.8586 - f1_14: 0.0000e+00 - f1_15: 0.0000e+00 - f1_16: 0.0000e+00 - f1_17: 0.7793 - f1_18: 0.0000e+00 - f1_19: 0.8333 - f1_20: 0.9166 - f1_21: 0.0000e+00 - f1_22: 0.8821 - f1_23: 0.0000e+00 - f1_24: 0.7348 - f1_25: 0.0000e+00 - f1_26: 0.0000e+00 - f1_27: 0.8369 - f1_29: 0.0000e+00 - f1_30: 0.5545 - f1_31: 0.7434 - f1_32: 0.9967 - f1_34: 0.0000e+00 - f1_35: 0.6835 - f1_36: 0.0000e+00 - f1_37: 0.0000e+00 - f1_38: 0.0000e+00 - f1_39: 0.0000e+00 - f1_40: 0.3579 - f1_41: 0.9910 - f1_44: 0.5305 - f1_45: 0.9376 - val_loss: 0.0748 - val_accuracy: 0.9809 - val_f1: 0.3788 - val_f1_1: 0.6454 - val_f1_2: 0.7362 - val_f1_3: 0.0000e+00 - val_f1_4: 0.0000e+00 - val_f1_5: 0.0738 - val_f1_6: 0.8063 - val_f1_8: 0.0000e+00 - val_f1_9: 0.0000e+00 - val_f1_10: 0.0000e+00 - val_f1_11: 0.9411 - val_f1_12: 0.7473 - val_f1_13: 0.8695 - val_f1_14: 0.0000e+00 - val_f1_15: 0.0000e+00 - val_f1_16: 0.0000e+00 - val_f1_17: 0.7038 - val_f1_18: 0.0000e+00 - val_f1_19: 0.7998 - val_f1_20: 0.9148 - val_f1_21: 0.0000e+00 - val_f1_22: 0.8651 - val_f1_23: 0.0000e+00 - val_f1_24: 0.7164 - val_f1_25: 0.0000e+00 - val_f1_26: 0.0000e+00 - val_f1_27: 0.8349 - val_f1_29: 0.0000e+00 - val_f1_30: 0.4737 - val_f1_31: 0.6945 - val_f1_32: 0.9946 - val_f1_34: 0.0000e+00 - val_f1_35: 0.6249 - val_f1_36: 0.0000e+00 - val_f1_37: 0.0000e+00 - val_f1_38: 0.0000e+00 - val_f1_39: 0.0000e+00 - val_f1_40: 0.3382 - val_f1_41: 0.9846 - val_f1_44: 0.4694 - val_f1_45: 0.9167\n",
            "Epoch 21/40\n",
            "16/16 [==============================] - 32s 2s/step - loss: 0.0653 - accuracy: 0.9835 - f1: 0.4007 - f1_1: 0.6508 - f1_2: 0.7517 - f1_3: 0.0000e+00 - f1_4: 0.0000e+00 - f1_5: 0.1141 - f1_6: 0.8345 - f1_8: 0.0000e+00 - f1_9: 0.0000e+00 - f1_10: 0.0000e+00 - f1_11: 0.9418 - f1_12: 0.8349 - f1_13: 0.8673 - f1_14: 0.0000e+00 - f1_15: 0.0000e+00 - f1_16: 0.0000e+00 - f1_17: 0.7879 - f1_18: 0.0000e+00 - f1_19: 0.8594 - f1_20: 0.9223 - f1_21: 0.0000e+00 - f1_22: 0.8850 - f1_23: 0.0000e+00 - f1_24: 0.7664 - f1_25: 0.0000e+00 - f1_26: 0.0000e+00 - f1_27: 0.8481 - f1_29: 0.0000e+00 - f1_30: 0.5789 - f1_31: 0.7627 - f1_32: 0.9967 - f1_34: 0.0000e+00 - f1_35: 0.7412 - f1_36: 0.0000e+00 - f1_37: 0.0000e+00 - f1_38: 0.0000e+00 - f1_39: 0.0000e+00 - f1_40: 0.3919 - f1_41: 0.9938 - f1_44: 0.5619 - f1_45: 0.9365 - val_loss: 0.0722 - val_accuracy: 0.9816 - val_f1: 0.3855 - val_f1_1: 0.6352 - val_f1_2: 0.7527 - val_f1_3: 0.0000e+00 - val_f1_4: 0.0000e+00 - val_f1_5: 0.1089 - val_f1_6: 0.8117 - val_f1_8: 0.0000e+00 - val_f1_9: 0.0000e+00 - val_f1_10: 0.0000e+00 - val_f1_11: 0.9416 - val_f1_12: 0.7530 - val_f1_13: 0.8845 - val_f1_14: 0.0000e+00 - val_f1_15: 0.0000e+00 - val_f1_16: 0.0000e+00 - val_f1_17: 0.6945 - val_f1_18: 0.0000e+00 - val_f1_19: 0.8043 - val_f1_20: 0.9213 - val_f1_21: 0.0000e+00 - val_f1_22: 0.8688 - val_f1_23: 0.0000e+00 - val_f1_24: 0.7239 - val_f1_25: 0.0000e+00 - val_f1_26: 0.0000e+00 - val_f1_27: 0.8471 - val_f1_29: 0.0000e+00 - val_f1_30: 0.5565 - val_f1_31: 0.6700 - val_f1_32: 0.9946 - val_f1_34: 0.0000e+00 - val_f1_35: 0.6544 - val_f1_36: 0.0000e+00 - val_f1_37: 0.0000e+00 - val_f1_38: 0.0000e+00 - val_f1_39: 0.0000e+00 - val_f1_40: 0.3646 - val_f1_41: 0.9846 - val_f1_44: 0.5278 - val_f1_45: 0.9190\n",
            "Epoch 22/40\n",
            "16/16 [==============================] - 32s 2s/step - loss: 0.0628 - accuracy: 0.9842 - f1: 0.4088 - f1_1: 0.6630 - f1_2: 0.7635 - f1_3: 0.0000e+00 - f1_4: 0.0000e+00 - f1_5: 0.1949 - f1_6: 0.8399 - f1_8: 0.0000e+00 - f1_9: 0.0000e+00 - f1_10: 0.0000e+00 - f1_11: 0.9412 - f1_12: 0.8718 - f1_13: 0.8756 - f1_14: 0.0000e+00 - f1_15: 0.0000e+00 - f1_16: 0.0000e+00 - f1_17: 0.7950 - f1_18: 0.0000e+00 - f1_19: 0.8670 - f1_20: 0.9275 - f1_21: 0.0000e+00 - f1_22: 0.8844 - f1_23: 0.0000e+00 - f1_24: 0.7783 - f1_25: 0.0000e+00 - f1_26: 0.0000e+00 - f1_27: 0.8705 - f1_29: 0.0000e+00 - f1_30: 0.6051 - f1_31: 0.7681 - f1_32: 0.9968 - f1_34: 0.0000e+00 - f1_35: 0.7863 - f1_36: 0.0000e+00 - f1_37: 0.0000e+00 - f1_38: 0.0000e+00 - f1_39: 0.0000e+00 - f1_40: 0.4170 - f1_41: 0.9943 - f1_44: 0.5827 - f1_45: 0.9309 - val_loss: 0.0703 - val_accuracy: 0.9820 - val_f1: 0.3983 - val_f1_1: 0.6711 - val_f1_2: 0.7399 - val_f1_3: 0.0000e+00 - val_f1_4: 0.0000e+00 - val_f1_5: 0.1854 - val_f1_6: 0.8146 - val_f1_8: 0.0000e+00 - val_f1_9: 0.0000e+00 - val_f1_10: 0.0000e+00 - val_f1_11: 0.9427 - val_f1_12: 0.8439 - val_f1_13: 0.9057 - val_f1_14: 0.0000e+00 - val_f1_15: 0.0000e+00 - val_f1_16: 0.0000e+00 - val_f1_17: 0.6719 - val_f1_18: 0.0000e+00 - val_f1_19: 0.8175 - val_f1_20: 0.9230 - val_f1_21: 0.0000e+00 - val_f1_22: 0.8708 - val_f1_23: 0.0000e+00 - val_f1_24: 0.7300 - val_f1_25: 0.0000e+00 - val_f1_26: 0.0455 - val_f1_27: 0.8676 - val_f1_29: 0.0000e+00 - val_f1_30: 0.5717 - val_f1_31: 0.7515 - val_f1_32: 0.9946 - val_f1_34: 0.0000e+00 - val_f1_35: 0.7113 - val_f1_36: 0.0000e+00 - val_f1_37: 0.0000e+00 - val_f1_38: 0.0000e+00 - val_f1_39: 0.0000e+00 - val_f1_40: 0.4379 - val_f1_41: 0.9846 - val_f1_44: 0.5278 - val_f1_45: 0.9230\n",
            "Epoch 23/40\n",
            "16/16 [==============================] - 32s 2s/step - loss: 0.0602 - accuracy: 0.9848 - f1: 0.4168 - f1_1: 0.6983 - f1_2: 0.7801 - f1_3: 0.0000e+00 - f1_4: 0.0000e+00 - f1_5: 0.2328 - f1_6: 0.8523 - f1_8: 0.0000e+00 - f1_9: 0.0000e+00 - f1_10: 0.0000e+00 - f1_11: 0.9451 - f1_12: 0.8958 - f1_13: 0.8914 - f1_14: 0.0000e+00 - f1_15: 0.0000e+00 - f1_16: 0.0000e+00 - f1_17: 0.7987 - f1_18: 0.0000e+00 - f1_19: 0.8632 - f1_20: 0.9263 - f1_21: 0.0000e+00 - f1_22: 0.8829 - f1_23: 0.0000e+00 - f1_24: 0.7843 - f1_25: 0.0000e+00 - f1_26: 0.0317 - f1_27: 0.8779 - f1_29: 0.0000e+00 - f1_30: 0.6229 - f1_31: 0.7852 - f1_32: 0.9968 - f1_34: 0.0000e+00 - f1_35: 0.8118 - f1_36: 0.0000e+00 - f1_37: 0.0000e+00 - f1_38: 0.0000e+00 - f1_39: 0.0000e+00 - f1_40: 0.4708 - f1_41: 0.9930 - f1_44: 0.5957 - f1_45: 0.9347 - val_loss: 0.0677 - val_accuracy: 0.9827 - val_f1: 0.4067 - val_f1_1: 0.6769 - val_f1_2: 0.7445 - val_f1_3: 0.0000e+00 - val_f1_4: 0.0000e+00 - val_f1_5: 0.2130 - val_f1_6: 0.8204 - val_f1_8: 0.0000e+00 - val_f1_9: 0.0000e+00 - val_f1_10: 0.0000e+00 - val_f1_11: 0.9436 - val_f1_12: 0.8785 - val_f1_13: 0.9085 - val_f1_14: 0.0000e+00 - val_f1_15: 0.0000e+00 - val_f1_16: 0.0000e+00 - val_f1_17: 0.7163 - val_f1_18: 0.0000e+00 - val_f1_19: 0.8216 - val_f1_20: 0.9267 - val_f1_21: 0.0000e+00 - val_f1_22: 0.8708 - val_f1_23: 0.0000e+00 - val_f1_24: 0.7570 - val_f1_25: 0.0000e+00 - val_f1_26: 0.0974 - val_f1_27: 0.8917 - val_f1_29: 0.0000e+00 - val_f1_30: 0.5322 - val_f1_31: 0.7540 - val_f1_32: 0.9946 - val_f1_34: 0.0000e+00 - val_f1_35: 0.7901 - val_f1_36: 0.0000e+00 - val_f1_37: 0.0000e+00 - val_f1_38: 0.0000e+00 - val_f1_39: 0.0000e+00 - val_f1_40: 0.4635 - val_f1_41: 0.9846 - val_f1_44: 0.5603 - val_f1_45: 0.9230\n",
            "Epoch 24/40\n",
            "16/16 [==============================] - 32s 2s/step - loss: 0.0579 - accuracy: 0.9854 - f1: 0.4266 - f1_1: 0.7213 - f1_2: 0.7827 - f1_3: 0.0000e+00 - f1_4: 0.0000e+00 - f1_5: 0.2697 - f1_6: 0.8580 - f1_8: 0.0000e+00 - f1_9: 0.0000e+00 - f1_10: 0.0000e+00 - f1_11: 0.9450 - f1_12: 0.9028 - f1_13: 0.9232 - f1_14: 0.0000e+00 - f1_15: 0.0000e+00 - f1_16: 0.0000e+00 - f1_17: 0.8079 - f1_18: 0.0000e+00 - f1_19: 0.8776 - f1_20: 0.9305 - f1_21: 0.0000e+00 - f1_22: 0.8865 - f1_23: 0.0000e+00 - f1_24: 0.8000 - f1_25: 0.0000e+00 - f1_26: 0.1204 - f1_27: 0.8845 - f1_29: 0.0000e+00 - f1_30: 0.6430 - f1_31: 0.8010 - f1_32: 0.9958 - f1_34: 0.0000e+00 - f1_35: 0.8679 - f1_36: 0.0000e+00 - f1_37: 0.0000e+00 - f1_38: 0.0000e+00 - f1_39: 0.0000e+00 - f1_40: 0.5087 - f1_41: 0.9931 - f1_44: 0.6234 - f1_45: 0.9229 - val_loss: 0.0659 - val_accuracy: 0.9827 - val_f1: 0.4101 - val_f1_1: 0.6574 - val_f1_2: 0.7765 - val_f1_3: 0.0000e+00 - val_f1_4: 0.0000e+00 - val_f1_5: 0.2643 - val_f1_6: 0.8263 - val_f1_8: 0.0000e+00 - val_f1_9: 0.0000e+00 - val_f1_10: 0.0000e+00 - val_f1_11: 0.9450 - val_f1_12: 0.8869 - val_f1_13: 0.9339 - val_f1_14: 0.0000e+00 - val_f1_15: 0.0000e+00 - val_f1_16: 0.0000e+00 - val_f1_17: 0.7208 - val_f1_18: 0.0000e+00 - val_f1_19: 0.8228 - val_f1_20: 0.9288 - val_f1_21: 0.0000e+00 - val_f1_22: 0.8708 - val_f1_23: 0.0000e+00 - val_f1_24: 0.7393 - val_f1_25: 0.0000e+00 - val_f1_26: 0.0974 - val_f1_27: 0.8922 - val_f1_29: 0.0000e+00 - val_f1_30: 0.5202 - val_f1_31: 0.7351 - val_f1_32: 0.9946 - val_f1_34: 0.0000e+00 - val_f1_35: 0.8161 - val_f1_36: 0.0000e+00 - val_f1_37: 0.0000e+00 - val_f1_38: 0.0000e+00 - val_f1_39: 0.0000e+00 - val_f1_40: 0.5149 - val_f1_41: 0.9846 - val_f1_44: 0.5524 - val_f1_45: 0.9230\n",
            "Epoch 25/40\n",
            "16/16 [==============================] - 32s 2s/step - loss: 0.0560 - accuracy: 0.9857 - f1: 0.4381 - f1_1: 0.7102 - f1_2: 0.7883 - f1_3: 0.0000e+00 - f1_4: 0.1020 - f1_5: 0.3379 - f1_6: 0.8698 - f1_8: 0.0000e+00 - f1_9: 0.0000e+00 - f1_10: 0.0000e+00 - f1_11: 0.9496 - f1_12: 0.9281 - f1_13: 0.9320 - f1_14: 0.0000e+00 - f1_15: 0.0000e+00 - f1_16: 0.0000e+00 - f1_17: 0.8115 - f1_18: 0.0000e+00 - f1_19: 0.8824 - f1_20: 0.9344 - f1_21: 0.0000e+00 - f1_22: 0.9030 - f1_23: 0.0000e+00 - f1_24: 0.8125 - f1_25: 0.0000e+00 - f1_26: 0.2113 - f1_27: 0.8983 - f1_29: 0.0000e+00 - f1_30: 0.6407 - f1_31: 0.8063 - f1_32: 0.9968 - f1_34: 0.0000e+00 - f1_35: 0.8915 - f1_36: 0.0000e+00 - f1_37: 0.0000e+00 - f1_38: 0.0000e+00 - f1_39: 0.0000e+00 - f1_40: 0.5455 - f1_41: 0.9938 - f1_44: 0.6452 - f1_45: 0.9310 - val_loss: 0.0642 - val_accuracy: 0.9833 - val_f1: 0.4178 - val_f1_1: 0.6657 - val_f1_2: 0.7677 - val_f1_3: 0.0000e+00 - val_f1_4: 0.0289 - val_f1_5: 0.2950 - val_f1_6: 0.8299 - val_f1_8: 0.0000e+00 - val_f1_9: 0.0000e+00 - val_f1_10: 0.0000e+00 - val_f1_11: 0.9465 - val_f1_12: 0.8970 - val_f1_13: 0.9325 - val_f1_14: 0.0000e+00 - val_f1_15: 0.0000e+00 - val_f1_16: 0.0000e+00 - val_f1_17: 0.7173 - val_f1_18: 0.0000e+00 - val_f1_19: 0.8397 - val_f1_20: 0.9341 - val_f1_21: 0.0000e+00 - val_f1_22: 0.8756 - val_f1_23: 0.0000e+00 - val_f1_24: 0.7549 - val_f1_25: 0.0000e+00 - val_f1_26: 0.1176 - val_f1_27: 0.8815 - val_f1_29: 0.0000e+00 - val_f1_30: 0.6154 - val_f1_31: 0.7450 - val_f1_32: 0.9946 - val_f1_34: 0.0000e+00 - val_f1_35: 0.8152 - val_f1_36: 0.0000e+00 - val_f1_37: 0.0000e+00 - val_f1_38: 0.0000e+00 - val_f1_39: 0.0000e+00 - val_f1_40: 0.5709 - val_f1_41: 0.9846 - val_f1_44: 0.5631 - val_f1_45: 0.9375\n",
            "Epoch 26/40\n",
            "16/16 [==============================] - 33s 2s/step - loss: 0.0542 - accuracy: 0.9860 - f1: 0.4483 - f1_1: 0.7295 - f1_2: 0.7938 - f1_3: 0.0000e+00 - f1_4: 0.2343 - f1_5: 0.3698 - f1_6: 0.8731 - f1_8: 0.0000e+00 - f1_9: 0.0000e+00 - f1_10: 0.0000e+00 - f1_11: 0.9505 - f1_12: 0.9390 - f1_13: 0.9369 - f1_14: 0.0000e+00 - f1_15: 0.0000e+00 - f1_16: 0.0000e+00 - f1_17: 0.8183 - f1_18: 0.0000e+00 - f1_19: 0.8846 - f1_20: 0.9365 - f1_21: 0.0000e+00 - f1_22: 0.9106 - f1_23: 0.0000e+00 - f1_24: 0.8195 - f1_25: 0.0000e+00 - f1_26: 0.3376 - f1_27: 0.8993 - f1_29: 0.0000e+00 - f1_30: 0.6546 - f1_31: 0.8120 - f1_32: 0.9971 - f1_34: 0.0000e+00 - f1_35: 0.8887 - f1_36: 0.0000e+00 - f1_37: 0.0000e+00 - f1_38: 0.0000e+00 - f1_39: 0.0000e+00 - f1_40: 0.5781 - f1_41: 0.9949 - f1_44: 0.6416 - f1_45: 0.9328 - val_loss: 0.0623 - val_accuracy: 0.9837 - val_f1: 0.4289 - val_f1_1: 0.6869 - val_f1_2: 0.7768 - val_f1_3: 0.0000e+00 - val_f1_4: 0.1779 - val_f1_5: 0.3089 - val_f1_6: 0.8390 - val_f1_8: 0.0000e+00 - val_f1_9: 0.0000e+00 - val_f1_10: 0.0000e+00 - val_f1_11: 0.9466 - val_f1_12: 0.9045 - val_f1_13: 0.9410 - val_f1_14: 0.0000e+00 - val_f1_15: 0.0000e+00 - val_f1_16: 0.0000e+00 - val_f1_17: 0.7384 - val_f1_18: 0.0000e+00 - val_f1_19: 0.8348 - val_f1_20: 0.9376 - val_f1_21: 0.0000e+00 - val_f1_22: 0.8887 - val_f1_23: 0.0000e+00 - val_f1_24: 0.7694 - val_f1_25: 0.0000e+00 - val_f1_26: 0.2288 - val_f1_27: 0.8959 - val_f1_29: 0.0000e+00 - val_f1_30: 0.5671 - val_f1_31: 0.7769 - val_f1_32: 0.9946 - val_f1_34: 0.0000e+00 - val_f1_35: 0.8724 - val_f1_36: 0.0000e+00 - val_f1_37: 0.0000e+00 - val_f1_38: 0.0000e+00 - val_f1_39: 0.0000e+00 - val_f1_40: 0.5657 - val_f1_41: 0.9846 - val_f1_44: 0.5821 - val_f1_45: 0.9375\n",
            "Epoch 27/40\n",
            "16/16 [==============================] - 32s 2s/step - loss: 0.0526 - accuracy: 0.9864 - f1: 0.4638 - f1_1: 0.7435 - f1_2: 0.7972 - f1_3: 0.0000e+00 - f1_4: 0.6015 - f1_5: 0.4406 - f1_6: 0.8758 - f1_8: 0.0000e+00 - f1_9: 0.0000e+00 - f1_10: 0.0000e+00 - f1_11: 0.9535 - f1_12: 0.9452 - f1_13: 0.9427 - f1_14: 0.0000e+00 - f1_15: 0.0000e+00 - f1_16: 0.0000e+00 - f1_17: 0.8194 - f1_18: 0.0000e+00 - f1_19: 0.8865 - f1_20: 0.9374 - f1_21: 0.0000e+00 - f1_22: 0.9232 - f1_23: 0.0000e+00 - f1_24: 0.8259 - f1_25: 0.0000e+00 - f1_26: 0.3574 - f1_27: 0.9085 - f1_29: 0.0000e+00 - f1_30: 0.6712 - f1_31: 0.8231 - f1_32: 0.9969 - f1_34: 0.0000e+00 - f1_35: 0.9183 - f1_36: 0.0000e+00 - f1_37: 0.0000e+00 - f1_38: 0.0000e+00 - f1_39: 0.0000e+00 - f1_40: 0.6048 - f1_41: 0.9946 - f1_44: 0.6487 - f1_45: 0.9378 - val_loss: 0.0609 - val_accuracy: 0.9841 - val_f1: 0.4454 - val_f1_1: 0.6972 - val_f1_2: 0.7714 - val_f1_3: 0.0000e+00 - val_f1_4: 0.5759 - val_f1_5: 0.3669 - val_f1_6: 0.8399 - val_f1_8: 0.0000e+00 - val_f1_9: 0.0000e+00 - val_f1_10: 0.0000e+00 - val_f1_11: 0.9520 - val_f1_12: 0.9096 - val_f1_13: 0.9434 - val_f1_14: 0.0000e+00 - val_f1_15: 0.0000e+00 - val_f1_16: 0.0000e+00 - val_f1_17: 0.7497 - val_f1_18: 0.0000e+00 - val_f1_19: 0.8435 - val_f1_20: 0.9378 - val_f1_21: 0.0000e+00 - val_f1_22: 0.8996 - val_f1_23: 0.0000e+00 - val_f1_24: 0.7745 - val_f1_25: 0.0000e+00 - val_f1_26: 0.3123 - val_f1_27: 0.9054 - val_f1_29: 0.0000e+00 - val_f1_30: 0.5750 - val_f1_31: 0.7672 - val_f1_32: 0.9946 - val_f1_34: 0.0000e+00 - val_f1_35: 0.8941 - val_f1_36: 0.0000e+00 - val_f1_37: 0.0000e+00 - val_f1_38: 0.0000e+00 - val_f1_39: 0.0000e+00 - val_f1_40: 0.5694 - val_f1_41: 0.9846 - val_f1_44: 0.6145 - val_f1_45: 0.9375\n",
            "Epoch 28/40\n",
            "16/16 [==============================] - 37s 2s/step - loss: 0.0510 - accuracy: 0.9867 - f1: 0.4730 - f1_1: 0.7501 - f1_2: 0.8017 - f1_3: 0.0000e+00 - f1_4: 0.7257 - f1_5: 0.4412 - f1_6: 0.8849 - f1_8: 0.0000e+00 - f1_9: 0.0000e+00 - f1_10: 0.0000e+00 - f1_11: 0.9569 - f1_12: 0.9546 - f1_13: 0.9433 - f1_14: 0.0000e+00 - f1_15: 0.0000e+00 - f1_16: 0.0621 - f1_17: 0.8254 - f1_18: 0.0000e+00 - f1_19: 0.8954 - f1_20: 0.9401 - f1_21: 0.0000e+00 - f1_22: 0.9236 - f1_23: 0.0000e+00 - f1_24: 0.8385 - f1_25: 0.0000e+00 - f1_26: 0.4254 - f1_27: 0.9102 - f1_29: 0.0000e+00 - f1_30: 0.6763 - f1_31: 0.8338 - f1_32: 0.9949 - f1_34: 0.0000e+00 - f1_35: 0.9337 - f1_36: 0.0000e+00 - f1_37: 0.0000e+00 - f1_38: 0.0000e+00 - f1_39: 0.0000e+00 - f1_40: 0.6011 - f1_41: 0.9951 - f1_44: 0.6665 - f1_45: 0.9398 - val_loss: 0.0597 - val_accuracy: 0.9841 - val_f1: 0.4557 - val_f1_1: 0.7146 - val_f1_2: 0.7809 - val_f1_3: 0.0000e+00 - val_f1_4: 0.5883 - val_f1_5: 0.4227 - val_f1_6: 0.8451 - val_f1_8: 0.0000e+00 - val_f1_9: 0.0000e+00 - val_f1_10: 0.0000e+00 - val_f1_11: 0.9560 - val_f1_12: 0.9234 - val_f1_13: 0.9466 - val_f1_14: 0.0000e+00 - val_f1_15: 0.0000e+00 - val_f1_16: 0.0974 - val_f1_17: 0.7295 - val_f1_18: 0.0000e+00 - val_f1_19: 0.8419 - val_f1_20: 0.9388 - val_f1_21: 0.0000e+00 - val_f1_22: 0.9028 - val_f1_23: 0.0000e+00 - val_f1_24: 0.7720 - val_f1_25: 0.0000e+00 - val_f1_26: 0.4481 - val_f1_27: 0.9033 - val_f1_29: 0.0000e+00 - val_f1_30: 0.6167 - val_f1_31: 0.7774 - val_f1_32: 0.9946 - val_f1_34: 0.0000e+00 - val_f1_35: 0.8912 - val_f1_36: 0.0000e+00 - val_f1_37: 0.0000e+00 - val_f1_38: 0.0000e+00 - val_f1_39: 0.0000e+00 - val_f1_40: 0.5924 - val_f1_41: 0.9846 - val_f1_44: 0.6201 - val_f1_45: 0.9392\n",
            "Epoch 29/40\n",
            "16/16 [==============================] - 32s 2s/step - loss: 0.0495 - accuracy: 0.9870 - f1: 0.4823 - f1_1: 0.7536 - f1_2: 0.8119 - f1_3: 0.0000e+00 - f1_4: 0.7175 - f1_5: 0.4839 - f1_6: 0.8823 - f1_8: 0.0000e+00 - f1_9: 0.0000e+00 - f1_10: 0.0000e+00 - f1_11: 0.9597 - f1_12: 0.9517 - f1_13: 0.9574 - f1_14: 0.0000e+00 - f1_15: 0.0000e+00 - f1_16: 0.1741 - f1_17: 0.8292 - f1_18: 0.0000e+00 - f1_19: 0.8962 - f1_20: 0.9418 - f1_21: 0.0000e+00 - f1_22: 0.9241 - f1_23: 0.0000e+00 - f1_24: 0.8446 - f1_25: 0.0000e+00 - f1_26: 0.5452 - f1_27: 0.9142 - f1_29: 0.0000e+00 - f1_30: 0.6842 - f1_31: 0.8385 - f1_32: 0.9967 - f1_34: 0.0000e+00 - f1_35: 0.9338 - f1_36: 0.0000e+00 - f1_37: 0.0000e+00 - f1_38: 0.0000e+00 - f1_39: 0.0000e+00 - f1_40: 0.6276 - f1_41: 0.9946 - f1_44: 0.6847 - f1_45: 0.9440 - val_loss: 0.0583 - val_accuracy: 0.9845 - val_f1: 0.4640 - val_f1_1: 0.7386 - val_f1_2: 0.7911 - val_f1_3: 0.0000e+00 - val_f1_4: 0.6210 - val_f1_5: 0.4141 - val_f1_6: 0.8469 - val_f1_8: 0.0000e+00 - val_f1_9: 0.0000e+00 - val_f1_10: 0.0000e+00 - val_f1_11: 0.9540 - val_f1_12: 0.9360 - val_f1_13: 0.9522 - val_f1_14: 0.0000e+00 - val_f1_15: 0.0000e+00 - val_f1_16: 0.2609 - val_f1_17: 0.7484 - val_f1_18: 0.0000e+00 - val_f1_19: 0.8460 - val_f1_20: 0.9374 - val_f1_21: 0.0000e+00 - val_f1_22: 0.9048 - val_f1_23: 0.0000e+00 - val_f1_24: 0.7742 - val_f1_25: 0.0000e+00 - val_f1_26: 0.4529 - val_f1_27: 0.9107 - val_f1_29: 0.0000e+00 - val_f1_30: 0.5971 - val_f1_31: 0.7838 - val_f1_32: 0.9946 - val_f1_34: 0.0000e+00 - val_f1_35: 0.9094 - val_f1_36: 0.0000e+00 - val_f1_37: 0.0000e+00 - val_f1_38: 0.0000e+00 - val_f1_39: 0.0000e+00 - val_f1_40: 0.6439 - val_f1_41: 0.9846 - val_f1_44: 0.6162 - val_f1_45: 0.9401\n",
            "Epoch 30/40\n",
            "16/16 [==============================] - 32s 2s/step - loss: 0.0480 - accuracy: 0.9874 - f1: 0.4916 - f1_1: 0.7698 - f1_2: 0.8196 - f1_3: 0.0000e+00 - f1_4: 0.7811 - f1_5: 0.4965 - f1_6: 0.8949 - f1_8: 0.0000e+00 - f1_9: 0.0000e+00 - f1_10: 0.0000e+00 - f1_11: 0.9616 - f1_12: 0.9579 - f1_13: 0.9508 - f1_14: 0.0000e+00 - f1_15: 0.0000e+00 - f1_16: 0.3125 - f1_17: 0.8343 - f1_18: 0.0000e+00 - f1_19: 0.8988 - f1_20: 0.9419 - f1_21: 0.0000e+00 - f1_22: 0.9322 - f1_23: 0.0000e+00 - f1_24: 0.8523 - f1_25: 0.0000e+00 - f1_26: 0.5759 - f1_27: 0.9178 - f1_29: 0.0000e+00 - f1_30: 0.6982 - f1_31: 0.8422 - f1_32: 0.9968 - f1_34: 0.0000e+00 - f1_35: 0.9440 - f1_36: 0.0000e+00 - f1_37: 0.0000e+00 - f1_38: 0.0000e+00 - f1_39: 0.0000e+00 - f1_40: 0.6504 - f1_41: 0.9938 - f1_44: 0.6879 - f1_45: 0.9527 - val_loss: 0.0571 - val_accuracy: 0.9848 - val_f1: 0.4724 - val_f1_1: 0.7389 - val_f1_2: 0.7836 - val_f1_3: 0.0000e+00 - val_f1_4: 0.6252 - val_f1_5: 0.4305 - val_f1_6: 0.8517 - val_f1_8: 0.0000e+00 - val_f1_9: 0.0000e+00 - val_f1_10: 0.0000e+00 - val_f1_11: 0.9571 - val_f1_12: 0.9360 - val_f1_13: 0.9606 - val_f1_14: 0.0000e+00 - val_f1_15: 0.0000e+00 - val_f1_16: 0.4192 - val_f1_17: 0.7571 - val_f1_18: 0.0000e+00 - val_f1_19: 0.8540 - val_f1_20: 0.9398 - val_f1_21: 0.0000e+00 - val_f1_22: 0.9063 - val_f1_23: 0.0000e+00 - val_f1_24: 0.7723 - val_f1_25: 0.0000e+00 - val_f1_26: 0.4949 - val_f1_27: 0.9087 - val_f1_29: 0.0000e+00 - val_f1_30: 0.6329 - val_f1_31: 0.7991 - val_f1_32: 0.9946 - val_f1_34: 0.0000e+00 - val_f1_35: 0.9226 - val_f1_36: 0.0000e+00 - val_f1_37: 0.0000e+00 - val_f1_38: 0.0000e+00 - val_f1_39: 0.0000e+00 - val_f1_40: 0.6507 - val_f1_41: 0.9846 - val_f1_44: 0.6282 - val_f1_45: 0.9463\n",
            "Epoch 31/40\n",
            "16/16 [==============================] - 32s 2s/step - loss: 0.0467 - accuracy: 0.9877 - f1: 0.4977 - f1_1: 0.8002 - f1_2: 0.8202 - f1_3: 0.0000e+00 - f1_4: 0.7727 - f1_5: 0.5253 - f1_6: 0.8992 - f1_8: 0.0000e+00 - f1_9: 0.0000e+00 - f1_10: 0.0000e+00 - f1_11: 0.9625 - f1_12: 0.9613 - f1_13: 0.9684 - f1_14: 0.0000e+00 - f1_15: 0.0000e+00 - f1_16: 0.4369 - f1_17: 0.8360 - f1_18: 0.0000e+00 - f1_19: 0.8990 - f1_20: 0.9433 - f1_21: 0.0000e+00 - f1_22: 0.9361 - f1_23: 0.0000e+00 - f1_24: 0.8499 - f1_25: 0.0000e+00 - f1_26: 0.5832 - f1_27: 0.9226 - f1_29: 0.0000e+00 - f1_30: 0.7040 - f1_31: 0.8420 - f1_32: 0.9967 - f1_34: 0.0000e+00 - f1_35: 0.9484 - f1_36: 0.0000e+00 - f1_37: 0.0000e+00 - f1_38: 0.0000e+00 - f1_39: 0.0000e+00 - f1_40: 0.6659 - f1_41: 0.9948 - f1_44: 0.6852 - f1_45: 0.9548 - val_loss: 0.0565 - val_accuracy: 0.9849 - val_f1: 0.4751 - val_f1_1: 0.7369 - val_f1_2: 0.7802 - val_f1_3: 0.0000e+00 - val_f1_4: 0.6326 - val_f1_5: 0.4521 - val_f1_6: 0.8516 - val_f1_8: 0.0000e+00 - val_f1_9: 0.0000e+00 - val_f1_10: 0.0000e+00 - val_f1_11: 0.9597 - val_f1_12: 0.9377 - val_f1_13: 0.9656 - val_f1_14: 0.0000e+00 - val_f1_15: 0.0000e+00 - val_f1_16: 0.4284 - val_f1_17: 0.7349 - val_f1_18: 0.0000e+00 - val_f1_19: 0.8552 - val_f1_20: 0.9426 - val_f1_21: 0.0000e+00 - val_f1_22: 0.9223 - val_f1_23: 0.0000e+00 - val_f1_24: 0.7845 - val_f1_25: 0.0000e+00 - val_f1_26: 0.4949 - val_f1_27: 0.9176 - val_f1_29: 0.0000e+00 - val_f1_30: 0.6631 - val_f1_31: 0.8037 - val_f1_32: 0.9946 - val_f1_34: 0.0000e+00 - val_f1_35: 0.9226 - val_f1_36: 0.0000e+00 - val_f1_37: 0.0000e+00 - val_f1_38: 0.0000e+00 - val_f1_39: 0.0000e+00 - val_f1_40: 0.6541 - val_f1_41: 0.9846 - val_f1_44: 0.6289 - val_f1_45: 0.9543\n",
            "Epoch 32/40\n",
            "16/16 [==============================] - 33s 2s/step - loss: 0.0457 - accuracy: 0.9880 - f1: 0.5004 - f1_1: 0.8075 - f1_2: 0.8242 - f1_3: 0.0000e+00 - f1_4: 0.7217 - f1_5: 0.5326 - f1_6: 0.9026 - f1_8: 0.0000e+00 - f1_9: 0.0000e+00 - f1_10: 0.0000e+00 - f1_11: 0.9635 - f1_12: 0.9680 - f1_13: 0.9664 - f1_14: 0.0000e+00 - f1_15: 0.0000e+00 - f1_16: 0.4815 - f1_17: 0.8301 - f1_18: 0.0000e+00 - f1_19: 0.9058 - f1_20: 0.9449 - f1_21: 0.0000e+00 - f1_22: 0.9382 - f1_23: 0.0000e+00 - f1_24: 0.8564 - f1_25: 0.0000e+00 - f1_26: 0.6145 - f1_27: 0.9248 - f1_29: 0.0000e+00 - f1_30: 0.7139 - f1_31: 0.8520 - f1_32: 0.9966 - f1_34: 0.0000e+00 - f1_35: 0.9567 - f1_36: 0.0000e+00 - f1_37: 0.0000e+00 - f1_38: 0.0000e+00 - f1_39: 0.0000e+00 - f1_40: 0.6665 - f1_41: 0.9912 - f1_44: 0.7021 - f1_45: 0.9550 - val_loss: 0.0552 - val_accuracy: 0.9850 - val_f1: 0.4770 - val_f1_1: 0.7393 - val_f1_2: 0.7939 - val_f1_3: 0.0000e+00 - val_f1_4: 0.6477 - val_f1_5: 0.4473 - val_f1_6: 0.8618 - val_f1_8: 0.0000e+00 - val_f1_9: 0.0000e+00 - val_f1_10: 0.0000e+00 - val_f1_11: 0.9609 - val_f1_12: 0.9389 - val_f1_13: 0.9649 - val_f1_14: 0.0000e+00 - val_f1_15: 0.0000e+00 - val_f1_16: 0.4284 - val_f1_17: 0.7546 - val_f1_18: 0.0000e+00 - val_f1_19: 0.8532 - val_f1_20: 0.9414 - val_f1_21: 0.0000e+00 - val_f1_22: 0.9242 - val_f1_23: 0.0000e+00 - val_f1_24: 0.7779 - val_f1_25: 0.0000e+00 - val_f1_26: 0.5065 - val_f1_27: 0.9167 - val_f1_29: 0.0000e+00 - val_f1_30: 0.6452 - val_f1_31: 0.8019 - val_f1_32: 0.9946 - val_f1_34: 0.0000e+00 - val_f1_35: 0.9241 - val_f1_36: 0.0000e+00 - val_f1_37: 0.0000e+00 - val_f1_38: 0.0000e+00 - val_f1_39: 0.0000e+00 - val_f1_40: 0.6781 - val_f1_41: 0.9846 - val_f1_44: 0.6377 - val_f1_45: 0.9568\n",
            "Epoch 33/40\n",
            "16/16 [==============================] - 32s 2s/step - loss: 0.0444 - accuracy: 0.9882 - f1: 0.5024 - f1_1: 0.8092 - f1_2: 0.8296 - f1_3: 0.0000e+00 - f1_4: 0.7444 - f1_5: 0.5624 - f1_6: 0.9030 - f1_8: 0.0000e+00 - f1_9: 0.0000e+00 - f1_10: 0.0000e+00 - f1_11: 0.9644 - f1_12: 0.9657 - f1_13: 0.9682 - f1_14: 0.0000e+00 - f1_15: 0.0000e+00 - f1_16: 0.4732 - f1_17: 0.8410 - f1_18: 0.0000e+00 - f1_19: 0.9051 - f1_20: 0.9464 - f1_21: 0.0000e+00 - f1_22: 0.9404 - f1_23: 0.0000e+00 - f1_24: 0.8642 - f1_25: 0.0000e+00 - f1_26: 0.5883 - f1_27: 0.9248 - f1_29: 0.0000e+00 - f1_30: 0.7204 - f1_31: 0.8566 - f1_32: 0.9967 - f1_34: 0.0000e+00 - f1_35: 0.9477 - f1_36: 0.0000e+00 - f1_37: 0.0000e+00 - f1_38: 0.0000e+00 - f1_39: 0.0000e+00 - f1_40: 0.6840 - f1_41: 0.9942 - f1_44: 0.7083 - f1_45: 0.9569 - val_loss: 0.0544 - val_accuracy: 0.9851 - val_f1: 0.4806 - val_f1_1: 0.7545 - val_f1_2: 0.7858 - val_f1_3: 0.0000e+00 - val_f1_4: 0.6477 - val_f1_5: 0.4855 - val_f1_6: 0.8590 - val_f1_8: 0.0000e+00 - val_f1_9: 0.0000e+00 - val_f1_10: 0.0000e+00 - val_f1_11: 0.9622 - val_f1_12: 0.9406 - val_f1_13: 0.9673 - val_f1_14: 0.0000e+00 - val_f1_15: 0.0000e+00 - val_f1_16: 0.4768 - val_f1_17: 0.7720 - val_f1_18: 0.0000e+00 - val_f1_19: 0.8558 - val_f1_20: 0.9448 - val_f1_21: 0.0000e+00 - val_f1_22: 0.9117 - val_f1_23: 0.0000e+00 - val_f1_24: 0.7931 - val_f1_25: 0.0000e+00 - val_f1_26: 0.5566 - val_f1_27: 0.9214 - val_f1_29: 0.0000e+00 - val_f1_30: 0.6031 - val_f1_31: 0.8027 - val_f1_32: 0.9946 - val_f1_34: 0.0000e+00 - val_f1_35: 0.9348 - val_f1_36: 0.0000e+00 - val_f1_37: 0.0000e+00 - val_f1_38: 0.0000e+00 - val_f1_39: 0.0000e+00 - val_f1_40: 0.6575 - val_f1_41: 0.9846 - val_f1_44: 0.6484 - val_f1_45: 0.9635\n",
            "Epoch 34/40\n",
            "16/16 [==============================] - 32s 2s/step - loss: 0.0434 - accuracy: 0.9884 - f1: 0.5073 - f1_1: 0.8075 - f1_2: 0.8298 - f1_3: 0.0000e+00 - f1_4: 0.7273 - f1_5: 0.5635 - f1_6: 0.9012 - f1_8: 0.0000e+00 - f1_9: 0.0000e+00 - f1_10: 0.0000e+00 - f1_11: 0.9653 - f1_12: 0.9734 - f1_13: 0.9707 - f1_14: 0.0000e+00 - f1_15: 0.0000e+00 - f1_16: 0.5545 - f1_17: 0.8457 - f1_18: 0.0000e+00 - f1_19: 0.9061 - f1_20: 0.9496 - f1_21: 0.0000e+00 - f1_22: 0.9399 - f1_23: 0.0000e+00 - f1_24: 0.8660 - f1_25: 0.0000e+00 - f1_26: 0.6395 - f1_27: 0.9319 - f1_29: 0.0000e+00 - f1_30: 0.7241 - f1_31: 0.8594 - f1_32: 0.9968 - f1_34: 0.0000e+00 - f1_35: 0.9523 - f1_36: 0.0000e+00 - f1_37: 0.0000e+00 - f1_38: 0.0000e+00 - f1_39: 0.0000e+00 - f1_40: 0.6950 - f1_41: 0.9934 - f1_44: 0.7229 - f1_45: 0.9769 - val_loss: 0.0538 - val_accuracy: 0.9852 - val_f1: 0.4833 - val_f1_1: 0.7612 - val_f1_2: 0.8020 - val_f1_3: 0.0000e+00 - val_f1_4: 0.6477 - val_f1_5: 0.4910 - val_f1_6: 0.8572 - val_f1_8: 0.0000e+00 - val_f1_9: 0.0000e+00 - val_f1_10: 0.0000e+00 - val_f1_11: 0.9629 - val_f1_12: 0.9423 - val_f1_13: 0.9726 - val_f1_14: 0.0000e+00 - val_f1_15: 0.0000e+00 - val_f1_16: 0.5121 - val_f1_17: 0.7378 - val_f1_18: 0.0000e+00 - val_f1_19: 0.8633 - val_f1_20: 0.9454 - val_f1_21: 0.0000e+00 - val_f1_22: 0.9246 - val_f1_23: 0.0000e+00 - val_f1_24: 0.7893 - val_f1_25: 0.0000e+00 - val_f1_26: 0.5040 - val_f1_27: 0.9257 - val_f1_29: 0.0000e+00 - val_f1_30: 0.6520 - val_f1_31: 0.8072 - val_f1_32: 0.9946 - val_f1_34: 0.0000e+00 - val_f1_35: 0.9388 - val_f1_36: 0.0000e+00 - val_f1_37: 0.0000e+00 - val_f1_38: 0.0000e+00 - val_f1_39: 0.0000e+00 - val_f1_40: 0.6904 - val_f1_41: 0.9846 - val_f1_44: 0.6555 - val_f1_45: 0.9683\n",
            "Epoch 35/40\n",
            "16/16 [==============================] - 32s 2s/step - loss: 0.0423 - accuracy: 0.9887 - f1: 0.5137 - f1_1: 0.8176 - f1_2: 0.8376 - f1_3: 0.0000e+00 - f1_4: 0.7978 - f1_5: 0.5905 - f1_6: 0.9065 - f1_8: 0.0000e+00 - f1_9: 0.0000e+00 - f1_10: 0.0000e+00 - f1_11: 0.9654 - f1_12: 0.9693 - f1_13: 0.9687 - f1_14: 0.0000e+00 - f1_15: 0.0000e+00 - f1_16: 0.5759 - f1_17: 0.8471 - f1_18: 0.0000e+00 - f1_19: 0.9091 - f1_20: 0.9484 - f1_21: 0.0000e+00 - f1_22: 0.9777 - f1_23: 0.0000e+00 - f1_24: 0.8744 - f1_25: 0.0000e+00 - f1_26: 0.6730 - f1_27: 0.9370 - f1_29: 0.0000e+00 - f1_30: 0.7344 - f1_31: 0.8652 - f1_32: 0.9969 - f1_34: 0.0000e+00 - f1_35: 0.9631 - f1_36: 0.0000e+00 - f1_37: 0.0000e+00 - f1_38: 0.0000e+00 - f1_39: 0.0000e+00 - f1_40: 0.7028 - f1_41: 0.9949 - f1_44: 0.7162 - f1_45: 0.9783 - val_loss: 0.0528 - val_accuracy: 0.9855 - val_f1: 0.4881 - val_f1_1: 0.7607 - val_f1_2: 0.7962 - val_f1_3: 0.0000e+00 - val_f1_4: 0.6477 - val_f1_5: 0.5171 - val_f1_6: 0.8645 - val_f1_8: 0.0000e+00 - val_f1_9: 0.0000e+00 - val_f1_10: 0.0000e+00 - val_f1_11: 0.9636 - val_f1_12: 0.9457 - val_f1_13: 0.9668 - val_f1_14: 0.0000e+00 - val_f1_15: 0.0000e+00 - val_f1_16: 0.5449 - val_f1_17: 0.7579 - val_f1_18: 0.0000e+00 - val_f1_19: 0.8642 - val_f1_20: 0.9446 - val_f1_21: 0.0000e+00 - val_f1_22: 0.9697 - val_f1_23: 0.0000e+00 - val_f1_24: 0.7955 - val_f1_25: 0.0000e+00 - val_f1_26: 0.5562 - val_f1_27: 0.9241 - val_f1_29: 0.0000e+00 - val_f1_30: 0.6690 - val_f1_31: 0.8058 - val_f1_32: 0.9946 - val_f1_34: 0.0000e+00 - val_f1_35: 0.9445 - val_f1_36: 0.0000e+00 - val_f1_37: 0.0000e+00 - val_f1_38: 0.0000e+00 - val_f1_39: 0.0000e+00 - val_f1_40: 0.6842 - val_f1_41: 0.9846 - val_f1_44: 0.6561 - val_f1_45: 0.9665\n",
            "Epoch 36/40\n",
            "16/16 [==============================] - 32s 2s/step - loss: 0.0413 - accuracy: 0.9889 - f1: 0.5159 - f1_1: 0.8202 - f1_2: 0.8386 - f1_3: 0.0000e+00 - f1_4: 0.7831 - f1_5: 0.5857 - f1_6: 0.9101 - f1_8: 0.0000e+00 - f1_9: 0.0000e+00 - f1_10: 0.0000e+00 - f1_11: 0.9689 - f1_12: 0.9669 - f1_13: 0.9683 - f1_14: 0.0000e+00 - f1_15: 0.0000e+00 - f1_16: 0.6235 - f1_17: 0.8487 - f1_18: 0.0000e+00 - f1_19: 0.9094 - f1_20: 0.9493 - f1_21: 0.0000e+00 - f1_22: 0.9805 - f1_23: 0.0000e+00 - f1_24: 0.8747 - f1_25: 0.0000e+00 - f1_26: 0.6877 - f1_27: 0.9318 - f1_29: 0.0000e+00 - f1_30: 0.7378 - f1_31: 0.8718 - f1_32: 0.9966 - f1_34: 0.0000e+00 - f1_35: 0.9652 - f1_36: 0.0000e+00 - f1_37: 0.0000e+00 - f1_38: 0.0000e+00 - f1_39: 0.0000e+00 - f1_40: 0.7134 - f1_41: 0.9938 - f1_44: 0.7289 - f1_45: 0.9811 - val_loss: 0.0520 - val_accuracy: 0.9855 - val_f1: 0.4909 - val_f1_1: 0.7859 - val_f1_2: 0.7932 - val_f1_3: 0.0000e+00 - val_f1_4: 0.6599 - val_f1_5: 0.5133 - val_f1_6: 0.8679 - val_f1_8: 0.0000e+00 - val_f1_9: 0.0000e+00 - val_f1_10: 0.0000e+00 - val_f1_11: 0.9632 - val_f1_12: 0.9468 - val_f1_13: 0.9671 - val_f1_14: 0.0000e+00 - val_f1_15: 0.0000e+00 - val_f1_16: 0.5375 - val_f1_17: 0.7729 - val_f1_18: 0.0455 - val_f1_19: 0.8643 - val_f1_20: 0.9467 - val_f1_21: 0.0000e+00 - val_f1_22: 0.9774 - val_f1_23: 0.0000e+00 - val_f1_24: 0.8059 - val_f1_25: 0.0000e+00 - val_f1_26: 0.5712 - val_f1_27: 0.9241 - val_f1_29: 0.0000e+00 - val_f1_30: 0.6733 - val_f1_31: 0.8158 - val_f1_32: 0.9946 - val_f1_34: 0.0000e+00 - val_f1_35: 0.9423 - val_f1_36: 0.0000e+00 - val_f1_37: 0.0000e+00 - val_f1_38: 0.0000e+00 - val_f1_39: 0.0000e+00 - val_f1_40: 0.6573 - val_f1_41: 0.9846 - val_f1_44: 0.6575 - val_f1_45: 0.9675\n",
            "Epoch 37/40\n",
            "16/16 [==============================] - 32s 2s/step - loss: 0.0404 - accuracy: 0.9890 - f1: 0.5171 - f1_1: 0.8252 - f1_2: 0.8411 - f1_3: 0.0000e+00 - f1_4: 0.7726 - f1_5: 0.6020 - f1_6: 0.9185 - f1_8: 0.0000e+00 - f1_9: 0.0000e+00 - f1_10: 0.0000e+00 - f1_11: 0.9691 - f1_12: 0.9720 - f1_13: 0.9717 - f1_14: 0.0000e+00 - f1_15: 0.0000e+00 - f1_16: 0.5899 - f1_17: 0.8510 - f1_18: 0.0312 - f1_19: 0.9146 - f1_20: 0.9506 - f1_21: 0.0000e+00 - f1_22: 0.9824 - f1_23: 0.0000e+00 - f1_24: 0.8818 - f1_25: 0.0000e+00 - f1_26: 0.6651 - f1_27: 0.9375 - f1_29: 0.0000e+00 - f1_30: 0.7480 - f1_31: 0.8734 - f1_32: 0.9966 - f1_34: 0.0000e+00 - f1_35: 0.9668 - f1_36: 0.0000e+00 - f1_37: 0.0000e+00 - f1_38: 0.0000e+00 - f1_39: 0.0000e+00 - f1_40: 0.7074 - f1_41: 0.9934 - f1_44: 0.7334 - f1_45: 0.9875 - val_loss: 0.0515 - val_accuracy: 0.9855 - val_f1: 0.4952 - val_f1_1: 0.7792 - val_f1_2: 0.8003 - val_f1_3: 0.0000e+00 - val_f1_4: 0.6632 - val_f1_5: 0.5310 - val_f1_6: 0.8630 - val_f1_8: 0.0000e+00 - val_f1_9: 0.0000e+00 - val_f1_10: 0.0000e+00 - val_f1_11: 0.9646 - val_f1_12: 0.9468 - val_f1_13: 0.9666 - val_f1_14: 0.0000e+00 - val_f1_15: 0.0000e+00 - val_f1_16: 0.5530 - val_f1_17: 0.7806 - val_f1_18: 0.2136 - val_f1_19: 0.8632 - val_f1_20: 0.9476 - val_f1_21: 0.0000e+00 - val_f1_22: 0.9670 - val_f1_23: 0.0000e+00 - val_f1_24: 0.8163 - val_f1_25: 0.0000e+00 - val_f1_26: 0.5533 - val_f1_27: 0.9257 - val_f1_29: 0.0000e+00 - val_f1_30: 0.6454 - val_f1_31: 0.8038 - val_f1_32: 0.9946 - val_f1_34: 0.0000e+00 - val_f1_35: 0.9445 - val_f1_36: 0.0000e+00 - val_f1_37: 0.0000e+00 - val_f1_38: 0.0000e+00 - val_f1_39: 0.0000e+00 - val_f1_40: 0.6603 - val_f1_41: 0.9846 - val_f1_44: 0.6554 - val_f1_45: 0.9835\n",
            "Epoch 38/40\n",
            "16/16 [==============================] - 32s 2s/step - loss: 0.0397 - accuracy: 0.9892 - f1: 0.5203 - f1_1: 0.8423 - f1_2: 0.8408 - f1_3: 0.0000e+00 - f1_4: 0.7729 - f1_5: 0.6195 - f1_6: 0.9159 - f1_8: 0.0000e+00 - f1_9: 0.0000e+00 - f1_10: 0.0000e+00 - f1_11: 0.9701 - f1_12: 0.9746 - f1_13: 0.9744 - f1_14: 0.0000e+00 - f1_15: 0.0000e+00 - f1_16: 0.6439 - f1_17: 0.8491 - f1_18: 0.0729 - f1_19: 0.9103 - f1_20: 0.9513 - f1_21: 0.0000e+00 - f1_22: 0.9835 - f1_23: 0.0000e+00 - f1_24: 0.8816 - f1_25: 0.0000e+00 - f1_26: 0.6559 - f1_27: 0.9340 - f1_29: 0.0000e+00 - f1_30: 0.7422 - f1_31: 0.8721 - f1_32: 0.9965 - f1_34: 0.0000e+00 - f1_35: 0.9647 - f1_36: 0.0000e+00 - f1_37: 0.0000e+00 - f1_38: 0.0000e+00 - f1_39: 0.0000e+00 - f1_40: 0.7184 - f1_41: 0.9943 - f1_44: 0.7461 - f1_45: 0.9851 - val_loss: 0.0508 - val_accuracy: 0.9857 - val_f1: 0.5050 - val_f1_1: 0.7872 - val_f1_2: 0.8071 - val_f1_3: 0.0000e+00 - val_f1_4: 0.6599 - val_f1_5: 0.5359 - val_f1_6: 0.8674 - val_f1_8: 0.0000e+00 - val_f1_9: 0.0000e+00 - val_f1_10: 0.0000e+00 - val_f1_11: 0.9656 - val_f1_12: 0.9468 - val_f1_13: 0.9678 - val_f1_14: 0.0000e+00 - val_f1_15: 0.0000e+00 - val_f1_16: 0.5707 - val_f1_17: 0.7738 - val_f1_18: 0.4944 - val_f1_19: 0.8623 - val_f1_20: 0.9480 - val_f1_21: 0.0000e+00 - val_f1_22: 0.9776 - val_f1_23: 0.0519 - val_f1_24: 0.8153 - val_f1_25: 0.0000e+00 - val_f1_26: 0.5606 - val_f1_27: 0.9263 - val_f1_29: 0.0000e+00 - val_f1_30: 0.6092 - val_f1_31: 0.8163 - val_f1_32: 0.9946 - val_f1_34: 0.0000e+00 - val_f1_35: 0.9458 - val_f1_36: 0.0000e+00 - val_f1_37: 0.0000e+00 - val_f1_38: 0.0000e+00 - val_f1_39: 0.0000e+00 - val_f1_40: 0.6674 - val_f1_41: 0.9846 - val_f1_44: 0.6760 - val_f1_45: 0.9875\n",
            "Epoch 39/40\n",
            "16/16 [==============================] - 33s 2s/step - loss: 0.0388 - accuracy: 0.9894 - f1: 0.5405 - f1_1: 0.8435 - f1_2: 0.8450 - f1_3: 0.0000e+00 - f1_4: 0.8010 - f1_5: 0.6162 - f1_6: 0.9160 - f1_8: 0.0000e+00 - f1_9: 0.0000e+00 - f1_10: 0.0000e+00 - f1_11: 0.9708 - f1_12: 0.9703 - f1_13: 0.9687 - f1_14: 0.0000e+00 - f1_15: 0.0000e+00 - f1_16: 0.7183 - f1_17: 0.8576 - f1_18: 0.6635 - f1_19: 0.9182 - f1_20: 0.9530 - f1_21: 0.0000e+00 - f1_22: 0.9843 - f1_23: 0.0139 - f1_24: 0.8866 - f1_25: 0.0000e+00 - f1_26: 0.7237 - f1_27: 0.9387 - f1_29: 0.0000e+00 - f1_30: 0.7455 - f1_31: 0.8806 - f1_32: 0.9967 - f1_34: 0.0000e+00 - f1_35: 0.9681 - f1_36: 0.0000e+00 - f1_37: 0.0000e+00 - f1_38: 0.0000e+00 - f1_39: 0.0000e+00 - f1_40: 0.7143 - f1_41: 0.9945 - f1_44: 0.7410 - f1_45: 0.9904 - val_loss: 0.0508 - val_accuracy: 0.9857 - val_f1: 0.5082 - val_f1_1: 0.7926 - val_f1_2: 0.8146 - val_f1_3: 0.0000e+00 - val_f1_4: 0.6632 - val_f1_5: 0.5645 - val_f1_6: 0.8650 - val_f1_8: 0.0000e+00 - val_f1_9: 0.0000e+00 - val_f1_10: 0.0000e+00 - val_f1_11: 0.9661 - val_f1_12: 0.9468 - val_f1_13: 0.9749 - val_f1_14: 0.0000e+00 - val_f1_15: 0.0000e+00 - val_f1_16: 0.5837 - val_f1_17: 0.7409 - val_f1_18: 0.4771 - val_f1_19: 0.8708 - val_f1_20: 0.9494 - val_f1_21: 0.0000e+00 - val_f1_22: 0.9780 - val_f1_23: 0.0942 - val_f1_24: 0.8060 - val_f1_25: 0.0000e+00 - val_f1_26: 0.5581 - val_f1_27: 0.9327 - val_f1_29: 0.0000e+00 - val_f1_30: 0.6428 - val_f1_31: 0.7996 - val_f1_32: 0.9946 - val_f1_34: 0.0000e+00 - val_f1_35: 0.9469 - val_f1_36: 0.0000e+00 - val_f1_37: 0.0000e+00 - val_f1_38: 0.0000e+00 - val_f1_39: 0.0000e+00 - val_f1_40: 0.6954 - val_f1_41: 0.9824 - val_f1_44: 0.6947 - val_f1_45: 0.9936\n",
            "Epoch 40/40\n",
            "16/16 [==============================] - 32s 2s/step - loss: 0.0381 - accuracy: 0.9897 - f1: 0.5391 - f1_1: 0.8468 - f1_2: 0.8457 - f1_3: 0.0000e+00 - f1_4: 0.7927 - f1_5: 0.6437 - f1_6: 0.9209 - f1_8: 0.0000e+00 - f1_9: 0.0000e+00 - f1_10: 0.0000e+00 - f1_11: 0.9709 - f1_12: 0.9705 - f1_13: 0.9714 - f1_14: 0.0214 - f1_15: 0.0000e+00 - f1_16: 0.6925 - f1_17: 0.8554 - f1_18: 0.5555 - f1_19: 0.9219 - f1_20: 0.9543 - f1_21: 0.0000e+00 - f1_22: 0.9828 - f1_23: 0.0156 - f1_24: 0.8900 - f1_25: 0.0000e+00 - f1_26: 0.7042 - f1_27: 0.9408 - f1_29: 0.0000e+00 - f1_30: 0.7565 - f1_31: 0.8785 - f1_32: 0.9968 - f1_34: 0.0000e+00 - f1_35: 0.9665 - f1_36: 0.0000e+00 - f1_37: 0.0000e+00 - f1_38: 0.0000e+00 - f1_39: 0.0000e+00 - f1_40: 0.7355 - f1_41: 0.9951 - f1_44: 0.7454 - f1_45: 0.9910 - val_loss: 0.0496 - val_accuracy: 0.9861 - val_f1: 0.5149 - val_f1_1: 0.7949 - val_f1_2: 0.8201 - val_f1_3: 0.0000e+00 - val_f1_4: 0.6632 - val_f1_5: 0.5460 - val_f1_6: 0.8688 - val_f1_8: 0.0000e+00 - val_f1_9: 0.0000e+00 - val_f1_10: 0.0000e+00 - val_f1_11: 0.9666 - val_f1_12: 0.9468 - val_f1_13: 0.9694 - val_f1_14: 0.0000e+00 - val_f1_15: 0.0000e+00 - val_f1_16: 0.6443 - val_f1_17: 0.7635 - val_f1_18: 0.5362 - val_f1_19: 0.8715 - val_f1_20: 0.9491 - val_f1_21: 0.0202 - val_f1_22: 0.9788 - val_f1_23: 0.1532 - val_f1_24: 0.8099 - val_f1_25: 0.0000e+00 - val_f1_26: 0.5876 - val_f1_27: 0.9282 - val_f1_29: 0.0000e+00 - val_f1_30: 0.6686 - val_f1_31: 0.8123 - val_f1_32: 0.9946 - val_f1_34: 0.0000e+00 - val_f1_35: 0.9481 - val_f1_36: 0.0000e+00 - val_f1_37: 0.0000e+00 - val_f1_38: 0.0000e+00 - val_f1_39: 0.0000e+00 - val_f1_40: 0.6845 - val_f1_41: 0.9824 - val_f1_44: 0.6960 - val_f1_45: 0.9893\n"
          ]
        }
      ]
    },
    {
      "cell_type": "markdown",
      "source": [
        "# History f1 for class"
      ],
      "metadata": {
        "id": "hxtPdjUiuKr4"
      }
    },
    {
      "cell_type": "code",
      "source": [
        "f1_val_list = np.zeros(len(tag2index))\n",
        "for i in no_punct_indexes:\n",
        "  f1_val_list[i] = history.history['val_f1_{}'.format(i)][-1]\n",
        "f1_list = np.zeros(len(tag2index))\n",
        "for i in no_punct_indexes:\n",
        "  f1_list[i] = history.history['f1_{}'.format(i)][-1]"
      ],
      "metadata": {
        "id": "4_KTbH5qiUnj"
      },
      "execution_count": 147,
      "outputs": []
    },
    {
      "cell_type": "code",
      "source": [
        "for i in no_punct_indexes:\n",
        "  print('Tag: {} --- F1: {}'.format(index2tag[i], f1_list[i]))"
      ],
      "metadata": {
        "id": "ldEgVDA5mC2s",
        "colab": {
          "base_uri": "https://localhost:8080/"
        },
        "outputId": "2d316c7f-9156-470b-a1e7-cc7614579712"
      },
      "execution_count": 148,
      "outputs": [
        {
          "output_type": "stream",
          "name": "stdout",
          "text": [
            "Tag: VBP --- F1: 0.8468422889709473\n",
            "Tag: NN --- F1: 0.8457183241844177\n",
            "Tag: LS --- F1: 0.0\n",
            "Tag: WP --- F1: 0.7927243709564209\n",
            "Tag: VBG --- F1: 0.6436706781387329\n",
            "Tag: VB --- F1: 0.920914888381958\n",
            "Tag: WP$ --- F1: 0.0\n",
            "Tag: # --- F1: 0.0\n",
            "Tag: SYM --- F1: 0.0\n",
            "Tag: DT --- F1: 0.9709360599517822\n",
            "Tag: PRP$ --- F1: 0.9704599380493164\n",
            "Tag: PRP --- F1: 0.9713515639305115\n",
            "Tag: JJR --- F1: 0.02142856828868389\n",
            "Tag: RBS --- F1: 0.0\n",
            "Tag: WDT --- F1: 0.6924791932106018\n",
            "Tag: NNP --- F1: 0.8554279208183289\n",
            "Tag: EX --- F1: 0.5554788708686829\n",
            "Tag: CD --- F1: 0.9218987226486206\n",
            "Tag: IN --- F1: 0.9542962908744812\n",
            "Tag: JJS --- F1: 0.0\n",
            "Tag: CC --- F1: 0.9827914834022522\n",
            "Tag: RBR --- F1: 0.01562499813735485\n",
            "Tag: VBD --- F1: 0.8899809122085571\n",
            "Tag: -RRB- --- F1: 0.0\n",
            "Tag: RP --- F1: 0.7042356133460999\n",
            "Tag: VBZ --- F1: 0.9407545924186707\n",
            "Tag: UH --- F1: 0.0\n",
            "Tag: JJ --- F1: 0.7564661502838135\n",
            "Tag: NNS --- F1: 0.8785240650177002\n",
            "Tag: TO --- F1: 0.9967885613441467\n",
            "Tag: -LRB- --- F1: 0.0\n",
            "Tag: MD --- F1: 0.9665321707725525\n",
            "Tag: WRB --- F1: 0.0\n",
            "Tag: PDT --- F1: 0.0\n",
            "Tag: FW --- F1: 0.0\n",
            "Tag: NNPS --- F1: 0.0\n",
            "Tag: RB --- F1: 0.7354747653007507\n",
            "Tag: $ --- F1: 0.9950757622718811\n",
            "Tag: VBN --- F1: 0.7454406023025513\n",
            "Tag: POS --- F1: 0.9909838438034058\n"
          ]
        }
      ]
    },
    {
      "cell_type": "code",
      "source": [
        "for i in no_punct_indexes:\n",
        "  print('Tag: {} --- Val_F1: {}'.format(index2tag[i], f1_val_list[i]))"
      ],
      "metadata": {
        "id": "9V6FASVZkmKo",
        "colab": {
          "base_uri": "https://localhost:8080/"
        },
        "outputId": "301de13c-ec3a-44ba-e1cf-3ff724feb3a4"
      },
      "execution_count": 149,
      "outputs": [
        {
          "output_type": "stream",
          "name": "stdout",
          "text": [
            "Tag: VBP --- Val_F1: 0.7949159741401672\n",
            "Tag: NN --- Val_F1: 0.8200640082359314\n",
            "Tag: LS --- Val_F1: 0.0\n",
            "Tag: WP --- Val_F1: 0.6632034778594971\n",
            "Tag: VBG --- Val_F1: 0.5459580421447754\n",
            "Tag: VB --- Val_F1: 0.8688127994537354\n",
            "Tag: WP$ --- Val_F1: 0.0\n",
            "Tag: # --- Val_F1: 0.0\n",
            "Tag: SYM --- Val_F1: 0.0\n",
            "Tag: DT --- Val_F1: 0.9666126370429993\n",
            "Tag: PRP$ --- Val_F1: 0.9468235373497009\n",
            "Tag: PRP --- Val_F1: 0.9694107174873352\n",
            "Tag: JJR --- Val_F1: 0.0\n",
            "Tag: RBS --- Val_F1: 0.0\n",
            "Tag: WDT --- Val_F1: 0.6443347334861755\n",
            "Tag: NNP --- Val_F1: 0.7635376453399658\n",
            "Tag: EX --- Val_F1: 0.536245584487915\n",
            "Tag: CD --- Val_F1: 0.8714964389801025\n",
            "Tag: IN --- Val_F1: 0.9491329193115234\n",
            "Tag: JJS --- Val_F1: 0.020202018320560455\n",
            "Tag: CC --- Val_F1: 0.9788094162940979\n",
            "Tag: RBR --- Val_F1: 0.15324674546718597\n",
            "Tag: VBD --- Val_F1: 0.8099042773246765\n",
            "Tag: -RRB- --- Val_F1: 0.0\n",
            "Tag: RP --- Val_F1: 0.5876192450523376\n",
            "Tag: VBZ --- Val_F1: 0.9282264113426208\n",
            "Tag: UH --- Val_F1: 0.0\n",
            "Tag: JJ --- Val_F1: 0.6686109900474548\n",
            "Tag: NNS --- Val_F1: 0.8123034834861755\n",
            "Tag: TO --- Val_F1: 0.994636595249176\n",
            "Tag: -LRB- --- Val_F1: 0.0\n",
            "Tag: MD --- Val_F1: 0.9481189250946045\n",
            "Tag: WRB --- Val_F1: 0.0\n",
            "Tag: PDT --- Val_F1: 0.0\n",
            "Tag: FW --- Val_F1: 0.0\n",
            "Tag: NNPS --- Val_F1: 0.0\n",
            "Tag: RB --- Val_F1: 0.6844725012779236\n",
            "Tag: $ --- Val_F1: 0.9823914170265198\n",
            "Tag: VBN --- Val_F1: 0.6960094571113586\n",
            "Tag: POS --- Val_F1: 0.98931485414505\n"
          ]
        }
      ]
    },
    {
      "cell_type": "code",
      "source": [
        "plt.bar(np.arange(len(f1_val_list)),f1_val_list)\n",
        "plt.show()"
      ],
      "metadata": {
        "colab": {
          "base_uri": "https://localhost:8080/",
          "height": 265
        },
        "id": "XIuDhGE58wQk",
        "outputId": "cd7cdd4c-afcf-4c48-a24e-8f1cd14f63e9"
      },
      "execution_count": 150,
      "outputs": [
        {
          "output_type": "display_data",
          "data": {
            "image/png": "[encoded data removed]",
            "text/plain": [
              "<Figure size 432x288 with 1 Axes>"
            ]
          },
          "metadata": {
            "needs_background": "light"
          }
        }
      ]
    },
    {
      "cell_type": "code",
      "source": [
        "fig, axs = plt.subplots(2, figsize=(8,6))\n",
        "fig.suptitle('Tags distribution in train split vs val f1 score')\n",
        "axs[0].bar(np.arange(len(norm)),norm)\n",
        "axs[1].bar(np.arange(len(f1_list)),f1_list)"
      ],
      "metadata": {
        "colab": {
          "base_uri": "https://localhost:8080/",
          "height": 435
        },
        "id": "5Y7C-rfr8yGu",
        "outputId": "895a5339-6baf-4e2e-a5ef-e2db7fef8c69"
      },
      "execution_count": 219,
      "outputs": [
        {
          "output_type": "execute_result",
          "data": {
            "text/plain": [
              "<BarContainer object of 46 artists>"
            ]
          },
          "metadata": {},
          "execution_count": 219
        },
        {
          "output_type": "display_data",
          "data": {
            "image/png": "[encoded data removed]",
            "text/plain": [
              "<Figure size 576x432 with 2 Axes>"
            ]
          },
          "metadata": {
            "needs_background": "light"
          }
        }
      ]
    },
    {
      "cell_type": "code",
      "source": [
        "from pylab import rcParams\n",
        "plt.bar(np.arange(len(total_val_tags)),total_val_tags*f1_val_list)\n",
        "rcParams['figure.figsize'] = 11, 11\n",
        "plt.title('Total validation tags per class multiplied by val f1 scores')\n",
        "plt.show()"
      ],
      "metadata": {
        "colab": {
          "base_uri": "https://localhost:8080/",
          "height": 662
        },
        "id": "XpicISoW9JI3",
        "outputId": "5896f3ff-65fb-459f-94d2-b13850517ab9"
      },
      "execution_count": 185,
      "outputs": [
        {
          "output_type": "display_data",
          "data": {
            "image/png": "[encoded data removed]",
            "text/plain": [
              "<Figure size 792x792 with 1 Axes>"
            ]
          },
          "metadata": {
            "needs_background": "light"
          }
        }
      ]
    },
    {
      "cell_type": "markdown",
      "source": [
        "# Test and Evaluation"
      ],
      "metadata": {
        "id": "2vGOkq00DlA3"
      }
    },
    {
      "cell_type": "code",
      "source": [
        "test_sentences_X,  test_tags_y = [], []\n",
        "\n",
        "for s in test_sentences:\n",
        "    s_int = []\n",
        "    for w in s:\n",
        "        try:\n",
        "            s_int.append(word_index[w.lower()])\n",
        "        except KeyError:\n",
        "            s_int.append(word_index['-OOV-'])\n",
        " \n",
        "    test_sentences_X.append(s_int)\n",
        "\n",
        "for s in test_tags:\n",
        "    test_tags_y.append([tag2index[t] for t in s])\n",
        "\n",
        "test_sentences_X = pad_sequences(test_sentences_X, maxlen=MAX_LENGTH, padding='post')\n",
        "\n",
        "test_tags_y = pad_sequences(test_tags_y, maxlen=MAX_LENGTH, padding='post')"
      ],
      "metadata": {
        "id": "sUZ9F2amtq-V"
      },
      "execution_count": 176,
      "outputs": []
    },
    {
      "cell_type": "code",
      "source": [
        "y_val_pred = model.predict(test_sentences_X)\n",
        "\n",
        "y_pred = np.zeros((y_val_pred.shape[0], y_val_pred.shape[1]), dtype=int)\n",
        "for i in range(len(y_val_pred)):\n",
        "  for j in range(len(y_val_pred[i])):\n",
        "    y_pred[i][j] = np.argmax(y_val_pred[i][j])"
      ],
      "metadata": {
        "id": "b7uGU-eftvUI"
      },
      "execution_count": 177,
      "outputs": []
    },
    {
      "cell_type": "code",
      "source": [
        "lrb = [tag2index['-LRB-']]\n",
        "rrb = [tag2index['-RRB-']]\n",
        "canc = [tag2index['#']]\n",
        "dol = [tag2index['$']]\n",
        "\n",
        "punct_cat_classes = to_categorical([point, virg, weird_apex, single_apex, two_dots, pad, lrb, rrb, canc, dol], len(tag2index))\n",
        "\n",
        "cum_tags = np.zeros(len(tag2index))\n",
        "for i in punct_cat_classes:\n",
        "  cum_tags += i[0]\n",
        "where_tags = np.where(np.logical_not(cum_tags))\n",
        "no_punct_indexes = where_tags[0]"
      ],
      "metadata": {
        "id": "OpoOertF4Hzx"
      },
      "execution_count": 178,
      "outputs": []
    },
    {
      "cell_type": "markdown",
      "source": [
        "Using the f1_score from sklearn"
      ],
      "metadata": {
        "id": "2_DoVNlxTDY2"
      }
    },
    {
      "cell_type": "code",
      "source": [
        "from sklearn.metrics import f1_score\n",
        "\n",
        "tags_flat = test_tags_y.flatten()\n",
        "pred_flat = y_pred.flatten()\n",
        "\n",
        "f1_model = f1_score(tags_flat, pred_flat, labels = no_punct_indexes, average='macro', zero_division=0)\n",
        "f1_model"
      ],
      "metadata": {
        "id": "JWRGwHcaTeAh",
        "colab": {
          "base_uri": "https://localhost:8080/"
        },
        "outputId": "c2c47806-8394-42ad-d1ea-f92407e305e3"
      },
      "execution_count": 242,
      "outputs": [
        {
          "output_type": "execute_result",
          "data": {
            "text/plain": [
              "0.5770281111991045"
            ]
          },
          "metadata": {},
          "execution_count": 242
        }
      ]
    },
    {
      "cell_type": "markdown",
      "source": [
        "# Infos"
      ],
      "metadata": {
        "id": "5NOy6OW7uRTa"
      }
    },
    {
      "cell_type": "markdown",
      "metadata": {
        "id": "ndqb8pzkgRAi"
      },
      "source": [
        "# FAQs\n",
        "\n",
        "You don't have to compute the whole set of new Glove Embeddings, you must load the pre-trained ones.\n",
        "\n",
        "For the baseline, it must have only two trainable layers: the BiLSTM and the Dense/FC one. The Dense layer is the \"classification head\" with softmax activation. You must not add an additional dense layer on top of the baseline. You can use the embedding layer before the BiLSTM, but it must be not trainable.\n",
        "\n",
        "For the application of the Dense Layer, it is recommended to use a Time-Distributed Dense. In any case, doing otherwise is NOT considered an error.\n",
        "\n",
        "There is a typo regarding the vocabularies for OOV: V4=V1+OOV1+OOV2+OOV3\n",
        "\n",
        "Since in this specific case we already know the test set, it is possible to use an Embeddings Matrix with all the words from each split, and without any word that is not present in the documents. It's important to generate the OOVs embeddings separately, but it's not a problem to put them in the same matrix: the test set OOVs will never be used during training and so they won't affect the rest of the network in any way.\n",
        "\n",
        "Evaluation: for the early stopping you need to use accuracy since it's not possible to distribute and aggregate F1 across batches, but for any other evaluation, including choosing the best model on validation set, you must use F1.\n",
        "\n",
        "Punctuation: you must keep the punctuation in the documents, since it may be helpful for the model, you simply must ignore it when you perform the evaluation of the model, not considering the punctuation classes among the ones you use to compute F1 macro score.\n"
      ]
    }
  ]
}